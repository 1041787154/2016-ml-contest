{
 "cells": [
  {
   "cell_type": "markdown",
   "metadata": {},
   "source": [
    "## Boosted regression trees\n",
    "Trying boosted regression trees in the gbm package, including lag and lead for all variables except depth.\n",
    "\n",
    "[This is me](https://www.linkedin.com/in/%C3%B8ystein-s%C3%B8rensen-4a877831/)"
   ]
  },
  {
   "cell_type": "markdown",
   "metadata": {},
   "source": [
    "## Data load"
   ]
  },
  {
   "cell_type": "code",
   "execution_count": 1,
   "metadata": {
    "collapsed": false
   },
   "outputs": [],
   "source": [
    "trainingData <- read.csv(\"../training_data.csv\")\n",
    "testData <- read.csv(\"../validation_data_nofacies.csv\")\n",
    "\n",
    "# Convert the class labels to factors\n",
    "trainingData$Facies <- as.factor(trainingData$Facies)\n",
    "\n",
    "# Add a Facies column to test data\n",
    "testData <- cbind(Facies = as.factor(-1), testData)"
   ]
  },
  {
   "cell_type": "markdown",
   "metadata": {},
   "source": [
    "## Some feature engineering\n",
    "Adding lead and lag for every row. In the top and bottom, I replace NA with the current value."
   ]
  },
  {
   "cell_type": "code",
   "execution_count": 2,
   "metadata": {
    "collapsed": false
   },
   "outputs": [],
   "source": [
    "# Reorganizing the columns, putting the columns to have lag/lead at the end\n",
    "order <- c(\"Facies\", \"Well.Name\", \"Depth\", \"RELPOS\", \"Formation\", \"GR\", \"ILD_log10\", \"DeltaPHI\", \"PHIND\", \"PE\", \"NM_M\")\n",
    "\n",
    "trainingData <- trainingData[, order]\n",
    "testData <- testData[, order]"
   ]
  },
  {
   "cell_type": "markdown",
   "metadata": {},
   "source": [
    "Printing out the data frame to confirm that the transformation was correct."
   ]
  },
  {
   "cell_type": "code",
   "execution_count": 3,
   "metadata": {
    "collapsed": false
   },
   "outputs": [
    {
     "data": {
      "text/html": [
       "<table>\n",
       "<thead><tr><th scope=col>Facies</th><th scope=col>Well.Name</th><th scope=col>Depth</th><th scope=col>RELPOS</th><th scope=col>Formation</th><th scope=col>GR</th><th scope=col>ILD_log10</th><th scope=col>DeltaPHI</th><th scope=col>PHIND</th><th scope=col>PE</th><th scope=col>NM_M</th></tr></thead>\n",
       "<tbody>\n",
       "\t<tr><td>3        </td><td>SHRIMPLIN</td><td>2793.0   </td><td>1.000    </td><td>A1 SH    </td><td>77.45    </td><td>0.664    </td><td> 9.9     </td><td>11.915   </td><td>4.6      </td><td>1        </td></tr>\n",
       "\t<tr><td>3        </td><td>SHRIMPLIN</td><td>2793.5   </td><td>0.979    </td><td>A1 SH    </td><td>78.26    </td><td>0.661    </td><td>14.2     </td><td>12.565   </td><td>4.1      </td><td>1        </td></tr>\n",
       "\t<tr><td>3        </td><td>SHRIMPLIN</td><td>2794.0   </td><td>0.957    </td><td>A1 SH    </td><td>79.05    </td><td>0.658    </td><td>14.8     </td><td>13.050   </td><td>3.6      </td><td>1        </td></tr>\n",
       "\t<tr><td>3        </td><td>SHRIMPLIN</td><td>2794.5   </td><td>0.936    </td><td>A1 SH    </td><td>86.10    </td><td>0.655    </td><td>13.9     </td><td>13.115   </td><td>3.5      </td><td>1        </td></tr>\n",
       "\t<tr><td>3        </td><td>SHRIMPLIN</td><td>2795.0   </td><td>0.915    </td><td>A1 SH    </td><td>74.58    </td><td>0.647    </td><td>13.5     </td><td>13.300   </td><td>3.4      </td><td>1        </td></tr>\n",
       "\t<tr><td>3        </td><td>SHRIMPLIN</td><td>2795.5   </td><td>0.894    </td><td>A1 SH    </td><td>73.97    </td><td>0.636    </td><td>14.0     </td><td>13.385   </td><td>3.6      </td><td>1        </td></tr>\n",
       "</tbody>\n",
       "</table>\n"
      ],
      "text/latex": [
       "\\begin{tabular}{r|lllllllllll}\n",
       " Facies & Well.Name & Depth & RELPOS & Formation & GR & ILD\\_log10 & DeltaPHI & PHIND & PE & NM\\_M\\\\\n",
       "\\hline\n",
       "\t 3         & SHRIMPLIN & 2793.0    & 1.000     & A1 SH     & 77.45     & 0.664     &  9.9      & 11.915    & 4.6       & 1        \\\\\n",
       "\t 3         & SHRIMPLIN & 2793.5    & 0.979     & A1 SH     & 78.26     & 0.661     & 14.2      & 12.565    & 4.1       & 1        \\\\\n",
       "\t 3         & SHRIMPLIN & 2794.0    & 0.957     & A1 SH     & 79.05     & 0.658     & 14.8      & 13.050    & 3.6       & 1        \\\\\n",
       "\t 3         & SHRIMPLIN & 2794.5    & 0.936     & A1 SH     & 86.10     & 0.655     & 13.9      & 13.115    & 3.5       & 1        \\\\\n",
       "\t 3         & SHRIMPLIN & 2795.0    & 0.915     & A1 SH     & 74.58     & 0.647     & 13.5      & 13.300    & 3.4       & 1        \\\\\n",
       "\t 3         & SHRIMPLIN & 2795.5    & 0.894     & A1 SH     & 73.97     & 0.636     & 14.0      & 13.385    & 3.6       & 1        \\\\\n",
       "\\end{tabular}\n"
      ],
      "text/markdown": [
       "\n",
       "Facies | Well.Name | Depth | RELPOS | Formation | GR | ILD_log10 | DeltaPHI | PHIND | PE | NM_M | \n",
       "|---|---|---|---|---|---|\n",
       "| 3         | SHRIMPLIN | 2793.0    | 1.000     | A1 SH     | 77.45     | 0.664     |  9.9      | 11.915    | 4.6       | 1         | \n",
       "| 3         | SHRIMPLIN | 2793.5    | 0.979     | A1 SH     | 78.26     | 0.661     | 14.2      | 12.565    | 4.1       | 1         | \n",
       "| 3         | SHRIMPLIN | 2794.0    | 0.957     | A1 SH     | 79.05     | 0.658     | 14.8      | 13.050    | 3.6       | 1         | \n",
       "| 3         | SHRIMPLIN | 2794.5    | 0.936     | A1 SH     | 86.10     | 0.655     | 13.9      | 13.115    | 3.5       | 1         | \n",
       "| 3         | SHRIMPLIN | 2795.0    | 0.915     | A1 SH     | 74.58     | 0.647     | 13.5      | 13.300    | 3.4       | 1         | \n",
       "| 3         | SHRIMPLIN | 2795.5    | 0.894     | A1 SH     | 73.97     | 0.636     | 14.0      | 13.385    | 3.6       | 1         | \n",
       "\n",
       "\n"
      ],
      "text/plain": [
       "  Facies Well.Name Depth  RELPOS Formation GR    ILD_log10 DeltaPHI PHIND  PE \n",
       "1 3      SHRIMPLIN 2793.0 1.000  A1 SH     77.45 0.664      9.9     11.915 4.6\n",
       "2 3      SHRIMPLIN 2793.5 0.979  A1 SH     78.26 0.661     14.2     12.565 4.1\n",
       "3 3      SHRIMPLIN 2794.0 0.957  A1 SH     79.05 0.658     14.8     13.050 3.6\n",
       "4 3      SHRIMPLIN 2794.5 0.936  A1 SH     86.10 0.655     13.9     13.115 3.5\n",
       "5 3      SHRIMPLIN 2795.0 0.915  A1 SH     74.58 0.647     13.5     13.300 3.4\n",
       "6 3      SHRIMPLIN 2795.5 0.894  A1 SH     73.97 0.636     14.0     13.385 3.6\n",
       "  NM_M\n",
       "1 1   \n",
       "2 1   \n",
       "3 1   \n",
       "4 1   \n",
       "5 1   \n",
       "6 1   "
      ]
     },
     "metadata": {},
     "output_type": "display_data"
    },
    {
     "data": {
      "text/html": [
       "<table>\n",
       "<thead><tr><th scope=col>Facies</th><th scope=col>Well.Name</th><th scope=col>Depth</th><th scope=col>RELPOS</th><th scope=col>Formation</th><th scope=col>GR</th><th scope=col>ILD_log10</th><th scope=col>DeltaPHI</th><th scope=col>PHIND</th><th scope=col>PE</th><th scope=col>NM_M</th></tr></thead>\n",
       "<tbody>\n",
       "\t<tr><td>-1    </td><td>STUART</td><td>2808.0</td><td>1.000 </td><td>A1 SH </td><td>66.276</td><td>0.630 </td><td>3.3   </td><td>10.65 </td><td>3.591 </td><td>1     </td></tr>\n",
       "\t<tr><td>-1    </td><td>STUART</td><td>2808.5</td><td>0.978 </td><td>A1 SH </td><td>77.252</td><td>0.585 </td><td>6.5   </td><td>11.95 </td><td>3.341 </td><td>1     </td></tr>\n",
       "\t<tr><td>-1    </td><td>STUART</td><td>2809.0</td><td>0.956 </td><td>A1 SH </td><td>82.899</td><td>0.566 </td><td>9.4   </td><td>13.60 </td><td>3.064 </td><td>1     </td></tr>\n",
       "\t<tr><td>-1    </td><td>STUART</td><td>2809.5</td><td>0.933 </td><td>A1 SH </td><td>80.671</td><td>0.593 </td><td>9.5   </td><td>13.25 </td><td>2.977 </td><td>1     </td></tr>\n",
       "\t<tr><td>-1    </td><td>STUART</td><td>2810.0</td><td>0.911 </td><td>A1 SH </td><td>75.971</td><td>0.638 </td><td>8.7   </td><td>12.35 </td><td>3.020 </td><td>1     </td></tr>\n",
       "\t<tr><td>-1    </td><td>STUART</td><td>2810.5</td><td>0.889 </td><td>A1 SH </td><td>73.955</td><td>0.667 </td><td>6.9   </td><td>12.25 </td><td>3.086 </td><td>1     </td></tr>\n",
       "</tbody>\n",
       "</table>\n"
      ],
      "text/latex": [
       "\\begin{tabular}{r|lllllllllll}\n",
       " Facies & Well.Name & Depth & RELPOS & Formation & GR & ILD\\_log10 & DeltaPHI & PHIND & PE & NM\\_M\\\\\n",
       "\\hline\n",
       "\t -1     & STUART & 2808.0 & 1.000  & A1 SH  & 66.276 & 0.630  & 3.3    & 10.65  & 3.591  & 1     \\\\\n",
       "\t -1     & STUART & 2808.5 & 0.978  & A1 SH  & 77.252 & 0.585  & 6.5    & 11.95  & 3.341  & 1     \\\\\n",
       "\t -1     & STUART & 2809.0 & 0.956  & A1 SH  & 82.899 & 0.566  & 9.4    & 13.60  & 3.064  & 1     \\\\\n",
       "\t -1     & STUART & 2809.5 & 0.933  & A1 SH  & 80.671 & 0.593  & 9.5    & 13.25  & 2.977  & 1     \\\\\n",
       "\t -1     & STUART & 2810.0 & 0.911  & A1 SH  & 75.971 & 0.638  & 8.7    & 12.35  & 3.020  & 1     \\\\\n",
       "\t -1     & STUART & 2810.5 & 0.889  & A1 SH  & 73.955 & 0.667  & 6.9    & 12.25  & 3.086  & 1     \\\\\n",
       "\\end{tabular}\n"
      ],
      "text/markdown": [
       "\n",
       "Facies | Well.Name | Depth | RELPOS | Formation | GR | ILD_log10 | DeltaPHI | PHIND | PE | NM_M | \n",
       "|---|---|---|---|---|---|\n",
       "| -1     | STUART | 2808.0 | 1.000  | A1 SH  | 66.276 | 0.630  | 3.3    | 10.65  | 3.591  | 1      | \n",
       "| -1     | STUART | 2808.5 | 0.978  | A1 SH  | 77.252 | 0.585  | 6.5    | 11.95  | 3.341  | 1      | \n",
       "| -1     | STUART | 2809.0 | 0.956  | A1 SH  | 82.899 | 0.566  | 9.4    | 13.60  | 3.064  | 1      | \n",
       "| -1     | STUART | 2809.5 | 0.933  | A1 SH  | 80.671 | 0.593  | 9.5    | 13.25  | 2.977  | 1      | \n",
       "| -1     | STUART | 2810.0 | 0.911  | A1 SH  | 75.971 | 0.638  | 8.7    | 12.35  | 3.020  | 1      | \n",
       "| -1     | STUART | 2810.5 | 0.889  | A1 SH  | 73.955 | 0.667  | 6.9    | 12.25  | 3.086  | 1      | \n",
       "\n",
       "\n"
      ],
      "text/plain": [
       "  Facies Well.Name Depth  RELPOS Formation GR     ILD_log10 DeltaPHI PHIND\n",
       "1 -1     STUART    2808.0 1.000  A1 SH     66.276 0.630     3.3      10.65\n",
       "2 -1     STUART    2808.5 0.978  A1 SH     77.252 0.585     6.5      11.95\n",
       "3 -1     STUART    2809.0 0.956  A1 SH     82.899 0.566     9.4      13.60\n",
       "4 -1     STUART    2809.5 0.933  A1 SH     80.671 0.593     9.5      13.25\n",
       "5 -1     STUART    2810.0 0.911  A1 SH     75.971 0.638     8.7      12.35\n",
       "6 -1     STUART    2810.5 0.889  A1 SH     73.955 0.667     6.9      12.25\n",
       "  PE    NM_M\n",
       "1 3.591 1   \n",
       "2 3.341 1   \n",
       "3 3.064 1   \n",
       "4 2.977 1   \n",
       "5 3.020 1   \n",
       "6 3.086 1   "
      ]
     },
     "metadata": {},
     "output_type": "display_data"
    }
   ],
   "source": [
    "head(trainingData)\n",
    "head(testData)"
   ]
  },
  {
   "cell_type": "code",
   "execution_count": 22,
   "metadata": {
    "collapsed": false
   },
   "outputs": [],
   "source": [
    "library(dplyr)\n",
    "\n",
    "featureEng <- function(x) {\n",
    "    x <- x %>%    \n",
    "        group_by(Well.Name) %>%\n",
    "        mutate(\n",
    "            prev.Formation = lag(Formation), prev2.Formation = lag(Formation, 2),\n",
    "            next.Formation = lead(Formation), next2.Formation = lead(Formation, 2),\n",
    "            prev.GR = lag(GR), prev2.GR = lag(GR, 2), \n",
    "            next.GR = lead(GR), next2.GR = lead(GR, 2),\n",
    "            prev.ILD_log10 = lag(ILD_log10), prev2.ILD_log10 = lag(ILD_log10, 2),\n",
    "            next.ILD_log10 = lead(ILD_log10), next2.ILD_log10 = lead(ILD_log10, 2),\n",
    "            prev.DeltaPHI = lag(DeltaPHI), prev2.DeltaPHI = lag(DeltaPHI, 2), \n",
    "            next.DeltaPHI = lead(DeltaPHI), next2.DeltaPHI = lead(DeltaPHI, 2),\n",
    "            prev.PHIND = lag(PHIND), prev2.PHIND = lag(PHIND, 2), \n",
    "            next.PHIND = lead(PHIND), next2.PHIND = lead(PHIND, 2),\n",
    "            prev.PE = lag(PE), prev2.PE = lag(PE, 2), \n",
    "            next.PE = lead(PE), next2.PE = lead(PE, 2),\n",
    "            prev.NM_M = lag(NM_M), prev2.NM_M = lag(NM_M, 2), \n",
    "            next.NM_M = lead(NM_M), next2.NM_M = lead(NM_M, 2)\n",
    "        )        \n",
    "\n",
    "    vec <- 5:11 # The columns which have lag/lead\n",
    "    vec2 <- ((vec + 7) + seq(from = 0, length.out = 7, by = 3))\n",
    "    for(i in seq_along(vec)) {         \n",
    "        rows <- is.na(x[, vec2[i]])\n",
    "        x[rows, vec2[i]] <- x[rows, vec[i]]        \n",
    "        rows <- is.na(x[, vec2[i] + 1])\n",
    "        x[rows, vec2[i] + 1] <- x[rows, vec[i]]        \n",
    "        rows <- is.na(x[, vec2[i] + 2])\n",
    "        x[rows, vec2[i] + 2] <- x[rows, vec[i]]        \n",
    "        rows <- is.na(x[, vec2[i] + 3])\n",
    "        x[rows, vec2[i] + 3] <- x[rows, vec[i]]\n",
    "        }\n",
    "    return(x)\n",
    "}\n"
   ]
  },
  {
   "cell_type": "code",
   "execution_count": 5,
   "metadata": {
    "collapsed": false
   },
   "outputs": [],
   "source": [
    "trainingData <- featureEng(trainingData)\n",
    "testData <- featureEng(testData)"
   ]
  },
  {
   "cell_type": "code",
   "execution_count": 6,
   "metadata": {
    "collapsed": false
   },
   "outputs": [
    {
     "data": {
      "text/html": [
       "<table>\n",
       "<thead><tr><th scope=col>Facies</th><th scope=col>Well.Name</th><th scope=col>Depth</th><th scope=col>RELPOS</th><th scope=col>Formation</th><th scope=col>GR</th><th scope=col>ILD_log10</th><th scope=col>DeltaPHI</th><th scope=col>PHIND</th><th scope=col>PE</th><th scope=col>...</th><th scope=col>next.PHIND</th><th scope=col>next2.PHIND</th><th scope=col>prev.PE</th><th scope=col>prev2.PE</th><th scope=col>next.PE</th><th scope=col>next2.PE</th><th scope=col>prev.NM_M</th><th scope=col>prev2.NM_M</th><th scope=col>next.NM_M</th><th scope=col>next2.NM_M</th></tr></thead>\n",
       "<tbody>\n",
       "\t<tr><td>3        </td><td>SHRIMPLIN</td><td>2793.0   </td><td>1.000    </td><td>A1 SH    </td><td>77.45    </td><td>0.664    </td><td> 9.9     </td><td>11.915   </td><td>4.6      </td><td>...      </td><td>12.565   </td><td>13.050   </td><td>4.6      </td><td>4.6      </td><td>4.1      </td><td>3.6      </td><td>1        </td><td>1        </td><td>1        </td><td>1        </td></tr>\n",
       "\t<tr><td>3        </td><td>SHRIMPLIN</td><td>2793.5   </td><td>0.979    </td><td>A1 SH    </td><td>78.26    </td><td>0.661    </td><td>14.2     </td><td>12.565   </td><td>4.1      </td><td>...      </td><td>13.050   </td><td>13.115   </td><td>4.6      </td><td>4.1      </td><td>3.6      </td><td>3.5      </td><td>1        </td><td>1        </td><td>1        </td><td>1        </td></tr>\n",
       "\t<tr><td>3        </td><td>SHRIMPLIN</td><td>2794.0   </td><td>0.957    </td><td>A1 SH    </td><td>79.05    </td><td>0.658    </td><td>14.8     </td><td>13.050   </td><td>3.6      </td><td>...      </td><td>13.115   </td><td>13.300   </td><td>4.1      </td><td>4.6      </td><td>3.5      </td><td>3.4      </td><td>1        </td><td>1        </td><td>1        </td><td>1        </td></tr>\n",
       "\t<tr><td>3        </td><td>SHRIMPLIN</td><td>2794.5   </td><td>0.936    </td><td>A1 SH    </td><td>86.10    </td><td>0.655    </td><td>13.9     </td><td>13.115   </td><td>3.5      </td><td>...      </td><td>13.300   </td><td>13.385   </td><td>3.6      </td><td>4.1      </td><td>3.4      </td><td>3.6      </td><td>1        </td><td>1        </td><td>1        </td><td>1        </td></tr>\n",
       "\t<tr><td>3        </td><td>SHRIMPLIN</td><td>2795.0   </td><td>0.915    </td><td>A1 SH    </td><td>74.58    </td><td>0.647    </td><td>13.5     </td><td>13.300   </td><td>3.4      </td><td>...      </td><td>13.385   </td><td>13.930   </td><td>3.5      </td><td>3.6      </td><td>3.6      </td><td>3.7      </td><td>1        </td><td>1        </td><td>1        </td><td>1        </td></tr>\n",
       "\t<tr><td>3        </td><td>SHRIMPLIN</td><td>2795.5   </td><td>0.894    </td><td>A1 SH    </td><td>73.97    </td><td>0.636    </td><td>14.0     </td><td>13.385   </td><td>3.6      </td><td>...      </td><td>13.930   </td><td>13.920   </td><td>3.4      </td><td>3.5      </td><td>3.7      </td><td>3.5      </td><td>1        </td><td>1        </td><td>1        </td><td>1        </td></tr>\n",
       "</tbody>\n",
       "</table>\n"
      ],
      "text/latex": [
       "\\begin{tabular}{r|lllllllllllllllllllllllllllllllllllllll}\n",
       " Facies & Well.Name & Depth & RELPOS & Formation & GR & ILD\\_log10 & DeltaPHI & PHIND & PE & ... & next.PHIND & next2.PHIND & prev.PE & prev2.PE & next.PE & next2.PE & prev.NM\\_M & prev2.NM\\_M & next.NM\\_M & next2.NM\\_M\\\\\n",
       "\\hline\n",
       "\t 3         & SHRIMPLIN & 2793.0    & 1.000     & A1 SH     & 77.45     & 0.664     &  9.9      & 11.915    & 4.6       & ...       & 12.565    & 13.050    & 4.6       & 4.6       & 4.1       & 3.6       & 1         & 1         & 1         & 1        \\\\\n",
       "\t 3         & SHRIMPLIN & 2793.5    & 0.979     & A1 SH     & 78.26     & 0.661     & 14.2      & 12.565    & 4.1       & ...       & 13.050    & 13.115    & 4.6       & 4.1       & 3.6       & 3.5       & 1         & 1         & 1         & 1        \\\\\n",
       "\t 3         & SHRIMPLIN & 2794.0    & 0.957     & A1 SH     & 79.05     & 0.658     & 14.8      & 13.050    & 3.6       & ...       & 13.115    & 13.300    & 4.1       & 4.6       & 3.5       & 3.4       & 1         & 1         & 1         & 1        \\\\\n",
       "\t 3         & SHRIMPLIN & 2794.5    & 0.936     & A1 SH     & 86.10     & 0.655     & 13.9      & 13.115    & 3.5       & ...       & 13.300    & 13.385    & 3.6       & 4.1       & 3.4       & 3.6       & 1         & 1         & 1         & 1        \\\\\n",
       "\t 3         & SHRIMPLIN & 2795.0    & 0.915     & A1 SH     & 74.58     & 0.647     & 13.5      & 13.300    & 3.4       & ...       & 13.385    & 13.930    & 3.5       & 3.6       & 3.6       & 3.7       & 1         & 1         & 1         & 1        \\\\\n",
       "\t 3         & SHRIMPLIN & 2795.5    & 0.894     & A1 SH     & 73.97     & 0.636     & 14.0      & 13.385    & 3.6       & ...       & 13.930    & 13.920    & 3.4       & 3.5       & 3.7       & 3.5       & 1         & 1         & 1         & 1        \\\\\n",
       "\\end{tabular}\n"
      ],
      "text/markdown": [
       "\n",
       "Facies | Well.Name | Depth | RELPOS | Formation | GR | ILD_log10 | DeltaPHI | PHIND | PE | ... | next.PHIND | next2.PHIND | prev.PE | prev2.PE | next.PE | next2.PE | prev.NM_M | prev2.NM_M | next.NM_M | next2.NM_M | \n",
       "|---|---|---|---|---|---|\n",
       "| 3         | SHRIMPLIN | 2793.0    | 1.000     | A1 SH     | 77.45     | 0.664     |  9.9      | 11.915    | 4.6       | ...       | 12.565    | 13.050    | 4.6       | 4.6       | 4.1       | 3.6       | 1         | 1         | 1         | 1         | \n",
       "| 3         | SHRIMPLIN | 2793.5    | 0.979     | A1 SH     | 78.26     | 0.661     | 14.2      | 12.565    | 4.1       | ...       | 13.050    | 13.115    | 4.6       | 4.1       | 3.6       | 3.5       | 1         | 1         | 1         | 1         | \n",
       "| 3         | SHRIMPLIN | 2794.0    | 0.957     | A1 SH     | 79.05     | 0.658     | 14.8      | 13.050    | 3.6       | ...       | 13.115    | 13.300    | 4.1       | 4.6       | 3.5       | 3.4       | 1         | 1         | 1         | 1         | \n",
       "| 3         | SHRIMPLIN | 2794.5    | 0.936     | A1 SH     | 86.10     | 0.655     | 13.9      | 13.115    | 3.5       | ...       | 13.300    | 13.385    | 3.6       | 4.1       | 3.4       | 3.6       | 1         | 1         | 1         | 1         | \n",
       "| 3         | SHRIMPLIN | 2795.0    | 0.915     | A1 SH     | 74.58     | 0.647     | 13.5      | 13.300    | 3.4       | ...       | 13.385    | 13.930    | 3.5       | 3.6       | 3.6       | 3.7       | 1         | 1         | 1         | 1         | \n",
       "| 3         | SHRIMPLIN | 2795.5    | 0.894     | A1 SH     | 73.97     | 0.636     | 14.0      | 13.385    | 3.6       | ...       | 13.930    | 13.920    | 3.4       | 3.5       | 3.7       | 3.5       | 1         | 1         | 1         | 1         | \n",
       "\n",
       "\n"
      ],
      "text/plain": [
       "  Facies Well.Name Depth  RELPOS Formation GR    ILD_log10 DeltaPHI PHIND  PE \n",
       "1 3      SHRIMPLIN 2793.0 1.000  A1 SH     77.45 0.664      9.9     11.915 4.6\n",
       "2 3      SHRIMPLIN 2793.5 0.979  A1 SH     78.26 0.661     14.2     12.565 4.1\n",
       "3 3      SHRIMPLIN 2794.0 0.957  A1 SH     79.05 0.658     14.8     13.050 3.6\n",
       "4 3      SHRIMPLIN 2794.5 0.936  A1 SH     86.10 0.655     13.9     13.115 3.5\n",
       "5 3      SHRIMPLIN 2795.0 0.915  A1 SH     74.58 0.647     13.5     13.300 3.4\n",
       "6 3      SHRIMPLIN 2795.5 0.894  A1 SH     73.97 0.636     14.0     13.385 3.6\n",
       "  ... next.PHIND next2.PHIND prev.PE prev2.PE next.PE next2.PE prev.NM_M\n",
       "1 ... 12.565     13.050      4.6     4.6      4.1     3.6      1        \n",
       "2 ... 13.050     13.115      4.6     4.1      3.6     3.5      1        \n",
       "3 ... 13.115     13.300      4.1     4.6      3.5     3.4      1        \n",
       "4 ... 13.300     13.385      3.6     4.1      3.4     3.6      1        \n",
       "5 ... 13.385     13.930      3.5     3.6      3.6     3.7      1        \n",
       "6 ... 13.930     13.920      3.4     3.5      3.7     3.5      1        \n",
       "  prev2.NM_M next.NM_M next2.NM_M\n",
       "1 1          1         1         \n",
       "2 1          1         1         \n",
       "3 1          1         1         \n",
       "4 1          1         1         \n",
       "5 1          1         1         \n",
       "6 1          1         1         "
      ]
     },
     "metadata": {},
     "output_type": "display_data"
    }
   ],
   "source": [
    "head(trainingData)"
   ]
  },
  {
   "cell_type": "markdown",
   "metadata": {},
   "source": [
    "## Multinomial boosted tree model"
   ]
  },
  {
   "cell_type": "markdown",
   "metadata": {},
   "source": [
    "Performing my own cross-validation procedure, in order to use the F1 measure as metric."
   ]
  },
  {
   "cell_type": "code",
   "execution_count": 7,
   "metadata": {
    "collapsed": false
   },
   "outputs": [
    {
     "data": {
      "text/plain": [
       "Facies ~ Depth + RELPOS + Formation + GR + ILD_log10 + DeltaPHI + \n",
       "    PHIND + PE + NM_M + prev.Formation + prev2.Formation + next.Formation + \n",
       "    next2.Formation + prev.GR + prev2.GR + next.GR + next2.GR + \n",
       "    prev.ILD_log10 + prev2.ILD_log10 + next.ILD_log10 + next2.ILD_log10 + \n",
       "    prev.DeltaPHI + prev2.DeltaPHI + next.DeltaPHI + next2.DeltaPHI + \n",
       "    prev.PHIND + prev2.PHIND + next.PHIND + next2.PHIND + prev.PE + \n",
       "    prev2.PE + next.PE + next2.PE + prev.NM_M + prev2.NM_M + \n",
       "    next.NM_M + next2.NM_M"
      ]
     },
     "metadata": {},
     "output_type": "display_data"
    }
   ],
   "source": [
    "form <- as.formula(paste(\"Facies ~ \", paste(colnames(trainingData[, -(1:2)]), collapse = \"+\"), sep = \" \"))\n",
    "form"
   ]
  },
  {
   "cell_type": "code",
   "execution_count": 23,
   "metadata": {
    "collapsed": false
   },
   "outputs": [],
   "source": [
    "library(PerfMeas) # Contains the F1 metric\n",
    "library(gbm) # Using the gbm package\n",
    "library(caret) # For cross-validation\n",
    "\n",
    "nFolds <- 10\n",
    "crossVal <- createFolds(trainingData$Facies, k = nFolds) # Index of training data"
   ]
  },
  {
   "cell_type": "code",
   "execution_count": 10,
   "metadata": {
    "collapsed": false
   },
   "outputs": [],
   "source": [
    "maxTrees <- 25000\n",
    "treeSeq <- floor(seq(1, maxTrees, length.out = 200))\n",
    "\n",
    "foldSeq <- 1:nFolds\n",
    "# Training the model using 10-fold cross validation\n",
    "\n",
    "trainingAlgorithm <- function(i) {\n",
    "    library(gbm)\n",
    "    library(PerfMeas)\n",
    "    fscore <- treeSeq * 0\n",
    "    fit <- gbm(form,\n",
    "       distribution = \"multinomial\",\n",
    "       n.trees = maxTrees,\n",
    "       shrinkage = 0.0005,\n",
    "       interaction.depth = 10,           \n",
    "       data = trainingData[crossVal[[i]], ], \n",
    "       keep.data = FALSE           \n",
    "      )\n",
    "    pred <- predict.gbm(fit, newdata = trainingData[-crossVal[[i]], ], n.trees = treeSeq)\n",
    "    yhat <- t(apply(pred, 1, function(x) apply(x, 2, which.max)))\n",
    "    ytrue <- trainingData$Facies[-crossVal[[i]]]\n",
    "    classes <- sort(unique(ytrue))\n",
    "  \n",
    "    Target <- t(t(as.numeric(ytrue) %*% t(rep(1,length(classes)))) == classes) * 1.0\n",
    "        \n",
    "    for(j in seq_along(treeSeq)) {\n",
    "        Pred <- t(t(as.numeric(yhat[, j]) %*% t(rep(1,length(classes)))) == classes) * 1.0\n",
    "        # Weighted mean of F1 score\n",
    "        # Weighted in the sense that we take the sum over a class, multiply by the number in the class\n",
    "        # and divide by the total number of samples.\n",
    "        fscore[j] <- sum(sapply(classes, \n",
    "                                 function(x) {\n",
    "                                     F.measure.single(labels = Target[, x], pred = Pred[, x])['F'] *\n",
    "                                     sum(Target[, x])\n",
    "                                 })) / dim(Target)[1]\n",
    "    }  \n",
    "    return(fscore)\n",
    "}\n",
    "\n"
   ]
  },
  {
   "cell_type": "code",
   "execution_count": 11,
   "metadata": {
    "collapsed": false
   },
   "outputs": [],
   "source": [
    "cl <- makeCluster(5)\n",
    "clusterExport(cl, c(\"treeSeq\", \"crossVal\", \"trainingData\", \"form\", \"maxTrees\"))\n",
    "fscores <- parSapply(cl, foldSeq, trainingAlgorithm)\n",
    "stopCluster(cl)"
   ]
  },
  {
   "cell_type": "markdown",
   "metadata": {},
   "source": [
    "Inspecting the cross-validation results, choosing the number of trees at the optimum."
   ]
  },
  {
   "cell_type": "code",
   "execution_count": 24,
   "metadata": {
    "collapsed": false
   },
   "outputs": [
    {
     "data": {},
     "metadata": {},
     "output_type": "display_data"
    },
    {
     "data": {
      "image/png": "[encoded data removed]",
      "text/plain": [
       "plot without title"
      ]
     },
     "metadata": {},
     "output_type": "display_data"
    }
   ],
   "source": [
    "df <- data.frame(treeSeq = treeSeq,\n",
    "                fMean = rowMeans(fscores),\n",
    "                fSE = apply(fscores, 1, sd) / sqrt(nFolds))\n",
    "\n",
    "ggplot(df, aes(x = treeSeq, y = fMean)) +\n",
    "    geom_line() +\n",
    "    geom_line(aes(y = fMean - fSE), linetype = 2) +\n",
    "    geom_line(aes(y = fMean + fSE), linetype = 2) +\n",
    "    xlab(\"Number of trees\") +\n",
    "    ylab(\"Average of the weighted mean of F1\")"
   ]
  },
  {
   "cell_type": "code",
   "execution_count": 13,
   "metadata": {
    "collapsed": true
   },
   "outputs": [],
   "source": [
    "finalTrees <- treeSeq[which.max(df$fMean)]\n",
    "fit <- gbm(form,\n",
    "                distribution = \"multinomial\",\n",
    "                n.trees = finalTrees,\n",
    "                shrinkage = 0.0005,\n",
    "                interaction.depth = 10,           \n",
    "                data = trainingData, \n",
    "                keep.data = FALSE      \n",
    "               )"
   ]
  },
  {
   "cell_type": "markdown",
   "metadata": {},
   "source": [
    "Reassuring to see that the out-of-bag error is not yet at its minimum. Hope this means that I do not overfit..."
   ]
  },
  {
   "cell_type": "code",
   "execution_count": 17,
   "metadata": {
    "collapsed": false
   },
   "outputs": [
    {
     "name": "stdout",
     "output_type": "stream",
     "text": [
      "Using OOB method...\n"
     ]
    },
    {
     "name": "stderr",
     "output_type": "stream",
     "text": [
      "Warning message in gbm.perf(fit):\n",
      "\"OOB generally underestimates the optimal number of iterations although predictive performance is reasonably competitive. Using cv.folds>0 when calling gbm usually results in improved predictive performance.\""
     ]
    },
    {
     "data": {
      "text/html": [
       "11935"
      ],
      "text/latex": [
       "11935"
      ],
      "text/markdown": [
       "11935"
      ],
      "text/plain": [
       "[1] 11935"
      ]
     },
     "metadata": {},
     "output_type": "display_data"
    },
    {
     "data": {
      "image/png": "[encoded data removed]",
      "text/plain": [
       "plot without title"
      ]
     },
     "metadata": {},
     "output_type": "display_data"
    }
   ],
   "source": [
    "gbm.perf(fit)"
   ]
  },
  {
   "cell_type": "markdown",
   "metadata": {},
   "source": [
    "## Prediction"
   ]
  },
  {
   "cell_type": "code",
   "execution_count": 18,
   "metadata": {
    "collapsed": false
   },
   "outputs": [],
   "source": [
    "# Compute the link function\n",
    "estimatedLink <- predict(fit, newdata = testData, type = \"link\", n.trees = finalTrees)[,,1]\n",
    "# Use the classification with highest probability\n",
    "testData$Facies <- apply(estimatedLink, 1, which.max)"
   ]
  },
  {
   "cell_type": "code",
   "execution_count": 19,
   "metadata": {
    "collapsed": false
   },
   "outputs": [
    {
     "data": {
      "text/html": [
       "<table>\n",
       "<thead><tr><th scope=col>Facies</th><th scope=col>Well.Name</th><th scope=col>Depth</th><th scope=col>RELPOS</th><th scope=col>Formation</th><th scope=col>GR</th><th scope=col>ILD_log10</th><th scope=col>DeltaPHI</th><th scope=col>PHIND</th><th scope=col>PE</th><th scope=col>...</th><th scope=col>next.PHIND</th><th scope=col>next2.PHIND</th><th scope=col>prev.PE</th><th scope=col>prev2.PE</th><th scope=col>next.PE</th><th scope=col>next2.PE</th><th scope=col>prev.NM_M</th><th scope=col>prev2.NM_M</th><th scope=col>next.NM_M</th><th scope=col>next2.NM_M</th></tr></thead>\n",
       "<tbody>\n",
       "\t<tr><td>2     </td><td>STUART</td><td>2808.0</td><td>1.000 </td><td>A1 SH </td><td>66.276</td><td>0.630 </td><td>3.3   </td><td>10.65 </td><td>3.591 </td><td>...   </td><td>11.95 </td><td>13.60 </td><td>3.591 </td><td>3.591 </td><td>3.341 </td><td>3.064 </td><td>1     </td><td>1     </td><td>1     </td><td>1     </td></tr>\n",
       "\t<tr><td>3     </td><td>STUART</td><td>2808.5</td><td>0.978 </td><td>A1 SH </td><td>77.252</td><td>0.585 </td><td>6.5   </td><td>11.95 </td><td>3.341 </td><td>...   </td><td>13.60 </td><td>13.25 </td><td>3.591 </td><td>3.341 </td><td>3.064 </td><td>2.977 </td><td>1     </td><td>1     </td><td>1     </td><td>1     </td></tr>\n",
       "\t<tr><td>3     </td><td>STUART</td><td>2809.0</td><td>0.956 </td><td>A1 SH </td><td>82.899</td><td>0.566 </td><td>9.4   </td><td>13.60 </td><td>3.064 </td><td>...   </td><td>13.25 </td><td>12.35 </td><td>3.341 </td><td>3.591 </td><td>2.977 </td><td>3.020 </td><td>1     </td><td>1     </td><td>1     </td><td>1     </td></tr>\n",
       "\t<tr><td>3     </td><td>STUART</td><td>2809.5</td><td>0.933 </td><td>A1 SH </td><td>80.671</td><td>0.593 </td><td>9.5   </td><td>13.25 </td><td>2.977 </td><td>...   </td><td>12.35 </td><td>12.25 </td><td>3.064 </td><td>3.341 </td><td>3.020 </td><td>3.086 </td><td>1     </td><td>1     </td><td>1     </td><td>1     </td></tr>\n",
       "\t<tr><td>3     </td><td>STUART</td><td>2810.0</td><td>0.911 </td><td>A1 SH </td><td>75.971</td><td>0.638 </td><td>8.7   </td><td>12.35 </td><td>3.020 </td><td>...   </td><td>12.25 </td><td>12.45 </td><td>2.977 </td><td>3.064 </td><td>3.086 </td><td>3.092 </td><td>1     </td><td>1     </td><td>1     </td><td>1     </td></tr>\n",
       "\t<tr><td>3     </td><td>STUART</td><td>2810.5</td><td>0.889 </td><td>A1 SH </td><td>73.955</td><td>0.667 </td><td>6.9   </td><td>12.25 </td><td>3.086 </td><td>...   </td><td>12.45 </td><td>12.65 </td><td>3.020 </td><td>2.977 </td><td>3.092 </td><td>3.123 </td><td>1     </td><td>1     </td><td>1     </td><td>1     </td></tr>\n",
       "</tbody>\n",
       "</table>\n"
      ],
      "text/latex": [
       "\\begin{tabular}{r|lllllllllllllllllllllllllllllllllllllll}\n",
       " Facies & Well.Name & Depth & RELPOS & Formation & GR & ILD\\_log10 & DeltaPHI & PHIND & PE & ... & next.PHIND & next2.PHIND & prev.PE & prev2.PE & next.PE & next2.PE & prev.NM\\_M & prev2.NM\\_M & next.NM\\_M & next2.NM\\_M\\\\\n",
       "\\hline\n",
       "\t 2      & STUART & 2808.0 & 1.000  & A1 SH  & 66.276 & 0.630  & 3.3    & 10.65  & 3.591  & ...    & 11.95  & 13.60  & 3.591  & 3.591  & 3.341  & 3.064  & 1      & 1      & 1      & 1     \\\\\n",
       "\t 3      & STUART & 2808.5 & 0.978  & A1 SH  & 77.252 & 0.585  & 6.5    & 11.95  & 3.341  & ...    & 13.60  & 13.25  & 3.591  & 3.341  & 3.064  & 2.977  & 1      & 1      & 1      & 1     \\\\\n",
       "\t 3      & STUART & 2809.0 & 0.956  & A1 SH  & 82.899 & 0.566  & 9.4    & 13.60  & 3.064  & ...    & 13.25  & 12.35  & 3.341  & 3.591  & 2.977  & 3.020  & 1      & 1      & 1      & 1     \\\\\n",
       "\t 3      & STUART & 2809.5 & 0.933  & A1 SH  & 80.671 & 0.593  & 9.5    & 13.25  & 2.977  & ...    & 12.35  & 12.25  & 3.064  & 3.341  & 3.020  & 3.086  & 1      & 1      & 1      & 1     \\\\\n",
       "\t 3      & STUART & 2810.0 & 0.911  & A1 SH  & 75.971 & 0.638  & 8.7    & 12.35  & 3.020  & ...    & 12.25  & 12.45  & 2.977  & 3.064  & 3.086  & 3.092  & 1      & 1      & 1      & 1     \\\\\n",
       "\t 3      & STUART & 2810.5 & 0.889  & A1 SH  & 73.955 & 0.667  & 6.9    & 12.25  & 3.086  & ...    & 12.45  & 12.65  & 3.020  & 2.977  & 3.092  & 3.123  & 1      & 1      & 1      & 1     \\\\\n",
       "\\end{tabular}\n"
      ],
      "text/markdown": [
       "\n",
       "Facies | Well.Name | Depth | RELPOS | Formation | GR | ILD_log10 | DeltaPHI | PHIND | PE | ... | next.PHIND | next2.PHIND | prev.PE | prev2.PE | next.PE | next2.PE | prev.NM_M | prev2.NM_M | next.NM_M | next2.NM_M | \n",
       "|---|---|---|---|---|---|\n",
       "| 2      | STUART | 2808.0 | 1.000  | A1 SH  | 66.276 | 0.630  | 3.3    | 10.65  | 3.591  | ...    | 11.95  | 13.60  | 3.591  | 3.591  | 3.341  | 3.064  | 1      | 1      | 1      | 1      | \n",
       "| 3      | STUART | 2808.5 | 0.978  | A1 SH  | 77.252 | 0.585  | 6.5    | 11.95  | 3.341  | ...    | 13.60  | 13.25  | 3.591  | 3.341  | 3.064  | 2.977  | 1      | 1      | 1      | 1      | \n",
       "| 3      | STUART | 2809.0 | 0.956  | A1 SH  | 82.899 | 0.566  | 9.4    | 13.60  | 3.064  | ...    | 13.25  | 12.35  | 3.341  | 3.591  | 2.977  | 3.020  | 1      | 1      | 1      | 1      | \n",
       "| 3      | STUART | 2809.5 | 0.933  | A1 SH  | 80.671 | 0.593  | 9.5    | 13.25  | 2.977  | ...    | 12.35  | 12.25  | 3.064  | 3.341  | 3.020  | 3.086  | 1      | 1      | 1      | 1      | \n",
       "| 3      | STUART | 2810.0 | 0.911  | A1 SH  | 75.971 | 0.638  | 8.7    | 12.35  | 3.020  | ...    | 12.25  | 12.45  | 2.977  | 3.064  | 3.086  | 3.092  | 1      | 1      | 1      | 1      | \n",
       "| 3      | STUART | 2810.5 | 0.889  | A1 SH  | 73.955 | 0.667  | 6.9    | 12.25  | 3.086  | ...    | 12.45  | 12.65  | 3.020  | 2.977  | 3.092  | 3.123  | 1      | 1      | 1      | 1      | \n",
       "\n",
       "\n"
      ],
      "text/plain": [
       "  Facies Well.Name Depth  RELPOS Formation GR     ILD_log10 DeltaPHI PHIND\n",
       "1 2      STUART    2808.0 1.000  A1 SH     66.276 0.630     3.3      10.65\n",
       "2 3      STUART    2808.5 0.978  A1 SH     77.252 0.585     6.5      11.95\n",
       "3 3      STUART    2809.0 0.956  A1 SH     82.899 0.566     9.4      13.60\n",
       "4 3      STUART    2809.5 0.933  A1 SH     80.671 0.593     9.5      13.25\n",
       "5 3      STUART    2810.0 0.911  A1 SH     75.971 0.638     8.7      12.35\n",
       "6 3      STUART    2810.5 0.889  A1 SH     73.955 0.667     6.9      12.25\n",
       "  PE    ... next.PHIND next2.PHIND prev.PE prev2.PE next.PE next2.PE prev.NM_M\n",
       "1 3.591 ... 11.95      13.60       3.591   3.591    3.341   3.064    1        \n",
       "2 3.341 ... 13.60      13.25       3.591   3.341    3.064   2.977    1        \n",
       "3 3.064 ... 13.25      12.35       3.341   3.591    2.977   3.020    1        \n",
       "4 2.977 ... 12.35      12.25       3.064   3.341    3.020   3.086    1        \n",
       "5 3.020 ... 12.25      12.45       2.977   3.064    3.086   3.092    1        \n",
       "6 3.086 ... 12.45      12.65       3.020   2.977    3.092   3.123    1        \n",
       "  prev2.NM_M next.NM_M next2.NM_M\n",
       "1 1          1         1         \n",
       "2 1          1         1         \n",
       "3 1          1         1         \n",
       "4 1          1         1         \n",
       "5 1          1         1         \n",
       "6 1          1         1         "
      ]
     },
     "metadata": {},
     "output_type": "display_data"
    }
   ],
   "source": [
    "head(testData)"
   ]
  },
  {
   "cell_type": "code",
   "execution_count": 21,
   "metadata": {
    "collapsed": false
   },
   "outputs": [],
   "source": [
    "# Write to csv\n",
    "write.csv(testData, file = \"./prediction.csv\", row.names = FALSE)"
   ]
  }
 ],
 "metadata": {
  "anaconda-cloud": {},
  "kernelspec": {
   "display_name": "R",
   "language": "R",
   "name": "ir"
  },
  "language_info": {
   "codemirror_mode": "r",
   "file_extension": ".r",
   "mimetype": "text/x-r-source",
   "name": "R",
   "pygments_lexer": "r",
   "version": "3.3.2"
  }
 },
 "nbformat": 4,
 "nbformat_minor": 1
}
