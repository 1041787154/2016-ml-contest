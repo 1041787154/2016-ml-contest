{
 "cells": [
  {
   "cell_type": "markdown",
   "metadata": {},
   "source": [
    "## First attempt\n",
    "This is my first attempt, using a very simple approach. I run all the training data through a cross-validated multinomial boosted tree model, and choose the model which obtains the minimum cross-validation loss.\n",
    "\n",
    "[This is me](https://www.linkedin.com/in/%C3%B8ystein-s%C3%B8rensen-4a877831/)"
   ]
  },
  {
   "cell_type": "markdown",
   "metadata": {},
   "source": [
    "## Data load"
   ]
  },
  {
   "cell_type": "code",
   "execution_count": 3,
   "metadata": {
    "collapsed": true
   },
   "outputs": [],
   "source": [
    "trainingData <- read.csv(\"../training_data.csv\")\n",
    "testData <- read.csv(\"../validation_data_nofacies.csv\")\n",
    "\n",
    "# Convert the class labels to factor\n",
    "trainingData$Facies <- as.factor(trainingData$Facies)"
   ]
  },
  {
   "cell_type": "markdown",
   "metadata": {},
   "source": [
    "## Multinomial boosted tree model"
   ]
  },
  {
   "cell_type": "code",
   "execution_count": 7,
   "metadata": {
    "collapsed": false
   },
   "outputs": [],
   "source": [
    "library(gbm) # Using the gbm package\n",
    "\n",
    "# Training the model using 10-fold cross validation\n",
    "fit <- gbm(Facies ~ Formation + Well.Name + Depth + GR + ILD_log10 + DeltaPHI + PHIND + PE + NM_M + RELPOS,\n",
    "           distribution = \"multinomial\",\n",
    "           n.trees = 15000,\n",
    "           interaction.depth = 8,\n",
    "           cv.folds = 10,\n",
    "           data = trainingData, \n",
    "          n.cores = 7)"
   ]
  },
  {
   "cell_type": "markdown",
   "metadata": {},
   "source": [
    "## Inspect the performance"
   ]
  },
  {
   "cell_type": "code",
   "execution_count": 11,
   "metadata": {
    "collapsed": false
   },
   "outputs": [
    {
     "data": {
      "image/png": "[encoded data removed]",
      "text/plain": [
       "plot without title"
      ]
     },
     "metadata": {},
     "output_type": "display_data"
    }
   ],
   "source": [
    "optNumTrees <- gbm.perf(fit, method = \"cv\")"
   ]
  },
  {
   "cell_type": "markdown",
   "metadata": {},
   "source": [
    "We have not yet reached cross-validated optimum on test data (green curve), but we seem to be close."
   ]
  },
  {
   "cell_type": "markdown",
   "metadata": {},
   "source": [
    "## Prediction"
   ]
  },
  {
   "cell_type": "code",
   "execution_count": 37,
   "metadata": {
    "collapsed": false
   },
   "outputs": [],
   "source": [
    "# Compute the link function\n",
    "estimatedLink <- predict(fit, newdata = testData, type = \"link\", n.trees = optNumTrees)[,,1]\n",
    "# Use the classification with highest probability\n",
    "prediction <- apply(estimatedLink, 1, which.max)\n",
    "# Add this as a new column to testData\n",
    "submission <- cbind(testData, Facies = prediction)"
   ]
  },
  {
   "cell_type": "code",
   "execution_count": 40,
   "metadata": {
    "collapsed": true
   },
   "outputs": [],
   "source": [
    "# Write to csv\n",
    "write.csv(submission, file = \"./prediction.csv\")"
   ]
  }
 ],
 "metadata": {
  "anaconda-cloud": {},
  "kernelspec": {
   "display_name": "R",
   "language": "R",
   "name": "ir"
  },
  "language_info": {
   "codemirror_mode": "r",
   "file_extension": ".r",
   "mimetype": "text/x-r-source",
   "name": "R",
   "pygments_lexer": "r",
   "version": "3.3.2"
  }
 },
 "nbformat": 4,
 "nbformat_minor": 1
}
