{
 "cells": [
  {
   "cell_type": "markdown",
   "metadata": {},
   "source": [
    "# Look at a set of realizations\n",
    "\n",
    "In reponse to [this issue on GitHub](https://github.com/seg/2016-ml-contest/issues/114) I have started doing stochastic evaluations — running each model instantiation and prediction 100 times.\n",
    "\n",
    "As described in that thread, I'm doing more or less this:\n",
    "\n",
    "    y_pred = []\n",
    "    for seed in range(100):\n",
    "        np.random.seed(seed)\n",
    "        clf = RandomForestClassifier(<hyperparams>, random_state=seed,  n_jobs=-1)\n",
    "        clf.fit(X, y)    \n",
    "        y_pred.append(clf.predict(X_test))\n",
    "        print('.', end='')\n",
    "    np.save('100_realizations.npy', y_pred)\n",
    "    \n",
    "I then evaluate against the blind data, which results in 100 F1 scores — that's the `npy` file you load here. "
   ]
  },
  {
   "cell_type": "code",
   "execution_count": 1,
   "metadata": {
    "collapsed": false
   },
   "outputs": [],
   "source": [
    "import numpy as np\n",
    "import pandas as pd\n",
    "import matplotlib.pyplot as plt\n",
    "%matplotlib inline"
   ]
  },
  {
   "cell_type": "code",
   "execution_count": 2,
   "metadata": {
    "collapsed": false
   },
   "outputs": [
    {
     "name": "stdout",
     "output_type": "stream",
     "text": [
      "-rw-r--r--@ 1 matt  staff  880 20 Jan 10:59 HouMath_100_realizations_f1.npy\r\n",
      "-rw-r--r--@ 1 matt  staff  880 20 Jan 11:48 ar4_100_realizations_f1.npy\r\n",
      "-rw-r--r--@ 1 matt  staff  880 20 Jan 10:59 geoLEARN_100_realizations_f1.npy\r\n",
      "-rw-r--r--@ 1 matt  staff  880 20 Jan 10:59 ispl_100_realizations_f1.npy\r\n"
     ]
    }
   ],
   "source": [
    "ls -l *_f1.npy"
   ]
  },
  {
   "cell_type": "code",
   "execution_count": 3,
   "metadata": {
    "collapsed": true
   },
   "outputs": [],
   "source": [
    "accs = np.load('ar4_100_realizations_f1.npy')\n",
    "s = pd.Series(accs)"
   ]
  },
  {
   "cell_type": "markdown",
   "metadata": {},
   "source": [
    "## Look at some statistics"
   ]
  },
  {
   "cell_type": "code",
   "execution_count": 4,
   "metadata": {
    "collapsed": false
   },
   "outputs": [
    {
     "data": {
      "image/png": "[encoded data removed]",
      "text/plain": [
       "<matplotlib.figure.Figure at 0x10eb7ed30>"
      ]
     },
     "metadata": {},
     "output_type": "display_data"
    }
   ],
   "source": [
    "plt.hist(accs)\n",
    "plt.show()"
   ]
  },
  {
   "cell_type": "code",
   "execution_count": 5,
   "metadata": {
    "collapsed": false
   },
   "outputs": [
    {
     "data": {
      "text/plain": [
       "count    100.000000\n",
       "mean       0.598425\n",
       "std        0.007556\n",
       "min        0.581250\n",
       "25%        0.592500\n",
       "50%        0.598125\n",
       "75%        0.603750\n",
       "max        0.618750\n",
       "dtype: float64"
      ]
     },
     "execution_count": 5,
     "metadata": {},
     "output_type": "execute_result"
    }
   ],
   "source": [
    "s.describe()"
   ]
  },
  {
   "cell_type": "code",
   "execution_count": 6,
   "metadata": {
    "collapsed": false
   },
   "outputs": [
    {
     "data": {
      "text/plain": [
       "0.59812500000000002"
      ]
     },
     "execution_count": 6,
     "metadata": {},
     "output_type": "execute_result"
    }
   ],
   "source": [
    "np.median(s)"
   ]
  },
  {
   "cell_type": "code",
   "execution_count": null,
   "metadata": {
    "collapsed": true
   },
   "outputs": [],
   "source": []
  }
 ],
 "metadata": {
  "anaconda-cloud": {},
  "kernelspec": {
   "display_name": "Python [conda env:python3]",
   "language": "python",
   "name": "conda-env-python3-py"
  },
  "language_info": {
   "codemirror_mode": {
    "name": "ipython",
    "version": 3
   },
   "file_extension": ".py",
   "mimetype": "text/x-python",
   "name": "python",
   "nbconvert_exporter": "python",
   "pygments_lexer": "ipython3",
   "version": "3.5.2"
  }
 },
 "nbformat": 4,
 "nbformat_minor": 1
}
