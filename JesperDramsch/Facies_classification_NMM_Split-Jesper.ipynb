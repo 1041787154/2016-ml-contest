{
 "cells": [
  {
   "cell_type": "markdown",
   "metadata": {},
   "source": [
    "# Facies classification using Machine Learning\n",
    "\n",
    "### [Original contest notebook](../Facies_classification.ipynb) by Brendon Hall, [Enthought](https://www.enthought.com/)\n",
    "\n",
    "Let's train some data. I'm [Jesper](http://twitter.com/JesperDramsch) and I have [no clue what I'm doing](https://the-geophysicist.com/seg-machine-learning-contest) but I'm having fun. Most texts are still from the original notebook from Brandon Hall. As well as the basis for the code."
   ]
  },
  {
   "cell_type": "code",
   "execution_count": 63,
   "metadata": {
    "collapsed": false
   },
   "outputs": [
    {
     "data": {
      "text/html": [
       "<div>\n",
       "<table border=\"1\" class=\"dataframe\">\n",
       "  <thead>\n",
       "    <tr style=\"text-align: right;\">\n",
       "      <th></th>\n",
       "      <th>Facies</th>\n",
       "      <th>Formation</th>\n",
       "      <th>Well Name</th>\n",
       "      <th>Depth</th>\n",
       "      <th>GR</th>\n",
       "      <th>ILD_log10</th>\n",
       "      <th>DeltaPHI</th>\n",
       "      <th>PHIND</th>\n",
       "      <th>PE</th>\n",
       "      <th>NM_M</th>\n",
       "      <th>RELPOS</th>\n",
       "    </tr>\n",
       "  </thead>\n",
       "  <tbody>\n",
       "    <tr>\n",
       "      <th>0</th>\n",
       "      <td>3</td>\n",
       "      <td>A1 SH</td>\n",
       "      <td>SHRIMPLIN</td>\n",
       "      <td>2793.0</td>\n",
       "      <td>77.450</td>\n",
       "      <td>0.664</td>\n",
       "      <td>9.900</td>\n",
       "      <td>11.915</td>\n",
       "      <td>4.600</td>\n",
       "      <td>1</td>\n",
       "      <td>1.000</td>\n",
       "    </tr>\n",
       "    <tr>\n",
       "      <th>1</th>\n",
       "      <td>3</td>\n",
       "      <td>A1 SH</td>\n",
       "      <td>SHRIMPLIN</td>\n",
       "      <td>2793.5</td>\n",
       "      <td>78.260</td>\n",
       "      <td>0.661</td>\n",
       "      <td>14.200</td>\n",
       "      <td>12.565</td>\n",
       "      <td>4.100</td>\n",
       "      <td>1</td>\n",
       "      <td>0.979</td>\n",
       "    </tr>\n",
       "    <tr>\n",
       "      <th>2</th>\n",
       "      <td>3</td>\n",
       "      <td>A1 SH</td>\n",
       "      <td>SHRIMPLIN</td>\n",
       "      <td>2794.0</td>\n",
       "      <td>79.050</td>\n",
       "      <td>0.658</td>\n",
       "      <td>14.800</td>\n",
       "      <td>13.050</td>\n",
       "      <td>3.600</td>\n",
       "      <td>1</td>\n",
       "      <td>0.957</td>\n",
       "    </tr>\n",
       "    <tr>\n",
       "      <th>3</th>\n",
       "      <td>3</td>\n",
       "      <td>A1 SH</td>\n",
       "      <td>SHRIMPLIN</td>\n",
       "      <td>2794.5</td>\n",
       "      <td>86.100</td>\n",
       "      <td>0.655</td>\n",
       "      <td>13.900</td>\n",
       "      <td>13.115</td>\n",
       "      <td>3.500</td>\n",
       "      <td>1</td>\n",
       "      <td>0.936</td>\n",
       "    </tr>\n",
       "    <tr>\n",
       "      <th>4</th>\n",
       "      <td>3</td>\n",
       "      <td>A1 SH</td>\n",
       "      <td>SHRIMPLIN</td>\n",
       "      <td>2795.0</td>\n",
       "      <td>74.580</td>\n",
       "      <td>0.647</td>\n",
       "      <td>13.500</td>\n",
       "      <td>13.300</td>\n",
       "      <td>3.400</td>\n",
       "      <td>1</td>\n",
       "      <td>0.915</td>\n",
       "    </tr>\n",
       "    <tr>\n",
       "      <th>...</th>\n",
       "      <td>...</td>\n",
       "      <td>...</td>\n",
       "      <td>...</td>\n",
       "      <td>...</td>\n",
       "      <td>...</td>\n",
       "      <td>...</td>\n",
       "      <td>...</td>\n",
       "      <td>...</td>\n",
       "      <td>...</td>\n",
       "      <td>...</td>\n",
       "      <td>...</td>\n",
       "    </tr>\n",
       "    <tr>\n",
       "      <th>4144</th>\n",
       "      <td>5</td>\n",
       "      <td>C LM</td>\n",
       "      <td>CHURCHMAN BIBLE</td>\n",
       "      <td>3120.5</td>\n",
       "      <td>46.719</td>\n",
       "      <td>0.947</td>\n",
       "      <td>1.828</td>\n",
       "      <td>7.254</td>\n",
       "      <td>3.617</td>\n",
       "      <td>2</td>\n",
       "      <td>0.685</td>\n",
       "    </tr>\n",
       "    <tr>\n",
       "      <th>4145</th>\n",
       "      <td>5</td>\n",
       "      <td>C LM</td>\n",
       "      <td>CHURCHMAN BIBLE</td>\n",
       "      <td>3121.0</td>\n",
       "      <td>44.563</td>\n",
       "      <td>0.953</td>\n",
       "      <td>2.241</td>\n",
       "      <td>8.013</td>\n",
       "      <td>3.344</td>\n",
       "      <td>2</td>\n",
       "      <td>0.677</td>\n",
       "    </tr>\n",
       "    <tr>\n",
       "      <th>4146</th>\n",
       "      <td>5</td>\n",
       "      <td>C LM</td>\n",
       "      <td>CHURCHMAN BIBLE</td>\n",
       "      <td>3121.5</td>\n",
       "      <td>49.719</td>\n",
       "      <td>0.964</td>\n",
       "      <td>2.925</td>\n",
       "      <td>8.013</td>\n",
       "      <td>3.190</td>\n",
       "      <td>2</td>\n",
       "      <td>0.669</td>\n",
       "    </tr>\n",
       "    <tr>\n",
       "      <th>4147</th>\n",
       "      <td>5</td>\n",
       "      <td>C LM</td>\n",
       "      <td>CHURCHMAN BIBLE</td>\n",
       "      <td>3122.0</td>\n",
       "      <td>51.469</td>\n",
       "      <td>0.965</td>\n",
       "      <td>3.083</td>\n",
       "      <td>7.708</td>\n",
       "      <td>3.152</td>\n",
       "      <td>2</td>\n",
       "      <td>0.661</td>\n",
       "    </tr>\n",
       "    <tr>\n",
       "      <th>4148</th>\n",
       "      <td>5</td>\n",
       "      <td>C LM</td>\n",
       "      <td>CHURCHMAN BIBLE</td>\n",
       "      <td>3122.5</td>\n",
       "      <td>50.031</td>\n",
       "      <td>0.970</td>\n",
       "      <td>2.609</td>\n",
       "      <td>6.668</td>\n",
       "      <td>3.295</td>\n",
       "      <td>2</td>\n",
       "      <td>0.653</td>\n",
       "    </tr>\n",
       "  </tbody>\n",
       "</table>\n",
       "<p>4149 rows × 11 columns</p>\n",
       "</div>"
      ],
      "text/plain": [
       "      Facies Formation        Well Name   Depth      GR  ILD_log10  DeltaPHI   PHIND     PE  NM_M  RELPOS\n",
       "0          3     A1 SH        SHRIMPLIN  2793.0  77.450      0.664     9.900  11.915  4.600     1   1.000\n",
       "1          3     A1 SH        SHRIMPLIN  2793.5  78.260      0.661    14.200  12.565  4.100     1   0.979\n",
       "2          3     A1 SH        SHRIMPLIN  2794.0  79.050      0.658    14.800  13.050  3.600     1   0.957\n",
       "3          3     A1 SH        SHRIMPLIN  2794.5  86.100      0.655    13.900  13.115  3.500     1   0.936\n",
       "4          3     A1 SH        SHRIMPLIN  2795.0  74.580      0.647    13.500  13.300  3.400     1   0.915\n",
       "...      ...       ...              ...     ...     ...        ...       ...     ...    ...   ...     ...\n",
       "4144       5      C LM  CHURCHMAN BIBLE  3120.5  46.719      0.947     1.828   7.254  3.617     2   0.685\n",
       "4145       5      C LM  CHURCHMAN BIBLE  3121.0  44.563      0.953     2.241   8.013  3.344     2   0.677\n",
       "4146       5      C LM  CHURCHMAN BIBLE  3121.5  49.719      0.964     2.925   8.013  3.190     2   0.669\n",
       "4147       5      C LM  CHURCHMAN BIBLE  3122.0  51.469      0.965     3.083   7.708  3.152     2   0.661\n",
       "4148       5      C LM  CHURCHMAN BIBLE  3122.5  50.031      0.970     2.609   6.668  3.295     2   0.653\n",
       "\n",
       "[4149 rows x 11 columns]"
      ]
     },
     "execution_count": 63,
     "metadata": {},
     "output_type": "execute_result"
    }
   ],
   "source": [
    "%matplotlib inline\n",
    "import pandas as pd\n",
    "import numpy as np\n",
    "import matplotlib as mpl\n",
    "import matplotlib.pyplot as plt\n",
    "import matplotlib.colors as colors\n",
    "from mpl_toolkits.axes_grid1 import make_axes_locatable\n",
    "\n",
    "from pandas import set_option\n",
    "set_option(\"display.max_rows\", 10)\n",
    "pd.set_option('display.width', 1000)\n",
    "pd.options.mode.chained_assignment = None\n",
    "\n",
    "def hotcoder(data,sortlist,base):\n",
    "    hotdata = [0]*len(data)\n",
    "    dexin = {x:i for i,x in enumerate(sortlist)}\n",
    "    for i,a in enumerate(data):\n",
    "        for j,b in enumerate(a):\n",
    "            if isinstance(a,list):\n",
    "                if b not in sortlist:\n",
    "                    print(\"Found illegal value of {0} at position {1}\".format(b, i))\n",
    "                    break\n",
    "                hotdata[i] += base**dexin[b]\n",
    "            else:\n",
    "                if a not in sortlist:\n",
    "                    print(\"Found illegal value of {0} at position {1}\".format(a, i))\n",
    "                    break\n",
    "                hotdata[i] += base**dexin[a]\n",
    "                break\n",
    "    return hotdata\n",
    "\n",
    "def distance(latlon1,latlon2):\n",
    "    lat1 = np.deg2rad(latlon1[0])\n",
    "    lon1 = np.deg2rad(latlon1[1])\n",
    "    lat2 = np.deg2rad(latlon2[0])\n",
    "    lon2 = np.deg2rad(latlon2[1])\n",
    "    dlon = lon2 - lon1\n",
    "    dlat = lat2 - lat1\n",
    "    \n",
    "    a = np.sin(dlat / 2)**2 + np.cos(lat1) * np.cos(lat2) * np.sin(dlon / 2)**2\n",
    "    c = 2 * np.arctan2(np.sqrt(a), np.sqrt(1 - a))\n",
    "    \n",
    "    return (6371 * c)\n",
    "\n",
    "\n",
    "facies_labels = ['SS','CSiS','FSiS','SiSh','MS','WS','D','PS','BS']\n",
    "facies = pd.DataFrame({'ShortName': pd.Series(facies_labels,index=facies_labels),'Facies' : pd.Series(['Nonmarine sandstone', 'Nonmarine coarse siltstone', 'Nonmarine fine siltstone ', 'Marine siltstone and shale', 'Mudstone (limestone)',  'Wackestone (limestone)', 'Dolomite', 'Packstone-grainstone (limestone)','Phylloid-algal bafflestone (limestone)'],index=facies_labels), 'Neighbours' : pd.Series(['CSiS',['SS','FSiS'],'CSiS','MS',['SiSh','WS'],['MS','D'],['WS','PS'],['WS','D','BS'],['D','PS']],index=facies_labels), 'Colors' : pd.Series(['#F4D03F', '#F5B041','#DC7633','#6E2C00',\n",
    "       '#1B4F72','#2E86C1', '#AED6F1', '#A569BD', '#196F3D'],index=facies_labels)})\n",
    "\n",
    "\n",
    "filename = '../facies_vectors.csv'\n",
    "training_data = pd.read_csv(filename)\n",
    "rows = len(training_data.index)\n",
    "training_data"
   ]
  },
  {
   "cell_type": "markdown",
   "metadata": {},
   "source": [
    "Verbatim from Brendon Hall:\n",
    "> This data is from the Council Grove gas reservoir in Southwest Kansas.  The Panoma Council Grove Field is predominantly a carbonate gas reservoir encompassing 2700 square miles in Southwestern Kansas.  This dataset is from nine wells (with 4149 examples), consisting of a set of seven predictor variables and a rock facies (class) for each example vector and validation (test) data (830 examples from two wells) having the same seven predictor variables in the feature vector.  Facies are based on examination of cores from nine wells taken vertically at half-foot intervals. Predictor variables include five from wireline log measurements and two geologic constraining variables that are derived from geologic knowledge. These are essentially continuous variables sampled at a half-foot sample rate. \n",
    "\n",
    "The seven predictor variables are:\n",
    "* Five wire line log curves include [gamma ray](http://petrowiki.org/Gamma_ray_logs) (GR), [resistivity logging](http://petrowiki.org/Resistivity_and_spontaneous_%28SP%29_logging) (ILD_log10),\n",
    "[photoelectric effect](http://www.glossary.oilfield.slb.com/en/Terms/p/photoelectric_effect.aspx) (PE), [neutron-density porosity difference and average neutron-density porosity](http://petrowiki.org/Neutron_porosity_logs) (DeltaPHI and PHIND). Note, some wells do not have PE.\n",
    "* Two geologic constraining variables: nonmarine-marine indicator (NM_M) and relative position (RELPOS)\n",
    "\n",
    "The nine discrete facies (classes of rocks) are: "
   ]
  },
  {
   "cell_type": "code",
   "execution_count": 64,
   "metadata": {
    "collapsed": false
   },
   "outputs": [
    {
     "data": {
      "text/html": [
       "<div>\n",
       "<table border=\"1\" class=\"dataframe\">\n",
       "  <thead>\n",
       "    <tr style=\"text-align: right;\">\n",
       "      <th></th>\n",
       "      <th>Facies</th>\n",
       "    </tr>\n",
       "  </thead>\n",
       "  <tbody>\n",
       "    <tr>\n",
       "      <th>SS</th>\n",
       "      <td>Nonmarine sandstone</td>\n",
       "    </tr>\n",
       "    <tr>\n",
       "      <th>CSiS</th>\n",
       "      <td>Nonmarine coarse siltstone</td>\n",
       "    </tr>\n",
       "    <tr>\n",
       "      <th>FSiS</th>\n",
       "      <td>Nonmarine fine siltstone</td>\n",
       "    </tr>\n",
       "    <tr>\n",
       "      <th>SiSh</th>\n",
       "      <td>Marine siltstone and shale</td>\n",
       "    </tr>\n",
       "    <tr>\n",
       "      <th>MS</th>\n",
       "      <td>Mudstone (limestone)</td>\n",
       "    </tr>\n",
       "    <tr>\n",
       "      <th>WS</th>\n",
       "      <td>Wackestone (limestone)</td>\n",
       "    </tr>\n",
       "    <tr>\n",
       "      <th>D</th>\n",
       "      <td>Dolomite</td>\n",
       "    </tr>\n",
       "    <tr>\n",
       "      <th>PS</th>\n",
       "      <td>Packstone-grainstone (limestone)</td>\n",
       "    </tr>\n",
       "    <tr>\n",
       "      <th>BS</th>\n",
       "      <td>Phylloid-algal bafflestone (limestone)</td>\n",
       "    </tr>\n",
       "  </tbody>\n",
       "</table>\n",
       "</div>"
      ],
      "text/plain": [
       "                                      Facies\n",
       "SS                       Nonmarine sandstone\n",
       "CSiS              Nonmarine coarse siltstone\n",
       "FSiS               Nonmarine fine siltstone \n",
       "SiSh              Marine siltstone and shale\n",
       "MS                      Mudstone (limestone)\n",
       "WS                    Wackestone (limestone)\n",
       "D                                   Dolomite\n",
       "PS          Packstone-grainstone (limestone)\n",
       "BS    Phylloid-algal bafflestone (limestone)"
      ]
     },
     "execution_count": 64,
     "metadata": {},
     "output_type": "execute_result"
    }
   ],
   "source": [
    "facies[['Facies']]"
   ]
  },
  {
   "cell_type": "markdown",
   "metadata": {},
   "source": [
    "These facies gradually blend into one another. We can see a marine non-marine neighbourhood already."
   ]
  },
  {
   "cell_type": "code",
   "execution_count": 65,
   "metadata": {
    "collapsed": false,
    "scrolled": false
   },
   "outputs": [
    {
     "data": {
      "text/html": [
       "<div>\n",
       "<table border=\"1\" class=\"dataframe\">\n",
       "  <thead>\n",
       "    <tr style=\"text-align: right;\">\n",
       "      <th></th>\n",
       "      <th>Neighbours</th>\n",
       "    </tr>\n",
       "  </thead>\n",
       "  <tbody>\n",
       "    <tr>\n",
       "      <th>SS</th>\n",
       "      <td>CSiS</td>\n",
       "    </tr>\n",
       "    <tr>\n",
       "      <th>CSiS</th>\n",
       "      <td>SS        SS\n",
       "FSiS    FSiS\n",
       "Name: ShortName, dty...</td>\n",
       "    </tr>\n",
       "    <tr>\n",
       "      <th>FSiS</th>\n",
       "      <td>CSiS</td>\n",
       "    </tr>\n",
       "    <tr>\n",
       "      <th>SiSh</th>\n",
       "      <td>MS</td>\n",
       "    </tr>\n",
       "    <tr>\n",
       "      <th>MS</th>\n",
       "      <td>SiSh    SiSh\n",
       "WS        WS\n",
       "Name: ShortName, dty...</td>\n",
       "    </tr>\n",
       "    <tr>\n",
       "      <th>WS</th>\n",
       "      <td>MS    MS\n",
       "D      D\n",
       "Name: ShortName, dtype: object</td>\n",
       "    </tr>\n",
       "    <tr>\n",
       "      <th>D</th>\n",
       "      <td>WS    WS\n",
       "PS    PS\n",
       "Name: ShortName, dtype: object</td>\n",
       "    </tr>\n",
       "    <tr>\n",
       "      <th>PS</th>\n",
       "      <td>WS    WS\n",
       "D      D\n",
       "BS    BS\n",
       "Name: ShortName, dt...</td>\n",
       "    </tr>\n",
       "    <tr>\n",
       "      <th>BS</th>\n",
       "      <td>D      D\n",
       "PS    PS\n",
       "Name: ShortName, dtype: object</td>\n",
       "    </tr>\n",
       "  </tbody>\n",
       "</table>\n",
       "</div>"
      ],
      "text/plain": [
       "                                             Neighbours\n",
       "SS                                                 CSiS\n",
       "CSiS  SS        SS\n",
       "FSiS    FSiS\n",
       "Name: ShortName, dty...\n",
       "FSiS                                               CSiS\n",
       "SiSh                                                 MS\n",
       "MS    SiSh    SiSh\n",
       "WS        WS\n",
       "Name: ShortName, dty...\n",
       "WS     MS    MS\n",
       "D      D\n",
       "Name: ShortName, dtype: object\n",
       "D      WS    WS\n",
       "PS    PS\n",
       "Name: ShortName, dtype: object\n",
       "PS    WS    WS\n",
       "D      D\n",
       "BS    BS\n",
       "Name: ShortName, dt...\n",
       "BS     D      D\n",
       "PS    PS\n",
       "Name: ShortName, dtype: object"
      ]
     },
     "execution_count": 65,
     "metadata": {},
     "output_type": "execute_result"
    }
   ],
   "source": [
    "pd.DataFrame({'Neighbours' : [facies.ShortName[x] for x in facies.Neighbours]},index=facies_labels)\n"
   ]
  },
  {
   "cell_type": "markdown",
   "metadata": {},
   "source": [
    "The 'Well Name' and 'Formation' columns can be turned into a categorical data type.  "
   ]
  },
  {
   "cell_type": "code",
   "execution_count": 66,
   "metadata": {
    "collapsed": false
   },
   "outputs": [
    {
     "data": {
      "text/plain": [
       "[SHRIMPLIN, ALEXANDER D, SHANKLE, LUKE G U, KIMZEY A, CROSS H CATTLE, NOLAN, Recruit F9, NEWBY, CHURCHMAN BIBLE]\n",
       "Categories (10, object): [SHRIMPLIN, ALEXANDER D, SHANKLE, LUKE G U, ..., NOLAN, Recruit F9, NEWBY, CHURCHMAN BIBLE]"
      ]
     },
     "execution_count": 66,
     "metadata": {},
     "output_type": "execute_result"
    }
   ],
   "source": [
    "training_data['Well Name'] = training_data['Well Name'].astype('category')\n",
    "training_data['Formation'] = training_data['Formation'].astype('category')\n",
    "training_data['Well Name'].unique()"
   ]
  },
  {
   "cell_type": "markdown",
   "metadata": {},
   "source": [
    "Shrimplin: \n",
    "* Longitude: -100.98329 \n",
    "* Latitude: 37.98126 \n",
    "\n",
    "ALEXANDER D\n",
    "* Longitude: -95.3534525 \n",
    "* Latitude: 37.6607787 \n",
    "\n",
    "SHANKLE\n",
    "* Longitude: -101.3891894 \n",
    "* Latitude: 38.0633727 \n",
    "\n",
    "LUKE G U\n",
    "* Longitude: -101.6073725 \n",
    "* Latitude: 37.4537739 \n",
    "\n",
    "KIMZEY A\n",
    "* Longitude: -101.39697 \n",
    "* Latitude: 37.12289 \n",
    "\n",
    "CROSS H CATTLE\n",
    "* Longitude: -101.6464517 \n",
    "* Latitude: 37.9105826 \n",
    "\n",
    "NOLAN\n",
    "* Longitude: -101.0451641 \n",
    "* Latitude: 37.7866294 \n",
    "\n",
    "Recruit F9\n",
    "\n",
    "\n",
    "NEWBY\n",
    "* Longitude: -101.5847635 \n",
    "* Latitude: 37.5406739 \n",
    "\n",
    "CHURCHMAN BIBLE\n",
    "* Longitude: -101.1060761 \n",
    "* Latitude: 37.3497658 \n",
    "\n",
    "STUART\n",
    "* Longitude: -101.1391063 \n",
    "* Latitude: 37.4857262 \n",
    "\n",
    "CRAWFORD\n",
    "* Longitude: -101.1494994 \n",
    "* Latitude: 37.1893654 "
   ]
  },
  {
   "cell_type": "code",
   "execution_count": 67,
   "metadata": {
    "collapsed": false
   },
   "outputs": [
    {
     "data": {
      "text/html": [
       "<div>\n",
       "<table border=\"1\" class=\"dataframe\">\n",
       "  <thead>\n",
       "    <tr style=\"text-align: right;\">\n",
       "      <th></th>\n",
       "      <th>0</th>\n",
       "      <th>1</th>\n",
       "      <th>2</th>\n",
       "      <th>3</th>\n",
       "      <th>4</th>\n",
       "      <th>5</th>\n",
       "      <th>6</th>\n",
       "      <th>7</th>\n",
       "      <th>8</th>\n",
       "      <th>9</th>\n",
       "      <th>10</th>\n",
       "      <th>11</th>\n",
       "    </tr>\n",
       "  </thead>\n",
       "  <tbody>\n",
       "    <tr>\n",
       "      <th>0</th>\n",
       "      <td>0.000000</td>\n",
       "      <td>508.539085</td>\n",
       "      <td>514.414809</td>\n",
       "      <td>553.609438</td>\n",
       "      <td>537.155038</td>\n",
       "      <td>551.655595</td>\n",
       "      <td>549.025730</td>\n",
       "      <td>500.715074</td>\n",
       "      <td>498.685691</td>\n",
       "      <td>531.653931</td>\n",
       "      <td>495.709564</td>\n",
       "      <td>510.181434</td>\n",
       "    </tr>\n",
       "    <tr>\n",
       "      <th>1</th>\n",
       "      <td>508.539085</td>\n",
       "      <td>0.000000</td>\n",
       "      <td>18.244918</td>\n",
       "      <td>78.442557</td>\n",
       "      <td>36.049841</td>\n",
       "      <td>45.766211</td>\n",
       "      <td>47.291283</td>\n",
       "      <td>48.872768</td>\n",
       "      <td>10.911501</td>\n",
       "      <td>83.166276</td>\n",
       "      <td>71.045797</td>\n",
       "      <td>15.396954</td>\n",
       "    </tr>\n",
       "    <tr>\n",
       "      <th>2</th>\n",
       "      <td>514.414809</td>\n",
       "      <td>18.244918</td>\n",
       "      <td>0.000000</td>\n",
       "      <td>91.381670</td>\n",
       "      <td>23.143376</td>\n",
       "      <td>50.037144</td>\n",
       "      <td>54.823941</td>\n",
       "      <td>67.047680</td>\n",
       "      <td>26.897113</td>\n",
       "      <td>99.451087</td>\n",
       "      <td>89.264274</td>\n",
       "      <td>32.966625</td>\n",
       "    </tr>\n",
       "    <tr>\n",
       "      <th>3</th>\n",
       "      <td>553.609438</td>\n",
       "      <td>78.442557</td>\n",
       "      <td>91.381670</td>\n",
       "      <td>0.000000</td>\n",
       "      <td>90.308868</td>\n",
       "      <td>50.911093</td>\n",
       "      <td>41.488243</td>\n",
       "      <td>54.564443</td>\n",
       "      <td>80.385857</td>\n",
       "      <td>28.230578</td>\n",
       "      <td>58.679434</td>\n",
       "      <td>64.994310</td>\n",
       "    </tr>\n",
       "    <tr>\n",
       "      <th>4</th>\n",
       "      <td>537.155038</td>\n",
       "      <td>36.049841</td>\n",
       "      <td>23.143376</td>\n",
       "      <td>90.308868</td>\n",
       "      <td>0.000000</td>\n",
       "      <td>41.232963</td>\n",
       "      <td>49.333475</td>\n",
       "      <td>80.071330</td>\n",
       "      <td>46.729386</td>\n",
       "      <td>104.579152</td>\n",
       "      <td>102.175650</td>\n",
       "      <td>46.345830</td>\n",
       "    </tr>\n",
       "    <tr>\n",
       "      <th>...</th>\n",
       "      <td>...</td>\n",
       "      <td>...</td>\n",
       "      <td>...</td>\n",
       "      <td>...</td>\n",
       "      <td>...</td>\n",
       "      <td>...</td>\n",
       "      <td>...</td>\n",
       "      <td>...</td>\n",
       "      <td>...</td>\n",
       "      <td>...</td>\n",
       "      <td>...</td>\n",
       "      <td>...</td>\n",
       "    </tr>\n",
       "    <tr>\n",
       "      <th>7</th>\n",
       "      <td>500.715074</td>\n",
       "      <td>48.872768</td>\n",
       "      <td>67.047680</td>\n",
       "      <td>54.564443</td>\n",
       "      <td>80.071330</td>\n",
       "      <td>61.820025</td>\n",
       "      <td>54.808216</td>\n",
       "      <td>0.000000</td>\n",
       "      <td>43.174992</td>\n",
       "      <td>43.098540</td>\n",
       "      <td>22.312772</td>\n",
       "      <td>34.466311</td>\n",
       "    </tr>\n",
       "    <tr>\n",
       "      <th>8</th>\n",
       "      <td>498.685691</td>\n",
       "      <td>10.911501</td>\n",
       "      <td>26.897113</td>\n",
       "      <td>80.385857</td>\n",
       "      <td>46.729386</td>\n",
       "      <td>53.965104</td>\n",
       "      <td>53.924917</td>\n",
       "      <td>43.174992</td>\n",
       "      <td>0.000000</td>\n",
       "      <td>81.317150</td>\n",
       "      <td>64.649885</td>\n",
       "      <td>15.546242</td>\n",
       "    </tr>\n",
       "    <tr>\n",
       "      <th>9</th>\n",
       "      <td>531.653931</td>\n",
       "      <td>83.166276</td>\n",
       "      <td>99.451087</td>\n",
       "      <td>28.230578</td>\n",
       "      <td>104.579152</td>\n",
       "      <td>70.445691</td>\n",
       "      <td>60.608168</td>\n",
       "      <td>43.098540</td>\n",
       "      <td>81.317150</td>\n",
       "      <td>0.000000</td>\n",
       "      <td>36.708814</td>\n",
       "      <td>67.888026</td>\n",
       "    </tr>\n",
       "    <tr>\n",
       "      <th>10</th>\n",
       "      <td>495.709564</td>\n",
       "      <td>71.045797</td>\n",
       "      <td>89.264274</td>\n",
       "      <td>58.679434</td>\n",
       "      <td>102.175650</td>\n",
       "      <td>80.333850</td>\n",
       "      <td>72.081453</td>\n",
       "      <td>22.312772</td>\n",
       "      <td>64.649885</td>\n",
       "      <td>36.708814</td>\n",
       "      <td>0.000000</td>\n",
       "      <td>56.779037</td>\n",
       "    </tr>\n",
       "    <tr>\n",
       "      <th>11</th>\n",
       "      <td>510.181434</td>\n",
       "      <td>15.396954</td>\n",
       "      <td>32.966625</td>\n",
       "      <td>64.994310</td>\n",
       "      <td>46.345830</td>\n",
       "      <td>41.478111</td>\n",
       "      <td>39.779513</td>\n",
       "      <td>34.466311</td>\n",
       "      <td>15.546242</td>\n",
       "      <td>67.888026</td>\n",
       "      <td>56.779037</td>\n",
       "      <td>0.000000</td>\n",
       "    </tr>\n",
       "  </tbody>\n",
       "</table>\n",
       "<p>12 rows × 12 columns</p>\n",
       "</div>"
      ],
      "text/plain": [
       "            0           1           2           3           4           5           6           7           8           9           10          11\n",
       "0     0.000000  508.539085  514.414809  553.609438  537.155038  551.655595  549.025730  500.715074  498.685691  531.653931  495.709564  510.181434\n",
       "1   508.539085    0.000000   18.244918   78.442557   36.049841   45.766211   47.291283   48.872768   10.911501   83.166276   71.045797   15.396954\n",
       "2   514.414809   18.244918    0.000000   91.381670   23.143376   50.037144   54.823941   67.047680   26.897113   99.451087   89.264274   32.966625\n",
       "3   553.609438   78.442557   91.381670    0.000000   90.308868   50.911093   41.488243   54.564443   80.385857   28.230578   58.679434   64.994310\n",
       "4   537.155038   36.049841   23.143376   90.308868    0.000000   41.232963   49.333475   80.071330   46.729386  104.579152  102.175650   46.345830\n",
       "..         ...         ...         ...         ...         ...         ...         ...         ...         ...         ...         ...         ...\n",
       "7   500.715074   48.872768   67.047680   54.564443   80.071330   61.820025   54.808216    0.000000   43.174992   43.098540   22.312772   34.466311\n",
       "8   498.685691   10.911501   26.897113   80.385857   46.729386   53.965104   53.924917   43.174992    0.000000   81.317150   64.649885   15.546242\n",
       "9   531.653931   83.166276   99.451087   28.230578  104.579152   70.445691   60.608168   43.098540   81.317150    0.000000   36.708814   67.888026\n",
       "10  495.709564   71.045797   89.264274   58.679434  102.175650   80.333850   72.081453   22.312772   64.649885   36.708814    0.000000   56.779037\n",
       "11  510.181434   15.396954   32.966625   64.994310   46.345830   41.478111   39.779513   34.466311   15.546242   67.888026   56.779037    0.000000\n",
       "\n",
       "[12 rows x 12 columns]"
      ]
     },
     "execution_count": 67,
     "metadata": {},
     "output_type": "execute_result"
    }
   ],
   "source": [
    "latlong = pd.DataFrame({\"SHRIMPLIN\": [37.98126,-100.98329], \"ALEXANDER D\": [37.6607787,-95.3534525], \"SHANKLE\": [38.0633727,-101.3891894], \"LUKE G U\": [37.4537739,-101.6073725], \"KIMZEY A\": [37.12289,-101.39697], \"CROSS H CATTLE\": [37.9105826,-101.6464517], \"NOLAN\": [37.7866294,-101.0451641], \"NEWBY\": [37.5406739,-101.5847635], \"CHURCHMAN BIBLE\": [37.3497658,-101.1060761], \"STUART\": [37.4857262,-101.1391063], \"CRAWFORD\": [37.1893654,-101.1494994], \"Recruit F9\": [37.4,-101]})\n",
    "#distance([37.660779,-95.353453],[37.349766,-101.106076])\n",
    "dist_mat= pd.DataFrame(np.zeros((latlong.shape[1],latlong.shape[1])))\n",
    "#dist_mat = np.zeros(len(latlong.index),len(latlong.index))\n",
    "for i,x in enumerate(latlong):\n",
    "    for j,y in enumerate(latlong):\n",
    "        if i > j:\n",
    "            dist_mat[i][j] = (distance(latlong[x].values,latlong[y].values))\n",
    "            dist_mat[j][i] = dist_mat[i][j]\n",
    "dist_mat            "
   ]
  },
  {
   "cell_type": "code",
   "execution_count": 68,
   "metadata": {
    "collapsed": false,
    "scrolled": false
   },
   "outputs": [
    {
     "name": "stderr",
     "output_type": "stream",
     "text": [
      "C:\\Users\\Jesper\\Anaconda3\\lib\\site-packages\\numpy\\lib\\function_base.py:3834: RuntimeWarning: Invalid value encountered in percentile\n",
      "  RuntimeWarning)\n"
     ]
    },
    {
     "data": {
      "text/html": [
       "<div>\n",
       "<table border=\"1\" class=\"dataframe\">\n",
       "  <thead>\n",
       "    <tr style=\"text-align: right;\">\n",
       "      <th></th>\n",
       "      <th>Facies</th>\n",
       "      <th>Depth</th>\n",
       "      <th>GR</th>\n",
       "      <th>ILD_log10</th>\n",
       "      <th>DeltaPHI</th>\n",
       "      <th>PHIND</th>\n",
       "      <th>PE</th>\n",
       "      <th>NM_M</th>\n",
       "      <th>RELPOS</th>\n",
       "    </tr>\n",
       "  </thead>\n",
       "  <tbody>\n",
       "    <tr>\n",
       "      <th>count</th>\n",
       "      <td>4149.000000</td>\n",
       "      <td>4149.000000</td>\n",
       "      <td>4149.000000</td>\n",
       "      <td>4149.000000</td>\n",
       "      <td>4149.000000</td>\n",
       "      <td>4149.000000</td>\n",
       "      <td>3232.000000</td>\n",
       "      <td>4149.000000</td>\n",
       "      <td>4149.000000</td>\n",
       "    </tr>\n",
       "    <tr>\n",
       "      <th>mean</th>\n",
       "      <td>4.503254</td>\n",
       "      <td>2906.867438</td>\n",
       "      <td>64.933985</td>\n",
       "      <td>0.659566</td>\n",
       "      <td>4.402484</td>\n",
       "      <td>13.201066</td>\n",
       "      <td>3.725014</td>\n",
       "      <td>1.518438</td>\n",
       "      <td>0.521852</td>\n",
       "    </tr>\n",
       "    <tr>\n",
       "      <th>std</th>\n",
       "      <td>2.474324</td>\n",
       "      <td>133.300164</td>\n",
       "      <td>30.302530</td>\n",
       "      <td>0.252703</td>\n",
       "      <td>5.274947</td>\n",
       "      <td>7.132846</td>\n",
       "      <td>0.896152</td>\n",
       "      <td>0.499720</td>\n",
       "      <td>0.286644</td>\n",
       "    </tr>\n",
       "    <tr>\n",
       "      <th>min</th>\n",
       "      <td>1.000000</td>\n",
       "      <td>2573.500000</td>\n",
       "      <td>10.149000</td>\n",
       "      <td>-0.025949</td>\n",
       "      <td>-21.832000</td>\n",
       "      <td>0.550000</td>\n",
       "      <td>0.200000</td>\n",
       "      <td>1.000000</td>\n",
       "      <td>0.000000</td>\n",
       "    </tr>\n",
       "    <tr>\n",
       "      <th>25%</th>\n",
       "      <td>2.000000</td>\n",
       "      <td>2821.500000</td>\n",
       "      <td>44.730000</td>\n",
       "      <td>0.498000</td>\n",
       "      <td>1.600000</td>\n",
       "      <td>8.500000</td>\n",
       "      <td>NaN</td>\n",
       "      <td>1.000000</td>\n",
       "      <td>0.277000</td>\n",
       "    </tr>\n",
       "    <tr>\n",
       "      <th>50%</th>\n",
       "      <td>4.000000</td>\n",
       "      <td>2932.500000</td>\n",
       "      <td>64.990000</td>\n",
       "      <td>0.639000</td>\n",
       "      <td>4.300000</td>\n",
       "      <td>12.020000</td>\n",
       "      <td>NaN</td>\n",
       "      <td>2.000000</td>\n",
       "      <td>0.528000</td>\n",
       "    </tr>\n",
       "    <tr>\n",
       "      <th>75%</th>\n",
       "      <td>6.000000</td>\n",
       "      <td>3007.000000</td>\n",
       "      <td>79.438000</td>\n",
       "      <td>0.822000</td>\n",
       "      <td>7.500000</td>\n",
       "      <td>16.050000</td>\n",
       "      <td>NaN</td>\n",
       "      <td>2.000000</td>\n",
       "      <td>0.769000</td>\n",
       "    </tr>\n",
       "    <tr>\n",
       "      <th>max</th>\n",
       "      <td>9.000000</td>\n",
       "      <td>3138.000000</td>\n",
       "      <td>361.150000</td>\n",
       "      <td>1.800000</td>\n",
       "      <td>19.312000</td>\n",
       "      <td>84.400000</td>\n",
       "      <td>8.094000</td>\n",
       "      <td>2.000000</td>\n",
       "      <td>1.000000</td>\n",
       "    </tr>\n",
       "  </tbody>\n",
       "</table>\n",
       "</div>"
      ],
      "text/plain": [
       "            Facies        Depth           GR    ILD_log10     DeltaPHI        PHIND           PE         NM_M       RELPOS\n",
       "count  4149.000000  4149.000000  4149.000000  4149.000000  4149.000000  4149.000000  3232.000000  4149.000000  4149.000000\n",
       "mean      4.503254  2906.867438    64.933985     0.659566     4.402484    13.201066     3.725014     1.518438     0.521852\n",
       "std       2.474324   133.300164    30.302530     0.252703     5.274947     7.132846     0.896152     0.499720     0.286644\n",
       "min       1.000000  2573.500000    10.149000    -0.025949   -21.832000     0.550000     0.200000     1.000000     0.000000\n",
       "25%       2.000000  2821.500000    44.730000     0.498000     1.600000     8.500000          NaN     1.000000     0.277000\n",
       "50%       4.000000  2932.500000    64.990000     0.639000     4.300000    12.020000          NaN     2.000000     0.528000\n",
       "75%       6.000000  3007.000000    79.438000     0.822000     7.500000    16.050000          NaN     2.000000     0.769000\n",
       "max       9.000000  3138.000000   361.150000     1.800000    19.312000    84.400000     8.094000     2.000000     1.000000"
      ]
     },
     "execution_count": 68,
     "metadata": {},
     "output_type": "execute_result"
    }
   ],
   "source": [
    "training_data.describe()"
   ]
  },
  {
   "cell_type": "markdown",
   "metadata": {},
   "source": [
    "The new data set contains about 1000 data points or 33% more than the original one. Rejoice!"
   ]
  },
  {
   "cell_type": "code",
   "execution_count": 71,
   "metadata": {
    "collapsed": false
   },
   "outputs": [],
   "source": [
    "#facies_color_map is a dictionary that maps facies labels\n",
    "#to their respective colors\n",
    "facies_color_map = {}\n",
    "for ind, label in enumerate(facies_labels):\n",
    "    facies_color_map[label] = facies.Colors[ind]\n",
    "\n",
    "def label_facies(row, labels):\n",
    "    return labels[ row['Facies'] ]\n",
    "processed_data = training_data.copy()\n",
    "processed_data['Facies'] = processed_data['Facies']-1\n",
    "processed_data= processed_data[processed_data['PE'].notnull().values]\n",
    "processed_data.loc[:,'FaciesLabels'] = processed_data.apply(lambda row: label_facies(row, facies_labels), axis=1)"
   ]
  },
  {
   "cell_type": "markdown",
   "metadata": {},
   "source": [
    "Let's take a look at the data from individual wells in a more familiar log plot form.  We will create plots for the five well log variables, as well as a log for facies labels.  The plots are based on the those described in Alessandro Amato del Monte's [excellent tutorial](https://github.com/seg/tutorials/tree/master/1504_Seismic_petrophysics_1)."
   ]
  },
  {
   "cell_type": "code",
   "execution_count": null,
   "metadata": {
    "collapsed": false
   },
   "outputs": [],
   "source": [
    "def make_facies_log_plot(logs, facies_colors):\n",
    "    #make sure logs are sorted by depth\n",
    "    logs = logs.sort_values(by='Depth')\n",
    "    cmap_facies = colors.ListedColormap(\n",
    "            facies.Colors[0:len(facies.Colors)], 'indexed')\n",
    "    cmap_coarse = colors.ListedColormap(['#c0c0c0','#000000'])\n",
    "    \n",
    "    ztop=logs.Depth.min(); zbot=logs.Depth.max()\n",
    "    \n",
    "    cluster=np.repeat(np.expand_dims(logs['Facies'].values,1), 100, 1)\n",
    "    clustercoarse=np.repeat(np.expand_dims(logs['NM_M'].values,1), 100, 1)\n",
    "    \n",
    "    f, ax = plt.subplots(nrows=1, ncols=7, figsize=(8, 12))\n",
    "    ax[0].plot(logs.GR, logs.Depth, '-g')\n",
    "    ax[1].plot(logs.ILD_log10, logs.Depth, '-')\n",
    "    ax[2].plot(logs.DeltaPHI, logs.Depth, '-', color='0.5')\n",
    "    ax[3].plot(logs.PHIND, logs.Depth, '-', color='r')\n",
    "    ax[4].plot(logs.PE, logs.Depth, '-', color='black')\n",
    "    \n",
    "    \n",
    "    im1 = ax[5].imshow(cluster, interpolation='none', aspect='auto',\n",
    "                    cmap=cmap_facies,vmin=0,vmax=8)\n",
    "    im2 = ax[6].imshow(clustercoarse, interpolation='none', aspect='auto',\n",
    "                    cmap=cmap_coarse,vmin=1,vmax=2)\n",
    "    \n",
    "    divider = make_axes_locatable(ax[6])\n",
    "    cax = divider.append_axes(\"right\", size=\"20%\", pad=0.05)\n",
    "    cbar=plt.colorbar(im1, cax=cax)\n",
    "    cbar.set_label((18*' ').join(facies.index))\n",
    "    cbar.set_ticks(range(0,1)); cbar.set_ticklabels('')\n",
    "    \n",
    "    for i in range(len(ax)-2):\n",
    "        ax[i].set_ylim(ztop,zbot)\n",
    "        ax[i].invert_yaxis()\n",
    "        ax[i].grid()\n",
    "        ax[i].locator_params(axis='x', nbins=3)\n",
    "    \n",
    "    \n",
    "    ax[0].set_xlabel(\"GR\")\n",
    "    ax[0].set_xlim(logs.GR.min(),logs.GR.max())\n",
    "    ax[1].set_xlabel(\"ILD_log10\")\n",
    "    ax[1].set_xlim(logs.ILD_log10.min(),logs.ILD_log10.max())\n",
    "    ax[2].set_xlabel(\"DeltaPHI\")\n",
    "    ax[2].set_xlim(logs.DeltaPHI.min(),logs.DeltaPHI.max())\n",
    "    ax[3].set_xlabel(\"PHIND\")\n",
    "    ax[3].set_xlim(logs.PHIND.min(),logs.PHIND.max())\n",
    "    ax[4].set_xlabel(\"PE\")\n",
    "    ax[4].set_xlim(logs.PE.min(),logs.PE.max())\n",
    "    ax[5].set_xlabel('Facies')\n",
    "    ax[6].set_xlabel('NM_M')\n",
    "    \n",
    "    ax[1].set_yticklabels([]); ax[2].set_yticklabels([]); ax[3].set_yticklabels([])\n",
    "    ax[4].set_yticklabels([]); ax[5].set_yticklabels([]); ax[6].set_yticklabels([])\n",
    "    ax[5].set_xticklabels([]); ax[6].set_xticklabels([])\n",
    "    f.suptitle('Well: %s'%logs.iloc[0]['Well Name'], fontsize=14,y=0.94)\n",
    "    plt.show()"
   ]
  },
  {
   "cell_type": "markdown",
   "metadata": {},
   "source": [
    "Here's the `SHRIMPLIN` well for your vieling pleasure."
   ]
  },
  {
   "cell_type": "code",
   "execution_count": null,
   "metadata": {
    "collapsed": false
   },
   "outputs": [],
   "source": [
    "make_facies_log_plot(\n",
    "    processed_data[processed_data['Well Name'] == 'SHRIMPLIN'],\n",
    "    facies.Colors)"
   ]
  },
  {
   "cell_type": "markdown",
   "metadata": {},
   "source": [
    "In addition to individual wells, we can look at how the various facies are represented by the entire training set.  Let's plot a histogram of the number of training examples for each facies class."
   ]
  },
  {
   "cell_type": "code",
   "execution_count": null,
   "metadata": {
    "collapsed": false
   },
   "outputs": [],
   "source": [
    "#count the number of unique entries for each facies, sort them by\n",
    "#facies number (instead of by number of entries)\n",
    "facies_counts = processed_data['Facies'].value_counts().sort_index()\n",
    "tmp = processed_data.query('NM_M==1')\n",
    "facies_counts0 = tmp['Facies'].value_counts().sort_index()\n",
    "\n",
    "tmp = processed_data.query('NM_M==2')\n",
    "facies_counts1 = tmp['Facies'].value_counts().sort_index()\n",
    "\n",
    "#use facies labels to index each count\n",
    "facies_counts.index = facies_labels\n",
    "\n",
    "facies_counts.plot(kind='bar',color=facies.Colors, \n",
    "                   title='Distribution of Training Data by Facies')\n",
    "pd.DataFrame(facies_counts).T"
   ]
  },
  {
   "cell_type": "markdown",
   "metadata": {},
   "source": [
    "This shows the distribution of examples by facies for the examples in the training set.  Dolomite (facies 7) has the fewest with 81 examples.  Depending on the performance of the classifier we are going to train, we may consider getting more examples of these facies.\n",
    "\n",
    "Crossplots are a familiar tool in the geosciences to visualize how two properties vary with rock type.  This dataset contains 5 log variables, and scatter matrix can help to quickly visualize the variation between the all the variables in the dataset.  We can employ the very useful [Seaborn library](https://stanford.edu/~mwaskom/software/seaborn/) to quickly create a nice looking scatter matrix. Each pane in the plot shows the relationship between two of the variables on the x and y axis, with each point is colored according to its facies.  The same colormap is used to represent the 9 facies.  "
   ]
  },
  {
   "cell_type": "code",
   "execution_count": null,
   "metadata": {
    "collapsed": false,
    "scrolled": false
   },
   "outputs": [],
   "source": [
    "#save plot display settings to change back to when done plotting with seaborn\n",
    "inline_rc = dict(mpl.rcParams)\n",
    "\n",
    "import seaborn as sns\n",
    "sns.set()\n",
    "plotdata=processed_data.drop(['Well Name','Formation','Depth','RELPOS'],axis=1).dropna()\n",
    "\n",
    "sns.pairplot(plotdata.drop(['Facies','NM_M'],axis=1),\n",
    "             hue='FaciesLabels', palette=facies_color_map,\n",
    "             hue_order=list(reversed(facies_labels)))"
   ]
  },
  {
   "cell_type": "markdown",
   "metadata": {},
   "source": [
    "At this point I woult like to take a look at the separated main classes. "
   ]
  },
  {
   "cell_type": "code",
   "execution_count": null,
   "metadata": {
    "collapsed": false,
    "scrolled": false
   },
   "outputs": [],
   "source": [
    "sns.pairplot(plotdata.query('NM_M==1').drop(['Facies','NM_M'],axis=1),\n",
    "             hue='FaciesLabels', palette=facies_color_map,\n",
    "             hue_order=list(reversed(facies_labels)))"
   ]
  },
  {
   "cell_type": "code",
   "execution_count": null,
   "metadata": {
    "collapsed": false
   },
   "outputs": [],
   "source": [
    "facies_counts0.plot(kind='bar',color=facies.Colors, \n",
    "                   title='Distribution of Training Data by Facies')\n",
    "pd.DataFrame(facies_counts0).T"
   ]
  },
  {
   "cell_type": "markdown",
   "metadata": {},
   "source": [
    "In this view it becomes obvious that GR, PHIND and PE have some outliers at:\n",
    "\n",
    "+ GR > 150\n",
    "+ PhiND > 60\n",
    "+ PE < 1"
   ]
  },
  {
   "cell_type": "code",
   "execution_count": null,
   "metadata": {
    "collapsed": false,
    "scrolled": false
   },
   "outputs": [],
   "source": [
    "sns.pairplot(plotdata.query('NM_M==2').drop(['Facies','NM_M'],axis=1),\n",
    "             hue='FaciesLabels', palette=facies_color_map,\n",
    "             hue_order=list(reversed(facies_labels)))"
   ]
  },
  {
   "cell_type": "code",
   "execution_count": null,
   "metadata": {
    "collapsed": false
   },
   "outputs": [],
   "source": [
    "facies_counts1.plot(kind='bar',color=facies.Colors, \n",
    "                   title='Distribution of Training Data by Facies')\n",
    "pd.DataFrame(facies_counts1).T"
   ]
  },
  {
   "cell_type": "markdown",
   "metadata": {},
   "source": [
    "Here we can see aparent outliers in GR, PhiND, PE and DeltaPhi\n",
    "* GR > 350\n",
    "* DeltaPhi < -20\n",
    "* PhiND > 45\n",
    "* PE < 2\n",
    "\n",
    "I have decided to keep GR as it is a general trend in the data (and not unheard of in that rock). DeltaPhi also fits a general trend and seems to be a feature. PhiND and PE do not lie in a trend or cluster and will therefore be removed."
   ]
  },
  {
   "cell_type": "code",
   "execution_count": null,
   "metadata": {
    "collapsed": false
   },
   "outputs": [],
   "source": [
    "processed_data0 = processed_data.query('NM_M==1 and not (PHIND > 60 or PE < 1 or GR > 150) and Facies < 3')\n",
    "processed_data1 = processed_data.query('NM_M==2 and (PHIND < 45 or PE > 2) and Facies > 2')\n",
    "\n",
    "processed_data = pd.concat([processed_data0,processed_data1])\n",
    "print(\"Dropped {0} rows due to outliers and misclassification.\".format(rows-len(processed_data.index),))"
   ]
  },
  {
   "cell_type": "code",
   "execution_count": null,
   "metadata": {
    "collapsed": false
   },
   "outputs": [],
   "source": [
    "sns.set()\n",
    "plotdata=processed_data.drop(['Well Name','Facies','Formation','Depth','NM_M','RELPOS'],axis=1).dropna()\n",
    "\n",
    "sns.pairplot(plotdata,\n",
    "             hue='FaciesLabels', palette=facies_color_map,\n",
    "             hue_order=list(reversed(facies_labels)))\n",
    "\n",
    "#switch back to default matplotlib plot style\n",
    "mpl.rcParams.update(inline_rc)"
   ]
  },
  {
   "cell_type": "markdown",
   "metadata": {},
   "source": [
    "## Feature Engineering"
   ]
  },
  {
   "cell_type": "code",
   "execution_count": null,
   "metadata": {
    "collapsed": false
   },
   "outputs": [],
   "source": [
    "correct_facies_labels  = training_data['Facies'].values\n",
    "correct_facies_labels0 = training_data0['Facies'].values\n",
    "#facies_labels=['Sand','Carbs']\n",
    "correct_facies_labels1 = training_data1['Facies'].values\n",
    "\n",
    "feature_vectors = training_data.drop(['Formation', 'Well Name','Depth','Facies','NM_M','FaciesLabels'], axis=1)\n",
    "feature_vectors0 = training_data0.drop(['Formation', 'Well Name','Depth','Facies','NM_M','FaciesLabels'], axis=1)\n",
    "feature_vectors1 = training_data1.drop(['Formation', 'Well Name','Depth','Facies','NM_M','FaciesLabels'], axis=1)"
   ]
  },
  {
   "cell_type": "code",
   "execution_count": null,
   "metadata": {
    "collapsed": false
   },
   "outputs": [],
   "source": [
    "feature_vectors.describe()"
   ]
  },
  {
   "cell_type": "code",
   "execution_count": null,
   "metadata": {
    "collapsed": false
   },
   "outputs": [],
   "source": [
    "feature_vectors0.describe()"
   ]
  },
  {
   "cell_type": "code",
   "execution_count": null,
   "metadata": {
    "collapsed": false
   },
   "outputs": [],
   "source": [
    "feature_vectors1.describe()"
   ]
  },
  {
   "cell_type": "markdown",
   "metadata": {},
   "source": [
    "Scikit includes a [preprocessing](http://scikit-learn.org/stable/modules/preprocessing.html) module that can 'standardize' the data (giving each variable zero mean and unit variance, also called *whitening*).  Many machine learning algorithms assume features will be standard normally distributed data (ie: Gaussian with zero mean and unit variance).  The factors used to standardize the training set must be applied to any subsequent feature set that will be input to the classifier.  The `StandardScalar` class can be fit to the training set, and later used to standardize any training data."
   ]
  },
  {
   "cell_type": "code",
   "execution_count": null,
   "metadata": {
    "collapsed": false
   },
   "outputs": [],
   "source": [
    "from sklearn import preprocessing\n",
    "\n",
    "scaler = preprocessing.StandardScaler().fit(feature_vectors)\n",
    "scaled_features = scaler.transform(feature_vectors)\n",
    "\n",
    "scaler0 = preprocessing.StandardScaler().fit(feature_vectors0)\n",
    "scaled_features0 = scaler0.transform(feature_vectors0)\n",
    "\n",
    "scaler1 = preprocessing.StandardScaler().fit(feature_vectors1)\n",
    "scaled_features1 = scaler1.transform(feature_vectors1)"
   ]
  },
  {
   "cell_type": "markdown",
   "metadata": {},
   "source": [
    "Scikit also includes a handy function to randomly split the training data into training and test sets.  The test set contains a small subset of feature vectors that are not used to train the network.  Because we know the true facies labels for these examples, we can compare the results of the classifier to the actual facies and determine the accuracy of the model.  Let's use 20% of the data for the test set."
   ]
  },
  {
   "cell_type": "markdown",
   "metadata": {},
   "source": [
    "## Training the SVM classifier\n",
    "\n",
    "Now we use the cleaned and conditioned training set to create a facies classifier.  As mentioned above, we will use a type of machine learning model known as a [support vector machine](https://en.wikipedia.org/wiki/Support_vector_machine).  The SVM is a map of the feature vectors as points in a multi dimensional space, mapped so that examples from different facies are divided by a clear gap that is as wide as possible.  \n",
    "\n",
    "The SVM implementation in [scikit-learn](http://scikit-learn.org/stable/modules/generated/sklearn.svm.SVC.html#sklearn.svm.SVC) takes a number of important parameters.  First we create a classifier using the default settings.  "
   ]
  },
  {
   "cell_type": "code",
   "execution_count": null,
   "metadata": {
    "collapsed": false
   },
   "outputs": [],
   "source": [
    "from sklearn import svm\n",
    "\n",
    "clf  = svm.SVC()\n",
    "clf0 = svm.SVC()\n",
    "clf1 = svm.SVC()"
   ]
  },
  {
   "cell_type": "markdown",
   "metadata": {},
   "source": [
    "Now we can train the classifier using the training set we created above."
   ]
  },
  {
   "cell_type": "code",
   "execution_count": null,
   "metadata": {
    "collapsed": false
   },
   "outputs": [],
   "source": [
    "clf.fit(scaled_features,correct_facies_labels)\n",
    "clf0.fit(scaled_features0,correct_facies_labels0)\n",
    "clf1.fit(scaled_features1,correct_facies_labels1)"
   ]
  },
  {
   "cell_type": "markdown",
   "metadata": {},
   "source": [
    "Now that the model has been trained on our data, we can use it to predict the facies of the feature vectors in the test set.  Because we know the true facies labels of the vectors in the test set, we can use the results to evaluate the accuracy of the classifier."
   ]
  },
  {
   "cell_type": "code",
   "execution_count": null,
   "metadata": {
    "collapsed": false
   },
   "outputs": [],
   "source": [
    "predicted_labels = clf.predict(scaled_features)\n",
    "predicted_labels0 = clf0.predict(scaled_features0)\n",
    "predicted_labels1 = clf1.predict(scaled_features1)"
   ]
  },
  {
   "cell_type": "markdown",
   "metadata": {},
   "source": [
    "We need some metrics to evaluate how good our classifier is doing.  A [confusion matrix](http://www.dataschool.io/simple-guide-to-confusion-matrix-terminology/) is a table that can be used to describe the performance of a classification model.  [Scikit-learn](http://scikit-learn.org/stable/modules/generated/sklearn.metrics.confusion_matrix.html) allows us to easily create a confusion matrix by supplying the actual and predicted facies labels.\n",
    "\n",
    "The confusion matrix is simply a 2D array.  The entries of confusion matrix `C[i][j]` are equal to the number of observations predicted to have facies `j`, but are known to have facies `i`.  \n",
    "\n",
    "To simplify reading the confusion matrix, a function has been written to display the matrix along with facies labels and various error metrics.  See the file `classification_utilities.py` in this repo for the `display_cm()` function."
   ]
  },
  {
   "cell_type": "code",
   "execution_count": null,
   "metadata": {
    "collapsed": false
   },
   "outputs": [],
   "source": [
    "from sklearn.metrics import confusion_matrix,f1_score, accuracy_score, make_scorer\n",
    "from classification_utilities import display_cm, display_adj_cm"
   ]
  },
  {
   "cell_type": "code",
   "execution_count": null,
   "metadata": {
    "collapsed": false
   },
   "outputs": [],
   "source": [
    "conf = confusion_matrix(correct_facies_labels, predicted_labels)\n",
    "display_cm(conf, facies_labels, hide_zeros=True)"
   ]
  },
  {
   "cell_type": "code",
   "execution_count": null,
   "metadata": {
    "collapsed": false
   },
   "outputs": [],
   "source": [
    "conf0 = confusion_matrix(correct_facies_labels0, predicted_labels0)\n",
    "display_cm(conf0, facies_labels[0:3], hide_zeros=True)"
   ]
  },
  {
   "cell_type": "code",
   "execution_count": null,
   "metadata": {
    "collapsed": false,
    "scrolled": true
   },
   "outputs": [],
   "source": [
    "conf1 = confusion_matrix(correct_facies_labels1, predicted_labels1)\n",
    "display_cm(conf1, facies_labels[3:], hide_zeros=True)"
   ]
  },
  {
   "cell_type": "code",
   "execution_count": null,
   "metadata": {
    "collapsed": false
   },
   "outputs": [],
   "source": [
    "y_test_comb = np.concatenate([correct_facies_labels0,correct_facies_labels1])\n",
    "predicted_labels_comb = np.concatenate([predicted_labels0,predicted_labels1])\n",
    "conf_comb = confusion_matrix(y_test_comb, predicted_labels_comb)\n",
    "display_cm(conf_comb, facies_labels, hide_zeros=True)"
   ]
  },
  {
   "cell_type": "markdown",
   "metadata": {},
   "source": [
    "The rows of the confusion matrix correspond to the actual facies labels.  The columns correspond to the labels assigned by the classifier.  For example, consider the first row. For the feature vectors in the test set that actually have label `SS`, 23 were correctly indentified as `SS`, 21 were classified as `CSiS` and 2 were classified as `FSiS`.\n",
    "\n",
    "The entries along the diagonal are the facies that have been correctly classified.  Below we define two functions that will give an overall value for how the algorithm is performing.  The accuracy is defined as the number of correct classifications divided by the total number of classifications."
   ]
  },
  {
   "cell_type": "code",
   "execution_count": null,
   "metadata": {
    "collapsed": false
   },
   "outputs": [],
   "source": [
    "def accuracy(conf):\n",
    "    total_correct = 0.\n",
    "    nb_classes = conf.shape[0]\n",
    "    for i in np.arange(0,nb_classes):\n",
    "        total_correct += conf[i][i]\n",
    "    acc = total_correct/sum(sum(conf))\n",
    "    return acc"
   ]
  },
  {
   "cell_type": "markdown",
   "metadata": {},
   "source": [
    "As noted above, the boundaries between the facies classes are not all sharp, and some of them blend into one another.  The error within these 'adjacent facies' can also be calculated.  We define an array to represent the facies adjacent to each other.  For facies label `i`, `adjacent_facies[i]` is an array of the adjacent facies labels."
   ]
  },
  {
   "cell_type": "code",
   "execution_count": null,
   "metadata": {
    "collapsed": false
   },
   "outputs": [],
   "source": [
    "adjacent_facies = np.array([[1], [0,2], [1], [4], [3,5], [4,6,7], [5,7], [5,6,8], [6,7]])\n",
    "\n",
    "def accuracy_adjacent(conf, adjacent_facies,offset):\n",
    "    nb_classes = conf.shape[0]\n",
    "    total_correct = 0.\n",
    "    for i in np.arange(0,nb_classes):\n",
    "        total_correct += conf[i][i]\n",
    "        for j in adjacent_facies[i]:\n",
    "            total_correct += conf[i][j-offset]\n",
    "    return total_correct / sum(sum(conf))"
   ]
  },
  {
   "cell_type": "code",
   "execution_count": null,
   "metadata": {
    "collapsed": false
   },
   "outputs": [],
   "source": [
    "print('Facies classification accuracy = %f' % accuracy(conf))\n",
    "print('Adjacent facies classification accuracy = %f' % accuracy_adjacent(conf, adjacent_facies,0))"
   ]
  },
  {
   "cell_type": "code",
   "execution_count": null,
   "metadata": {
    "collapsed": false
   },
   "outputs": [],
   "source": [
    "print('Facies classification accuracy = %f' % accuracy(conf0))\n",
    "print('Adjacent facies classification accuracy = %f' % accuracy_adjacent(conf0, adjacent_facies[0:3],0))"
   ]
  },
  {
   "cell_type": "code",
   "execution_count": null,
   "metadata": {
    "collapsed": false
   },
   "outputs": [],
   "source": [
    "print('Facies classification accuracy = %f' % accuracy(conf1))\n",
    "print('Adjacent facies classification accuracy = %f' % accuracy_adjacent(conf1, adjacent_facies[3:],3))"
   ]
  },
  {
   "cell_type": "code",
   "execution_count": null,
   "metadata": {
    "collapsed": false
   },
   "outputs": [],
   "source": [
    "print('Facies classification accuracy = %f' % accuracy(conf_comb))\n",
    "print('Adjacent facies classification accuracy = %f' % accuracy_adjacent(conf_comb, adjacent_facies,0))"
   ]
  },
  {
   "cell_type": "markdown",
   "metadata": {},
   "source": [
    "## Model parameter selection\n",
    "\n",
    "The classifier so far has been built with the default parameters.  However, we may be able to get improved classification results with optimal parameter choices.\n",
    "\n",
    "We will consider two parameters.  The parameter `C` is a regularization factor, and tells the classifier how much we want to avoid misclassifying training examples.  A large value of C will try to correctly classify more examples from the training set, but if `C` is too large  it may 'overfit' the data and fail to generalize when classifying new data. If `C` is too small then the model will not be good at fitting outliers and will have a large error on the training set.\n",
    "\n",
    "The SVM learning algorithm uses a kernel function to compute the distance between feature vectors.  Many kernel functions exist, but in this case we are using the radial basis function `rbf` kernel (the default).  The `gamma` parameter describes the size of the radial basis functions, which is how far away two vectors in the feature space need to be to be considered close.\n",
    "\n",
    "We will train a series of classifiers with different values for `C` and `gamma`.  Two nested loops are used to train a classifier for every possible combination of values in the ranges specified.  The classification accuracy is recorded for each combination of parameter values.  The results are shown in a series of plots, so the parameter values that give the best classification accuracy on the test set can be selected.\n",
    "\n",
    "This process is also known as 'cross validation'.  Often a separate 'cross validation' dataset will be created in addition to the training and test sets to do model selection.  For this tutorial we will just use the test set to choose model parameters."
   ]
  },
  {
   "cell_type": "code",
   "execution_count": null,
   "metadata": {
    "collapsed": false
   },
   "outputs": [],
   "source": [
    "from sklearn.model_selection import RandomizedSearchCV,LeaveOneGroupOut\n",
    "from scipy.stats import uniform as sp_uniform\n",
    "\n",
    "Fscorer = make_scorer(f1_score, average = 'micro')\n",
    "Ascorer = make_scorer(accuracy_score)\n",
    "\n",
    "clf = svm.SVC(cache_size = 800, random_state=1)\n",
    "clf0 = svm.SVC(cache_size = 800, random_state=1)\n",
    "clf1 = svm.SVC(cache_size = 800, random_state=1)\n",
    "\n",
    "#parm_grid={'kernel': ['linear', 'rbf'],\n",
    "#            'C': [0.5, 1, 10, 50],\n",
    "#            'gamma':[0.0001, 0.01, 1, 10]}\n",
    "\n",
    "param_dist = {\"kernel\": ['rbf'],\n",
    "              \"C\": sp_uniform(0.0001,10),\n",
    "              \"gamma\": sp_uniform(0.0001, 10)}\n",
    "\n",
    "n_iter_search = 20"
   ]
  },
  {
   "cell_type": "code",
   "execution_count": null,
   "metadata": {
    "collapsed": false,
    "scrolled": true
   },
   "outputs": [],
   "source": [
    "random_search0 = RandomizedSearchCV(clf0, param_distributions=param_dist,scoring = Fscorer,n_iter=n_iter_search)\n",
    "random_search0.fit(scaled_features0,correct_facies_labels0)\n",
    "print('Best score for NM: {}'.format(random_search0.best_score_))\n",
    "print('Best parameters for NM: {}'.format(random_search0.best_params_))\n",
    "clf0 = random_search0.best_estimator_\n",
    "random_search0.best_estimator_"
   ]
  },
  {
   "cell_type": "code",
   "execution_count": null,
   "metadata": {
    "collapsed": false
   },
   "outputs": [],
   "source": [
    "random_search1 = RandomizedSearchCV(clf1, param_distributions=param_dist,scoring = Fscorer,n_iter=n_iter_search)\n",
    "random_search1.fit(scaled_features1,correct_facies_labels1)\n",
    "print('Best score for random: {}'.format(random_search1.best_score_))\n",
    "print('Best parameters for random: {}'.format(random_search1.best_params_))\n",
    "clf1 = random_search1.best_estimator_\n",
    "random_search1.best_estimator_"
   ]
  },
  {
   "cell_type": "code",
   "execution_count": null,
   "metadata": {
    "collapsed": false
   },
   "outputs": [],
   "source": [
    "random_search =  (clf, param_distributions=param_dist,scoring = Fscorer,n_iter=n_iter_search)\n",
    "random_search.fit(scaled_features,correct_facies_labels)\n",
    "print('Best score for combo: {}'.format(random_search.best_score_))\n",
    "print('Best parameters for combo: {}'.format(random_search.best_params_))\n",
    "clf = random_search.best_estimator_\n",
    "random_search.best_estimator_"
   ]
  },
  {
   "cell_type": "markdown",
   "metadata": {},
   "source": [
    "Okay, take it up a notch."
   ]
  },
  {
   "cell_type": "code",
   "execution_count": null,
   "metadata": {
    "collapsed": false
   },
   "outputs": [],
   "source": [
    "clf0.fit(scaled_features0, correct_facies_labels0)"
   ]
  },
  {
   "cell_type": "code",
   "execution_count": null,
   "metadata": {
    "collapsed": false
   },
   "outputs": [],
   "source": [
    "clf1.fit(scaled_features1, correct_facies_labels1)"
   ]
  },
  {
   "cell_type": "code",
   "execution_count": null,
   "metadata": {
    "collapsed": false
   },
   "outputs": [],
   "source": [
    "clf.fit(scaled_features, correct_facies_labels)"
   ]
  },
  {
   "cell_type": "code",
   "execution_count": null,
   "metadata": {
    "collapsed": false
   },
   "outputs": [],
   "source": [
    "cv_conf = confusion_matrix(np.concatenate([correct_facies_labels0,correct_facies_labels1]), np.concatenate([clf0.predict(scaled_features0),clf1.predict(scaled_features1)]))\n",
    "cv_conf_comb = confusion_matrix(correct_facies_labels, clf.predict(scaled_features))\n",
    "\n",
    "\n",
    "print('Optimized facies classification accuracy = %.2f' % accuracy(cv_conf))\n",
    "print('Optimized adjacent facies classification accuracy = %.2f' % accuracy_adjacent(cv_conf, adjacent_facies,0))"
   ]
  },
  {
   "cell_type": "code",
   "execution_count": null,
   "metadata": {
    "collapsed": false
   },
   "outputs": [],
   "source": [
    "print('Optimized facies classification accuracy = %.2f' % accuracy(cv_conf_comb))\n",
    "print('Optimized adjacent facies classification accuracy = %.2f' % accuracy_adjacent(cv_conf_comb, adjacent_facies,0))"
   ]
  },
  {
   "cell_type": "markdown",
   "metadata": {},
   "source": [
    "[Precision and recall](https://en.wikipedia.org/wiki/Precision_and_recall) are metrics that give more insight into how the classifier performs for individual facies.  Precision is the probability that given a classification result for a sample, the sample actually belongs to that class.  Recall is the probability that a sample will be correctly classified for a given class.\n",
    "\n",
    "Precision and recall can be computed easily using the confusion matrix.  The code to do so has been added to the `display_confusion_matrix()` function:"
   ]
  },
  {
   "cell_type": "code",
   "execution_count": null,
   "metadata": {
    "collapsed": false
   },
   "outputs": [],
   "source": [
    "display_cm(cv_conf, facies_labels, \n",
    "           display_metrics=True, hide_zeros=True)"
   ]
  },
  {
   "cell_type": "code",
   "execution_count": null,
   "metadata": {
    "collapsed": false
   },
   "outputs": [],
   "source": [
    "display_cm(cv_conf_comb, facies_labels, \n",
    "           display_metrics=True, hide_zeros=True)"
   ]
  },
  {
   "cell_type": "markdown",
   "metadata": {},
   "source": [
    "To interpret these results, consider facies `SS`.  In our test set, if a sample was labeled `SS` the probability the sample was correct is 0.8 (precision).  If we know a sample has facies `SS`, then the probability it will be correctly labeled by the classifier is 0.78 (recall).  It is desirable to have high values for both precision and recall, but often when an algorithm is tuned to increase one, the other decreases.  The [F1 score](https://en.wikipedia.org/wiki/Precision_and_recall#F-measure) combines both to give a single measure of relevancy of the classifier results.\n",
    "\n",
    "These results can help guide intuition for how to improve the classifier results.  For example, for a sample with facies `MS` or mudstone, it is only classified correctly 57% of the time (recall).  Perhaps this could be improved by introducing more training samples.  Sample quality could also play a role.  Facies `BS` or bafflestone has the best `F1` score and relatively few training examples.  But this data was handpicked from other wells to provide training examples to identify this facies.\n",
    "\n",
    "We can also consider the classification metrics when we consider misclassifying an adjacent facies as correct:\n"
   ]
  },
  {
   "cell_type": "code",
   "execution_count": null,
   "metadata": {
    "collapsed": false
   },
   "outputs": [],
   "source": [
    "display_adj_cm(cv_conf, facies_labels, adjacent_facies, \n",
    "           display_metrics=True, hide_zeros=True)"
   ]
  },
  {
   "cell_type": "code",
   "execution_count": null,
   "metadata": {
    "collapsed": false
   },
   "outputs": [],
   "source": [
    "display_adj_cm(cv_conf_comb, facies_labels, adjacent_facies, \n",
    "           display_metrics=True, hide_zeros=True)"
   ]
  },
  {
   "cell_type": "markdown",
   "metadata": {},
   "source": [
    "Considering adjacent facies, the `F1` scores for all facies types are above 0.9, except when classifying `SiSh` or marine siltstone and shale.  The classifier often misclassifies this facies (recall of 0.66), most often as wackestone. \n",
    "\n",
    "These results are comparable to those reported in Dubois et al. (2007)."
   ]
  },
  {
   "cell_type": "markdown",
   "metadata": {},
   "source": [
    "## LOGO"
   ]
  },
  {
   "cell_type": "code",
   "execution_count": null,
   "metadata": {
    "collapsed": false
   },
   "outputs": [],
   "source": [
    "wells = processed_data[\"Well Name\"].values\n",
    "wells0 = processed_data0[\"Well Name\"].values\n",
    "wells1 = processed_data1[\"Well Name\"].values\n",
    "logo = LeaveOneGroupOut()\n",
    "logo0 = LeaveOneGroupOut()\n",
    "logo1 = LeaveOneGroupOut()\n",
    "\n",
    "f1_SVC0 = []\n",
    "pred0 = {}\n",
    "for train, test in logo0.split(scaled_features0, correct_facies_labels0, groups=wells0):\n",
    "    well_name = wells0[test[0]]\n",
    "    clf0.fit(scaled_features0[train], correct_facies_labels0[train])\n",
    "    pred0[well_name] = clf0.predict(scaled_features0[test])\n",
    "    sc = f1_score(correct_facies_labels0[test], pred0[well_name], labels = np.arange(10), average = 'micro')\n",
    "    print(\"{:>20s}  {:.3f}\".format(well_name, sc))\n",
    "    f1_SVC0.append(sc)\n",
    "\n",
    "print(\"-Average leave-one-well-out F1 Score: {0}\".format(sum(f1_SVC0)/(1.0*(len(f1_SVC0)))))"
   ]
  },
  {
   "cell_type": "code",
   "execution_count": null,
   "metadata": {
    "collapsed": false
   },
   "outputs": [],
   "source": [
    "f1_SVC1 = []\n",
    "pred1 = {}\n",
    "for train, test in logo1.split(scaled_features1, correct_facies_labels1, groups=wells1):\n",
    "    well_name = wells1[test[0]]\n",
    "    clf1.fit(scaled_features1[train], correct_facies_labels1[train])\n",
    "    pred1[well_name] = clf1.predict(scaled_features1[test])\n",
    "    sc = f1_score(correct_facies_labels1[test], pred1[well_name], labels = np.arange(10), average = 'micro')\n",
    "    print(\"{:>20s}  {:.3f}\".format(well_name, sc))\n",
    "    f1_SVC1.append(sc)\n",
    "\n",
    "print(\"-Average leave-one-well-out F1 Score: {0}\".format(sum(f1_SVC1)/(1.0*(len(f1_SVC1)))))"
   ]
  },
  {
   "cell_type": "code",
   "execution_count": null,
   "metadata": {
    "collapsed": false
   },
   "outputs": [],
   "source": [
    "f1_SVC_comb = []\n",
    "\n",
    "for train, test in logo.split(np.concatenate([scaled_features0,scaled_features1]), np.concatenate([correct_facies_labels0,correct_facies_labels1]), groups=np.concatenate([wells0,wells1])):\n",
    "    well_name = np.concatenate([wells0,wells1])[test[0]]\n",
    "    pred=np.concatenate([pred0.get(well_name, []),pred1.get(well_name, [])])\n",
    "    sc = f1_score(np.concatenate([correct_facies_labels0,correct_facies_labels1])[test], pred, labels = np.arange(10), average = 'micro')\n",
    "    print(\"{:>20s}  {:.3f}\".format(well_name, sc))\n",
    "    f1_SVC_comb.append(sc)\n",
    "\n",
    "print(\"-Average leave-one-well-out F1 Score: {0}\".format(sum(f1_SVC_comb)/(1.0*(len(f1_SVC_comb)))))"
   ]
  },
  {
   "cell_type": "code",
   "execution_count": null,
   "metadata": {
    "collapsed": false
   },
   "outputs": [],
   "source": [
    "f1_SVC_compare = []\n",
    "pred_comp = {}\n",
    "for train, test in logo.split(scaled_features, correct_facies_labels, groups=wells):\n",
    "    well_name = wells[test[0]]\n",
    "    clf.fit(scaled_features[train], correct_facies_labels[train])\n",
    "    pred0[well_name] = clf.predict(scaled_features[test])\n",
    "    sc = f1_score(correct_facies_labels[test], pred0[well_name], labels = np.arange(10), average = 'micro')\n",
    "    print(\"{:>20s}  {:.3f}\".format(well_name, sc))\n",
    "    f1_SVC_compare.append(sc)\n",
    "\n",
    "print(\"-Average leave-one-well-out F1 Score Comparison: {0}\".format(sum(f1_SVC_compare)/(1.0*(len(f1_SVC_compare)))))"
   ]
  },
  {
   "cell_type": "code",
   "execution_count": null,
   "metadata": {
    "collapsed": false,
    "scrolled": false
   },
   "outputs": [],
   "source": [
    "display_adj_cm(cv_conf, facies_labels, adjacent_facies,\n",
    "               display_metrics=True, hide_zeros=True)"
   ]
  },
  {
   "cell_type": "markdown",
   "metadata": {},
   "source": [
    "## Applying the classification model to new data\n",
    "\n",
    "Now that we have a trained facies classification model we can use it to identify facies in wells that do not have core data.  In this case, we will apply the classifier to two wells, but we could use it on any number of wells for which we have the same set of well logs for input.\n",
    "\n",
    "This dataset is similar to the training data except it does not have facies labels.  It is loaded into a dataframe called `test_data`."
   ]
  },
  {
   "cell_type": "code",
   "execution_count": null,
   "metadata": {
    "collapsed": false
   },
   "outputs": [],
   "source": [
    "well_data = pd.read_csv('../validation_data_nofacies.csv')\n",
    "well_data['Well Name'] = well_data['Well Name'].astype('category')\n",
    "well_data0 = well_data.query('NM_M==1')\n",
    "well_data1 = well_data.query('NM_M==2')\n",
    "well_features0 = well_data0.drop(['Formation', 'Well Name','Depth','NM_M'], axis=1)\n",
    "well_features1 = well_data1.drop(['Formation', 'Well Name','Depth','NM_M'], axis=1)"
   ]
  },
  {
   "cell_type": "markdown",
   "metadata": {},
   "source": [
    "The data needs to be scaled using the same constants we used for the training data."
   ]
  },
  {
   "cell_type": "code",
   "execution_count": null,
   "metadata": {
    "collapsed": false
   },
   "outputs": [],
   "source": [
    "X_unknown0 = scaler0.transform(well_features0)\n",
    "X_unknown1 = scaler1.transform(well_features1)"
   ]
  },
  {
   "cell_type": "markdown",
   "metadata": {},
   "source": [
    "Finally we predict facies labels for the unknown data, and store the results in a `Facies` column of the `test_data` dataframe."
   ]
  },
  {
   "cell_type": "code",
   "execution_count": 72,
   "metadata": {
    "collapsed": false
   },
   "outputs": [
    {
     "data": {
      "text/html": [
       "<div>\n",
       "<table border=\"1\" class=\"dataframe\">\n",
       "  <thead>\n",
       "    <tr style=\"text-align: right;\">\n",
       "      <th></th>\n",
       "      <th>Formation</th>\n",
       "      <th>Well Name</th>\n",
       "      <th>Depth</th>\n",
       "      <th>GR</th>\n",
       "      <th>ILD_log10</th>\n",
       "      <th>DeltaPHI</th>\n",
       "      <th>PHIND</th>\n",
       "      <th>PE</th>\n",
       "      <th>NM_M</th>\n",
       "      <th>RELPOS</th>\n",
       "      <th>Facies</th>\n",
       "    </tr>\n",
       "  </thead>\n",
       "  <tbody>\n",
       "    <tr>\n",
       "      <th>0</th>\n",
       "      <td>A1 SH</td>\n",
       "      <td>STUART</td>\n",
       "      <td>2808.0</td>\n",
       "      <td>66.276</td>\n",
       "      <td>0.630</td>\n",
       "      <td>3.300</td>\n",
       "      <td>10.650</td>\n",
       "      <td>3.591</td>\n",
       "      <td>1</td>\n",
       "      <td>1.000</td>\n",
       "      <td>3</td>\n",
       "    </tr>\n",
       "    <tr>\n",
       "      <th>1</th>\n",
       "      <td>A1 SH</td>\n",
       "      <td>STUART</td>\n",
       "      <td>2808.5</td>\n",
       "      <td>77.252</td>\n",
       "      <td>0.585</td>\n",
       "      <td>6.500</td>\n",
       "      <td>11.950</td>\n",
       "      <td>3.341</td>\n",
       "      <td>1</td>\n",
       "      <td>0.978</td>\n",
       "      <td>3</td>\n",
       "    </tr>\n",
       "    <tr>\n",
       "      <th>2</th>\n",
       "      <td>A1 SH</td>\n",
       "      <td>STUART</td>\n",
       "      <td>2809.0</td>\n",
       "      <td>82.899</td>\n",
       "      <td>0.566</td>\n",
       "      <td>9.400</td>\n",
       "      <td>13.600</td>\n",
       "      <td>3.064</td>\n",
       "      <td>1</td>\n",
       "      <td>0.956</td>\n",
       "      <td>3</td>\n",
       "    </tr>\n",
       "    <tr>\n",
       "      <th>3</th>\n",
       "      <td>A1 SH</td>\n",
       "      <td>STUART</td>\n",
       "      <td>2809.5</td>\n",
       "      <td>80.671</td>\n",
       "      <td>0.593</td>\n",
       "      <td>9.500</td>\n",
       "      <td>13.250</td>\n",
       "      <td>2.977</td>\n",
       "      <td>1</td>\n",
       "      <td>0.933</td>\n",
       "      <td>2</td>\n",
       "    </tr>\n",
       "    <tr>\n",
       "      <th>4</th>\n",
       "      <td>A1 SH</td>\n",
       "      <td>STUART</td>\n",
       "      <td>2810.0</td>\n",
       "      <td>75.971</td>\n",
       "      <td>0.638</td>\n",
       "      <td>8.700</td>\n",
       "      <td>12.350</td>\n",
       "      <td>3.020</td>\n",
       "      <td>1</td>\n",
       "      <td>0.911</td>\n",
       "      <td>3</td>\n",
       "    </tr>\n",
       "    <tr>\n",
       "      <th>...</th>\n",
       "      <td>...</td>\n",
       "      <td>...</td>\n",
       "      <td>...</td>\n",
       "      <td>...</td>\n",
       "      <td>...</td>\n",
       "      <td>...</td>\n",
       "      <td>...</td>\n",
       "      <td>...</td>\n",
       "      <td>...</td>\n",
       "      <td>...</td>\n",
       "      <td>...</td>\n",
       "    </tr>\n",
       "    <tr>\n",
       "      <th>807</th>\n",
       "      <td>B5 LM</td>\n",
       "      <td>CRAWFORD</td>\n",
       "      <td>3149.5</td>\n",
       "      <td>83.794</td>\n",
       "      <td>0.749</td>\n",
       "      <td>2.075</td>\n",
       "      <td>7.845</td>\n",
       "      <td>4.023</td>\n",
       "      <td>2</td>\n",
       "      <td>0.086</td>\n",
       "      <td>6</td>\n",
       "    </tr>\n",
       "    <tr>\n",
       "      <th>808</th>\n",
       "      <td>B5 LM</td>\n",
       "      <td>CRAWFORD</td>\n",
       "      <td>3150.0</td>\n",
       "      <td>79.722</td>\n",
       "      <td>0.771</td>\n",
       "      <td>2.890</td>\n",
       "      <td>6.640</td>\n",
       "      <td>4.040</td>\n",
       "      <td>2</td>\n",
       "      <td>0.069</td>\n",
       "      <td>6</td>\n",
       "    </tr>\n",
       "    <tr>\n",
       "      <th>809</th>\n",
       "      <td>B5 LM</td>\n",
       "      <td>CRAWFORD</td>\n",
       "      <td>3150.5</td>\n",
       "      <td>76.334</td>\n",
       "      <td>0.800</td>\n",
       "      <td>2.960</td>\n",
       "      <td>6.290</td>\n",
       "      <td>3.997</td>\n",
       "      <td>2</td>\n",
       "      <td>0.052</td>\n",
       "      <td>6</td>\n",
       "    </tr>\n",
       "    <tr>\n",
       "      <th>810</th>\n",
       "      <td>B5 LM</td>\n",
       "      <td>CRAWFORD</td>\n",
       "      <td>3151.0</td>\n",
       "      <td>73.631</td>\n",
       "      <td>0.800</td>\n",
       "      <td>2.680</td>\n",
       "      <td>6.690</td>\n",
       "      <td>3.828</td>\n",
       "      <td>2</td>\n",
       "      <td>0.034</td>\n",
       "      <td>6</td>\n",
       "    </tr>\n",
       "    <tr>\n",
       "      <th>811</th>\n",
       "      <td>B5 LM</td>\n",
       "      <td>CRAWFORD</td>\n",
       "      <td>3151.5</td>\n",
       "      <td>76.865</td>\n",
       "      <td>0.772</td>\n",
       "      <td>2.420</td>\n",
       "      <td>8.600</td>\n",
       "      <td>3.535</td>\n",
       "      <td>2</td>\n",
       "      <td>0.017</td>\n",
       "      <td>6</td>\n",
       "    </tr>\n",
       "  </tbody>\n",
       "</table>\n",
       "<p>830 rows × 11 columns</p>\n",
       "</div>"
      ],
      "text/plain": [
       "    Formation Well Name   Depth      GR  ILD_log10  DeltaPHI   PHIND     PE  NM_M  RELPOS  Facies\n",
       "0       A1 SH    STUART  2808.0  66.276      0.630     3.300  10.650  3.591     1   1.000       3\n",
       "1       A1 SH    STUART  2808.5  77.252      0.585     6.500  11.950  3.341     1   0.978       3\n",
       "2       A1 SH    STUART  2809.0  82.899      0.566     9.400  13.600  3.064     1   0.956       3\n",
       "3       A1 SH    STUART  2809.5  80.671      0.593     9.500  13.250  2.977     1   0.933       2\n",
       "4       A1 SH    STUART  2810.0  75.971      0.638     8.700  12.350  3.020     1   0.911       3\n",
       "..        ...       ...     ...     ...        ...       ...     ...    ...   ...     ...     ...\n",
       "807     B5 LM  CRAWFORD  3149.5  83.794      0.749     2.075   7.845  4.023     2   0.086       6\n",
       "808     B5 LM  CRAWFORD  3150.0  79.722      0.771     2.890   6.640  4.040     2   0.069       6\n",
       "809     B5 LM  CRAWFORD  3150.5  76.334      0.800     2.960   6.290  3.997     2   0.052       6\n",
       "810     B5 LM  CRAWFORD  3151.0  73.631      0.800     2.680   6.690  3.828     2   0.034       6\n",
       "811     B5 LM  CRAWFORD  3151.5  76.865      0.772     2.420   8.600  3.535     2   0.017       6\n",
       "\n",
       "[830 rows x 11 columns]"
      ]
     },
     "execution_count": 72,
     "metadata": {},
     "output_type": "execute_result"
    }
   ],
   "source": [
    "#predict facies of unclassified data\n",
    "y_unknown0 = clf0.predict(X_unknown0)\n",
    "y_unknown1 = clf1.predict(X_unknown1)\n",
    "well_data0['Facies'] = y_unknown0\n",
    "well_data1['Facies'] = y_unknown1\n",
    "well_data=pd.concat([well_data0,well_data1], axis=0)\n",
    "well_data"
   ]
  },
  {
   "cell_type": "code",
   "execution_count": 73,
   "metadata": {
    "collapsed": false
   },
   "outputs": [
    {
     "data": {
      "text/plain": [
       "[STUART, CRAWFORD]\n",
       "Categories (2, object): [STUART, CRAWFORD]"
      ]
     },
     "execution_count": 73,
     "metadata": {},
     "output_type": "execute_result"
    }
   ],
   "source": [
    "well_data['Well Name'].unique()"
   ]
  },
  {
   "cell_type": "markdown",
   "metadata": {},
   "source": [
    "We can use the well log plot to view the classification results along with the well logs."
   ]
  },
  {
   "cell_type": "code",
   "execution_count": 74,
   "metadata": {
    "collapsed": false
   },
   "outputs": [
    {
     "data": {
      "image/png": "[encoded data removed]",
      "text/plain": [
       "<matplotlib.figure.Figure at 0x1178e9a0898>"
      ]
     },
     "metadata": {},
     "output_type": "display_data"
    }
   ],
   "source": [
    "make_facies_log_plot(\n",
    "    well_data[well_data['Well Name'] == 'STUART'],\n",
    "    facies_colors=facies.Colors)"
   ]
  },
  {
   "cell_type": "code",
   "execution_count": 75,
   "metadata": {
    "collapsed": false,
    "scrolled": false
   },
   "outputs": [
    {
     "data": {
      "image/png": "[encoded data removed]",
      "text/plain": [
       "<matplotlib.figure.Figure at 0x1178c2e8080>"
      ]
     },
     "metadata": {},
     "output_type": "display_data"
    }
   ],
   "source": [
    "make_facies_log_plot(\n",
    "    well_data[well_data['Well Name'] == 'CRAWFORD'],\n",
    "    facies_colors=facies.Colors)"
   ]
  },
  {
   "cell_type": "markdown",
   "metadata": {},
   "source": [
    "Finally we can write out a csv file with the well data along with the facies classification results."
   ]
  },
  {
   "cell_type": "code",
   "execution_count": null,
   "metadata": {
    "collapsed": true
   },
   "outputs": [],
   "source": [
    "well_data0['Facies'] = y_unknown0+1\n",
    "well_data1['Facies'] = y_unknown1+1\n",
    "well_data=pd.concat([well_data0,well_data1], axis=0)\n",
    "well_data.to_csv('well_data_with_facies.csv')"
   ]
  },
  {
   "cell_type": "markdown",
   "metadata": {},
   "source": [
    "## References\n",
    "\n",
    "Amato del Monte, A., 2015. Seismic Petrophysics: Part 1, *The Leading Edge*, 34 (4). [doi:10.1190/tle34040440.1](http://dx.doi.org/10.1190/tle34040440.1)\n",
    "\n",
    "Bohling, G. C., and M. K. Dubois, 2003. An Integrated Application of Neural Network and Markov Chain Techniques to Prediction of Lithofacies from Well Logs, *KGS Open-File Report* 2003-50, 6 pp. [pdf](http://www.kgs.ku.edu/PRS/publication/2003/ofr2003-50.pdf)\n",
    "\n",
    "Dubois, M. K., G. C. Bohling, and S. Chakrabarti, 2007, Comparison of four approaches to a rock facies classification problem, *Computers & Geosciences*, 33 (5), 599-617 pp. [doi:10.1016/j.cageo.2006.08.011](http://dx.doi.org/10.1016/j.cageo.2006.08.011)"
   ]
  }
 ],
 "metadata": {
  "anaconda-cloud": {},
  "kernelspec": {
   "display_name": "Python [conda root]",
   "language": "python",
   "name": "conda-root-py"
  },
  "language_info": {
   "codemirror_mode": {
    "name": "ipython",
    "version": 3
   },
   "file_extension": ".py",
   "mimetype": "text/x-python",
   "name": "python",
   "nbconvert_exporter": "python",
   "pygments_lexer": "ipython3",
   "version": "3.5.2"
  }
 },
 "nbformat": 4,
 "nbformat_minor": 0
}
