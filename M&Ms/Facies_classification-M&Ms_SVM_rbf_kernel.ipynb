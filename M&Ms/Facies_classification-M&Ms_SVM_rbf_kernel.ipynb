{
 "cells": [
  {
   "cell_type": "markdown",
   "metadata": {},
   "source": [
    "## Facies classification using Machine Learning\n",
    "\n",
    "\n",
    "### Contest entry by Matteo Niccoli and Mark Dahl\n",
    "\n",
    "\n",
    "#### Based on [the original notebook](../Facies_classification.ipynb) by Brendon Hall, [Enthought](https://www.enthought.com/)"
   ]
  },
  {
   "cell_type": "markdown",
   "metadata": {},
   "source": [
    "This notebook demonstrates how to train a machine learning algorithm to predict facies from well log data.  The dataset we will use comes from a class excercise from The University of Kansas on [Neural Networks and Fuzzy Systems](http://www.people.ku.edu/~gbohling/EECS833/).  This exercise is based on a consortium project to use machine learning techniques to create a reservoir model of the largest gas fields in North America, the Hugoton and Panoma Fields. For more info on the origin of the data, see [Bohling and Dubois (2003)](http://www.kgs.ku.edu/PRS/publication/2003/ofr2003-50.pdf) and [Dubois et al. (2007)](http://dx.doi.org/10.1016/j.cageo.2006.08.011). \n",
    "\n",
    "The dataset we will use is log data from nine wells that have been labeled with a facies type based on oberservation of core.  We will use this log data to train a support vector machine to classify facies types.  Support vector machines (or SVMs) are a type of supervised learning model that can be trained on data to perform classification and regression tasks.  The SVM algorithm uses the training data to fit an optimal hyperplane between the different classes (or facies, in our case).  We will use the SVM implementation in [scikit-learn](http://scikit-learn.org/stable/modules/svm.html).\n"
   ]
  },
  {
   "cell_type": "markdown",
   "metadata": {},
   "source": [
    "### Exploring the dataset\n",
    "\n",
    "First, we will examine the data set we will use to train the classifier."
   ]
  },
  {
   "cell_type": "code",
   "execution_count": 1,
   "metadata": {
    "collapsed": false
   },
   "outputs": [],
   "source": [
    "%matplotlib inline\n",
    "import numpy as np\n",
    "import matplotlib as mpl\n",
    "import matplotlib.pyplot as plt\n",
    "\n",
    "from sklearn import preprocessing\n",
    "from sklearn.metrics import f1_score, accuracy_score, make_scorer\n",
    "\n",
    "from sklearn.model_selection import LeaveOneGroupOut, validation_curve\n",
    "import pandas as pd\n",
    "from pandas import set_option\n",
    "set_option(\"display.max_rows\", 10)\n",
    "pd.options.mode.chained_assignment = None"
   ]
  },
  {
   "cell_type": "code",
   "execution_count": 2,
   "metadata": {
    "collapsed": false
   },
   "outputs": [
    {
     "data": {
      "text/html": [
       "<div>\n",
       "<table border=\"1\" class=\"dataframe\">\n",
       "  <thead>\n",
       "    <tr style=\"text-align: right;\">\n",
       "      <th></th>\n",
       "      <th>Facies</th>\n",
       "      <th>Formation</th>\n",
       "      <th>Well Name</th>\n",
       "      <th>Depth</th>\n",
       "      <th>GR</th>\n",
       "      <th>ILD_log10</th>\n",
       "      <th>DeltaPHI</th>\n",
       "      <th>PHIND</th>\n",
       "      <th>PE</th>\n",
       "      <th>NM_M</th>\n",
       "      <th>RELPOS</th>\n",
       "    </tr>\n",
       "  </thead>\n",
       "  <tbody>\n",
       "    <tr>\n",
       "      <th>0</th>\n",
       "      <td>3</td>\n",
       "      <td>A1 SH</td>\n",
       "      <td>SHRIMPLIN</td>\n",
       "      <td>2793.0</td>\n",
       "      <td>77.450</td>\n",
       "      <td>0.664</td>\n",
       "      <td>9.900</td>\n",
       "      <td>11.915</td>\n",
       "      <td>4.600</td>\n",
       "      <td>1</td>\n",
       "      <td>1.000</td>\n",
       "    </tr>\n",
       "    <tr>\n",
       "      <th>1</th>\n",
       "      <td>3</td>\n",
       "      <td>A1 SH</td>\n",
       "      <td>SHRIMPLIN</td>\n",
       "      <td>2793.5</td>\n",
       "      <td>78.260</td>\n",
       "      <td>0.661</td>\n",
       "      <td>14.200</td>\n",
       "      <td>12.565</td>\n",
       "      <td>4.100</td>\n",
       "      <td>1</td>\n",
       "      <td>0.979</td>\n",
       "    </tr>\n",
       "    <tr>\n",
       "      <th>2</th>\n",
       "      <td>3</td>\n",
       "      <td>A1 SH</td>\n",
       "      <td>SHRIMPLIN</td>\n",
       "      <td>2794.0</td>\n",
       "      <td>79.050</td>\n",
       "      <td>0.658</td>\n",
       "      <td>14.800</td>\n",
       "      <td>13.050</td>\n",
       "      <td>3.600</td>\n",
       "      <td>1</td>\n",
       "      <td>0.957</td>\n",
       "    </tr>\n",
       "    <tr>\n",
       "      <th>3</th>\n",
       "      <td>3</td>\n",
       "      <td>A1 SH</td>\n",
       "      <td>SHRIMPLIN</td>\n",
       "      <td>2794.5</td>\n",
       "      <td>86.100</td>\n",
       "      <td>0.655</td>\n",
       "      <td>13.900</td>\n",
       "      <td>13.115</td>\n",
       "      <td>3.500</td>\n",
       "      <td>1</td>\n",
       "      <td>0.936</td>\n",
       "    </tr>\n",
       "    <tr>\n",
       "      <th>4</th>\n",
       "      <td>3</td>\n",
       "      <td>A1 SH</td>\n",
       "      <td>SHRIMPLIN</td>\n",
       "      <td>2795.0</td>\n",
       "      <td>74.580</td>\n",
       "      <td>0.647</td>\n",
       "      <td>13.500</td>\n",
       "      <td>13.300</td>\n",
       "      <td>3.400</td>\n",
       "      <td>1</td>\n",
       "      <td>0.915</td>\n",
       "    </tr>\n",
       "    <tr>\n",
       "      <th>...</th>\n",
       "      <td>...</td>\n",
       "      <td>...</td>\n",
       "      <td>...</td>\n",
       "      <td>...</td>\n",
       "      <td>...</td>\n",
       "      <td>...</td>\n",
       "      <td>...</td>\n",
       "      <td>...</td>\n",
       "      <td>...</td>\n",
       "      <td>...</td>\n",
       "      <td>...</td>\n",
       "    </tr>\n",
       "    <tr>\n",
       "      <th>4144</th>\n",
       "      <td>5</td>\n",
       "      <td>C LM</td>\n",
       "      <td>CHURCHMAN BIBLE</td>\n",
       "      <td>3120.5</td>\n",
       "      <td>46.719</td>\n",
       "      <td>0.947</td>\n",
       "      <td>1.828</td>\n",
       "      <td>7.254</td>\n",
       "      <td>3.617</td>\n",
       "      <td>2</td>\n",
       "      <td>0.685</td>\n",
       "    </tr>\n",
       "    <tr>\n",
       "      <th>4145</th>\n",
       "      <td>5</td>\n",
       "      <td>C LM</td>\n",
       "      <td>CHURCHMAN BIBLE</td>\n",
       "      <td>3121.0</td>\n",
       "      <td>44.563</td>\n",
       "      <td>0.953</td>\n",
       "      <td>2.241</td>\n",
       "      <td>8.013</td>\n",
       "      <td>3.344</td>\n",
       "      <td>2</td>\n",
       "      <td>0.677</td>\n",
       "    </tr>\n",
       "    <tr>\n",
       "      <th>4146</th>\n",
       "      <td>5</td>\n",
       "      <td>C LM</td>\n",
       "      <td>CHURCHMAN BIBLE</td>\n",
       "      <td>3121.5</td>\n",
       "      <td>49.719</td>\n",
       "      <td>0.964</td>\n",
       "      <td>2.925</td>\n",
       "      <td>8.013</td>\n",
       "      <td>3.190</td>\n",
       "      <td>2</td>\n",
       "      <td>0.669</td>\n",
       "    </tr>\n",
       "    <tr>\n",
       "      <th>4147</th>\n",
       "      <td>5</td>\n",
       "      <td>C LM</td>\n",
       "      <td>CHURCHMAN BIBLE</td>\n",
       "      <td>3122.0</td>\n",
       "      <td>51.469</td>\n",
       "      <td>0.965</td>\n",
       "      <td>3.083</td>\n",
       "      <td>7.708</td>\n",
       "      <td>3.152</td>\n",
       "      <td>2</td>\n",
       "      <td>0.661</td>\n",
       "    </tr>\n",
       "    <tr>\n",
       "      <th>4148</th>\n",
       "      <td>5</td>\n",
       "      <td>C LM</td>\n",
       "      <td>CHURCHMAN BIBLE</td>\n",
       "      <td>3122.5</td>\n",
       "      <td>50.031</td>\n",
       "      <td>0.970</td>\n",
       "      <td>2.609</td>\n",
       "      <td>6.668</td>\n",
       "      <td>3.295</td>\n",
       "      <td>2</td>\n",
       "      <td>0.653</td>\n",
       "    </tr>\n",
       "  </tbody>\n",
       "</table>\n",
       "<p>4149 rows × 11 columns</p>\n",
       "</div>"
      ],
      "text/plain": [
       "      Facies Formation        Well Name   Depth      GR  ILD_log10  DeltaPHI  \\\n",
       "0          3     A1 SH        SHRIMPLIN  2793.0  77.450      0.664     9.900   \n",
       "1          3     A1 SH        SHRIMPLIN  2793.5  78.260      0.661    14.200   \n",
       "2          3     A1 SH        SHRIMPLIN  2794.0  79.050      0.658    14.800   \n",
       "3          3     A1 SH        SHRIMPLIN  2794.5  86.100      0.655    13.900   \n",
       "4          3     A1 SH        SHRIMPLIN  2795.0  74.580      0.647    13.500   \n",
       "...      ...       ...              ...     ...     ...        ...       ...   \n",
       "4144       5      C LM  CHURCHMAN BIBLE  3120.5  46.719      0.947     1.828   \n",
       "4145       5      C LM  CHURCHMAN BIBLE  3121.0  44.563      0.953     2.241   \n",
       "4146       5      C LM  CHURCHMAN BIBLE  3121.5  49.719      0.964     2.925   \n",
       "4147       5      C LM  CHURCHMAN BIBLE  3122.0  51.469      0.965     3.083   \n",
       "4148       5      C LM  CHURCHMAN BIBLE  3122.5  50.031      0.970     2.609   \n",
       "\n",
       "       PHIND     PE  NM_M  RELPOS  \n",
       "0     11.915  4.600     1   1.000  \n",
       "1     12.565  4.100     1   0.979  \n",
       "2     13.050  3.600     1   0.957  \n",
       "3     13.115  3.500     1   0.936  \n",
       "4     13.300  3.400     1   0.915  \n",
       "...      ...    ...   ...     ...  \n",
       "4144   7.254  3.617     2   0.685  \n",
       "4145   8.013  3.344     2   0.677  \n",
       "4146   8.013  3.190     2   0.669  \n",
       "4147   7.708  3.152     2   0.661  \n",
       "4148   6.668  3.295     2   0.653  \n",
       "\n",
       "[4149 rows x 11 columns]"
      ]
     },
     "execution_count": 2,
     "metadata": {},
     "output_type": "execute_result"
    }
   ],
   "source": [
    "filename = '../facies_vectors.csv'\n",
    "training_data = pd.read_csv(filename)\n",
    "training_data"
   ]
  },
  {
   "cell_type": "markdown",
   "metadata": {},
   "source": [
    "This data is from the Council Grove gas reservoir in Southwest Kansas.  The Panoma Council Grove Field is predominantly a carbonate gas reservoir encompassing 2700 square miles in Southwestern Kansas.  This dataset is from nine wells (with 4149 examples), consisting of a set of seven predictor variables and a rock facies (class) for each example vector and validation (test) data (830 examples from two wells) having the same seven predictor variables in the feature vector.  Facies are based on examination of cores from nine wells taken vertically at half-foot intervals. Predictor variables include five from wireline log measurements and two geologic constraining variables that are derived from geologic knowledge. These are essentially continuous variables sampled at a half-foot sample rate. \n",
    "\n",
    "The seven predictor variables are:\n",
    "* Five wire line log curves include [gamma ray](http://petrowiki.org/Gamma_ray_logs) (GR), [resistivity logging](http://petrowiki.org/Resistivity_and_spontaneous_%28SP%29_logging) (ILD_log10),\n",
    "[photoelectric effect](http://www.glossary.oilfield.slb.com/en/Terms/p/photoelectric_effect.aspx) (PE), [neutron-density porosity difference and average neutron-density porosity](http://petrowiki.org/Neutron_porosity_logs) (DeltaPHI and PHIND). Note, some wells do not have PE.\n",
    "* Two geologic constraining variables: nonmarine-marine indicator (NM_M) and relative position (RELPOS)\n",
    "\n",
    "The nine discrete facies (classes of rocks) are: \n",
    "1. Nonmarine sandstone\n",
    "2. Nonmarine coarse siltstone \n",
    "3. Nonmarine fine siltstone \n",
    "4. Marine siltstone and shale \n",
    "5. Mudstone (limestone)\n",
    "6. Wackestone (limestone)\n",
    "7. Dolomite\n",
    "8. Packstone-grainstone (limestone)\n",
    "9. Phylloid-algal bafflestone (limestone)\n",
    "\n",
    "These facies aren't discrete, and gradually blend into one another. Some have neighboring facies that are rather close.  Mislabeling within these neighboring facies can be expected to occur.  The following table lists the facies, their abbreviated labels and their approximate neighbors.\n",
    "\n",
    "Facies |Label| Adjacent Facies\n",
    ":---: | :---: |:--:\n",
    "1 |SS| 2\n",
    "2 |CSiS| 1,3\n",
    "3 |FSiS| 2\n",
    "4 |SiSh| 5\n",
    "5 |MS| 4,6\n",
    "6 |WS| 5,7\n",
    "7 |D| 6,8\n",
    "8 |PS| 6,7,9\n",
    "9 |BS| 7,8\n",
    "\n",
    "Let's clean up this dataset.  The 'Well Name' and 'Formation' columns can be turned into a categorical data type.  "
   ]
  },
  {
   "cell_type": "code",
   "execution_count": 3,
   "metadata": {
    "collapsed": false
   },
   "outputs": [
    {
     "data": {
      "text/plain": [
       "[SHRIMPLIN, ALEXANDER D, SHANKLE, LUKE G U, KIMZEY A, CROSS H CATTLE, NOLAN, Recruit F9, NEWBY, CHURCHMAN BIBLE]\n",
       "Categories (10, object): [SHRIMPLIN, ALEXANDER D, SHANKLE, LUKE G U, ..., NOLAN, Recruit F9, NEWBY, CHURCHMAN BIBLE]"
      ]
     },
     "execution_count": 3,
     "metadata": {},
     "output_type": "execute_result"
    }
   ],
   "source": [
    "training_data['Well Name'] = training_data['Well Name'].astype('category')\n",
    "training_data['Formation'] = training_data['Formation'].astype('category')\n",
    "training_data['Well Name'].unique()"
   ]
  },
  {
   "cell_type": "markdown",
   "metadata": {},
   "source": [
    "These are the names of the 10 training wells in the Council Grove reservoir.  Data has been recruited into pseudo-well 'Recruit F9' to better represent facies 9, the Phylloid-algal bafflestone. \n",
    "\n",
    "Before we plot the well data, let's define a color map so the facies are represented by consistent color in all the plots in this tutorial.  We also create the abbreviated facies labels, and add those to the `facies_vectors` dataframe."
   ]
  },
  {
   "cell_type": "code",
   "execution_count": 4,
   "metadata": {
    "collapsed": false
   },
   "outputs": [
    {
     "data": {
      "text/html": [
       "<div>\n",
       "<table border=\"1\" class=\"dataframe\">\n",
       "  <thead>\n",
       "    <tr style=\"text-align: right;\">\n",
       "      <th></th>\n",
       "      <th>Facies</th>\n",
       "      <th>Depth</th>\n",
       "      <th>GR</th>\n",
       "      <th>ILD_log10</th>\n",
       "      <th>DeltaPHI</th>\n",
       "      <th>PHIND</th>\n",
       "      <th>PE</th>\n",
       "      <th>NM_M</th>\n",
       "      <th>RELPOS</th>\n",
       "    </tr>\n",
       "  </thead>\n",
       "  <tbody>\n",
       "    <tr>\n",
       "      <th>count</th>\n",
       "      <td>4149.000000</td>\n",
       "      <td>4149.000000</td>\n",
       "      <td>4149.000000</td>\n",
       "      <td>4149.000000</td>\n",
       "      <td>4149.000000</td>\n",
       "      <td>4149.000000</td>\n",
       "      <td>3232.000000</td>\n",
       "      <td>4149.000000</td>\n",
       "      <td>4149.000000</td>\n",
       "    </tr>\n",
       "    <tr>\n",
       "      <th>mean</th>\n",
       "      <td>4.503254</td>\n",
       "      <td>2906.867438</td>\n",
       "      <td>64.933985</td>\n",
       "      <td>0.659566</td>\n",
       "      <td>4.402484</td>\n",
       "      <td>13.201066</td>\n",
       "      <td>3.725014</td>\n",
       "      <td>1.518438</td>\n",
       "      <td>0.521852</td>\n",
       "    </tr>\n",
       "    <tr>\n",
       "      <th>std</th>\n",
       "      <td>2.474324</td>\n",
       "      <td>133.300164</td>\n",
       "      <td>30.302530</td>\n",
       "      <td>0.252703</td>\n",
       "      <td>5.274947</td>\n",
       "      <td>7.132846</td>\n",
       "      <td>0.896152</td>\n",
       "      <td>0.499720</td>\n",
       "      <td>0.286644</td>\n",
       "    </tr>\n",
       "    <tr>\n",
       "      <th>min</th>\n",
       "      <td>1.000000</td>\n",
       "      <td>2573.500000</td>\n",
       "      <td>10.149000</td>\n",
       "      <td>-0.025949</td>\n",
       "      <td>-21.832000</td>\n",
       "      <td>0.550000</td>\n",
       "      <td>0.200000</td>\n",
       "      <td>1.000000</td>\n",
       "      <td>0.000000</td>\n",
       "    </tr>\n",
       "    <tr>\n",
       "      <th>25%</th>\n",
       "      <td>2.000000</td>\n",
       "      <td>2821.500000</td>\n",
       "      <td>44.730000</td>\n",
       "      <td>0.498000</td>\n",
       "      <td>1.600000</td>\n",
       "      <td>8.500000</td>\n",
       "      <td>3.100000</td>\n",
       "      <td>1.000000</td>\n",
       "      <td>0.277000</td>\n",
       "    </tr>\n",
       "    <tr>\n",
       "      <th>50%</th>\n",
       "      <td>4.000000</td>\n",
       "      <td>2932.500000</td>\n",
       "      <td>64.990000</td>\n",
       "      <td>0.639000</td>\n",
       "      <td>4.300000</td>\n",
       "      <td>12.020000</td>\n",
       "      <td>3.551500</td>\n",
       "      <td>2.000000</td>\n",
       "      <td>0.528000</td>\n",
       "    </tr>\n",
       "    <tr>\n",
       "      <th>75%</th>\n",
       "      <td>6.000000</td>\n",
       "      <td>3007.000000</td>\n",
       "      <td>79.438000</td>\n",
       "      <td>0.822000</td>\n",
       "      <td>7.500000</td>\n",
       "      <td>16.050000</td>\n",
       "      <td>4.300000</td>\n",
       "      <td>2.000000</td>\n",
       "      <td>0.769000</td>\n",
       "    </tr>\n",
       "    <tr>\n",
       "      <th>max</th>\n",
       "      <td>9.000000</td>\n",
       "      <td>3138.000000</td>\n",
       "      <td>361.150000</td>\n",
       "      <td>1.800000</td>\n",
       "      <td>19.312000</td>\n",
       "      <td>84.400000</td>\n",
       "      <td>8.094000</td>\n",
       "      <td>2.000000</td>\n",
       "      <td>1.000000</td>\n",
       "    </tr>\n",
       "  </tbody>\n",
       "</table>\n",
       "</div>"
      ],
      "text/plain": [
       "            Facies        Depth           GR    ILD_log10     DeltaPHI  \\\n",
       "count  4149.000000  4149.000000  4149.000000  4149.000000  4149.000000   \n",
       "mean      4.503254  2906.867438    64.933985     0.659566     4.402484   \n",
       "std       2.474324   133.300164    30.302530     0.252703     5.274947   \n",
       "min       1.000000  2573.500000    10.149000    -0.025949   -21.832000   \n",
       "25%       2.000000  2821.500000    44.730000     0.498000     1.600000   \n",
       "50%       4.000000  2932.500000    64.990000     0.639000     4.300000   \n",
       "75%       6.000000  3007.000000    79.438000     0.822000     7.500000   \n",
       "max       9.000000  3138.000000   361.150000     1.800000    19.312000   \n",
       "\n",
       "             PHIND           PE         NM_M       RELPOS  \n",
       "count  4149.000000  3232.000000  4149.000000  4149.000000  \n",
       "mean     13.201066     3.725014     1.518438     0.521852  \n",
       "std       7.132846     0.896152     0.499720     0.286644  \n",
       "min       0.550000     0.200000     1.000000     0.000000  \n",
       "25%       8.500000     3.100000     1.000000     0.277000  \n",
       "50%      12.020000     3.551500     2.000000     0.528000  \n",
       "75%      16.050000     4.300000     2.000000     0.769000  \n",
       "max      84.400000     8.094000     2.000000     1.000000  "
      ]
     },
     "execution_count": 4,
     "metadata": {},
     "output_type": "execute_result"
    }
   ],
   "source": [
    "# 1=sandstone  2=c_siltstone   3=f_siltstone # 4=marine_silt_shale \n",
    "#5=mudstone 6=wackestone 7=dolomite 8=packstone 9=bafflestone\n",
    "facies_colors = ['#F4D03F', '#F5B041', '#DC7633','#A569BD',\n",
    "       '#000000', '#000080', '#2E86C1', '#AED6F1', '#196F3D']\n",
    "\n",
    "facies_labels = ['SS', 'CSiS', 'FSiS', 'SiSh', 'MS',\n",
    "                 'WS', 'D','PS', 'BS']\n",
    "#facies_color_map is a dictionary that maps facies labels\n",
    "#to their respective colors\n",
    "facies_color_map = {}\n",
    "for ind, label in enumerate(facies_labels):\n",
    "    facies_color_map[label] = facies_colors[ind]\n",
    "\n",
    "def label_facies(row, labels):\n",
    "    return labels[ row['Facies'] -1]\n",
    "    \n",
    "training_data.loc[:,'FaciesLabels'] = training_data.apply(lambda row: label_facies(row, facies_labels), axis=1)\n",
    "training_data.describe()"
   ]
  },
  {
   "cell_type": "markdown",
   "metadata": {},
   "source": [
    "This is a quick view of the statistical distribution of the input variables.  Looking at the `count` values, most values have 4149 valid values except for `PE`, which has 3232.  In this tutorial we will drop the feature vectors that don't have a valid `PE` entry."
   ]
  },
  {
   "cell_type": "code",
   "execution_count": 5,
   "metadata": {
    "collapsed": true
   },
   "outputs": [],
   "source": [
    "PE_mask = training_data['PE'].notnull().values\n",
    "training_data = training_data[PE_mask]"
   ]
  },
  {
   "cell_type": "code",
   "execution_count": 6,
   "metadata": {
    "collapsed": false
   },
   "outputs": [
    {
     "data": {
      "text/html": [
       "<div>\n",
       "<table border=\"1\" class=\"dataframe\">\n",
       "  <thead>\n",
       "    <tr style=\"text-align: right;\">\n",
       "      <th></th>\n",
       "      <th>Facies</th>\n",
       "      <th>Depth</th>\n",
       "      <th>GR</th>\n",
       "      <th>ILD_log10</th>\n",
       "      <th>DeltaPHI</th>\n",
       "      <th>PHIND</th>\n",
       "      <th>PE</th>\n",
       "      <th>NM_M</th>\n",
       "      <th>RELPOS</th>\n",
       "    </tr>\n",
       "  </thead>\n",
       "  <tbody>\n",
       "    <tr>\n",
       "      <th>count</th>\n",
       "      <td>3232.000000</td>\n",
       "      <td>3232.000000</td>\n",
       "      <td>3232.000000</td>\n",
       "      <td>3232.000000</td>\n",
       "      <td>3232.000000</td>\n",
       "      <td>3232.000000</td>\n",
       "      <td>3232.000000</td>\n",
       "      <td>3232.000000</td>\n",
       "      <td>3232.000000</td>\n",
       "    </tr>\n",
       "    <tr>\n",
       "      <th>mean</th>\n",
       "      <td>4.422030</td>\n",
       "      <td>2875.824567</td>\n",
       "      <td>66.135769</td>\n",
       "      <td>0.642719</td>\n",
       "      <td>3.559642</td>\n",
       "      <td>13.483213</td>\n",
       "      <td>3.725014</td>\n",
       "      <td>1.498453</td>\n",
       "      <td>0.520287</td>\n",
       "    </tr>\n",
       "    <tr>\n",
       "      <th>std</th>\n",
       "      <td>2.504243</td>\n",
       "      <td>131.006274</td>\n",
       "      <td>30.854826</td>\n",
       "      <td>0.241845</td>\n",
       "      <td>5.228948</td>\n",
       "      <td>7.698980</td>\n",
       "      <td>0.896152</td>\n",
       "      <td>0.500075</td>\n",
       "      <td>0.286792</td>\n",
       "    </tr>\n",
       "    <tr>\n",
       "      <th>min</th>\n",
       "      <td>1.000000</td>\n",
       "      <td>2573.500000</td>\n",
       "      <td>13.250000</td>\n",
       "      <td>-0.025949</td>\n",
       "      <td>-21.832000</td>\n",
       "      <td>0.550000</td>\n",
       "      <td>0.200000</td>\n",
       "      <td>1.000000</td>\n",
       "      <td>0.010000</td>\n",
       "    </tr>\n",
       "    <tr>\n",
       "      <th>25%</th>\n",
       "      <td>2.000000</td>\n",
       "      <td>2791.000000</td>\n",
       "      <td>46.918750</td>\n",
       "      <td>0.492750</td>\n",
       "      <td>1.163750</td>\n",
       "      <td>8.346750</td>\n",
       "      <td>3.100000</td>\n",
       "      <td>1.000000</td>\n",
       "      <td>0.273000</td>\n",
       "    </tr>\n",
       "    <tr>\n",
       "      <th>50%</th>\n",
       "      <td>4.000000</td>\n",
       "      <td>2893.500000</td>\n",
       "      <td>65.721500</td>\n",
       "      <td>0.624437</td>\n",
       "      <td>3.500000</td>\n",
       "      <td>12.150000</td>\n",
       "      <td>3.551500</td>\n",
       "      <td>1.000000</td>\n",
       "      <td>0.526000</td>\n",
       "    </tr>\n",
       "    <tr>\n",
       "      <th>75%</th>\n",
       "      <td>6.000000</td>\n",
       "      <td>2980.000000</td>\n",
       "      <td>79.626250</td>\n",
       "      <td>0.812735</td>\n",
       "      <td>6.432500</td>\n",
       "      <td>16.453750</td>\n",
       "      <td>4.300000</td>\n",
       "      <td>2.000000</td>\n",
       "      <td>0.767250</td>\n",
       "    </tr>\n",
       "    <tr>\n",
       "      <th>max</th>\n",
       "      <td>9.000000</td>\n",
       "      <td>3122.500000</td>\n",
       "      <td>361.150000</td>\n",
       "      <td>1.480000</td>\n",
       "      <td>18.600000</td>\n",
       "      <td>84.400000</td>\n",
       "      <td>8.094000</td>\n",
       "      <td>2.000000</td>\n",
       "      <td>1.000000</td>\n",
       "    </tr>\n",
       "  </tbody>\n",
       "</table>\n",
       "</div>"
      ],
      "text/plain": [
       "            Facies        Depth           GR    ILD_log10     DeltaPHI  \\\n",
       "count  3232.000000  3232.000000  3232.000000  3232.000000  3232.000000   \n",
       "mean      4.422030  2875.824567    66.135769     0.642719     3.559642   \n",
       "std       2.504243   131.006274    30.854826     0.241845     5.228948   \n",
       "min       1.000000  2573.500000    13.250000    -0.025949   -21.832000   \n",
       "25%       2.000000  2791.000000    46.918750     0.492750     1.163750   \n",
       "50%       4.000000  2893.500000    65.721500     0.624437     3.500000   \n",
       "75%       6.000000  2980.000000    79.626250     0.812735     6.432500   \n",
       "max       9.000000  3122.500000   361.150000     1.480000    18.600000   \n",
       "\n",
       "             PHIND           PE         NM_M       RELPOS  \n",
       "count  3232.000000  3232.000000  3232.000000  3232.000000  \n",
       "mean     13.483213     3.725014     1.498453     0.520287  \n",
       "std       7.698980     0.896152     0.500075     0.286792  \n",
       "min       0.550000     0.200000     1.000000     0.010000  \n",
       "25%       8.346750     3.100000     1.000000     0.273000  \n",
       "50%      12.150000     3.551500     1.000000     0.526000  \n",
       "75%      16.453750     4.300000     2.000000     0.767250  \n",
       "max      84.400000     8.094000     2.000000     1.000000  "
      ]
     },
     "execution_count": 6,
     "metadata": {},
     "output_type": "execute_result"
    }
   ],
   "source": [
    "training_data.describe()"
   ]
  },
  {
   "cell_type": "markdown",
   "metadata": {},
   "source": [
    "Now we extract just the feature variables we need to perform the classification.  The predictor variables are the five log values and two geologic constraining variables, and depth. We also get a vector of the facies labels that correspond to each feature vector."
   ]
  },
  {
   "cell_type": "code",
   "execution_count": 7,
   "metadata": {
    "collapsed": false,
    "scrolled": true
   },
   "outputs": [
    {
     "name": "stdout",
     "output_type": "stream",
     "text": [
      "[3 3 2 2 2 2 2 2 3 3 3 3 3 3 3]\n",
      "(3232,)\n"
     ]
    }
   ],
   "source": [
    "y = training_data['Facies'].values\n",
    "print y[25:40]\n",
    "print np.shape(y)"
   ]
  },
  {
   "cell_type": "code",
   "execution_count": 8,
   "metadata": {
    "collapsed": false
   },
   "outputs": [
    {
     "name": "stdout",
     "output_type": "stream",
     "text": [
      "(3232, 8)\n"
     ]
    }
   ],
   "source": [
    "X = training_data.drop(['Formation', 'Well Name','Facies','FaciesLabels'], axis=1)\n",
    "X.describe(percentiles=[.05, .25, .50, .75, .95])\n",
    "print np.shape(X)"
   ]
  },
  {
   "cell_type": "markdown",
   "metadata": {},
   "source": [
    "###  Stratified K-fold validation to evaluate model performance \n",
    "One of the key steps in machine learning is to estimate a model's performance on data that it has not seen before.\n",
    "Scikit-learn provides a simple utility utility (train_test_split) to partition the data into a training and a test set, but the disadvantage with that is that we ignore a portion of our dataset during training. An additional disadvantage of simple spit, inherent to log data, is that there's a depth dependence. \n",
    "\n",
    "A possible strategy to avoid this is cross-validation. With k-fold cross-validation we randomly split the data into k-folds without replacement, where k-1 folds are used for training and one fold for testing. The process is repeated k times, and the performance is obtained by taking the average of the k individual performances.\n",
    "\n",
    "Stratified k-fold is an improvement over standard k-fold in that the class proportions are preserved in each fold to ensure that each fold is representative of the class proportions in the data.\n",
    "\n",
    "### Grid search for parameter tuning\n",
    "\n",
    "Another important aspect of machine learning is the search for the optimal model parameters (i.e. those that will yield the best performance). This tuning is done using grid search.\n",
    "\n",
    "The above short summary is based on Sebastian Raschka's <a href=\"https://github.com/rasbt/python-machine-learning-book\"> Python Machine Learning</a> book."
   ]
  },
  {
   "cell_type": "code",
   "execution_count": 9,
   "metadata": {
    "collapsed": true
   },
   "outputs": [],
   "source": [
    "from sklearn.model_selection import GridSearchCV"
   ]
  },
  {
   "cell_type": "markdown",
   "metadata": {},
   "source": [
    "### Make performance scorers\n",
    "Used to  evaluate performance."
   ]
  },
  {
   "cell_type": "code",
   "execution_count": 10,
   "metadata": {
    "collapsed": false
   },
   "outputs": [],
   "source": [
    "Fscorer = make_scorer(f1_score, average = 'micro')\n",
    "Ascorer = make_scorer(accuracy_score)"
   ]
  },
  {
   "cell_type": "markdown",
   "metadata": {},
   "source": [
    "### Two birds with a stone\n",
    "\n",
    "Grid search with stratified K-fold: http://scikit-learn.org/stable/auto_examples/model_selection/grid_search_digits.html#sphx-glr-auto-examples-model-selection-grid-search-digits-py."
   ]
  },
  {
   "cell_type": "markdown",
   "metadata": {},
   "source": [
    "###  SVM classifier\n",
    "Very much like the classifier in the article. We will re-import the data so as to preprocess it as in the tutorial."
   ]
  },
  {
   "cell_type": "code",
   "execution_count": 11,
   "metadata": {
    "collapsed": true
   },
   "outputs": [],
   "source": [
    "from sklearn import svm\n",
    "SVC_classifier = svm.SVC(cache_size = 500, random_state=1)"
   ]
  },
  {
   "cell_type": "code",
   "execution_count": 12,
   "metadata": {
    "collapsed": true
   },
   "outputs": [],
   "source": [
    "training_data = pd.read_csv('../training_data.csv')\n",
    "X = training_data.drop(['Formation', 'Well Name', 'Facies'], axis=1).values\n",
    "scaler = preprocessing.StandardScaler().fit(X)\n",
    "X = scaler.transform(X)\n",
    "y = training_data['Facies'].values"
   ]
  },
  {
   "cell_type": "code",
   "execution_count": 13,
   "metadata": {
    "collapsed": false
   },
   "outputs": [
    {
     "name": "stdout",
     "output_type": "stream",
     "text": [
      "Best score: 0.540532178218\n",
      "Best parameters: {'kernel': 'rbf', 'C': 5, 'gamma': 0.01}\n"
     ]
    },
    {
     "data": {
      "text/plain": [
       "SVC(C=5, cache_size=500, class_weight=None, coef0=0.0,\n",
       "  decision_function_shape=None, degree=3, gamma=0.01, kernel='rbf',\n",
       "  max_iter=-1, probability=False, random_state=1, shrinking=True,\n",
       "  tol=0.001, verbose=False)"
      ]
     },
     "execution_count": 13,
     "metadata": {},
     "output_type": "execute_result"
    }
   ],
   "source": [
    "parm_grid={'kernel': ['linear', 'rbf'],\n",
    "            'C': [0.5, 1, 5, 10, 15],\n",
    "            'gamma':[0.0001, 0.001, 0.01, 0.1, 1, 10]}\n",
    "\n",
    "\n",
    "grid_search = GridSearchCV(SVC_classifier,\n",
    "                           param_grid=parm_grid,\n",
    "                           scoring = Fscorer,\n",
    "                           cv=10) # Stratified K-fold with n_splits=10\n",
    "                                  # For integer inputs, if the estimator is a\n",
    "                                  # classifier and y is either binary or multiclass,\n",
    "                                  # as in our case, StratifiedKFold is used\n",
    "            \n",
    "grid_search.fit(X, y)\n",
    "\n",
    "print('Best score: {}'.format(grid_search.best_score_))\n",
    "print('Best parameters: {}'.format(grid_search.best_params_))\n",
    "\n",
    "grid_search.best_estimator_"
   ]
  },
  {
   "cell_type": "markdown",
   "metadata": {},
   "source": [
    "### Learning curves\n",
    "\n",
    "Adapted from: http://scikit-learn.org/stable/auto_examples/model_selection/plot_learning_curve.html"
   ]
  },
  {
   "cell_type": "code",
   "execution_count": 14,
   "metadata": {
    "collapsed": true
   },
   "outputs": [],
   "source": [
    "from sklearn.model_selection import learning_curve\n",
    "from sklearn.model_selection import ShuffleSplit\n",
    "\n",
    "\n",
    "def plot_learning_curve(estimator, title, X, y, ylim=None, cv=None,\n",
    "                        n_jobs=1, train_sizes=np.linspace(0.1, 1., 5)):\n",
    "    \"\"\"\n",
    "    Generate a simple plot of the test and training learning curve.\n",
    "\n",
    "    Parameters\n",
    "    ----------\n",
    "    estimator : object type that implements the \"fit\" and \"predict\" methods\n",
    "        An object of that type which is cloned for each validation.\n",
    "\n",
    "    title : string\n",
    "        Title for the chart.\n",
    "\n",
    "    X : array-like, shape (n_samples, n_features)\n",
    "        Training vector, where n_samples is the number of samples and\n",
    "        n_features is the number of features.\n",
    "\n",
    "    y : array-like, shape (n_samples) or (n_samples, n_features), optional\n",
    "        Target relative to X for classification or regression;\n",
    "        None for unsupervised learning.\n",
    "\n",
    "    ylim : tuple, shape (ymin, ymax), optional\n",
    "        Defines minimum and maximum yvalues plotted.\n",
    "\n",
    "    cv : int, cross-validation generator or an iterable, optional\n",
    "        Determines the cross-validation splitting strategy.\n",
    "        Possible inputs for cv are:\n",
    "          - None, to use the default 3-fold cross-validation,\n",
    "          - integer, to specify the number of folds.\n",
    "          - An object to be used as a cross-validation generator.\n",
    "          - An iterable yielding train/test splits.\n",
    "\n",
    "        For integer/None inputs, if ``y`` is binary or multiclass,\n",
    "        :class:`StratifiedKFold` used. If the estimator is not a classifier\n",
    "        or if ``y`` is neither binary nor multiclass, :class:`KFold` is used.\n",
    "\n",
    "        Refer :ref:`User Guide <cross_validation>` for the various\n",
    "        cross-validators that can be used here.\n",
    "\n",
    "    n_jobs : integer, optional\n",
    "        Number of jobs to run in parallel (default 1).\n",
    "    \"\"\"\n",
    "    plt.figure()\n",
    "    plt.title(title)\n",
    "    if ylim is not None:\n",
    "        plt.ylim(*ylim)\n",
    "    plt.xlabel(\"Training examples\")\n",
    "    plt.ylabel(\"Accuracy Score\")\n",
    "    train_sizes, train_scores, test_scores = learning_curve(\n",
    "        estimator, X, y, cv=cv, n_jobs=n_jobs, train_sizes=train_sizes, scoring = Ascorer)\n",
    "    train_scores_mean = np.mean(train_scores, axis=1)\n",
    "    train_scores_std = np.std(train_scores, axis=1)\n",
    "    test_scores_mean = np.mean(test_scores, axis=1)\n",
    "    test_scores_std = np.std(test_scores, axis=1)\n",
    "    plt.grid()\n",
    "\n",
    "    plt.fill_between(train_sizes, train_scores_mean - train_scores_std,\n",
    "                     train_scores_mean + train_scores_std, alpha=0.1,\n",
    "                     color=\"r\")\n",
    "    plt.fill_between(train_sizes, test_scores_mean - test_scores_std,\n",
    "                     test_scores_mean + test_scores_std, alpha=0.1, color=\"g\")\n",
    "    plt.plot(train_sizes, train_scores_mean, 'o-', color=\"r\",\n",
    "             label=\"Training accuracy\")\n",
    "    plt.plot(train_sizes, test_scores_mean, 'o-', color=\"g\",\n",
    "             label=\"Cross-validation accuracy\")\n",
    "\n",
    "    plt.legend(loc=\"best\")\n",
    "    return plt"
   ]
  },
  {
   "cell_type": "markdown",
   "metadata": {},
   "source": [
    "First things first, how many samples do we have for each leave-one-well-out split?"
   ]
  },
  {
   "cell_type": "code",
   "execution_count": 15,
   "metadata": {
    "collapsed": false
   },
   "outputs": [
    {
     "name": "stdout",
     "output_type": "stream",
     "text": [
      "CHURCHMAN BIBLE out:  2828 training samples -  404 test samples\n",
      "CROSS H CATTLE out:  2731 training samples -  501 test samples\n",
      "LUKE G U out:  2771 training samples -  461 test samples\n",
      "NEWBY out:  2769 training samples -  463 test samples\n",
      "NOLAN out:  2817 training samples -  415 test samples\n",
      "Recruit F9 out:  3164 training samples -  68 test samples\n",
      "SHANKLE out:  2783 training samples -  449 test samples\n",
      "SHRIMPLIN out:  2761 training samples -  471 test samples\n"
     ]
    }
   ],
   "source": [
    "training_data = pd.read_csv('../training_data.csv')\n",
    "X = training_data.drop(['Formation', 'Well Name', 'Facies'], axis=1).values\n",
    "scaler = preprocessing.StandardScaler().fit(X)\n",
    "X = scaler.transform(X)\n",
    "y = training_data['Facies'].values\n",
    "wells = training_data[\"Well Name\"].values\n",
    "\n",
    "logo = LeaveOneGroupOut()\n",
    "\n",
    "for train, test in logo.split(X, y, groups=wells):\n",
    "    well_name = wells[test[0]]\n",
    "    print well_name, 'out: ', np.shape(train)[0], 'training samples - ', np.shape(test)[0], 'test samples'\n"
   ]
  },
  {
   "cell_type": "code",
   "execution_count": 16,
   "metadata": {
    "collapsed": false
   },
   "outputs": [],
   "source": [
    "from sklearn import svm\n",
    "SVC_classifier = svm.SVC(C=5, cache_size=500, class_weight=None, coef0=0.0,\n",
    "  decision_function_shape=None, degree=3, gamma=0.1, kernel='rbf',\n",
    "  max_iter=-1, probability=False, random_state=1, shrinking=True,\n",
    "  tol=0.001, verbose=False)"
   ]
  },
  {
   "cell_type": "code",
   "execution_count": 17,
   "metadata": {
    "collapsed": true
   },
   "outputs": [],
   "source": [
    "training_data = pd.read_csv('../training_data.csv')\n",
    "X = training_data.drop(['Formation', 'Well Name', 'Facies'], axis=1).values\n",
    "scaler = preprocessing.StandardScaler().fit(X)\n",
    "X = scaler.transform(X)\n",
    "y = training_data['Facies'].values"
   ]
  },
  {
   "cell_type": "code",
   "execution_count": 18,
   "metadata": {
    "collapsed": false
   },
   "outputs": [
    {
     "data": {
      "image/png": "[encoded data removed]",
      "text/plain": [
       "<matplotlib.figure.Figure at 0x11833d550>"
      ]
     },
     "metadata": {},
     "output_type": "display_data"
    }
   ],
   "source": [
    "title = \"Learning Curves (SVC)\"\n",
    "# Cross validation with 50 iterations to get smoother mean test and train\n",
    "# score curves, each time with 15% data randomly selected as a validation set.\n",
    "# this is equivalent to leaving out one well, on average (3232 minus ~2750 samples)\n",
    "cv = ShuffleSplit(n_splits=50, test_size=0.15, random_state=1)\n",
    "\n",
    "plot_learning_curve(SVC_classifier, title, X, y, cv=cv, ylim=(0.4, 1.01), n_jobs=4)\n",
    "plt.show()"
   ]
  },
  {
   "cell_type": "markdown",
   "metadata": {},
   "source": [
    "Perhaps very slightly overfit: a bit of varianace / separation between the two errors, but not a lot."
   ]
  },
  {
   "cell_type": "markdown",
   "metadata": {
    "collapsed": true
   },
   "source": [
    "### Confusion matrix "
   ]
  },
  {
   "cell_type": "code",
   "execution_count": 19,
   "metadata": {
    "collapsed": true
   },
   "outputs": [],
   "source": [
    "from sklearn import svm\n",
    "SVC_classifier_conf = svm.SVC(C=5, cache_size=500, class_weight=None, coef0=0.0,\n",
    "  decision_function_shape=None, degree=3, gamma=0.01, kernel='rbf',\n",
    "  max_iter=-1, probability=False, random_state=1, shrinking=True,\n",
    "  tol=0.001, verbose=False)"
   ]
  },
  {
   "cell_type": "code",
   "execution_count": 20,
   "metadata": {
    "collapsed": false
   },
   "outputs": [
    {
     "name": "stdout",
     "output_type": "stream",
     "text": [
      "     Pred    SS  CSiS  FSiS  SiSh    MS    WS     D    PS    BS Total\n",
      "     True\n",
      "       SS   139    37    16                                       192\n",
      "     CSiS   118   550   199     4     6     1           6         884\n",
      "     FSiS     2   145   385     1     5     1     1     6         546\n",
      "     SiSh                 7   115    26    30    14    13     7   212\n",
      "       MS                       6    14     5     2    14          41\n",
      "       WS           2     3    51   126   323     9   118     9   641\n",
      "        D                       2     6     5    47     3          63\n",
      "       PS           4     5     5    34    96    25   322    33   524\n",
      "       BS                                   1          16   112   129\n",
      "\n",
      "Precision  0.54  0.75  0.63  0.62  0.06  0.70  0.48  0.65  0.70  0.66\n",
      "   Recall  0.72  0.62  0.71  0.54  0.34  0.50  0.75  0.61  0.87  0.62\n",
      "       F1  0.62  0.68  0.66  0.58  0.11  0.59  0.58  0.63  0.77  0.63\n"
     ]
    }
   ],
   "source": [
    "svc_pred = SVC_classifier_conf.fit(X,y)\n",
    "svc_pred = SVC_classifier_conf.predict(X)\n",
    "\n",
    "from sklearn.metrics import confusion_matrix\n",
    "from classification_utilities import display_cm, display_adj_cm\n",
    "\n",
    "conf = confusion_matrix(svc_pred, y)\n",
    "display_cm(conf, facies_labels, display_metrics=True, hide_zeros=True)"
   ]
  },
  {
   "cell_type": "code",
   "execution_count": 21,
   "metadata": {
    "collapsed": true
   },
   "outputs": [],
   "source": [
    "from sklearn import svm\n",
    "SVC_classifier_LOO = svm.SVC(C=5, cache_size=500, class_weight=None, coef0=0.0,\n",
    "  decision_function_shape=None, degree=3, gamma=0.01, kernel='rbf',\n",
    "  max_iter=-1, probability=False, random_state=1, shrinking=True,\n",
    "  tol=0.001, verbose=False)"
   ]
  },
  {
   "cell_type": "code",
   "execution_count": 22,
   "metadata": {
    "collapsed": false
   },
   "outputs": [
    {
     "name": "stdout",
     "output_type": "stream",
     "text": [
      "     CHURCHMAN BIBLE  0.507\n",
      "      CROSS H CATTLE  0.345\n",
      "            LUKE G U  0.449\n",
      "               NEWBY  0.395\n",
      "               NOLAN  0.523\n",
      "          Recruit F9  0.632\n",
      "             SHANKLE  0.501\n",
      "           SHRIMPLIN  0.556\n"
     ]
    }
   ],
   "source": [
    "training_data = pd.read_csv('../training_data.csv')\n",
    "X = training_data.drop(['Formation', 'Well Name', 'Facies'], axis=1).values\n",
    "scaler = preprocessing.StandardScaler().fit(X)\n",
    "X = scaler.transform(X)\n",
    "y = training_data['Facies'].values\n",
    "wells = training_data[\"Well Name\"].values\n",
    "\n",
    "logo = LeaveOneGroupOut()\n",
    "\n",
    "f1_SVC = []\n",
    "\n",
    "for train, test in logo.split(X, y, groups=wells):\n",
    "    well_name = wells[test[0]]\n",
    "    SVC_classifier_LOO.fit(X[train], y[train])\n",
    "    pred = SVC_classifier_LOO.predict(X[test])\n",
    "    sc = f1_score(y[test], pred, labels = np.arange(10), average = 'micro')\n",
    "    print(\"{:>20s}  {:.3f}\".format(well_name, sc))\n",
    "    f1_SVC.append(sc)"
   ]
  },
  {
   "cell_type": "code",
   "execution_count": 23,
   "metadata": {
    "collapsed": false
   },
   "outputs": [
    {
     "name": "stdout",
     "output_type": "stream",
     "text": [
      "-Average leave-one-out F1 Score: 0.558518\n"
     ]
    }
   ],
   "source": [
    "print \"-Average leave-one-out F1 Score: %6f\" % (sum(f1_SVC)/(1.0*(len(f1_SVC)-1)))"
   ]
  }
 ],
 "metadata": {
  "anaconda-cloud": {},
  "kernelspec": {
   "display_name": "Python 2",
   "language": "python",
   "name": "python2"
  },
  "language_info": {
   "codemirror_mode": {
    "name": "ipython",
    "version": 2
   },
   "file_extension": ".py",
   "mimetype": "text/x-python",
   "name": "python",
   "nbconvert_exporter": "python",
   "pygments_lexer": "ipython2",
   "version": "2.7.12"
  }
 },
 "nbformat": 4,
 "nbformat_minor": 0
}
