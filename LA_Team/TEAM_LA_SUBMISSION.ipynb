{
 "cells": [
  {
   "cell_type": "markdown",
   "metadata": {},
   "source": [
    "# Facies classification using Machine Learning #\n",
    "## Team LA Submission ## \n",
    "### _[Lukas Mosser](https://at.linkedin.com/in/lukas-mosser-9948b32b/en), [Alfredo De la Fuente](https://pe.linkedin.com/in/alfredodelafuenteb)_ ####"
   ]
  },
  {
   "cell_type": "markdown",
   "metadata": {
    "collapsed": true
   },
   "source": [
    "In this python notebook we explore many different machine learning algorithms to outperform the prediction model proposed in the [prediction facies from wel logs challenge](https://github.com/seg/2016-ml-contest). Particulary, this is a classification problem that belongs to the area of supervised learning. Our approach involves a series of well-known machine learning and statistical algorithms to minimize the defined prediction error functions.\n",
    "\n",
    "We will organize our present work in the following areas of analysis:\n",
    "- *Problem Modeling*\n",
    "- *Data Preprocessing* \n",
    "- *Data Analysis*\n",
    "- *Results*\n"
   ]
  },
  {
   "cell_type": "markdown",
   "metadata": {},
   "source": [
    "## Problem Modeling\n",
    "----\n",
    "\n",
    "The dataset we will use comes from a class excercise from The University of Kansas on [Neural Networks and Fuzzy Systems](http://www.people.ku.edu/~gbohling/EECS833/).  This exercise is based on a consortium project to use machine learning techniques to create a reservoir model of the largest gas fields in North America, the Hugoton and Panoma Fields. For more info on the origin of the data, see [Bohling and Dubois (2003)](http://www.kgs.ku.edu/PRS/publication/2003/ofr2003-50.pdf) and [Dubois et al. (2007)](http://dx.doi.org/10.1016/j.cageo.2006.08.011). \n",
    "\n",
    "The dataset we will use is log data from nine wells that have been labeled with a facies type based on oberservation of core.  We will use this log data to train a classifier to predict facies types. \n",
    "\n",
    "This data is from the Council Grove gas reservoir in Southwest Kansas.  The Panoma Council Grove Field is predominantly a carbonate gas reservoir encompassing 2700 square miles in Southwestern Kansas.  This dataset is from nine wells (with 4149 examples), consisting of a set of seven predictor variables and a rock facies (class) for each example vector and validation (test) data (830 examples from two wells) having the same seven predictor variables in the feature vector.  Facies are based on examination of cores from nine wells taken vertically at half-foot intervals. Predictor variables include five from wireline log measurements and two geologic constraining variables that are derived from geologic knowledge. These are essentially continuous variables sampled at a half-foot sample rate. \n",
    "\n",
    "The seven predictor variables are:\n",
    "* Five wire line log curves include [gamma ray](http://petrowiki.org/Gamma_ray_logs) (GR), [resistivity logging](http://petrowiki.org/Resistivity_and_spontaneous_%28SP%29_logging) (ILD_log10),\n",
    "[photoelectric effect](http://www.glossary.oilfield.slb.com/en/Terms/p/photoelectric_effect.aspx) (PE), [neutron-density porosity difference and average neutron-density porosity](http://petrowiki.org/Neutron_porosity_logs) (DeltaPHI and PHIND). Note, some wells do not have PE.\n",
    "* Two geologic constraining variables: nonmarine-marine indicator (NM_M) and relative position (RELPOS)\n",
    "\n",
    "The nine discrete facies (classes of rocks) are: \n",
    "1. Nonmarine sandstone\n",
    "2. Nonmarine coarse siltstone \n",
    "3. Nonmarine fine siltstone \n",
    "4. Marine siltstone and shale \n",
    "5. Mudstone (limestone)\n",
    "6. Wackestone (limestone)\n",
    "7. Dolomite\n",
    "8. Packstone-grainstone (limestone)\n",
    "9. Phylloid-algal bafflestone (limestone)\n",
    "\n",
    "These facies aren't discrete, and gradually blend into one another. Some have neighboring facies that are rather close.  Mislabeling within these neighboring facies can be expected to occur.  The following table lists the facies, their abbreviated labels and their approximate neighbors.\n",
    "\n",
    "Facies |Label| Adjacent Facies\n",
    ":---: | :---: |:--:\n",
    "1 |SS| 2\n",
    "2 |CSiS| 1,3\n",
    "3 |FSiS| 2\n",
    "4 |SiSh| 5\n",
    "5 |MS| 4,6\n",
    "6 |WS| 5,7\n",
    "7 |D| 6,8\n",
    "8 |PS| 6,7,9\n",
    "9 |BS| 7,8\n"
   ]
  },
  {
   "cell_type": "markdown",
   "metadata": {},
   "source": [
    "## Data Preprocessing\n",
    "---\n",
    "\n",
    "Let's import all the libraries that will be particularly needed for the analysis."
   ]
  },
  {
   "cell_type": "code",
   "execution_count": 1,
   "metadata": {
    "collapsed": false
   },
   "outputs": [],
   "source": [
    "%matplotlib inline\n",
    "import pandas as pd\n",
    "from pandas.tools.plotting import scatter_matrix\n",
    "import xgboost as xgb\n",
    "import numpy as np\n",
    "import matplotlib.pyplot as plt\n",
    "import matplotlib as mpl\n",
    "import seaborn as sns\n",
    "import matplotlib.colors as colors\n",
    "from sklearn import preprocessing\n",
    "from mpl_toolkits.axes_grid1 import make_axes_locatable\n",
    "from sklearn.cross_validation import KFold, train_test_split\n",
    "from sklearn.grid_search import GridSearchCV\n",
    "from sklearn.learning_curve import learning_curve\n",
    "from sklearn.metrics import confusion_matrix, f1_score\n",
    "from sklearn.ensemble import RandomForestClassifier"
   ]
  },
  {
   "cell_type": "markdown",
   "metadata": {},
   "source": [
    "We load the training data to start the exploration stage."
   ]
  },
  {
   "cell_type": "code",
   "execution_count": 115,
   "metadata": {
    "collapsed": false
   },
   "outputs": [
    {
     "data": {
      "text/html": [
       "<div>\n",
       "<table border=\"1\" class=\"dataframe\">\n",
       "  <thead>\n",
       "    <tr style=\"text-align: right;\">\n",
       "      <th></th>\n",
       "      <th>Facies</th>\n",
       "      <th>Formation</th>\n",
       "      <th>Well Name</th>\n",
       "      <th>Depth</th>\n",
       "      <th>GR</th>\n",
       "      <th>ILD_log10</th>\n",
       "      <th>DeltaPHI</th>\n",
       "      <th>PHIND</th>\n",
       "      <th>PE</th>\n",
       "      <th>NM_M</th>\n",
       "      <th>RELPOS</th>\n",
       "    </tr>\n",
       "  </thead>\n",
       "  <tbody>\n",
       "    <tr>\n",
       "      <th>0</th>\n",
       "      <td>3</td>\n",
       "      <td>A1 SH</td>\n",
       "      <td>SHRIMPLIN</td>\n",
       "      <td>2793.0</td>\n",
       "      <td>77.450</td>\n",
       "      <td>0.664</td>\n",
       "      <td>9.900</td>\n",
       "      <td>11.915</td>\n",
       "      <td>4.600</td>\n",
       "      <td>1</td>\n",
       "      <td>1.000</td>\n",
       "    </tr>\n",
       "    <tr>\n",
       "      <th>1</th>\n",
       "      <td>3</td>\n",
       "      <td>A1 SH</td>\n",
       "      <td>SHRIMPLIN</td>\n",
       "      <td>2793.5</td>\n",
       "      <td>78.260</td>\n",
       "      <td>0.661</td>\n",
       "      <td>14.200</td>\n",
       "      <td>12.565</td>\n",
       "      <td>4.100</td>\n",
       "      <td>1</td>\n",
       "      <td>0.979</td>\n",
       "    </tr>\n",
       "    <tr>\n",
       "      <th>2</th>\n",
       "      <td>3</td>\n",
       "      <td>A1 SH</td>\n",
       "      <td>SHRIMPLIN</td>\n",
       "      <td>2794.0</td>\n",
       "      <td>79.050</td>\n",
       "      <td>0.658</td>\n",
       "      <td>14.800</td>\n",
       "      <td>13.050</td>\n",
       "      <td>3.600</td>\n",
       "      <td>1</td>\n",
       "      <td>0.957</td>\n",
       "    </tr>\n",
       "    <tr>\n",
       "      <th>3</th>\n",
       "      <td>3</td>\n",
       "      <td>A1 SH</td>\n",
       "      <td>SHRIMPLIN</td>\n",
       "      <td>2794.5</td>\n",
       "      <td>86.100</td>\n",
       "      <td>0.655</td>\n",
       "      <td>13.900</td>\n",
       "      <td>13.115</td>\n",
       "      <td>3.500</td>\n",
       "      <td>1</td>\n",
       "      <td>0.936</td>\n",
       "    </tr>\n",
       "    <tr>\n",
       "      <th>4</th>\n",
       "      <td>3</td>\n",
       "      <td>A1 SH</td>\n",
       "      <td>SHRIMPLIN</td>\n",
       "      <td>2795.0</td>\n",
       "      <td>74.580</td>\n",
       "      <td>0.647</td>\n",
       "      <td>13.500</td>\n",
       "      <td>13.300</td>\n",
       "      <td>3.400</td>\n",
       "      <td>1</td>\n",
       "      <td>0.915</td>\n",
       "    </tr>\n",
       "    <tr>\n",
       "      <th>...</th>\n",
       "      <td>...</td>\n",
       "      <td>...</td>\n",
       "      <td>...</td>\n",
       "      <td>...</td>\n",
       "      <td>...</td>\n",
       "      <td>...</td>\n",
       "      <td>...</td>\n",
       "      <td>...</td>\n",
       "      <td>...</td>\n",
       "      <td>...</td>\n",
       "      <td>...</td>\n",
       "    </tr>\n",
       "    <tr>\n",
       "      <th>4144</th>\n",
       "      <td>5</td>\n",
       "      <td>C LM</td>\n",
       "      <td>CHURCHMAN BIBLE</td>\n",
       "      <td>3120.5</td>\n",
       "      <td>46.719</td>\n",
       "      <td>0.947</td>\n",
       "      <td>1.828</td>\n",
       "      <td>7.254</td>\n",
       "      <td>3.617</td>\n",
       "      <td>2</td>\n",
       "      <td>0.685</td>\n",
       "    </tr>\n",
       "    <tr>\n",
       "      <th>4145</th>\n",
       "      <td>5</td>\n",
       "      <td>C LM</td>\n",
       "      <td>CHURCHMAN BIBLE</td>\n",
       "      <td>3121.0</td>\n",
       "      <td>44.563</td>\n",
       "      <td>0.953</td>\n",
       "      <td>2.241</td>\n",
       "      <td>8.013</td>\n",
       "      <td>3.344</td>\n",
       "      <td>2</td>\n",
       "      <td>0.677</td>\n",
       "    </tr>\n",
       "    <tr>\n",
       "      <th>4146</th>\n",
       "      <td>5</td>\n",
       "      <td>C LM</td>\n",
       "      <td>CHURCHMAN BIBLE</td>\n",
       "      <td>3121.5</td>\n",
       "      <td>49.719</td>\n",
       "      <td>0.964</td>\n",
       "      <td>2.925</td>\n",
       "      <td>8.013</td>\n",
       "      <td>3.190</td>\n",
       "      <td>2</td>\n",
       "      <td>0.669</td>\n",
       "    </tr>\n",
       "    <tr>\n",
       "      <th>4147</th>\n",
       "      <td>5</td>\n",
       "      <td>C LM</td>\n",
       "      <td>CHURCHMAN BIBLE</td>\n",
       "      <td>3122.0</td>\n",
       "      <td>51.469</td>\n",
       "      <td>0.965</td>\n",
       "      <td>3.083</td>\n",
       "      <td>7.708</td>\n",
       "      <td>3.152</td>\n",
       "      <td>2</td>\n",
       "      <td>0.661</td>\n",
       "    </tr>\n",
       "    <tr>\n",
       "      <th>4148</th>\n",
       "      <td>5</td>\n",
       "      <td>C LM</td>\n",
       "      <td>CHURCHMAN BIBLE</td>\n",
       "      <td>3122.5</td>\n",
       "      <td>50.031</td>\n",
       "      <td>0.970</td>\n",
       "      <td>2.609</td>\n",
       "      <td>6.668</td>\n",
       "      <td>3.295</td>\n",
       "      <td>2</td>\n",
       "      <td>0.653</td>\n",
       "    </tr>\n",
       "  </tbody>\n",
       "</table>\n",
       "<p>4149 rows × 11 columns</p>\n",
       "</div>"
      ],
      "text/plain": [
       "      Facies Formation        Well Name   Depth      GR  ILD_log10  DeltaPHI  \\\n",
       "0          3     A1 SH        SHRIMPLIN  2793.0  77.450      0.664     9.900   \n",
       "1          3     A1 SH        SHRIMPLIN  2793.5  78.260      0.661    14.200   \n",
       "2          3     A1 SH        SHRIMPLIN  2794.0  79.050      0.658    14.800   \n",
       "3          3     A1 SH        SHRIMPLIN  2794.5  86.100      0.655    13.900   \n",
       "4          3     A1 SH        SHRIMPLIN  2795.0  74.580      0.647    13.500   \n",
       "...      ...       ...              ...     ...     ...        ...       ...   \n",
       "4144       5      C LM  CHURCHMAN BIBLE  3120.5  46.719      0.947     1.828   \n",
       "4145       5      C LM  CHURCHMAN BIBLE  3121.0  44.563      0.953     2.241   \n",
       "4146       5      C LM  CHURCHMAN BIBLE  3121.5  49.719      0.964     2.925   \n",
       "4147       5      C LM  CHURCHMAN BIBLE  3122.0  51.469      0.965     3.083   \n",
       "4148       5      C LM  CHURCHMAN BIBLE  3122.5  50.031      0.970     2.609   \n",
       "\n",
       "       PHIND     PE  NM_M  RELPOS  \n",
       "0     11.915  4.600     1   1.000  \n",
       "1     12.565  4.100     1   0.979  \n",
       "2     13.050  3.600     1   0.957  \n",
       "3     13.115  3.500     1   0.936  \n",
       "4     13.300  3.400     1   0.915  \n",
       "...      ...    ...   ...     ...  \n",
       "4144   7.254  3.617     2   0.685  \n",
       "4145   8.013  3.344     2   0.677  \n",
       "4146   8.013  3.190     2   0.669  \n",
       "4147   7.708  3.152     2   0.661  \n",
       "4148   6.668  3.295     2   0.653  \n",
       "\n",
       "[4149 rows x 11 columns]"
      ]
     },
     "execution_count": 115,
     "metadata": {},
     "output_type": "execute_result"
    }
   ],
   "source": [
    "from pandas import set_option\n",
    "set_option(\"display.max_rows\", 10)\n",
    "pd.options.mode.chained_assignment = None\n",
    "\n",
    "filename = 'facies_vectors.csv'\n",
    "training_data = pd.read_csv(filename)\n",
    "training_data"
   ]
  },
  {
   "cell_type": "markdown",
   "metadata": {},
   "source": [
    "We declare the fields \"Formation\" and \"Well Name\" as categorical variables and then map them to integer values."
   ]
  },
  {
   "cell_type": "code",
   "execution_count": 116,
   "metadata": {
    "collapsed": false
   },
   "outputs": [
    {
     "name": "stdout",
     "output_type": "stream",
     "text": [
      "<class 'pandas.core.frame.DataFrame'>\n",
      "RangeIndex: 4149 entries, 0 to 4148\n",
      "Data columns (total 11 columns):\n",
      "Facies           4149 non-null int64\n",
      "Depth            4149 non-null float64\n",
      "GR               4149 non-null float64\n",
      "ILD_log10        4149 non-null float64\n",
      "DeltaPHI         4149 non-null float64\n",
      "PHIND            4149 non-null float64\n",
      "PE               3232 non-null float64\n",
      "NM_M             4149 non-null int64\n",
      "RELPOS           4149 non-null float64\n",
      "Well_Name_New    4149 non-null int8\n",
      "Formation_New    4149 non-null int8\n",
      "dtypes: float64(7), int64(2), int8(2)\n",
      "memory usage: 299.9 KB\n"
     ]
    }
   ],
   "source": [
    "training_data['Well Name'] = training_data['Well Name'].astype('category')\n",
    "training_data['Formation'] = training_data['Formation'].astype('category')\n",
    "\n",
    "training_data['Well_Name_New'] = training_data[ 'Well Name' ].cat.codes\n",
    "training_data['Formation_New'] = training_data[ 'Formation' ].cat.codes\n",
    "\n",
    "training_data['Well_Name_New'].unique()\n",
    "\n",
    "training_data = training_data.drop( ['Well Name', 'Formation'], axis = 1 )\n",
    "training_data.info()"
   ]
  },
  {
   "cell_type": "markdown",
   "metadata": {},
   "source": [
    "*Observation*\n",
    "\n",
    "We could remove the NaN values from the PE variable for further analysis, going from 4149 total values to just 3232 valid values for PE, which has 3232. However, because we will be using XGBoost Algorithm that handles missing data, this won't be necessary."
   ]
  },
  {
   "cell_type": "code",
   "execution_count": 18,
   "metadata": {
    "collapsed": false
   },
   "outputs": [],
   "source": [
    "#PE_mask = training_data['PE'].notnull().values\n",
    "#training_data = training_data[PE_mask]"
   ]
  },
  {
   "cell_type": "markdown",
   "metadata": {},
   "source": [
    "We must realize the classification problem is **highly imbalanced**, therefore making it more challenging to approach."
   ]
  },
  {
   "cell_type": "code",
   "execution_count": 118,
   "metadata": {
    "collapsed": false
   },
   "outputs": [
    {
     "data": {
      "text/plain": [
       "<matplotlib.axes._subplots.AxesSubplot at 0x7fa1f1b92710>"
      ]
     },
     "execution_count": 118,
     "metadata": {},
     "output_type": "execute_result"
    },
    {
     "data": {
      "image/png": "[encoded data removed]",
      "text/plain": [
       "<matplotlib.figure.Figure at 0x7fa1f1bc6dd0>"
      ]
     },
     "metadata": {},
     "output_type": "display_data"
    }
   ],
   "source": [
    "facies_colors = ['#F4D03F', '#F5B041','#DC7633','#6E2C00','#1B4F72',\n",
    "                 '#2E86C1', '#AED6F1', '#A569BD', '#196F3D']\n",
    "\n",
    "facies_labels = ['SS', 'CSiS', 'FSiS', 'SiSh', 'MS','WS', 'D','PS', 'BS']\n",
    "\n",
    "facies_counts = training_data['Facies'].value_counts().sort_index()\n",
    "facies_counts.index = facies_labels\n",
    "facies_counts.plot(kind='bar',color=facies_colors,title='Distribution of Training Data by Facies')"
   ]
  },
  {
   "cell_type": "markdown",
   "metadata": {},
   "source": [
    "We make correlation plot to observe relationship between variables. We can notice, that the target variables '**Facies**' is highly correlated to '**NM_M**', '**PE**' and '**ILD_log10**'. Also we can observe a relationship between the '**Depth**' and the '**Formation_New**'."
   ]
  },
  {
   "cell_type": "code",
   "execution_count": 119,
   "metadata": {
    "collapsed": false
   },
   "outputs": [
    {
     "data": {
      "text/plain": [
       "<matplotlib.axes._subplots.AxesSubplot at 0x7fa1f1995590>"
      ]
     },
     "execution_count": 119,
     "metadata": {},
     "output_type": "execute_result"
    },
    {
     "data": {
      "image/png": "[encoded data removed]",
      "text/plain": [
       "<matplotlib.figure.Figure at 0x7fa1f191e1d0>"
      ]
     },
     "metadata": {},
     "output_type": "display_data"
    }
   ],
   "source": [
    "plt.figure(figsize=(10, 10))\n",
    "sns.heatmap(training_data.corr(), vmax=1.0, square=True)"
   ]
  },
  {
   "cell_type": "markdown",
   "metadata": {},
   "source": [
    "## Data Analysis\n",
    "---\n",
    "XGboost will be our weapon of choice. XGBoost (or Extreme Gradient Boosting) is a sophisticated algorithm that corresponds to an advanced implementation of gradient boosting algorithm. Despite it's complexity, it is fairly easy to use and very powerful to deal with many different types of irregularities in data. It has been no surprise then, that is has been extensively applied in many machine learning competitions to obtain very promising results.\n",
    "\n",
    "For the above reasons, to implement the XGBoost algorithm for our regression problem, we will use the above preprocessed data without modifications."
   ]
  },
  {
   "cell_type": "code",
   "execution_count": 120,
   "metadata": {
    "collapsed": false
   },
   "outputs": [],
   "source": [
    "X_train = training_data.drop(['Facies', 'Well_Name_New', 'Formation_New','Depth'], axis = 1 ) \n",
    "Y_train = training_data['Facies' ] - 1\n",
    "dtrain = xgb.DMatrix(X_train, Y_train)"
   ]
  },
  {
   "cell_type": "markdown",
   "metadata": {},
   "source": [
    "In order to evaluate our classification model accurary we will use the our following defined metrics, based on the confusion matrix once the classification is performed. The first metric only considers misclassification error and the second one takes into account the fact that facies could be misclassified if they belong to a same group with similar geological characteristics."
   ]
  },
  {
   "cell_type": "code",
   "execution_count": 2,
   "metadata": {
    "collapsed": true
   },
   "outputs": [],
   "source": [
    "def accuracy(conf):\n",
    "    total_correct = 0.\n",
    "    nb_classes = conf.shape[0]\n",
    "    for i in np.arange(0,nb_classes):\n",
    "        total_correct += conf[i][i]\n",
    "    acc = total_correct/sum(sum(conf))\n",
    "    return acc\n",
    "\n",
    "adjacent_facies = np.array([[1], [0,2], [1], [4], [3,5], [4,6,7], [5,7], [5,6,8], [6,7]])\n",
    "\n",
    "def accuracy_adjacent(conf, adjacent_facies):\n",
    "    nb_classes = conf.shape[0]\n",
    "    total_correct = 0.\n",
    "    for i in np.arange(0,nb_classes):\n",
    "        total_correct += conf[i][i]\n",
    "        for j in adjacent_facies[i]:\n",
    "            total_correct += conf[i][j]\n",
    "    return total_correct / sum(sum(conf))"
   ]
  },
  {
   "cell_type": "markdown",
   "metadata": {},
   "source": [
    "Although XGBoost is a very straightforward algorithm to implement, it's difficulty arises in dealing with a big number of hyperparameters. For that reason, we need to develop routines to tune this parameters to optimize the algorithm performance on the data prediction.\n",
    "\n",
    "We will use a Cross-Validation approach to improve our model by tuning parameters at each step. There are three types of parameters to consider:\n",
    "\n",
    "- General Parameters: Guide the overall functioning\n",
    "- Booster Parameters: Guide the individual booster (tree/regression) at each step\n",
    "- Learning Task Parameters: Guide the optimization performed\n",
    "\n",
    "We must realize that our training data is quite reduced, therefore to evaluate our model generalization "
   ]
  },
  {
   "cell_type": "code",
   "execution_count": 122,
   "metadata": {
    "collapsed": false
   },
   "outputs": [
    {
     "name": "stdout",
     "output_type": "stream",
     "text": [
      "\n",
      "Cross Validation Training Report Summary\n",
      "     test-merror-mean  test-merror-std  train-merror-mean  train-merror-std\n",
      "495          0.307358         0.017286           0.114053          0.002308\n",
      "496          0.307600         0.017613           0.113510          0.002612\n",
      "497          0.307358         0.017833           0.113329          0.002632\n",
      "498          0.307358         0.017833           0.113209          0.002535\n",
      "499          0.307600         0.018054           0.113028          0.002401\n",
      "\n",
      "Model Report\n",
      "-Accuracy: 0.872258\n",
      "-Adjacent Accuracy: 0.971077\n"
     ]
    },
    {
     "data": {
      "text/plain": [
       "<matplotlib.text.Text at 0x7fa1f17a5490>"
      ]
     },
     "execution_count": 122,
     "metadata": {},
     "output_type": "execute_result"
    },
    {
     "data": {
      "image/png": "[encoded data removed]",
      "text/plain": [
       "<matplotlib.figure.Figure at 0x7fa1f178bd90>"
      ]
     },
     "metadata": {},
     "output_type": "display_data"
    }
   ],
   "source": [
    "# Cross Validation parameters\n",
    "cv_folds = 5 \n",
    "rounds = 50 \n",
    "\n",
    "# Proposed Initial Model\n",
    "xgb1 = xgb.XGBClassifier( learning_rate =0.01, n_estimators=500, max_depth=6,\n",
    "                          min_child_weight=1, gamma=0, subsample=0.8,\n",
    "                          colsample_bytree=0.8, objective='multi:softmax',\n",
    "                          nthread=4, scale_pos_weight=1, seed=27)\n",
    "\n",
    "xgb_param_1 = xgb1.get_xgb_params()\n",
    "xgb_param_1['num_class'] = 9\n",
    "\n",
    "# Perform cross-validation\n",
    "cvresult = xgb.cv(xgb_param_1, dtrain, num_boost_round=xgb_param_1['n_estimators'], \n",
    "                  nfold=cv_folds, metrics='merror', early_stopping_rounds=rounds)\n",
    "\n",
    "print \"\\nCross Validation Training Report Summary\"\n",
    "print cvresult.tail()\n",
    "\n",
    "xgb1.set_params(n_estimators=cvresult.shape[0])\n",
    "\n",
    "\n",
    "#Fit the algorithm on the data\n",
    "xgb1.fit(X_train, Y_train,eval_metric='merror')\n",
    "\n",
    "#Predict training set:\n",
    "predictions = xgb1.predict(X_train)\n",
    "        \n",
    "#Print model report\n",
    "\n",
    "# Confusion Matrix\n",
    "conf = confusion_matrix(Y_train, predictions )\n",
    "\n",
    "# Print Results\n",
    "print \"\\nModel Report\"\n",
    "print \"-Accuracy: %.6f\" % ( accuracy(conf) )\n",
    "print \"-Adjacent Accuracy: %.6f\" % ( accuracy_adjacent(conf, adjacent_facies) )\n",
    "\n",
    "# Print Feature Importance\n",
    "feat_imp = pd.Series(xgb1.booster().get_fscore()).sort_values(ascending=False)\n",
    "feat_imp.plot(kind='bar', title='Feature Importances')\n",
    "plt.ylabel('Feature Importance Score')"
   ]
  },
  {
   "cell_type": "markdown",
   "metadata": {
    "collapsed": false
   },
   "source": [
    "By performing cross-validation routines we can use the produced results to measure how well the model generalizes and at the same time tune the hyperparameters. In this case, we will explore how the results look like if we vary the learning rate."
   ]
  },
  {
   "cell_type": "code",
   "execution_count": 123,
   "metadata": {
    "collapsed": false
   },
   "outputs": [
    {
     "name": "stdout",
     "output_type": "stream",
     "text": [
      "Parameter optimization\n",
      "Best Set of Parameters\n"
     ]
    },
    {
     "data": {
      "text/plain": [
       "([mean: 0.54929, std: 0.02804, params: {'learning_rate': 0.001},\n",
       "  mean: 0.54471, std: 0.02943, params: {'learning_rate': 0.01},\n",
       "  mean: 0.53603, std: 0.02934, params: {'learning_rate': 0.05},\n",
       "  mean: 0.52663, std: 0.02795, params: {'learning_rate': 0.1},\n",
       "  mean: 0.51506, std: 0.01923, params: {'learning_rate': 0.5}],\n",
       " {'learning_rate': 0.001},\n",
       " 0.54928898529766212)"
      ]
     },
     "execution_count": 123,
     "metadata": {},
     "output_type": "execute_result"
    }
   ],
   "source": [
    "print(\"Parameter optimization\")\n",
    "grid_search1 = GridSearchCV(xgb1,{'learning_rate':[0.001,0.01,0.05, 0.1, 0.5] },\n",
    "                                   scoring='accuracy' , n_jobs = 4)\n",
    "grid_search1.fit(X_train,Y_train)\n",
    "print(\"Best Set of Parameters\")\n",
    "grid_search1.grid_scores_, grid_search1.best_params_, grid_search1.best_score_"
   ]
  },
  {
   "cell_type": "code",
   "execution_count": 124,
   "metadata": {
    "collapsed": false
   },
   "outputs": [
    {
     "name": "stdout",
     "output_type": "stream",
     "text": [
      "\n",
      "Cross Validation Training Report Summary\n",
      "     test-merror-mean  test-merror-std  train-merror-mean  train-merror-std\n",
      "264          0.345235         0.013112           0.241978          0.004924\n",
      "265          0.345718         0.012503           0.242039          0.005081\n",
      "266          0.345718         0.012825           0.241797          0.005098\n",
      "267          0.345235         0.012707           0.241797          0.005033\n",
      "268          0.344753         0.013001           0.241797          0.004808\n",
      "\n",
      "Model Report\n",
      "-Accuracy: 0.747409\n",
      "-Adjacent Accuracy: 0.949385\n"
     ]
    },
    {
     "data": {
      "text/plain": [
       "<matplotlib.text.Text at 0x7fa1f179d850>"
      ]
     },
     "execution_count": 124,
     "metadata": {},
     "output_type": "execute_result"
    },
    {
     "data": {
      "image/png": "[encoded data removed]",
      "text/plain": [
       "<matplotlib.figure.Figure at 0x7fa1f184dc90>"
      ]
     },
     "metadata": {},
     "output_type": "display_data"
    }
   ],
   "source": [
    "# Cross Validation parameters\n",
    "cv_folds = 5 \n",
    "rounds = 50 \n",
    "\n",
    "# Proposed Initial Model\n",
    "xgb2 = xgb.XGBClassifier( learning_rate =0.001, n_estimators=500, max_depth=6,\n",
    "                          min_child_weight=1, gamma=0, subsample=0.8,\n",
    "                          colsample_bytree=0.8, objective='multi:softmax',\n",
    "                          nthread=4, scale_pos_weight=1, seed=27)\n",
    "\n",
    "xgb_param_2 = xgb2.get_xgb_params()\n",
    "xgb_param_2['num_class'] = 9\n",
    "\n",
    "# Perform cross-validation\n",
    "cvresult = xgb.cv(xgb_param_2, dtrain, num_boost_round=xgb_param_2['n_estimators'], \n",
    "                  nfold=cv_folds, metrics='merror', early_stopping_rounds=rounds)\n",
    "\n",
    "print \"\\nCross Validation Training Report Summary\"\n",
    "print cvresult.tail()\n",
    "\n",
    "xgb2.set_params(n_estimators=cvresult.shape[0])\n",
    "\n",
    "\n",
    "#Fit the algorithm on the data\n",
    "xgb2.fit(X_train, Y_train,eval_metric='merror')\n",
    "\n",
    "#Predict training set:\n",
    "predictions = xgb2.predict(X_train)\n",
    "        \n",
    "#Print model report\n",
    "\n",
    "# Confusion Matrix\n",
    "conf = confusion_matrix(Y_train, predictions )\n",
    "\n",
    "# Print Results\n",
    "print \"\\nModel Report\"\n",
    "print \"-Accuracy: %.6f\" % ( accuracy(conf) )\n",
    "print \"-Adjacent Accuracy: %.6f\" % ( accuracy_adjacent(conf, adjacent_facies) )\n",
    "\n",
    "# Print Feature Importance\n",
    "feat_imp = pd.Series(xgb2.booster().get_fscore()).sort_values(ascending=False)\n",
    "feat_imp.plot(kind='bar', title='Feature Importances')\n",
    "plt.ylabel('Feature Importance Score')"
   ]
  },
  {
   "cell_type": "code",
   "execution_count": 125,
   "metadata": {
    "collapsed": false
   },
   "outputs": [
    {
     "name": "stdout",
     "output_type": "stream",
     "text": [
      "Parameter optimization\n",
      "Best Set of Parameters\n"
     ]
    },
    {
     "data": {
      "text/plain": [
       "([mean: 0.55049, std: 0.02966, params: {'reg_alpha': 1e-05},\n",
       "  mean: 0.54929, std: 0.02951, params: {'reg_alpha': 0.01},\n",
       "  mean: 0.54905, std: 0.03121, params: {'reg_alpha': 0.1},\n",
       "  mean: 0.55242, std: 0.03141, params: {'reg_alpha': 1},\n",
       "  mean: 0.43095, std: 0.01853, params: {'reg_alpha': 100}],\n",
       " {'reg_alpha': 1},\n",
       " 0.55242227042660885)"
      ]
     },
     "execution_count": 125,
     "metadata": {},
     "output_type": "execute_result"
    }
   ],
   "source": [
    "print(\"Parameter optimization\")\n",
    "grid_search1 = GridSearchCV(xgb2,{'reg_alpha':[1e-5, 1e-2, 0.1, 1, 100] },\n",
    "                                   scoring='accuracy' , n_jobs = 4)\n",
    "grid_search1.fit(X_train,Y_train)\n",
    "print(\"Best Set of Parameters\")\n",
    "grid_search1.grid_scores_, grid_search1.best_params_, grid_search1.best_score_"
   ]
  },
  {
   "cell_type": "code",
   "execution_count": 126,
   "metadata": {
    "collapsed": false
   },
   "outputs": [
    {
     "name": "stdout",
     "output_type": "stream",
     "text": [
      "\n",
      "Cross Validation Training Report Summary\n",
      "     test-merror-mean  test-merror-std  train-merror-mean  train-merror-std\n",
      "130          0.356574         0.014162           0.272256          0.006292\n",
      "131          0.356333         0.014547           0.272196          0.006273\n",
      "132          0.356333         0.014203           0.272075          0.006119\n",
      "133          0.357298         0.013635           0.272135          0.005698\n",
      "134          0.356092         0.014179           0.272195          0.005647\n",
      "\n",
      "Model Report\n",
      "-Accuracy: 0.722825\n",
      "-Adjacent Accuracy: 0.944565\n"
     ]
    }
   ],
   "source": [
    "#Final Model \n",
    "xgb_final = xgb.XGBClassifier( learning_rate =0.001, n_estimators=500, max_depth=6,\n",
    "                               min_child_weight=1, gamma=0, subsample=0.8, reg_alpha = 1,\n",
    "                               colsample_bytree=0.8, objective='multi:softmax',\n",
    "                               nthread=4, scale_pos_weight=1, seed=27)\n",
    "\n",
    "xgb_param_final = xgb_final.get_xgb_params()\n",
    "xgb_param_final['num_class'] = 9\n",
    "\n",
    "# Perform cross-validation\n",
    "cvresult = xgb.cv(xgb_param_final, dtrain, num_boost_round=xgb_param_final['n_estimators'], \n",
    "                  nfold=cv_folds, metrics='merror', early_stopping_rounds=rounds)\n",
    "\n",
    "print \"\\nCross Validation Training Report Summary\"\n",
    "print cvresult.tail()\n",
    "\n",
    "xgb_final.set_params(n_estimators=cvresult.shape[0])\n",
    "\n",
    "\n",
    "#Fit the algorithm on the data\n",
    "xgb_final.fit(X_train, Y_train,eval_metric='merror')\n",
    "\n",
    "#Predict training set:\n",
    "predictions = xgb_final.predict(X_train)\n",
    "        \n",
    "#Print model report\n",
    "\n",
    "# Confusion Matrix\n",
    "conf = confusion_matrix(Y_train, predictions )\n",
    "\n",
    "# Print Results\n",
    "print \"\\nModel Report\"\n",
    "print \"-Accuracy: %.6f\" % ( accuracy(conf) )\n",
    "print \"-Adjacent Accuracy: %.6f\" % ( accuracy_adjacent(conf, adjacent_facies) )"
   ]
  },
  {
   "cell_type": "markdown",
   "metadata": {
    "collapsed": true
   },
   "source": [
    "## Results\n",
    "---\n",
    "\n",
    "We will see the performance of the model by taking the average accuracy and adjacency accuracy in Leaving Out One Well Cross Validation routine."
   ]
  },
  {
   "cell_type": "code",
   "execution_count": 16,
   "metadata": {
    "collapsed": false
   },
   "outputs": [
    {
     "name": "stdout",
     "output_type": "stream",
     "text": [
      "[2 2 1 2 1 1 1 1 1 1 1 1 1 1 1 1 1 1 1 1 1 1 1 1 1 0 0 1 1 1 0 0 1 1 1 1 1\n",
      " 1 1 1 1 1 1 1 1 1 1 1 1 1 1 1 1 1 1 1 1 1 1 2 2 2 2 7 7 7 4 4 4 4 4 5 5 5\n",
      " 5 5 5 5 5 7 7 7 7 7 5 5 3 3 3 3 5 5 7 5 5 5 5 5 5 5 3 3 3 2 2 2 2 2 2 2 2\n",
      " 2 2 2 2 2 2 2 1 1 1 1 1 1 1 1 1 1 1 1 1 1 1 1 1 1 1 1 1 1 1 1 1 1 1 1 2 2\n",
      " 1 2 2 2 7 7 7 7 5 5 5 5 5 7 2 2 2 2 1 1 1 1 1 1 1 1 1 1 1 1 1 1 1 1 1 1 1\n",
      " 1 1 1 1 2 2 2 7 7 7 7 7 5 5 1 1 2 2 2 2 2 2 1 1 1 1 1 1 1 1 1 1 1 1 1 1 1\n",
      " 1 1 1 1 1 1 1 1 0 0 0 0 1 1 1 1 1 1 2 2 2 1 1 1 1 1 1 1 1 1 1 1 1 1 1 1 1\n",
      " 1 1 1 1 1 1 1 1 1 1 1 1 1 1 1 1 0 0 0 0 0 0 0 0 1 1 2 1 2 2 1 2 7 7 4 5 7\n",
      " 2 2 2 1 1 1 1 2 2 2 6 6 6 6 6 6 6 6 6 7 7 7 5 5 5 7 7 5 5 5 5 5 3 2 2 2 2\n",
      " 2 2 2 1 1 1 2 2 1 1 1 1 1 2 2 2 2 2 2 1 1 1 1 1 1 1 1 1 1 1 1 1 1 1 1 1 1\n",
      " 1 1 2 1 1 1 1 1 2 1 2 7 7 7 7 7 5 7 5 5 5 5 6 6 6 7 7 7 5 5 5 5 5 4 4 4 4\n",
      " 5 5 5 5 5 5 5 5 5 5 5 5 5 5 5 5 3 3 3 3 3 3 3 3 3 3 3 3 3 3 3 5 5 5 5 5 5\n",
      " 5 7 7 7 5]\n",
      "[1 1 1 1 1 1 1 1 1 1 1 1 1 1 1 1 1 1 1 1 1 0 0 0 0 0 0 0 0 0 0 0 0 0 0 0 0\n",
      " 0 0 0 0 0 0 0 0 0 0 1 1 0 0 0 0 0 0 1 1 1 1 1 1 2 2 7 7 7 7 5 5 5 5 5 5 5\n",
      " 5 5 5 7 7 7 7 7 7 7 5 5 5 5 5 5 5 5 5 5 5 5 5 5 5 5 5 5 3 2 2 2 2 2 2 2 2\n",
      " 2 2 2 2 2 2 2 2 2 2 2 2 2 1 1 0 0 0 0 0 0 0 0 0 0 0 0 0 0 0 0 0 0 0 0 2 2\n",
      " 2 2 2 2 7 7 7 7 7 5 5 5 5 5 2 2 1 1 1 1 1 1 1 1 1 1 1 1 1 1 1 1 1 2 2 2 1\n",
      " 1 1 1 1 2 2 2 5 5 5 5 5 5 5 2 2 2 2 2 2 1 1 1 1 1 1 2 2 2 1 1 1 1 1 1 1 1\n",
      " 1 1 1 1 1 1 1 1 1 1 0 0 0 0 0 1 2 2 2 2 1 1 1 0 0 0 0 0 0 0 0 0 0 0 0 0 0\n",
      " 0 0 0 0 0 0 0 0 0 0 0 0 0 0 0 0 0 0 1 1 1 1 1 1 1 1 2 2 2 2 2 5 5 5 5 5 5\n",
      " 2 2 2 2 2 2 2 2 2 2 6 6 6 6 6 6 6 6 6 7 7 7 7 7 7 7 7 7 7 7 7 7 7 2 2 2 2\n",
      " 2 2 2 2 2 2 2 2 2 2 2 2 2 2 2 2 2 2 2 2 2 2 2 2 2 2 2 2 2 2 2 2 2 2 2 2 2\n",
      " 2 2 2 2 2 2 2 2 2 2 2 5 7 7 7 7 7 4 4 4 4 4 6 6 6 6 6 6 6 6 5 5 5 5 5 5 5\n",
      " 5 5 5 5 5 5 5 5 5 5 5 5 5 5 5 5 5 4 4 4 4 4 4 4 4 4 4 4 4 4 4 3 3 3 3 7 7\n",
      " 7 7 7 3 3]\n",
      "\n",
      "Model Report\n",
      "-Accuracy: 0.485523\n",
      "-Adjacent Accuracy: 0.962138\n",
      "-F1 Score: 0.472368\n",
      "\n",
      "Confusion Matrix Results\n",
      "     Pred    SS  CSiS  FSiS  SiSh    MS    WS     D    PS    BS Total\n",
      "     True\n",
      "       SS     8    81                                              89\n",
      "     CSiS     8    71    10                                        89\n",
      "     FSiS          57    60                                       117\n",
      "     SiSh                       1           5           1           7\n",
      "       MS                      14           4           1          19\n",
      "       WS                 1     7     9    43          11          71\n",
      "        D                                   2    12     3          17\n",
      "       PS                       1     1    15          23          40\n",
      "       BS                                                           0\n",
      "\n",
      "Precision  0.50  0.34  0.85  0.04  0.00  0.62  1.00  0.59  0.00  0.58\n",
      "   Recall  0.09  0.80  0.51  0.14  0.00  0.61  0.71  0.57  0.00  0.49\n",
      "       F1  0.15  0.48  0.64  0.07  0.00  0.61  0.83  0.58  0.00  0.47\n"
     ]
    }
   ],
   "source": [
    "# Import data\n",
    "filename = 'facies_vectors.csv'\n",
    "data = pd.read_csv(filename)\n",
    "\n",
    "data['Well Name'] = data['Well Name'].astype('category')\n",
    "data['Formation'] = data['Formation'].astype('category')\n",
    "\n",
    "PE_mask = data['PE'].notnull().values\n",
    "data = data[PE_mask]\n",
    "\n",
    "# Split data\n",
    "X_train = data.drop(['Facies', 'Formation','Depth'], axis = 1 ) \n",
    "Y_train = data['Facies' ] - 1\n",
    "\n",
    "# Leave out one well for prediction\n",
    "well_name = 'SHANKLE'\n",
    "train_X = X_train[X_train['Well Name'] != well_name ]\n",
    "train_Y = Y_train[X_train['Well Name'] != well_name ]\n",
    "test_X  = X_train[X_train['Well Name'] == well_name ]\n",
    "test_Y  = Y_train[X_train['Well Name'] == well_name ]\n",
    "\n",
    "train_X = train_X.drop(['Well Name'], axis = 1 ) \n",
    "test_X = test_X.drop(['Well Name'], axis = 1 )\n",
    "\n",
    "# Model\n",
    "model_final = xgb.XGBClassifier( learning_rate =0.05, n_estimators=500, max_depth=6,\n",
    "                               min_child_weight=1, gamma=0, subsample=0.8, reg_alpha = 10,\n",
    "                               colsample_bytree=0.8, objective='multi:softmax',\n",
    "                               nthread=4, scale_pos_weight=1, seed=27)\n",
    "\n",
    "#Fit the algorithm on the data\n",
    "model_final.fit( train_X , train_Y , eval_metric = 'merror' )\n",
    "\n",
    "# model_final = RandomForestClassifier(n_estimators=1000) # RANDOM FORREST\n",
    "#model_final.fit(train_X, train_Y)\n",
    "\n",
    "#Predict training set:\n",
    "predictions = model_final.predict(test_X)\n",
    "\n",
    "print predictions\n",
    "true = test_Y.as_matrix()\n",
    "print true\n",
    "    \n",
    "#Print model report\n",
    "# Confusion Matrix\n",
    "conf = confusion_matrix( test_Y, predictions, labels = np.arange(9) )\n",
    "# Print Results\n",
    "print \"\\nModel Report\"\n",
    "print \"-Accuracy: %.6f\" % ( accuracy(conf) )\n",
    "print \"-Adjacent Accuracy: %.6f\" % ( accuracy_adjacent(conf, adjacent_facies) )\n",
    "print \"-F1 Score: %.6f\" % ( f1_score ( test_Y , predictions , labels = np.arange(9), average = 'weighted' ) )\n",
    "\n",
    "facies_labels = ['SS', 'CSiS', 'FSiS', 'SiSh', 'MS',\n",
    "                 'WS', 'D','PS', 'BS']\n",
    "print \"\\nConfusion Matrix Results\"\n",
    "from classification_utilities import display_cm, display_adj_cm\n",
    "display_cm(conf, facies_labels,display_metrics=True, hide_zeros=True)"
   ]
  },
  {
   "cell_type": "markdown",
   "metadata": {},
   "source": [
    "We import the testing data and apply our trained model to make a prediction."
   ]
  },
  {
   "cell_type": "code",
   "execution_count": 108,
   "metadata": {
    "collapsed": false
   },
   "outputs": [],
   "source": [
    "# Load test data\n",
    "test_data = pd.read_csv('validation_data_nofacies.csv')\n",
    "test_data['Well Name'] = test_data['Well Name'].astype('category')\n",
    "X_test = test_data.drop(['Formation', 'Well Name', 'Depth'], axis=1)\n",
    "# Predict facies of unclassified data\n",
    "Y_predicted = xgb_final.predict(X_test)\n",
    "test_data['Facies'] = Y_predicted + 1\n",
    "# Store the prediction\n",
    "test_data.to_csv('Prediction.csv')"
   ]
  },
  {
   "cell_type": "code",
   "execution_count": null,
   "metadata": {
    "collapsed": true
   },
   "outputs": [],
   "source": []
  }
 ],
 "metadata": {
  "kernelspec": {
   "display_name": "Python [Root]",
   "language": "python",
   "name": "Python [Root]"
  },
  "language_info": {
   "codemirror_mode": {
    "name": "ipython",
    "version": 2
   },
   "file_extension": ".py",
   "mimetype": "text/x-python",
   "name": "python",
   "nbconvert_exporter": "python",
   "pygments_lexer": "ipython2",
   "version": "2.7.12"
  }
 },
 "nbformat": 4,
 "nbformat_minor": 0
}
