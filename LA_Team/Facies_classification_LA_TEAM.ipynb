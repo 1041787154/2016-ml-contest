{
 "cells": [
  {
   "cell_type": "markdown",
   "metadata": {},
   "source": [
    "# Facies classification using Machine Learning #\n",
    "## LA Team Submission ## \n",
    "### _[Lukas Mosser](https://at.linkedin.com/in/lukas-mosser-9948b32b/en), [Alfredo De la Fuente](https://pe.linkedin.com/in/alfredodelafuenteb)_ ####"
   ]
  },
  {
   "cell_type": "markdown",
   "metadata": {
    "collapsed": true
   },
   "source": [
    "In this python notebook we explore many different machine learning algorithms to outperform the prediction model proposed in the [prediction facies from wel logs challenge](https://github.com/seg/2016-ml-contest). Particulary, this is a classification problem that belongs to the area of supervised learning. Our approach involves a series of well-known machine learning and statistical algorithms to minimize the defined prediction error functions.\n",
    "\n",
    "We will organize our present work in the following areas of analysis:\n",
    "- *Problem Modeling*\n",
    "- *Data Preprocessing* \n",
    "- *Data Analysis*\n",
    "- *Results*\n"
   ]
  },
  {
   "cell_type": "markdown",
   "metadata": {},
   "source": [
    "## Problem Modeling\n",
    "----\n",
    "\n",
    "The dataset we will use comes from a class excercise from The University of Kansas on [Neural Networks and Fuzzy Systems](http://www.people.ku.edu/~gbohling/EECS833/).  This exercise is based on a consortium project to use machine learning techniques to create a reservoir model of the largest gas fields in North America, the Hugoton and Panoma Fields. For more info on the origin of the data, see [Bohling and Dubois (2003)](http://www.kgs.ku.edu/PRS/publication/2003/ofr2003-50.pdf) and [Dubois et al. (2007)](http://dx.doi.org/10.1016/j.cageo.2006.08.011). \n",
    "\n",
    "The dataset we will use is log data from nine wells that have been labeled with a facies type based on oberservation of core.  We will use this log data to train a classifier to predict facies types. \n",
    "\n",
    "This data is from the Council Grove gas reservoir in Southwest Kansas.  The Panoma Council Grove Field is predominantly a carbonate gas reservoir encompassing 2700 square miles in Southwestern Kansas.  This dataset is from nine wells (with 4149 examples), consisting of a set of seven predictor variables and a rock facies (class) for each example vector and validation (test) data (830 examples from two wells) having the same seven predictor variables in the feature vector.  Facies are based on examination of cores from nine wells taken vertically at half-foot intervals. Predictor variables include five from wireline log measurements and two geologic constraining variables that are derived from geologic knowledge. These are essentially continuous variables sampled at a half-foot sample rate. \n",
    "\n",
    "The seven predictor variables are:\n",
    "* Five wire line log curves include [gamma ray](http://petrowiki.org/Gamma_ray_logs) (GR), [resistivity logging](http://petrowiki.org/Resistivity_and_spontaneous_%28SP%29_logging) (ILD_log10),\n",
    "[photoelectric effect](http://www.glossary.oilfield.slb.com/en/Terms/p/photoelectric_effect.aspx) (PE), [neutron-density porosity difference and average neutron-density porosity](http://petrowiki.org/Neutron_porosity_logs) (DeltaPHI and PHIND). Note, some wells do not have PE.\n",
    "* Two geologic constraining variables: nonmarine-marine indicator (NM_M) and relative position (RELPOS)\n",
    "\n",
    "The nine discrete facies (classes of rocks) are: \n",
    "1. Nonmarine sandstone\n",
    "2. Nonmarine coarse siltstone \n",
    "3. Nonmarine fine siltstone \n",
    "4. Marine siltstone and shale \n",
    "5. Mudstone (limestone)\n",
    "6. Wackestone (limestone)\n",
    "7. Dolomite\n",
    "8. Packstone-grainstone (limestone)\n",
    "9. Phylloid-algal bafflestone (limestone)\n",
    "\n",
    "These facies aren't discrete, and gradually blend into one another. Some have neighboring facies that are rather close.  Mislabeling within these neighboring facies can be expected to occur.  The following table lists the facies, their abbreviated labels and their approximate neighbors.\n",
    "\n",
    "Facies |Label| Adjacent Facies\n",
    ":---: | :---: |:--:\n",
    "1 |SS| 2\n",
    "2 |CSiS| 1,3\n",
    "3 |FSiS| 2\n",
    "4 |SiSh| 5\n",
    "5 |MS| 4,6\n",
    "6 |WS| 5,7\n",
    "7 |D| 6,8\n",
    "8 |PS| 6,7,9\n",
    "9 |BS| 7,8\n"
   ]
  },
  {
   "cell_type": "markdown",
   "metadata": {},
   "source": [
    "## Data Preprocessing\n",
    "---\n",
    "\n",
    "Let's import all the libraries that will be particularly needed for the analysis."
   ]
  },
  {
   "cell_type": "code",
   "execution_count": 39,
   "metadata": {
    "collapsed": false
   },
   "outputs": [],
   "source": [
    "%matplotlib inline\n",
    "import pandas as pd\n",
    "from pandas.tools.plotting import scatter_matrix\n",
    "from pandas import set_option\n",
    "import xgboost as xgb\n",
    "import numpy as np\n",
    "import matplotlib.pyplot as plt\n",
    "import matplotlib as mpl\n",
    "import seaborn as sns\n",
    "import matplotlib.colors as colors\n",
    "from sklearn import preprocessing\n",
    "from mpl_toolkits.axes_grid1 import make_axes_locatable\n",
    "from sklearn.cross_validation import KFold, train_test_split\n",
    "from sklearn.grid_search import GridSearchCV\n",
    "from sklearn.learning_curve import learning_curve\n",
    "from sklearn.metrics import confusion_matrix, f1_score\n",
    "from sklearn.ensemble import RandomForestClassifier\n",
    "from classification_utilities import display_cm, display_adj_cm"
   ]
  },
  {
   "cell_type": "markdown",
   "metadata": {},
   "source": [
    "We load the training data to start the exploration stage."
   ]
  },
  {
   "cell_type": "code",
   "execution_count": 40,
   "metadata": {
    "collapsed": false
   },
   "outputs": [
    {
     "data": {
      "text/html": [
       "<div>\n",
       "<table border=\"1\" class=\"dataframe\">\n",
       "  <thead>\n",
       "    <tr style=\"text-align: right;\">\n",
       "      <th></th>\n",
       "      <th>Facies</th>\n",
       "      <th>Formation</th>\n",
       "      <th>Well Name</th>\n",
       "      <th>Depth</th>\n",
       "      <th>GR</th>\n",
       "      <th>ILD_log10</th>\n",
       "      <th>DeltaPHI</th>\n",
       "      <th>PHIND</th>\n",
       "      <th>PE</th>\n",
       "      <th>NM_M</th>\n",
       "      <th>RELPOS</th>\n",
       "    </tr>\n",
       "  </thead>\n",
       "  <tbody>\n",
       "    <tr>\n",
       "      <th>0</th>\n",
       "      <td>3</td>\n",
       "      <td>A1 SH</td>\n",
       "      <td>SHRIMPLIN</td>\n",
       "      <td>2793.0</td>\n",
       "      <td>77.450</td>\n",
       "      <td>0.664</td>\n",
       "      <td>9.900</td>\n",
       "      <td>11.915</td>\n",
       "      <td>4.600</td>\n",
       "      <td>1</td>\n",
       "      <td>1.000</td>\n",
       "    </tr>\n",
       "    <tr>\n",
       "      <th>1</th>\n",
       "      <td>3</td>\n",
       "      <td>A1 SH</td>\n",
       "      <td>SHRIMPLIN</td>\n",
       "      <td>2793.5</td>\n",
       "      <td>78.260</td>\n",
       "      <td>0.661</td>\n",
       "      <td>14.200</td>\n",
       "      <td>12.565</td>\n",
       "      <td>4.100</td>\n",
       "      <td>1</td>\n",
       "      <td>0.979</td>\n",
       "    </tr>\n",
       "    <tr>\n",
       "      <th>2</th>\n",
       "      <td>3</td>\n",
       "      <td>A1 SH</td>\n",
       "      <td>SHRIMPLIN</td>\n",
       "      <td>2794.0</td>\n",
       "      <td>79.050</td>\n",
       "      <td>0.658</td>\n",
       "      <td>14.800</td>\n",
       "      <td>13.050</td>\n",
       "      <td>3.600</td>\n",
       "      <td>1</td>\n",
       "      <td>0.957</td>\n",
       "    </tr>\n",
       "    <tr>\n",
       "      <th>3</th>\n",
       "      <td>3</td>\n",
       "      <td>A1 SH</td>\n",
       "      <td>SHRIMPLIN</td>\n",
       "      <td>2794.5</td>\n",
       "      <td>86.100</td>\n",
       "      <td>0.655</td>\n",
       "      <td>13.900</td>\n",
       "      <td>13.115</td>\n",
       "      <td>3.500</td>\n",
       "      <td>1</td>\n",
       "      <td>0.936</td>\n",
       "    </tr>\n",
       "    <tr>\n",
       "      <th>4</th>\n",
       "      <td>3</td>\n",
       "      <td>A1 SH</td>\n",
       "      <td>SHRIMPLIN</td>\n",
       "      <td>2795.0</td>\n",
       "      <td>74.580</td>\n",
       "      <td>0.647</td>\n",
       "      <td>13.500</td>\n",
       "      <td>13.300</td>\n",
       "      <td>3.400</td>\n",
       "      <td>1</td>\n",
       "      <td>0.915</td>\n",
       "    </tr>\n",
       "    <tr>\n",
       "      <th>...</th>\n",
       "      <td>...</td>\n",
       "      <td>...</td>\n",
       "      <td>...</td>\n",
       "      <td>...</td>\n",
       "      <td>...</td>\n",
       "      <td>...</td>\n",
       "      <td>...</td>\n",
       "      <td>...</td>\n",
       "      <td>...</td>\n",
       "      <td>...</td>\n",
       "      <td>...</td>\n",
       "    </tr>\n",
       "    <tr>\n",
       "      <th>4144</th>\n",
       "      <td>5</td>\n",
       "      <td>C LM</td>\n",
       "      <td>CHURCHMAN BIBLE</td>\n",
       "      <td>3120.5</td>\n",
       "      <td>46.719</td>\n",
       "      <td>0.947</td>\n",
       "      <td>1.828</td>\n",
       "      <td>7.254</td>\n",
       "      <td>3.617</td>\n",
       "      <td>2</td>\n",
       "      <td>0.685</td>\n",
       "    </tr>\n",
       "    <tr>\n",
       "      <th>4145</th>\n",
       "      <td>5</td>\n",
       "      <td>C LM</td>\n",
       "      <td>CHURCHMAN BIBLE</td>\n",
       "      <td>3121.0</td>\n",
       "      <td>44.563</td>\n",
       "      <td>0.953</td>\n",
       "      <td>2.241</td>\n",
       "      <td>8.013</td>\n",
       "      <td>3.344</td>\n",
       "      <td>2</td>\n",
       "      <td>0.677</td>\n",
       "    </tr>\n",
       "    <tr>\n",
       "      <th>4146</th>\n",
       "      <td>5</td>\n",
       "      <td>C LM</td>\n",
       "      <td>CHURCHMAN BIBLE</td>\n",
       "      <td>3121.5</td>\n",
       "      <td>49.719</td>\n",
       "      <td>0.964</td>\n",
       "      <td>2.925</td>\n",
       "      <td>8.013</td>\n",
       "      <td>3.190</td>\n",
       "      <td>2</td>\n",
       "      <td>0.669</td>\n",
       "    </tr>\n",
       "    <tr>\n",
       "      <th>4147</th>\n",
       "      <td>5</td>\n",
       "      <td>C LM</td>\n",
       "      <td>CHURCHMAN BIBLE</td>\n",
       "      <td>3122.0</td>\n",
       "      <td>51.469</td>\n",
       "      <td>0.965</td>\n",
       "      <td>3.083</td>\n",
       "      <td>7.708</td>\n",
       "      <td>3.152</td>\n",
       "      <td>2</td>\n",
       "      <td>0.661</td>\n",
       "    </tr>\n",
       "    <tr>\n",
       "      <th>4148</th>\n",
       "      <td>5</td>\n",
       "      <td>C LM</td>\n",
       "      <td>CHURCHMAN BIBLE</td>\n",
       "      <td>3122.5</td>\n",
       "      <td>50.031</td>\n",
       "      <td>0.970</td>\n",
       "      <td>2.609</td>\n",
       "      <td>6.668</td>\n",
       "      <td>3.295</td>\n",
       "      <td>2</td>\n",
       "      <td>0.653</td>\n",
       "    </tr>\n",
       "  </tbody>\n",
       "</table>\n",
       "<p>4149 rows × 11 columns</p>\n",
       "</div>"
      ],
      "text/plain": [
       "      Facies Formation        Well Name   Depth      GR  ILD_log10  DeltaPHI  \\\n",
       "0          3     A1 SH        SHRIMPLIN  2793.0  77.450      0.664     9.900   \n",
       "1          3     A1 SH        SHRIMPLIN  2793.5  78.260      0.661    14.200   \n",
       "2          3     A1 SH        SHRIMPLIN  2794.0  79.050      0.658    14.800   \n",
       "3          3     A1 SH        SHRIMPLIN  2794.5  86.100      0.655    13.900   \n",
       "4          3     A1 SH        SHRIMPLIN  2795.0  74.580      0.647    13.500   \n",
       "...      ...       ...              ...     ...     ...        ...       ...   \n",
       "4144       5      C LM  CHURCHMAN BIBLE  3120.5  46.719      0.947     1.828   \n",
       "4145       5      C LM  CHURCHMAN BIBLE  3121.0  44.563      0.953     2.241   \n",
       "4146       5      C LM  CHURCHMAN BIBLE  3121.5  49.719      0.964     2.925   \n",
       "4147       5      C LM  CHURCHMAN BIBLE  3122.0  51.469      0.965     3.083   \n",
       "4148       5      C LM  CHURCHMAN BIBLE  3122.5  50.031      0.970     2.609   \n",
       "\n",
       "       PHIND     PE  NM_M  RELPOS  \n",
       "0     11.915  4.600     1   1.000  \n",
       "1     12.565  4.100     1   0.979  \n",
       "2     13.050  3.600     1   0.957  \n",
       "3     13.115  3.500     1   0.936  \n",
       "4     13.300  3.400     1   0.915  \n",
       "...      ...    ...   ...     ...  \n",
       "4144   7.254  3.617     2   0.685  \n",
       "4145   8.013  3.344     2   0.677  \n",
       "4146   8.013  3.190     2   0.669  \n",
       "4147   7.708  3.152     2   0.661  \n",
       "4148   6.668  3.295     2   0.653  \n",
       "\n",
       "[4149 rows x 11 columns]"
      ]
     },
     "execution_count": 40,
     "metadata": {},
     "output_type": "execute_result"
    }
   ],
   "source": [
    "set_option(\"display.max_rows\", 10)\n",
    "pd.options.mode.chained_assignment = None\n",
    "\n",
    "filename = '../facies_vectors.csv'\n",
    "training_data = pd.read_csv(filename)\n",
    "training_data"
   ]
  },
  {
   "cell_type": "markdown",
   "metadata": {},
   "source": [
    "We declare the fields \"Formation\" and \"Well Name\" as categorical variables and then map them to integer values."
   ]
  },
  {
   "cell_type": "code",
   "execution_count": 41,
   "metadata": {
    "collapsed": false
   },
   "outputs": [
    {
     "name": "stdout",
     "output_type": "stream",
     "text": [
      "<class 'pandas.core.frame.DataFrame'>\n",
      "RangeIndex: 4149 entries, 0 to 4148\n",
      "Data columns (total 11 columns):\n",
      "Facies       4149 non-null int64\n",
      "Formation    4149 non-null category\n",
      "Well Name    4149 non-null category\n",
      "Depth        4149 non-null float64\n",
      "GR           4149 non-null float64\n",
      "ILD_log10    4149 non-null float64\n",
      "DeltaPHI     4149 non-null float64\n",
      "PHIND        4149 non-null float64\n",
      "PE           3232 non-null float64\n",
      "NM_M         4149 non-null int64\n",
      "RELPOS       4149 non-null float64\n",
      "dtypes: category(2), float64(7), int64(2)\n",
      "memory usage: 300.1 KB\n"
     ]
    }
   ],
   "source": [
    "training_data['Well Name'] = training_data['Well Name'].astype('category')\n",
    "training_data['Formation'] = training_data['Formation'].astype('category')\n",
    "training_data.info()"
   ]
  },
  {
   "cell_type": "markdown",
   "metadata": {},
   "source": [
    "*Observation*\n",
    "\n",
    "We could remove the NaN values from the PE variable for further analysis, going from 4149 total values to just 3232 valid values for PE, which has 3232. However, because we will be using XGBoost Algorithm that handles missing data, this won't be necessary."
   ]
  },
  {
   "cell_type": "code",
   "execution_count": 42,
   "metadata": {
    "collapsed": false
   },
   "outputs": [],
   "source": [
    "#PE_mask = training_data['PE'].notnull().values\n",
    "#training_data = training_data[PE_mask]"
   ]
  },
  {
   "cell_type": "markdown",
   "metadata": {},
   "source": [
    "We must realize the classification problem is **highly imbalanced**, therefore making it more challenging to approach."
   ]
  },
  {
   "cell_type": "code",
   "execution_count": 43,
   "metadata": {
    "collapsed": false
   },
   "outputs": [
    {
     "data": {
      "text/plain": [
       "<matplotlib.axes._subplots.AxesSubplot at 0x7f823cff1410>"
      ]
     },
     "execution_count": 43,
     "metadata": {},
     "output_type": "execute_result"
    },
    {
     "data": {
      "image/png": "[encoded data removed]",
      "text/plain": [
       "<matplotlib.figure.Figure at 0x7f823d0fbe90>"
      ]
     },
     "metadata": {},
     "output_type": "display_data"
    }
   ],
   "source": [
    "facies_colors = ['#F4D03F', '#F5B041','#DC7633','#6E2C00','#1B4F72',\n",
    "                 '#2E86C1', '#AED6F1', '#A569BD', '#196F3D']\n",
    "\n",
    "facies_labels = ['SS', 'CSiS', 'FSiS', 'SiSh', 'MS','WS', 'D','PS', 'BS']\n",
    "\n",
    "facies_counts = training_data['Facies'].value_counts().sort_index()\n",
    "facies_counts.index = facies_labels\n",
    "facies_counts.plot(kind='bar',color=facies_colors,title='Distribution of Training Data by Facies')"
   ]
  },
  {
   "cell_type": "markdown",
   "metadata": {},
   "source": [
    "We produce correlation plot to observe relationship between variables. The target variable '**Facies**' is highly correlated to '**NM_M**', '**PE**' and '**ILD_log10**'. "
   ]
  },
  {
   "cell_type": "code",
   "execution_count": 44,
   "metadata": {
    "collapsed": false
   },
   "outputs": [
    {
     "data": {
      "text/plain": [
       "<matplotlib.axes._subplots.AxesSubplot at 0x7f823c79a290>"
      ]
     },
     "execution_count": 44,
     "metadata": {},
     "output_type": "execute_result"
    },
    {
     "data": {
      "image/png": "[encoded data removed]",
      "text/plain": [
       "<matplotlib.figure.Figure at 0x7f823c7a9e50>"
      ]
     },
     "metadata": {},
     "output_type": "display_data"
    }
   ],
   "source": [
    "plt.figure(figsize=(10, 10))\n",
    "sns.heatmap(training_data.corr(), vmax=1.0, square=True)"
   ]
  },
  {
   "cell_type": "code",
   "execution_count": 45,
   "metadata": {
    "collapsed": false
   },
   "outputs": [
    {
     "data": {
      "text/html": [
       "<div>\n",
       "<table border=\"1\" class=\"dataframe\">\n",
       "  <thead>\n",
       "    <tr style=\"text-align: right;\">\n",
       "      <th></th>\n",
       "      <th>Facies</th>\n",
       "      <th>Depth</th>\n",
       "      <th>GR</th>\n",
       "      <th>ILD_log10</th>\n",
       "      <th>DeltaPHI</th>\n",
       "      <th>PHIND</th>\n",
       "      <th>PE</th>\n",
       "      <th>NM_M</th>\n",
       "      <th>RELPOS</th>\n",
       "    </tr>\n",
       "  </thead>\n",
       "  <tbody>\n",
       "    <tr>\n",
       "      <th>count</th>\n",
       "      <td>4149.000000</td>\n",
       "      <td>4149.000000</td>\n",
       "      <td>4149.000000</td>\n",
       "      <td>4149.000000</td>\n",
       "      <td>4149.000000</td>\n",
       "      <td>4149.000000</td>\n",
       "      <td>3232.000000</td>\n",
       "      <td>4149.000000</td>\n",
       "      <td>4149.000000</td>\n",
       "    </tr>\n",
       "    <tr>\n",
       "      <th>mean</th>\n",
       "      <td>4.503254</td>\n",
       "      <td>2906.867438</td>\n",
       "      <td>64.933985</td>\n",
       "      <td>0.659566</td>\n",
       "      <td>4.402484</td>\n",
       "      <td>13.201066</td>\n",
       "      <td>3.725014</td>\n",
       "      <td>1.518438</td>\n",
       "      <td>0.521852</td>\n",
       "    </tr>\n",
       "    <tr>\n",
       "      <th>std</th>\n",
       "      <td>2.474324</td>\n",
       "      <td>133.300164</td>\n",
       "      <td>30.302530</td>\n",
       "      <td>0.252703</td>\n",
       "      <td>5.274947</td>\n",
       "      <td>7.132846</td>\n",
       "      <td>0.896152</td>\n",
       "      <td>0.499720</td>\n",
       "      <td>0.286644</td>\n",
       "    </tr>\n",
       "    <tr>\n",
       "      <th>min</th>\n",
       "      <td>1.000000</td>\n",
       "      <td>2573.500000</td>\n",
       "      <td>10.149000</td>\n",
       "      <td>-0.025949</td>\n",
       "      <td>-21.832000</td>\n",
       "      <td>0.550000</td>\n",
       "      <td>0.200000</td>\n",
       "      <td>1.000000</td>\n",
       "      <td>0.000000</td>\n",
       "    </tr>\n",
       "    <tr>\n",
       "      <th>25%</th>\n",
       "      <td>2.000000</td>\n",
       "      <td>2821.500000</td>\n",
       "      <td>44.730000</td>\n",
       "      <td>0.498000</td>\n",
       "      <td>1.600000</td>\n",
       "      <td>8.500000</td>\n",
       "      <td>NaN</td>\n",
       "      <td>1.000000</td>\n",
       "      <td>0.277000</td>\n",
       "    </tr>\n",
       "    <tr>\n",
       "      <th>50%</th>\n",
       "      <td>4.000000</td>\n",
       "      <td>2932.500000</td>\n",
       "      <td>64.990000</td>\n",
       "      <td>0.639000</td>\n",
       "      <td>4.300000</td>\n",
       "      <td>12.020000</td>\n",
       "      <td>NaN</td>\n",
       "      <td>2.000000</td>\n",
       "      <td>0.528000</td>\n",
       "    </tr>\n",
       "    <tr>\n",
       "      <th>75%</th>\n",
       "      <td>6.000000</td>\n",
       "      <td>3007.000000</td>\n",
       "      <td>79.438000</td>\n",
       "      <td>0.822000</td>\n",
       "      <td>7.500000</td>\n",
       "      <td>16.050000</td>\n",
       "      <td>NaN</td>\n",
       "      <td>2.000000</td>\n",
       "      <td>0.769000</td>\n",
       "    </tr>\n",
       "    <tr>\n",
       "      <th>max</th>\n",
       "      <td>9.000000</td>\n",
       "      <td>3138.000000</td>\n",
       "      <td>361.150000</td>\n",
       "      <td>1.800000</td>\n",
       "      <td>19.312000</td>\n",
       "      <td>84.400000</td>\n",
       "      <td>8.094000</td>\n",
       "      <td>2.000000</td>\n",
       "      <td>1.000000</td>\n",
       "    </tr>\n",
       "  </tbody>\n",
       "</table>\n",
       "</div>"
      ],
      "text/plain": [
       "            Facies        Depth           GR    ILD_log10     DeltaPHI  \\\n",
       "count  4149.000000  4149.000000  4149.000000  4149.000000  4149.000000   \n",
       "mean      4.503254  2906.867438    64.933985     0.659566     4.402484   \n",
       "std       2.474324   133.300164    30.302530     0.252703     5.274947   \n",
       "min       1.000000  2573.500000    10.149000    -0.025949   -21.832000   \n",
       "25%       2.000000  2821.500000    44.730000     0.498000     1.600000   \n",
       "50%       4.000000  2932.500000    64.990000     0.639000     4.300000   \n",
       "75%       6.000000  3007.000000    79.438000     0.822000     7.500000   \n",
       "max       9.000000  3138.000000   361.150000     1.800000    19.312000   \n",
       "\n",
       "             PHIND           PE         NM_M       RELPOS  \n",
       "count  4149.000000  3232.000000  4149.000000  4149.000000  \n",
       "mean     13.201066     3.725014     1.518438     0.521852  \n",
       "std       7.132846     0.896152     0.499720     0.286644  \n",
       "min       0.550000     0.200000     1.000000     0.000000  \n",
       "25%       8.500000          NaN     1.000000     0.277000  \n",
       "50%      12.020000          NaN     2.000000     0.528000  \n",
       "75%      16.050000          NaN     2.000000     0.769000  \n",
       "max      84.400000     8.094000     2.000000     1.000000  "
      ]
     },
     "execution_count": 45,
     "metadata": {},
     "output_type": "execute_result"
    }
   ],
   "source": [
    "training_data.describe()"
   ]
  },
  {
   "cell_type": "markdown",
   "metadata": {},
   "source": [
    "## Data Analysis\n",
    "---\n",
    "XGboost will be our weapon of choice. XGBoost (or Extreme Gradient Boosting) is a sophisticated algorithm that corresponds to an advanced implementation of gradient boosting algorithm. Despite it's complexity, it is fairly easy to use and very powerful to deal with many different types of irregularities in data. It has been no surprise then, that is has been extensively applied in many machine learning competitions to obtain very promising results.\n",
    "\n",
    "For the above reasons, to implement the XGBoost algorithm for our regression problem, we will use the above preprocessed data without modifications."
   ]
  },
  {
   "cell_type": "code",
   "execution_count": 46,
   "metadata": {
    "collapsed": false
   },
   "outputs": [],
   "source": [
    "X_train = training_data.drop(['Facies', 'Well Name','Formation','Depth'], axis = 1 ) \n",
    "Y_train = training_data['Facies' ] - 1\n",
    "dtrain = xgb.DMatrix(X_train, Y_train)"
   ]
  },
  {
   "cell_type": "markdown",
   "metadata": {},
   "source": [
    "In order to evaluate our classification model accurary we will use the our following defined metrics, based on the confusion matrix once the classification is performed. The first metric only considers misclassification error and the second one takes into account the fact that facies could be misclassified if they belong to a same group with similar geological characteristics."
   ]
  },
  {
   "cell_type": "code",
   "execution_count": 47,
   "metadata": {
    "collapsed": true
   },
   "outputs": [],
   "source": [
    "def accuracy(conf):\n",
    "    total_correct = 0.\n",
    "    nb_classes = conf.shape[0]\n",
    "    for i in np.arange(0,nb_classes):\n",
    "        total_correct += conf[i][i]\n",
    "    acc = total_correct/sum(sum(conf))\n",
    "    return acc\n",
    "\n",
    "adjacent_facies = np.array([[1], [0,2], [1], [4], [3,5], [4,6,7], [5,7], [5,6,8], [6,7]])\n",
    "\n",
    "def accuracy_adjacent(conf, adjacent_facies):\n",
    "    nb_classes = conf.shape[0]\n",
    "    total_correct = 0.\n",
    "    for i in np.arange(0,nb_classes):\n",
    "        total_correct += conf[i][i]\n",
    "        for j in adjacent_facies[i]:\n",
    "            total_correct += conf[i][j]\n",
    "    return total_correct / sum(sum(conf))"
   ]
  },
  {
   "cell_type": "markdown",
   "metadata": {},
   "source": [
    "Although XGBoost is a very straightforward algorithm to implement, it's difficulty arises in dealing with a big number of hyperparameters. For that reason, we need to develop routines to tune this parameters to optimize the algorithm performance on the data prediction.\n",
    "\n",
    "We will use a Cross-Validation approach to improve our model by tuning parameters at each step. There are three types of parameters to consider:\n",
    "\n",
    "- General Parameters: Guide the overall functioning\n",
    "- Booster Parameters: Guide the individual booster (tree/regression) at each step\n",
    "- Learning Task Parameters: Guide the optimization performed\n",
    "\n",
    "We must realize that our training data is quite reduced, therefore to evaluate our model generalization "
   ]
  },
  {
   "cell_type": "code",
   "execution_count": 48,
   "metadata": {
    "collapsed": false
   },
   "outputs": [
    {
     "name": "stdout",
     "output_type": "stream",
     "text": [
      "\n",
      "Cross Validation Training Report Summary\n",
      "     test-merror-mean  test-merror-std  train-merror-mean  train-merror-std\n",
      "495          0.300542         0.027071           0.119600          0.002584\n",
      "496          0.300541         0.026525           0.119467          0.002573\n",
      "497          0.300301         0.026946           0.119360          0.002711\n",
      "498          0.300302         0.026554           0.119279          0.002586\n",
      "499          0.300062         0.026801           0.119038          0.002504\n",
      "\n",
      "Model Report\n",
      "-Accuracy: 0.872258\n",
      "-Adjacent Accuracy: 0.971077\n",
      "\n",
      "Confusion Matrix\n",
      "     Pred    SS  CSiS  FSiS  SiSh    MS    WS     D    PS    BS Total\n",
      "     True\n",
      "       SS   212    50     6                                       268\n",
      "     CSiS     7   869    63                 1                     940\n",
      "     FSiS          99   679                 1           1         780\n",
      "     SiSh           1     1   242          18           9         271\n",
      "       MS           2     3     9   222    36     1    23         296\n",
      "       WS     1           2    20    12   489     4    53     1   582\n",
      "        D           1           1           4   121    11     3   141\n",
      "       PS                 3    13     5    56     3   604     2   686\n",
      "       BS                                   3           1   181   185\n",
      "\n",
      "Precision  0.96  0.85  0.90  0.85  0.93  0.80  0.94  0.86  0.97  0.88\n",
      "   Recall  0.79  0.92  0.87  0.89  0.75  0.84  0.86  0.88  0.98  0.87\n",
      "       F1  0.87  0.89  0.88  0.87  0.83  0.82  0.90  0.87  0.97  0.87\n"
     ]
    },
    {
     "data": {
      "text/plain": [
       "<matplotlib.text.Text at 0x7f823c56f1d0>"
      ]
     },
     "execution_count": 48,
     "metadata": {},
     "output_type": "execute_result"
    },
    {
     "data": {
      "image/png": "[encoded data removed]",
      "text/plain": [
       "<matplotlib.figure.Figure at 0x7f823d001e90>"
      ]
     },
     "metadata": {},
     "output_type": "display_data"
    }
   ],
   "source": [
    "# Cross Validation parameters\n",
    "cv_folds = 10\n",
    "rounds = 100 \n",
    "\n",
    "# Proposed Initial Model\n",
    "xgb1 = xgb.XGBClassifier( learning_rate =0.01, n_estimators=500, max_depth=6,\n",
    "                          min_child_weight=1, gamma=0, subsample=0.8,\n",
    "                          colsample_bytree=0.8, objective='multi:softmax',\n",
    "                          nthread=4, scale_pos_weight=1, seed=27)\n",
    "\n",
    "xgb_param_1 = xgb1.get_xgb_params()\n",
    "xgb_param_1['num_class'] = 9\n",
    "\n",
    "# Perform cross-validation\n",
    "cvresult = xgb.cv(xgb_param_1, dtrain, num_boost_round=xgb_param_1['n_estimators'], \n",
    "                  stratified = True, nfold=cv_folds, metrics='merror', early_stopping_rounds=rounds)\n",
    "\n",
    "print \"\\nCross Validation Training Report Summary\"\n",
    "print cvresult.tail()\n",
    "\n",
    "xgb1.set_params(n_estimators=cvresult.shape[0])\n",
    "\n",
    "\n",
    "#Fit the algorithm on the data\n",
    "xgb1.fit(X_train, Y_train,eval_metric='merror')\n",
    "\n",
    "#Predict training set:\n",
    "predictions = xgb1.predict(X_train)\n",
    "        \n",
    "#Print model report\n",
    "\n",
    "# Confusion Matrix\n",
    "conf = confusion_matrix(Y_train, predictions )\n",
    "\n",
    "# Print Results\n",
    "print \"\\nModel Report\"\n",
    "print \"-Accuracy: %.6f\" % ( accuracy(conf) )\n",
    "print \"-Adjacent Accuracy: %.6f\" % ( accuracy_adjacent(conf, adjacent_facies) )\n",
    "\n",
    "print \"\\nConfusion Matrix\"\n",
    "display_cm(conf, facies_labels, display_metrics=True, hide_zeros=True)\n",
    "\n",
    "# Print Feature Importance\n",
    "feat_imp = pd.Series(xgb1.booster().get_fscore()).sort_values(ascending=False)\n",
    "feat_imp.plot(kind='bar', title='Feature Importances')\n",
    "plt.ylabel('Feature Importance Score')"
   ]
  },
  {
   "cell_type": "markdown",
   "metadata": {
    "collapsed": false
   },
   "source": [
    "By performing cross-validation routines we can use the produced results to measure how well the model generalizes and at the same time tune the hyperparameters. In this case, we will explore how the results look like if we vary the learning rate."
   ]
  },
  {
   "cell_type": "code",
   "execution_count": 49,
   "metadata": {
    "collapsed": false
   },
   "outputs": [
    {
     "name": "stdout",
     "output_type": "stream",
     "text": [
      "Parameter optimization\n",
      "Best Set of Parameters\n"
     ]
    },
    {
     "data": {
      "text/plain": [
       "([mean: 0.54567, std: 0.02950, params: {'n_estimators': 100, 'learning_rate': 0.001},\n",
       "  mean: 0.54857, std: 0.03048, params: {'n_estimators': 200, 'learning_rate': 0.001},\n",
       "  mean: 0.54929, std: 0.02804, params: {'n_estimators': 500, 'learning_rate': 0.001},\n",
       "  mean: 0.54543, std: 0.03025, params: {'n_estimators': 100, 'learning_rate': 0.01},\n",
       "  mean: 0.54616, std: 0.02601, params: {'n_estimators': 200, 'learning_rate': 0.01},\n",
       "  mean: 0.54471, std: 0.02943, params: {'n_estimators': 500, 'learning_rate': 0.01},\n",
       "  mean: 0.54664, std: 0.03185, params: {'n_estimators': 100, 'learning_rate': 0.05},\n",
       "  mean: 0.53748, std: 0.03340, params: {'n_estimators': 200, 'learning_rate': 0.05},\n",
       "  mean: 0.53603, std: 0.02934, params: {'n_estimators': 500, 'learning_rate': 0.05}],\n",
       " {'learning_rate': 0.001, 'n_estimators': 500},\n",
       " 0.54928898529766212)"
      ]
     },
     "execution_count": 49,
     "metadata": {},
     "output_type": "execute_result"
    }
   ],
   "source": [
    "print(\"Parameter optimization\")\n",
    "grid_search1 = GridSearchCV(xgb1,{'learning_rate':[0.001,0.01,0.05] , 'n_estimators':[100,200,500]},\n",
    "                                   scoring='accuracy' , n_jobs = 4)\n",
    "grid_search1.fit(X_train,Y_train)\n",
    "print(\"Best Set of Parameters\")\n",
    "grid_search1.grid_scores_, grid_search1.best_params_, grid_search1.best_score_"
   ]
  },
  {
   "cell_type": "code",
   "execution_count": 50,
   "metadata": {
    "collapsed": false
   },
   "outputs": [
    {
     "name": "stdout",
     "output_type": "stream",
     "text": [
      "\n",
      "Cross Validation Training Report Summary\n",
      "     test-merror-mean  test-merror-std  train-merror-mean  train-merror-std\n",
      "200          0.347343         0.026566           0.253086          0.005239\n",
      "201          0.346135         0.025265           0.252603          0.004960\n",
      "202          0.346377         0.025681           0.252576          0.004955\n",
      "203          0.345894         0.025167           0.252362          0.005330\n",
      "204          0.345169         0.025275           0.252496          0.005114\n",
      "\n",
      "Model Report\n",
      "-Accuracy: 0.872258\n",
      "-Adjacent Accuracy: 0.971077\n",
      "\n",
      "Confusion Matrix\n",
      "     Pred    SS  CSiS  FSiS  SiSh    MS    WS     D    PS    BS Total\n",
      "     True\n",
      "       SS   212    50     6                                       268\n",
      "     CSiS     7   869    63                 1                     940\n",
      "     FSiS          99   679                 1           1         780\n",
      "     SiSh           1     1   242          18           9         271\n",
      "       MS           2     3     9   222    36     1    23         296\n",
      "       WS     1           2    20    12   489     4    53     1   582\n",
      "        D           1           1           4   121    11     3   141\n",
      "       PS                 3    13     5    56     3   604     2   686\n",
      "       BS                                   3           1   181   185\n",
      "\n",
      "Precision  0.96  0.85  0.90  0.85  0.93  0.80  0.94  0.86  0.97  0.88\n",
      "   Recall  0.79  0.92  0.87  0.89  0.75  0.84  0.86  0.88  0.98  0.87\n",
      "       F1  0.87  0.89  0.88  0.87  0.83  0.82  0.90  0.87  0.97  0.87\n"
     ]
    },
    {
     "data": {
      "text/plain": [
       "<matplotlib.text.Text at 0x7f823c443c10>"
      ]
     },
     "execution_count": 50,
     "metadata": {},
     "output_type": "execute_result"
    },
    {
     "data": {
      "image/png": "[encoded data removed]",
      "text/plain": [
       "<matplotlib.figure.Figure at 0x7f823c7b32d0>"
      ]
     },
     "metadata": {},
     "output_type": "display_data"
    }
   ],
   "source": [
    "# Cross Validation parameters\n",
    "cv_folds = 10\n",
    "rounds = 100\n",
    "\n",
    "# Proposed Initial Model\n",
    "xgb2 = xgb.XGBClassifier( learning_rate =0.001, n_estimators=500, max_depth=6,\n",
    "                          min_child_weight=1, gamma=0, subsample=0.8,\n",
    "                          colsample_bytree=0.8, objective='multi:softmax',\n",
    "                          nthread=4, scale_pos_weight=1, seed=27)\n",
    "\n",
    "xgb_param_2 = xgb2.get_xgb_params()\n",
    "xgb_param_2['num_class'] = 9\n",
    "\n",
    "# Perform cross-validation\n",
    "cvresult = xgb.cv(xgb_param_2, dtrain, num_boost_round=xgb_param_2['n_estimators'], \n",
    "                  nfold=cv_folds, metrics='merror', early_stopping_rounds=rounds)\n",
    "\n",
    "print \"\\nCross Validation Training Report Summary\"\n",
    "print cvresult.tail()\n",
    "\n",
    "xgb2.set_params(n_estimators=cvresult.shape[0])\n",
    "\n",
    "\n",
    "#Fit the algorithm on the data\n",
    "xgb2.fit(X_train, Y_train,eval_metric='merror')\n",
    "\n",
    "#Predict training set:\n",
    "predictions = xgb2.predict(X_train)\n",
    "        \n",
    "#Print model report\n",
    "\n",
    "# Print Results\n",
    "print \"\\nModel Report\"\n",
    "print \"-Accuracy: %.6f\" % ( accuracy(conf) )\n",
    "print \"-Adjacent Accuracy: %.6f\" % ( accuracy_adjacent(conf, adjacent_facies) )\n",
    "\n",
    "# Confusion Matrix\n",
    "print \"\\nConfusion Matrix\"\n",
    "display_cm(conf, facies_labels, display_metrics=True, hide_zeros=True)\n",
    "\n",
    "# Print Feature Importance\n",
    "feat_imp = pd.Series(xgb2.booster().get_fscore()).sort_values(ascending=False)\n",
    "feat_imp.plot(kind='bar', title='Feature Importances')\n",
    "plt.ylabel('Feature Importance Score')"
   ]
  },
  {
   "cell_type": "code",
   "execution_count": 13,
   "metadata": {
    "collapsed": false
   },
   "outputs": [
    {
     "name": "stdout",
     "output_type": "stream",
     "text": [
      "Parameter optimization\n",
      "Best Set of Parameters\n"
     ]
    },
    {
     "data": {
      "text/plain": [
       "([mean: 0.54857, std: 0.03049, params: {'reg_alpha': 1e-05},\n",
       "  mean: 0.54857, std: 0.02998, params: {'reg_alpha': 0.01},\n",
       "  mean: 0.54953, std: 0.02981, params: {'reg_alpha': 0.1},\n",
       "  mean: 0.55098, std: 0.03085, params: {'reg_alpha': 1},\n",
       "  mean: 0.42926, std: 0.02015, params: {'reg_alpha': 100}],\n",
       " {'reg_alpha': 1},\n",
       " 0.55097613882863339)"
      ]
     },
     "execution_count": 13,
     "metadata": {},
     "output_type": "execute_result"
    }
   ],
   "source": [
    "print(\"Parameter optimization\")\n",
    "grid_search1 = GridSearchCV(xgb2,{'reg_alpha':[1e-5, 1e-2, 0.1, 1, 100] },\n",
    "                                   scoring='accuracy' , n_jobs = 4)\n",
    "grid_search1.fit(X_train,Y_train)\n",
    "print(\"Best Set of Parameters\")\n",
    "grid_search1.grid_scores_, grid_search1.best_params_, grid_search1.best_score_"
   ]
  },
  {
   "cell_type": "code",
   "execution_count": 51,
   "metadata": {
    "collapsed": false
   },
   "outputs": [
    {
     "name": "stdout",
     "output_type": "stream",
     "text": [
      "\n",
      "Cross Validation Training Report Summary\n",
      "    test-merror-mean  test-merror-std  train-merror-mean  train-merror-std\n",
      "90          0.356763         0.022737           0.279576          0.004607\n",
      "91          0.355555         0.023686           0.279737          0.004639\n",
      "92          0.355797         0.021767           0.279227          0.004456\n",
      "93          0.355314         0.022360           0.279173          0.004442\n",
      "94          0.354831         0.021617           0.279173          0.004450\n",
      "\n",
      "Confusion Matrix\n",
      "     Pred    SS  CSiS  FSiS  SiSh    MS    WS     D    PS    BS Total\n",
      "     True\n",
      "       SS   212    50     6                                       268\n",
      "     CSiS     7   869    63                 1                     940\n",
      "     FSiS          99   679                 1           1         780\n",
      "     SiSh           1     1   242          18           9         271\n",
      "       MS           2     3     9   222    36     1    23         296\n",
      "       WS     1           2    20    12   489     4    53     1   582\n",
      "        D           1           1           4   121    11     3   141\n",
      "       PS                 3    13     5    56     3   604     2   686\n",
      "       BS                                   3           1   181   185\n",
      "\n",
      "Precision  0.96  0.85  0.90  0.85  0.93  0.80  0.94  0.86  0.97  0.88\n",
      "   Recall  0.79  0.92  0.87  0.89  0.75  0.84  0.86  0.88  0.98  0.87\n",
      "       F1  0.87  0.89  0.88  0.87  0.83  0.82  0.90  0.87  0.97  0.87\n",
      "\n",
      "Model Report\n",
      "-Accuracy: 0.872258\n",
      "-Adjacent Accuracy: 0.971077\n"
     ]
    }
   ],
   "source": [
    "#Final Model \n",
    "xgb_final = xgb.XGBClassifier( learning_rate =0.001, n_estimators=500, max_depth=6,\n",
    "                               min_child_weight=1, gamma=0, subsample=0.8, reg_alpha = 1,\n",
    "                               colsample_bytree=0.8, objective='multi:softmax',\n",
    "                               nthread=4, scale_pos_weight=1, seed=27)\n",
    "\n",
    "xgb_param_final = xgb_final.get_xgb_params()\n",
    "xgb_param_final['num_class'] = 9\n",
    "\n",
    "# Perform cross-validation\n",
    "cvresult = xgb.cv(xgb_param_final, dtrain, num_boost_round=xgb_param_final['n_estimators'], \n",
    "                  nfold=cv_folds, metrics='merror', early_stopping_rounds=rounds)\n",
    "\n",
    "print \"\\nCross Validation Training Report Summary\"\n",
    "print cvresult.tail()\n",
    "\n",
    "xgb_final.set_params(n_estimators=cvresult.shape[0])\n",
    "\n",
    "\n",
    "#Fit the algorithm on the data\n",
    "xgb_final.fit(X_train, Y_train,eval_metric='merror')\n",
    "\n",
    "#Predict training set:\n",
    "predictions = xgb_final.predict(X_train)\n",
    "        \n",
    "#Print model report\n",
    "\n",
    "# Confusion Matrix\n",
    "print \"\\nConfusion Matrix\"\n",
    "display_cm(conf, facies_labels, display_metrics=True, hide_zeros=True)\n",
    "\n",
    "# Print Results\n",
    "print \"\\nModel Report\"\n",
    "print \"-Accuracy: %.6f\" % ( accuracy(conf) )\n",
    "print \"-Adjacent Accuracy: %.6f\" % ( accuracy_adjacent(conf, adjacent_facies) )"
   ]
  },
  {
   "cell_type": "markdown",
   "metadata": {
    "collapsed": true
   },
   "source": [
    "## Results\n",
    "---\n",
    "\n",
    "We will see the performance of the model by taking the average accuracy and adjacency accuracy in Leaving Out One Well Cross Validation routine."
   ]
  },
  {
   "cell_type": "code",
   "execution_count": null,
   "metadata": {
    "collapsed": false
   },
   "outputs": [
    {
     "name": "stdout",
     "output_type": "stream",
     "text": [
      "\n",
      "------------------------------------------------------\n",
      "Leaving out well SHRIMPLIN\n",
      "\n",
      "Model Report\n",
      "-Accuracy: 0.577495\n",
      "-Adjacent Accuracy: 0.951168\n",
      "-F1 Score: 0.547461\n",
      "\n",
      "Confusion Matrix Results\n",
      "     Pred    SS  CSiS  FSiS  SiSh    MS    WS     D    PS    BS Total\n",
      "     True\n",
      "       SS                                                           0\n",
      "     CSiS    14    85    19                                       118\n",
      "     FSiS     2    54    67                                       123\n",
      "     SiSh                      12     1     2           2     1    18\n",
      "       MS                 1     6          49           7          63\n",
      "       WS                       3          43     2    11     4    63\n",
      "        D                                               5           5\n",
      "       PS                       1           7          56     5    69\n",
      "       BS                                               3     9    12\n",
      "\n",
      "Precision  0.00  0.61  0.77  0.55  0.00  0.43  0.00  0.67  0.47  0.54\n",
      "   Recall  0.00  0.72  0.54  0.67  0.00  0.68  0.00  0.81  0.75  0.58\n",
      "       F1  0.00  0.66  0.64  0.60  0.00  0.52  0.00  0.73  0.58  0.55\n",
      "\n",
      "------------------------------------------------------\n",
      "Leaving out well ALEXANDER D\n",
      "\n",
      "Model Report\n",
      "-Accuracy: 0.637339\n",
      "-Adjacent Accuracy: 0.916309\n",
      "-F1 Score: 0.613383\n",
      "\n",
      "Confusion Matrix Results\n",
      "     Pred    SS  CSiS  FSiS  SiSh    MS    WS     D    PS    BS Total\n",
      "     True\n",
      "       SS                                                           0\n",
      "     CSiS          96    21                                       117\n",
      "     FSiS          30    61                                        91\n",
      "     SiSh                      40           1     2     1          44\n",
      "       MS                       4     2    11           9          26\n",
      "       WS                      14     1    22     3    29          69\n",
      "        D                                   1     6     9          16\n",
      "       PS                       9          12     7    70          98\n",
      "       BS                       3                       2           5\n",
      "\n",
      "Precision  0.00  0.76  0.74  0.57  0.67  0.47  0.33  0.58  0.00  0.63\n",
      "   Recall  0.00  0.82  0.67  0.91  0.08  0.32  0.38  0.71  0.00  0.64\n",
      "       F1  0.00  0.79  0.71  0.70  0.14  0.38  0.35  0.64  0.00  0.61\n",
      "\n",
      "------------------------------------------------------\n",
      "Leaving out well SHANKLE\n",
      "\n",
      "Model Report\n",
      "-Accuracy: 0.527840\n",
      "-Adjacent Accuracy: 0.966592\n",
      "-F1 Score: 0.494047\n",
      "\n",
      "Confusion Matrix Results\n",
      "     Pred    SS  CSiS  FSiS  SiSh    MS    WS     D    PS    BS Total\n",
      "     True\n",
      "       SS     4    82     3                                        89\n",
      "     CSiS     8    67    14                                        89\n",
      "     FSiS          40    77                                       117\n",
      "     SiSh                       4           1           2           7\n",
      "       MS                      14           4           1          19\n",
      "       WS                       6     2    50          13          71\n",
      "        D     2                             1     5     9          17\n",
      "       PS                                  10          30          40\n",
      "       BS                                                           0\n",
      "\n",
      "Precision  0.29  0.35  0.82  0.17  0.00  0.76  1.00  0.55  0.00  0.55\n",
      "   Recall  0.04  0.75  0.66  0.57  0.00  0.70  0.29  0.75  0.00  0.53\n",
      "       F1  0.08  0.48  0.73  0.26  0.00  0.73  0.45  0.63  0.00  0.49\n",
      "\n",
      "------------------------------------------------------\n",
      "Leaving out well LUKE G U\n",
      "\n",
      "Model Report\n",
      "-Accuracy: 0.670282\n",
      "-Adjacent Accuracy: 0.930586\n",
      "-F1 Score: 0.684772\n",
      "\n",
      "Confusion Matrix Results\n",
      "     Pred    SS  CSiS  FSiS  SiSh    MS    WS     D    PS    BS Total\n",
      "     True\n",
      "       SS                                                           0\n",
      "     CSiS    10    91    16                                       117\n",
      "     FSiS     7    44    76                             1     1   129\n",
      "     SiSh                      29     3     1           2          35\n",
      "       MS                                   1           1           2\n",
      "       WS                       8     2    58          16          84\n",
      "        D                       2                 5     9     4    20\n",
      "       PS                 1     2     2    19          50          74\n",
      "       BS                                                           0\n",
      "\n",
      "Precision  0.00  0.67  0.82  0.71  0.00  0.73  1.00  0.63  0.00  0.73\n",
      "   Recall  0.00  0.78  0.59  0.83  0.00  0.69  0.25  0.68  0.00  0.67\n",
      "       F1  0.00  0.72  0.68  0.76  0.00  0.71  0.40  0.65  0.00  0.68\n",
      "\n",
      "------------------------------------------------------\n",
      "Leaving out well KIMZEY A\n",
      "\n",
      "Model Report\n",
      "-Accuracy: 0.512528\n",
      "-Adjacent Accuracy: 0.897494\n",
      "-F1 Score: 0.470631\n",
      "\n",
      "Confusion Matrix Results\n",
      "     Pred    SS  CSiS  FSiS  SiSh    MS    WS     D    PS    BS Total\n",
      "     True\n",
      "       SS           7     2                                         9\n",
      "     CSiS          77     8                                        85\n",
      "     FSiS          44    30                                        74\n",
      "     SiSh                      28          14           1          43\n",
      "       MS                       8     2    29          14          53\n",
      "       WS                 3     4          29     1    14          51\n",
      "        D                       3           2     5    17          27\n",
      "       PS                       2     1    30     3    54          90\n",
      "       BS                                   1           6           7\n",
      "\n",
      "Precision  0.00  0.60  0.70  0.62  0.67  0.28  0.56  0.51  0.00  0.55\n",
      "   Recall  0.00  0.91  0.41  0.65  0.04  0.57  0.19  0.60  0.00  0.51\n",
      "       F1  0.00  0.72  0.51  0.64  0.07  0.37  0.28  0.55  0.00  0.47\n"
     ]
    }
   ],
   "source": [
    "# Import data\n",
    "filename = '../facies_vectors.csv'\n",
    "data = pd.read_csv(filename)\n",
    "\n",
    "data['Well Name'] = data['Well Name'].astype('category')\n",
    "data['Formation'] = data['Formation'].astype('category')\n",
    "\n",
    "# Leave out one well for prediction\n",
    "well_names = data['Well Name'].unique()\n",
    "f1=[]\n",
    "for i in range(len(well_names)):\n",
    "    \n",
    "    # Split data\n",
    "    X_train = data.drop(['Facies', 'Formation','Depth'], axis = 1 ) \n",
    "    Y_train = data['Facies' ] - 1\n",
    "    \n",
    "    train_X = X_train[X_train['Well Name'] != well_names[i] ]\n",
    "    train_Y = Y_train[X_train['Well Name'] != well_names[i] ]\n",
    "    test_X  = X_train[X_train['Well Name'] == well_names[i] ]\n",
    "    test_Y  = Y_train[X_train['Well Name'] == well_names[i] ]\n",
    "\n",
    "    train_X = train_X.drop(['Well Name'], axis = 1 ) \n",
    "    test_X = test_X.drop(['Well Name'], axis = 1 )\n",
    "\n",
    "    # Model\n",
    "    model_final = xgb.XGBClassifier( learning_rate =0.001, n_estimators=500, max_depth=6,\n",
    "                                   min_child_weight=1, gamma=0, subsample=0.8, reg_alpha = 10,\n",
    "                                   colsample_bytree=0.8, objective='multi:softmax',\n",
    "                                   nthread=4, scale_pos_weight=1, seed=27)\n",
    "\n",
    "    #Fit the algorithm on the data\n",
    "    model_final.fit( train_X , train_Y , eval_metric = 'merror' )\n",
    "\n",
    "    # model_final = RandomForestClassifier(n_estimators=1000) # RANDOM FORREST\n",
    "    #model_final.fit(train_X, train_Y)\n",
    "\n",
    "    #Predict training set:\n",
    "    predictions = model_final.predict(test_X)\n",
    "\n",
    "    #Print model report\n",
    "    print \"\\n------------------------------------------------------\"\n",
    "    print \"Leaving out well \" + well_names[i]\n",
    "    # Confusion Matrix\n",
    "    conf = confusion_matrix( test_Y, predictions, labels = np.arange(9) )\n",
    "    # Print Results\n",
    "    print \"\\nModel Report\"\n",
    "    print \"-Accuracy: %.6f\" % ( accuracy(conf) )\n",
    "    print \"-Adjacent Accuracy: %.6f\" % ( accuracy_adjacent(conf, adjacent_facies) )\n",
    "    print \"-F1 Score: %.6f\" % ( f1_score ( test_Y , predictions , labels = np.arange(9), average = 'weighted' ) )\n",
    "    f1.append(f1_score ( test_Y , predictions , labels = np.arange(9), average = 'weighted' ))\n",
    "    facies_labels = ['SS', 'CSiS', 'FSiS', 'SiSh', 'MS',\n",
    "                     'WS', 'D','PS', 'BS']\n",
    "    print \"\\nConfusion Matrix Results\"\n",
    "    from classification_utilities import display_cm, display_adj_cm\n",
    "    display_cm(conf, facies_labels,display_metrics=True, hide_zeros=True)\n",
    "    \n",
    "print \"\\n------------------------------------------------------\"\n",
    "print \"Final Results\"\n",
    "print \"-Average F1 Score: %6f\" % (sum(f1)/(1.0*len(f1)))"
   ]
  },
  {
   "cell_type": "markdown",
   "metadata": {},
   "source": [
    "We import the testing data and apply our trained model to make a prediction."
   ]
  },
  {
   "cell_type": "code",
   "execution_count": 108,
   "metadata": {
    "collapsed": false
   },
   "outputs": [],
   "source": [
    "# Load test data\n",
    "test_data = pd.read_csv('validation_data_nofacies.csv')\n",
    "test_data['Well Name'] = test_data['Well Name'].astype('category')\n",
    "X_test = test_data.drop(['Formation', 'Well Name', 'Depth'], axis=1)\n",
    "# Predict facies of unclassified data\n",
    "Y_predicted = xgb_final.predict(X_test)\n",
    "test_data['Facies'] = Y_predicted + 1\n",
    "# Store the prediction\n",
    "test_data.to_csv('Prediction.csv')"
   ]
  }
 ],
 "metadata": {
  "kernelspec": {
   "display_name": "Python [Root]",
   "language": "python",
   "name": "Python [Root]"
  },
  "language_info": {
   "codemirror_mode": {
    "name": "ipython",
    "version": 2
   },
   "file_extension": ".py",
   "mimetype": "text/x-python",
   "name": "python",
   "nbconvert_exporter": "python",
   "pygments_lexer": "ipython2",
   "version": "2.7.12"
  }
 },
 "nbformat": 4,
 "nbformat_minor": 0
}
