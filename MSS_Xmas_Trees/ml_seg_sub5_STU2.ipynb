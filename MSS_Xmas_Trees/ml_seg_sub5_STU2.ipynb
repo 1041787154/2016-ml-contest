{
 "cells": [
  {
   "cell_type": "markdown",
   "metadata": {},
   "source": [
    "#### Contest entry by Wouter Kimman \n",
    "\n",
    "\n",
    "Strategy: \n",
    "----------------------------------------------\n",
    "stacking and optimized selective use of the training data"
   ]
  },
  {
   "cell_type": "code",
   "execution_count": 1,
   "metadata": {
    "collapsed": false
   },
   "outputs": [],
   "source": [
    "from numpy.fft import rfft\n",
    "from scipy import signal\n",
    "import numpy as np\n",
    "import matplotlib.pyplot as plt\n",
    "import plotly.plotly as py\n",
    "import pandas as pd\n",
    "import timeit\n",
    "from sqlalchemy.sql import text\n",
    "from sklearn import tree\n",
    "#from sklearn.model_selection import LeavePGroupsOut\n",
    "from sklearn import metrics\n",
    "from sklearn.tree import export_graphviz\n",
    "from sklearn.ensemble import RandomForestClassifier\n",
    "from sklearn.linear_model import LogisticRegression\n",
    "from sklearn import linear_model\n",
    "#import sherlock.filesystem as sfs\n",
    "#import sherlock.database as sdb\n",
    "from sklearn import preprocessing\n",
    "from sklearn.model_selection import cross_val_score\n",
    "from sklearn.model_selection import train_test_split\n",
    "from scipy import stats\n",
    "from sklearn import svm\n",
    "from sklearn.neighbors import KNeighborsClassifier\n",
    "from sklearn.preprocessing import StandardScaler\n",
    "from sklearn.metrics import confusion_matrix\n",
    "from sklearn.neural_network import MLPClassifier\n",
    "from sklearn.ensemble import GradientBoostingClassifier\n",
    "import collections"
   ]
  },
  {
   "cell_type": "code",
   "execution_count": 2,
   "metadata": {
    "collapsed": true
   },
   "outputs": [],
   "source": [
    "\n",
    "def permute_facies_nr(predicted_super, predicted0, faciesnr):\n",
    "    predicted=predicted0.copy()\n",
    "    N=len(predicted)\n",
    "    for ii in range(N):\n",
    "        if predicted_super[ii]==1:\n",
    "            predicted[ii]=faciesnr  \n",
    "    return predicted"
   ]
  },
  {
   "cell_type": "code",
   "execution_count": 3,
   "metadata": {
    "collapsed": true
   },
   "outputs": [],
   "source": [
    "def binarify(dataset0, facies_nr):\n",
    "    dataset=dataset0.copy()\n",
    "    mask=dataset != facies_nr\n",
    "    dataset[mask]=0\n",
    "    mask=dataset == facies_nr\n",
    "    dataset[mask]=1    \n",
    "    return dataset"
   ]
  },
  {
   "cell_type": "code",
   "execution_count": 4,
   "metadata": {
    "collapsed": false
   },
   "outputs": [],
   "source": [
    "\n",
    "def make_balanced_binary(df_in, faciesnr, factor):\n",
    "    df=df_in.copy()\n",
    "    y=df['Facies'].values\n",
    "    y0=binarify(y, faciesnr)\n",
    "    df['Facies']=y0\n",
    "\n",
    "    df1=df[df['Facies']==1]\n",
    "    X_part1=df1.drop(['Formation', 'Well Name', 'Depth','Facies'], axis=1)\n",
    "    y_part1=df1['Facies'].values\n",
    "    N1=len(df1)\n",
    "\n",
    "    df2=df[df['Facies']==0]\n",
    "    X_part0=df2.drop(['Formation', 'Well Name', 'Depth','Facies'], axis=1)\n",
    "    y_part0=df2['Facies'].values\n",
    "    N2=len(df2)\n",
    "    print \"ratio now:\"\n",
    "    print float(N2)/float(N1)\n",
    "    ratio_to_keep=factor*float(N1)/float(N2)\n",
    "    print \"ratio after:\"\n",
    "    print float(N2)/(factor*float(N1))\n",
    "    dum1, X_part2, dum2, y_part2 = train_test_split(X_part0, y_part0, test_size=ratio_to_keep, random_state=42)\n",
    "\n",
    "    tmp=[X_part1, X_part2]  \n",
    "    X = pd.concat(tmp, axis=0)\n",
    "    y = np.concatenate((y_part1, y_part2))\n",
    "    return X, y\n",
    "\n",
    "\n"
   ]
  },
  {
   "cell_type": "code",
   "execution_count": 5,
   "metadata": {
    "collapsed": true
   },
   "outputs": [],
   "source": [
    "# output f1\n",
    "#def phaseI_model(correct_facies_labels, features_blind,regime_train, correctA, go_B, clf, pred_array, pred_blind):   \n",
    "#    clf.fit(regime_train,correctA)     \n",
    "#    predicted_B = clf.predict(go_B)\n",
    "#    pred_array = np.vstack((predicted_B, pred_array))    \n",
    "#    predicted_blind1 = clf.predict(features_blind)\n",
    "#    out_f1=metrics.f1_score(correct_facies_labels, predicted_blind1, average = 'micro')\n",
    "#    print \"f1 score on the prediction of blind\"\n",
    "#    print out_f1\n",
    "#    pred_blind = np.vstack((predicted_blind1, pred_blind))\n",
    "#    return pred_array, pred_blind\n",
    "#\n",
    "#def phaseI_model_scaled(correct_facies_labels, features_blind,regime_train, correctA, go_B, clf, pred_array, pred_blind):   \n",
    "#    regime_train=StandardScaler().fit_transform(regime_train)\n",
    "#    go_B=StandardScaler().fit_transform(go_B)\n",
    "#    features_blind=StandardScaler().fit_transform(features_blind)\n",
    "#    clf.fit(regime_train,correctA)     \n",
    "#    predicted_B = clf.predict(go_B)\n",
    "#    pred_array = np.vstack((predicted_B, pred_array))    \n",
    "#    predicted_blind1 = clf.predict(features_blind)\n",
    "#    out_f1=metrics.f1_score(correct_facies_labels, predicted_blind1, average = 'micro')\n",
    "#    print \"f1 score on the prediction of blind\"\n",
    "#    print out_f1\n",
    "#    pred_blind = np.vstack((predicted_blind1, pred_blind))\n",
    "#    return pred_array, pred_blind"
   ]
  },
  {
   "cell_type": "code",
   "execution_count": 6,
   "metadata": {
    "collapsed": false
   },
   "outputs": [],
   "source": [
    "def phaseI_model(regime_train, correctA, go_B, clf, pred_array, pred_blind, features_blind):      \n",
    "    clf.fit(regime_train,correctA)     \n",
    "    predicted_B = clf.predict(go_B)\n",
    "    pred_array = np.vstack((predicted_B, pred_array))   \n",
    "    predicted_blind1 = clf.predict(features_blind)\n",
    "    pred_blind = np.vstack((predicted_blind1, pred_blind))    \n",
    "    return pred_array, pred_blind\n",
    "\n",
    "def phaseI_model_scaled(regime_train, correctA, go_B, clf, pred_array, pred_blind, features_blind):   \n",
    "    regime_train=StandardScaler().fit_transform(regime_train)\n",
    "    go_B=StandardScaler().fit_transform(go_B)\n",
    "    features_blind=StandardScaler().fit_transform(features_blind)\n",
    "    clf.fit(regime_train,correctA)     \n",
    "    predicted_B = clf.predict(go_B)\n",
    "    pred_array = np.vstack((predicted_B, pred_array))\n",
    "    predicted_blind1 = clf.predict(features_blind)\n",
    "    pred_blind = np.vstack((predicted_blind1, pred_blind))\n",
    "    return pred_array, pred_blind"
   ]
  },
  {
   "cell_type": "code",
   "execution_count": 7,
   "metadata": {
    "collapsed": false
   },
   "outputs": [],
   "source": [
    "def create_structure_for_regimes(df):\n",
    "    allfeats=['GR','ILD_log10','DeltaPHI','PHIND','PE','NM_M','RELPOS']\n",
    "    data_all = []\n",
    "    for feat in allfeats:\n",
    "        dff=df.groupby('Well Name').describe(percentiles=[0.1, 0.25, .5, 0.75, 0.9]).reset_index().pivot(index='Well Name', values=feat, columns='level_1')\n",
    "        dff = dff.drop(['count'], axis=1)\n",
    "        cols=dff.columns\n",
    "        cols_new=[]\n",
    "        for ii in cols:\n",
    "            strin=feat + \"_\" + str(ii)\n",
    "            cols_new.append(strin)\n",
    "        dff.columns=cols_new \n",
    "        dff1=dff.reset_index()\n",
    "        if feat=='GR':\n",
    "            data_all.append(dff1)\n",
    "        else:\n",
    "            data_all.append(dff1.iloc[:,1:])\n",
    "    data_all = pd.concat(data_all,axis=1)\n",
    "    return data_all "
   ]
  },
  {
   "cell_type": "markdown",
   "metadata": {},
   "source": [
    "**This is the only feature engineering used:**"
   ]
  },
  {
   "cell_type": "code",
   "execution_count": 8,
   "metadata": {
    "collapsed": false
   },
   "outputs": [],
   "source": [
    "\n",
    "def magic(df):\n",
    "    df1=df.copy()\n",
    "    b, a = signal.butter(2, 0.2, btype='high', analog=False)\n",
    "    feats0=['GR','ILD_log10','DeltaPHI','PHIND','PE','NM_M','RELPOS']\n",
    "    #feats01=['GR','ILD_log10','DeltaPHI','PHIND']\n",
    "    #feats01=['DeltaPHI']\n",
    "    #feats01=['GR','DeltaPHI','PHIND']\n",
    "    feats01=['GR',]\n",
    "    feats02=['PHIND']\n",
    "    #feats02=[]\n",
    "    for ii in feats0:\n",
    "        df1[ii]=df[ii]\n",
    "        name1=ii + '_1'\n",
    "        name2=ii + '_2'\n",
    "        name3=ii + '_3'\n",
    "        name4=ii + '_4'\n",
    "        name5=ii + '_5'\n",
    "        name6=ii + '_6'\n",
    "        name7=ii + '_7'\n",
    "        name8=ii + '_8'\n",
    "        name9=ii + '_9'\n",
    "        xx1 = list(df[ii])\n",
    "        xx_mf= signal.medfilt(xx1,9)\n",
    "        x_min1=np.roll(xx_mf, 1)\n",
    "        x_min2=np.roll(xx_mf, -1)\n",
    "        x_min3=np.roll(xx_mf, 3)\n",
    "        x_min4=np.roll(xx_mf, 4)\n",
    "        xx1a=xx1-np.mean(xx1)\n",
    "        xx_fil = signal.filtfilt(b, a, xx1)        \n",
    "        xx_grad=np.gradient(xx1a) \n",
    "        x_min5=np.roll(xx_grad, 3)\n",
    "        #df1[name4]=xx_mf\n",
    "        if ii in feats01: \n",
    "            df1[name1]=x_min3\n",
    "            df1[name2]=xx_fil\n",
    "            df1[name3]=xx_grad\n",
    "            df1[name4]=xx_mf \n",
    "            df1[name5]=x_min1\n",
    "            df1[name6]=x_min2\n",
    "            df1[name7]=x_min4\n",
    "            #df1[name8]=x_min5\n",
    "            #df1[name9]=x_min2\n",
    "        if ii in feats02:\n",
    "            df1[name1]=x_min3\n",
    "            df1[name2]=xx_fil\n",
    "            df1[name3]=xx_grad\n",
    "            #df1[name4]=xx_mf \n",
    "            df1[name5]=x_min1\n",
    "            #df1[name6]=x_min2 \n",
    "            #df1[name7]=x_min4\n",
    "    return df1\n",
    "\n",
    "        \n",
    "\n",
    "\n",
    "        \n",
    "        "
   ]
  },
  {
   "cell_type": "code",
   "execution_count": 9,
   "metadata": {
    "collapsed": false
   },
   "outputs": [],
   "source": [
    "#filename = 'training_data.csv'\n",
    "filename = 'facies_vectors.csv'\n",
    "training_data0 = pd.read_csv(filename)\n",
    "filename = 'validation_data_nofacies.csv'\n",
    "test_data = pd.read_csv(filename)\n"
   ]
  },
  {
   "cell_type": "code",
   "execution_count": 10,
   "metadata": {
    "collapsed": false
   },
   "outputs": [
    {
     "name": "stdout",
     "output_type": "stream",
     "text": [
      "['SHRIMPLIN' 'ALEXANDER D' 'SHANKLE' 'LUKE G U' 'KIMZEY A' 'CROSS H CATTLE'\n",
      " 'NOLAN' 'Recruit F9' 'NEWBY' 'CHURCHMAN BIBLE']\n"
     ]
    }
   ],
   "source": [
    "all_wells=training_data0['Well Name'].unique()\n",
    "print all_wells"
   ]
  },
  {
   "cell_type": "code",
   "execution_count": 11,
   "metadata": {
    "collapsed": false
   },
   "outputs": [
    {
     "name": "stdout",
     "output_type": "stream",
     "text": [
      "3.5515\n",
      "SHRIMPLIN\n",
      "471\n",
      "using median of local\n",
      "ALEXANDER D\n",
      "466\n",
      "using median of total\n",
      "SHANKLE\n",
      "449\n",
      "using median of local\n",
      "LUKE G U\n",
      "461\n",
      "using median of local\n",
      "KIMZEY A\n",
      "439\n",
      "using median of total\n",
      "CROSS H CATTLE\n",
      "501\n",
      "using median of local\n",
      "NOLAN\n",
      "415\n",
      "using median of local\n",
      "Recruit F9\n",
      "80\n",
      "using median of local\n",
      "NEWBY\n",
      "463\n",
      "using median of local\n",
      "CHURCHMAN BIBLE\n",
      "404\n",
      "using median of local\n",
      "4149\n",
      "4149\n"
     ]
    }
   ],
   "source": [
    "# what to do with the naans\n",
    "training_data1=training_data0.copy()\n",
    "me_tot=training_data1['PE'].median()\n",
    "print me_tot\n",
    "for well in all_wells:\n",
    "    df=training_data0[training_data0['Well Name'] == well] \n",
    "    print well\n",
    "    print len(df)\n",
    "    df0=df.dropna()\n",
    "    #print len(df0)\n",
    "    if len(df0) > 0:\n",
    "        print \"using median of local\"\n",
    "        me=df['PE'].median()\n",
    "        df=df.fillna(value=me)\n",
    "    else:\n",
    "        print \"using median of total\"\n",
    "        df=df.fillna(value=me_tot)\n",
    "    training_data1[training_data0['Well Name'] == well] =df\n",
    "    \n",
    "\n",
    "print len(training_data1)\n",
    "df0=training_data1.dropna()\n",
    "print len(df0)"
   ]
  },
  {
   "cell_type": "code",
   "execution_count": 12,
   "metadata": {
    "collapsed": false
   },
   "outputs": [
    {
     "name": "stdout",
     "output_type": "stream",
     "text": [
      "4149\n",
      "4149\n",
      "4149\n",
      "4143\n"
     ]
    }
   ],
   "source": [
    "#remove outliers\n",
    "df=training_data1.copy()\n",
    "print len(df)\n",
    "df0=df.dropna()\n",
    "print len(df0)\n",
    "df1 = df0.drop(['Formation', 'Well Name', 'Depth','Facies'], axis=1)\n",
    "#df=pd.DataFrame(np.random.randn(20,3))\n",
    "#df.iloc[3,2]=5\n",
    "print len(df1)\n",
    "df2=df0[(np.abs(stats.zscore(df1))<8).all(axis=1)]\n",
    "print len(df2)"
   ]
  },
  {
   "cell_type": "code",
   "execution_count": 13,
   "metadata": {
    "collapsed": true
   },
   "outputs": [],
   "source": [
    "df2a=df2[df2['Well Name'] != 'Recruit F9'] "
   ]
  },
  {
   "cell_type": "code",
   "execution_count": 14,
   "metadata": {
    "collapsed": false
   },
   "outputs": [],
   "source": [
    "data_all=create_structure_for_regimes(df2a)\n",
    "data_test=create_structure_for_regimes(test_data)"
   ]
  },
  {
   "cell_type": "code",
   "execution_count": 15,
   "metadata": {
    "collapsed": false
   },
   "outputs": [
    {
     "data": {
      "text/html": [
       "<div>\n",
       "<table border=\"1\" class=\"dataframe\">\n",
       "  <thead>\n",
       "    <tr style=\"text-align: right;\">\n",
       "      <th></th>\n",
       "      <th>Well Name</th>\n",
       "      <th>GR_10%</th>\n",
       "      <th>GR_25%</th>\n",
       "      <th>GR_50%</th>\n",
       "      <th>GR_75%</th>\n",
       "      <th>GR_90%</th>\n",
       "      <th>GR_max</th>\n",
       "      <th>GR_mean</th>\n",
       "      <th>GR_min</th>\n",
       "      <th>GR_std</th>\n",
       "      <th>...</th>\n",
       "      <th>NM_M_std</th>\n",
       "      <th>RELPOS_10%</th>\n",
       "      <th>RELPOS_25%</th>\n",
       "      <th>RELPOS_50%</th>\n",
       "      <th>RELPOS_75%</th>\n",
       "      <th>RELPOS_90%</th>\n",
       "      <th>RELPOS_max</th>\n",
       "      <th>RELPOS_mean</th>\n",
       "      <th>RELPOS_min</th>\n",
       "      <th>RELPOS_std</th>\n",
       "    </tr>\n",
       "  </thead>\n",
       "  <tbody>\n",
       "    <tr>\n",
       "      <th>0</th>\n",
       "      <td>CRAWFORD</td>\n",
       "      <td>24.9075</td>\n",
       "      <td>41.1465</td>\n",
       "      <td>58.413</td>\n",
       "      <td>73.55225</td>\n",
       "      <td>84.7215</td>\n",
       "      <td>167.803</td>\n",
       "      <td>58.666020</td>\n",
       "      <td>16.197</td>\n",
       "      <td>26.033591</td>\n",
       "      <td>...</td>\n",
       "      <td>0.438386</td>\n",
       "      <td>0.1240</td>\n",
       "      <td>0.2775</td>\n",
       "      <td>0.537</td>\n",
       "      <td>0.7765</td>\n",
       "      <td>0.9145</td>\n",
       "      <td>1.0</td>\n",
       "      <td>0.52623</td>\n",
       "      <td>0.017</td>\n",
       "      <td>0.287468</td>\n",
       "    </tr>\n",
       "    <tr>\n",
       "      <th>1</th>\n",
       "      <td>STUART</td>\n",
       "      <td>24.1612</td>\n",
       "      <td>34.5620</td>\n",
       "      <td>57.851</td>\n",
       "      <td>72.50275</td>\n",
       "      <td>82.7020</td>\n",
       "      <td>220.413</td>\n",
       "      <td>56.819901</td>\n",
       "      <td>12.036</td>\n",
       "      <td>28.600303</td>\n",
       "      <td>...</td>\n",
       "      <td>0.483098</td>\n",
       "      <td>0.1436</td>\n",
       "      <td>0.3180</td>\n",
       "      <td>0.550</td>\n",
       "      <td>0.7795</td>\n",
       "      <td>0.9257</td>\n",
       "      <td>1.0</td>\n",
       "      <td>0.54300</td>\n",
       "      <td>0.013</td>\n",
       "      <td>0.279796</td>\n",
       "    </tr>\n",
       "  </tbody>\n",
       "</table>\n",
       "<p>2 rows × 64 columns</p>\n",
       "</div>"
      ],
      "text/plain": [
       "  Well Name   GR_10%   GR_25%  GR_50%    GR_75%   GR_90%   GR_max    GR_mean  \\\n",
       "0  CRAWFORD  24.9075  41.1465  58.413  73.55225  84.7215  167.803  58.666020   \n",
       "1    STUART  24.1612  34.5620  57.851  72.50275  82.7020  220.413  56.819901   \n",
       "\n",
       "   GR_min     GR_std     ...      NM_M_std  RELPOS_10%  RELPOS_25%  \\\n",
       "0  16.197  26.033591     ...      0.438386      0.1240      0.2775   \n",
       "1  12.036  28.600303     ...      0.483098      0.1436      0.3180   \n",
       "\n",
       "   RELPOS_50%  RELPOS_75%  RELPOS_90%  RELPOS_max  RELPOS_mean  RELPOS_min  \\\n",
       "0       0.537      0.7765      0.9145         1.0      0.52623       0.017   \n",
       "1       0.550      0.7795      0.9257         1.0      0.54300       0.013   \n",
       "\n",
       "   RELPOS_std  \n",
       "0    0.287468  \n",
       "1    0.279796  \n",
       "\n",
       "[2 rows x 64 columns]"
      ]
     },
     "execution_count": 15,
     "metadata": {},
     "output_type": "execute_result"
    }
   ],
   "source": [
    "data_test"
   ]
  },
  {
   "cell_type": "markdown",
   "metadata": {
    "collapsed": true
   },
   "source": [
    "**kmeans clustering to find natural clusters:**"
   ]
  },
  {
   "cell_type": "code",
   "execution_count": 624,
   "metadata": {
    "collapsed": false
   },
   "outputs": [
    {
     "data": {
      "text/html": [
       "<div>\n",
       "<table border=\"1\" class=\"dataframe\">\n",
       "  <thead>\n",
       "    <tr style=\"text-align: right;\">\n",
       "      <th></th>\n",
       "      <th>Well Name</th>\n",
       "      <th>GR_10%</th>\n",
       "      <th>GR_25%</th>\n",
       "      <th>GR_50%</th>\n",
       "      <th>GR_75%</th>\n",
       "      <th>GR_90%</th>\n",
       "      <th>GR_max</th>\n",
       "      <th>GR_mean</th>\n",
       "      <th>GR_min</th>\n",
       "      <th>GR_std</th>\n",
       "      <th>...</th>\n",
       "      <th>NM_M_std</th>\n",
       "      <th>RELPOS_10%</th>\n",
       "      <th>RELPOS_25%</th>\n",
       "      <th>RELPOS_50%</th>\n",
       "      <th>RELPOS_75%</th>\n",
       "      <th>RELPOS_90%</th>\n",
       "      <th>RELPOS_max</th>\n",
       "      <th>RELPOS_mean</th>\n",
       "      <th>RELPOS_min</th>\n",
       "      <th>RELPOS_std</th>\n",
       "    </tr>\n",
       "  </thead>\n",
       "  <tbody>\n",
       "    <tr>\n",
       "      <th>0</th>\n",
       "      <td>ALEXANDER D</td>\n",
       "      <td>25.9700</td>\n",
       "      <td>44.8650</td>\n",
       "      <td>72.285</td>\n",
       "      <td>88.92750</td>\n",
       "      <td>100.7850</td>\n",
       "      <td>168.430</td>\n",
       "      <td>68.280236</td>\n",
       "      <td>13.340</td>\n",
       "      <td>28.635640</td>\n",
       "      <td>...</td>\n",
       "      <td>0.497648</td>\n",
       "      <td>0.1125</td>\n",
       "      <td>0.2670</td>\n",
       "      <td>0.518</td>\n",
       "      <td>0.76125</td>\n",
       "      <td>0.9105</td>\n",
       "      <td>1.0</td>\n",
       "      <td>0.515584</td>\n",
       "      <td>0.000</td>\n",
       "      <td>0.289040</td>\n",
       "    </tr>\n",
       "    <tr>\n",
       "      <th>1</th>\n",
       "      <td>CHURCHMAN BIBLE</td>\n",
       "      <td>33.6532</td>\n",
       "      <td>41.3755</td>\n",
       "      <td>59.203</td>\n",
       "      <td>74.31250</td>\n",
       "      <td>95.6691</td>\n",
       "      <td>222.500</td>\n",
       "      <td>63.683453</td>\n",
       "      <td>14.469</td>\n",
       "      <td>33.333992</td>\n",
       "      <td>...</td>\n",
       "      <td>0.448185</td>\n",
       "      <td>0.1265</td>\n",
       "      <td>0.2860</td>\n",
       "      <td>0.567</td>\n",
       "      <td>0.80000</td>\n",
       "      <td>0.9290</td>\n",
       "      <td>1.0</td>\n",
       "      <td>0.544317</td>\n",
       "      <td>0.011</td>\n",
       "      <td>0.293647</td>\n",
       "    </tr>\n",
       "    <tr>\n",
       "      <th>2</th>\n",
       "      <td>CROSS H CATTLE</td>\n",
       "      <td>50.4050</td>\n",
       "      <td>60.1980</td>\n",
       "      <td>73.595</td>\n",
       "      <td>84.81900</td>\n",
       "      <td>94.6482</td>\n",
       "      <td>184.021</td>\n",
       "      <td>72.423513</td>\n",
       "      <td>13.893</td>\n",
       "      <td>20.851035</td>\n",
       "      <td>...</td>\n",
       "      <td>0.458631</td>\n",
       "      <td>0.1066</td>\n",
       "      <td>0.2580</td>\n",
       "      <td>0.500</td>\n",
       "      <td>0.75000</td>\n",
       "      <td>0.9000</td>\n",
       "      <td>1.0</td>\n",
       "      <td>0.503288</td>\n",
       "      <td>0.013</td>\n",
       "      <td>0.288401</td>\n",
       "    </tr>\n",
       "    <tr>\n",
       "      <th>3</th>\n",
       "      <td>KIMZEY A</td>\n",
       "      <td>23.5474</td>\n",
       "      <td>34.8140</td>\n",
       "      <td>56.582</td>\n",
       "      <td>66.58800</td>\n",
       "      <td>73.8642</td>\n",
       "      <td>245.360</td>\n",
       "      <td>53.334339</td>\n",
       "      <td>10.149</td>\n",
       "      <td>24.761446</td>\n",
       "      <td>...</td>\n",
       "      <td>0.487142</td>\n",
       "      <td>0.1328</td>\n",
       "      <td>0.3040</td>\n",
       "      <td>0.548</td>\n",
       "      <td>0.78500</td>\n",
       "      <td>0.9202</td>\n",
       "      <td>1.0</td>\n",
       "      <td>0.539453</td>\n",
       "      <td>0.010</td>\n",
       "      <td>0.284105</td>\n",
       "    </tr>\n",
       "    <tr>\n",
       "      <th>4</th>\n",
       "      <td>LUKE G U</td>\n",
       "      <td>29.6800</td>\n",
       "      <td>48.4500</td>\n",
       "      <td>66.190</td>\n",
       "      <td>78.49000</td>\n",
       "      <td>87.3500</td>\n",
       "      <td>195.890</td>\n",
       "      <td>64.777223</td>\n",
       "      <td>13.530</td>\n",
       "      <td>27.427174</td>\n",
       "      <td>...</td>\n",
       "      <td>0.499410</td>\n",
       "      <td>0.1190</td>\n",
       "      <td>0.2630</td>\n",
       "      <td>0.522</td>\n",
       "      <td>0.76100</td>\n",
       "      <td>0.9120</td>\n",
       "      <td>1.0</td>\n",
       "      <td>0.514095</td>\n",
       "      <td>0.010</td>\n",
       "      <td>0.286902</td>\n",
       "    </tr>\n",
       "    <tr>\n",
       "      <th>5</th>\n",
       "      <td>NEWBY</td>\n",
       "      <td>28.4880</td>\n",
       "      <td>38.1100</td>\n",
       "      <td>60.330</td>\n",
       "      <td>71.44500</td>\n",
       "      <td>85.7180</td>\n",
       "      <td>305.870</td>\n",
       "      <td>60.733045</td>\n",
       "      <td>13.920</td>\n",
       "      <td>33.620632</td>\n",
       "      <td>...</td>\n",
       "      <td>0.486991</td>\n",
       "      <td>0.1234</td>\n",
       "      <td>0.2930</td>\n",
       "      <td>0.535</td>\n",
       "      <td>0.77150</td>\n",
       "      <td>0.9198</td>\n",
       "      <td>1.0</td>\n",
       "      <td>0.528138</td>\n",
       "      <td>0.010</td>\n",
       "      <td>0.285096</td>\n",
       "    </tr>\n",
       "    <tr>\n",
       "      <th>6</th>\n",
       "      <td>NOLAN</td>\n",
       "      <td>23.7500</td>\n",
       "      <td>43.3905</td>\n",
       "      <td>72.375</td>\n",
       "      <td>88.50000</td>\n",
       "      <td>102.5250</td>\n",
       "      <td>247.500</td>\n",
       "      <td>68.693940</td>\n",
       "      <td>13.250</td>\n",
       "      <td>32.730216</td>\n",
       "      <td>...</td>\n",
       "      <td>0.499834</td>\n",
       "      <td>0.1336</td>\n",
       "      <td>0.3070</td>\n",
       "      <td>0.577</td>\n",
       "      <td>0.79350</td>\n",
       "      <td>0.9206</td>\n",
       "      <td>1.0</td>\n",
       "      <td>0.549007</td>\n",
       "      <td>0.017</td>\n",
       "      <td>0.285563</td>\n",
       "    </tr>\n",
       "    <tr>\n",
       "      <th>7</th>\n",
       "      <td>SHANKLE</td>\n",
       "      <td>35.0760</td>\n",
       "      <td>54.9600</td>\n",
       "      <td>66.600</td>\n",
       "      <td>75.15000</td>\n",
       "      <td>83.1820</td>\n",
       "      <td>242.750</td>\n",
       "      <td>65.431180</td>\n",
       "      <td>18.400</td>\n",
       "      <td>25.696418</td>\n",
       "      <td>...</td>\n",
       "      <td>0.474493</td>\n",
       "      <td>0.1188</td>\n",
       "      <td>0.2580</td>\n",
       "      <td>0.500</td>\n",
       "      <td>0.74400</td>\n",
       "      <td>0.8952</td>\n",
       "      <td>1.0</td>\n",
       "      <td>0.503118</td>\n",
       "      <td>0.010</td>\n",
       "      <td>0.282082</td>\n",
       "    </tr>\n",
       "    <tr>\n",
       "      <th>8</th>\n",
       "      <td>SHRIMPLIN</td>\n",
       "      <td>28.6580</td>\n",
       "      <td>46.8300</td>\n",
       "      <td>69.300</td>\n",
       "      <td>85.85000</td>\n",
       "      <td>96.3580</td>\n",
       "      <td>274.000</td>\n",
       "      <td>68.169936</td>\n",
       "      <td>13.280</td>\n",
       "      <td>32.170245</td>\n",
       "      <td>...</td>\n",
       "      <td>0.500342</td>\n",
       "      <td>0.1110</td>\n",
       "      <td>0.2590</td>\n",
       "      <td>0.511</td>\n",
       "      <td>0.76500</td>\n",
       "      <td>0.9154</td>\n",
       "      <td>1.0</td>\n",
       "      <td>0.514399</td>\n",
       "      <td>0.010</td>\n",
       "      <td>0.290373</td>\n",
       "    </tr>\n",
       "    <tr>\n",
       "      <th>0</th>\n",
       "      <td>CRAWFORD</td>\n",
       "      <td>24.9075</td>\n",
       "      <td>41.1465</td>\n",
       "      <td>58.413</td>\n",
       "      <td>73.55225</td>\n",
       "      <td>84.7215</td>\n",
       "      <td>167.803</td>\n",
       "      <td>58.666020</td>\n",
       "      <td>16.197</td>\n",
       "      <td>26.033591</td>\n",
       "      <td>...</td>\n",
       "      <td>0.438386</td>\n",
       "      <td>0.1240</td>\n",
       "      <td>0.2775</td>\n",
       "      <td>0.537</td>\n",
       "      <td>0.77650</td>\n",
       "      <td>0.9145</td>\n",
       "      <td>1.0</td>\n",
       "      <td>0.526230</td>\n",
       "      <td>0.017</td>\n",
       "      <td>0.287468</td>\n",
       "    </tr>\n",
       "    <tr>\n",
       "      <th>1</th>\n",
       "      <td>STUART</td>\n",
       "      <td>24.1612</td>\n",
       "      <td>34.5620</td>\n",
       "      <td>57.851</td>\n",
       "      <td>72.50275</td>\n",
       "      <td>82.7020</td>\n",
       "      <td>220.413</td>\n",
       "      <td>56.819901</td>\n",
       "      <td>12.036</td>\n",
       "      <td>28.600303</td>\n",
       "      <td>...</td>\n",
       "      <td>0.483098</td>\n",
       "      <td>0.1436</td>\n",
       "      <td>0.3180</td>\n",
       "      <td>0.550</td>\n",
       "      <td>0.77950</td>\n",
       "      <td>0.9257</td>\n",
       "      <td>1.0</td>\n",
       "      <td>0.543000</td>\n",
       "      <td>0.013</td>\n",
       "      <td>0.279796</td>\n",
       "    </tr>\n",
       "  </tbody>\n",
       "</table>\n",
       "<p>11 rows × 64 columns</p>\n",
       "</div>"
      ],
      "text/plain": [
       "         Well Name   GR_10%   GR_25%  GR_50%    GR_75%    GR_90%   GR_max  \\\n",
       "0      ALEXANDER D  25.9700  44.8650  72.285  88.92750  100.7850  168.430   \n",
       "1  CHURCHMAN BIBLE  33.6532  41.3755  59.203  74.31250   95.6691  222.500   \n",
       "2   CROSS H CATTLE  50.4050  60.1980  73.595  84.81900   94.6482  184.021   \n",
       "3         KIMZEY A  23.5474  34.8140  56.582  66.58800   73.8642  245.360   \n",
       "4         LUKE G U  29.6800  48.4500  66.190  78.49000   87.3500  195.890   \n",
       "5            NEWBY  28.4880  38.1100  60.330  71.44500   85.7180  305.870   \n",
       "6            NOLAN  23.7500  43.3905  72.375  88.50000  102.5250  247.500   \n",
       "7          SHANKLE  35.0760  54.9600  66.600  75.15000   83.1820  242.750   \n",
       "8        SHRIMPLIN  28.6580  46.8300  69.300  85.85000   96.3580  274.000   \n",
       "0         CRAWFORD  24.9075  41.1465  58.413  73.55225   84.7215  167.803   \n",
       "1           STUART  24.1612  34.5620  57.851  72.50275   82.7020  220.413   \n",
       "\n",
       "     GR_mean  GR_min     GR_std     ...      NM_M_std  RELPOS_10%  RELPOS_25%  \\\n",
       "0  68.280236  13.340  28.635640     ...      0.497648      0.1125      0.2670   \n",
       "1  63.683453  14.469  33.333992     ...      0.448185      0.1265      0.2860   \n",
       "2  72.423513  13.893  20.851035     ...      0.458631      0.1066      0.2580   \n",
       "3  53.334339  10.149  24.761446     ...      0.487142      0.1328      0.3040   \n",
       "4  64.777223  13.530  27.427174     ...      0.499410      0.1190      0.2630   \n",
       "5  60.733045  13.920  33.620632     ...      0.486991      0.1234      0.2930   \n",
       "6  68.693940  13.250  32.730216     ...      0.499834      0.1336      0.3070   \n",
       "7  65.431180  18.400  25.696418     ...      0.474493      0.1188      0.2580   \n",
       "8  68.169936  13.280  32.170245     ...      0.500342      0.1110      0.2590   \n",
       "0  58.666020  16.197  26.033591     ...      0.438386      0.1240      0.2775   \n",
       "1  56.819901  12.036  28.600303     ...      0.483098      0.1436      0.3180   \n",
       "\n",
       "   RELPOS_50%  RELPOS_75%  RELPOS_90%  RELPOS_max  RELPOS_mean  RELPOS_min  \\\n",
       "0       0.518     0.76125      0.9105         1.0     0.515584       0.000   \n",
       "1       0.567     0.80000      0.9290         1.0     0.544317       0.011   \n",
       "2       0.500     0.75000      0.9000         1.0     0.503288       0.013   \n",
       "3       0.548     0.78500      0.9202         1.0     0.539453       0.010   \n",
       "4       0.522     0.76100      0.9120         1.0     0.514095       0.010   \n",
       "5       0.535     0.77150      0.9198         1.0     0.528138       0.010   \n",
       "6       0.577     0.79350      0.9206         1.0     0.549007       0.017   \n",
       "7       0.500     0.74400      0.8952         1.0     0.503118       0.010   \n",
       "8       0.511     0.76500      0.9154         1.0     0.514399       0.010   \n",
       "0       0.537     0.77650      0.9145         1.0     0.526230       0.017   \n",
       "1       0.550     0.77950      0.9257         1.0     0.543000       0.013   \n",
       "\n",
       "   RELPOS_std  \n",
       "0    0.289040  \n",
       "1    0.293647  \n",
       "2    0.288401  \n",
       "3    0.284105  \n",
       "4    0.286902  \n",
       "5    0.285096  \n",
       "6    0.285563  \n",
       "7    0.282082  \n",
       "8    0.290373  \n",
       "0    0.287468  \n",
       "1    0.279796  \n",
       "\n",
       "[11 rows x 64 columns]"
      ]
     },
     "execution_count": 624,
     "metadata": {},
     "output_type": "execute_result"
    }
   ],
   "source": [
    "\n",
    "frames = [data_all, data_test]\n",
    "X = pd.concat(frames)\n",
    "X"
   ]
  },
  {
   "cell_type": "code",
   "execution_count": 626,
   "metadata": {
    "collapsed": true
   },
   "outputs": [],
   "source": [
    "X1 = X.drop(['Well Name'], axis=1)"
   ]
  },
  {
   "cell_type": "code",
   "execution_count": 630,
   "metadata": {
    "collapsed": false
   },
   "outputs": [
    {
     "data": {
      "text/plain": [
       "array([1, 0, 1, 0, 1, 0, 0, 0, 0, 1, 0], dtype=int32)"
      ]
     },
     "execution_count": 630,
     "metadata": {},
     "output_type": "execute_result"
    }
   ],
   "source": [
    "from sklearn.cluster import KMeans\n",
    "kmeans = KMeans(n_clusters=2).fit(X1)\n",
    "kmeans.labels_"
   ]
  },
  {
   "cell_type": "code",
   "execution_count": 1793,
   "metadata": {
    "collapsed": false
   },
   "outputs": [
    {
     "data": {
      "text/plain": [
       "array([0, 2, 0, 3, 0, 1, 1, 2, 1, 0, 3], dtype=int32)"
      ]
     },
     "execution_count": 1793,
     "metadata": {},
     "output_type": "execute_result"
    }
   ],
   "source": [
    "kmeans = KMeans(n_clusters=4).fit(X1)\n",
    "kmeans.labels_"
   ]
  },
  {
   "cell_type": "markdown",
   "metadata": {
    "collapsed": false
   },
   "source": [
    "Through experimenting with the cluster size I've decided on 4 clusters.\n",
    "This corresponds largely with the corresponding similarity in facies distribution\n",
    "\n",
    "**CRAWFORD is most similar to ALEXANDER and LUKE**. This will called cluster 1. (The only ones with facies 1)\n",
    "\n",
    "**STUART is most similar to KIMZEY and NOLAN** This will be called cluster 2\n"
   ]
  },
  {
   "cell_type": "markdown",
   "metadata": {},
   "source": [
    "Collating the Data:\n",
    "-----------------------------------------------------------\n",
    "based on the regimes we determined "
   ]
  },
  {
   "cell_type": "code",
   "execution_count": 16,
   "metadata": {
    "collapsed": false
   },
   "outputs": [
    {
     "name": "stdout",
     "output_type": "stream",
     "text": [
      "1428\n",
      "1707\n",
      "1014\n"
     ]
    }
   ],
   "source": [
    "# based on kmeans clustering\n",
    "data=[]\n",
    "df = training_data0[training_data0['Well Name'] == 'ALEXANDER D'] \n",
    "data.append(df)\n",
    "df = training_data0[training_data0['Well Name'] == 'LUKE G U']  \n",
    "data.append(df)\n",
    "df = training_data0[training_data0['Well Name'] == 'CROSS H CATTLE']  \n",
    "data.append(df)\n",
    "Regime_1 = pd.concat(data, axis=0)\n",
    "print len(Regime_1)\n",
    "\n",
    "data=[]\n",
    "df = training_data0[training_data0['Well Name'] == 'KIMZEY A']  \n",
    "data.append(df)\n",
    "df = training_data0[training_data0['Well Name'] == 'NOLAN']\n",
    "data.append(df)\n",
    "df = training_data0[training_data0['Well Name'] == 'CHURCHMAN BIBLE']  \n",
    "data.append(df)\n",
    "df = training_data0[training_data0['Well Name'] == 'SHANKLE'] \n",
    "data.append(df)\n",
    "Regime_2 = pd.concat(data, axis=0)\n",
    "print len(Regime_2)\n",
    "\n",
    "data=[]\n",
    "\n",
    "df = training_data0[training_data0['Well Name'] == 'SHRIMPLIN']  \n",
    "data.append(df)\n",
    "df = training_data0[training_data0['Well Name'] == 'NEWBY']  \n",
    "data.append(df)\n",
    "df = training_data0[training_data0['Well Name'] == 'Recruit F9']  \n",
    "data.append(df)\n",
    "Regime_3 = pd.concat(data, axis=0)\n",
    "print len(Regime_3)\n",
    "\n"
   ]
  },
  {
   "cell_type": "markdown",
   "metadata": {},
   "source": [
    "**Split the data into 2 parts:**\n",
    "\n",
    "from A We will make initial predictions\n",
    "\n",
    "from B we will make the final prediction(s)\n"
   ]
  },
  {
   "cell_type": "code",
   "execution_count": 17,
   "metadata": {
    "collapsed": false
   },
   "outputs": [],
   "source": [
    "df0=Regime_1.dropna()\n",
    "df1 = df0.drop(['Formation', 'Well Name', 'Depth','Facies'], axis=1)\n",
    "df1a=df0[(np.abs(stats.zscore(df1))<8).all(axis=1)]\n",
    "df2a=magic(df1a)\n",
    "\n",
    "y=df2a['Facies'].values\n",
    "X=df2a.drop(['Formation', 'Well Name', 'Depth','Facies'], axis=1)\n",
    "regime1A_train, regime1B_train, regime1A_test, regime1B_test = train_test_split(X, y, test_size=0.5, random_state=42)\n",
    "\n",
    "\n",
    "df0=Regime_2.dropna()\n",
    "df1 = df0.drop(['Formation', 'Well Name', 'Depth','Facies'], axis=1)\n",
    "df1a=df0[(np.abs(stats.zscore(df1))<8).all(axis=1)]\n",
    "df2b=magic(df1a)\n",
    "y= df2b['Facies'].values\n",
    "X= df2b.drop(['Formation', 'Well Name', 'Depth','Facies'], axis=1)\n",
    "regime2A_train, regime2B_train, regime2A_test, regime2B_test= train_test_split(X, y, test_size=0.5, random_state=42)\n",
    "\n",
    "df0=Regime_3.dropna()\n",
    "df1 = df0.drop(['Formation', 'Well Name', 'Depth','Facies'], axis=1)\n",
    "df1a=df0[(np.abs(stats.zscore(df1))<8).all(axis=1)]\n",
    "df2c=magic(df1a)\n",
    "y=df2c['Facies'].values\n",
    "X= df2c.drop(['Formation', 'Well Name', 'Depth','Facies'], axis=1)\n",
    "regime3A_train, regime3B_train, regime3A_test, regime3B_test = train_test_split(X, y, test_size=0.5, random_state=42)\n",
    "\n",
    "#df0=Regime_4.dropna()\n",
    "#df1 = df0.drop(['Formation', 'Well Name', 'Depth','Facies'], axis=1)\n",
    "#df1a=df0[(np.abs(stats.zscore(df1))<8).all(axis=1)]\n",
    "#df2d=magic(df1a)\n",
    "#y=df2d['Facies'].values\n",
    "#X= df2d.drop(['Formation', 'Well Name', 'Depth','Facies'], axis=1)\n",
    "#regime4A_train, regime4B_train, regime4A_test, regime4B_test = train_test_split(X, y, test_size=0.5, random_state=42)\n",
    "\n"
   ]
  },
  {
   "cell_type": "markdown",
   "metadata": {},
   "source": [
    "Phase 1a:\n",
    "---------------------------------\n",
    "-Create predictions specifically for the most difficult facies\n",
    "\n",
    "-at this stage we focus on TP and FP only"
   ]
  },
  {
   "cell_type": "markdown",
   "metadata": {},
   "source": [
    "___________________________________________\n",
    "**training for facies 9 specifically**\n",
    "___________________________________________"
   ]
  },
  {
   "cell_type": "code",
   "execution_count": 18,
   "metadata": {
    "collapsed": false
   },
   "outputs": [],
   "source": [
    "# df0 = test_data[test_data['Well Name'] == 'CRAWFORD']  \n",
    "# df1 = df0.drop(['Formation', 'Well Name', 'Depth'], axis=1)\n",
    "# df1a=df0[(np.abs(stats.zscore(df1))<8).all(axis=1)]\n",
    "# blind=magic(df1a)"
   ]
  },
  {
   "cell_type": "code",
   "execution_count": 18,
   "metadata": {
    "collapsed": true
   },
   "outputs": [],
   "source": [
    "df0 = test_data[test_data['Well Name'] == 'STUART']  \n",
    "df1 = df0.drop(['Formation', 'Well Name', 'Depth'], axis=1)\n",
    "df1a=df0[(np.abs(stats.zscore(df1))<8).all(axis=1)]\n",
    "blind=magic(df1a)"
   ]
  },
  {
   "cell_type": "code",
   "execution_count": 22,
   "metadata": {
    "collapsed": false
   },
   "outputs": [
    {
     "data": {
      "text/html": [
       "<div>\n",
       "<table border=\"1\" class=\"dataframe\">\n",
       "  <thead>\n",
       "    <tr style=\"text-align: right;\">\n",
       "      <th></th>\n",
       "      <th>Formation</th>\n",
       "      <th>Well Name</th>\n",
       "      <th>Depth</th>\n",
       "      <th>GR</th>\n",
       "      <th>ILD_log10</th>\n",
       "      <th>DeltaPHI</th>\n",
       "      <th>PHIND</th>\n",
       "      <th>PE</th>\n",
       "      <th>NM_M</th>\n",
       "      <th>RELPOS</th>\n",
       "    </tr>\n",
       "  </thead>\n",
       "  <tbody>\n",
       "    <tr>\n",
       "      <th>0</th>\n",
       "      <td>A1 SH</td>\n",
       "      <td>STUART</td>\n",
       "      <td>2808.0</td>\n",
       "      <td>66.276</td>\n",
       "      <td>0.630</td>\n",
       "      <td>3.3</td>\n",
       "      <td>10.65</td>\n",
       "      <td>3.591</td>\n",
       "      <td>1</td>\n",
       "      <td>1.000</td>\n",
       "    </tr>\n",
       "    <tr>\n",
       "      <th>1</th>\n",
       "      <td>A1 SH</td>\n",
       "      <td>STUART</td>\n",
       "      <td>2808.5</td>\n",
       "      <td>77.252</td>\n",
       "      <td>0.585</td>\n",
       "      <td>6.5</td>\n",
       "      <td>11.95</td>\n",
       "      <td>3.341</td>\n",
       "      <td>1</td>\n",
       "      <td>0.978</td>\n",
       "    </tr>\n",
       "    <tr>\n",
       "      <th>2</th>\n",
       "      <td>A1 SH</td>\n",
       "      <td>STUART</td>\n",
       "      <td>2809.0</td>\n",
       "      <td>82.899</td>\n",
       "      <td>0.566</td>\n",
       "      <td>9.4</td>\n",
       "      <td>13.60</td>\n",
       "      <td>3.064</td>\n",
       "      <td>1</td>\n",
       "      <td>0.956</td>\n",
       "    </tr>\n",
       "    <tr>\n",
       "      <th>3</th>\n",
       "      <td>A1 SH</td>\n",
       "      <td>STUART</td>\n",
       "      <td>2809.5</td>\n",
       "      <td>80.671</td>\n",
       "      <td>0.593</td>\n",
       "      <td>9.5</td>\n",
       "      <td>13.25</td>\n",
       "      <td>2.977</td>\n",
       "      <td>1</td>\n",
       "      <td>0.933</td>\n",
       "    </tr>\n",
       "    <tr>\n",
       "      <th>4</th>\n",
       "      <td>A1 SH</td>\n",
       "      <td>STUART</td>\n",
       "      <td>2810.0</td>\n",
       "      <td>75.971</td>\n",
       "      <td>0.638</td>\n",
       "      <td>8.7</td>\n",
       "      <td>12.35</td>\n",
       "      <td>3.020</td>\n",
       "      <td>1</td>\n",
       "      <td>0.911</td>\n",
       "    </tr>\n",
       "  </tbody>\n",
       "</table>\n",
       "</div>"
      ],
      "text/plain": [
       "  Formation Well Name   Depth      GR  ILD_log10  DeltaPHI  PHIND     PE  \\\n",
       "0     A1 SH    STUART  2808.0  66.276      0.630       3.3  10.65  3.591   \n",
       "1     A1 SH    STUART  2808.5  77.252      0.585       6.5  11.95  3.341   \n",
       "2     A1 SH    STUART  2809.0  82.899      0.566       9.4  13.60  3.064   \n",
       "3     A1 SH    STUART  2809.5  80.671      0.593       9.5  13.25  2.977   \n",
       "4     A1 SH    STUART  2810.0  75.971      0.638       8.7  12.35  3.020   \n",
       "\n",
       "   NM_M  RELPOS  \n",
       "0     1   1.000  \n",
       "1     1   0.978  \n",
       "2     1   0.956  \n",
       "3     1   0.933  \n",
       "4     1   0.911  "
      ]
     },
     "execution_count": 22,
     "metadata": {},
     "output_type": "execute_result"
    }
   ],
   "source": [
    "df1a.head()"
   ]
  },
  {
   "cell_type": "code",
   "execution_count": 28,
   "metadata": {
    "collapsed": false
   },
   "outputs": [
    {
     "name": "stdout",
     "output_type": "stream",
     "text": [
      "ratio now:\n",
      "19.0434782609\n",
      "ratio after:\n",
      "19.0434782609\n",
      "kk is 1, nr of predictions for this regime is 49\n",
      "----------------------------------\n",
      "ratio now:\n",
      "19.0434782609\n",
      "ratio after:\n",
      "9.52173913043\n",
      "kk is 2, nr of predictions for this regime is 13\n",
      "----------------------------------\n"
     ]
    }
   ],
   "source": [
    "\n",
    "features_blind = blind.drop(['Formation', 'Well Name', 'Depth'], axis=1)\n",
    "\n",
    "#============================================================\n",
    "df0=training_data0.dropna()\n",
    "df1 = df0.drop(['Formation', 'Well Name', 'Depth','Facies'], axis=1)\n",
    "df1a=df0[(np.abs(stats.zscore(df1))<8).all(axis=1)]\n",
    "all1=magic(df1a)\n",
    "#X, y = make_balanced_binary(all1, 9,6)\n",
    "for kk in range(1,3):\n",
    "    X, y = make_balanced_binary(all1, 9,kk)\n",
    "#============================================================\n",
    "    correct_train=y\n",
    "\n",
    "    #clf = RandomForestClassifier(max_depth = 6, n_estimators=1600)\n",
    "    clf = RandomForestClassifier(max_depth = 6, n_estimators=800)\n",
    "    clf.fit(X,correct_train)\n",
    "\n",
    "    predicted_blind1 = clf.predict(features_blind)\n",
    "\n",
    "    predicted_regime9=predicted_blind1.copy()\n",
    "    print(\"kk is %d, nr of predictions for this regime is %d\" % (kk, sum(predicted_regime9)))\n",
    "    print \"----------------------------------\""
   ]
  },
  {
   "cell_type": "markdown",
   "metadata": {},
   "source": [
    "___________________________________________\n",
    "**training for facies 1 specifically**\n",
    "________________________\n",
    "\n",
    "\n",
    "\n"
   ]
  },
  {
   "cell_type": "code",
   "execution_count": 72,
   "metadata": {
    "collapsed": false
   },
   "outputs": [
    {
     "name": "stdout",
     "output_type": "stream",
     "text": [
      "ratio now:\n",
      "11.4594594595\n",
      "ratio after:\n",
      "5.72972972973\n",
      "-------\n",
      "kk is 2, nr of predictions for this regime is 36\n",
      "----------------------------------\n",
      "ratio now:\n",
      "11.4594594595\n",
      "ratio after:\n",
      "3.81981981982\n",
      "-------\n",
      "kk is 3, nr of predictions for this regime is 22\n",
      "----------------------------------\n",
      "ratio now:\n",
      "11.4594594595\n",
      "ratio after:\n",
      "2.86486486486\n",
      "-------\n",
      "kk is 4, nr of predictions for this regime is 4\n",
      "----------------------------------\n"
     ]
    }
   ],
   "source": [
    "\n",
    "features_blind = blind.drop(['Formation', 'Well Name', 'Depth'], axis=1)\n",
    "\n",
    "#============================================================\n",
    "df0=training_data0.dropna()\n",
    "df1 = df0.drop(['Formation', 'Well Name', 'Depth','Facies'], axis=1)\n",
    "df1a=df0[(np.abs(stats.zscore(df1))<8).all(axis=1)]\n",
    "all1=magic(df1a)\n",
    "\n",
    "#for kk in range(1,13):\n",
    "for kk in range(2,5): \n",
    "    X, y = make_balanced_binary(all1, 1,kk)\n",
    "    #============================================================\n",
    "\n",
    "\n",
    "\n",
    "    #=============================================\n",
    "    go_A=StandardScaler().fit_transform(X)\n",
    "    go_blind=StandardScaler().fit_transform(features_blind)\n",
    "    correct_train_A=binarify(y, 1)\n",
    "                                        \n",
    "\n",
    "    clf = linear_model.LogisticRegression()\n",
    "    clf.fit(go_A,correct_train_A)\n",
    "    predicted_blind1 = clf.predict(go_blind)\n",
    "\n",
    "    clf = KNeighborsClassifier(n_neighbors=5)\n",
    "    clf.fit(go_A,correct_train_A)                                                  \n",
    "    predicted_blind2 = clf.predict(go_blind)\n",
    "\n",
    "    clf = svm.SVC(decision_function_shape='ovo')\n",
    "    clf.fit(go_A,correct_train_A)   \n",
    "    predicted_blind3 = clf.predict(go_blind)\n",
    "\n",
    "    clf = svm.LinearSVC()\n",
    "    clf.fit(go_A,correct_train_A)   \n",
    "    predicted_blind4 = clf.predict(go_blind)\n",
    "\n",
    "\n",
    "\n",
    "    #####################################\n",
    "    predicted_blind=predicted_blind1+predicted_blind2+predicted_blind3+predicted_blind4\n",
    "    for ii in range(len(predicted_blind)):\n",
    "        if predicted_blind[ii] > 3:\n",
    "            predicted_blind[ii]=1\n",
    "        else:\n",
    "            predicted_blind[ii]=0 \n",
    "        \n",
    "    for ii in range(len(predicted_blind)):\n",
    "        if predicted_blind[ii] == 1 and predicted_blind[ii-1] == 0 and predicted_blind[ii+1] == 0:\n",
    "            predicted_blind[ii]=0\n",
    "        if predicted_blind[ii] == 1 and predicted_blind[ii-1] == 0 and predicted_blind[ii+2] == 0:\n",
    "            predicted_blind[ii]=0        \n",
    "        if predicted_blind[ii] == 1 and predicted_blind[ii-2] == 0 and predicted_blind[ii+1] == 0:\n",
    "            predicted_blind[ii]=0     \n",
    "    #####################################    \n",
    "\n",
    "    print \"-------\"\n",
    "    predicted_regime1=predicted_blind.copy()\n",
    "\n",
    "    #print(\"%c is my %s letter and my number %d number is %.5f\" % ('X', 'favorite', 1, .14))\n",
    " \n",
    "    print(\"kk is %d, nr of predictions for this regime is %d\" % (kk, sum(predicted_regime1)))\n",
    "    print \"----------------------------------\""
   ]
  },
  {
   "cell_type": "markdown",
   "metadata": {},
   "source": [
    "**training for facies 5 specifically**"
   ]
  },
  {
   "cell_type": "code",
   "execution_count": 34,
   "metadata": {
    "collapsed": false
   },
   "outputs": [
    {
     "name": "stdout",
     "output_type": "stream",
     "text": [
      "ratio now:\n",
      "13.8709677419\n",
      "ratio after:\n",
      "13.8709677419\n",
      "-------\n",
      "kk is 1, nr of predictions for this regime is 83\n",
      "----------------------------------\n",
      "ratio now:\n",
      "13.8709677419\n",
      "ratio after:\n",
      "6.93548387097\n",
      "-------\n",
      "kk is 2, nr of predictions for this regime is 34\n",
      "----------------------------------\n",
      "ratio now:\n",
      "13.8709677419\n",
      "ratio after:\n",
      "4.62365591398\n",
      "-------\n",
      "kk is 3, nr of predictions for this regime is 31\n",
      "----------------------------------\n",
      "ratio now:\n",
      "13.8709677419\n",
      "ratio after:\n",
      "3.46774193548\n",
      "-------\n",
      "kk is 4, nr of predictions for this regime is 21\n",
      "----------------------------------\n",
      "ratio now:\n",
      "13.8709677419\n",
      "ratio after:\n",
      "2.77419354839\n",
      "-------\n",
      "kk is 5, nr of predictions for this regime is 25\n",
      "----------------------------------\n"
     ]
    }
   ],
   "source": [
    "features_blind = blind.drop(['Formation', 'Well Name', 'Depth'], axis=1)\n",
    "\n",
    "#============================================================\n",
    "df0=training_data0.dropna()\n",
    "df1 = df0.drop(['Formation', 'Well Name', 'Depth','Facies'], axis=1)\n",
    "df1a=df0[(np.abs(stats.zscore(df1))<8).all(axis=1)]\n",
    "all1=magic(df1a)\n",
    "for kk in range(1,6):\n",
    "#for kk in range(2,4): \n",
    "    X, y = make_balanced_binary(all1, 5,kk)\n",
    "    #X, y = make_balanced_binary(all1, 5,13)\n",
    "    #============================================================\n",
    "\n",
    "    go_A=StandardScaler().fit_transform(X)\n",
    "    go_blind=StandardScaler().fit_transform(features_blind)\n",
    "    correct_train_A=binarify(y, 1)\n",
    "    #=============================================                                        \n",
    "\n",
    "    clf = KNeighborsClassifier(n_neighbors=4,algorithm='brute')\n",
    "    clf.fit(go_A,correct_train_A)\n",
    "    predicted_blind1 = clf.predict(go_blind)\n",
    "\n",
    "    clf = KNeighborsClassifier(n_neighbors=5,leaf_size=10)\n",
    "    clf.fit(go_A,correct_train_A)                                                  \n",
    "    predicted_blind2 = clf.predict(go_blind)\n",
    "\n",
    "    clf = KNeighborsClassifier(n_neighbors=5)\n",
    "    clf.fit(go_A,correct_train_A)   \n",
    "    predicted_blind3 = clf.predict(go_blind)\n",
    "\n",
    "    clf = tree.DecisionTreeClassifier()\n",
    "    clf.fit(go_A,correct_train_A)   \n",
    "    predicted_blind4 = clf.predict(go_blind)\n",
    "\n",
    "    clf = tree.DecisionTreeClassifier()\n",
    "    clf.fit(go_A,correct_train_A)   \n",
    "    predicted_blind5 = clf.predict(go_blind)\n",
    "\n",
    "    clf = tree.DecisionTreeClassifier()\n",
    "    clf.fit(go_A,correct_train_A)    \n",
    "    predicted_blind6 = clf.predict(go_blind)\n",
    "\n",
    "\n",
    "    #####################################\n",
    "    predicted_blind=predicted_blind1+predicted_blind2+predicted_blind3+predicted_blind4+predicted_blind5+predicted_blind6\n",
    "    for ii in range(len(predicted_blind)):\n",
    "        if predicted_blind[ii] > 4:\n",
    "            predicted_blind[ii]=1\n",
    "        else:\n",
    "            predicted_blind[ii]=0 \n",
    "\n",
    "    print \"-------\"\n",
    "    predicted_regime5=predicted_blind.copy()\n",
    "    print(\"kk is %d, nr of predictions for this regime is %d\" % (kk, sum(predicted_regime5)))\n",
    "    print \"----------------------------------\""
   ]
  },
  {
   "cell_type": "markdown",
   "metadata": {},
   "source": [
    "**training for facies 7 specifically**"
   ]
  },
  {
   "cell_type": "code",
   "execution_count": 36,
   "metadata": {
    "collapsed": false
   },
   "outputs": [
    {
     "name": "stdout",
     "output_type": "stream",
     "text": [
      "ratio now:\n",
      "31.9285714286\n",
      "ratio after:\n",
      "31.9285714286\n",
      "-------\n",
      "kk is 1, nr of predictions for this regime is 88\n",
      "----------------------------------\n",
      "ratio now:\n",
      "31.9285714286\n",
      "ratio after:\n",
      "15.9642857143\n",
      "-------\n",
      "kk is 2, nr of predictions for this regime is 63\n",
      "----------------------------------\n",
      "ratio now:\n",
      "31.9285714286\n",
      "ratio after:\n",
      "10.6428571429\n",
      "-------\n",
      "kk is 3, nr of predictions for this regime is 45\n",
      "----------------------------------\n",
      "ratio now:\n",
      "31.9285714286\n",
      "ratio after:\n",
      "7.98214285714\n",
      "-------\n",
      "kk is 4, nr of predictions for this regime is 41\n",
      "----------------------------------\n",
      "ratio now:\n",
      "31.9285714286\n",
      "ratio after:\n",
      "6.38571428571\n",
      "-------\n",
      "kk is 5, nr of predictions for this regime is 27\n",
      "----------------------------------\n",
      "ratio now:\n",
      "31.9285714286\n",
      "ratio after:\n",
      "5.32142857143\n",
      "-------\n",
      "kk is 6, nr of predictions for this regime is 23\n",
      "----------------------------------\n",
      "ratio now:\n",
      "31.9285714286\n",
      "ratio after:\n",
      "4.5612244898\n",
      "-------\n",
      "kk is 7, nr of predictions for this regime is 20\n",
      "----------------------------------\n",
      "ratio now:\n",
      "31.9285714286\n",
      "ratio after:\n",
      "3.99107142857\n",
      "-------\n",
      "kk is 8, nr of predictions for this regime is 22\n",
      "----------------------------------\n"
     ]
    }
   ],
   "source": [
    "features_blind = blind.drop(['Formation', 'Well Name', 'Depth'], axis=1)\n",
    "\n",
    "#============================================================\n",
    "df0=training_data0.dropna()\n",
    "df1 = df0.drop(['Formation', 'Well Name', 'Depth','Facies'], axis=1)\n",
    "df1a=df0[(np.abs(stats.zscore(df1))<8).all(axis=1)]\n",
    "all1=magic(df1a)\n",
    "for kk in range(1,9):\n",
    "    X, y = make_balanced_binary(all1, 7,kk)\n",
    "    #X, y = make_balanced_binary(all1, 7,13)\n",
    "    #============================================================\n",
    "\n",
    "    go_A=StandardScaler().fit_transform(X)\n",
    "    go_blind=StandardScaler().fit_transform(features_blind)\n",
    "    correct_train_A=binarify(y, 1)\n",
    "    #=============================================                                        \n",
    "\n",
    "    clf = KNeighborsClassifier(n_neighbors=4,algorithm='brute')\n",
    "    clf.fit(go_A,correct_train_A)\n",
    "    predicted_blind1 = clf.predict(go_blind)\n",
    "\n",
    "\n",
    "    clf = KNeighborsClassifier(n_neighbors=5,leaf_size=10)\n",
    "    clf.fit(go_A,correct_train_A)                                                  \n",
    "    predicted_blind2 = clf.predict(go_blind)\n",
    "\n",
    "    clf = KNeighborsClassifier(n_neighbors=5)\n",
    "    clf.fit(go_A,correct_train_A)   \n",
    "    predicted_blind3 = clf.predict(go_blind)\n",
    "\n",
    "    clf = tree.DecisionTreeClassifier()\n",
    "    clf.fit(go_A,correct_train_A)   \n",
    "    predicted_blind4 = clf.predict(go_blind)\n",
    "\n",
    "    clf = tree.DecisionTreeClassifier()\n",
    "    clf.fit(go_A,correct_train_A)   \n",
    "    predicted_blind5 = clf.predict(go_blind)\n",
    "\n",
    "    clf = tree.DecisionTreeClassifier()\n",
    "    clf.fit(go_A,correct_train_A)    \n",
    "    predicted_blind6 = clf.predict(go_blind)\n",
    "\n",
    "\n",
    "    #####################################\n",
    "    predicted_blind=predicted_blind1+predicted_blind2+predicted_blind3+predicted_blind4+predicted_blind5+predicted_blind6\n",
    "    for ii in range(len(predicted_blind)):\n",
    "        if predicted_blind[ii] > 5:\n",
    "            predicted_blind[ii]=1\n",
    "        else:\n",
    "            predicted_blind[ii]=0 \n",
    "\n",
    "\n",
    "    #####################################    \n",
    "    print \"-------\"\n",
    "    predicted_regime7=predicted_blind.copy()\n",
    "    print(\"kk is %d, nr of predictions for this regime is %d\" % (kk, sum(predicted_regime7)))\n",
    "    print \"----------------------------------\""
   ]
  },
  {
   "cell_type": "markdown",
   "metadata": {},
   "source": [
    "\n",
    "PHASE Ib \n",
    "======================================\n",
    "Making several predictions using dataset A"
   ]
  },
  {
   "cell_type": "markdown",
   "metadata": {},
   "source": [
    "**PREPARE THE BLIND DATA FOR SERIAL MODELLING**"
   ]
  },
  {
   "cell_type": "code",
   "execution_count": 37,
   "metadata": {
    "collapsed": true
   },
   "outputs": [],
   "source": [
    "df0 = test_data[test_data['Well Name'] == 'STUART']  \n",
    "df1 = df0.drop(['Formation', 'Well Name', 'Depth'], axis=1)\n",
    "df1a=df0[(np.abs(stats.zscore(df1))<8).all(axis=1)]\n",
    "blind=magic(df1a)\n",
    "pred_blind=0*predicted_regime7"
   ]
  },
  {
   "cell_type": "markdown",
   "metadata": {},
   "source": [
    "**PREPARE THE DATA FOR SERIAL MODELLING**\n",
    "\n",
    "This could be done smarter but basically manual at this point\n",
    "\n",
    "selecting bias towards the REGIME the blind data has been classified as\n",
    "\n",
    "\n",
    "for CHURCHMAN BIBLE  this is regime 3\n",
    "\n",
    "For CRAWFORD this is regime 1\n",
    "\n",
    "For STUART this is regime 2"
   ]
  },
  {
   "cell_type": "code",
   "execution_count": 38,
   "metadata": {
    "collapsed": true
   },
   "outputs": [],
   "source": [
    "main_regime=regime2A_train\n",
    "other1=regime1A_train\n",
    "other2=regime3A_train\n",
    "#other3=regime3A_train\n",
    "\n",
    "main_test=regime2A_test\n",
    "other1_test=regime1A_test\n",
    "other2_test=regime3A_test\n",
    "#other3_test=regime3A_test\n",
    "\n",
    "#tmp2=[regime1B_train, regime2B_train, regime3B_train, regime4B_train] \n",
    "tmp2=[regime1B_train, regime2B_train, regime3B_train] \n",
    "go_B= pd.concat(tmp2, axis=0)\n",
    "#correctB=np.concatenate((regime1B_test, regime2B_test, regime3B_test, regime4B_test))\n",
    "correctB=np.concatenate((regime1B_test, regime2B_test, regime3B_test))"
   ]
  },
  {
   "cell_type": "code",
   "execution_count": 39,
   "metadata": {
    "collapsed": false
   },
   "outputs": [],
   "source": [
    "\n",
    "#===================================================\n",
    "tmp1=[main_regime, other1, other2] \n",
    "regime_train1= pd.concat(tmp1, axis=0)\n",
    "correctA1=np.concatenate((main_test, other1_test, other2_test))\n",
    "#=================================================== \n",
    "tmp1=[main_regime, other1] \n",
    "regime_train2= pd.concat(tmp1, axis=0)\n",
    "correctA2=np.concatenate((main_test, other1_test))\n",
    "#===================================================\n",
    "tmp1=[main_regime, other2] \n",
    "regime_train3= pd.concat(tmp1, axis=0)\n",
    "correctA3=np.concatenate((main_test, other2_test))\n",
    "#=================================================== \n",
    "tmp1=[other1, other2] \n",
    "regime_train4= pd.concat(tmp1, axis=0)\n",
    "correctA4=np.concatenate((other1_test, other2_test))\n",
    "#===================================================\n",
    "tmp1=[main_regime] \n",
    "regime_train5= pd.concat(tmp1, axis=0)\n",
    "correctA5=main_test\n",
    "#==================================================="
   ]
  },
  {
   "cell_type": "code",
   "execution_count": 76,
   "metadata": {
    "collapsed": false
   },
   "outputs": [],
   "source": [
    "\n",
    "# #===================================================\n",
    "# tmp1=[main_regime, other1, other2, other3] \n",
    "# regime_train1= pd.concat(tmp1, axis=0)\n",
    "# correctA1=np.concatenate((main_test, other1_test, other2_test, other3_test))\n",
    "# #=================================================== \n",
    "# tmp1=[main_regime, other2, other3] \n",
    "# regime_train2= pd.concat(tmp1, axis=0)\n",
    "# correctA2=np.concatenate((main_test, other2_test, other3_test))\n",
    "# #===================================================\n",
    "# tmp1=[main_regime, other1, other3] \n",
    "# regime_train3= pd.concat(tmp1, axis=0)\n",
    "# correctA3=np.concatenate((main_test, other1_test, other3_test))\n",
    "# #=================================================== \n",
    "# tmp1=[main_regime, other1, other2] \n",
    "# regime_train4= pd.concat(tmp1, axis=0)\n",
    "# correctA4=np.concatenate((main_test, other1_test, other2_test))\n",
    "# #===================================================\n",
    "# tmp1=[main_regime, other1] \n",
    "# regime_train5= pd.concat(tmp1, axis=0)\n",
    "# correctA5=np.concatenate((main_test, other1_test))\n",
    "# #===================================================\n",
    "# tmp1=[main_regime, other2] \n",
    "# regime_train6= pd.concat(tmp1, axis=0)\n",
    "# correctA6=np.concatenate((main_test, other2_test))\n",
    "# #===================================================\n",
    "# tmp1=[main_regime, other3] \n",
    "# regime_train7= pd.concat(tmp1, axis=0)\n",
    "# correctA7=np.concatenate((main_test, other3_test))\n",
    "# #===================================================\n",
    "# tmp1=[main_regime] \n",
    "# regime_train8= pd.concat(tmp1, axis=0)\n",
    "# correctA8=main_test"
   ]
  },
  {
   "cell_type": "markdown",
   "metadata": {},
   "source": [
    "**Create several predictions, varying the dataset and the technique**"
   ]
  },
  {
   "cell_type": "code",
   "execution_count": 40,
   "metadata": {
    "collapsed": false
   },
   "outputs": [
    {
     "name": "stdout",
     "output_type": "stream",
     "text": [
      "logistic regression\n",
      "svm\n",
      "svm lin\n",
      "svm3\n",
      "knn2\n",
      "knn4\n",
      "rf1\n",
      "rf2\n",
      "rf3\n",
      "rf4\n",
      "rf5\n",
      "rf6\n",
      "rf6b\n",
      "rf7\n",
      "rf8\n",
      "mlp\n",
      "gradient boost\n"
     ]
    }
   ],
   "source": [
    "pred_array=0*correctB\n",
    "pred_blind=np.zeros(len(features_blind))\n",
    "\n",
    "print \"logistic regression\"\n",
    "clf = linear_model.LogisticRegression(class_weight='balanced')\n",
    "pred_array, pred_blind=phaseI_model_scaled(regime_train1, correctA1, go_B, clf, pred_array, pred_blind, features_blind)\n",
    "print \"svm\"\n",
    "clf = svm.SVC(decision_function_shape='ovo',class_weight='balanced')\n",
    "pred_array, pred_blind=phaseI_model_scaled(regime_train2, correctA2, go_B, clf, pred_array, pred_blind, features_blind)\n",
    "print \"svm lin\"\n",
    "clf = svm.LinearSVC(class_weight='balanced')\n",
    "pred_array, pred_blind=phaseI_model_scaled(regime_train3, correctA3, go_B, clf, pred_array, pred_blind, features_blind)\n",
    "print \"svm3\"\n",
    "clf = svm.SVC(C = 1,  class_weight=None, coef0=0.0,\n",
    "  decision_function_shape=None, degree=3, gamma=0.0010, kernel='rbf',\n",
    "  max_iter=-1, probability=True, random_state=49, shrinking=True,\n",
    "  tol=0.001, verbose=False)\n",
    "pred_array, pred_blind=phaseI_model_scaled(regime_train5, correctA5, go_B, clf, pred_array, pred_blind, features_blind)\n",
    "# print \"knn0\"\n",
    "# clf = KNeighborsClassifier(n_neighbors=8)\n",
    "# pred_array, pred_blind=phaseI_model_scaled(regime_train4, correctA4, go_B, clf, pred_array, pred_blind, features_blind)\n",
    "# print \"knn1\"\n",
    "# clf = KNeighborsClassifier(n_neighbors=4,algorithm='brute')\n",
    "# pred_array, pred_blind=phaseI_model_scaled(regime_train5, correctA5, go_B, clf, pred_array, pred_blind, features_blind)\n",
    "print \"knn2\"\n",
    "clf = KNeighborsClassifier(n_neighbors=7,leaf_size=10,p=1)\n",
    "pred_array, pred_blind=phaseI_model_scaled(regime_train1, correctA1, go_B, clf, pred_array, pred_blind, features_blind)\n",
    "#print \"knn3\"\n",
    "# clf = KNeighborsClassifier(n_neighbors=7,p=1)\n",
    "# pred_array, pred_blind=phaseI_model_scaled(regime_train2, correctA2, go_B, clf, pred_array, pred_blind, features_blind)\n",
    "# print \"knn3\"\n",
    "#clf = KNeighborsClassifier(n_neighbors=6,p=1)\n",
    "#pred_array, pred_blind=phaseI_model_scaled(regime_train5, correctA5, go_B, clf, pred_array, pred_blind, features_blind)\n",
    "print \"knn4\"\n",
    "clf = KNeighborsClassifier(n_neighbors=8,p=1)\n",
    "regime_train1a=regime_train1.drop(['PE','GR_2','GR_3','GR_4','GR_5','GR_6','GR_7','PHIND_2','PHIND_3','PHIND_5'], axis=1)\n",
    "go_Ba=go_B.drop(['PE','GR_2','GR_3','GR_4','GR_5','GR_6','GR_7','PHIND_2','PHIND_3','PHIND_5'], axis=1)\n",
    "features_blinda=features_blind.drop(['PE','GR_2','GR_3','GR_4','GR_5','GR_6','GR_7','PHIND_2','PHIND_3','PHIND_5'], axis=1)\n",
    "pred_array, pred_blind=phaseI_model_scaled(regime_train1a, correctA1, go_Ba, clf, pred_array, pred_blind, features_blinda)\n",
    "print \"rf1\"\n",
    "clf = RandomForestClassifier(max_depth = 5, n_estimators=800)\n",
    "pred_array, pred_blind=phaseI_model(regime_train2, correctA2, go_B, clf, pred_array, pred_blind, features_blind)\n",
    "print \"rf2\"\n",
    "clf = RandomForestClassifier(max_depth = 8, n_estimators=1500)\n",
    "pred_array, pred_blind=phaseI_model(regime_train3, correctA3, go_B, clf, pred_array, pred_blind, features_blind)\n",
    "print \"rf3\"\n",
    "clf = RandomForestClassifier(max_depth = 15, n_estimators=2000)\n",
    "pred_array, pred_blind=phaseI_model(regime_train1, correctA1, go_B, clf, pred_array, pred_blind, features_blind)\n",
    "print \"rf4\"\n",
    "clf = RandomForestClassifier(max_depth = 7, n_estimators=1500)\n",
    "pred_array, pred_blind=phaseI_model(regime_train5, correctA5, go_B, clf, pred_array, pred_blind, features_blind)\n",
    "print \"rf5\"\n",
    "clf = RandomForestClassifier(max_depth = 10, n_estimators=1200)\n",
    "pred_array, pred_blind=phaseI_model(regime_train2, correctA2, go_B, clf, pred_array, pred_blind, features_blind)\n",
    "print \"rf6\"\n",
    "clf = RandomForestClassifier(max_depth = 12, n_estimators=1800,min_samples_leaf=14)\n",
    "pred_array, pred_blind=phaseI_model(regime_train3, correctA3, go_B, clf, pred_array, pred_blind, features_blind)\n",
    "print \"rf6b\"\n",
    "clf = RandomForestClassifier(max_depth = 7, n_estimators=1800)\n",
    "pred_array, pred_blind=phaseI_model(regime_train4, correctA4, go_B, clf, pred_array, pred_blind, features_blind)\n",
    "print \"rf7\"\n",
    "clf= RandomForestClassifier(max_depth = 15, n_estimators=1600)\n",
    "pred_array, pred_blind=phaseI_model(regime_train1, correctA1, go_B, clf, pred_array, pred_blind, features_blind)\n",
    "print \"rf8\"\n",
    "clf= RandomForestClassifier(max_depth = 15, n_estimators=1600)\n",
    "pred_array, pred_blind=phaseI_model(regime_train5, correctA5, go_B, clf, pred_array, pred_blind, features_blind)\n",
    "print \"mlp\"\n",
    "clf= MLPClassifier(activation='logistic', alpha=0.001, batch_size='auto',\n",
    "       beta_1=0.9, beta_2=0.999, early_stopping=False, epsilon=1e-08,\n",
    "       hidden_layer_sizes=(100,), learning_rate='adaptive',\n",
    "       learning_rate_init=0.001, max_iter=1000, momentum=0.75,\n",
    "       nesterovs_momentum=True, power_t=0.5, random_state=49, shuffle=True,\n",
    "       solver='adam', tol=0.0001, validation_fraction=0.20, verbose=False,\n",
    "       warm_start=False)\n",
    "pred_array, pred_blind=phaseI_model_scaled(regime_train1, correctA1, go_B, clf, pred_array, pred_blind, features_blind)\n",
    "print \"gradient boost\"\n",
    "clf = GradientBoostingClassifier()\n",
    "pred_array, pred_blind=phaseI_model(regime_train1, correctA1, go_B, clf, pred_array, pred_blind, features_blind)\n",
    "clf = GradientBoostingClassifier(learning_rate=0.15, max_depth=6, n_estimators=250)\n",
    "pred_array, pred_blind=phaseI_model(regime_train5, correctA5, go_B, clf, pred_array, pred_blind, features_blind)"
   ]
  },
  {
   "cell_type": "markdown",
   "metadata": {},
   "source": [
    "Phase II:\n",
    "---------------------------------------------\n",
    "Stacking the predictions from phase Ib. \n",
    "New predictions from data B\n",
    "\n",
    "------------------------------------------------"
   ]
  },
  {
   "cell_type": "markdown",
   "metadata": {},
   "source": [
    "**First prediction of B data without Phase I input:**"
   ]
  },
  {
   "cell_type": "code",
   "execution_count": 41,
   "metadata": {
    "collapsed": false
   },
   "outputs": [],
   "source": [
    "#clf = RandomForestClassifier(max_depth = 15, n_estimators=1600,min_samples_leaf=15)\n",
    "clf = RandomForestClassifier(max_depth = 8, n_estimators=3000)\n",
    "clf.fit(go_B,correctB)\n",
    "predicted_blind_PHASE_I = clf.predict(features_blind)\n",
    "#out_f1=metrics.f1_score(correct_facies_labels, predicted_blind_PHASE_I, average = 'micro')\n",
    "#print \"f1 score on the prediction of blind\"\n",
    "#print out_f1"
   ]
  },
  {
   "cell_type": "markdown",
   "metadata": {},
   "source": [
    "**Add the initial predictions as features:**"
   ]
  },
  {
   "cell_type": "code",
   "execution_count": 42,
   "metadata": {
    "collapsed": false
   },
   "outputs": [],
   "source": [
    "go_B_PHASE_II=go_B.copy()\n",
    "features_blind_PHASE_II=features_blind.copy()\n",
    "for kk in range(len(pred_array)-1):\n",
    "    name='prediction_' + str(kk) \n",
    "    featB=pred_array[kk,:]\n",
    "    go_B_PHASE_II[name]=featB\n",
    "    feat=pred_blind[kk,:]\n",
    "    features_blind_PHASE_II[name]=feat"
   ]
  },
  {
   "cell_type": "markdown",
   "metadata": {},
   "source": [
    "**Make a new prediction, with the best model on the full dataset B:**"
   ]
  },
  {
   "cell_type": "code",
   "execution_count": 43,
   "metadata": {
    "collapsed": false
   },
   "outputs": [],
   "source": [
    "clf.fit(go_B_PHASE_II,correctB)\n",
    "predicted_blind_PHASE_II = clf.predict(features_blind_PHASE_II)\n",
    "#out_f1=metrics.f1_score(correct_facies_labels, predicted_blind_PHASE_II, average = 'micro')\n",
    "#print \"f1 score on the prediction of blind\"\n",
    "#print out_f1"
   ]
  },
  {
   "cell_type": "code",
   "execution_count": 44,
   "metadata": {
    "collapsed": false
   },
   "outputs": [
    {
     "name": "stdout",
     "output_type": "stream",
     "text": [
      "70\n"
     ]
    }
   ],
   "source": [
    "print len(predicted_blind_PHASE_II)-np.count_nonzero(predicted_blind_PHASE_II==predicted_blind_PHASE_I)"
   ]
  },
  {
   "cell_type": "code",
   "execution_count": 45,
   "metadata": {
    "collapsed": false
   },
   "outputs": [
    {
     "data": {
      "text/plain": [
       "array([2, 2, 2, 2, 2, 2, 2, 2, 2, 2, 2, 2, 2, 2, 2, 2, 2, 2, 2, 2, 2, 2, 2,\n",
       "       2, 2, 2, 1, 2, 2, 2, 2, 2, 3, 2, 2, 2, 2, 3, 3, 3, 3, 2, 2, 8, 8, 8,\n",
       "       8, 6, 6, 6, 6, 6, 6, 6, 6, 4, 5, 4, 4, 4, 4, 4, 6, 6, 6, 6, 6, 6, 6,\n",
       "       6, 6, 8, 8, 8, 8, 8, 8, 8, 8, 8, 8, 8, 8, 8, 8, 9, 9, 8, 9, 6, 6, 6,\n",
       "       6, 6, 6, 6, 6, 6, 6, 6, 4, 4, 4, 4, 4, 4, 6, 6, 6, 6, 6, 6, 6, 6, 6,\n",
       "       6, 6, 6, 6, 6, 3, 3, 2, 2, 2, 2, 2, 2, 2, 2, 2, 2, 2, 2, 2, 2, 2, 2,\n",
       "       2, 2, 2, 2, 2, 2, 2, 2, 3, 2, 2, 2, 8, 8, 8, 8, 8, 8, 8, 8, 8, 8, 8,\n",
       "       8, 8, 8, 8, 6, 6, 6, 6, 6, 6, 6, 6, 6, 6, 6, 6, 6, 6, 6, 6, 8, 2, 2,\n",
       "       2, 3, 3, 3, 3, 3, 3, 3, 2, 2, 2, 3, 2, 2, 3, 3, 8, 8, 8, 8, 8, 8, 8,\n",
       "       8, 8, 8, 8, 8, 8, 8, 8, 8, 8, 8, 8, 8, 8, 8, 8, 6, 6, 6, 6, 3, 2, 2,\n",
       "       3, 3, 3, 3, 2, 2, 2, 2, 2, 2, 2, 2, 2, 2, 2, 2, 2, 3, 3, 8, 8, 8, 8,\n",
       "       8, 8, 8, 8, 8, 8, 2, 3, 2, 2, 2, 2, 2, 2, 2, 2, 2, 2, 2, 2, 2, 2, 3,\n",
       "       3, 3, 8, 8, 8, 8, 8, 8, 8, 8, 8, 8, 8, 8, 6, 3, 3, 3, 3, 8, 8, 8, 8,\n",
       "       8, 8, 8, 7, 8, 8, 7, 7, 7, 7, 4, 8, 8, 8, 8, 6, 6, 6, 6, 6, 8, 9, 9,\n",
       "       9, 8, 8, 8, 8, 8, 8, 6, 6, 6, 6, 6, 2, 3, 3, 3, 3, 3, 3, 3, 3, 3, 3,\n",
       "       3, 3, 3, 2, 3, 3, 3, 2, 2, 2, 2, 2, 2, 2, 2, 2, 2, 2, 2, 2, 2, 2, 2,\n",
       "       3, 2, 3, 3, 2, 8, 8, 8, 8, 8, 8, 8, 8, 8, 8, 8, 8, 8, 8, 8, 8, 8, 8,\n",
       "       8, 8, 8, 8, 6, 6, 6, 6, 6, 6, 8, 8, 8, 8, 8, 6, 6, 6, 6, 6, 6, 6, 6,\n",
       "       6, 6, 6, 5, 5, 5, 5, 5, 5, 5, 6, 5, 5, 5, 5, 5, 5, 5, 6, 6, 6, 4, 4,\n",
       "       4, 4, 4, 4, 4, 4, 4, 4, 4, 6, 6, 6, 6, 6, 6, 4, 4, 4, 4, 4, 6, 4, 4,\n",
       "       4, 4, 4, 4, 4, 4, 4, 4, 4, 4, 4, 4, 4, 4])"
      ]
     },
     "execution_count": 45,
     "metadata": {},
     "output_type": "execute_result"
    }
   ],
   "source": [
    "predicted_blind_PHASE_II"
   ]
  },
  {
   "cell_type": "markdown",
   "metadata": {},
   "source": [
    "**Do this with a couple of predictions and average**\n",
    "\n",
    "\n",
    "To Do"
   ]
  },
  {
   "cell_type": "code",
   "execution_count": null,
   "metadata": {
    "collapsed": true
   },
   "outputs": [],
   "source": []
  },
  {
   "cell_type": "code",
   "execution_count": null,
   "metadata": {
    "collapsed": true
   },
   "outputs": [],
   "source": []
  },
  {
   "cell_type": "code",
   "execution_count": null,
   "metadata": {
    "collapsed": true
   },
   "outputs": [],
   "source": []
  },
  {
   "cell_type": "markdown",
   "metadata": {},
   "source": [
    "**Permute facies based on earlier prediction**:"
   ]
  },
  {
   "cell_type": "code",
   "execution_count": 73,
   "metadata": {
    "collapsed": false
   },
   "outputs": [
    {
     "name": "stdout",
     "output_type": "stream",
     "text": [
      "25\n",
      "22\n",
      "4\n",
      "13\n",
      "changed in total:\n",
      "33\n"
     ]
    }
   ],
   "source": [
    "print(sum(predicted_regime5))\n",
    "predicted_blind_PHASE_IIa=permute_facies_nr(predicted_regime5, predicted_blind_PHASE_II, 5)\n",
    "print(sum(predicted_regime7))\n",
    "predicted_blind_PHASE_IIb=permute_facies_nr(predicted_regime7, predicted_blind_PHASE_IIa, 7)\n",
    "print(sum(predicted_regime1))\n",
    "predicted_blind_PHASE_IIc=permute_facies_nr(predicted_regime1, predicted_blind_PHASE_IIb, 1)\n",
    "print(sum(predicted_regime9))\n",
    "predicted_blind_PHASE_IId=permute_facies_nr(predicted_regime9, predicted_blind_PHASE_IIc, 9)\n",
    "#sum(abs(predicted_blind_PHASE_IIa-predicted_blind_PHASE_IId))\n",
    "print \"changed in total:\"\n",
    "print len(predicted_blind_PHASE_IIa)-np.count_nonzero(predicted_blind_PHASE_IIa==predicted_blind_PHASE_IId)"
   ]
  },
  {
   "cell_type": "code",
   "execution_count": 74,
   "metadata": {
    "collapsed": false
   },
   "outputs": [
    {
     "data": {
      "text/plain": [
       "array([2, 2, 2, 2, 2, 2, 2, 2, 2, 2, 2, 2, 2, 2, 2, 2, 2, 2, 2, 2, 2, 2, 2,\n",
       "       2, 2, 2, 1, 1, 1, 1, 2, 2, 3, 2, 2, 2, 2, 3, 3, 3, 3, 2, 2, 8, 8, 8,\n",
       "       8, 6, 6, 6, 6, 5, 5, 6, 6, 4, 5, 4, 4, 4, 4, 4, 6, 6, 6, 6, 6, 6, 6,\n",
       "       6, 6, 8, 8, 8, 8, 8, 8, 8, 8, 8, 8, 8, 9, 9, 9, 9, 9, 8, 9, 6, 6, 6,\n",
       "       6, 6, 6, 6, 6, 6, 6, 6, 4, 4, 4, 4, 4, 4, 6, 6, 6, 6, 6, 6, 6, 6, 6,\n",
       "       6, 6, 6, 6, 6, 3, 3, 2, 2, 2, 2, 2, 2, 2, 2, 2, 2, 2, 2, 2, 2, 2, 2,\n",
       "       2, 2, 2, 2, 2, 2, 2, 2, 3, 2, 2, 2, 8, 8, 8, 8, 8, 5, 8, 8, 8, 8, 8,\n",
       "       8, 5, 7, 7, 6, 6, 6, 6, 6, 6, 6, 6, 6, 6, 6, 6, 6, 6, 6, 6, 8, 2, 2,\n",
       "       2, 3, 3, 3, 3, 3, 3, 3, 2, 2, 2, 3, 2, 2, 3, 3, 8, 8, 8, 8, 8, 8, 8,\n",
       "       8, 8, 8, 8, 8, 8, 8, 8, 8, 8, 8, 8, 8, 8, 8, 8, 6, 6, 6, 6, 3, 2, 2,\n",
       "       3, 3, 3, 3, 2, 2, 2, 2, 2, 2, 2, 2, 2, 2, 2, 2, 2, 3, 3, 5, 8, 9, 9,\n",
       "       8, 8, 8, 8, 8, 8, 2, 3, 2, 2, 2, 2, 2, 2, 2, 2, 2, 2, 2, 2, 2, 2, 3,\n",
       "       3, 3, 8, 8, 8, 8, 8, 8, 8, 8, 8, 8, 8, 8, 6, 3, 3, 3, 3, 8, 9, 8, 8,\n",
       "       8, 8, 8, 7, 8, 7, 7, 7, 7, 7, 4, 8, 8, 8, 8, 6, 6, 6, 6, 6, 8, 9, 9,\n",
       "       9, 9, 8, 8, 8, 8, 8, 6, 6, 6, 6, 6, 2, 3, 3, 3, 3, 3, 3, 3, 3, 3, 3,\n",
       "       3, 3, 3, 2, 3, 3, 3, 2, 2, 2, 2, 2, 2, 2, 2, 2, 2, 2, 2, 2, 2, 2, 2,\n",
       "       3, 2, 3, 3, 2, 8, 8, 8, 8, 9, 8, 8, 8, 7, 7, 7, 7, 8, 8, 8, 8, 7, 7,\n",
       "       7, 7, 7, 7, 5, 7, 7, 7, 7, 7, 7, 7, 8, 8, 8, 6, 6, 6, 6, 6, 6, 6, 6,\n",
       "       5, 5, 6, 5, 5, 5, 5, 5, 5, 5, 5, 5, 5, 5, 5, 5, 5, 5, 6, 6, 6, 4, 4,\n",
       "       7, 7, 4, 4, 4, 5, 4, 4, 4, 6, 6, 6, 6, 6, 6, 4, 4, 4, 4, 4, 6, 4, 4,\n",
       "       4, 4, 4, 4, 4, 4, 4, 4, 4, 4, 4, 4, 4, 4])"
      ]
     },
     "execution_count": 74,
     "metadata": {},
     "output_type": "execute_result"
    }
   ],
   "source": [
    "predicted_STUART=predicted_blind_PHASE_IId\n",
    "predicted_STUART"
   ]
  },
  {
   "cell_type": "code",
   "execution_count": 75,
   "metadata": {
    "collapsed": false
   },
   "outputs": [
    {
     "data": {
      "text/plain": [
       "Counter({1: 4, 2: 119, 3: 52, 4: 42, 5: 25, 6: 90, 7: 27, 8: 101, 9: 14})"
      ]
     },
     "execution_count": 75,
     "metadata": {},
     "output_type": "execute_result"
    }
   ],
   "source": [
    "collections.Counter(predicted_STUART)"
   ]
  },
  {
   "cell_type": "code",
   "execution_count": null,
   "metadata": {
    "collapsed": true
   },
   "outputs": [],
   "source": [
    "predicted_CRAWFORD=\n",
    "array([8, 8, 8, 8, 8, 8, 8, 8, 8, 8, 5, 7, 6, 5, 7, 5, 5, 7, 7, 4, 4, 4, 4,\n",
    "       4, 7, 7, 7, 7, 4, 4, 6, 4, 4, 4, 4, 6, 6, 6, 6, 6, 6, 4, 4, 4, 6, 6,\n",
    "       8, 8, 8, 8, 8, 8, 6, 6, 6, 6, 6, 6, 6, 6, 6, 6, 6, 6, 6, 6, 6, 6, 6,\n",
    "       4, 4, 4, 4, 4, 4, 4, 1, 1, 1, 1, 1, 1, 1, 1, 1, 1, 1, 5, 8, 8, 6, 6,\n",
    "       6, 6, 6, 6, 6, 6, 6, 8, 8, 2, 2, 8, 8, 8, 6, 6, 6, 5, 5, 6, 6, 8, 8,\n",
    "       8, 8, 8, 8, 8, 8, 8, 8, 8, 8, 8, 5, 5, 5, 6, 6, 6, 6, 6, 6, 6, 6, 6,\n",
    "       8, 5, 8, 8, 8, 6, 6, 8, 3, 2, 2, 2, 2, 2, 2, 2, 2, 2, 2, 2, 1, 1, 1,\n",
    "       1, 2, 2, 2, 2, 8, 8, 8, 8, 8, 8, 9, 9, 9, 9, 9, 9, 7, 7, 7, 7, 7, 7,\n",
    "       7, 7, 7, 7, 8, 8, 8, 8, 8, 8, 3, 3, 2, 2, 2, 2, 2, 2, 2, 2, 2, 2, 2,\n",
    "       2, 2, 2, 2, 3, 2, 8, 8, 8, 8, 8, 8, 8, 8, 8, 8, 8, 8, 8, 6, 6, 6, 3,\n",
    "       2, 2, 2, 2, 1, 1, 1, 1, 2, 2, 2, 2, 2, 2, 2, 2, 2, 3, 3, 5, 8, 8, 8,\n",
    "       8, 8, 5, 8, 8, 8, 6, 6, 6, 6, 6, 6, 6, 3, 3, 2, 2, 2, 2, 2, 2, 2, 3,\n",
    "       3, 3, 2, 6, 8, 8, 8, 8, 5, 8, 5, 5, 7, 7, 7, 7, 7, 7, 7, 7, 7, 7, 7,\n",
    "       7, 7, 7, 7, 7, 7, 7, 7, 5, 5, 8, 7, 7, 7, 7, 2, 2, 2, 7, 7, 7, 7, 7,\n",
    "       7, 7, 7, 7, 7, 7, 8, 8, 8, 8, 8, 8, 8, 6, 6, 4, 2, 3, 3, 3, 2, 2, 2,\n",
    "       2, 2, 2, 2, 2, 2, 2, 2, 2, 3, 3])"
   ]
  },
  {
   "cell_type": "code",
   "execution_count": 64,
   "metadata": {
    "collapsed": false
   },
   "outputs": [
    {
     "data": {
      "text/plain": [
       "array([ 2.,  2.,  2.,  2.,  2.,  2.,  2.,  2.,  2.,  2.,  2.,  2.,  3.,\n",
       "        2.,  2.,  2.,  2.,  2.,  0.])"
      ]
     },
     "execution_count": 64,
     "metadata": {},
     "output_type": "execute_result"
    }
   ],
   "source": [
    "pred_blind[:,36]"
   ]
  },
  {
   "cell_type": "code",
   "execution_count": null,
   "metadata": {
    "collapsed": true
   },
   "outputs": [],
   "source": []
  },
  {
   "cell_type": "code",
   "execution_count": null,
   "metadata": {
    "collapsed": true
   },
   "outputs": [],
   "source": []
  },
  {
   "cell_type": "code",
   "execution_count": null,
   "metadata": {
    "collapsed": true
   },
   "outputs": [],
   "source": []
  },
  {
   "cell_type": "code",
   "execution_count": 56,
   "metadata": {
    "collapsed": false
   },
   "outputs": [
    {
     "data": {
      "image/png": "[encoded data removed]",
      "text/plain": [
       "<matplotlib.figure.Figure at 0x7f3e6f199d10>"
      ]
     },
     "metadata": {},
     "output_type": "display_data"
    }
   ],
   "source": [
    "hist, bins = np.histogram(regime1B_test, bins=50)\n",
    "width = 0.75 * (bins[1] - bins[0])\n",
    "center = (bins[:-1] + bins[1:]) / 2\n",
    "plt.bar(center, hist, align='center', width=width,color='red')\n",
    "\n",
    "hist, bins = np.histogram(regime2B_test, bins=50)\n",
    "width = 0.75 * (bins[1] - bins[0])\n",
    "center = (bins[:-1] + bins[1:]) / 2 +0.15\n",
    "plt.bar(center, hist, align='center', width=width,color='blue')\n",
    "hist, bins = np.histogram(regime3B_test, bins=50)\n",
    "width = 0.75 * (bins[1] - bins[0])\n",
    "center = (bins[:-1] + bins[1:]) / 2 +0.3\n",
    "plt.bar(center, hist, align='center', width=width,color='green')\n",
    "\n",
    "plt.show()\n"
   ]
  }
 ],
 "metadata": {
  "anaconda-cloud": {},
  "kernelspec": {
   "display_name": "Python [default]",
   "language": "python",
   "name": "python2"
  },
  "language_info": {
   "codemirror_mode": {
    "name": "ipython",
    "version": 2
   },
   "file_extension": ".py",
   "mimetype": "text/x-python",
   "name": "python",
   "nbconvert_exporter": "python",
   "pygments_lexer": "ipython2",
   "version": "2.7.12"
  }
 },
 "nbformat": 4,
 "nbformat_minor": 1
}
