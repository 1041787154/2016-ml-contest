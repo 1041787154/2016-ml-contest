{
 "cells": [
  {
   "cell_type": "markdown",
   "metadata": {},
   "source": [
    "#### Contest entry by Wouter Kimman \n",
    "\n",
    "\n",
    "Strategy: \n",
    "----------------------------------------------\n",
    "\n"
   ]
  },
  {
   "cell_type": "code",
   "execution_count": 218,
   "metadata": {
    "collapsed": false
   },
   "outputs": [],
   "source": [
    "from numpy.fft import rfft\n",
    "from scipy import signal\n",
    "\n",
    "import numpy as np\n",
    "import matplotlib.pyplot as plt\n",
    "import plotly.plotly as py\n",
    "\n",
    "\n",
    "import pandas as pd\n",
    "import timeit\n",
    "from sqlalchemy.sql import text\n",
    "from sklearn import tree\n",
    "from sklearn.model_selection import LeavePGroupsOut\n",
    "\n",
    "#from sklearn import cross_validation\n",
    "#from sklearn.cross_validation import train_test_split\n",
    "from sklearn import metrics\n",
    "\n",
    "from sklearn.tree import export_graphviz\n",
    "from sklearn.ensemble import RandomForestClassifier\n",
    "from sklearn.linear_model import LogisticRegression\n",
    "from sklearn import linear_model\n",
    "#import sherlock.filesystem as sfs\n",
    "#import sherlock.database as sdb\n",
    "\n",
    "from sklearn import preprocessing\n",
    "from sklearn.model_selection import cross_val_score"
   ]
  },
  {
   "cell_type": "code",
   "execution_count": 2,
   "metadata": {
    "collapsed": false
   },
   "outputs": [],
   "source": [
    "filename = 'training_data.csv'\n",
    "training_data0 = pd.read_csv(filename)\n",
    "training_data1=training_data0.copy()"
   ]
  },
  {
   "cell_type": "code",
   "execution_count": 3,
   "metadata": {
    "collapsed": false
   },
   "outputs": [],
   "source": [
    "\n",
    "def magic(df):\n",
    "    df1=df.copy()\n",
    "    b, a = signal.butter(2, 0.2, btype='high', analog=False)\n",
    "    feats00=['GR','ILD_log10','DeltaPHI','PHIND','PE','NM_M','RELPOS']\n",
    "    feats01=['GR','DeltaPHI','PHIND']\n",
    "    for ii in feats01:\n",
    "        df1[ii]=df[ii]\n",
    "        name1=ii + '_1'\n",
    "        name2=ii + '_2'\n",
    "        name3=ii + '_3'\n",
    "        name4=ii + '_4'\n",
    "        xx1 = list(df[ii])\n",
    "        xx_mf= signal.medfilt(xx1,9)\n",
    "        x_min3=np.roll(xx_mf, 3)    \n",
    "        xx1a=xx1-np.mean(xx1)\n",
    "        xx_fil = signal.filtfilt(b, a, xx1)\n",
    "        xx_grad=np.gradient(xx1a) \n",
    "        if ii in feats01: \n",
    "            df1[name1]=x_min3\n",
    "            df1[name2]=xx_fil\n",
    "            df1[name3]=xx_grad\n",
    "            df1[name4]=xx_mf     \n",
    "    return df1\n",
    "\n",
    "        \n",
    "\n",
    "\n",
    "        \n",
    "        "
   ]
  },
  {
   "cell_type": "code",
   "execution_count": 4,
   "metadata": {
    "collapsed": false
   },
   "outputs": [],
   "source": [
    "def run_test(remove_well, df_train):\n",
    "    \n",
    "    df_test=training_data1\n",
    "    blind = df_test[df_test['Well Name'] == remove_well]      \n",
    "    training_data = df_train[df_train['Well Name'] != remove_well]  \n",
    "    \n",
    "    correct_facies_labels_train = training_data['Facies'].values\n",
    "    feature_vectors = training_data.drop(['Formation', 'Well Name', 'Depth','Facies'], axis=1)\n",
    "    #rf = RandomForestClassifier(max_depth = 15, n_estimators=600) \n",
    "    rf = RandomForestClassifier(max_depth = 5, n_estimators=600)     \n",
    "    rf.fit(feature_vectors, correct_facies_labels_train)\n",
    "\n",
    "    correct_facies_labels = blind['Facies'].values\n",
    "    features_blind = blind.drop(['Formation', 'Well Name', 'Depth','Facies'], axis=1)\n",
    "    scaler = preprocessing.StandardScaler().fit(feature_vectors)\n",
    "    scaled_features =feature_vectors\n",
    "    predicted_random_forest = rf.predict(features_blind)\n",
    "\n",
    "    out_f1=metrics.f1_score(correct_facies_labels, predicted_random_forest,average = 'micro')\n",
    "    return out_f1\n",
    "\n",
    "    \n",
    "    "
   ]
  },
  {
   "cell_type": "code",
   "execution_count": 5,
   "metadata": {
    "collapsed": false
   },
   "outputs": [],
   "source": [
    "def dothererun(selected_pred_facies):\n",
    "    training_data_dodgy = blind[selected_data==True]  \n",
    "\n",
    "    # PART BLIND WELL TO TRAIN\n",
    "    #correct_facies_labels_train = training_data_dodgy['Facies'].values  #THIS WOULD OBVIOUSLY NOT BE AVAILABLE\n",
    "    correct_facies_labels_train = selected_pred_facies\n",
    "    feature_vectors = training_data_dodgy.drop(['Formation', 'Well Name', 'Depth','Facies'], axis=1)\n",
    "    #rf = RandomForestClassifier(max_depth = 25, n_estimators=5000) \n",
    "    rf = RandomForestClassifier(max_depth = 5, n_estimators=1000)     \n",
    "    rf.fit(feature_vectors, correct_facies_labels_train)\n",
    "\n",
    "    # ENTIRE BLIND WELL TO PREDICT\n",
    "    correct_facies_labels = blind['Facies'].values\n",
    "    features_blind = blind.drop(['Formation', 'Well Name', 'Depth','Facies'], axis=1)\n",
    "    \n",
    "    predicted_random_forest_new = rf.predict(features_blind)\n",
    "    \n",
    "    out_f1=metrics.f1_score(correct_facies_labels, predicted_random_forest_new,average = 'micro')\n",
    "    props=rf.predict_proba(features_blind)\n",
    "    print \"in the rerun f1 is: \"\n",
    "    print out_f1\n",
    "    return out_f1\n"
   ]
  },
  {
   "cell_type": "code",
   "execution_count": null,
   "metadata": {
    "collapsed": true
   },
   "outputs": [],
   "source": [
    "df=training_data0.copy()\n",
    "training_data1=magic(df)"
   ]
  },
  {
   "cell_type": "code",
   "execution_count": 6,
   "metadata": {
    "collapsed": false
   },
   "outputs": [
    {
     "name": "stdout",
     "output_type": "stream",
     "text": [
      "well : NOLAN, f1 for different runs:\n",
      "average f1 is 0.525904, 2*std is 0.010434\n"
     ]
    }
   ],
   "source": [
    "df_train=training_data1\n",
    "\n",
    "wells=['CHURCHMAN BIBLE','SHANKLE','NOLAN','NEWBY','Recruit F9' ,'CROSS H CATTLE','LUKE G U','SHRIMPLIN']\n",
    "#wells=['CHURCHMAN BIBLE']\n",
    "wells=['NOLAN']\n",
    "for remove_well in wells:\n",
    "    all=[]\n",
    "    print(\"well : %s, f1 for different runs:\" % (remove_well))\n",
    "    for ii in range(4):\n",
    "        out_f1=run_test(remove_well,df_train)   \n",
    "        #out_f1=run_bayes2(remove_well,df_train) \n",
    "        all.append(out_f1)\n",
    "    av1=np.mean(all) \n",
    "    print(\"average f1 is %f, 2*std is %f\" % (av1, 2*np.std(all)) )\n"
   ]
  },
  {
   "cell_type": "code",
   "execution_count": 337,
   "metadata": {
    "collapsed": false
   },
   "outputs": [
    {
     "name": "stdout",
     "output_type": "stream",
     "text": [
      "0.532530120482\n"
     ]
    }
   ],
   "source": [
    "df_test=training_data1\n",
    "blind = df_test[df_test['Well Name'] == remove_well]      \n",
    "training_data = df_train[df_train['Well Name'] != remove_well]  \n",
    "    \n",
    "correct_facies_labels_train = training_data['Facies'].values\n",
    "feature_vectors = training_data.drop(['Formation', 'Well Name', 'Depth','Facies'], axis=1)\n",
    "rf = RandomForestClassifier(max_depth = 5, n_estimators=1000) \n",
    "rf.fit(feature_vectors, correct_facies_labels_train)\n",
    "\n",
    "correct_facies_labels = blind['Facies'].values\n",
    "features_blind = blind.drop(['Formation', 'Well Name', 'Depth','Facies'], axis=1)\n",
    "#scaler = preprocessing.StandardScaler().fit(feature_vectors)\n",
    "#scaled_features =feature_vectors\n",
    "predicted_random_forest = rf.predict(features_blind)\n",
    "\n",
    "out_f1=metrics.f1_score(correct_facies_labels, predicted_random_forest,average = 'micro')\n",
    "print out_f1\n",
    "\n",
    "props=rf.predict_proba(features_blind)\n",
    "props_best=props.max(axis=1)"
   ]
  },
  {
   "cell_type": "code",
   "execution_count": 342,
   "metadata": {
    "collapsed": false
   },
   "outputs": [
    {
     "data": {
      "image/png": "[encoded data removed]",
      "text/plain": [
       "<matplotlib.figure.Figure at 0x7f0588761050>"
      ]
     },
     "metadata": {},
     "output_type": "display_data"
    },
    {
     "name": "stdout",
     "output_type": "stream",
     "text": [
      "0.449710576641\n",
      "0.559843757226\n"
     ]
    }
   ],
   "source": [
    "plt.plot(props[:,3])\n",
    "plt.plot(props_best)\n",
    "plt.show()\n",
    "print props_best.mean()\n",
    "print props_best.mean()+props_best.std()"
   ]
  },
  {
   "cell_type": "markdown",
   "metadata": {},
   "source": [
    "RERUNNING PREDICTION FROM PART BLIND ONLY:"
   ]
  },
  {
   "cell_type": "code",
   "execution_count": 343,
   "metadata": {
    "collapsed": false
   },
   "outputs": [
    {
     "name": "stdout",
     "output_type": "stream",
     "text": [
      "vals of decs is  0.62500 \n",
      "nr of samples 24 \n",
      "total nr of facies predicted is 2\n",
      "total nr of facies present is 2\n",
      "f1 is  0.66667 \n",
      "-------------------------------------------------\n"
     ]
    }
   ],
   "source": [
    "#decs=[0.1, 0.15, 0.2, 0.25, 0.3, 0.35, 0.4, 0.45, 0.5]\n",
    "#decs=[0.30, 0.31, 0.32, 0.33, 0.34, 0.35, 0.36, 0.37, 0.38, 0.39, 0.4, 0.41, 0.42]\n",
    "decs=[0.20, 0.22, 0.24, 0.26, 0.28, 0.30, 0.32, 0.34, 0.36, 0.38, 0.4, 0.42, 0.44]\n",
    "#decs=[0.32, 0.325, 0.33, 0.335, 0.34, 0.345, 0.35, 0.355, 0.36, 0.38, 0.4, 0.42, 0.44]\n",
    "decs=[0.15]\n",
    "decs=[0.625]\n",
    "for vals in decs:\n",
    "    new_array=[]\n",
    "    selected_data=[]\n",
    "    selected_data=0*predicted_random_forest\n",
    "    count=0\n",
    "    for idx, val in enumerate(props_best):\n",
    "        if val > vals:\n",
    "            new_array.append(predicted_random_forest[idx])\n",
    "            selected_data[idx]=True\n",
    "            count+=1\n",
    "        else:\n",
    "            selected_data[idx]=False\n",
    "            \n",
    "\n",
    "    selected_pred_facies=predicted_random_forest[selected_data==True]\n",
    "    selected_true_labels=correct_facies_labels[selected_data==True]    \n",
    "    out_f1=metrics.f1_score(selected_true_labels, selected_pred_facies,average = 'micro')\n",
    "    \n",
    "    print(\"vals of decs is  %.5f \" %  (vals) ) \n",
    "    print(\"nr of samples %d \" %  (count) )     \n",
    "    print(\"total nr of facies predicted is %d\" % (len(np.unique(selected_pred_facies))))\n",
    "    print(\"total nr of facies present is %d\" % (len(np.unique(selected_true_labels))))    \n",
    "    print(\"f1 is  %.5f \" %  (out_f1) ) \n",
    "    #dothererun(selected_pred_facies)   \n",
    "    print \"-------------------------------------------------\""
   ]
  },
  {
   "cell_type": "code",
   "execution_count": null,
   "metadata": {
    "collapsed": true
   },
   "outputs": [],
   "source": []
  },
  {
   "cell_type": "code",
   "execution_count": null,
   "metadata": {
    "collapsed": true
   },
   "outputs": [],
   "source": []
  },
  {
   "cell_type": "code",
   "execution_count": null,
   "metadata": {
    "collapsed": true
   },
   "outputs": [],
   "source": []
  },
  {
   "cell_type": "code",
   "execution_count": null,
   "metadata": {
    "collapsed": false
   },
   "outputs": [],
   "source": []
  },
  {
   "cell_type": "markdown",
   "metadata": {},
   "source": [
    "Leave 2 out"
   ]
  },
  {
   "cell_type": "code",
   "execution_count": 314,
   "metadata": {
    "collapsed": false
   },
   "outputs": [
    {
     "name": "stdout",
     "output_type": "stream",
     "text": [
      "0.50843373494\n",
      "0.566265060241\n",
      "0.503614457831\n",
      "0.402409638554\n",
      "0.525301204819\n",
      "0.501204819277\n",
      "0.38313253012\n",
      "0.498795180723\n",
      "0.421686746988\n",
      "0.35421686747\n",
      "0.501204819277\n",
      "0.424096385542\n",
      "0.318072289157\n",
      "0.568674698795\n",
      "0.484337349398\n",
      "0.395180722892\n",
      "0.527710843373\n",
      "0.477108433735\n",
      "0.424096385542\n",
      "0.532530120482\n",
      "0.549397590361\n",
      "0.522891566265\n",
      "0.4\n",
      "0.530120481928\n",
      "0.486746987952\n",
      "0.424096385542\n",
      "0.530120481928\n",
      "0.453012048193\n",
      "0.390361445783\n",
      "0.433734939759\n",
      "0.515662650602\n",
      "0.436144578313\n",
      "0.41686746988\n",
      "0.493975903614\n",
      "0.489156626506\n",
      "prediction from median, leave p out:\n",
      "0.55421686747\n"
     ]
    }
   ],
   "source": [
    "\n",
    "wells = training_data[\"Well Name\"].values      #DOES NOT CONTAIN THE BLIND\n",
    "y = training_data['Facies']\n",
    "X = training_data.drop(['Formation', 'Well Name', 'Depth','Facies'], axis=1)\n",
    "\n",
    "#wells = training_data1[\"Well Name\"].values    #DOES CONTAIN THE BLIND\n",
    "#y = training_data1['Facies']\n",
    "#X = training_data1.drop(['Formation', 'Well Name', 'Depth','Facies'], axis=1)\n",
    "\n",
    "#lpgo = LeavePGroupsOut(n_groups=2)\n",
    "lpgo = LeavePGroupsOut(n_groups=4)\n",
    "pred_array=0*correct_facies_labels\n",
    "for train, test in lpgo.split(X, y, groups=wells):\n",
    "    xx0=X.iloc[train]\n",
    "    yy0=y.iloc[train]\n",
    "    \n",
    "    rf = RandomForestClassifier(max_depth = 7, n_estimators=2000) \n",
    "    rf.fit(xx0, yy0)\n",
    "    xx1=X.iloc[test]\n",
    "    yy1=y.iloc[test]\n",
    "    predicted_random_forest = rf.predict(xx1)  #prediction on the leave-out dataset\n",
    "    out_f1=metrics.f1_score(yy1, predicted_random_forest,average = 'micro')\n",
    "    \n",
    "    #cross_val_score(rf, xx1, yy1, cv=3)\n",
    "    #predicted = cross_val_predict(rf, xx1, cv=10)    \n",
    "    predicted_random_forest = rf.predict(features_blind)    #prediction on blind\n",
    "    out_f1=metrics.f1_score(correct_facies_labels, predicted_random_forest,average = 'micro')\n",
    "    \n",
    "    pred_array = np.vstack((predicted_random_forest, pred_array))\n",
    "    print out_f1\n",
    "    \n",
    "med_pred=np.median(pred_array,axis=0)\n",
    "med_pred=med_pred.astype(int)\n",
    "out_f1=metrics.f1_score(correct_facies_labels, med_pred,average = 'micro')\n",
    "print \"prediction from median, leave p out:\"\n",
    "print out_f1    "
   ]
  },
  {
   "cell_type": "markdown",
   "metadata": {},
   "source": [
    "------------------------------------------------------------------------------------------\n",
    "BREAK\n",
    "------------------------------------------------------------------------------------------"
   ]
  },
  {
   "cell_type": "markdown",
   "metadata": {},
   "source": [
    "Combining part blind+leave 2 out:"
   ]
  },
  {
   "cell_type": "code",
   "execution_count": 344,
   "metadata": {
    "collapsed": false
   },
   "outputs": [
    {
     "name": "stdout",
     "output_type": "stream",
     "text": [
      "0.544578313253\n",
      "0.522891566265\n",
      "0.366265060241\n",
      "0.561445783133\n",
      "0.489156626506\n",
      "0.402409638554\n",
      "0.542168674699\n",
      "0.436144578313\n",
      "0.375903614458\n",
      "0.404819277108\n",
      "0.477108433735\n",
      "0.414457831325\n",
      "0.363855421687\n",
      "0.518072289157\n",
      "0.481927710843\n",
      "0.546987951807\n",
      "0.469879518072\n",
      "0.457831325301\n",
      "0.467469879518\n",
      "0.438554216867\n",
      "0.450602409639\n",
      "prediction from median, leave p out+augmentation:\n",
      "0.556626506024\n"
     ]
    }
   ],
   "source": [
    "training_data_dodgy = blind[selected_data==True] \n",
    "training_data_dodgy1 = training_data_dodgy.drop(['Formation', 'Well Name', 'Depth','Facies'], axis=1)\n",
    "correct_facies_labels_train = selected_pred_facies\n",
    "#----------------------------------------------------------------------------\n",
    "\n",
    "wells = training_data[\"Well Name\"].values      #DOES NOT CONTAIN THE BLIND\n",
    "y = training_data['Facies']\n",
    "X = training_data.drop(['Formation', 'Well Name', 'Depth','Facies'], axis=1)\n",
    "\n",
    "lpgo = LeavePGroupsOut(n_groups=5)\n",
    "pred_array=0*correct_facies_labels\n",
    "for train, test in lpgo.split(X, y, groups=wells):\n",
    "    xx0=X.iloc[train]\n",
    "    yy0=y.iloc[train]\n",
    "    XTRAIN = pd.concat([xx0, training_data_dodgy1], ignore_index=True)\n",
    "    YTRAIN=np.concatenate((yy0.values, correct_facies_labels_train))\n",
    "    \n",
    "    selected_pred_facies=predicted_random_forest[selected_data==True]\n",
    "    selected_true_labels=correct_facies_labels[selected_data==True] \n",
    "    \n",
    "    rf = RandomForestClassifier(max_depth = 7, n_estimators=2000) \n",
    "    rf.fit(XTRAIN, YTRAIN)\n",
    "    \n",
    "    predicted_random_forest = rf.predict(features_blind)    #prediction on blind\n",
    "    #predicted = cross_val_predict(rf, features_blind, cv=10)\n",
    "    out_f1=metrics.f1_score(correct_facies_labels, predicted_random_forest,average = 'micro')\n",
    "    \n",
    "    pred_array = np.vstack((predicted_random_forest, pred_array))\n",
    "    \n",
    "    #predicted = cross_val_predict(rf, xx1, cv=10)\n",
    "    print out_f1\n",
    "    \n",
    "med_pred=np.median(pred_array,axis=0)\n",
    "med_pred=med_pred.astype(int)\n",
    "out_f1=metrics.f1_score(correct_facies_labels, med_pred,average = 'micro')\n",
    "print \"prediction from median, leave p out+augmentation:\"\n",
    "print out_f1        "
   ]
  },
  {
   "cell_type": "code",
   "execution_count": 284,
   "metadata": {
    "collapsed": false
   },
   "outputs": [
    {
     "data": {
      "text/plain": [
       "(8, 415)"
      ]
     },
     "execution_count": 284,
     "metadata": {},
     "output_type": "execute_result"
    }
   ],
   "source": [
    "pred_array.shape"
   ]
  },
  {
   "cell_type": "code",
   "execution_count": 292,
   "metadata": {
    "collapsed": false
   },
   "outputs": [
    {
     "data": {
      "text/plain": [
       "array([8, 8, 8, 8, 8, 8, 8, 0])"
      ]
     },
     "execution_count": 292,
     "metadata": {},
     "output_type": "execute_result"
    }
   ],
   "source": [
    "pred_array[:,70]"
   ]
  },
  {
   "cell_type": "markdown",
   "metadata": {},
   "source": [
    "THE END\n",
    "-------------------------------------------"
   ]
  },
  {
   "cell_type": "markdown",
   "metadata": {},
   "source": [
    "http://scikit-learn.org/stable/auto_examples/feature_selection/plot_rfe_with_cross_validation.html#sphx-glr-auto-examples-feature-selection-plot-rfe-with-cross-validation-py"
   ]
  },
  {
   "cell_type": "code",
   "execution_count": null,
   "metadata": {
    "collapsed": true
   },
   "outputs": [],
   "source": []
  },
  {
   "cell_type": "code",
   "execution_count": null,
   "metadata": {
    "collapsed": true
   },
   "outputs": [],
   "source": []
  },
  {
   "cell_type": "code",
   "execution_count": null,
   "metadata": {
    "collapsed": true
   },
   "outputs": [],
   "source": []
  },
  {
   "cell_type": "code",
   "execution_count": 1665,
   "metadata": {
    "collapsed": true
   },
   "outputs": [],
   "source": [
    "\n",
    "def predict_final(test_well, training_data,test_data):\n",
    "    blind = test_data[test_data['Well Name'] == test_well]      \n",
    "    correct_facies_labels_train = training_data['Facies'].values\n",
    "    feature_vectors_train = training_data.drop(['Formation', 'Well Name', 'Depth','Facies','FaciesLabels'], axis=1)\n",
    "    rf = RandomForestClassifier(max_depth = 15, n_estimators=600) \n",
    "    rf.fit(feature_vectors_train, correct_facies_labels_train)\n",
    "\n",
    "    # the blind well\n",
    "    feature_vectors_blind = blind.drop(['Formation', 'Well Name', 'Depth'], axis=1)\n",
    "    predicted_random_forest = rf.predict(feature_vectors_blind)\n",
    "    #out_f1=metrics.f1_score(correct_facies_labels, predicted_random_forest,average = 'micro')\n",
    "    return predicted_random_forest\n",
    "\n",
    "        "
   ]
  },
  {
   "cell_type": "markdown",
   "metadata": {},
   "source": [
    "Train for the test data\n",
    "---------------------------------------------------"
   ]
  },
  {
   "cell_type": "code",
   "execution_count": 406,
   "metadata": {
    "collapsed": true
   },
   "outputs": [],
   "source": [
    "filename = 'training_data.csv'\n",
    "training_data0 = pd.read_csv(filename)\n",
    "training_data1=training_data0.copy()"
   ]
  },
  {
   "cell_type": "code",
   "execution_count": 407,
   "metadata": {
    "collapsed": false
   },
   "outputs": [],
   "source": [
    "filename = 'validation_data_nofacies.csv'\n",
    "test_data = pd.read_csv(filename)"
   ]
  },
  {
   "cell_type": "code",
   "execution_count": 408,
   "metadata": {
    "collapsed": true
   },
   "outputs": [],
   "source": [
    "test_data1=magic(test_data)\n",
    "training_data1=magic(training_data0)"
   ]
  },
  {
   "cell_type": "code",
   "execution_count": 409,
   "metadata": {
    "collapsed": false
   },
   "outputs": [],
   "source": [
    "#test_well='STUART'\n",
    "test_well='CRAWFORD'\n"
   ]
  },
  {
   "cell_type": "code",
   "execution_count": 410,
   "metadata": {
    "collapsed": false
   },
   "outputs": [],
   "source": [
    "blind = test_data1[test_data1['Well Name'] == test_well]      \n",
    "training_data = training_data1\n",
    "    \n",
    "correct_facies_labels_train = training_data['Facies'].values\n",
    "feature_vectors = training_data.drop(['Formation', 'Well Name', 'Depth','Facies'], axis=1)\n",
    "rf = RandomForestClassifier(max_depth = 5, n_estimators=1000) \n",
    "rf.fit(feature_vectors, correct_facies_labels_train)\n",
    "\n",
    "#correct_facies_labels = blind['Facies'].values\n",
    "features_blind = blind.drop(['Formation', 'Well Name', 'Depth'], axis=1)\n",
    "predicted_random_forest = rf.predict(features_blind)\n",
    "\n",
    "#out_f1=metrics.f1_score(correct_facies_labels, predicted_random_forest,average = 'micro')\n",
    "#print out_f1\n",
    "\n",
    "props=rf.predict_proba(features_blind)\n",
    "props_best=props.max(axis=1)"
   ]
  },
  {
   "cell_type": "code",
   "execution_count": 411,
   "metadata": {
    "collapsed": false
   },
   "outputs": [
    {
     "data": {
      "image/png": "[encoded data removed]",
      "text/plain": [
       "<matplotlib.figure.Figure at 0x7f058832da90>"
      ]
     },
     "metadata": {},
     "output_type": "display_data"
    },
    {
     "name": "stdout",
     "output_type": "stream",
     "text": [
      "0.420450262308\n",
      "0.568342574221\n"
     ]
    }
   ],
   "source": [
    "plt.plot(props[:,3])\n",
    "plt.plot(props_best)\n",
    "plt.show()\n",
    "print props_best.mean()\n",
    "print props_best.mean()+props_best.std()"
   ]
  },
  {
   "cell_type": "code",
   "execution_count": 419,
   "metadata": {
    "collapsed": false
   },
   "outputs": [
    {
     "name": "stdout",
     "output_type": "stream",
     "text": [
      "vals of decs is  0.65000 \n",
      "nr of samples 24 \n",
      "total nr of facies predicted is 1\n",
      "-------------------------------------------------\n"
     ]
    }
   ],
   "source": [
    "\n",
    "decs=[0.5, 0.54, 0.58, 0.62, 0.66, 0.68, 0.70, 0.74]\n",
    "decs=[0.66]\n",
    "decs=[0.65]\n",
    "for vals in decs:\n",
    "    new_array=[]\n",
    "    selected_data=[]\n",
    "    selected_data=0*predicted_random_forest\n",
    "    count=0\n",
    "    for idx, val in enumerate(props_best):\n",
    "        if val > vals:\n",
    "            new_array.append(predicted_random_forest[idx])\n",
    "            selected_data[idx]=True\n",
    "            count+=1\n",
    "        else:\n",
    "            selected_data[idx]=False\n",
    "            \n",
    "\n",
    "    selected_pred_facies=predicted_random_forest[selected_data==True]\n",
    "    #selected_true_labels=correct_facies_labels[selected_data==True]    \n",
    "    #out_f1=metrics.f1_score(selected_true_labels, selected_pred_facies,average = 'micro')\n",
    "    \n",
    "    print(\"vals of decs is  %.5f \" %  (vals) ) \n",
    "    print(\"nr of samples %d \" %  (count) )     \n",
    "    print(\"total nr of facies predicted is %d\" % (len(np.unique(selected_pred_facies))))\n",
    "    #print(\"total nr of facies present is %d\" % (len(np.unique(selected_true_labels))))    \n",
    "    #print(\"f1 is  %.5f \" %  (out_f1) ) \n",
    "    #dothererun(selected_pred_facies)   \n",
    "    print \"-------------------------------------------------\""
   ]
  },
  {
   "cell_type": "code",
   "execution_count": 422,
   "metadata": {
    "collapsed": false
   },
   "outputs": [
    {
     "name": "stdout",
     "output_type": "stream",
     "text": [
      "1\n",
      "2\n",
      "3\n",
      "4\n",
      "5\n",
      "6\n",
      "7\n",
      "8\n",
      "9\n",
      "10\n",
      "11\n",
      "12\n",
      "13\n",
      "14\n",
      "15\n",
      "16\n",
      "17\n",
      "18\n",
      "19\n",
      "20\n",
      "21\n",
      "22\n",
      "23\n",
      "24\n",
      "25\n",
      "26\n",
      "27\n",
      "28\n",
      "29\n",
      "30\n",
      "31\n",
      "32\n",
      "33\n",
      "34\n",
      "35\n",
      "36\n",
      "37\n",
      "38\n",
      "39\n",
      "40\n",
      "41\n",
      "42\n",
      "43\n",
      "44\n",
      "45\n",
      "46\n",
      "47\n",
      "48\n",
      "49\n",
      "50\n",
      "51\n",
      "52\n",
      "53\n",
      "54\n",
      "55\n",
      "56\n"
     ]
    }
   ],
   "source": [
    "training_data_dodgy = blind[selected_data==True] \n",
    "training_data_dodgy1 = training_data_dodgy.drop(['Formation', 'Well Name', 'Depth'], axis=1)\n",
    "correct_facies_labels_train = selected_pred_facies\n",
    "#----------------------------------------------------------------------------\n",
    "\n",
    "wells = training_data[\"Well Name\"].values      #DOES NOT CONTAIN THE BLIND\n",
    "y = training_data['Facies']\n",
    "X = training_data.drop(['Formation', 'Well Name', 'Depth','Facies'], axis=1)\n",
    "\n",
    "count=0\n",
    "\n",
    "lpgo = LeavePGroupsOut(n_groups=5)\n",
    "#pred_array=np.zeros(474)    #stu\n",
    "pred_array=np.zeros(356)    #craw\n",
    "for train, test in lpgo.split(X, y, groups=wells):\n",
    "    xx0=X.iloc[train]\n",
    "    yy0=y.iloc[train]\n",
    "    XTRAIN = pd.concat([xx0, training_data_dodgy1], ignore_index=True)\n",
    "    YTRAIN=np.concatenate((yy0.values, correct_facies_labels_train))\n",
    "    \n",
    "    selected_pred_facies=predicted_random_forest[selected_data==True]\n",
    "\n",
    "    rf = RandomForestClassifier(max_depth = 7, n_estimators=2000) \n",
    "    rf.fit(XTRAIN, YTRAIN)\n",
    "    \n",
    "    predicted_random_forest = rf.predict(features_blind)    #prediction on blind  \n",
    "    pred_array = np.vstack((predicted_random_forest, pred_array))\n",
    "    count+=1\n",
    "    print count\n",
    "    \n",
    "med_pred=np.median(pred_array,axis=0)\n",
    "med_pred=med_pred.astype(int)\n",
    "#out_f1=metrics.f1_score(correct_facies_labels, med_pred,average = 'micro')\n",
    "#print \"prediction from median, leave p out+augmentation:\"\n",
    "#print out_f1        "
   ]
  },
  {
   "cell_type": "code",
   "execution_count": 423,
   "metadata": {
    "collapsed": false
   },
   "outputs": [
    {
     "data": {
      "text/plain": [
       "array([8, 8, 8, 8, 8, 8, 8, 8, 8, 8, 8, 6, 6, 5, 5, 7, 4, 4, 4, 4, 4, 4, 4,\n",
       "       4, 4, 4, 4, 4, 4, 4, 6, 4, 4, 4, 6, 6, 6, 6, 6, 6, 6, 6, 6, 4, 6, 6,\n",
       "       8, 8, 8, 8, 8, 8, 6, 6, 6, 6, 6, 6, 6, 6, 6, 6, 6, 6, 6, 6, 6, 6, 6,\n",
       "       6, 4, 8, 8, 8, 8, 4, 4, 1, 1, 1, 1, 1, 1, 1, 1, 1, 5, 8, 8, 8, 8, 6,\n",
       "       6, 6, 6, 6, 6, 6, 6, 6, 6, 3, 2, 8, 8, 8, 6, 6, 6, 6, 6, 6, 6, 8, 8,\n",
       "       8, 8, 8, 8, 8, 8, 8, 8, 8, 8, 8, 6, 6, 6, 6, 6, 6, 6, 6, 6, 6, 8, 8,\n",
       "       6, 8, 8, 8, 6, 6, 6, 6, 2, 2, 2, 2, 2, 2, 2, 2, 2, 2, 2, 2, 2, 2, 2,\n",
       "       2, 2, 2, 2, 2, 8, 8, 8, 8, 8, 9, 9, 9, 9, 9, 9, 9, 9, 8, 8, 8, 8, 7,\n",
       "       7, 7, 7, 7, 8, 8, 8, 8, 8, 8, 2, 2, 2, 2, 2, 2, 2, 2, 2, 2, 2, 2, 2,\n",
       "       2, 2, 2, 2, 3, 3, 8, 8, 8, 8, 8, 8, 8, 8, 8, 8, 8, 8, 6, 6, 6, 6, 2,\n",
       "       2, 2, 2, 2, 2, 2, 2, 2, 2, 2, 2, 2, 2, 2, 2, 2, 2, 3, 3, 8, 8, 8, 8,\n",
       "       8, 8, 8, 8, 8, 8, 6, 6, 6, 6, 6, 6, 6, 2, 2, 2, 2, 2, 2, 2, 2, 2, 2,\n",
       "       2, 3, 2, 8, 8, 8, 8, 8, 8, 8, 8, 7, 7, 7, 7, 7, 7, 7, 7, 7, 7, 7, 7,\n",
       "       7, 7, 7, 7, 7, 7, 7, 7, 8, 8, 7, 7, 4, 4, 4, 4, 4, 7, 7, 7, 7, 7, 7,\n",
       "       4, 4, 4, 7, 7, 8, 8, 8, 8, 8, 8, 6, 6, 6, 6, 6, 2, 2, 3, 3, 2, 2, 2,\n",
       "       2, 2, 2, 2, 2, 2, 2, 2, 3, 3, 3])"
      ]
     },
     "execution_count": 423,
     "metadata": {},
     "output_type": "execute_result"
    }
   ],
   "source": [
    "predicted_craw=med_pred\n",
    "predicted_craw"
   ]
  },
  {
   "cell_type": "code",
   "execution_count": 405,
   "metadata": {
    "collapsed": false
   },
   "outputs": [
    {
     "data": {
      "text/plain": [
       "array([2, 2, 2, 2, 2, 2, 2, 2, 2, 2, 2, 2, 2, 2, 2, 2, 2, 2, 2, 2, 2, 2, 2,\n",
       "       2, 2, 2, 2, 2, 2, 2, 2, 2, 2, 2, 2, 2, 2, 2, 2, 3, 2, 2, 2, 8, 8, 8,\n",
       "       8, 6, 6, 6, 6, 6, 6, 4, 4, 4, 4, 4, 4, 4, 4, 4, 6, 6, 6, 6, 6, 6, 6,\n",
       "       6, 6, 8, 8, 8, 8, 8, 8, 8, 8, 8, 8, 8, 8, 8, 8, 8, 8, 8, 8, 8, 6, 6,\n",
       "       6, 6, 6, 6, 6, 6, 6, 6, 6, 6, 4, 4, 4, 4, 6, 6, 6, 6, 6, 6, 6, 6, 6,\n",
       "       6, 6, 6, 6, 6, 2, 2, 2, 2, 2, 2, 2, 2, 2, 2, 2, 2, 2, 2, 2, 2, 2, 2,\n",
       "       2, 2, 2, 2, 2, 2, 2, 2, 2, 2, 2, 2, 8, 8, 8, 8, 8, 8, 8, 8, 8, 8, 8,\n",
       "       8, 8, 6, 7, 6, 6, 6, 6, 6, 6, 6, 6, 6, 6, 6, 6, 6, 6, 6, 6, 8, 2, 2,\n",
       "       2, 3, 3, 3, 3, 3, 3, 2, 2, 2, 2, 3, 3, 3, 3, 3, 8, 8, 8, 8, 8, 8, 8,\n",
       "       8, 8, 8, 8, 8, 8, 8, 8, 8, 8, 8, 8, 8, 8, 8, 8, 6, 6, 6, 6, 2, 2, 2,\n",
       "       3, 3, 3, 2, 2, 2, 2, 2, 2, 2, 2, 2, 2, 2, 2, 2, 2, 2, 2, 8, 8, 8, 8,\n",
       "       8, 8, 8, 8, 6, 6, 2, 2, 2, 2, 2, 2, 2, 2, 2, 2, 2, 2, 2, 2, 2, 2, 3,\n",
       "       3, 3, 8, 8, 8, 8, 8, 8, 8, 8, 8, 8, 8, 6, 8, 3, 3, 3, 3, 8, 8, 8, 8,\n",
       "       8, 8, 8, 8, 8, 8, 8, 7, 7, 4, 7, 8, 8, 8, 6, 6, 8, 8, 8, 8, 8, 8, 9,\n",
       "       9, 8, 8, 8, 8, 8, 8, 6, 6, 6, 6, 6, 2, 3, 3, 3, 3, 3, 3, 3, 3, 3, 3,\n",
       "       3, 3, 3, 3, 3, 3, 3, 2, 2, 2, 2, 2, 2, 2, 2, 2, 2, 2, 2, 2, 2, 2, 2,\n",
       "       2, 3, 3, 3, 2, 8, 8, 8, 8, 8, 8, 8, 8, 8, 8, 8, 8, 8, 8, 8, 8, 8, 8,\n",
       "       8, 8, 8, 8, 6, 6, 6, 6, 6, 6, 6, 8, 8, 8, 8, 6, 6, 6, 6, 6, 6, 6, 6,\n",
       "       6, 6, 6, 6, 6, 6, 6, 6, 6, 6, 6, 6, 6, 6, 6, 6, 6, 6, 6, 6, 6, 6, 6,\n",
       "       6, 6, 6, 6, 8, 8, 6, 8, 6, 6, 6, 8, 6, 6, 8, 8, 8, 8, 8, 8, 8, 8, 8,\n",
       "       8, 4, 4, 4, 4, 4, 4, 4, 4, 4, 4, 4, 4, 4])"
      ]
     },
     "execution_count": 405,
     "metadata": {},
     "output_type": "execute_result"
    }
   ],
   "source": [
    "predicted_stu=med_pred\n",
    "predicted_stu"
   ]
  },
  {
   "cell_type": "code",
   "execution_count": null,
   "metadata": {
    "collapsed": false
   },
   "outputs": [],
   "source": []
  },
  {
   "cell_type": "code",
   "execution_count": null,
   "metadata": {
    "collapsed": true
   },
   "outputs": [],
   "source": []
  },
  {
   "cell_type": "code",
   "execution_count": null,
   "metadata": {
    "collapsed": true
   },
   "outputs": [],
   "source": []
  },
  {
   "cell_type": "code",
   "execution_count": null,
   "metadata": {
    "collapsed": true
   },
   "outputs": [],
   "source": []
  }
 ],
 "metadata": {
  "anaconda-cloud": {},
  "kernelspec": {
   "display_name": "Python [default]",
   "language": "python",
   "name": "python2"
  },
  "language_info": {
   "codemirror_mode": {
    "name": "ipython",
    "version": 2
   },
   "file_extension": ".py",
   "mimetype": "text/x-python",
   "name": "python",
   "nbconvert_exporter": "python",
   "pygments_lexer": "ipython2",
   "version": "2.7.12"
  }
 },
 "nbformat": 4,
 "nbformat_minor": 1
}
