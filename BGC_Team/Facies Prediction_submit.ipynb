{
 "cells": [
  {
   "cell_type": "markdown",
   "metadata": {},
   "source": [
    "# Facies Classification Solution By Team_BGC"
   ]
  },
  {
   "cell_type": "markdown",
   "metadata": {},
   "source": [
    "Cheolkyun Jeong and Ping Zhang From Team_BGC"
   ]
  },
  {
   "cell_type": "markdown",
   "metadata": {},
   "source": [
    "## Import Header"
   ]
  },
  {
   "cell_type": "code",
   "execution_count": 1,
   "metadata": {
    "collapsed": false
   },
   "outputs": [],
   "source": [
    "##### import basic function\n",
    "import numpy as np\n",
    "import pandas as pd\n",
    "import matplotlib.pyplot as plt\n",
    "import seaborn as sns\n",
    "%matplotlib inline\n",
    "##### import stuff from scikit learn\n",
    "from sklearn.ensemble import RandomForestClassifier\n",
    "from sklearn.model_selection import KFold, cross_val_score,LeavePGroupsOut, LeaveOneGroupOut, cross_val_predict\n",
    "from sklearn.metrics import confusion_matrix, make_scorer, f1_score, accuracy_score, recall_score, precision_score"
   ]
  },
  {
   "cell_type": "markdown",
   "metadata": {},
   "source": [
    "## 1. Data Prepocessing\n",
    "\n",
    "1) Filtered data preparation\n",
    "\n",
    "After the initial data validation, we figure out the NM_M input is a key differentiator to group non-marine stones (sandstone, c_siltstone, and f_siltstone) and marine stones (marine_silt_shale, mudstone, wakestone, dolomite, packstone, and bafflestone) in the current field. Our team decides to use this classifier aggressively and prepare a filtered dataset which cleans up the outliers."
   ]
  },
  {
   "cell_type": "code",
   "execution_count": 2,
   "metadata": {
    "collapsed": false
   },
   "outputs": [],
   "source": [
    "# Input file paths\n",
    "facies_vector_path = 'facies_vectors.csv'\n",
    "train_path = 'training_data.csv'\n",
    "test_path = 'validation_data_nofacies.csv'\n",
    "# Read training data to dataframe\n",
    "training_data = pd.read_csv(train_path)"
   ]
  },
  {
   "cell_type": "code",
   "execution_count": 3,
   "metadata": {
    "collapsed": false
   },
   "outputs": [
    {
     "name": "stdout",
     "output_type": "stream",
     "text": [
      "(3179, 12)\n"
     ]
    }
   ],
   "source": [
    "# 1=sandstone  2=c_siltstone   3=f_siltstone # 4=marine_silt_shale \n",
    "#5=mudstone 6=wackestone 7=dolomite 8=packstone 9=bafflestone\n",
    "facies_colors = ['#F4D03F', '#F5B041', '#DC7633','#A569BD',\n",
    "       '#000000', '#000080', '#2E86C1', '#AED6F1', '#196F3D']\n",
    "\n",
    "facies_labels = ['SS', 'CSiS', 'FSiS', 'SiSh', 'MS',\n",
    "                 'WS', 'D','PS', 'BS']\n",
    "#facies_color_map is a dictionary that maps facies labels\n",
    "#to their respective colors\n",
    "facies_color_map = {}\n",
    "for ind, label in enumerate(facies_labels):\n",
    "    facies_color_map[label] = facies_colors[ind]\n",
    "\n",
    "def label_facies(row, labels):\n",
    "    return labels[ row['Facies'] -1]\n",
    "    \n",
    "training_data.loc[:,'FaciesLabels'] = training_data.apply(lambda row: label_facies(row, facies_labels), axis=1)\n",
    "training_data.describe()\n",
    "\n",
    "# Fitering out some outliers\n",
    "j = []\n",
    "for i in range(len(training_data)):\n",
    "    if ((training_data['NM_M'].values[i]==2)and ((training_data['Facies'].values[i]==1)or(training_data['Facies'].values[i]==2)or(training_data['Facies'].values[i]==3))):\n",
    "        j.append(i)\n",
    "    elif((training_data['NM_M'].values[i]==1)and((training_data['Facies'].values[i]!=1)and(training_data['Facies'].values[i]!=2)and(training_data['Facies'].values[i]!=3))):\n",
    "        j.append(i)\n",
    "\n",
    "training_data_filtered = training_data.drop(training_data.index[j])\n",
    "\n",
    "print(np.shape(training_data_filtered))\n"
   ]
  },
  {
   "cell_type": "markdown",
   "metadata": {},
   "source": [
    "## 2. Feature Selection"
   ]
  },
  {
   "cell_type": "markdown",
   "metadata": {},
   "source": [
    "Log Plot of Facies"
   ]
  },
  {
   "cell_type": "markdown",
   "metadata": {},
   "source": [
    "### Filtered Data"
   ]
  },
  {
   "cell_type": "code",
   "execution_count": 4,
   "metadata": {
    "collapsed": false
   },
   "outputs": [
    {
     "data": {
      "text/plain": [
       "SS      259\n",
       "CSiS    732\n",
       "FSiS    599\n",
       "SiSh    179\n",
       "MS      206\n",
       "WS      460\n",
       "D        97\n",
       "PS      486\n",
       "BS      161\n",
       "Name: Facies, dtype: int64"
      ]
     },
     "execution_count": 4,
     "metadata": {},
     "output_type": "execute_result"
    },
    {
     "data": {
      "image/png": "[encoded data removed]",
      "text/plain": [
       "<matplotlib.figure.Figure at 0xb8e6828>"
      ]
     },
     "metadata": {},
     "output_type": "display_data"
    }
   ],
   "source": [
    "#count the number of unique entries for each facies, sort them by\n",
    "#facies number (instead of by number of entries)\n",
    "facies_counts_filtered = training_data_filtered['Facies'].value_counts().sort_index()\n",
    "#use facies labels to index each count\n",
    "facies_counts_filtered.index = facies_labels\n",
    "\n",
    "facies_counts_filtered.plot(kind='bar',color=facies_colors, \n",
    "                   title='Distribution of Filtered Training Data by Facies')\n",
    "#facies_counts_filtered\n",
    "training_data_filtered.columns\n",
    "\n",
    "facies_counts_filtered"
   ]
  },
  {
   "cell_type": "markdown",
   "metadata": {},
   "source": [
    "### Filtered facies"
   ]
  },
  {
   "cell_type": "code",
   "execution_count": 5,
   "metadata": {
    "collapsed": false
   },
   "outputs": [
    {
     "data": {
      "text/html": [
       "<div>\n",
       "<table border=\"1\" class=\"dataframe\">\n",
       "  <thead>\n",
       "    <tr style=\"text-align: right;\">\n",
       "      <th></th>\n",
       "      <th>GR</th>\n",
       "      <th>ILD_log10</th>\n",
       "      <th>DeltaPHI</th>\n",
       "      <th>PHIND</th>\n",
       "      <th>PE</th>\n",
       "      <th>NM_M</th>\n",
       "      <th>RELPOS</th>\n",
       "    </tr>\n",
       "  </thead>\n",
       "  <tbody>\n",
       "    <tr>\n",
       "      <th>count</th>\n",
       "      <td>3179.000000</td>\n",
       "      <td>3179.000000</td>\n",
       "      <td>3179.000000</td>\n",
       "      <td>3179.000000</td>\n",
       "      <td>3179.000000</td>\n",
       "      <td>3179.000000</td>\n",
       "      <td>3179.000000</td>\n",
       "    </tr>\n",
       "    <tr>\n",
       "      <th>mean</th>\n",
       "      <td>65.975960</td>\n",
       "      <td>0.643302</td>\n",
       "      <td>3.620791</td>\n",
       "      <td>13.396139</td>\n",
       "      <td>3.733593</td>\n",
       "      <td>1.499843</td>\n",
       "      <td>0.523636</td>\n",
       "    </tr>\n",
       "    <tr>\n",
       "      <th>std</th>\n",
       "      <td>30.781949</td>\n",
       "      <td>0.242851</td>\n",
       "      <td>5.161355</td>\n",
       "      <td>7.670558</td>\n",
       "      <td>0.897148</td>\n",
       "      <td>0.500079</td>\n",
       "      <td>0.283774</td>\n",
       "    </tr>\n",
       "    <tr>\n",
       "      <th>min</th>\n",
       "      <td>13.250000</td>\n",
       "      <td>-0.025949</td>\n",
       "      <td>-21.832000</td>\n",
       "      <td>0.550000</td>\n",
       "      <td>0.200000</td>\n",
       "      <td>1.000000</td>\n",
       "      <td>0.010000</td>\n",
       "    </tr>\n",
       "    <tr>\n",
       "      <th>25%</th>\n",
       "      <td>46.724500</td>\n",
       "      <td>0.491000</td>\n",
       "      <td>1.200000</td>\n",
       "      <td>8.300000</td>\n",
       "      <td>3.101000</td>\n",
       "      <td>1.000000</td>\n",
       "      <td>0.281500</td>\n",
       "    </tr>\n",
       "    <tr>\n",
       "      <th>50%</th>\n",
       "      <td>65.671000</td>\n",
       "      <td>0.624000</td>\n",
       "      <td>3.500000</td>\n",
       "      <td>12.065000</td>\n",
       "      <td>3.586000</td>\n",
       "      <td>1.000000</td>\n",
       "      <td>0.529000</td>\n",
       "    </tr>\n",
       "    <tr>\n",
       "      <th>75%</th>\n",
       "      <td>79.612500</td>\n",
       "      <td>0.816500</td>\n",
       "      <td>6.471500</td>\n",
       "      <td>16.328000</td>\n",
       "      <td>4.300000</td>\n",
       "      <td>2.000000</td>\n",
       "      <td>0.767000</td>\n",
       "    </tr>\n",
       "    <tr>\n",
       "      <th>max</th>\n",
       "      <td>361.150000</td>\n",
       "      <td>1.480000</td>\n",
       "      <td>18.600000</td>\n",
       "      <td>84.400000</td>\n",
       "      <td>8.094000</td>\n",
       "      <td>2.000000</td>\n",
       "      <td>1.000000</td>\n",
       "    </tr>\n",
       "  </tbody>\n",
       "</table>\n",
       "</div>"
      ],
      "text/plain": [
       "                GR    ILD_log10     DeltaPHI        PHIND           PE  \\\n",
       "count  3179.000000  3179.000000  3179.000000  3179.000000  3179.000000   \n",
       "mean     65.975960     0.643302     3.620791    13.396139     3.733593   \n",
       "std      30.781949     0.242851     5.161355     7.670558     0.897148   \n",
       "min      13.250000    -0.025949   -21.832000     0.550000     0.200000   \n",
       "25%      46.724500     0.491000     1.200000     8.300000     3.101000   \n",
       "50%      65.671000     0.624000     3.500000    12.065000     3.586000   \n",
       "75%      79.612500     0.816500     6.471500    16.328000     4.300000   \n",
       "max     361.150000     1.480000    18.600000    84.400000     8.094000   \n",
       "\n",
       "              NM_M       RELPOS  \n",
       "count  3179.000000  3179.000000  \n",
       "mean      1.499843     0.523636  \n",
       "std       0.500079     0.283774  \n",
       "min       1.000000     0.010000  \n",
       "25%       1.000000     0.281500  \n",
       "50%       1.000000     0.529000  \n",
       "75%       2.000000     0.767000  \n",
       "max       2.000000     1.000000  "
      ]
     },
     "execution_count": 5,
     "metadata": {},
     "output_type": "execute_result"
    }
   ],
   "source": [
    "correct_facies_labels_filtered = training_data_filtered['Facies'].values\n",
    "feature_vectors_filtered = training_data_filtered.drop(['Formation', 'Well Name', 'Depth','Facies','FaciesLabels'], axis=1)\n",
    "feature_vectors_filtered.describe()"
   ]
  },
  {
   "cell_type": "code",
   "execution_count": 6,
   "metadata": {
    "collapsed": false
   },
   "outputs": [],
   "source": [
    "from sklearn import preprocessing\n",
    "scaler_filtered = preprocessing.StandardScaler().fit(feature_vectors_filtered)\n",
    "scaled_features_filtered = scaler_filtered.transform(feature_vectors_filtered)"
   ]
  },
  {
   "cell_type": "code",
   "execution_count": 108,
   "metadata": {
    "collapsed": false
   },
   "outputs": [],
   "source": [
    "from sklearn.cross_validation import train_test_split\n",
    "\n",
    "X_train_filtered, X_test_filtered, y_train_filtered, y_test_filtered = train_test_split(\n",
    "        scaled_features_filtered, correct_facies_labels_filtered, test_size=0.3, random_state=16)"
   ]
  },
  {
   "cell_type": "code",
   "execution_count": 98,
   "metadata": {
    "collapsed": false
   },
   "outputs": [],
   "source": [
    "X_train_full, X_test_zero, y_train_full, y_test_full = train_test_split(\n",
    "        scaled_features_filtered, correct_facies_labels_filtered, test_size=0.0, random_state=42)"
   ]
  },
  {
   "cell_type": "markdown",
   "metadata": {},
   "source": [
    "## 3. Prediction Model"
   ]
  },
  {
   "cell_type": "markdown",
   "metadata": {},
   "source": [
    "Accuracy"
   ]
  },
  {
   "cell_type": "code",
   "execution_count": 80,
   "metadata": {
    "collapsed": true
   },
   "outputs": [],
   "source": [
    "def accuracy(conf):\n",
    "    total_correct = 0.\n",
    "    nb_classes = conf.shape[0]\n",
    "    for i in np.arange(0,nb_classes):\n",
    "        total_correct += conf[i][i]\n",
    "    acc = total_correct/sum(sum(conf))\n",
    "    return acc"
   ]
  },
  {
   "cell_type": "code",
   "execution_count": 81,
   "metadata": {
    "collapsed": false
   },
   "outputs": [],
   "source": [
    "adjacent_facies = np.array([[1], [0,2], [1], [4], [3,5], [4,6,7], [5,7], [5,6,8], [6,7]])\n",
    "\n",
    "def accuracy_adjacent(conf, adjacent_facies):\n",
    "    nb_classes = conf.shape[0]\n",
    "    total_correct = 0.\n",
    "    for i in np.arange(0,nb_classes):\n",
    "        total_correct += conf[i][i]\n",
    "        for j in adjacent_facies[i]:\n",
    "            total_correct += conf[i][j]\n",
    "    return total_correct / sum(sum(conf))"
   ]
  },
  {
   "cell_type": "markdown",
   "metadata": {},
   "source": [
    "SVM"
   ]
  },
  {
   "cell_type": "code",
   "execution_count": 82,
   "metadata": {
    "collapsed": false
   },
   "outputs": [],
   "source": [
    "from sklearn.model_selection import KFold, cross_val_score,LeavePGroupsOut, LeaveOneGroupOut, cross_val_predict\n",
    "from classification_utilities import display_cm, display_adj_cm"
   ]
  },
  {
   "cell_type": "code",
   "execution_count": 83,
   "metadata": {
    "collapsed": false
   },
   "outputs": [],
   "source": [
    "from sklearn import svm\n",
    "clf_filtered = svm.LinearSVC(random_state=23) "
   ]
  },
  {
   "cell_type": "code",
   "execution_count": 84,
   "metadata": {
    "collapsed": false
   },
   "outputs": [
    {
     "data": {
      "text/plain": [
       "LinearSVC(C=1.0, class_weight=None, dual=True, fit_intercept=True,\n",
       "     intercept_scaling=1, loss='squared_hinge', max_iter=1000,\n",
       "     multi_class='ovr', penalty='l2', random_state=23, tol=0.0001,\n",
       "     verbose=0)"
      ]
     },
     "execution_count": 84,
     "metadata": {},
     "output_type": "execute_result"
    }
   ],
   "source": [
    "clf_filtered.fit(X_train_filtered, y_train_filtered)"
   ]
  },
  {
   "cell_type": "code",
   "execution_count": 85,
   "metadata": {
    "collapsed": false
   },
   "outputs": [],
   "source": [
    "predicted_labels_filtered = clf_filtered.predict(X_test_filtered)"
   ]
  },
  {
   "cell_type": "markdown",
   "metadata": {},
   "source": [
    "SVM for filtered data model"
   ]
  },
  {
   "cell_type": "code",
   "execution_count": 86,
   "metadata": {
    "collapsed": false
   },
   "outputs": [
    {
     "name": "stdout",
     "output_type": "stream",
     "text": [
      "     Pred    SS  CSiS  FSiS  SiSh    MS    WS     D    PS    BS Total\n",
      "     True\n",
      "       SS    33    19                                              52\n",
      "     CSiS    29   128    28                                       185\n",
      "     FSiS     4    61    87                                       152\n",
      "     SiSh                      20     1    14     3     3          41\n",
      "       MS                       4     1    23     2    15          45\n",
      "       WS                       9          95     4    26     2   136\n",
      "        D                       3           1     8    10          22\n",
      "       PS                       2     1    31     1    80     4   119\n",
      "       BS                       3           2          14    24    43\n",
      "\n",
      "Precision  0.50  0.62  0.76  0.49  0.33  0.57  0.44  0.54  0.80  0.60\n",
      "   Recall  0.63  0.69  0.57  0.49  0.02  0.70  0.36  0.67  0.56  0.60\n",
      "       F1  0.56  0.65  0.65  0.49  0.04  0.63  0.40  0.60  0.66  0.58\n"
     ]
    }
   ],
   "source": [
    "conf_filtered = confusion_matrix(y_test_filtered, predicted_labels_filtered)\n",
    "display_cm(conf_filtered, facies_labels, display_metrics=True, hide_zeros=True)"
   ]
  },
  {
   "cell_type": "code",
   "execution_count": 87,
   "metadata": {
    "collapsed": false
   },
   "outputs": [
    {
     "name": "stdout",
     "output_type": "stream",
     "text": [
      "Facies classification filtered accuracy = 0.598742\n",
      "Adjacent facies classification filtered accuracy = 0.920755\n"
     ]
    }
   ],
   "source": [
    "print('Facies classification filtered accuracy = %f' % accuracy(conf_filtered))\n",
    "print('Adjacent facies classification filtered accuracy = %f' % accuracy_adjacent(conf_filtered, adjacent_facies))"
   ]
  },
  {
   "cell_type": "markdown",
   "metadata": {},
   "source": [
    "Model Solution for select parameter"
   ]
  },
  {
   "cell_type": "code",
   "execution_count": 88,
   "metadata": {
    "collapsed": false,
    "scrolled": true
   },
   "outputs": [
    {
     "data": {
      "image/png": "[encoded data removed]",
      "text/plain": [
       "<matplotlib.figure.Figure at 0xe7e3668>"
      ]
     },
     "metadata": {},
     "output_type": "display_data"
    }
   ],
   "source": [
    "do_model_selection = True\n",
    "\n",
    "if do_model_selection:\n",
    "    C_range = np.array([.01, 1, 5, 10, 20, 50, 100, 1000, 5000, 10000])\n",
    "    gamma_range = np.array([0.0001, 0.001, 0.01, 0.1, 1, 10])\n",
    "    \n",
    "    fig, axes = plt.subplots(3, 2, \n",
    "                        sharex='col', sharey='row',figsize=(10,10))\n",
    "    plot_number = 0\n",
    "    for outer_ind, gamma_value in enumerate(gamma_range):\n",
    "        row = int(plot_number / 2)\n",
    "        column = int(plot_number % 2)\n",
    "        cv_errors = np.zeros(C_range.shape)\n",
    "        train_errors = np.zeros(C_range.shape)\n",
    "        for index, c_value in enumerate(C_range):\n",
    "            \n",
    "            clf_filtered = svm.SVC(C=c_value, gamma=gamma_value)\n",
    "            clf_filtered.fit(X_train_filtered,y_train_filtered)\n",
    "            \n",
    "            train_conf_filtered = confusion_matrix(y_train_filtered, clf_filtered.predict(X_train_filtered))\n",
    "            cv_conf_filtered = confusion_matrix(y_test_filtered, clf_filtered.predict(X_test_filtered))\n",
    "        \n",
    "            cv_errors[index] = accuracy(cv_conf_filtered)\n",
    "            train_errors[index] = accuracy(train_conf_filtered)\n",
    "\n",
    "        ax = axes[row, column]\n",
    "        ax.set_title('Gamma = %g'%gamma_value)\n",
    "        ax.semilogx(C_range, cv_errors, label='CV error')\n",
    "        ax.semilogx(C_range, train_errors, label='Train error')\n",
    "        plot_number += 1\n",
    "        ax.set_ylim([0.2,1])\n",
    "        \n",
    "    ax.legend(bbox_to_anchor=(1.05, 0), loc='lower left', borderaxespad=0.)\n",
    "    fig.text(0.5, 0.03, 'C value', ha='center',\n",
    "             fontsize=14)\n",
    "             \n",
    "    fig.text(0.04, 0.5, 'Classification Accuracy', va='center', \n",
    "             rotation='vertical', fontsize=14)"
   ]
  },
  {
   "cell_type": "markdown",
   "metadata": {},
   "source": [
    "SVM using optimized parameter for filtered data model"
   ]
  },
  {
   "cell_type": "code",
   "execution_count": 89,
   "metadata": {
    "collapsed": false
   },
   "outputs": [
    {
     "name": "stdout",
     "output_type": "stream",
     "text": [
      "Optimized facies classification filtered accuracy = 0.76\n",
      "Optimized adjacent facies classification filtered accuracy = 0.96\n"
     ]
    }
   ],
   "source": [
    "#clf_filtered = svm.LinearSVC(class_weight='balanced', tol=1e-03, random_state=42)        \n",
    "clf_filtered = svm.SVC(C=10, gamma=1)\n",
    "clf_filtered.fit(X_train_filtered, y_train_filtered)\n",
    "\n",
    "cv_conf_filtered = confusion_matrix(y_test_filtered, clf_filtered.predict(X_test_filtered))\n",
    "\n",
    "print('Optimized facies classification filtered accuracy = %.2f' % accuracy(cv_conf_filtered))\n",
    "print('Optimized adjacent facies classification filtered accuracy = %.2f' % accuracy_adjacent(cv_conf_filtered, adjacent_facies))"
   ]
  },
  {
   "cell_type": "code",
   "execution_count": 90,
   "metadata": {
    "collapsed": false,
    "scrolled": true
   },
   "outputs": [
    {
     "name": "stdout",
     "output_type": "stream",
     "text": [
      "     Pred    SS  CSiS  FSiS  SiSh    MS    WS     D    PS    BS Total\n",
      "     True\n",
      "       SS    39    12     1                                        52\n",
      "     CSiS    15   150    20                                       185\n",
      "     FSiS     7    43   102                                       152\n",
      "     SiSh                      39                       2          41\n",
      "       MS                       5    31     5     1     3          45\n",
      "       WS                       7    10    97     2    19     1   136\n",
      "        D                       1     1          16     3     1    22\n",
      "       PS                       1     5    15     3    93     2   119\n",
      "       BS                                   1     3     5    34    43\n",
      "\n",
      "Precision  0.64  0.73  0.83  0.74  0.66  0.82  0.64  0.74  0.89  0.76\n",
      "   Recall  0.75  0.81  0.67  0.95  0.69  0.71  0.73  0.78  0.79  0.76\n",
      "       F1  0.69  0.77  0.74  0.83  0.67  0.76  0.68  0.76  0.84  0.76\n"
     ]
    }
   ],
   "source": [
    "display_cm(cv_conf_filtered, facies_labels, \n",
    "           display_metrics=True, hide_zeros=True)"
   ]
  },
  {
   "cell_type": "markdown",
   "metadata": {},
   "source": [
    "## 4. Result Analysis"
   ]
  },
  {
   "cell_type": "code",
   "execution_count": 115,
   "metadata": {
    "collapsed": false
   },
   "outputs": [],
   "source": [
    "well_data = pd.read_csv('validation_data_nofacies.csv')\n",
    "well_data['Well Name'] = well_data['Well Name'].astype('category')\n",
    "well_features = well_data.drop(['Formation', 'Well Name', 'Depth'], axis=1)"
   ]
  },
  {
   "cell_type": "code",
   "execution_count": 110,
   "metadata": {
    "collapsed": false
   },
   "outputs": [],
   "source": [
    "X_unknown = scaler_filtered.transform(well_features)\n",
    "\n",
    "# Using all data and optimize parameter to train the data\n",
    "clf_filtered = svm.SVC(C=10, gamma=1)\n",
    "clf_filtered.fit(X_train_full, y_train_full)\n",
    "#clf_filtered.fit(X_train_filtered, y_train_filtered)\n",
    "y_unknown = clf_filtered.predict(X_unknown)\n",
    "well_data['Facies'] = y_unknown\n",
    "well_data\n",
    "well_data.to_csv('predict_result.csv')"
   ]
  },
  {
   "cell_type": "markdown",
   "metadata": {},
   "source": [
    "## 5. Using Tensorflow"
   ]
  },
  {
   "cell_type": "markdown",
   "metadata": {},
   "source": [
    "Filtered Data Model"
   ]
  },
  {
   "cell_type": "code",
   "execution_count": 112,
   "metadata": {
    "collapsed": false
   },
   "outputs": [
    {
     "name": "stdout",
     "output_type": "stream",
     "text": [
      "WARNING:tensorflow:Using temporary folder as model directory: C:\\Users\\PZhang7\\AppData\\Local\\Temp\\tmpn801ljw_\n",
      "INFO:tensorflow:Using default config.\n",
      "INFO:tensorflow:Using config: {'tf_random_seed': None, '_num_ps_replicas': 0, 'keep_checkpoint_max': 5, 'keep_checkpoint_every_n_hours': 10000, 'tf_config': gpu_options {\n",
      "  per_process_gpu_memory_fraction: 1\n",
      "}\n",
      ", 'save_checkpoints_secs': 600, '_task_id': 0, '_is_chief': True, '_task_type': None, 'save_summary_steps': 100, '_evaluation_master': '', '_master': '', '_environment': 'local', 'save_checkpoints_steps': None, '_cluster_spec': <tensorflow.python.training.server_lib.ClusterSpec object at 0x0000000011475A90>}\n",
      "WARNING:tensorflow:From E:\\Software\\Machine Learning Kit\\Anaconda\\lib\\site-packages\\tensorflow\\contrib\\learn\\python\\learn\\estimators\\dnn.py:315 in fit.: calling BaseEstimator.fit (from tensorflow.contrib.learn.python.learn.estimators.estimator) with x is deprecated and will be removed after 2016-12-01.\n",
      "Instructions for updating:\n",
      "Estimator is decoupled from Scikit Learn interface by moving into\n",
      "separate class SKCompat. Arguments x, y and batch_size are only\n",
      "available in the SKCompat class, Estimator will only accept input_fn.\n",
      "Example conversion:\n",
      "  est = Estimator(...) -> est = SKCompat(Estimator(...))\n",
      "WARNING:tensorflow:From E:\\Software\\Machine Learning Kit\\Anaconda\\lib\\site-packages\\tensorflow\\contrib\\learn\\python\\learn\\estimators\\dnn.py:315 in fit.: calling BaseEstimator.fit (from tensorflow.contrib.learn.python.learn.estimators.estimator) with y is deprecated and will be removed after 2016-12-01.\n",
      "Instructions for updating:\n",
      "Estimator is decoupled from Scikit Learn interface by moving into\n",
      "separate class SKCompat. Arguments x, y and batch_size are only\n",
      "available in the SKCompat class, Estimator will only accept input_fn.\n",
      "Example conversion:\n",
      "  est = Estimator(...) -> est = SKCompat(Estimator(...))\n",
      "WARNING:tensorflow:From E:\\Software\\Machine Learning Kit\\Anaconda\\lib\\site-packages\\tensorflow\\contrib\\learn\\python\\learn\\estimators\\dnn.py:315 in fit.: calling BaseEstimator.fit (from tensorflow.contrib.learn.python.learn.estimators.estimator) with batch_size is deprecated and will be removed after 2016-12-01.\n",
      "Instructions for updating:\n",
      "Estimator is decoupled from Scikit Learn interface by moving into\n",
      "separate class SKCompat. Arguments x, y and batch_size are only\n",
      "available in the SKCompat class, Estimator will only accept input_fn.\n",
      "Example conversion:\n",
      "  est = Estimator(...) -> est = SKCompat(Estimator(...))\n",
      "WARNING:tensorflow:float64 is not supported by many models, consider casting to float32.\n",
      "INFO:tensorflow:Summary name dnn/hiddenlayer_0:fraction_of_zero_values is illegal; using dnn/hiddenlayer_0_fraction_of_zero_values instead.\n",
      "INFO:tensorflow:Summary name dnn/hiddenlayer_0:activation is illegal; using dnn/hiddenlayer_0_activation instead.\n",
      "INFO:tensorflow:Summary name dnn/hiddenlayer_1:fraction_of_zero_values is illegal; using dnn/hiddenlayer_1_fraction_of_zero_values instead.\n",
      "INFO:tensorflow:Summary name dnn/hiddenlayer_1:activation is illegal; using dnn/hiddenlayer_1_activation instead.\n",
      "INFO:tensorflow:Summary name dnn/hiddenlayer_2:fraction_of_zero_values is illegal; using dnn/hiddenlayer_2_fraction_of_zero_values instead.\n",
      "INFO:tensorflow:Summary name dnn/hiddenlayer_2:activation is illegal; using dnn/hiddenlayer_2_activation instead.\n",
      "INFO:tensorflow:Summary name dnn/logits:fraction_of_zero_values is illegal; using dnn/logits_fraction_of_zero_values instead.\n",
      "INFO:tensorflow:Summary name dnn/logits:activation is illegal; using dnn/logits_activation instead.\n",
      "INFO:tensorflow:Create CheckpointSaverHook.\n",
      "INFO:tensorflow:step = 1, loss = 2.28032\n",
      "INFO:tensorflow:Saving checkpoints for 1 into C:\\Users\\PZhang7\\AppData\\Local\\Temp\\tmpn801ljw_\\model.ckpt.\n",
      "WARNING:tensorflow:*******************************************************\n",
      "WARNING:tensorflow:TensorFlow's V1 checkpoint format has been deprecated.\n",
      "WARNING:tensorflow:Consider switching to the more efficient V2 format:\n",
      "WARNING:tensorflow:   `tf.train.Saver(write_version=tf.train.SaverDef.V2)`\n",
      "WARNING:tensorflow:now on by default.\n",
      "WARNING:tensorflow:*******************************************************\n",
      "INFO:tensorflow:step = 101, loss = 1.1507\n",
      "INFO:tensorflow:global_step/sec: 24.1814\n",
      "INFO:tensorflow:step = 201, loss = 1.02948\n",
      "INFO:tensorflow:global_step/sec: 37.2958\n",
      "INFO:tensorflow:step = 301, loss = 0.962857\n",
      "INFO:tensorflow:global_step/sec: 37.4916\n",
      "INFO:tensorflow:step = 401, loss = 0.936229\n",
      "INFO:tensorflow:global_step/sec: 37.1848\n",
      "INFO:tensorflow:step = 501, loss = 0.922587\n",
      "INFO:tensorflow:global_step/sec: 36.8967\n",
      "INFO:tensorflow:step = 601, loss = 0.913591\n",
      "INFO:tensorflow:global_step/sec: 37.6468\n",
      "INFO:tensorflow:step = 701, loss = 0.906156\n",
      "INFO:tensorflow:global_step/sec: 37.5902\n",
      "INFO:tensorflow:step = 801, loss = 0.897204\n",
      "INFO:tensorflow:global_step/sec: 37.4494\n",
      "INFO:tensorflow:step = 901, loss = 0.889759\n",
      "INFO:tensorflow:global_step/sec: 35.3571\n",
      "INFO:tensorflow:step = 1001, loss = 0.882526\n",
      "INFO:tensorflow:global_step/sec: 36.36\n",
      "INFO:tensorflow:step = 1101, loss = 0.874825\n",
      "INFO:tensorflow:global_step/sec: 36.5461\n",
      "INFO:tensorflow:step = 1201, loss = 0.868583\n",
      "INFO:tensorflow:global_step/sec: 31.7832\n",
      "INFO:tensorflow:step = 1301, loss = 0.863051\n",
      "INFO:tensorflow:global_step/sec: 36.734\n",
      "INFO:tensorflow:step = 1401, loss = 0.859442\n",
      "INFO:tensorflow:global_step/sec: 36.2677\n",
      "INFO:tensorflow:step = 1501, loss = 0.854154\n",
      "INFO:tensorflow:global_step/sec: 39.964\n",
      "INFO:tensorflow:step = 1601, loss = 0.848407\n",
      "INFO:tensorflow:global_step/sec: 49.7463\n",
      "INFO:tensorflow:step = 1701, loss = 0.844736\n",
      "INFO:tensorflow:global_step/sec: 50.3728\n",
      "INFO:tensorflow:step = 1801, loss = 0.840565\n",
      "INFO:tensorflow:global_step/sec: 58.9564\n",
      "INFO:tensorflow:step = 1901, loss = 0.837123\n",
      "INFO:tensorflow:global_step/sec: 59.4471\n",
      "INFO:tensorflow:step = 2001, loss = 0.835409\n",
      "INFO:tensorflow:global_step/sec: 67.0174\n",
      "INFO:tensorflow:step = 2101, loss = 0.831188\n",
      "INFO:tensorflow:global_step/sec: 74.1766\n",
      "INFO:tensorflow:step = 2201, loss = 0.827579\n",
      "INFO:tensorflow:global_step/sec: 72.8259\n",
      "INFO:tensorflow:step = 2301, loss = 0.824573\n",
      "INFO:tensorflow:global_step/sec: 75.2937\n",
      "INFO:tensorflow:step = 2401, loss = 0.819587\n",
      "INFO:tensorflow:global_step/sec: 80.5072\n",
      "INFO:tensorflow:step = 2501, loss = 0.816456\n",
      "INFO:tensorflow:global_step/sec: 83.0482\n",
      "INFO:tensorflow:step = 2601, loss = 0.811862\n",
      "INFO:tensorflow:global_step/sec: 85.0979\n",
      "INFO:tensorflow:step = 2701, loss = 0.80908\n",
      "INFO:tensorflow:global_step/sec: 80.7674\n",
      "INFO:tensorflow:step = 2801, loss = 0.805614\n",
      "INFO:tensorflow:global_step/sec: 86.3471\n",
      "INFO:tensorflow:step = 2901, loss = 0.803269\n",
      "INFO:tensorflow:global_step/sec: 90.9827\n",
      "INFO:tensorflow:step = 3001, loss = 0.799249\n",
      "INFO:tensorflow:global_step/sec: 88.0194\n",
      "INFO:tensorflow:step = 3101, loss = 0.796009\n",
      "INFO:tensorflow:global_step/sec: 96.4224\n",
      "INFO:tensorflow:step = 3201, loss = 0.792794\n",
      "INFO:tensorflow:global_step/sec: 101.307\n",
      "INFO:tensorflow:step = 3301, loss = 0.789645\n",
      "INFO:tensorflow:global_step/sec: 99.8901\n",
      "INFO:tensorflow:step = 3401, loss = 0.788525\n",
      "INFO:tensorflow:global_step/sec: 104.483\n",
      "INFO:tensorflow:step = 3501, loss = 0.784829\n",
      "INFO:tensorflow:global_step/sec: 109.279\n",
      "INFO:tensorflow:step = 3601, loss = 0.784122\n",
      "INFO:tensorflow:global_step/sec: 109.879\n",
      "INFO:tensorflow:step = 3701, loss = 0.779689\n",
      "INFO:tensorflow:global_step/sec: 114.667\n",
      "INFO:tensorflow:step = 3801, loss = 0.777716\n",
      "INFO:tensorflow:global_step/sec: 117.084\n",
      "INFO:tensorflow:step = 3901, loss = 0.774676\n",
      "INFO:tensorflow:global_step/sec: 149.239\n",
      "INFO:tensorflow:step = 4001, loss = 0.775256\n",
      "INFO:tensorflow:global_step/sec: 144.286\n",
      "INFO:tensorflow:step = 4101, loss = 0.772783\n",
      "INFO:tensorflow:global_step/sec: 147.261\n",
      "INFO:tensorflow:step = 4201, loss = 0.770553\n",
      "INFO:tensorflow:global_step/sec: 141.429\n",
      "INFO:tensorflow:step = 4301, loss = 0.768588\n",
      "INFO:tensorflow:global_step/sec: 147.261\n",
      "INFO:tensorflow:step = 4401, loss = 0.767277\n",
      "INFO:tensorflow:global_step/sec: 144.703\n",
      "INFO:tensorflow:step = 4501, loss = 0.766773\n",
      "INFO:tensorflow:global_step/sec: 142.031\n",
      "INFO:tensorflow:step = 4601, loss = 0.763314\n",
      "INFO:tensorflow:global_step/sec: 133.32\n",
      "INFO:tensorflow:step = 4701, loss = 0.761975\n",
      "INFO:tensorflow:global_step/sec: 139.651\n",
      "INFO:tensorflow:step = 4801, loss = 0.760658\n",
      "INFO:tensorflow:global_step/sec: 137.917\n",
      "INFO:tensorflow:step = 4901, loss = 0.759244\n",
      "INFO:tensorflow:global_step/sec: 137.917\n",
      "INFO:tensorflow:Saving checkpoints for 5000 into C:\\Users\\PZhang7\\AppData\\Local\\Temp\\tmpn801ljw_\\model.ckpt.\n",
      "WARNING:tensorflow:*******************************************************\n",
      "WARNING:tensorflow:TensorFlow's V1 checkpoint format has been deprecated.\n",
      "WARNING:tensorflow:Consider switching to the more efficient V2 format:\n",
      "WARNING:tensorflow:   `tf.train.Saver(write_version=tf.train.SaverDef.V2)`\n",
      "WARNING:tensorflow:now on by default.\n",
      "WARNING:tensorflow:*******************************************************\n",
      "INFO:tensorflow:Loss for final step: 0.757684.\n",
      "WARNING:tensorflow:From E:\\Software\\Machine Learning Kit\\Anaconda\\lib\\site-packages\\tensorflow\\contrib\\learn\\python\\learn\\estimators\\dnn.py:348 in predict.: calling BaseEstimator.predict (from tensorflow.contrib.learn.python.learn.estimators.estimator) with x is deprecated and will be removed after 2016-12-01.\n",
      "Instructions for updating:\n",
      "Estimator is decoupled from Scikit Learn interface by moving into\n",
      "separate class SKCompat. Arguments x, y and batch_size are only\n",
      "available in the SKCompat class, Estimator will only accept input_fn.\n",
      "Example conversion:\n",
      "  est = Estimator(...) -> est = SKCompat(Estimator(...))\n",
      "WARNING:tensorflow:From E:\\Software\\Machine Learning Kit\\Anaconda\\lib\\site-packages\\tensorflow\\contrib\\learn\\python\\learn\\estimators\\dnn.py:348 in predict.: calling BaseEstimator.predict (from tensorflow.contrib.learn.python.learn.estimators.estimator) with batch_size is deprecated and will be removed after 2016-12-01.\n",
      "Instructions for updating:\n",
      "Estimator is decoupled from Scikit Learn interface by moving into\n",
      "separate class SKCompat. Arguments x, y and batch_size are only\n",
      "available in the SKCompat class, Estimator will only accept input_fn.\n",
      "Example conversion:\n",
      "  est = Estimator(...) -> est = SKCompat(Estimator(...))\n",
      "WARNING:tensorflow:From E:\\Software\\Machine Learning Kit\\Anaconda\\lib\\site-packages\\tensorflow\\contrib\\learn\\python\\learn\\estimators\\dnn.py:348 in predict.: calling BaseEstimator.predict (from tensorflow.contrib.learn.python.learn.estimators.estimator) with as_iterable is deprecated and will be removed after 2016-12-01.\n",
      "Instructions for updating:\n",
      "Estimator is decoupled from Scikit Learn interface by moving into\n",
      "separate class SKCompat. Arguments x, y and batch_size are only\n",
      "available in the SKCompat class, Estimator will only accept input_fn.\n",
      "Example conversion:\n",
      "  est = Estimator(...) -> est = SKCompat(Estimator(...))\n",
      "WARNING:tensorflow:float64 is not supported by many models, consider casting to float32.\n",
      "INFO:tensorflow:Summary name dnn/hiddenlayer_0:fraction_of_zero_values is illegal; using dnn/hiddenlayer_0_fraction_of_zero_values instead.\n",
      "INFO:tensorflow:Summary name dnn/hiddenlayer_0:activation is illegal; using dnn/hiddenlayer_0_activation instead.\n",
      "INFO:tensorflow:Summary name dnn/hiddenlayer_1:fraction_of_zero_values is illegal; using dnn/hiddenlayer_1_fraction_of_zero_values instead.\n",
      "INFO:tensorflow:Summary name dnn/hiddenlayer_1:activation is illegal; using dnn/hiddenlayer_1_activation instead.\n",
      "INFO:tensorflow:Summary name dnn/hiddenlayer_2:fraction_of_zero_values is illegal; using dnn/hiddenlayer_2_fraction_of_zero_values instead.\n",
      "INFO:tensorflow:Summary name dnn/hiddenlayer_2:activation is illegal; using dnn/hiddenlayer_2_activation instead.\n",
      "INFO:tensorflow:Summary name dnn/logits:fraction_of_zero_values is illegal; using dnn/logits_fraction_of_zero_values instead.\n",
      "INFO:tensorflow:Summary name dnn/logits:activation is illegal; using dnn/logits_activation instead.\n",
      "INFO:tensorflow:Loading model from checkpoint: C:\\Users\\PZhang7\\AppData\\Local\\Temp\\tmpn801ljw_\\model.ckpt-5000-?????-of-00001.\n",
      "WARNING:tensorflow:From E:\\Software\\Machine Learning Kit\\Anaconda\\lib\\site-packages\\tensorflow\\contrib\\learn\\python\\learn\\estimators\\dnn.py:323 in evaluate.: calling BaseEstimator.evaluate (from tensorflow.contrib.learn.python.learn.estimators.estimator) with x is deprecated and will be removed after 2016-12-01.\n",
      "Instructions for updating:\n",
      "Estimator is decoupled from Scikit Learn interface by moving into\n",
      "separate class SKCompat. Arguments x, y and batch_size are only\n",
      "available in the SKCompat class, Estimator will only accept input_fn.\n",
      "Example conversion:\n",
      "  est = Estimator(...) -> est = SKCompat(Estimator(...))\n",
      "WARNING:tensorflow:From E:\\Software\\Machine Learning Kit\\Anaconda\\lib\\site-packages\\tensorflow\\contrib\\learn\\python\\learn\\estimators\\dnn.py:323 in evaluate.: calling BaseEstimator.evaluate (from tensorflow.contrib.learn.python.learn.estimators.estimator) with y is deprecated and will be removed after 2016-12-01.\n",
      "Instructions for updating:\n",
      "Estimator is decoupled from Scikit Learn interface by moving into\n",
      "separate class SKCompat. Arguments x, y and batch_size are only\n",
      "available in the SKCompat class, Estimator will only accept input_fn.\n",
      "Example conversion:\n",
      "  est = Estimator(...) -> est = SKCompat(Estimator(...))\n",
      "WARNING:tensorflow:From E:\\Software\\Machine Learning Kit\\Anaconda\\lib\\site-packages\\tensorflow\\contrib\\learn\\python\\learn\\estimators\\dnn.py:323 in evaluate.: calling BaseEstimator.evaluate (from tensorflow.contrib.learn.python.learn.estimators.estimator) with batch_size is deprecated and will be removed after 2016-12-01.\n",
      "Instructions for updating:\n",
      "Estimator is decoupled from Scikit Learn interface by moving into\n",
      "separate class SKCompat. Arguments x, y and batch_size are only\n",
      "available in the SKCompat class, Estimator will only accept input_fn.\n",
      "Example conversion:\n",
      "  est = Estimator(...) -> est = SKCompat(Estimator(...))\n",
      "WARNING:tensorflow:float64 is not supported by many models, consider casting to float32.\n",
      "INFO:tensorflow:Summary name dnn/hiddenlayer_0:fraction_of_zero_values is illegal; using dnn/hiddenlayer_0_fraction_of_zero_values instead.\n",
      "INFO:tensorflow:Summary name dnn/hiddenlayer_0:activation is illegal; using dnn/hiddenlayer_0_activation instead.\n",
      "INFO:tensorflow:Summary name dnn/hiddenlayer_1:fraction_of_zero_values is illegal; using dnn/hiddenlayer_1_fraction_of_zero_values instead.\n",
      "INFO:tensorflow:Summary name dnn/hiddenlayer_1:activation is illegal; using dnn/hiddenlayer_1_activation instead.\n",
      "INFO:tensorflow:Summary name dnn/hiddenlayer_2:fraction_of_zero_values is illegal; using dnn/hiddenlayer_2_fraction_of_zero_values instead.\n",
      "INFO:tensorflow:Summary name dnn/hiddenlayer_2:activation is illegal; using dnn/hiddenlayer_2_activation instead.\n",
      "INFO:tensorflow:Summary name dnn/logits:fraction_of_zero_values is illegal; using dnn/logits_fraction_of_zero_values instead.\n",
      "INFO:tensorflow:Summary name dnn/logits:activation is illegal; using dnn/logits_activation instead.\n",
      "INFO:tensorflow:Restored model from C:\\Users\\PZhang7\\AppData\\Local\\Temp\\tmpn801ljw_\n",
      "INFO:tensorflow:Eval steps [0,inf) for training step 5000.\n",
      "INFO:tensorflow:Input iterator is exhausted.\n",
      "INFO:tensorflow:Saving evaluation summary for step 5000: accuracy = 0.641509, loss = 0.874131\n",
      "Accuracy: 0.641509\n",
      "Optimized facies classification accuracy = 0.64\n",
      "Optimized adjacent facies classification accuracy = 0.93\n",
      "     Pred    SS  CSiS  FSiS  SiSh    MS    WS     D    PS    BS Total\n",
      "     True\n",
      "       SS    38    23     4                                        65\n",
      "     CSiS     8   149    65                                       222\n",
      "     FSiS     7    50   132     1                                 190\n",
      "     SiSh                      47     2    11     1     2          63\n",
      "       MS                       6     7    28     1    12          54\n",
      "       WS                      11     7    86          32     2   138\n",
      "        D                       1     2     1    24     5          33\n",
      "       PS                       5     2    30     6    86     7   136\n",
      "       BS                                   3     1     6    43    53\n",
      "\n",
      "Precision  0.72  0.67  0.66  0.66  0.35  0.54  0.73  0.60  0.83  0.63\n",
      "   Recall  0.58  0.67  0.69  0.75  0.13  0.62  0.73  0.63  0.81  0.64\n",
      "       F1  0.64  0.67  0.68  0.70  0.19  0.58  0.73  0.62  0.82  0.63\n"
     ]
    }
   ],
   "source": [
    "from __future__ import absolute_import\n",
    "from __future__ import division\n",
    "from __future__ import print_function\n",
    "import tensorflow as tf\n",
    "\n",
    "# Specify that all features have real-value data\n",
    "feature_columns_filtered = [tf.contrib.layers.real_valued_column(\"\", dimension=7)]\n",
    "\n",
    "# Build 3 layer DNN with 7, 17, 10 units respectively.\n",
    "classifier_filtered = tf.contrib.learn.DNNClassifier(feature_columns=feature_columns_filtered,\n",
    "                                            hidden_units=[7, 17, 10],\n",
    "                                            n_classes=10)\n",
    "\n",
    "# Fit model.\n",
    "classifier_filtered.fit(x=X_train_filtered,\n",
    "               y=y_train_filtered,\n",
    "               steps=5000)\n",
    "\n",
    "\n",
    "y_predict_filtered = []\n",
    "predictions = classifier_filtered.predict(x=X_test_filtered)\n",
    "\n",
    "for i, p in enumerate(predictions):\n",
    "    y_predict_filtered.append(p)\n",
    "    #print(\"Index %s: Prediction - %s, Real - %s\" % (i + 1, p, y_test_filtered[i]))\n",
    "\n",
    "# Evaluate accuracy.\n",
    "accuracy_score_filtered = classifier_filtered.evaluate(x=X_test_filtered, y=y_test_filtered)[\"accuracy\"]\n",
    "print('Accuracy: {0:f}'.format(accuracy_score_filtered))\n",
    "\n",
    "cv_conf_dnn = confusion_matrix(y_test_filtered, y_predict_filtered)\n",
    "\n",
    "print('Optimized facies classification accuracy = %.2f' % accuracy(cv_conf_dnn))\n",
    "print('Optimized adjacent facies classification accuracy = %.2f' % accuracy_adjacent(cv_conf_dnn, adjacent_facies))\n",
    "display_cm(cv_conf_dnn, facies_labels,display_metrics=True, hide_zeros=True)"
   ]
  },
  {
   "cell_type": "markdown",
   "metadata": {},
   "source": [
    "Result from DNN"
   ]
  },
  {
   "cell_type": "code",
   "execution_count": 117,
   "metadata": {
    "collapsed": false
   },
   "outputs": [
    {
     "name": "stdout",
     "output_type": "stream",
     "text": [
      "WARNING:tensorflow:From E:\\Software\\Machine Learning Kit\\Anaconda\\lib\\site-packages\\tensorflow\\contrib\\learn\\python\\learn\\estimators\\dnn.py:315 in fit.: calling BaseEstimator.fit (from tensorflow.contrib.learn.python.learn.estimators.estimator) with x is deprecated and will be removed after 2016-12-01.\n",
      "Instructions for updating:\n",
      "Estimator is decoupled from Scikit Learn interface by moving into\n",
      "separate class SKCompat. Arguments x, y and batch_size are only\n",
      "available in the SKCompat class, Estimator will only accept input_fn.\n",
      "Example conversion:\n",
      "  est = Estimator(...) -> est = SKCompat(Estimator(...))\n",
      "WARNING:tensorflow:From E:\\Software\\Machine Learning Kit\\Anaconda\\lib\\site-packages\\tensorflow\\contrib\\learn\\python\\learn\\estimators\\dnn.py:315 in fit.: calling BaseEstimator.fit (from tensorflow.contrib.learn.python.learn.estimators.estimator) with y is deprecated and will be removed after 2016-12-01.\n",
      "Instructions for updating:\n",
      "Estimator is decoupled from Scikit Learn interface by moving into\n",
      "separate class SKCompat. Arguments x, y and batch_size are only\n",
      "available in the SKCompat class, Estimator will only accept input_fn.\n",
      "Example conversion:\n",
      "  est = Estimator(...) -> est = SKCompat(Estimator(...))\n",
      "WARNING:tensorflow:From E:\\Software\\Machine Learning Kit\\Anaconda\\lib\\site-packages\\tensorflow\\contrib\\learn\\python\\learn\\estimators\\dnn.py:315 in fit.: calling BaseEstimator.fit (from tensorflow.contrib.learn.python.learn.estimators.estimator) with batch_size is deprecated and will be removed after 2016-12-01.\n",
      "Instructions for updating:\n",
      "Estimator is decoupled from Scikit Learn interface by moving into\n",
      "separate class SKCompat. Arguments x, y and batch_size are only\n",
      "available in the SKCompat class, Estimator will only accept input_fn.\n",
      "Example conversion:\n",
      "  est = Estimator(...) -> est = SKCompat(Estimator(...))\n",
      "WARNING:tensorflow:float64 is not supported by many models, consider casting to float32.\n",
      "INFO:tensorflow:Summary name dnn/hiddenlayer_0:fraction_of_zero_values is illegal; using dnn/hiddenlayer_0_fraction_of_zero_values instead.\n",
      "INFO:tensorflow:Summary name dnn/hiddenlayer_0:activation is illegal; using dnn/hiddenlayer_0_activation instead.\n",
      "INFO:tensorflow:Summary name dnn/hiddenlayer_1:fraction_of_zero_values is illegal; using dnn/hiddenlayer_1_fraction_of_zero_values instead.\n",
      "INFO:tensorflow:Summary name dnn/hiddenlayer_1:activation is illegal; using dnn/hiddenlayer_1_activation instead.\n",
      "INFO:tensorflow:Summary name dnn/hiddenlayer_2:fraction_of_zero_values is illegal; using dnn/hiddenlayer_2_fraction_of_zero_values instead.\n",
      "INFO:tensorflow:Summary name dnn/hiddenlayer_2:activation is illegal; using dnn/hiddenlayer_2_activation instead.\n",
      "INFO:tensorflow:Summary name dnn/logits:fraction_of_zero_values is illegal; using dnn/logits_fraction_of_zero_values instead.\n",
      "INFO:tensorflow:Summary name dnn/logits:activation is illegal; using dnn/logits_activation instead.\n",
      "INFO:tensorflow:Create CheckpointSaverHook.\n",
      "INFO:tensorflow:step = 35001, loss = 0.687826\n",
      "INFO:tensorflow:Saving checkpoints for 35001 into C:\\Users\\PZhang7\\AppData\\Local\\Temp\\tmpn801ljw_\\model.ckpt.\n",
      "WARNING:tensorflow:*******************************************************\n",
      "WARNING:tensorflow:TensorFlow's V1 checkpoint format has been deprecated.\n",
      "WARNING:tensorflow:Consider switching to the more efficient V2 format:\n",
      "WARNING:tensorflow:   `tf.train.Saver(write_version=tf.train.SaverDef.V2)`\n",
      "WARNING:tensorflow:now on by default.\n",
      "WARNING:tensorflow:*******************************************************\n",
      "INFO:tensorflow:step = 35101, loss = 0.687731\n",
      "INFO:tensorflow:global_step/sec: 77.3473\n",
      "INFO:tensorflow:step = 35201, loss = 0.687591\n",
      "INFO:tensorflow:global_step/sec: 106.848\n",
      "INFO:tensorflow:step = 35301, loss = 0.68763\n",
      "INFO:tensorflow:global_step/sec: 107.192\n",
      "INFO:tensorflow:step = 35401, loss = 0.687539\n",
      "INFO:tensorflow:global_step/sec: 107.413\n",
      "INFO:tensorflow:step = 35501, loss = 0.687115\n",
      "INFO:tensorflow:global_step/sec: 110.497\n",
      "INFO:tensorflow:step = 35601, loss = 0.687202\n",
      "INFO:tensorflow:global_step/sec: 107.527\n",
      "INFO:tensorflow:step = 35701, loss = 0.6872\n",
      "INFO:tensorflow:global_step/sec: 107.643\n",
      "INFO:tensorflow:step = 35801, loss = 0.687046\n",
      "INFO:tensorflow:global_step/sec: 107.411\n",
      "INFO:tensorflow:step = 35901, loss = 0.68714\n",
      "INFO:tensorflow:global_step/sec: 107.066\n",
      "INFO:tensorflow:step = 36001, loss = 0.68675\n",
      "INFO:tensorflow:global_step/sec: 108.814\n",
      "INFO:tensorflow:step = 36101, loss = 0.686935\n",
      "INFO:tensorflow:global_step/sec: 105.82\n",
      "INFO:tensorflow:step = 36201, loss = 0.686943\n",
      "INFO:tensorflow:global_step/sec: 109.89\n",
      "INFO:tensorflow:step = 36301, loss = 0.68695\n",
      "INFO:tensorflow:global_step/sec: 109.89\n",
      "INFO:tensorflow:step = 36401, loss = 0.686889\n",
      "INFO:tensorflow:global_step/sec: 109.17\n",
      "INFO:tensorflow:step = 36501, loss = 0.686907\n",
      "INFO:tensorflow:global_step/sec: 109.409\n",
      "INFO:tensorflow:step = 36601, loss = 0.686571\n",
      "INFO:tensorflow:global_step/sec: 109.89\n",
      "INFO:tensorflow:step = 36701, loss = 0.68654\n",
      "INFO:tensorflow:global_step/sec: 109.17\n",
      "INFO:tensorflow:step = 36801, loss = 0.686587\n",
      "INFO:tensorflow:global_step/sec: 109.529\n",
      "INFO:tensorflow:step = 36901, loss = 0.686426\n",
      "INFO:tensorflow:global_step/sec: 109.529\n",
      "INFO:tensorflow:step = 37001, loss = 0.686722\n",
      "INFO:tensorflow:global_step/sec: 109.17\n",
      "INFO:tensorflow:step = 37101, loss = 0.686275\n",
      "INFO:tensorflow:global_step/sec: 109.051\n",
      "INFO:tensorflow:step = 37201, loss = 0.686407\n",
      "INFO:tensorflow:global_step/sec: 109.17\n",
      "INFO:tensorflow:step = 37301, loss = 0.686267\n",
      "INFO:tensorflow:global_step/sec: 109.529\n",
      "INFO:tensorflow:step = 37401, loss = 0.686127\n",
      "INFO:tensorflow:global_step/sec: 108.932\n",
      "INFO:tensorflow:step = 37501, loss = 0.686241\n",
      "INFO:tensorflow:global_step/sec: 109.649\n",
      "INFO:tensorflow:step = 37601, loss = 0.686013\n",
      "INFO:tensorflow:global_step/sec: 107.411\n",
      "INFO:tensorflow:step = 37701, loss = 0.686111\n",
      "INFO:tensorflow:global_step/sec: 106.496\n",
      "INFO:tensorflow:step = 37801, loss = 0.685856\n",
      "INFO:tensorflow:global_step/sec: 109.649\n",
      "INFO:tensorflow:step = 37901, loss = 0.685685\n",
      "INFO:tensorflow:global_step/sec: 109.89\n",
      "INFO:tensorflow:step = 38001, loss = 0.685581\n",
      "INFO:tensorflow:global_step/sec: 109.29\n",
      "INFO:tensorflow:step = 38101, loss = 0.685578\n",
      "INFO:tensorflow:global_step/sec: 105.485\n",
      "INFO:tensorflow:step = 38201, loss = 0.685522\n",
      "INFO:tensorflow:global_step/sec: 107.991\n",
      "INFO:tensorflow:step = 38301, loss = 0.685413\n",
      "INFO:tensorflow:global_step/sec: 105.932\n",
      "INFO:tensorflow:step = 38401, loss = 0.685354\n",
      "INFO:tensorflow:global_step/sec: 108.932\n",
      "INFO:tensorflow:step = 38501, loss = 0.685419\n",
      "INFO:tensorflow:global_step/sec: 109.409\n",
      "INFO:tensorflow:step = 38601, loss = 0.685181\n",
      "INFO:tensorflow:global_step/sec: 109.29\n",
      "INFO:tensorflow:step = 38701, loss = 0.685188\n",
      "INFO:tensorflow:global_step/sec: 108.108\n",
      "INFO:tensorflow:step = 38801, loss = 0.685024\n",
      "INFO:tensorflow:global_step/sec: 109.649\n",
      "INFO:tensorflow:step = 38901, loss = 0.685184\n",
      "INFO:tensorflow:global_step/sec: 108.225\n",
      "INFO:tensorflow:step = 39001, loss = 0.684832\n",
      "INFO:tensorflow:global_step/sec: 106.045\n",
      "INFO:tensorflow:step = 39101, loss = 0.684938\n",
      "INFO:tensorflow:global_step/sec: 109.89\n",
      "INFO:tensorflow:step = 39201, loss = 0.684998\n",
      "INFO:tensorflow:global_step/sec: 107.411\n",
      "INFO:tensorflow:step = 39301, loss = 0.684913\n",
      "INFO:tensorflow:global_step/sec: 105.82\n",
      "INFO:tensorflow:step = 39401, loss = 0.684717\n",
      "INFO:tensorflow:global_step/sec: 110.375\n",
      "INFO:tensorflow:step = 39501, loss = 0.684756\n",
      "INFO:tensorflow:global_step/sec: 107.643\n",
      "INFO:tensorflow:step = 39601, loss = 0.684565\n",
      "INFO:tensorflow:global_step/sec: 110.132\n",
      "INFO:tensorflow:step = 39701, loss = 0.684537\n",
      "INFO:tensorflow:global_step/sec: 106.724\n",
      "INFO:tensorflow:step = 39801, loss = 0.684441\n",
      "INFO:tensorflow:global_step/sec: 106.157\n",
      "INFO:tensorflow:step = 39901, loss = 0.684305\n",
      "INFO:tensorflow:global_step/sec: 106.045\n",
      "INFO:tensorflow:step = 40001, loss = 0.684415\n",
      "INFO:tensorflow:global_step/sec: 106.045\n",
      "INFO:tensorflow:step = 40101, loss = 0.684305\n",
      "INFO:tensorflow:global_step/sec: 107.296\n",
      "INFO:tensorflow:step = 40201, loss = 0.68431\n",
      "INFO:tensorflow:global_step/sec: 109.17\n",
      "INFO:tensorflow:step = 40301, loss = 0.684208\n",
      "INFO:tensorflow:global_step/sec: 105.374\n",
      "INFO:tensorflow:step = 40401, loss = 0.684556\n",
      "INFO:tensorflow:global_step/sec: 104.822\n",
      "INFO:tensorflow:step = 40501, loss = 0.684109\n",
      "INFO:tensorflow:global_step/sec: 109.529\n",
      "INFO:tensorflow:step = 40601, loss = 0.684307\n",
      "INFO:tensorflow:global_step/sec: 97.8474\n",
      "INFO:tensorflow:step = 40701, loss = 0.68408\n",
      "INFO:tensorflow:global_step/sec: 103.52\n",
      "INFO:tensorflow:step = 40801, loss = 0.68383\n",
      "INFO:tensorflow:global_step/sec: 105.932\n",
      "INFO:tensorflow:step = 40901, loss = 0.68403\n",
      "INFO:tensorflow:global_step/sec: 100.705\n",
      "INFO:tensorflow:step = 41001, loss = 0.68399\n",
      "INFO:tensorflow:global_step/sec: 96.5251\n",
      "INFO:tensorflow:step = 41101, loss = 0.683698\n",
      "INFO:tensorflow:global_step/sec: 94.4287\n",
      "INFO:tensorflow:step = 41201, loss = 0.683918\n",
      "INFO:tensorflow:global_step/sec: 92.4214\n",
      "INFO:tensorflow:step = 41301, loss = 0.683566\n",
      "INFO:tensorflow:global_step/sec: 94.3396\n",
      "INFO:tensorflow:step = 41401, loss = 0.683587\n",
      "INFO:tensorflow:global_step/sec: 100.604\n",
      "INFO:tensorflow:step = 41501, loss = 0.683699\n",
      "INFO:tensorflow:global_step/sec: 92.081\n",
      "INFO:tensorflow:step = 41601, loss = 0.683641\n",
      "INFO:tensorflow:global_step/sec: 108.342\n",
      "INFO:tensorflow:step = 41701, loss = 0.683543\n",
      "INFO:tensorflow:global_step/sec: 107.181\n",
      "INFO:tensorflow:step = 41801, loss = 0.683313\n",
      "INFO:tensorflow:global_step/sec: 105.152\n",
      "INFO:tensorflow:step = 41901, loss = 0.68345\n",
      "INFO:tensorflow:global_step/sec: 96.1538\n",
      "INFO:tensorflow:step = 42001, loss = 0.683323\n",
      "INFO:tensorflow:global_step/sec: 86.5052\n",
      "INFO:tensorflow:step = 42101, loss = 0.683301\n",
      "INFO:tensorflow:global_step/sec: 106.952\n",
      "INFO:tensorflow:step = 42201, loss = 0.683254\n",
      "INFO:tensorflow:global_step/sec: 108.225\n",
      "INFO:tensorflow:step = 42301, loss = 0.682956\n",
      "INFO:tensorflow:global_step/sec: 108.578\n",
      "INFO:tensorflow:step = 42401, loss = 0.683356\n",
      "INFO:tensorflow:global_step/sec: 108.696\n",
      "INFO:tensorflow:step = 42501, loss = 0.682935\n",
      "INFO:tensorflow:global_step/sec: 107.411\n",
      "INFO:tensorflow:step = 42601, loss = 0.683075\n",
      "INFO:tensorflow:global_step/sec: 106.383\n",
      "INFO:tensorflow:step = 42701, loss = 0.682842\n",
      "INFO:tensorflow:global_step/sec: 107.759\n",
      "INFO:tensorflow:step = 42801, loss = 0.683243\n",
      "INFO:tensorflow:global_step/sec: 104.712\n",
      "INFO:tensorflow:step = 42901, loss = 0.683016\n",
      "INFO:tensorflow:global_step/sec: 104.167\n",
      "INFO:tensorflow:step = 43001, loss = 0.682786\n",
      "INFO:tensorflow:global_step/sec: 106.496\n",
      "INFO:tensorflow:step = 43101, loss = 0.682707\n",
      "INFO:tensorflow:global_step/sec: 109.17\n",
      "INFO:tensorflow:step = 43201, loss = 0.682859\n",
      "INFO:tensorflow:global_step/sec: 110.011\n",
      "INFO:tensorflow:step = 43301, loss = 0.682659\n",
      "INFO:tensorflow:global_step/sec: 106.724\n",
      "INFO:tensorflow:step = 43401, loss = 0.682752\n",
      "INFO:tensorflow:global_step/sec: 108.814\n",
      "INFO:tensorflow:step = 43501, loss = 0.682682\n",
      "INFO:tensorflow:global_step/sec: 106.952\n",
      "INFO:tensorflow:step = 43601, loss = 0.682498\n",
      "INFO:tensorflow:global_step/sec: 104.603\n",
      "INFO:tensorflow:step = 43701, loss = 0.68245\n",
      "INFO:tensorflow:global_step/sec: 105.708\n",
      "INFO:tensorflow:step = 43801, loss = 0.682361\n",
      "INFO:tensorflow:global_step/sec: 105.485\n",
      "INFO:tensorflow:step = 43901, loss = 0.682268\n",
      "INFO:tensorflow:global_step/sec: 104.712\n",
      "INFO:tensorflow:step = 44001, loss = 0.682235\n",
      "INFO:tensorflow:global_step/sec: 103.842\n",
      "INFO:tensorflow:step = 44101, loss = 0.682258\n",
      "INFO:tensorflow:global_step/sec: 104.058\n",
      "INFO:tensorflow:step = 44201, loss = 0.682276\n",
      "INFO:tensorflow:global_step/sec: 103.842\n",
      "INFO:tensorflow:step = 44301, loss = 0.682102\n",
      "INFO:tensorflow:global_step/sec: 106.952\n",
      "INFO:tensorflow:step = 44401, loss = 0.682188\n",
      "INFO:tensorflow:global_step/sec: 104.603\n",
      "INFO:tensorflow:step = 44501, loss = 0.682169\n",
      "INFO:tensorflow:global_step/sec: 106.27\n",
      "INFO:tensorflow:step = 44601, loss = 0.682035\n",
      "INFO:tensorflow:global_step/sec: 109.529\n",
      "INFO:tensorflow:step = 44701, loss = 0.682098\n",
      "INFO:tensorflow:global_step/sec: 107.296\n",
      "INFO:tensorflow:step = 44801, loss = 0.681872\n",
      "INFO:tensorflow:global_step/sec: 105.374\n",
      "INFO:tensorflow:step = 44901, loss = 0.681978\n",
      "INFO:tensorflow:global_step/sec: 98.4252\n",
      "INFO:tensorflow:Saving checkpoints for 45000 into C:\\Users\\PZhang7\\AppData\\Local\\Temp\\tmpn801ljw_\\model.ckpt.\n",
      "WARNING:tensorflow:*******************************************************\n",
      "WARNING:tensorflow:TensorFlow's V1 checkpoint format has been deprecated.\n",
      "WARNING:tensorflow:Consider switching to the more efficient V2 format:\n",
      "WARNING:tensorflow:   `tf.train.Saver(write_version=tf.train.SaverDef.V2)`\n",
      "WARNING:tensorflow:now on by default.\n",
      "WARNING:tensorflow:*******************************************************\n",
      "INFO:tensorflow:Loss for final step: 0.681915.\n",
      "WARNING:tensorflow:From E:\\Software\\Machine Learning Kit\\Anaconda\\lib\\site-packages\\tensorflow\\contrib\\learn\\python\\learn\\estimators\\dnn.py:348 in predict.: calling BaseEstimator.predict (from tensorflow.contrib.learn.python.learn.estimators.estimator) with x is deprecated and will be removed after 2016-12-01.\n",
      "Instructions for updating:\n",
      "Estimator is decoupled from Scikit Learn interface by moving into\n",
      "separate class SKCompat. Arguments x, y and batch_size are only\n",
      "available in the SKCompat class, Estimator will only accept input_fn.\n",
      "Example conversion:\n",
      "  est = Estimator(...) -> est = SKCompat(Estimator(...))\n",
      "WARNING:tensorflow:From E:\\Software\\Machine Learning Kit\\Anaconda\\lib\\site-packages\\tensorflow\\contrib\\learn\\python\\learn\\estimators\\dnn.py:348 in predict.: calling BaseEstimator.predict (from tensorflow.contrib.learn.python.learn.estimators.estimator) with batch_size is deprecated and will be removed after 2016-12-01.\n",
      "Instructions for updating:\n",
      "Estimator is decoupled from Scikit Learn interface by moving into\n",
      "separate class SKCompat. Arguments x, y and batch_size are only\n",
      "available in the SKCompat class, Estimator will only accept input_fn.\n",
      "Example conversion:\n",
      "  est = Estimator(...) -> est = SKCompat(Estimator(...))\n",
      "WARNING:tensorflow:From E:\\Software\\Machine Learning Kit\\Anaconda\\lib\\site-packages\\tensorflow\\contrib\\learn\\python\\learn\\estimators\\dnn.py:348 in predict.: calling BaseEstimator.predict (from tensorflow.contrib.learn.python.learn.estimators.estimator) with as_iterable is deprecated and will be removed after 2016-12-01.\n",
      "Instructions for updating:\n",
      "Estimator is decoupled from Scikit Learn interface by moving into\n",
      "separate class SKCompat. Arguments x, y and batch_size are only\n",
      "available in the SKCompat class, Estimator will only accept input_fn.\n",
      "Example conversion:\n",
      "  est = Estimator(...) -> est = SKCompat(Estimator(...))\n",
      "WARNING:tensorflow:float64 is not supported by many models, consider casting to float32.\n",
      "INFO:tensorflow:Summary name dnn/hiddenlayer_0:fraction_of_zero_values is illegal; using dnn/hiddenlayer_0_fraction_of_zero_values instead.\n",
      "INFO:tensorflow:Summary name dnn/hiddenlayer_0:activation is illegal; using dnn/hiddenlayer_0_activation instead.\n",
      "INFO:tensorflow:Summary name dnn/hiddenlayer_1:fraction_of_zero_values is illegal; using dnn/hiddenlayer_1_fraction_of_zero_values instead.\n",
      "INFO:tensorflow:Summary name dnn/hiddenlayer_1:activation is illegal; using dnn/hiddenlayer_1_activation instead.\n",
      "INFO:tensorflow:Summary name dnn/hiddenlayer_2:fraction_of_zero_values is illegal; using dnn/hiddenlayer_2_fraction_of_zero_values instead.\n",
      "INFO:tensorflow:Summary name dnn/hiddenlayer_2:activation is illegal; using dnn/hiddenlayer_2_activation instead.\n",
      "INFO:tensorflow:Summary name dnn/logits:fraction_of_zero_values is illegal; using dnn/logits_fraction_of_zero_values instead.\n",
      "INFO:tensorflow:Summary name dnn/logits:activation is illegal; using dnn/logits_activation instead.\n"
     ]
    }
   ],
   "source": [
    "#classifier_filtered.fit(x=X_train_full,\n",
    "#               y=y_train_full,\n",
    "#               steps=10000)\n",
    "#y_unknown_DNN = classifier_filtered.predict(X_unknown)\n",
    "#well_data['Facies'] = y_unknown\n",
    "#well_data\n",
    "#well_data.to_csv('predict_result_dnn.csv')"
   ]
  }
 ],
 "metadata": {
  "anaconda-cloud": {},
  "kernelspec": {
   "display_name": "Python [Root]",
   "language": "python",
   "name": "Python [Root]"
  },
  "language_info": {
   "codemirror_mode": {
    "name": "ipython",
    "version": 3
   },
   "file_extension": ".py",
   "mimetype": "text/x-python",
   "name": "python",
   "nbconvert_exporter": "python",
   "pygments_lexer": "ipython3",
   "version": "3.5.2"
  }
 },
 "nbformat": 4,
 "nbformat_minor": 0
}
