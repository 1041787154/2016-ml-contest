{
 "cells": [
  {
   "cell_type": "markdown",
   "metadata": {},
   "source": [
    "# Facies Classification Solution By Team_BGC"
   ]
  },
  {
   "cell_type": "markdown",
   "metadata": {},
   "source": [
    "Cheolkyun Jeong and Ping Zhang From Team_BGC"
   ]
  },
  {
   "cell_type": "markdown",
   "metadata": {},
   "source": [
    "## Import Header"
   ]
  },
  {
   "cell_type": "code",
   "execution_count": 1,
   "metadata": {
    "collapsed": false
   },
   "outputs": [],
   "source": [
    "##### import basic function\n",
    "import numpy as np\n",
    "import pandas as pd\n",
    "import matplotlib.pyplot as plt\n",
    "import seaborn as sns\n",
    "%matplotlib inline\n",
    "##### import stuff from scikit learn\n",
    "from sklearn.ensemble import RandomForestClassifier, RandomForestRegressor\n",
    "from sklearn.metrics import confusion_matrix, make_scorer, f1_score, accuracy_score, recall_score, precision_score"
   ]
  },
  {
   "cell_type": "markdown",
   "metadata": {},
   "source": [
    "## 1. Data Prepocessing\n",
    "\n",
    "1) Filtered data preparation\n",
    "\n",
    "After the initial data validation, we figure out the NM_M input is a key differentiator to group non-marine stones (sandstone, c_siltstone, and f_siltstone) and marine stones (marine_silt_shale, mudstone, wakestone, dolomite, packstone, and bafflestone) in the current field. Our team decides to use this classifier aggressively and prepare a filtered dataset which cleans up the outliers."
   ]
  },
  {
   "cell_type": "code",
   "execution_count": 2,
   "metadata": {
    "collapsed": false
   },
   "outputs": [],
   "source": [
    "# Input file paths\n",
    "facies_vector_path = 'facies_vectors.csv'\n",
    "train_path = 'training_data.csv'\n",
    "test_path = 'validation_data_nofacies.csv'\n",
    "# Read training data to dataframe\n",
    "#training_data = pd.read_csv(train_path)"
   ]
  },
  {
   "cell_type": "markdown",
   "metadata": {},
   "source": [
    "Using Full data to train"
   ]
  },
  {
   "cell_type": "code",
   "execution_count": 3,
   "metadata": {
    "collapsed": true
   },
   "outputs": [],
   "source": [
    "# 1=sandstone  2=c_siltstone   3=f_siltstone # 4=marine_silt_shale \n",
    "#5=mudstone 6=wackestone 7=dolomite 8=packstone 9=bafflestone\n",
    "facies_colors = ['#F4D03F', '#F5B041', '#DC7633','#A569BD',\n",
    "       '#000000', '#000080', '#2E86C1', '#AED6F1', '#196F3D']\n",
    "feature_names = ['GR', 'ILD_log10', 'DeltaPHI', 'PHIND', 'PE', 'NM_M', 'RELPOS']\n",
    "\n",
    "facies_labels = ['SS', 'CSiS', 'FSiS', 'SiSh', 'MS',\n",
    "                 'WS', 'D','PS', 'BS']\n",
    "#facies_color_map is a dictionary that maps facies labels\n",
    "#to their respective colors"
   ]
  },
  {
   "cell_type": "code",
   "execution_count": 4,
   "metadata": {
    "collapsed": false
   },
   "outputs": [],
   "source": [
    "training_data = pd.read_csv(facies_vector_path)\n",
    "X = training_data[feature_names].values\n",
    "y = training_data['Facies'].values\n",
    "well = training_data['Well Name'].values\n",
    "depth = training_data['Depth'].values"
   ]
  },
  {
   "cell_type": "code",
   "execution_count": 5,
   "metadata": {
    "collapsed": false
   },
   "outputs": [
    {
     "name": "stdout",
     "output_type": "stream",
     "text": [
      "(4095, 12)\n"
     ]
    },
    {
     "name": "stderr",
     "output_type": "stream",
     "text": [
      "//anaconda/lib/python3.5/site-packages/numpy/lib/function_base.py:3834: RuntimeWarning: Invalid value encountered in percentile\n",
      "  RuntimeWarning)\n"
     ]
    }
   ],
   "source": [
    "facies_color_map = {}\n",
    "for ind, label in enumerate(facies_labels):\n",
    "    facies_color_map[label] = facies_colors[ind]\n",
    "\n",
    "def label_facies(row, labels):\n",
    "    return labels[ row['Facies'] -1]\n",
    "    \n",
    "training_data.loc[:,'FaciesLabels'] = training_data.apply(lambda row: label_facies(row, facies_labels), axis=1)\n",
    "training_data.describe()\n",
    "\n",
    "# Fitering out some outliers\n",
    "j = []\n",
    "for i in range(len(training_data)):\n",
    "    if ((training_data['NM_M'].values[i]==2)and ((training_data['Facies'].values[i]==1)or(training_data['Facies'].values[i]==2)or(training_data['Facies'].values[i]==3))):\n",
    "        j.append(i)\n",
    "    elif((training_data['NM_M'].values[i]==1)and((training_data['Facies'].values[i]!=1)and(training_data['Facies'].values[i]!=2)and(training_data['Facies'].values[i]!=3))):\n",
    "        j.append(i)\n",
    "\n",
    "training_data_filtered = training_data.drop(training_data.index[j])\n",
    "print(np.shape(training_data_filtered))"
   ]
  },
  {
   "cell_type": "markdown",
   "metadata": {},
   "source": [
    "Add Missing PE by following AR4 Team"
   ]
  },
  {
   "cell_type": "code",
   "execution_count": 6,
   "metadata": {
    "collapsed": true
   },
   "outputs": [],
   "source": [
    "#X = training_data_filtered[feature_names].values\n",
    "# Testing without filtering\n",
    "X = training_data[feature_names].values\n",
    "\n",
    "reg = RandomForestRegressor(max_features='sqrt', n_estimators=50)\n",
    "# DataImpAll = training_data_filtered[feature_names].copy()\n",
    "DataImpAll = training_data[feature_names].copy()\n",
    "DataImp = DataImpAll.dropna(axis = 0, inplace=False)\n",
    "Ximp=DataImp.loc[:, DataImp.columns != 'PE']\n",
    "Yimp=DataImp.loc[:, 'PE']\n",
    "reg.fit(Ximp, Yimp)\n",
    "X[np.array(DataImpAll.PE.isnull()),4] = reg.predict(DataImpAll.loc[DataImpAll.PE.isnull(),:].drop('PE',axis=1,inplace=False))"
   ]
  },
  {
   "cell_type": "markdown",
   "metadata": {},
   "source": [
    "## 2. Feature Selection"
   ]
  },
  {
   "cell_type": "markdown",
   "metadata": {},
   "source": [
    "Log Plot of Facies"
   ]
  },
  {
   "cell_type": "markdown",
   "metadata": {},
   "source": [
    "### Filtered Data"
   ]
  },
  {
   "cell_type": "code",
   "execution_count": 7,
   "metadata": {
    "collapsed": false
   },
   "outputs": [
    {
     "data": {
      "text/plain": [
       "SS      268\n",
       "CSiS    940\n",
       "FSiS    780\n",
       "SiSh    271\n",
       "MS      296\n",
       "WS      582\n",
       "D       141\n",
       "PS      686\n",
       "BS      185\n",
       "Name: Facies, dtype: int64"
      ]
     },
     "execution_count": 7,
     "metadata": {},
     "output_type": "execute_result"
    },
    {
     "data": {
      "image/png": "[encoded data removed]",
      "text/plain": [
       "<matplotlib.figure.Figure at 0x116794470>"
      ]
     },
     "metadata": {},
     "output_type": "display_data"
    }
   ],
   "source": [
    "#count the number of unique entries for each facies, sort them by\n",
    "#facies number (instead of by number of entries)\n",
    "#facies_counts_filtered = training_data_filtered['Facies'].value_counts().sort_index()\n",
    "facies_counts = training_data['Facies'].value_counts().sort_index()\n",
    "#use facies labels to index each count\n",
    "#facies_counts_filtered.index = facies_labels\n",
    "facies_counts.index = facies_labels\n",
    "\n",
    "#facies_counts_filtered.plot(kind='bar',color=facies_colors, \n",
    "#                   title='Distribution of Filtered Training Data by Facies')\n",
    "facies_counts.plot(kind='bar',color=facies_colors, \n",
    "                   title='Distribution of Filtered Training Data by Facies')\n",
    "#facies_counts_filtered\n",
    "#training_data_filtered.columns\n",
    "#facies_counts_filtered\n",
    "\n",
    "training_data.columns\n",
    "facies_counts"
   ]
  },
  {
   "cell_type": "markdown",
   "metadata": {},
   "source": [
    "### Filtered facies"
   ]
  },
  {
   "cell_type": "code",
   "execution_count": 8,
   "metadata": {
    "collapsed": false
   },
   "outputs": [],
   "source": [
    "correct_facies_labels = training_data['Facies'].values\n",
    "feature_vectors = training_data.drop(['Formation', 'Well Name', 'Depth','Facies','FaciesLabels'], axis=1)"
   ]
  },
  {
   "cell_type": "markdown",
   "metadata": {},
   "source": [
    "Normailization"
   ]
  },
  {
   "cell_type": "code",
   "execution_count": 9,
   "metadata": {
    "collapsed": false
   },
   "outputs": [],
   "source": [
    "from sklearn import preprocessing\n",
    "from sklearn.cross_validation import train_test_split\n",
    "scaler = preprocessing.StandardScaler().fit(X)\n",
    "scaled_features = scaler.transform(X)"
   ]
  },
  {
   "cell_type": "markdown",
   "metadata": {},
   "source": [
    "## 3. Prediction Model"
   ]
  },
  {
   "cell_type": "markdown",
   "metadata": {},
   "source": [
    "Accuracy"
   ]
  },
  {
   "cell_type": "code",
   "execution_count": 10,
   "metadata": {
    "collapsed": true
   },
   "outputs": [],
   "source": [
    "def accuracy(conf):\n",
    "    total_correct = 0.\n",
    "    nb_classes = conf.shape[0]\n",
    "    for i in np.arange(0,nb_classes):\n",
    "        total_correct += conf[i][i]\n",
    "    acc = total_correct/sum(sum(conf))\n",
    "    return acc"
   ]
  },
  {
   "cell_type": "code",
   "execution_count": 11,
   "metadata": {
    "collapsed": false
   },
   "outputs": [],
   "source": [
    "adjacent_facies = np.array([[1], [0,2], [1], [4], [3,5], [4,6,7], [5,7], [5,6,8], [6,7]])\n",
    "\n",
    "def accuracy_adjacent(conf, adjacent_facies):\n",
    "    nb_classes = conf.shape[0]\n",
    "    total_correct = 0.\n",
    "    for i in np.arange(0,nb_classes):\n",
    "        total_correct += conf[i][i]\n",
    "        for j in adjacent_facies[i]:\n",
    "            total_correct += conf[i][j]\n",
    "    return total_correct / sum(sum(conf))"
   ]
  },
  {
   "cell_type": "markdown",
   "metadata": {},
   "source": [
    "Augment Features"
   ]
  },
  {
   "cell_type": "code",
   "execution_count": 12,
   "metadata": {
    "collapsed": true
   },
   "outputs": [],
   "source": [
    "# HouMath Team algorithm\n",
    "# Feature windows concatenation function \n",
    "\n",
    "def augment_features_window(X, N_neig):\n",
    "    \n",
    "    # Parameters\n",
    "    N_row = X.shape[0]\n",
    "    N_feat = X.shape[1]\n",
    "\n",
    "    # Zero padding\n",
    "    X = np.vstack((np.zeros((N_neig, N_feat)), X, (np.zeros((N_neig, N_feat)))))\n",
    "\n",
    "    # Loop over windows\n",
    "    X_aug = np.zeros((N_row, N_feat*(2*N_neig+1)))\n",
    "    for r in np.arange(N_row)+N_neig:\n",
    "        this_row = []\n",
    "        for c in np.arange(-N_neig,N_neig+1):\n",
    "            this_row = np.hstack((this_row, X[r+c]))\n",
    "        X_aug[r-N_neig] = this_row\n",
    "\n",
    "    return X_aug"
   ]
  },
  {
   "cell_type": "code",
   "execution_count": 13,
   "metadata": {
    "collapsed": true
   },
   "outputs": [],
   "source": [
    "# HouMath Team algorithm\n",
    "# Feature gradient computation function\n",
    "def augment_features_gradient(X, depth):\n",
    "    \n",
    "    # Compute features gradient\n",
    "    d_diff = np.diff(depth).reshape((-1, 1))\n",
    "    d_diff[d_diff==0] = 0.001\n",
    "    X_diff = np.diff(X, axis=0)\n",
    "    X_grad = X_diff / d_diff\n",
    "        \n",
    "    # Compensate for last missing value\n",
    "    X_grad = np.concatenate((X_grad, np.zeros((1, X_grad.shape[1]))))\n",
    "    \n",
    "    return X_grad"
   ]
  },
  {
   "cell_type": "code",
   "execution_count": 14,
   "metadata": {
    "collapsed": true
   },
   "outputs": [],
   "source": [
    "# HouMath Team algorithm\n",
    "# Feature augmentation function\n",
    "def augment_features(X, well, depth, N_neig=1):\n",
    "    \n",
    "    # Augment features\n",
    "    X_aug = np.zeros((X.shape[0], X.shape[1]*(N_neig*2+2)))\n",
    "    for w in np.unique(well):\n",
    "        w_idx = np.where(well == w)[0]\n",
    "        X_aug_win = augment_features_window(X[w_idx, :], N_neig)\n",
    "        X_aug_grad = augment_features_gradient(X[w_idx, :], depth[w_idx])\n",
    "        X_aug[w_idx, :] = np.concatenate((X_aug_win, X_aug_grad), axis=1)\n",
    "    \n",
    "    # Find padded rows\n",
    "    padded_rows = np.unique(np.where(X_aug[:, 0:7] == np.zeros((1, 7)))[0])\n",
    "    \n",
    "    return X_aug, padded_rows"
   ]
  },
  {
   "cell_type": "code",
   "execution_count": 15,
   "metadata": {
    "collapsed": false
   },
   "outputs": [
    {
     "data": {
      "text/plain": [
       "(4149, 28)"
      ]
     },
     "execution_count": 15,
     "metadata": {},
     "output_type": "execute_result"
    }
   ],
   "source": [
    "X_aug, padded_rows = augment_features(scaled_features, well, depth)\n",
    "X_aug.shape"
   ]
  },
  {
   "cell_type": "code",
   "execution_count": 16,
   "metadata": {
    "collapsed": false
   },
   "outputs": [
    {
     "data": {
      "text/plain": [
       "(4149, 28)"
      ]
     },
     "execution_count": 16,
     "metadata": {},
     "output_type": "execute_result"
    }
   ],
   "source": [
    "from sklearn.cross_validation import train_test_split\n",
    "X_train, X_test, y_train, y_test = train_test_split(X_aug, y, test_size=0.3, random_state=16)\n",
    "X_train_full, X_test_zero, y_train_full, y_test_full = train_test_split(X_aug, y, test_size=0.0, random_state=42)\n",
    "X_train_full.shape"
   ]
  },
  {
   "cell_type": "markdown",
   "metadata": {},
   "source": [
    "SVM"
   ]
  },
  {
   "cell_type": "code",
   "execution_count": 17,
   "metadata": {
    "collapsed": false
   },
   "outputs": [],
   "source": [
    "from classification_utilities import display_cm, display_adj_cm\n",
    "import sklearn.svm as svm"
   ]
  },
  {
   "cell_type": "code",
   "execution_count": 18,
   "metadata": {
    "collapsed": false
   },
   "outputs": [
    {
     "data": {
      "text/plain": [
       "SVC(C=10, cache_size=200, class_weight=None, coef0=0.0,\n",
       "  decision_function_shape=None, degree=3, gamma=1, kernel='rbf',\n",
       "  max_iter=-1, probability=False, random_state=None, shrinking=True,\n",
       "  tol=0.001, verbose=False)"
      ]
     },
     "execution_count": 18,
     "metadata": {},
     "output_type": "execute_result"
    }
   ],
   "source": [
    "clf_filtered = svm.SVC(C=10, gamma=1)\n",
    "clf_filtered.fit(X_train, y_train)"
   ]
  },
  {
   "cell_type": "code",
   "execution_count": 19,
   "metadata": {
    "collapsed": false
   },
   "outputs": [
    {
     "name": "stdout",
     "output_type": "stream",
     "text": [
      "Optimized facies classification accuracy = 0.66\n",
      "Optimized adjacent facies classification accuracy = 0.83\n",
      "     Pred    SS  CSiS  FSiS  SiSh    MS    WS     D    PS    BS Total\n",
      "     True\n",
      "       SS    63    19     9           1                            92\n",
      "     CSiS     3   198    92                                       293\n",
      "     FSiS          25   199           1                 1         226\n",
      "     SiSh                22    45     1     4           4          76\n",
      "       MS                30     3    25    12     1    13          84\n",
      "       WS                43     2     5   104          38         192\n",
      "        D                19     1     1     3    11     5     1    41\n",
      "       PS                47                 7         139     1   194\n",
      "       BS                10     1                       3    33    47\n",
      "\n",
      "Precision  0.95  0.82  0.42  0.87  0.74  0.80  0.92  0.68  0.94  0.74\n",
      "   Recall  0.68  0.68  0.88  0.59  0.30  0.54  0.27  0.72  0.70  0.66\n",
      "       F1  0.80  0.74  0.57  0.70  0.42  0.65  0.42  0.70  0.80  0.66\n"
     ]
    }
   ],
   "source": [
    "#predicted_labels_filtered = clf_filtered.predict(X_test_filtered)\n",
    "predicted_labels = clf_filtered.predict(X_test)\n",
    "cv_conf_svm = confusion_matrix(y_test, predicted_labels)\n",
    "print('Optimized facies classification accuracy = %.2f' % accuracy(cv_conf_svm))\n",
    "print('Optimized adjacent facies classification accuracy = %.2f' % accuracy_adjacent(cv_conf_svm, adjacent_facies))\n",
    "display_cm(cv_conf_svm, facies_labels,display_metrics=True, hide_zeros=True)"
   ]
  },
  {
   "cell_type": "markdown",
   "metadata": {},
   "source": [
    "## 4. Result Analysis"
   ]
  },
  {
   "cell_type": "markdown",
   "metadata": {},
   "source": [
    "Prepare test data"
   ]
  },
  {
   "cell_type": "code",
   "execution_count": 20,
   "metadata": {
    "collapsed": false
   },
   "outputs": [],
   "source": [
    "well_data = pd.read_csv('validation_data_nofacies.csv')\n",
    "well_data['Well Name'] = well_data['Well Name'].astype('category')\n",
    "well_features = well_data.drop(['Formation', 'Well Name', 'Depth'], axis=1)\n",
    "# Prepare test data\n",
    "well_ts = well_data['Well Name'].values\n",
    "depth_ts = well_data['Depth'].values\n",
    "X_ts = well_data[feature_names].values\n",
    "X_ts = scaler.transform(X_ts)\n",
    "# Augment features\n",
    "X_ts, padded_rows = augment_features(X_ts, well_ts, depth_ts)"
   ]
  },
  {
   "cell_type": "code",
   "execution_count": 21,
   "metadata": {
    "collapsed": false
   },
   "outputs": [],
   "source": [
    "# Using all data and optimize parameter to train the data\n",
    "clf_filtered = svm.SVC(C=10, gamma=1)\n",
    "clf_filtered.fit(X_train_full, y_train_full)\n",
    "#clf_filtered.fit(X_train_filtered, y_train_filtered)\n",
    "y_pred = clf_filtered.predict(X_ts)\n",
    "well_data['Facies'] = y_pred\n",
    "well_data\n",
    "well_data.to_csv('predict_result_svm_full_data.csv')"
   ]
  },
  {
   "cell_type": "markdown",
   "metadata": {},
   "source": [
    "## 5. Using Tensorflow"
   ]
  },
  {
   "cell_type": "markdown",
   "metadata": {},
   "source": [
    "Filtered Data Model"
   ]
  },
  {
   "cell_type": "code",
   "execution_count": 22,
   "metadata": {
    "collapsed": false
   },
   "outputs": [
    {
     "data": {
      "text/plain": [
       "(2904, 28)"
      ]
     },
     "execution_count": 22,
     "metadata": {},
     "output_type": "execute_result"
    }
   ],
   "source": [
    "X_train.shape"
   ]
  },
  {
   "cell_type": "code",
   "execution_count": 98,
   "metadata": {
    "collapsed": false
   },
   "outputs": [
    {
     "name": "stdout",
     "output_type": "stream",
     "text": [
      "WARNING:tensorflow:Using temporary folder as model directory: /var/folders/_m/zb4mrpv16mn8h39h1b2tfy8r0000gn/T/tmpgtbogjop\n",
      "INFO:tensorflow:Using default config.\n",
      "INFO:tensorflow:Using config: {'keep_checkpoint_every_n_hours': 10000, 'tf_random_seed': None, 'keep_checkpoint_max': 5, '_num_ps_replicas': 0, '_is_chief': True, 'tf_config': gpu_options {\n",
      "  per_process_gpu_memory_fraction: 1\n",
      "}\n",
      ", '_environment': 'local', '_master': '', '_task_type': None, '_cluster_spec': <tensorflow.python.training.server_lib.ClusterSpec object at 0x1277612b0>, 'save_checkpoints_steps': None, 'save_checkpoints_secs': 600, '_evaluation_master': '', '_task_id': 0, 'save_summary_steps': 100}\n",
      "WARNING:tensorflow:From //anaconda/lib/python3.5/site-packages/tensorflow/contrib/learn/python/learn/estimators/dnn.py:315 in fit.: calling BaseEstimator.fit (from tensorflow.contrib.learn.python.learn.estimators.estimator) with x is deprecated and will be removed after 2016-12-01.\n",
      "Instructions for updating:\n",
      "Estimator is decoupled from Scikit Learn interface by moving into\n",
      "separate class SKCompat. Arguments x, y and batch_size are only\n",
      "available in the SKCompat class, Estimator will only accept input_fn.\n",
      "Example conversion:\n",
      "  est = Estimator(...) -> est = SKCompat(Estimator(...))\n",
      "WARNING:tensorflow:From //anaconda/lib/python3.5/site-packages/tensorflow/contrib/learn/python/learn/estimators/dnn.py:315 in fit.: calling BaseEstimator.fit (from tensorflow.contrib.learn.python.learn.estimators.estimator) with y is deprecated and will be removed after 2016-12-01.\n",
      "Instructions for updating:\n",
      "Estimator is decoupled from Scikit Learn interface by moving into\n",
      "separate class SKCompat. Arguments x, y and batch_size are only\n",
      "available in the SKCompat class, Estimator will only accept input_fn.\n",
      "Example conversion:\n",
      "  est = Estimator(...) -> est = SKCompat(Estimator(...))\n",
      "WARNING:tensorflow:From //anaconda/lib/python3.5/site-packages/tensorflow/contrib/learn/python/learn/estimators/dnn.py:315 in fit.: calling BaseEstimator.fit (from tensorflow.contrib.learn.python.learn.estimators.estimator) with batch_size is deprecated and will be removed after 2016-12-01.\n",
      "Instructions for updating:\n",
      "Estimator is decoupled from Scikit Learn interface by moving into\n",
      "separate class SKCompat. Arguments x, y and batch_size are only\n",
      "available in the SKCompat class, Estimator will only accept input_fn.\n",
      "Example conversion:\n",
      "  est = Estimator(...) -> est = SKCompat(Estimator(...))\n",
      "WARNING:tensorflow:float64 is not supported by many models, consider casting to float32.\n",
      "INFO:tensorflow:Summary name dnn/hiddenlayer_0:fraction_of_zero_values is illegal; using dnn/hiddenlayer_0_fraction_of_zero_values instead.\n",
      "INFO:tensorflow:Summary name dnn/hiddenlayer_0:activation is illegal; using dnn/hiddenlayer_0_activation instead.\n",
      "INFO:tensorflow:Summary name dnn/hiddenlayer_1:fraction_of_zero_values is illegal; using dnn/hiddenlayer_1_fraction_of_zero_values instead.\n",
      "INFO:tensorflow:Summary name dnn/hiddenlayer_1:activation is illegal; using dnn/hiddenlayer_1_activation instead.\n",
      "INFO:tensorflow:Summary name dnn/hiddenlayer_2:fraction_of_zero_values is illegal; using dnn/hiddenlayer_2_fraction_of_zero_values instead.\n",
      "INFO:tensorflow:Summary name dnn/hiddenlayer_2:activation is illegal; using dnn/hiddenlayer_2_activation instead.\n",
      "INFO:tensorflow:Summary name dnn/logits:fraction_of_zero_values is illegal; using dnn/logits_fraction_of_zero_values instead.\n",
      "INFO:tensorflow:Summary name dnn/logits:activation is illegal; using dnn/logits_activation instead.\n",
      "INFO:tensorflow:Create CheckpointSaverHook.\n",
      "INFO:tensorflow:loss = 2.51398, step = 1\n",
      "INFO:tensorflow:Saving checkpoints for 1 into /var/folders/_m/zb4mrpv16mn8h39h1b2tfy8r0000gn/T/tmpgtbogjop/model.ckpt.\n",
      "WARNING:tensorflow:*******************************************************\n",
      "WARNING:tensorflow:TensorFlow's V1 checkpoint format has been deprecated.\n",
      "WARNING:tensorflow:Consider switching to the more efficient V2 format:\n",
      "WARNING:tensorflow:   `tf.train.Saver(write_version=tf.train.SaverDef.V2)`\n",
      "WARNING:tensorflow:now on by default.\n",
      "WARNING:tensorflow:*******************************************************\n",
      "INFO:tensorflow:loss = 1.19671, step = 101\n",
      "INFO:tensorflow:global_step/sec: 60.3966\n",
      "INFO:tensorflow:loss = 1.0546, step = 201\n",
      "INFO:tensorflow:global_step/sec: 88.5257\n",
      "INFO:tensorflow:loss = 0.98928, step = 301\n",
      "INFO:tensorflow:global_step/sec: 105.153\n",
      "INFO:tensorflow:loss = 0.953303, step = 401\n",
      "INFO:tensorflow:global_step/sec: 108.483\n",
      "INFO:tensorflow:loss = 0.925083, step = 501\n",
      "INFO:tensorflow:global_step/sec: 110.172\n",
      "INFO:tensorflow:loss = 0.903905, step = 601\n",
      "INFO:tensorflow:global_step/sec: 109.819\n",
      "INFO:tensorflow:loss = 0.88494, step = 701\n",
      "INFO:tensorflow:global_step/sec: 109.278\n",
      "INFO:tensorflow:loss = 0.867507, step = 801\n",
      "INFO:tensorflow:global_step/sec: 110.286\n",
      "INFO:tensorflow:loss = 0.849254, step = 901\n",
      "INFO:tensorflow:global_step/sec: 100.319\n",
      "INFO:tensorflow:loss = 0.83324, step = 1001\n",
      "INFO:tensorflow:global_step/sec: 94.1581\n",
      "INFO:tensorflow:loss = 0.818051, step = 1101\n",
      "INFO:tensorflow:global_step/sec: 101.543\n",
      "INFO:tensorflow:loss = 0.800288, step = 1201\n",
      "INFO:tensorflow:global_step/sec: 88.0966\n",
      "INFO:tensorflow:loss = 0.787344, step = 1301\n",
      "INFO:tensorflow:global_step/sec: 108.724\n",
      "INFO:tensorflow:loss = 0.775554, step = 1401\n",
      "INFO:tensorflow:global_step/sec: 110.274\n",
      "INFO:tensorflow:loss = 0.765225, step = 1501\n",
      "INFO:tensorflow:global_step/sec: 109.435\n",
      "INFO:tensorflow:loss = 0.753967, step = 1601\n",
      "INFO:tensorflow:global_step/sec: 109.611\n",
      "INFO:tensorflow:loss = 0.746573, step = 1701\n",
      "INFO:tensorflow:global_step/sec: 109.848\n",
      "INFO:tensorflow:loss = 0.737943, step = 1801\n",
      "INFO:tensorflow:global_step/sec: 110.396\n",
      "INFO:tensorflow:loss = 0.726619, step = 1901\n",
      "INFO:tensorflow:global_step/sec: 108.741\n",
      "INFO:tensorflow:loss = 0.717743, step = 2001\n",
      "INFO:tensorflow:global_step/sec: 82.8605\n",
      "INFO:tensorflow:loss = 0.71209, step = 2101\n",
      "INFO:tensorflow:global_step/sec: 107.067\n",
      "INFO:tensorflow:loss = 0.70679, step = 2201\n",
      "INFO:tensorflow:global_step/sec: 92.1719\n",
      "INFO:tensorflow:loss = 0.697429, step = 2301\n",
      "INFO:tensorflow:global_step/sec: 106.018\n",
      "INFO:tensorflow:loss = 0.691029, step = 2401\n",
      "INFO:tensorflow:global_step/sec: 109.317\n",
      "INFO:tensorflow:loss = 0.684892, step = 2501\n",
      "INFO:tensorflow:global_step/sec: 110.268\n",
      "INFO:tensorflow:loss = 0.678051, step = 2601\n",
      "INFO:tensorflow:global_step/sec: 109.606\n",
      "INFO:tensorflow:loss = 0.672955, step = 2701\n",
      "INFO:tensorflow:global_step/sec: 110.643\n",
      "INFO:tensorflow:loss = 0.668147, step = 2801\n",
      "INFO:tensorflow:global_step/sec: 109.222\n",
      "INFO:tensorflow:loss = 0.661505, step = 2901\n",
      "INFO:tensorflow:global_step/sec: 110.158\n",
      "INFO:tensorflow:loss = 0.656498, step = 3001\n",
      "INFO:tensorflow:global_step/sec: 106.311\n",
      "INFO:tensorflow:loss = 0.650016, step = 3101\n",
      "INFO:tensorflow:global_step/sec: 110.276\n",
      "INFO:tensorflow:loss = 0.644911, step = 3201\n",
      "INFO:tensorflow:global_step/sec: 109.333\n",
      "INFO:tensorflow:loss = 0.641415, step = 3301\n",
      "INFO:tensorflow:global_step/sec: 106.34\n",
      "INFO:tensorflow:loss = 0.638519, step = 3401\n",
      "INFO:tensorflow:global_step/sec: 96.2382\n",
      "INFO:tensorflow:loss = 0.633228, step = 3501\n",
      "INFO:tensorflow:global_step/sec: 92.8485\n",
      "INFO:tensorflow:loss = 0.627409, step = 3601\n",
      "INFO:tensorflow:global_step/sec: 103.279\n",
      "INFO:tensorflow:loss = 0.626885, step = 3701\n",
      "INFO:tensorflow:global_step/sec: 90.1786\n",
      "INFO:tensorflow:loss = 0.621899, step = 3801\n",
      "INFO:tensorflow:global_step/sec: 81.9855\n",
      "INFO:tensorflow:loss = 0.619017, step = 3901\n",
      "INFO:tensorflow:global_step/sec: 97.5324\n",
      "INFO:tensorflow:loss = 0.617245, step = 4001\n",
      "INFO:tensorflow:global_step/sec: 90.4843\n",
      "INFO:tensorflow:loss = 0.61145, step = 4101\n",
      "INFO:tensorflow:global_step/sec: 83.8974\n",
      "INFO:tensorflow:loss = 0.605815, step = 4201\n",
      "INFO:tensorflow:global_step/sec: 83.6018\n",
      "INFO:tensorflow:loss = 0.601925, step = 4301\n",
      "INFO:tensorflow:global_step/sec: 105.12\n",
      "INFO:tensorflow:loss = 0.600148, step = 4401\n",
      "INFO:tensorflow:global_step/sec: 91.8787\n",
      "INFO:tensorflow:loss = 0.600044, step = 4501\n",
      "INFO:tensorflow:global_step/sec: 92.5608\n",
      "INFO:tensorflow:loss = 0.594086, step = 4601\n",
      "INFO:tensorflow:global_step/sec: 87.4055\n",
      "INFO:tensorflow:loss = 0.592095, step = 4701\n",
      "INFO:tensorflow:global_step/sec: 106.399\n",
      "INFO:tensorflow:loss = 0.591841, step = 4801\n",
      "INFO:tensorflow:global_step/sec: 97.4427\n",
      "INFO:tensorflow:loss = 0.587303, step = 4901\n",
      "INFO:tensorflow:global_step/sec: 107.646\n",
      "INFO:tensorflow:Saving checkpoints for 5000 into /var/folders/_m/zb4mrpv16mn8h39h1b2tfy8r0000gn/T/tmpgtbogjop/model.ckpt.\n",
      "WARNING:tensorflow:*******************************************************\n",
      "WARNING:tensorflow:TensorFlow's V1 checkpoint format has been deprecated.\n",
      "WARNING:tensorflow:Consider switching to the more efficient V2 format:\n",
      "WARNING:tensorflow:   `tf.train.Saver(write_version=tf.train.SaverDef.V2)`\n",
      "WARNING:tensorflow:now on by default.\n",
      "WARNING:tensorflow:*******************************************************\n",
      "INFO:tensorflow:Loss for final step: 0.584874.\n",
      "WARNING:tensorflow:From //anaconda/lib/python3.5/site-packages/tensorflow/contrib/learn/python/learn/estimators/dnn.py:348 in predict.: calling BaseEstimator.predict (from tensorflow.contrib.learn.python.learn.estimators.estimator) with x is deprecated and will be removed after 2016-12-01.\n",
      "Instructions for updating:\n",
      "Estimator is decoupled from Scikit Learn interface by moving into\n",
      "separate class SKCompat. Arguments x, y and batch_size are only\n",
      "available in the SKCompat class, Estimator will only accept input_fn.\n",
      "Example conversion:\n",
      "  est = Estimator(...) -> est = SKCompat(Estimator(...))\n",
      "WARNING:tensorflow:From //anaconda/lib/python3.5/site-packages/tensorflow/contrib/learn/python/learn/estimators/dnn.py:348 in predict.: calling BaseEstimator.predict (from tensorflow.contrib.learn.python.learn.estimators.estimator) with batch_size is deprecated and will be removed after 2016-12-01.\n",
      "Instructions for updating:\n",
      "Estimator is decoupled from Scikit Learn interface by moving into\n",
      "separate class SKCompat. Arguments x, y and batch_size are only\n",
      "available in the SKCompat class, Estimator will only accept input_fn.\n",
      "Example conversion:\n",
      "  est = Estimator(...) -> est = SKCompat(Estimator(...))\n",
      "WARNING:tensorflow:From //anaconda/lib/python3.5/site-packages/tensorflow/contrib/learn/python/learn/estimators/dnn.py:348 in predict.: calling BaseEstimator.predict (from tensorflow.contrib.learn.python.learn.estimators.estimator) with as_iterable is deprecated and will be removed after 2016-12-01.\n",
      "Instructions for updating:\n",
      "Estimator is decoupled from Scikit Learn interface by moving into\n",
      "separate class SKCompat. Arguments x, y and batch_size are only\n",
      "available in the SKCompat class, Estimator will only accept input_fn.\n",
      "Example conversion:\n",
      "  est = Estimator(...) -> est = SKCompat(Estimator(...))\n",
      "WARNING:tensorflow:float64 is not supported by many models, consider casting to float32.\n",
      "INFO:tensorflow:Summary name dnn/hiddenlayer_0:fraction_of_zero_values is illegal; using dnn/hiddenlayer_0_fraction_of_zero_values instead.\n",
      "INFO:tensorflow:Summary name dnn/hiddenlayer_0:activation is illegal; using dnn/hiddenlayer_0_activation instead.\n",
      "INFO:tensorflow:Summary name dnn/hiddenlayer_1:fraction_of_zero_values is illegal; using dnn/hiddenlayer_1_fraction_of_zero_values instead.\n",
      "INFO:tensorflow:Summary name dnn/hiddenlayer_1:activation is illegal; using dnn/hiddenlayer_1_activation instead.\n",
      "INFO:tensorflow:Summary name dnn/hiddenlayer_2:fraction_of_zero_values is illegal; using dnn/hiddenlayer_2_fraction_of_zero_values instead.\n",
      "INFO:tensorflow:Summary name dnn/hiddenlayer_2:activation is illegal; using dnn/hiddenlayer_2_activation instead.\n",
      "INFO:tensorflow:Summary name dnn/logits:fraction_of_zero_values is illegal; using dnn/logits_fraction_of_zero_values instead.\n",
      "INFO:tensorflow:Summary name dnn/logits:activation is illegal; using dnn/logits_activation instead.\n",
      "INFO:tensorflow:Loading model from checkpoint: /var/folders/_m/zb4mrpv16mn8h39h1b2tfy8r0000gn/T/tmpgtbogjop/model.ckpt-5000-?????-of-00001.\n",
      "WARNING:tensorflow:From //anaconda/lib/python3.5/site-packages/tensorflow/contrib/learn/python/learn/estimators/dnn.py:323 in evaluate.: calling BaseEstimator.evaluate (from tensorflow.contrib.learn.python.learn.estimators.estimator) with x is deprecated and will be removed after 2016-12-01.\n",
      "Instructions for updating:\n",
      "Estimator is decoupled from Scikit Learn interface by moving into\n",
      "separate class SKCompat. Arguments x, y and batch_size are only\n",
      "available in the SKCompat class, Estimator will only accept input_fn.\n",
      "Example conversion:\n",
      "  est = Estimator(...) -> est = SKCompat(Estimator(...))\n",
      "WARNING:tensorflow:From //anaconda/lib/python3.5/site-packages/tensorflow/contrib/learn/python/learn/estimators/dnn.py:323 in evaluate.: calling BaseEstimator.evaluate (from tensorflow.contrib.learn.python.learn.estimators.estimator) with y is deprecated and will be removed after 2016-12-01.\n",
      "Instructions for updating:\n",
      "Estimator is decoupled from Scikit Learn interface by moving into\n",
      "separate class SKCompat. Arguments x, y and batch_size are only\n",
      "available in the SKCompat class, Estimator will only accept input_fn.\n",
      "Example conversion:\n",
      "  est = Estimator(...) -> est = SKCompat(Estimator(...))\n",
      "WARNING:tensorflow:From //anaconda/lib/python3.5/site-packages/tensorflow/contrib/learn/python/learn/estimators/dnn.py:323 in evaluate.: calling BaseEstimator.evaluate (from tensorflow.contrib.learn.python.learn.estimators.estimator) with batch_size is deprecated and will be removed after 2016-12-01.\n",
      "Instructions for updating:\n",
      "Estimator is decoupled from Scikit Learn interface by moving into\n",
      "separate class SKCompat. Arguments x, y and batch_size are only\n",
      "available in the SKCompat class, Estimator will only accept input_fn.\n",
      "Example conversion:\n",
      "  est = Estimator(...) -> est = SKCompat(Estimator(...))\n",
      "WARNING:tensorflow:float64 is not supported by many models, consider casting to float32.\n",
      "INFO:tensorflow:Summary name dnn/hiddenlayer_0:fraction_of_zero_values is illegal; using dnn/hiddenlayer_0_fraction_of_zero_values instead.\n",
      "INFO:tensorflow:Summary name dnn/hiddenlayer_0:activation is illegal; using dnn/hiddenlayer_0_activation instead.\n",
      "INFO:tensorflow:Summary name dnn/hiddenlayer_1:fraction_of_zero_values is illegal; using dnn/hiddenlayer_1_fraction_of_zero_values instead.\n",
      "INFO:tensorflow:Summary name dnn/hiddenlayer_1:activation is illegal; using dnn/hiddenlayer_1_activation instead.\n",
      "INFO:tensorflow:Summary name dnn/hiddenlayer_2:fraction_of_zero_values is illegal; using dnn/hiddenlayer_2_fraction_of_zero_values instead.\n",
      "INFO:tensorflow:Summary name dnn/hiddenlayer_2:activation is illegal; using dnn/hiddenlayer_2_activation instead.\n",
      "INFO:tensorflow:Summary name dnn/logits:fraction_of_zero_values is illegal; using dnn/logits_fraction_of_zero_values instead.\n",
      "INFO:tensorflow:Summary name dnn/logits:activation is illegal; using dnn/logits_activation instead.\n",
      "INFO:tensorflow:Restored model from /var/folders/_m/zb4mrpv16mn8h39h1b2tfy8r0000gn/T/tmpgtbogjop\n",
      "INFO:tensorflow:Eval steps [0,inf) for training step 5000.\n",
      "INFO:tensorflow:Input iterator is exhausted.\n",
      "INFO:tensorflow:Saving evaluation summary for step 5000: accuracy = 0.614458, loss = 1.13685\n",
      "Accuracy: 0.614458\n",
      "Optimized facies classification accuracy = 0.61\n",
      "Optimized adjacent facies classification accuracy = 0.92\n",
      "     Pred    SS  CSiS  FSiS  SiSh    MS    WS     D    PS    BS Total\n",
      "     True\n",
      "       SS    54    33     5                                        92\n",
      "     CSiS    28   181    82           1                 1         293\n",
      "     FSiS     5    62   154     1     1           1     2         226\n",
      "     SiSh           1     1    61     2     9           2          76\n",
      "       MS                 3     6    33    23     2    15     2    84\n",
      "       WS           1          16    25    96     1    50     3   192\n",
      "        D                       2     1     4    23     9     2    41\n",
      "       PS           1     4     7    13    23     6   128    12   194\n",
      "       BS                                   2     1     9    35    47\n",
      "\n",
      "Precision  0.62  0.65  0.62  0.66  0.43  0.61  0.68  0.59  0.65  0.61\n",
      "   Recall  0.59  0.62  0.68  0.80  0.39  0.50  0.56  0.66  0.74  0.61\n",
      "       F1  0.60  0.63  0.65  0.72  0.41  0.55  0.61  0.62  0.69  0.61\n"
     ]
    }
   ],
   "source": [
    "from __future__ import absolute_import\n",
    "from __future__ import division\n",
    "from __future__ import print_function\n",
    "import tensorflow as tf\n",
    "\n",
    "# Specify that all features have real-value data\n",
    "# feature_columns_filtered = [tf.contrib.layers.real_valued_column(\"\", dimension=7)]\n",
    "feature_columns_filtered = [tf.contrib.layers.real_valued_column(\"\", dimension=28)]\n",
    "\n",
    "# Build DNN \n",
    "classifier_filtered = tf.contrib.learn.DNNClassifier(feature_columns=feature_columns_filtered,\n",
    "                                            hidden_units=[14, 28, 10],\n",
    "                                            n_classes=10)\n",
    "\n",
    "classifier_filtered.fit(x=X_train,y=y_train,steps=5000)\n",
    "y_predict = []\n",
    "predictions = classifier_filtered.predict(x=X_test)\n",
    "\n",
    "\n",
    "for i, p in enumerate(predictions):\n",
    "    y_predict.append(p)\n",
    "    #print(\"Index %s: Prediction - %s, Real - %s\" % (i + 1, p, y_test_filtered[i]))\n",
    "\n",
    "# Evaluate accuracy.\n",
    "accuracy_score = classifier_filtered.evaluate(x=X_test, y=y_test)[\"accuracy\"]\n",
    "print('Accuracy: {0:f}'.format(accuracy_score))\n",
    "\n",
    "cv_conf_dnn = confusion_matrix(y_test, y_predict)\n",
    "\n",
    "print('Optimized facies classification accuracy = %.2f' % accuracy(cv_conf_dnn))\n",
    "print('Optimized adjacent facies classification accuracy = %.2f' % accuracy_adjacent(cv_conf_dnn, adjacent_facies))\n",
    "display_cm(cv_conf_dnn, facies_labels,display_metrics=True, hide_zeros=True)"
   ]
  },
  {
   "cell_type": "markdown",
   "metadata": {},
   "source": [
    "Result from DNN"
   ]
  },
  {
   "cell_type": "code",
   "execution_count": 99,
   "metadata": {
    "collapsed": false,
    "scrolled": false
   },
   "outputs": [
    {
     "name": "stdout",
     "output_type": "stream",
     "text": [
      "WARNING:tensorflow:From //anaconda/lib/python3.5/site-packages/tensorflow/contrib/learn/python/learn/estimators/dnn.py:315 in fit.: calling BaseEstimator.fit (from tensorflow.contrib.learn.python.learn.estimators.estimator) with x is deprecated and will be removed after 2016-12-01.\n",
      "Instructions for updating:\n",
      "Estimator is decoupled from Scikit Learn interface by moving into\n",
      "separate class SKCompat. Arguments x, y and batch_size are only\n",
      "available in the SKCompat class, Estimator will only accept input_fn.\n",
      "Example conversion:\n",
      "  est = Estimator(...) -> est = SKCompat(Estimator(...))\n",
      "WARNING:tensorflow:From //anaconda/lib/python3.5/site-packages/tensorflow/contrib/learn/python/learn/estimators/dnn.py:315 in fit.: calling BaseEstimator.fit (from tensorflow.contrib.learn.python.learn.estimators.estimator) with y is deprecated and will be removed after 2016-12-01.\n",
      "Instructions for updating:\n",
      "Estimator is decoupled from Scikit Learn interface by moving into\n",
      "separate class SKCompat. Arguments x, y and batch_size are only\n",
      "available in the SKCompat class, Estimator will only accept input_fn.\n",
      "Example conversion:\n",
      "  est = Estimator(...) -> est = SKCompat(Estimator(...))\n",
      "WARNING:tensorflow:From //anaconda/lib/python3.5/site-packages/tensorflow/contrib/learn/python/learn/estimators/dnn.py:315 in fit.: calling BaseEstimator.fit (from tensorflow.contrib.learn.python.learn.estimators.estimator) with batch_size is deprecated and will be removed after 2016-12-01.\n",
      "Instructions for updating:\n",
      "Estimator is decoupled from Scikit Learn interface by moving into\n",
      "separate class SKCompat. Arguments x, y and batch_size are only\n",
      "available in the SKCompat class, Estimator will only accept input_fn.\n",
      "Example conversion:\n",
      "  est = Estimator(...) -> est = SKCompat(Estimator(...))\n",
      "WARNING:tensorflow:float64 is not supported by many models, consider casting to float32.\n",
      "INFO:tensorflow:Summary name dnn/hiddenlayer_0:fraction_of_zero_values is illegal; using dnn/hiddenlayer_0_fraction_of_zero_values instead.\n",
      "INFO:tensorflow:Summary name dnn/hiddenlayer_0:activation is illegal; using dnn/hiddenlayer_0_activation instead.\n",
      "INFO:tensorflow:Summary name dnn/hiddenlayer_1:fraction_of_zero_values is illegal; using dnn/hiddenlayer_1_fraction_of_zero_values instead.\n",
      "INFO:tensorflow:Summary name dnn/hiddenlayer_1:activation is illegal; using dnn/hiddenlayer_1_activation instead.\n",
      "INFO:tensorflow:Summary name dnn/hiddenlayer_2:fraction_of_zero_values is illegal; using dnn/hiddenlayer_2_fraction_of_zero_values instead.\n",
      "INFO:tensorflow:Summary name dnn/hiddenlayer_2:activation is illegal; using dnn/hiddenlayer_2_activation instead.\n",
      "INFO:tensorflow:Summary name dnn/logits:fraction_of_zero_values is illegal; using dnn/logits_fraction_of_zero_values instead.\n",
      "INFO:tensorflow:Summary name dnn/logits:activation is illegal; using dnn/logits_activation instead.\n",
      "INFO:tensorflow:Create CheckpointSaverHook.\n",
      "INFO:tensorflow:loss = 0.750445, step = 5001\n",
      "INFO:tensorflow:Saving checkpoints for 5001 into /var/folders/_m/zb4mrpv16mn8h39h1b2tfy8r0000gn/T/tmpgtbogjop/model.ckpt.\n",
      "WARNING:tensorflow:*******************************************************\n",
      "WARNING:tensorflow:TensorFlow's V1 checkpoint format has been deprecated.\n",
      "WARNING:tensorflow:Consider switching to the more efficient V2 format:\n",
      "WARNING:tensorflow:   `tf.train.Saver(write_version=tf.train.SaverDef.V2)`\n",
      "WARNING:tensorflow:now on by default.\n",
      "WARNING:tensorflow:*******************************************************\n",
      "INFO:tensorflow:loss = 0.701035, step = 5101\n",
      "INFO:tensorflow:global_step/sec: 58.0916\n",
      "INFO:tensorflow:loss = 0.688659, step = 5201\n",
      "INFO:tensorflow:global_step/sec: 77.8752\n",
      "INFO:tensorflow:loss = 0.68103, step = 5301\n",
      "INFO:tensorflow:global_step/sec: 64.0049\n",
      "INFO:tensorflow:loss = 0.675309, step = 5401\n",
      "INFO:tensorflow:global_step/sec: 68.5517\n",
      "INFO:tensorflow:loss = 0.670328, step = 5501\n",
      "INFO:tensorflow:global_step/sec: 78.7099\n",
      "INFO:tensorflow:loss = 0.666982, step = 5601\n",
      "INFO:tensorflow:global_step/sec: 79.7049\n",
      "INFO:tensorflow:loss = 0.66352, step = 5701\n",
      "INFO:tensorflow:global_step/sec: 80.3288\n",
      "INFO:tensorflow:loss = 0.660437, step = 5801\n",
      "INFO:tensorflow:global_step/sec: 79.553\n",
      "INFO:tensorflow:loss = 0.657448, step = 5901\n",
      "INFO:tensorflow:global_step/sec: 79.5062\n",
      "INFO:tensorflow:loss = 0.655182, step = 6001\n",
      "INFO:tensorflow:global_step/sec: 68.7352\n",
      "INFO:tensorflow:loss = 0.652135, step = 6101\n",
      "INFO:tensorflow:global_step/sec: 76.2634\n",
      "INFO:tensorflow:loss = 0.649605, step = 6201\n",
      "INFO:tensorflow:global_step/sec: 79.4595\n",
      "INFO:tensorflow:loss = 0.647794, step = 6301\n",
      "INFO:tensorflow:global_step/sec: 79.3421\n",
      "INFO:tensorflow:loss = 0.645989, step = 6401\n",
      "INFO:tensorflow:global_step/sec: 79.4611\n",
      "INFO:tensorflow:loss = 0.6438, step = 6501\n",
      "INFO:tensorflow:global_step/sec: 79.9113\n",
      "INFO:tensorflow:loss = 0.641756, step = 6601\n",
      "INFO:tensorflow:global_step/sec: 69.232\n",
      "INFO:tensorflow:loss = 0.639979, step = 6701\n",
      "INFO:tensorflow:global_step/sec: 55.9719\n",
      "INFO:tensorflow:loss = 0.637825, step = 6801\n",
      "INFO:tensorflow:global_step/sec: 52.6234\n",
      "INFO:tensorflow:loss = 0.63629, step = 6901\n",
      "INFO:tensorflow:global_step/sec: 65.961\n",
      "INFO:tensorflow:loss = 0.634967, step = 7001\n",
      "INFO:tensorflow:global_step/sec: 54.3747\n",
      "INFO:tensorflow:loss = 0.633003, step = 7101\n",
      "INFO:tensorflow:global_step/sec: 72.9216\n",
      "INFO:tensorflow:loss = 0.63018, step = 7201\n",
      "INFO:tensorflow:global_step/sec: 80.0041\n",
      "INFO:tensorflow:loss = 0.628495, step = 7301\n",
      "INFO:tensorflow:global_step/sec: 79.4334\n",
      "INFO:tensorflow:loss = 0.62767, step = 7401\n",
      "INFO:tensorflow:global_step/sec: 79.7314\n",
      "INFO:tensorflow:loss = 0.625392, step = 7501\n",
      "INFO:tensorflow:global_step/sec: 79.5738\n",
      "INFO:tensorflow:loss = 0.623761, step = 7601\n",
      "INFO:tensorflow:global_step/sec: 72.2462\n",
      "INFO:tensorflow:loss = 0.62192, step = 7701\n",
      "INFO:tensorflow:global_step/sec: 63.8791\n",
      "INFO:tensorflow:loss = 0.61962, step = 7801\n",
      "INFO:tensorflow:global_step/sec: 73.9562\n",
      "INFO:tensorflow:loss = 0.618724, step = 7901\n",
      "INFO:tensorflow:global_step/sec: 75.2537\n",
      "INFO:tensorflow:loss = 0.617023, step = 8001\n",
      "INFO:tensorflow:global_step/sec: 74.0868\n",
      "INFO:tensorflow:loss = 0.615624, step = 8101\n",
      "INFO:tensorflow:global_step/sec: 79.0507\n",
      "INFO:tensorflow:loss = 0.613967, step = 8201\n",
      "INFO:tensorflow:global_step/sec: 59.5591\n",
      "INFO:tensorflow:loss = 0.612328, step = 8301\n",
      "INFO:tensorflow:global_step/sec: 68.6516\n",
      "INFO:tensorflow:loss = 0.611769, step = 8401\n",
      "INFO:tensorflow:global_step/sec: 77.6452\n",
      "INFO:tensorflow:loss = 0.609668, step = 8501\n",
      "INFO:tensorflow:global_step/sec: 78.2836\n",
      "INFO:tensorflow:loss = 0.611205, step = 8601\n",
      "INFO:tensorflow:global_step/sec: 80.0396\n",
      "INFO:tensorflow:loss = 0.609364, step = 8701\n",
      "INFO:tensorflow:global_step/sec: 79.8614\n",
      "INFO:tensorflow:loss = 0.607843, step = 8801\n",
      "INFO:tensorflow:global_step/sec: 71.3691\n",
      "INFO:tensorflow:loss = 0.605604, step = 8901\n",
      "INFO:tensorflow:global_step/sec: 70.3237\n",
      "INFO:tensorflow:loss = 0.604179, step = 9001\n",
      "INFO:tensorflow:global_step/sec: 74.7627\n",
      "INFO:tensorflow:loss = 0.603921, step = 9101\n",
      "INFO:tensorflow:global_step/sec: 70.4474\n",
      "INFO:tensorflow:loss = 0.602214, step = 9201\n",
      "INFO:tensorflow:global_step/sec: 70.4738\n",
      "INFO:tensorflow:loss = 0.601597, step = 9301\n",
      "INFO:tensorflow:global_step/sec: 71.8097\n",
      "INFO:tensorflow:loss = 0.600391, step = 9401\n",
      "INFO:tensorflow:global_step/sec: 65.6969\n",
      "INFO:tensorflow:loss = 0.598989, step = 9501\n",
      "INFO:tensorflow:global_step/sec: 74.7221\n",
      "INFO:tensorflow:loss = 0.598479, step = 9601\n",
      "INFO:tensorflow:global_step/sec: 71.4856\n",
      "INFO:tensorflow:loss = 0.598325, step = 9701\n",
      "INFO:tensorflow:global_step/sec: 70.2082\n",
      "INFO:tensorflow:loss = 0.596626, step = 9801\n",
      "INFO:tensorflow:global_step/sec: 75.2542\n",
      "INFO:tensorflow:loss = 0.595479, step = 9901\n",
      "INFO:tensorflow:global_step/sec: 80.2241\n",
      "INFO:tensorflow:loss = 0.593784, step = 10001\n",
      "INFO:tensorflow:global_step/sec: 70.3293\n",
      "INFO:tensorflow:loss = 0.593882, step = 10101\n",
      "INFO:tensorflow:global_step/sec: 70.4623\n",
      "INFO:tensorflow:loss = 0.592635, step = 10201\n",
      "INFO:tensorflow:global_step/sec: 70.5023\n",
      "INFO:tensorflow:loss = 0.591308, step = 10301\n",
      "INFO:tensorflow:global_step/sec: 69.249\n",
      "INFO:tensorflow:loss = 0.590102, step = 10401\n",
      "INFO:tensorflow:global_step/sec: 69.9761\n",
      "INFO:tensorflow:loss = 0.58867, step = 10501\n",
      "INFO:tensorflow:global_step/sec: 69.7578\n",
      "INFO:tensorflow:loss = 0.587928, step = 10601\n",
      "INFO:tensorflow:global_step/sec: 71.1838\n",
      "INFO:tensorflow:loss = 0.587307, step = 10701\n",
      "INFO:tensorflow:global_step/sec: 70.8262\n",
      "INFO:tensorflow:loss = 0.58624, step = 10801\n",
      "INFO:tensorflow:global_step/sec: 66.1611\n",
      "INFO:tensorflow:loss = 0.585233, step = 10901\n",
      "INFO:tensorflow:global_step/sec: 67.468\n",
      "INFO:tensorflow:loss = 0.584448, step = 11001\n",
      "INFO:tensorflow:global_step/sec: 68.2261\n",
      "INFO:tensorflow:loss = 0.584202, step = 11101\n",
      "INFO:tensorflow:global_step/sec: 69.8862\n",
      "INFO:tensorflow:loss = 0.583096, step = 11201\n",
      "INFO:tensorflow:global_step/sec: 68.9783\n",
      "INFO:tensorflow:loss = 0.581696, step = 11301\n",
      "INFO:tensorflow:global_step/sec: 69.341\n",
      "INFO:tensorflow:loss = 0.583177, step = 11401\n",
      "INFO:tensorflow:global_step/sec: 70.4566\n",
      "INFO:tensorflow:loss = 0.581426, step = 11501\n",
      "INFO:tensorflow:global_step/sec: 71.7503\n",
      "INFO:tensorflow:loss = 0.579498, step = 11601\n",
      "INFO:tensorflow:global_step/sec: 69.8752\n",
      "INFO:tensorflow:loss = 0.581045, step = 11701\n",
      "INFO:tensorflow:global_step/sec: 70.5196\n",
      "INFO:tensorflow:loss = 0.578006, step = 11801\n",
      "INFO:tensorflow:global_step/sec: 68.6365\n",
      "INFO:tensorflow:loss = 0.578215, step = 11901\n",
      "INFO:tensorflow:global_step/sec: 67.546\n",
      "INFO:tensorflow:loss = 0.576881, step = 12001\n",
      "INFO:tensorflow:global_step/sec: 68.8235\n",
      "INFO:tensorflow:loss = 0.576303, step = 12101\n",
      "INFO:tensorflow:global_step/sec: 77.1955\n",
      "INFO:tensorflow:loss = 0.578179, step = 12201\n",
      "INFO:tensorflow:global_step/sec: 70.3237\n",
      "INFO:tensorflow:loss = 0.575503, step = 12301\n",
      "INFO:tensorflow:global_step/sec: 77.9395\n",
      "INFO:tensorflow:loss = 0.575011, step = 12401\n",
      "INFO:tensorflow:global_step/sec: 79.9499\n",
      "INFO:tensorflow:loss = 0.574048, step = 12501\n",
      "INFO:tensorflow:global_step/sec: 79.282\n",
      "INFO:tensorflow:loss = 0.574181, step = 12601\n",
      "INFO:tensorflow:global_step/sec: 73.5779\n",
      "INFO:tensorflow:loss = 0.572979, step = 12701\n",
      "INFO:tensorflow:global_step/sec: 69.1783\n",
      "INFO:tensorflow:loss = 0.571933, step = 12801\n",
      "INFO:tensorflow:global_step/sec: 71.0607\n",
      "INFO:tensorflow:loss = 0.571481, step = 12901\n",
      "INFO:tensorflow:global_step/sec: 75.3039\n",
      "INFO:tensorflow:loss = 0.572068, step = 13001\n",
      "INFO:tensorflow:global_step/sec: 80.165\n",
      "INFO:tensorflow:loss = 0.569728, step = 13101\n",
      "INFO:tensorflow:global_step/sec: 78.927\n",
      "INFO:tensorflow:loss = 0.569306, step = 13201\n",
      "INFO:tensorflow:global_step/sec: 75.8062\n",
      "INFO:tensorflow:loss = 0.568637, step = 13301\n",
      "INFO:tensorflow:global_step/sec: 66.758\n",
      "INFO:tensorflow:loss = 0.567955, step = 13401\n",
      "INFO:tensorflow:global_step/sec: 69.8455\n",
      "INFO:tensorflow:loss = 0.566898, step = 13501\n",
      "INFO:tensorflow:global_step/sec: 69.2241\n",
      "INFO:tensorflow:loss = 0.570591, step = 13601\n",
      "INFO:tensorflow:global_step/sec: 71.0887\n",
      "INFO:tensorflow:loss = 0.566544, step = 13701\n",
      "INFO:tensorflow:global_step/sec: 69.2045\n",
      "INFO:tensorflow:loss = 0.565292, step = 13801\n",
      "INFO:tensorflow:global_step/sec: 75.73\n",
      "INFO:tensorflow:loss = 0.564302, step = 13901\n",
      "INFO:tensorflow:global_step/sec: 78.0868\n",
      "INFO:tensorflow:loss = 0.566025, step = 14001\n",
      "INFO:tensorflow:global_step/sec: 66.1872\n",
      "INFO:tensorflow:loss = 0.562878, step = 14101\n",
      "INFO:tensorflow:global_step/sec: 76.0822\n",
      "INFO:tensorflow:loss = 0.562259, step = 14201\n",
      "INFO:tensorflow:global_step/sec: 71.7116\n",
      "INFO:tensorflow:loss = 0.564263, step = 14301\n",
      "INFO:tensorflow:global_step/sec: 67.7564\n",
      "INFO:tensorflow:loss = 0.561587, step = 14401\n",
      "INFO:tensorflow:global_step/sec: 68.6879\n",
      "INFO:tensorflow:loss = 0.560626, step = 14501\n",
      "INFO:tensorflow:global_step/sec: 75.6949\n",
      "INFO:tensorflow:loss = 0.559728, step = 14601\n",
      "INFO:tensorflow:global_step/sec: 71.4738\n",
      "INFO:tensorflow:loss = 0.559179, step = 14701\n",
      "INFO:tensorflow:global_step/sec: 70.595\n",
      "INFO:tensorflow:loss = 0.55953, step = 14801\n",
      "INFO:tensorflow:global_step/sec: 69.4201\n",
      "INFO:tensorflow:loss = 0.55907, step = 14901\n",
      "INFO:tensorflow:global_step/sec: 71.278\n",
      "INFO:tensorflow:Saving checkpoints for 15000 into /var/folders/_m/zb4mrpv16mn8h39h1b2tfy8r0000gn/T/tmpgtbogjop/model.ckpt.\n",
      "WARNING:tensorflow:*******************************************************\n",
      "WARNING:tensorflow:TensorFlow's V1 checkpoint format has been deprecated.\n",
      "WARNING:tensorflow:Consider switching to the more efficient V2 format:\n",
      "WARNING:tensorflow:   `tf.train.Saver(write_version=tf.train.SaverDef.V2)`\n",
      "WARNING:tensorflow:now on by default.\n",
      "WARNING:tensorflow:*******************************************************\n",
      "INFO:tensorflow:Loss for final step: 0.558766.\n",
      "WARNING:tensorflow:From //anaconda/lib/python3.5/site-packages/tensorflow/contrib/learn/python/learn/estimators/dnn.py:348 in predict.: calling BaseEstimator.predict (from tensorflow.contrib.learn.python.learn.estimators.estimator) with x is deprecated and will be removed after 2016-12-01.\n",
      "Instructions for updating:\n",
      "Estimator is decoupled from Scikit Learn interface by moving into\n",
      "separate class SKCompat. Arguments x, y and batch_size are only\n",
      "available in the SKCompat class, Estimator will only accept input_fn.\n",
      "Example conversion:\n",
      "  est = Estimator(...) -> est = SKCompat(Estimator(...))\n",
      "WARNING:tensorflow:From //anaconda/lib/python3.5/site-packages/tensorflow/contrib/learn/python/learn/estimators/dnn.py:348 in predict.: calling BaseEstimator.predict (from tensorflow.contrib.learn.python.learn.estimators.estimator) with batch_size is deprecated and will be removed after 2016-12-01.\n",
      "Instructions for updating:\n",
      "Estimator is decoupled from Scikit Learn interface by moving into\n",
      "separate class SKCompat. Arguments x, y and batch_size are only\n",
      "available in the SKCompat class, Estimator will only accept input_fn.\n",
      "Example conversion:\n",
      "  est = Estimator(...) -> est = SKCompat(Estimator(...))\n",
      "WARNING:tensorflow:From //anaconda/lib/python3.5/site-packages/tensorflow/contrib/learn/python/learn/estimators/dnn.py:348 in predict.: calling BaseEstimator.predict (from tensorflow.contrib.learn.python.learn.estimators.estimator) with as_iterable is deprecated and will be removed after 2016-12-01.\n",
      "Instructions for updating:\n",
      "Estimator is decoupled from Scikit Learn interface by moving into\n",
      "separate class SKCompat. Arguments x, y and batch_size are only\n",
      "available in the SKCompat class, Estimator will only accept input_fn.\n",
      "Example conversion:\n",
      "  est = Estimator(...) -> est = SKCompat(Estimator(...))\n",
      "WARNING:tensorflow:float64 is not supported by many models, consider casting to float32.\n",
      "INFO:tensorflow:Summary name dnn/hiddenlayer_0:fraction_of_zero_values is illegal; using dnn/hiddenlayer_0_fraction_of_zero_values instead.\n",
      "INFO:tensorflow:Summary name dnn/hiddenlayer_0:activation is illegal; using dnn/hiddenlayer_0_activation instead.\n",
      "INFO:tensorflow:Summary name dnn/hiddenlayer_1:fraction_of_zero_values is illegal; using dnn/hiddenlayer_1_fraction_of_zero_values instead.\n",
      "INFO:tensorflow:Summary name dnn/hiddenlayer_1:activation is illegal; using dnn/hiddenlayer_1_activation instead.\n",
      "INFO:tensorflow:Summary name dnn/hiddenlayer_2:fraction_of_zero_values is illegal; using dnn/hiddenlayer_2_fraction_of_zero_values instead.\n",
      "INFO:tensorflow:Summary name dnn/hiddenlayer_2:activation is illegal; using dnn/hiddenlayer_2_activation instead.\n",
      "INFO:tensorflow:Summary name dnn/logits:fraction_of_zero_values is illegal; using dnn/logits_fraction_of_zero_values instead.\n",
      "INFO:tensorflow:Summary name dnn/logits:activation is illegal; using dnn/logits_activation instead.\n",
      "INFO:tensorflow:Loading model from checkpoint: /var/folders/_m/zb4mrpv16mn8h39h1b2tfy8r0000gn/T/tmpgtbogjop/model.ckpt-15000-?????-of-00001.\n"
     ]
    }
   ],
   "source": [
    "classifier_filtered.fit(x=X_train_full,\n",
    "               y=y_train_full,\n",
    "               steps=10000)\n",
    "predictions = classifier_filtered.predict(X_ts)\n",
    "y_predict_filtered = []\n",
    "for i, p in enumerate(predictions):\n",
    "    y_predict_filtered.append(p)\n",
    "well_data['Facies'] = y_predict_filtered\n",
    "well_data\n",
    "well_data.to_csv('predict_result_dnn_full_data.csv')"
   ]
  },
  {
   "cell_type": "markdown",
   "metadata": {},
   "source": [
    "Post Processing"
   ]
  },
  {
   "cell_type": "code",
   "execution_count": 100,
   "metadata": {
    "collapsed": false
   },
   "outputs": [],
   "source": [
    "well_data[\"Well Name\"].value_counts()\n",
    "idx_s = []\n",
    "idx_c = []\n",
    "for i in range(len(well_data)):\n",
    "    if (well_data[\"Well Name\"].values[i] == \"STUART\"):\n",
    "        idx_s.append(i)\n",
    "    else:\n",
    "        idx_c.append(i)\n",
    "well_s = well_data.drop(well_data.index[idx_c])\n",
    "well_c = well_data.drop(well_data.index[idx_s])"
   ]
  },
  {
   "cell_type": "code",
   "execution_count": 101,
   "metadata": {
    "collapsed": false
   },
   "outputs": [],
   "source": [
    "def smooth_results(w_data):\n",
    "    data = w_data.copy()\n",
    "    first_face = 0\n",
    "    next_face = 0\n",
    "    face_len = 0\n",
    "    last_face = 0\n",
    "    for i in range(len(data)):\n",
    "        if(i==0):\n",
    "            first_face = data[\"Facies\"].values[i]\n",
    "            continue\n",
    "        next_face = data[\"Facies\"].values[i]\n",
    "        if (first_face == next_face):\n",
    "            face_len = face_len+1\n",
    "        if (face_len >=4):\n",
    "            last_face = first_face\n",
    "        if (first_face != next_face):\n",
    "            if(last_face == next_face) and (face_len <4):\n",
    "                for j in range(i-face_len, i):\n",
    "                    data[\"Facies\"].values[j]=last_face\n",
    "                face_len = 1\n",
    "            else:\n",
    "                face_len = 1\n",
    "                first_face = next_face\n",
    "    return data"
   ]
  },
  {
   "cell_type": "code",
   "execution_count": 102,
   "metadata": {
    "collapsed": false
   },
   "outputs": [],
   "source": [
    "well_s_s = smooth_results(well_s)\n",
    "well_c_s = smooth_results(well_c)"
   ]
  },
  {
   "cell_type": "code",
   "execution_count": 103,
   "metadata": {
    "collapsed": false,
    "scrolled": true
   },
   "outputs": [],
   "source": [
    "smooth_result = well_s_s\n",
    "smooth_result = smooth_result.append(well_c_s)\n",
    "smooth_result.to_csv('predict_result_svm_full_data_smooth.csv')"
   ]
  },
  {
   "cell_type": "markdown",
   "metadata": {},
   "source": [
    "Find best model by setting different parameters"
   ]
  },
  {
   "cell_type": "code",
   "execution_count": 29,
   "metadata": {
    "collapsed": true
   },
   "outputs": [],
   "source": [
    "def dnn_prediction(dnn,s_num):\n",
    "    dnn.fit(x=X_train,y=y_train,steps=s_num)\n",
    "    y_predict = []\n",
    "    predictions = classifier_filtered.predict(x=X_test)\n",
    "\n",
    "    for i, p in enumerate(predictions):\n",
    "        y_predict.append(p)\n",
    "\n",
    "    score = classifier_filtered.evaluate(x=X_test, y=y_test)[\"accuracy\"]\n",
    "    print('Accuracy: {0:f}'.format(accuracy_score))\n",
    "\n",
    "    cv_conf = confusion_matrix(y_test, y_predict)\n",
    "    return score, cv_conf"
   ]
  },
  {
   "cell_type": "code",
   "execution_count": null,
   "metadata": {
    "collapsed": true
   },
   "outputs": [],
   "source": []
  }
 ],
 "metadata": {
  "anaconda-cloud": {},
  "kernelspec": {
   "display_name": "Python [default]",
   "language": "python",
   "name": "python3"
  },
  "language_info": {
   "codemirror_mode": {
    "name": "ipython",
    "version": 3
   },
   "file_extension": ".py",
   "mimetype": "text/x-python",
   "name": "python",
   "nbconvert_exporter": "python",
   "pygments_lexer": "ipython3",
   "version": "3.5.2"
  }
 },
 "nbformat": 4,
 "nbformat_minor": 0
}
