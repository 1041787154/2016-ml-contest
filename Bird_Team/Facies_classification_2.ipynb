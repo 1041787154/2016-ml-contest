{
 "cells": [
  {
   "cell_type": "markdown",
   "metadata": {},
   "source": [
    "# Facies classification using Machine Learning\n",
    "\n",
    "#### Bird Team: PG+AC"
   ]
  },
  {
   "cell_type": "code",
   "execution_count": 9,
   "metadata": {
    "collapsed": false
   },
   "outputs": [],
   "source": [
    "%matplotlib inline\n",
    "import pandas as pd\n",
    "from sklearn.ensemble import RandomForestClassifier\n",
    "import numpy as np\n",
    "import matplotlib as mpl\n",
    "import matplotlib.pyplot as plt\n",
    "import matplotlib.colors as colors\n",
    "from mpl_toolkits.axes_grid1 import make_axes_locatable\n",
    "\n",
    "from pandas import set_option\n",
    "set_option(\"display.max_rows\", 10)\n",
    "pd.options.mode.chained_assignment = None"
   ]
  },
  {
   "cell_type": "code",
   "execution_count": 16,
   "metadata": {
    "collapsed": false
   },
   "outputs": [
    {
     "name": "stdout",
     "output_type": "stream",
     "text": [
      "set(['SHRIMPLIN', 'Recruit F9', 'SHANKLE', 'CHURCHMAN BIBLE', 'NOLAN', 'NEWBY', 'LUKE G U', 'CROSS H CATTLE'])\n"
     ]
    },
    {
     "data": {
      "text/html": [
       "<div>\n",
       "<table border=\"1\" class=\"dataframe\">\n",
       "  <thead>\n",
       "    <tr style=\"text-align: right;\">\n",
       "      <th></th>\n",
       "      <th>Facies</th>\n",
       "      <th>Formation</th>\n",
       "      <th>Well Name</th>\n",
       "      <th>Depth</th>\n",
       "      <th>GR</th>\n",
       "      <th>ILD_log10</th>\n",
       "      <th>DeltaPHI</th>\n",
       "      <th>PHIND</th>\n",
       "      <th>PE</th>\n",
       "      <th>NM_M</th>\n",
       "      <th>RELPOS</th>\n",
       "    </tr>\n",
       "  </thead>\n",
       "  <tbody>\n",
       "    <tr>\n",
       "      <th>0</th>\n",
       "      <td>3</td>\n",
       "      <td>A1 SH</td>\n",
       "      <td>SHRIMPLIN</td>\n",
       "      <td>2793.0</td>\n",
       "      <td>77.45</td>\n",
       "      <td>0.664</td>\n",
       "      <td>9.9</td>\n",
       "      <td>11.915</td>\n",
       "      <td>4.6</td>\n",
       "      <td>1</td>\n",
       "      <td>1.000</td>\n",
       "    </tr>\n",
       "    <tr>\n",
       "      <th>1</th>\n",
       "      <td>3</td>\n",
       "      <td>A1 SH</td>\n",
       "      <td>SHRIMPLIN</td>\n",
       "      <td>2793.5</td>\n",
       "      <td>78.26</td>\n",
       "      <td>0.661</td>\n",
       "      <td>14.2</td>\n",
       "      <td>12.565</td>\n",
       "      <td>4.1</td>\n",
       "      <td>1</td>\n",
       "      <td>0.979</td>\n",
       "    </tr>\n",
       "    <tr>\n",
       "      <th>2</th>\n",
       "      <td>3</td>\n",
       "      <td>A1 SH</td>\n",
       "      <td>SHRIMPLIN</td>\n",
       "      <td>2794.0</td>\n",
       "      <td>79.05</td>\n",
       "      <td>0.658</td>\n",
       "      <td>14.8</td>\n",
       "      <td>13.050</td>\n",
       "      <td>3.6</td>\n",
       "      <td>1</td>\n",
       "      <td>0.957</td>\n",
       "    </tr>\n",
       "    <tr>\n",
       "      <th>3</th>\n",
       "      <td>3</td>\n",
       "      <td>A1 SH</td>\n",
       "      <td>SHRIMPLIN</td>\n",
       "      <td>2794.5</td>\n",
       "      <td>86.10</td>\n",
       "      <td>0.655</td>\n",
       "      <td>13.9</td>\n",
       "      <td>13.115</td>\n",
       "      <td>3.5</td>\n",
       "      <td>1</td>\n",
       "      <td>0.936</td>\n",
       "    </tr>\n",
       "    <tr>\n",
       "      <th>4</th>\n",
       "      <td>3</td>\n",
       "      <td>A1 SH</td>\n",
       "      <td>SHRIMPLIN</td>\n",
       "      <td>2795.0</td>\n",
       "      <td>74.58</td>\n",
       "      <td>0.647</td>\n",
       "      <td>13.5</td>\n",
       "      <td>13.300</td>\n",
       "      <td>3.4</td>\n",
       "      <td>1</td>\n",
       "      <td>0.915</td>\n",
       "    </tr>\n",
       "  </tbody>\n",
       "</table>\n",
       "</div>"
      ],
      "text/plain": [
       "   Facies Formation  Well Name   Depth     GR  ILD_log10  DeltaPHI   PHIND  \\\n",
       "0       3     A1 SH  SHRIMPLIN  2793.0  77.45      0.664       9.9  11.915   \n",
       "1       3     A1 SH  SHRIMPLIN  2793.5  78.26      0.661      14.2  12.565   \n",
       "2       3     A1 SH  SHRIMPLIN  2794.0  79.05      0.658      14.8  13.050   \n",
       "3       3     A1 SH  SHRIMPLIN  2794.5  86.10      0.655      13.9  13.115   \n",
       "4       3     A1 SH  SHRIMPLIN  2795.0  74.58      0.647      13.5  13.300   \n",
       "\n",
       "    PE  NM_M  RELPOS  \n",
       "0  4.6     1   1.000  \n",
       "1  4.1     1   0.979  \n",
       "2  3.6     1   0.957  \n",
       "3  3.5     1   0.936  \n",
       "4  3.4     1   0.915  "
      ]
     },
     "execution_count": 16,
     "metadata": {},
     "output_type": "execute_result"
    }
   ],
   "source": [
    "filename = './../training_data.csv'\n",
    "training_data = pd.read_csv(filename)\n",
    "print(set(training_data[\"Well Name\"]))\n",
    "training_data.head()"
   ]
  },
  {
   "cell_type": "code",
   "execution_count": 48,
   "metadata": {
    "collapsed": false
   },
   "outputs": [
    {
     "name": "stdout",
     "output_type": "stream",
     "text": [
      "set(['CRAWFORD', 'STUART'])\n",
      "(830, 10)\n"
     ]
    },
    {
     "data": {
      "text/html": [
       "<div>\n",
       "<table border=\"1\" class=\"dataframe\">\n",
       "  <thead>\n",
       "    <tr style=\"text-align: right;\">\n",
       "      <th></th>\n",
       "      <th>Formation</th>\n",
       "      <th>Well Name</th>\n",
       "      <th>Depth</th>\n",
       "      <th>GR</th>\n",
       "      <th>ILD_log10</th>\n",
       "      <th>DeltaPHI</th>\n",
       "      <th>PHIND</th>\n",
       "      <th>PE</th>\n",
       "      <th>NM_M</th>\n",
       "      <th>RELPOS</th>\n",
       "    </tr>\n",
       "  </thead>\n",
       "  <tbody>\n",
       "    <tr>\n",
       "      <th>0</th>\n",
       "      <td>A1 SH</td>\n",
       "      <td>STUART</td>\n",
       "      <td>2808.0</td>\n",
       "      <td>66.276</td>\n",
       "      <td>0.630</td>\n",
       "      <td>3.3</td>\n",
       "      <td>10.65</td>\n",
       "      <td>3.591</td>\n",
       "      <td>1</td>\n",
       "      <td>1.000</td>\n",
       "    </tr>\n",
       "    <tr>\n",
       "      <th>1</th>\n",
       "      <td>A1 SH</td>\n",
       "      <td>STUART</td>\n",
       "      <td>2808.5</td>\n",
       "      <td>77.252</td>\n",
       "      <td>0.585</td>\n",
       "      <td>6.5</td>\n",
       "      <td>11.95</td>\n",
       "      <td>3.341</td>\n",
       "      <td>1</td>\n",
       "      <td>0.978</td>\n",
       "    </tr>\n",
       "    <tr>\n",
       "      <th>2</th>\n",
       "      <td>A1 SH</td>\n",
       "      <td>STUART</td>\n",
       "      <td>2809.0</td>\n",
       "      <td>82.899</td>\n",
       "      <td>0.566</td>\n",
       "      <td>9.4</td>\n",
       "      <td>13.60</td>\n",
       "      <td>3.064</td>\n",
       "      <td>1</td>\n",
       "      <td>0.956</td>\n",
       "    </tr>\n",
       "    <tr>\n",
       "      <th>3</th>\n",
       "      <td>A1 SH</td>\n",
       "      <td>STUART</td>\n",
       "      <td>2809.5</td>\n",
       "      <td>80.671</td>\n",
       "      <td>0.593</td>\n",
       "      <td>9.5</td>\n",
       "      <td>13.25</td>\n",
       "      <td>2.977</td>\n",
       "      <td>1</td>\n",
       "      <td>0.933</td>\n",
       "    </tr>\n",
       "    <tr>\n",
       "      <th>4</th>\n",
       "      <td>A1 SH</td>\n",
       "      <td>STUART</td>\n",
       "      <td>2810.0</td>\n",
       "      <td>75.971</td>\n",
       "      <td>0.638</td>\n",
       "      <td>8.7</td>\n",
       "      <td>12.35</td>\n",
       "      <td>3.020</td>\n",
       "      <td>1</td>\n",
       "      <td>0.911</td>\n",
       "    </tr>\n",
       "  </tbody>\n",
       "</table>\n",
       "</div>"
      ],
      "text/plain": [
       "  Formation Well Name   Depth      GR  ILD_log10  DeltaPHI  PHIND     PE  \\\n",
       "0     A1 SH    STUART  2808.0  66.276      0.630       3.3  10.65  3.591   \n",
       "1     A1 SH    STUART  2808.5  77.252      0.585       6.5  11.95  3.341   \n",
       "2     A1 SH    STUART  2809.0  82.899      0.566       9.4  13.60  3.064   \n",
       "3     A1 SH    STUART  2809.5  80.671      0.593       9.5  13.25  2.977   \n",
       "4     A1 SH    STUART  2810.0  75.971      0.638       8.7  12.35  3.020   \n",
       "\n",
       "   NM_M  RELPOS  \n",
       "0     1   1.000  \n",
       "1     1   0.978  \n",
       "2     1   0.956  \n",
       "3     1   0.933  \n",
       "4     1   0.911  "
      ]
     },
     "execution_count": 48,
     "metadata": {},
     "output_type": "execute_result"
    }
   ],
   "source": [
    "well_data = pd.read_csv('./../validation_data_nofacies.csv')\n",
    "print(set(well_data[\"Well Name\"]))\n",
    "print(well_data.shape)\n",
    "well_data.head()"
   ]
  },
  {
   "cell_type": "code",
   "execution_count": 18,
   "metadata": {
    "collapsed": false
   },
   "outputs": [
    {
     "data": {
      "text/html": [
       "<div>\n",
       "<table border=\"1\" class=\"dataframe\">\n",
       "  <thead>\n",
       "    <tr style=\"text-align: right;\">\n",
       "      <th></th>\n",
       "      <th>Facies</th>\n",
       "      <th>Formation</th>\n",
       "      <th>Well Name</th>\n",
       "      <th>Depth</th>\n",
       "      <th>GR</th>\n",
       "      <th>ILD_log10</th>\n",
       "      <th>DeltaPHI</th>\n",
       "      <th>PHIND</th>\n",
       "      <th>PE</th>\n",
       "      <th>NM_M</th>\n",
       "      <th>RELPOS</th>\n",
       "      <th>origin</th>\n",
       "    </tr>\n",
       "  </thead>\n",
       "  <tbody>\n",
       "    <tr>\n",
       "      <th>0</th>\n",
       "      <td>NaN</td>\n",
       "      <td>A1 SH</td>\n",
       "      <td>STUART</td>\n",
       "      <td>2808.0</td>\n",
       "      <td>66.276</td>\n",
       "      <td>0.630</td>\n",
       "      <td>3.3</td>\n",
       "      <td>10.65</td>\n",
       "      <td>3.591</td>\n",
       "      <td>1</td>\n",
       "      <td>1.000</td>\n",
       "      <td>test</td>\n",
       "    </tr>\n",
       "    <tr>\n",
       "      <th>1</th>\n",
       "      <td>NaN</td>\n",
       "      <td>A1 SH</td>\n",
       "      <td>STUART</td>\n",
       "      <td>2808.5</td>\n",
       "      <td>77.252</td>\n",
       "      <td>0.585</td>\n",
       "      <td>6.5</td>\n",
       "      <td>11.95</td>\n",
       "      <td>3.341</td>\n",
       "      <td>1</td>\n",
       "      <td>0.978</td>\n",
       "      <td>test</td>\n",
       "    </tr>\n",
       "    <tr>\n",
       "      <th>2</th>\n",
       "      <td>NaN</td>\n",
       "      <td>A1 SH</td>\n",
       "      <td>STUART</td>\n",
       "      <td>2809.0</td>\n",
       "      <td>82.899</td>\n",
       "      <td>0.566</td>\n",
       "      <td>9.4</td>\n",
       "      <td>13.60</td>\n",
       "      <td>3.064</td>\n",
       "      <td>1</td>\n",
       "      <td>0.956</td>\n",
       "      <td>test</td>\n",
       "    </tr>\n",
       "    <tr>\n",
       "      <th>3</th>\n",
       "      <td>NaN</td>\n",
       "      <td>A1 SH</td>\n",
       "      <td>STUART</td>\n",
       "      <td>2809.5</td>\n",
       "      <td>80.671</td>\n",
       "      <td>0.593</td>\n",
       "      <td>9.5</td>\n",
       "      <td>13.25</td>\n",
       "      <td>2.977</td>\n",
       "      <td>1</td>\n",
       "      <td>0.933</td>\n",
       "      <td>test</td>\n",
       "    </tr>\n",
       "    <tr>\n",
       "      <th>4</th>\n",
       "      <td>NaN</td>\n",
       "      <td>A1 SH</td>\n",
       "      <td>STUART</td>\n",
       "      <td>2810.0</td>\n",
       "      <td>75.971</td>\n",
       "      <td>0.638</td>\n",
       "      <td>8.7</td>\n",
       "      <td>12.35</td>\n",
       "      <td>3.020</td>\n",
       "      <td>1</td>\n",
       "      <td>0.911</td>\n",
       "      <td>test</td>\n",
       "    </tr>\n",
       "    <tr>\n",
       "      <th>5</th>\n",
       "      <td>NaN</td>\n",
       "      <td>A1 SH</td>\n",
       "      <td>STUART</td>\n",
       "      <td>2810.5</td>\n",
       "      <td>73.955</td>\n",
       "      <td>0.667</td>\n",
       "      <td>6.9</td>\n",
       "      <td>12.25</td>\n",
       "      <td>3.086</td>\n",
       "      <td>1</td>\n",
       "      <td>0.889</td>\n",
       "      <td>test</td>\n",
       "    </tr>\n",
       "    <tr>\n",
       "      <th>6</th>\n",
       "      <td>NaN</td>\n",
       "      <td>A1 SH</td>\n",
       "      <td>STUART</td>\n",
       "      <td>2811.0</td>\n",
       "      <td>77.962</td>\n",
       "      <td>0.674</td>\n",
       "      <td>6.5</td>\n",
       "      <td>12.45</td>\n",
       "      <td>3.092</td>\n",
       "      <td>1</td>\n",
       "      <td>0.867</td>\n",
       "      <td>test</td>\n",
       "    </tr>\n",
       "    <tr>\n",
       "      <th>7</th>\n",
       "      <td>NaN</td>\n",
       "      <td>A1 SH</td>\n",
       "      <td>STUART</td>\n",
       "      <td>2811.5</td>\n",
       "      <td>83.894</td>\n",
       "      <td>0.667</td>\n",
       "      <td>6.3</td>\n",
       "      <td>12.65</td>\n",
       "      <td>3.123</td>\n",
       "      <td>1</td>\n",
       "      <td>0.844</td>\n",
       "      <td>test</td>\n",
       "    </tr>\n",
       "    <tr>\n",
       "      <th>8</th>\n",
       "      <td>NaN</td>\n",
       "      <td>A1 SH</td>\n",
       "      <td>STUART</td>\n",
       "      <td>2812.0</td>\n",
       "      <td>84.424</td>\n",
       "      <td>0.653</td>\n",
       "      <td>6.7</td>\n",
       "      <td>13.05</td>\n",
       "      <td>3.121</td>\n",
       "      <td>1</td>\n",
       "      <td>0.822</td>\n",
       "      <td>test</td>\n",
       "    </tr>\n",
       "    <tr>\n",
       "      <th>9</th>\n",
       "      <td>NaN</td>\n",
       "      <td>A1 SH</td>\n",
       "      <td>STUART</td>\n",
       "      <td>2812.5</td>\n",
       "      <td>83.160</td>\n",
       "      <td>0.642</td>\n",
       "      <td>7.3</td>\n",
       "      <td>12.95</td>\n",
       "      <td>3.127</td>\n",
       "      <td>1</td>\n",
       "      <td>0.800</td>\n",
       "      <td>test</td>\n",
       "    </tr>\n",
       "  </tbody>\n",
       "</table>\n",
       "</div>"
      ],
      "text/plain": [
       "   Facies Formation Well Name   Depth      GR  ILD_log10  DeltaPHI  PHIND  \\\n",
       "0     NaN     A1 SH    STUART  2808.0  66.276      0.630       3.3  10.65   \n",
       "1     NaN     A1 SH    STUART  2808.5  77.252      0.585       6.5  11.95   \n",
       "2     NaN     A1 SH    STUART  2809.0  82.899      0.566       9.4  13.60   \n",
       "3     NaN     A1 SH    STUART  2809.5  80.671      0.593       9.5  13.25   \n",
       "4     NaN     A1 SH    STUART  2810.0  75.971      0.638       8.7  12.35   \n",
       "5     NaN     A1 SH    STUART  2810.5  73.955      0.667       6.9  12.25   \n",
       "6     NaN     A1 SH    STUART  2811.0  77.962      0.674       6.5  12.45   \n",
       "7     NaN     A1 SH    STUART  2811.5  83.894      0.667       6.3  12.65   \n",
       "8     NaN     A1 SH    STUART  2812.0  84.424      0.653       6.7  13.05   \n",
       "9     NaN     A1 SH    STUART  2812.5  83.160      0.642       7.3  12.95   \n",
       "\n",
       "      PE  NM_M  RELPOS origin  \n",
       "0  3.591     1   1.000   test  \n",
       "1  3.341     1   0.978   test  \n",
       "2  3.064     1   0.956   test  \n",
       "3  2.977     1   0.933   test  \n",
       "4  3.020     1   0.911   test  \n",
       "5  3.086     1   0.889   test  \n",
       "6  3.092     1   0.867   test  \n",
       "7  3.123     1   0.844   test  \n",
       "8  3.121     1   0.822   test  \n",
       "9  3.127     1   0.800   test  "
      ]
     },
     "execution_count": 18,
     "metadata": {},
     "output_type": "execute_result"
    }
   ],
   "source": [
    "# concat train and test for processing \n",
    "well_data[\"origin\"] = 'test'\n",
    "training_data[\"origin\"] = 'train'\n",
    "df = pd.concat([well_data,training_data],axis=0,ignore_index=True)[list(training_data.columns)]\n",
    "df['Well Name'] = df['Well Name'].astype('category')\n",
    "df.head(10)"
   ]
  },
  {
   "cell_type": "code",
   "execution_count": 19,
   "metadata": {
    "collapsed": false
   },
   "outputs": [
    {
     "name": "stdout",
     "output_type": "stream",
     "text": [
      "session\n",
      "depth\n",
      "add avgs of feat\n",
      "add distances feat.\n",
      "lag lead\n",
      "rolling\n",
      "filling na\n"
     ]
    }
   ],
   "source": [
    "# add some features based on the well data. \n",
    "\n",
    "# nb points : can be correlated with how soft soil is ? \n",
    "print(\"session\")\n",
    "sessionsize = df.groupby([\"Well Name\",'Formation']).size().reset_index()\n",
    "sessionsize.columns =  [\"Well Name\",'Formation','formation_size']\n",
    "df = pd.merge(df,sessionsize,how='left',on = [\"Well Name\",'Formation'])\n",
    "\n",
    "# depth : \n",
    "print(\"depth\")\n",
    "sessionsize = df.groupby([\"Well Name\",'Formation'])[\"Depth\"].min().reset_index()\n",
    "sessionsize.columns =  [\"Well Name\",'Formation','minimum_depth']\n",
    "df = pd.merge(df,sessionsize,how='left',on = [\"Well Name\",'Formation'])\n",
    "\n",
    "sessionsize = df.groupby([\"Well Name\",'Formation'])[\"Depth\"].max().reset_index()\n",
    "sessionsize.columns =  [\"Well Name\",'Formation','maximum_depth']\n",
    "df = pd.merge(df,sessionsize,how='left',on = [\"Well Name\",'Formation'])\n",
    "\n",
    "df['formation_depth'] = df[\"maximum_depth\"] - df[\"minimum_depth\"]\n",
    "\n",
    "df[\"soft_indic\"] = df['formation_depth'] / df[\"formation_size\"]\n",
    "\n",
    "# add avgs of feat\n",
    "print(\"add avgs of feat\")\n",
    "list_to_avg = ['Depth', 'GR', 'ILD_log10', 'DeltaPHI', 'PHIND', 'PE', 'NM_M', 'RELPOS']\n",
    "for val in list_to_avg : \n",
    "    df[val + \"_min\"] = df.groupby([\"Well Name\",'Formation'])[val].transform(np.min)\n",
    "    df[val + \"_max\"] = df.groupby([\"Well Name\",'Formation'])[val].transform(np.max)\n",
    "    df[val + \"_mean\"] = df.groupby([\"Well Name\",'Formation'])[val].transform(np.mean)\n",
    "    df[val + \"_var\"] = df.groupby([\"Well Name\",'Formation'])[val].transform(np.var) \n",
    "\n",
    "# add distances feat. = an attempt at regulariation.\n",
    "print(\"add distances feat.\")\n",
    "for val in list_to_avg : \n",
    "    df[val + \"_min_dist\"] = df[val] -df[val + \"_min\"]\n",
    "    df[val + \"_max_dist\"] =  df[val] -df[val + \"_max\"]\n",
    "    df[val + \"_mean_dist\"] =  df[val] -df[val + \"_mean\"]\n",
    "    \n",
    "# add lag and lead !\n",
    "print(\"lag lead\")\n",
    "list_to_lag = ['Depth', 'GR', 'ILD_log10', 'DeltaPHI', 'PHIND', 'PE', 'NM_M', 'RELPOS']\n",
    "for val in list_to_lag:\n",
    "    for lag in range(1,11):\n",
    "        df[val+'_lag_'+str(lag)]=df[val]-df.groupby(\"Well Name\")[val].shift(periods=lag)\n",
    "        df[val+'_lead_'+str(lag)]=df[val]-df.groupby(\"Well Name\")[val].shift(periods=-lag)\n",
    "\n",
    "# adding some Formation lag and lead. \n",
    "for lag in range(1,3):\n",
    "    df['Formation'+'_lag_'+str(lag)]=df.groupby(\"Well Name\")['Formation'].shift(periods=lag)\n",
    "    df['Formation'+'_lead_'+str(lag)]=df.groupby(\"Well Name\")['Formation'].shift(periods=-lag)\n",
    "    df['Formation'+'_lag_'+str(lag) + 'equal'] = (df['Formation'+'_lag_'+str(lag)] == df[\"Formation\"]).astype(int)\n",
    "    df['Formation'+'_lead_'+str(lag) + 'equal'] = (df['Formation'+'_lead_'+str(lag)] == df[\"Formation\"]).astype(int) \n",
    "\n",
    "print(\"rolling\")\n",
    "#Add rolling mean\n",
    "list_to_roll = ['Depth', 'GR', 'ILD_log10', 'DeltaPHI', 'PHIND', 'PE', 'RELPOS']\n",
    "window_size = 5\n",
    "for val in list_to_roll:\n",
    "    df[val+'_rollingmean_'+str(lag)]=df.groupby(\"Well Name\")[val].apply(lambda x:x.rolling(window=window_size).mean())\n",
    "    df[val+'_rollingmax_'+str(lag)]=df.groupby(\"Well Name\")[val].apply(lambda x:x.rolling(window=window_size).max())\n",
    "    df[val+'_rollingmin_'+str(lag)]=df.groupby(\"Well Name\")[val].apply(lambda x:x.rolling(window=window_size).min())\n",
    "    df[val+'_rollingstd_'+str(lag)]=df.groupby(\"Well Name\")[val].apply(lambda x:x.rolling(window=window_size).std())\n",
    "\n",
    "print(\"filling na\")\n",
    "df = df.groupby([\"Well Name\"], as_index=False).apply(lambda group: group.bfill())\n",
    "df = df.groupby([\"Well Name\"], as_index=False).apply(lambda group: group.ffill())"
   ]
  },
  {
   "cell_type": "code",
   "execution_count": 22,
   "metadata": {
    "collapsed": false
   },
   "outputs": [],
   "source": [
    "tokeep =['Facies','origin','Formation','Formation_lag_1','Formation_lead_1','Formation_lag_2','Formation_lead_2',\n",
    "         'Well Name','Depth','GR','ILD_log10','DeltaPHI','PHIND','PE','NM_M','RELPOS']\n",
    "nums = ['Depth','GR','ILD_log10','DeltaPHI','PHIND','PE','NM_M','RELPOS']\n",
    "tokeep = tokeep + [x+'_lag_1' for x in nums] +[x+'_lead_1' for x in nums]\n",
    "df = df[tokeep]"
   ]
  },
  {
   "cell_type": "code",
   "execution_count": 23,
   "metadata": {
    "collapsed": false
   },
   "outputs": [],
   "source": [
    "from sklearn.feature_extraction.text import CountVectorizer\n",
    "list_formation = ['Formation',\n",
    " 'Formation_lag_1',\n",
    " 'Formation_lead_1',\n",
    " 'Formation_lag_2',\n",
    " 'Formation_lead_2']\n",
    "for l in list_formation:\n",
    "    cv = CountVectorizer()\n",
    "    counts = cv.fit_transform(df[l].values)\n",
    "    cols = [c+\"_\"+l for c in cv.get_feature_names()]\n",
    "    counts = pd.DataFrame(counts.toarray(),columns = cols)\n",
    "    df = df.drop(l,axis = 1)\n",
    "    df = pd.concat([df,counts],axis=1)"
   ]
  },
  {
   "cell_type": "markdown",
   "metadata": {},
   "source": [
    "## CV performance"
   ]
  },
  {
   "cell_type": "code",
   "execution_count": 37,
   "metadata": {
    "collapsed": true
   },
   "outputs": [],
   "source": [
    "# params\n",
    "max_depth = 10\n",
    "n_estimators = 1000\n",
    "min_samples_leaf = 10\n",
    "clf = RandomForestClassifier(max_depth = max_depth,\n",
    "                             n_estimators=n_estimators,\n",
    "                             min_samples_leaf=min_samples_leaf)"
   ]
  },
  {
   "cell_type": "code",
   "execution_count": 38,
   "metadata": {
    "collapsed": false
   },
   "outputs": [],
   "source": [
    "ytrain = df[(df['origin']=='train')&(df['Well Name']<>'CHURCHMAN BIBLE')]['Facies']\n",
    "yvalid = df[(df['origin']=='train')&(df['Well Name']=='CHURCHMAN BIBLE')]['Facies']\n",
    "xtrain = df[(df['origin']=='train')&(df['Well Name']<>'CHURCHMAN BIBLE')].drop(['Well Name','origin','Facies'],axis=1)\n",
    "xvalid = df[(df['origin']=='train')&(df['Well Name']=='CHURCHMAN BIBLE')].drop(['Well Name','origin','Facies'],axis=1)"
   ]
  },
  {
   "cell_type": "code",
   "execution_count": 39,
   "metadata": {
    "collapsed": false
   },
   "outputs": [
    {
     "data": {
      "text/plain": [
       "RandomForestClassifier(bootstrap=True, class_weight=None, criterion='gini',\n",
       "            max_depth=10, max_features='auto', max_leaf_nodes=None,\n",
       "            min_samples_leaf=10, min_samples_split=2,\n",
       "            min_weight_fraction_leaf=0.0, n_estimators=1000, n_jobs=1,\n",
       "            oob_score=False, random_state=None, verbose=0,\n",
       "            warm_start=False)"
      ]
     },
     "execution_count": 39,
     "metadata": {},
     "output_type": "execute_result"
    }
   ],
   "source": [
    "clf.fit(xtrain,ytrain)"
   ]
  },
  {
   "cell_type": "code",
   "execution_count": 40,
   "metadata": {
    "collapsed": false
   },
   "outputs": [],
   "source": [
    "preds = clf.predict(xvalid)"
   ]
  },
  {
   "cell_type": "code",
   "execution_count": 41,
   "metadata": {
    "collapsed": false
   },
   "outputs": [
    {
     "name": "stdout",
     "output_type": "stream",
     "text": [
      "             precision    recall  f1-score   support\n",
      "\n",
      "        1.0       0.00      0.00      0.00         8\n",
      "        2.0       0.66      0.62      0.64        56\n",
      "        3.0       0.62      0.73      0.67        51\n",
      "        4.0       0.38      0.69      0.49        13\n",
      "        5.0       0.56      0.67      0.61        30\n",
      "        6.0       0.64      0.68      0.66        87\n",
      "        7.0       0.00      0.00      0.00        34\n",
      "        8.0       0.55      0.51      0.53        75\n",
      "        9.0       0.67      0.94      0.78        50\n",
      "\n",
      "avg / total       0.55      0.61      0.57       404\n",
      "\n"
     ]
    }
   ],
   "source": [
    "from sklearn.metrics import classification_report\n",
    "print classification_report(yvalid, preds)"
   ]
  },
  {
   "cell_type": "markdown",
   "metadata": {},
   "source": [
    "## Apply to test"
   ]
  },
  {
   "cell_type": "code",
   "execution_count": 42,
   "metadata": {
    "collapsed": true
   },
   "outputs": [],
   "source": [
    "# this time let's use all the training set \n",
    "ytrain = df[(df['origin']=='train')]['Facies']\n",
    "yvalid = df[(df['origin']=='test')]['Facies']\n",
    "xtrain = df[(df['origin']=='train')].drop(['Well Name','origin','Facies'],axis=1)\n",
    "xvalid = df[(df['origin']=='test')].drop(['Well Name','origin','Facies'],axis=1)"
   ]
  },
  {
   "cell_type": "code",
   "execution_count": 50,
   "metadata": {
    "collapsed": false
   },
   "outputs": [],
   "source": [
    "#clf.fit(xtrain,ytrain)"
   ]
  },
  {
   "cell_type": "code",
   "execution_count": 43,
   "metadata": {
    "collapsed": true
   },
   "outputs": [],
   "source": [
    "preds = clf.predict(xvalid.values)"
   ]
  },
  {
   "cell_type": "code",
   "execution_count": 49,
   "metadata": {
    "collapsed": false
   },
   "outputs": [],
   "source": [
    "xvalid['Facies']=preds\n",
    "xvalid.to_csv('XmasPreds_2.csv')"
   ]
  }
 ],
 "metadata": {
  "anaconda-cloud": {},
  "kernelspec": {
   "display_name": "Python [conda root]",
   "language": "python",
   "name": "conda-root-py"
  },
  "language_info": {
   "codemirror_mode": {
    "name": "ipython",
    "version": 2
   },
   "file_extension": ".py",
   "mimetype": "text/x-python",
   "name": "python",
   "nbconvert_exporter": "python",
   "pygments_lexer": "ipython2",
   "version": "2.7.12"
  }
 },
 "nbformat": 4,
 "nbformat_minor": 0
}
