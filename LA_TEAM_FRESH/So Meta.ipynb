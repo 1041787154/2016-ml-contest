{
 "cells": [
  {
   "cell_type": "markdown",
   "metadata": {},
   "source": [
    "## Let's use all the computational power thats been spent"
   ]
  },
  {
   "cell_type": "code",
   "execution_count": 1,
   "metadata": {
    "collapsed": true
   },
   "outputs": [],
   "source": [
    "import pandas as pd"
   ]
  },
  {
   "cell_type": "code",
   "execution_count": 8,
   "metadata": {
    "collapsed": false
   },
   "outputs": [],
   "source": [
    "houmath = pd.read_csv(\"../HouMath/Prediction6.csv\", delimiter=\",\")\n",
    "houmath_f1 = 0.63\n",
    "\n",
    "ar4 = pd.read_csv(\"../ar4/ar4_predicted_facies_submission002.csv\", delimiter=\",\")\n",
    "ar4_f1 = 0.606\n",
    "\n",
    "bestagini = pd.read_csv(\"../ispl/well_data_with_facies_try02.csv\", delimiter=\",\")\n",
    "bestagini_f1 = 0.604\n",
    "\n",
    "birdteam =  pd.read_csv(\"../Bird_Team/XmasPreds_4.csv\", delimiter=\",\")\n",
    "birdteam_f1 = 0.598"
   ]
  },
  {
   "cell_type": "code",
   "execution_count": 9,
   "metadata": {
    "collapsed": false
   },
   "outputs": [
    {
     "name": "stdout",
     "output_type": "stream",
     "text": [
      "   Unnamed: 0 Formation Well Name   Depth      GR  ILD_log10  DeltaPHI  PHIND  \\\n",
      "0           0     A1 SH    STUART  2808.0  66.276      0.630       3.3  10.65   \n",
      "1           1     A1 SH    STUART  2808.5  77.252      0.585       6.5  11.95   \n",
      "2           2     A1 SH    STUART  2809.0  82.899      0.566       9.4  13.60   \n",
      "3           3     A1 SH    STUART  2809.5  80.671      0.593       9.5  13.25   \n",
      "4           4     A1 SH    STUART  2810.0  75.971      0.638       8.7  12.35   \n",
      "\n",
      "      PE  NM_M  RELPOS  Facies  \n",
      "0  3.591     1   1.000       3  \n",
      "1  3.341     1   0.978       3  \n",
      "2  3.064     1   0.956       3  \n",
      "3  2.977     1   0.933       3  \n",
      "4  3.020     1   0.911       3  \n",
      "   Unnamed: 0 Formation Well Name   Depth      GR  ILD_log10  DeltaPHI  PHIND  \\\n",
      "0           0     A1 SH    STUART  2808.0  66.276      0.630       3.3  10.65   \n",
      "1           1     A1 SH    STUART  2808.5  77.252      0.585       6.5  11.95   \n",
      "2           2     A1 SH    STUART  2809.0  82.899      0.566       9.4  13.60   \n",
      "3           3     A1 SH    STUART  2809.5  80.671      0.593       9.5  13.25   \n",
      "4           4     A1 SH    STUART  2810.0  75.971      0.638       8.7  12.35   \n",
      "\n",
      "      PE  NM_M  RELPOS  Facies  \n",
      "0  3.591     1   1.000       3  \n",
      "1  3.341     1   0.978       3  \n",
      "2  3.064     1   0.956       3  \n",
      "3  2.977     1   0.933       3  \n",
      "4  3.020     1   0.911       3  \n",
      "   Unnamed: 0 Formation Well Name   Depth      GR  ILD_log10  DeltaPHI  PHIND  \\\n",
      "0           0     A1 SH    STUART  2808.0  66.276      0.630       3.3  10.65   \n",
      "1           1     A1 SH    STUART  2808.5  77.252      0.585       6.5  11.95   \n",
      "2           2     A1 SH    STUART  2809.0  82.899      0.566       9.4  13.60   \n",
      "3           3     A1 SH    STUART  2809.5  80.671      0.593       9.5  13.25   \n",
      "4           4     A1 SH    STUART  2810.0  75.971      0.638       8.7  12.35   \n",
      "\n",
      "      PE  NM_M  RELPOS  Facies  \n",
      "0  3.591     1   1.000       3  \n",
      "1  3.341     1   0.978       3  \n",
      "2  3.064     1   0.956       3  \n",
      "3  2.977     1   0.933       3  \n",
      "4  3.020     1   0.911       3  \n",
      "   Unnamed: 0   Depth      GR  ILD_log10  DeltaPHI  PHIND     PE  NM_M  \\\n",
      "0           0  2808.0  66.276      0.630       3.3  10.65  3.591     1   \n",
      "1           1  2808.5  77.252      0.585       6.5  11.95  3.341     1   \n",
      "2           2  2809.0  82.899      0.566       9.4  13.60  3.064     1   \n",
      "3           3  2809.5  80.671      0.593       9.5  13.25  2.977     1   \n",
      "4           4  2810.0  75.971      0.638       8.7  12.35  3.020     1   \n",
      "\n",
      "   RELPOS  formation_size   ...    sh_Formation_lag_2  a1_Formation_lead_2  \\\n",
      "0   1.000              43   ...                     1                    1   \n",
      "1   0.978              43   ...                     1                    1   \n",
      "2   0.956              43   ...                     1                    1   \n",
      "3   0.933              43   ...                     1                    1   \n",
      "4   0.911              43   ...                     1                    1   \n",
      "\n",
      "   b1_Formation_lead_2  b2_Formation_lead_2  b3_Formation_lead_2  \\\n",
      "0                    0                    0                    0   \n",
      "1                    0                    0                    0   \n",
      "2                    0                    0                    0   \n",
      "3                    0                    0                    0   \n",
      "4                    0                    0                    0   \n",
      "\n",
      "   b4_Formation_lead_2  b5_Formation_lead_2  lm_Formation_lead_2  \\\n",
      "0                    0                    0                    0   \n",
      "1                    0                    0                    0   \n",
      "2                    0                    0                    0   \n",
      "3                    0                    0                    0   \n",
      "4                    0                    0                    0   \n",
      "\n",
      "   sh_Formation_lead_2  Facies  \n",
      "0                    1     2.0  \n",
      "1                    1     3.0  \n",
      "2                    1     3.0  \n",
      "3                    1     3.0  \n",
      "4                    1     3.0  \n",
      "\n",
      "[5 rows x 439 columns]\n"
     ]
    }
   ],
   "source": [
    "print houmath.head()\n",
    "print ar4.head()\n",
    "print bestagini.head()\n",
    "print birdteam.head()"
   ]
  },
  {
   "cell_type": "code",
   "execution_count": null,
   "metadata": {
    "collapsed": true
   },
   "outputs": [],
   "source": [
    "metasubmission = "
   ]
  }
 ],
 "metadata": {
  "anaconda-cloud": {},
  "kernelspec": {
   "display_name": "Python 2",
   "language": "python",
   "name": "python2"
  },
  "language_info": {
   "codemirror_mode": {
    "name": "ipython",
    "version": 2
   },
   "file_extension": ".py",
   "mimetype": "text/x-python",
   "name": "python",
   "nbconvert_exporter": "python",
   "pygments_lexer": "ipython2",
   "version": "2.7.11"
  }
 },
 "nbformat": 4,
 "nbformat_minor": 1
}
