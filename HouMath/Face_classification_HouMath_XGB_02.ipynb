{
 "cells": [
  {
   "cell_type": "markdown",
   "metadata": {},
   "source": [
    "In this notebook, we mainly utilize extreme gradient boost to improve the prediction model originially proposed in TLE 2016 November machine learning tuotrial. Extreme gradient boost can be viewed as an enhanced version of gradient boost by using a more regularized model formalization to control over-fitting, and XGB usually performs better. Applications of XGB can be found in many Kaggle competitions. Some recommended tutorrials can be found"
   ]
  },
  {
   "cell_type": "markdown",
   "metadata": {},
   "source": [
    "Our work will be orginized in the follwing order:\n",
    "\n",
    "•Background\n",
    "\n",
    "•Exploratory Data Analysis\n",
    "\n",
    "•Data Prepration and Model Selection\n",
    "\n",
    "•Final Results"
   ]
  },
  {
   "cell_type": "markdown",
   "metadata": {},
   "source": [
    "# Background"
   ]
  },
  {
   "cell_type": "markdown",
   "metadata": {},
   "source": [
    "The dataset we will use comes from a class excercise from The University of Kansas on Neural Networks and Fuzzy Systems. This exercise is based on a consortium project to use machine learning techniques to create a reservoir model of the largest gas fields in North America, the Hugoton and Panoma Fields. For more info on the origin of the data, see Bohling and Dubois (2003) and Dubois et al. (2007).\n",
    "\n",
    "The dataset we will use is log data from nine wells that have been labeled with a facies type based on oberservation of core. We will use this log data to train a classifier to predict facies types.\n",
    "\n",
    "This data is from the Council Grove gas reservoir in Southwest Kansas. The Panoma Council Grove Field is predominantly a carbonate gas reservoir encompassing 2700 square miles in Southwestern Kansas. This dataset is from nine wells (with 4149 examples), consisting of a set of seven predictor variables and a rock facies (class) for each example vector and validation (test) data (830 examples from two wells) having the same seven predictor variables in the feature vector. Facies are based on examination of cores from nine wells taken vertically at half-foot intervals. Predictor variables include five from wireline log measurements and two geologic constraining variables that are derived from geologic knowledge. These are essentially continuous variables sampled at a half-foot sample rate.\n",
    "\n",
    "The seven predictor variables are:\n",
    "•Five wire line log curves include gamma ray (GR), resistivity logging (ILD_log10), photoelectric effect (PE), neutron-density porosity difference and average neutron-density porosity (DeltaPHI and PHIND). Note, some wells do not have PE.\n",
    "•Two geologic constraining variables: nonmarine-marine indicator (NM_M) and relative position (RELPOS)\n",
    "\n",
    "The nine discrete facies (classes of rocks) are:\n",
    "\n",
    "1.Nonmarine sandstone\n",
    "\n",
    "2.Nonmarine coarse siltstone \n",
    "\n",
    "3.Nonmarine fine siltstone \n",
    "\n",
    "4.Marine siltstone and shale \n",
    "\n",
    "5.Mudstone (limestone)\n",
    "\n",
    "6.Wackestone (limestone)\n",
    "\n",
    "7.Dolomite\n",
    "\n",
    "8.Packstone-grainstone (limestone)\n",
    "\n",
    "9.Phylloid-algal bafflestone (limestone)\n",
    "\n",
    "These facies aren't discrete, and gradually blend into one another. Some have neighboring facies that are rather close. Mislabeling within these neighboring facies can be expected to occur. The following table lists the facies, their abbreviated labels and their approximate neighbors.\n",
    "\n",
    "\n",
    "Facies/ Label/ Adjacent Facies\n",
    "\n",
    "1 SS 2 \n",
    "\n",
    "2 CSiS 1,3 \n",
    "\n",
    "3 FSiS 2 \n",
    "\n",
    "4 SiSh 5 \n",
    "\n",
    "5 MS 4,6 \n",
    "\n",
    "6 WS 5,7 \n",
    "\n",
    "7 D 6,8 \n",
    "\n",
    "8 PS 6,7,9 \n",
    "\n",
    "9 BS 7,8 \n"
   ]
  },
  {
   "cell_type": "markdown",
   "metadata": {},
   "source": [
    "# Exprolatory Data Analysis"
   ]
  },
  {
   "cell_type": "markdown",
   "metadata": {},
   "source": [
    "After the background intorduction, we start to import the pandas library for some basic data analysis and manipulation. The matplotblib and seaborn are imported for data vislization. "
   ]
  },
  {
   "cell_type": "code",
   "execution_count": 18,
   "metadata": {
    "collapsed": false
   },
   "outputs": [],
   "source": [
    "%matplotlib inline\n",
    "import pandas as pd\n",
    "from pandas.tools.plotting import scatter_matrix\n",
    "import matplotlib.pyplot as plt\n",
    "import matplotlib as mpl\n",
    "import seaborn as sns\n",
    "import matplotlib.colors as colors\n",
    "\n",
    "import xgboost as xgb\n",
    "import numpy as np\n",
    "from sklearn.metrics import confusion_matrix, f1_score, accuracy_score\n",
    "from classification_utilities import display_cm, display_adj_cm\n",
    "from sklearn.model_selection import GridSearchCV\n",
    "\n",
    "\n",
    "from sklearn.model_selection import validation_curve\n",
    "from sklearn.datasets import load_svmlight_files\n",
    "from sklearn.model_selection import StratifiedKFold\n",
    "from sklearn.datasets import make_classification\n",
    "from xgboost.sklearn import XGBClassifier\n",
    "from scipy.sparse import vstack\n",
    "\n",
    "seed = 123\n",
    "np.random.seed(seed)"
   ]
  },
  {
   "cell_type": "code",
   "execution_count": 10,
   "metadata": {
    "collapsed": false
   },
   "outputs": [
    {
     "data": {
      "text/html": [
       "<div>\n",
       "<table border=\"1\" class=\"dataframe\">\n",
       "  <thead>\n",
       "    <tr style=\"text-align: right;\">\n",
       "      <th></th>\n",
       "      <th>Facies</th>\n",
       "      <th>Formation</th>\n",
       "      <th>Well Name</th>\n",
       "      <th>Depth</th>\n",
       "      <th>GR</th>\n",
       "      <th>ILD_log10</th>\n",
       "      <th>DeltaPHI</th>\n",
       "      <th>PHIND</th>\n",
       "      <th>PE</th>\n",
       "      <th>NM_M</th>\n",
       "      <th>RELPOS</th>\n",
       "    </tr>\n",
       "  </thead>\n",
       "  <tbody>\n",
       "    <tr>\n",
       "      <th>0</th>\n",
       "      <td>3</td>\n",
       "      <td>A1 SH</td>\n",
       "      <td>SHRIMPLIN</td>\n",
       "      <td>2793.0</td>\n",
       "      <td>77.45</td>\n",
       "      <td>0.664</td>\n",
       "      <td>9.9</td>\n",
       "      <td>11.915</td>\n",
       "      <td>4.6</td>\n",
       "      <td>1</td>\n",
       "      <td>1.000</td>\n",
       "    </tr>\n",
       "    <tr>\n",
       "      <th>1</th>\n",
       "      <td>3</td>\n",
       "      <td>A1 SH</td>\n",
       "      <td>SHRIMPLIN</td>\n",
       "      <td>2793.5</td>\n",
       "      <td>78.26</td>\n",
       "      <td>0.661</td>\n",
       "      <td>14.2</td>\n",
       "      <td>12.565</td>\n",
       "      <td>4.1</td>\n",
       "      <td>1</td>\n",
       "      <td>0.979</td>\n",
       "    </tr>\n",
       "    <tr>\n",
       "      <th>2</th>\n",
       "      <td>3</td>\n",
       "      <td>A1 SH</td>\n",
       "      <td>SHRIMPLIN</td>\n",
       "      <td>2794.0</td>\n",
       "      <td>79.05</td>\n",
       "      <td>0.658</td>\n",
       "      <td>14.8</td>\n",
       "      <td>13.050</td>\n",
       "      <td>3.6</td>\n",
       "      <td>1</td>\n",
       "      <td>0.957</td>\n",
       "    </tr>\n",
       "    <tr>\n",
       "      <th>3</th>\n",
       "      <td>3</td>\n",
       "      <td>A1 SH</td>\n",
       "      <td>SHRIMPLIN</td>\n",
       "      <td>2794.5</td>\n",
       "      <td>86.10</td>\n",
       "      <td>0.655</td>\n",
       "      <td>13.9</td>\n",
       "      <td>13.115</td>\n",
       "      <td>3.5</td>\n",
       "      <td>1</td>\n",
       "      <td>0.936</td>\n",
       "    </tr>\n",
       "    <tr>\n",
       "      <th>4</th>\n",
       "      <td>3</td>\n",
       "      <td>A1 SH</td>\n",
       "      <td>SHRIMPLIN</td>\n",
       "      <td>2795.0</td>\n",
       "      <td>74.58</td>\n",
       "      <td>0.647</td>\n",
       "      <td>13.5</td>\n",
       "      <td>13.300</td>\n",
       "      <td>3.4</td>\n",
       "      <td>1</td>\n",
       "      <td>0.915</td>\n",
       "    </tr>\n",
       "  </tbody>\n",
       "</table>\n",
       "</div>"
      ],
      "text/plain": [
       "   Facies Formation  Well Name   Depth     GR  ILD_log10  DeltaPHI   PHIND  \\\n",
       "0       3     A1 SH  SHRIMPLIN  2793.0  77.45      0.664       9.9  11.915   \n",
       "1       3     A1 SH  SHRIMPLIN  2793.5  78.26      0.661      14.2  12.565   \n",
       "2       3     A1 SH  SHRIMPLIN  2794.0  79.05      0.658      14.8  13.050   \n",
       "3       3     A1 SH  SHRIMPLIN  2794.5  86.10      0.655      13.9  13.115   \n",
       "4       3     A1 SH  SHRIMPLIN  2795.0  74.58      0.647      13.5  13.300   \n",
       "\n",
       "    PE  NM_M  RELPOS  \n",
       "0  4.6     1   1.000  \n",
       "1  4.1     1   0.979  \n",
       "2  3.6     1   0.957  \n",
       "3  3.5     1   0.936  \n",
       "4  3.4     1   0.915  "
      ]
     },
     "execution_count": 10,
     "metadata": {},
     "output_type": "execute_result"
    }
   ],
   "source": [
    "filename = './facies_vectors.csv'\n",
    "training_data = pd.read_csv(filename)\n",
    "training_data.head()"
   ]
  },
  {
   "cell_type": "code",
   "execution_count": 6,
   "metadata": {
    "collapsed": false
   },
   "outputs": [
    {
     "name": "stdout",
     "output_type": "stream",
     "text": [
      "<class 'pandas.core.frame.DataFrame'>\n",
      "RangeIndex: 4149 entries, 0 to 4148\n",
      "Data columns (total 11 columns):\n",
      "Facies       4149 non-null int64\n",
      "Formation    4149 non-null category\n",
      "Well Name    4149 non-null category\n",
      "Depth        4149 non-null float64\n",
      "GR           4149 non-null float64\n",
      "ILD_log10    4149 non-null float64\n",
      "DeltaPHI     4149 non-null float64\n",
      "PHIND        4149 non-null float64\n",
      "PE           3232 non-null float64\n",
      "NM_M         4149 non-null int64\n",
      "RELPOS       4149 non-null float64\n",
      "dtypes: category(2), float64(7), int64(2)\n",
      "memory usage: 300.1 KB\n"
     ]
    }
   ],
   "source": [
    "training_data['Well Name'] = training_data['Well Name'].astype('category')\n",
    "training_data['Formation'] = training_data['Formation'].astype('category')\n",
    "training_data.info()"
   ]
  },
  {
   "cell_type": "code",
   "execution_count": 9,
   "metadata": {
    "collapsed": false
   },
   "outputs": [
    {
     "name": "stderr",
     "output_type": "stream",
     "text": [
      "/Users/littleni/anaconda/lib/python3.5/site-packages/numpy/lib/function_base.py:3834: RuntimeWarning: Invalid value encountered in percentile\n",
      "  RuntimeWarning)\n"
     ]
    },
    {
     "data": {
      "text/html": [
       "<div>\n",
       "<table border=\"1\" class=\"dataframe\">\n",
       "  <thead>\n",
       "    <tr style=\"text-align: right;\">\n",
       "      <th></th>\n",
       "      <th>Facies</th>\n",
       "      <th>Depth</th>\n",
       "      <th>GR</th>\n",
       "      <th>ILD_log10</th>\n",
       "      <th>DeltaPHI</th>\n",
       "      <th>PHIND</th>\n",
       "      <th>PE</th>\n",
       "      <th>NM_M</th>\n",
       "      <th>RELPOS</th>\n",
       "    </tr>\n",
       "  </thead>\n",
       "  <tbody>\n",
       "    <tr>\n",
       "      <th>count</th>\n",
       "      <td>4149.000000</td>\n",
       "      <td>4149.000000</td>\n",
       "      <td>4149.000000</td>\n",
       "      <td>4149.000000</td>\n",
       "      <td>4149.000000</td>\n",
       "      <td>4149.000000</td>\n",
       "      <td>3232.000000</td>\n",
       "      <td>4149.000000</td>\n",
       "      <td>4149.000000</td>\n",
       "    </tr>\n",
       "    <tr>\n",
       "      <th>mean</th>\n",
       "      <td>4.503254</td>\n",
       "      <td>2906.867438</td>\n",
       "      <td>64.933985</td>\n",
       "      <td>0.659566</td>\n",
       "      <td>4.402484</td>\n",
       "      <td>13.201066</td>\n",
       "      <td>3.725014</td>\n",
       "      <td>1.518438</td>\n",
       "      <td>0.521852</td>\n",
       "    </tr>\n",
       "    <tr>\n",
       "      <th>std</th>\n",
       "      <td>2.474324</td>\n",
       "      <td>133.300164</td>\n",
       "      <td>30.302530</td>\n",
       "      <td>0.252703</td>\n",
       "      <td>5.274947</td>\n",
       "      <td>7.132846</td>\n",
       "      <td>0.896152</td>\n",
       "      <td>0.499720</td>\n",
       "      <td>0.286644</td>\n",
       "    </tr>\n",
       "    <tr>\n",
       "      <th>min</th>\n",
       "      <td>1.000000</td>\n",
       "      <td>2573.500000</td>\n",
       "      <td>10.149000</td>\n",
       "      <td>-0.025949</td>\n",
       "      <td>-21.832000</td>\n",
       "      <td>0.550000</td>\n",
       "      <td>0.200000</td>\n",
       "      <td>1.000000</td>\n",
       "      <td>0.000000</td>\n",
       "    </tr>\n",
       "    <tr>\n",
       "      <th>25%</th>\n",
       "      <td>2.000000</td>\n",
       "      <td>2821.500000</td>\n",
       "      <td>44.730000</td>\n",
       "      <td>0.498000</td>\n",
       "      <td>1.600000</td>\n",
       "      <td>8.500000</td>\n",
       "      <td>NaN</td>\n",
       "      <td>1.000000</td>\n",
       "      <td>0.277000</td>\n",
       "    </tr>\n",
       "    <tr>\n",
       "      <th>50%</th>\n",
       "      <td>4.000000</td>\n",
       "      <td>2932.500000</td>\n",
       "      <td>64.990000</td>\n",
       "      <td>0.639000</td>\n",
       "      <td>4.300000</td>\n",
       "      <td>12.020000</td>\n",
       "      <td>NaN</td>\n",
       "      <td>2.000000</td>\n",
       "      <td>0.528000</td>\n",
       "    </tr>\n",
       "    <tr>\n",
       "      <th>75%</th>\n",
       "      <td>6.000000</td>\n",
       "      <td>3007.000000</td>\n",
       "      <td>79.438000</td>\n",
       "      <td>0.822000</td>\n",
       "      <td>7.500000</td>\n",
       "      <td>16.050000</td>\n",
       "      <td>NaN</td>\n",
       "      <td>2.000000</td>\n",
       "      <td>0.769000</td>\n",
       "    </tr>\n",
       "    <tr>\n",
       "      <th>max</th>\n",
       "      <td>9.000000</td>\n",
       "      <td>3138.000000</td>\n",
       "      <td>361.150000</td>\n",
       "      <td>1.800000</td>\n",
       "      <td>19.312000</td>\n",
       "      <td>84.400000</td>\n",
       "      <td>8.094000</td>\n",
       "      <td>2.000000</td>\n",
       "      <td>1.000000</td>\n",
       "    </tr>\n",
       "  </tbody>\n",
       "</table>\n",
       "</div>"
      ],
      "text/plain": [
       "            Facies        Depth           GR    ILD_log10     DeltaPHI  \\\n",
       "count  4149.000000  4149.000000  4149.000000  4149.000000  4149.000000   \n",
       "mean      4.503254  2906.867438    64.933985     0.659566     4.402484   \n",
       "std       2.474324   133.300164    30.302530     0.252703     5.274947   \n",
       "min       1.000000  2573.500000    10.149000    -0.025949   -21.832000   \n",
       "25%       2.000000  2821.500000    44.730000     0.498000     1.600000   \n",
       "50%       4.000000  2932.500000    64.990000     0.639000     4.300000   \n",
       "75%       6.000000  3007.000000    79.438000     0.822000     7.500000   \n",
       "max       9.000000  3138.000000   361.150000     1.800000    19.312000   \n",
       "\n",
       "             PHIND           PE         NM_M       RELPOS  \n",
       "count  4149.000000  3232.000000  4149.000000  4149.000000  \n",
       "mean     13.201066     3.725014     1.518438     0.521852  \n",
       "std       7.132846     0.896152     0.499720     0.286644  \n",
       "min       0.550000     0.200000     1.000000     0.000000  \n",
       "25%       8.500000          NaN     1.000000     0.277000  \n",
       "50%      12.020000          NaN     2.000000     0.528000  \n",
       "75%      16.050000          NaN     2.000000     0.769000  \n",
       "max      84.400000     8.094000     2.000000     1.000000  "
      ]
     },
     "execution_count": 9,
     "metadata": {},
     "output_type": "execute_result"
    }
   ],
   "source": [
    "training_data.describe()"
   ]
  },
  {
   "cell_type": "code",
   "execution_count": 7,
   "metadata": {
    "collapsed": false
   },
   "outputs": [
    {
     "data": {
      "text/plain": [
       "<matplotlib.axes._subplots.AxesSubplot at 0x115744cc0>"
      ]
     },
     "execution_count": 7,
     "metadata": {},
     "output_type": "execute_result"
    },
    {
     "data": {
      "image/png": "[encoded data removed]",
      "text/plain": [
       "<matplotlib.figure.Figure at 0x115744390>"
      ]
     },
     "metadata": {},
     "output_type": "display_data"
    }
   ],
   "source": [
    "facies_colors = ['#F4D03F', '#F5B041','#DC7633','#6E2C00','#1B4F72',\n",
    "                 '#2E86C1', '#AED6F1', '#A569BD', '#196F3D']\n",
    "\n",
    "facies_labels = ['SS', 'CSiS', 'FSiS', 'SiSh', 'MS','WS', 'D','PS', 'BS']\n",
    "\n",
    "facies_counts = training_data['Facies'].value_counts().sort_index()\n",
    "facies_counts.index = facies_labels\n",
    "facies_counts.plot(kind='bar',color=facies_colors,title='Distribution of Training Data by Facies')"
   ]
  },
  {
   "cell_type": "code",
   "execution_count": 8,
   "metadata": {
    "collapsed": false
   },
   "outputs": [
    {
     "data": {
      "text/plain": [
       "<matplotlib.axes._subplots.AxesSubplot at 0x115c37a20>"
      ]
     },
     "execution_count": 8,
     "metadata": {},
     "output_type": "execute_result"
    },
    {
     "data": {
      "image/png": "[encoded data removed]",
      "text/plain": [
       "<matplotlib.figure.Figure at 0x115743160>"
      ]
     },
     "metadata": {},
     "output_type": "display_data"
    }
   ],
   "source": [
    "sns.heatmap(training_data.corr(), vmax=1.0, square=True)"
   ]
  },
  {
   "cell_type": "markdown",
   "metadata": {},
   "source": [
    "# Data Preparation and Model Selection"
   ]
  },
  {
   "cell_type": "markdown",
   "metadata": {},
   "source": [
    "Now we are ready to test the XGB approach, and will use confusion matrix and f1_score, which were imported, as metric for classification, as well as GridSearchCV, which is an excellent tool for parameter optimization. "
   ]
  },
  {
   "cell_type": "code",
   "execution_count": 11,
   "metadata": {
    "collapsed": true
   },
   "outputs": [],
   "source": [
    "X_train = training_data.drop(['Facies', 'Well Name','Formation','Depth'], axis = 1 ) \n",
    "Y_train = training_data['Facies' ] - 1\n",
    "dtrain = xgb.DMatrix(X_train, Y_train)"
   ]
  },
  {
   "cell_type": "code",
   "execution_count": 12,
   "metadata": {
    "collapsed": true
   },
   "outputs": [],
   "source": [
    "train = X_train.copy()"
   ]
  },
  {
   "cell_type": "code",
   "execution_count": 13,
   "metadata": {
    "collapsed": false
   },
   "outputs": [],
   "source": [
    "train['Facies']=Y_train"
   ]
  },
  {
   "cell_type": "code",
   "execution_count": 14,
   "metadata": {
    "collapsed": false
   },
   "outputs": [
    {
     "data": {
      "text/html": [
       "<div>\n",
       "<table border=\"1\" class=\"dataframe\">\n",
       "  <thead>\n",
       "    <tr style=\"text-align: right;\">\n",
       "      <th></th>\n",
       "      <th>GR</th>\n",
       "      <th>ILD_log10</th>\n",
       "      <th>DeltaPHI</th>\n",
       "      <th>PHIND</th>\n",
       "      <th>PE</th>\n",
       "      <th>NM_M</th>\n",
       "      <th>RELPOS</th>\n",
       "      <th>Facies</th>\n",
       "    </tr>\n",
       "  </thead>\n",
       "  <tbody>\n",
       "    <tr>\n",
       "      <th>0</th>\n",
       "      <td>77.45</td>\n",
       "      <td>0.664</td>\n",
       "      <td>9.9</td>\n",
       "      <td>11.915</td>\n",
       "      <td>4.6</td>\n",
       "      <td>1</td>\n",
       "      <td>1.000</td>\n",
       "      <td>2</td>\n",
       "    </tr>\n",
       "    <tr>\n",
       "      <th>1</th>\n",
       "      <td>78.26</td>\n",
       "      <td>0.661</td>\n",
       "      <td>14.2</td>\n",
       "      <td>12.565</td>\n",
       "      <td>4.1</td>\n",
       "      <td>1</td>\n",
       "      <td>0.979</td>\n",
       "      <td>2</td>\n",
       "    </tr>\n",
       "    <tr>\n",
       "      <th>2</th>\n",
       "      <td>79.05</td>\n",
       "      <td>0.658</td>\n",
       "      <td>14.8</td>\n",
       "      <td>13.050</td>\n",
       "      <td>3.6</td>\n",
       "      <td>1</td>\n",
       "      <td>0.957</td>\n",
       "      <td>2</td>\n",
       "    </tr>\n",
       "    <tr>\n",
       "      <th>3</th>\n",
       "      <td>86.10</td>\n",
       "      <td>0.655</td>\n",
       "      <td>13.9</td>\n",
       "      <td>13.115</td>\n",
       "      <td>3.5</td>\n",
       "      <td>1</td>\n",
       "      <td>0.936</td>\n",
       "      <td>2</td>\n",
       "    </tr>\n",
       "    <tr>\n",
       "      <th>4</th>\n",
       "      <td>74.58</td>\n",
       "      <td>0.647</td>\n",
       "      <td>13.5</td>\n",
       "      <td>13.300</td>\n",
       "      <td>3.4</td>\n",
       "      <td>1</td>\n",
       "      <td>0.915</td>\n",
       "      <td>2</td>\n",
       "    </tr>\n",
       "  </tbody>\n",
       "</table>\n",
       "</div>"
      ],
      "text/plain": [
       "      GR  ILD_log10  DeltaPHI   PHIND   PE  NM_M  RELPOS  Facies\n",
       "0  77.45      0.664       9.9  11.915  4.6     1   1.000       2\n",
       "1  78.26      0.661      14.2  12.565  4.1     1   0.979       2\n",
       "2  79.05      0.658      14.8  13.050  3.6     1   0.957       2\n",
       "3  86.10      0.655      13.9  13.115  3.5     1   0.936       2\n",
       "4  74.58      0.647      13.5  13.300  3.4     1   0.915       2"
      ]
     },
     "execution_count": 14,
     "metadata": {},
     "output_type": "execute_result"
    }
   ],
   "source": [
    "train.head()"
   ]
  },
  {
   "cell_type": "markdown",
   "metadata": {},
   "source": [
    "The accuracy function and accuracy_adjacent function are defined in the following to quatify the prediction correctness. "
   ]
  },
  {
   "cell_type": "code",
   "execution_count": 15,
   "metadata": {
    "collapsed": true
   },
   "outputs": [],
   "source": [
    "def accuracy(conf):\n",
    "    total_correct = 0.\n",
    "    nb_classes = conf.shape[0]\n",
    "    for i in np.arange(0,nb_classes):\n",
    "        total_correct += conf[i][i]\n",
    "    acc = total_correct/sum(sum(conf))\n",
    "    return acc\n",
    "\n",
    "adjacent_facies = np.array([[1], [0,2], [1], [4], [3,5], [4,6,7], [5,7], [5,6,8], [6,7]])\n",
    "\n",
    "def accuracy_adjacent(conf, adjacent_facies):\n",
    "    nb_classes = conf.shape[0]\n",
    "    total_correct = 0.\n",
    "    for i in np.arange(0,nb_classes):\n",
    "        total_correct += conf[i][i]\n",
    "        for j in adjacent_facies[i]:\n",
    "            total_correct += conf[i][j]\n",
    "    return total_correct / sum(sum(conf))"
   ]
  },
  {
   "cell_type": "code",
   "execution_count": 16,
   "metadata": {
    "collapsed": true
   },
   "outputs": [],
   "source": [
    "target='Facies'"
   ]
  },
  {
   "cell_type": "markdown",
   "metadata": {},
   "source": [
    "Before processing further, we define a functin which will help us create XGBoost models and perform cross-validation."
   ]
  },
  {
   "cell_type": "code",
   "execution_count": 20,
   "metadata": {
    "collapsed": false
   },
   "outputs": [],
   "source": [
    "def modelfit(alg, dtrain, features, useTrainCV=True,\n",
    "             cv_fold=10,early_stopping_rounds = 50):\n",
    "    if useTrainCV:\n",
    "        xgb_param = alg.get_xgb_params()\n",
    "        xgb_param['num_class']=9\n",
    "        xgtrain = xgb.DMatrix(train[features].values,label = train[target].values)\n",
    "        cvresult = xgb.cv(xgb_param, xgtrain, num_boost_round=\n",
    "                          alg.get_params()['n_estimators'],nfold=cv_fold,\n",
    "                          metrics='merror',early_stopping_rounds = early_stopping_rounds)\n",
    "        alg.set_params(n_estimators=cvresult.shape[0])\n",
    "        \n",
    "    #Fit the algorithm on the data\n",
    "    alg.fit(dtrain[features], dtrain[target],eval_metric='merror')\n",
    "        \n",
    "    #Predict training set:\n",
    "    dtrain_prediction = alg.predict(dtrain[features])\n",
    "    dtrain_predprob = alg.predict_proba(dtrain[features])[:,1]\n",
    "        \n",
    "    #Pring model report\n",
    "    print (\"\\nModel Report\")\n",
    "    print (\"Accuracy : %.4g\" % accuracy_score(dtrain[target], \n",
    "                                            dtrain_prediction))\n",
    "    print (\"F1 score (Train) : %f\" % f1_score(dtrain[target], \n",
    "                                            dtrain_prediction,average='weighted'))\n",
    "    feat_imp = pd.Series(alg.booster().get_fscore()).sort_values(ascending=False)\n",
    "    feat_imp.plot(kind='bar',title='Feature Importances')\n",
    "    plt.ylabel('Feature Importance Score')"
   ]
  },
  {
   "cell_type": "code",
   "execution_count": 21,
   "metadata": {
    "collapsed": false
   },
   "outputs": [
    {
     "data": {
      "text/plain": [
       "['GR', 'ILD_log10', 'DeltaPHI', 'PHIND', 'PE', 'NM_M', 'RELPOS']"
      ]
     },
     "execution_count": 21,
     "metadata": {},
     "output_type": "execute_result"
    }
   ],
   "source": [
    "features =[x for x in X_train.columns]\n",
    "features"
   ]
  },
  {
   "cell_type": "markdown",
   "metadata": {},
   "source": [
    "# General Approach for Parameter Tuning"
   ]
  },
  {
   "cell_type": "markdown",
   "metadata": {},
   "source": [
    "We are going to preform the steps as follows:\n",
    "\n",
    "1.Choose a relatively high learning rate, e.g., 0.1. Usually somewhere between 0.05 and 0.3 should work for different problems. \n",
    "\n",
    "2.Determine the optimum number of tress for this learning rate.XGBoost has a very usefull function called as \"cv\" which performs cross-validation at each boosting iteration and thus returns the optimum number of tress required.\n",
    "\n",
    "3.Tune tree-based parameters(max_depth, min_child_weight, gamma, subsample, colsample_bytree) for decided learning rate and number of trees. \n",
    "\n",
    "4.Tune regularization parameters(lambda, alpha) for xgboost which can help reduce model complexity and enhance performance.\n",
    "\n",
    "5.Lower the learning rate and decide the optimal parameters."
   ]
  },
  {
   "cell_type": "markdown",
   "metadata": {},
   "source": [
    "# Step 1:Fix learning rate and number of estimators for tuning tree-based parameters"
   ]
  },
  {
   "cell_type": "markdown",
   "metadata": {},
   "source": [
    "In order to decide on boosting parameters, we need to set some initial values of other parameters. Lets take the following values:\n",
    "\n",
    "1.max_depth = 5\n",
    "\n",
    "2.min_child_weight = 1 \n",
    "\n",
    "3.gamma = 0 \n",
    "\n",
    "4.subsample, colsample_bytree = 0.8 : This is a commonly used used start value. \n",
    "\n",
    "5.scale_pos_weight = 1\n",
    "\n",
    "Please note that all the above are just initial estimates and will be tuned later. Lets take the default learning rate of 0.1 here and check the optimum number of trees using cv function of xgboost. The function defined above will do it for us."
   ]
  },
  {
   "cell_type": "code",
   "execution_count": 13,
   "metadata": {
    "collapsed": false
   },
   "outputs": [],
   "source": [
    "xgb1 = XGBClassifier(\n",
    "    learning_rate = 0.1,\n",
    "    n_estimators=1000,\n",
    "    max_depth=5,\n",
    "    min_child_weight=1,\n",
    "    gamma = 0,\n",
    "    subsample=0.8,\n",
    "    colsample_bytree=0.8,\n",
    "    objective='multi:softmax',\n",
    "    nthread =4,\n",
    "    scale_pos_weight=1,\n",
    "    seed = seed,\n",
    ")"
   ]
  },
  {
   "cell_type": "code",
   "execution_count": 14,
   "metadata": {
    "collapsed": false
   },
   "outputs": [
    {
     "name": "stdout",
     "output_type": "stream",
     "text": [
      "\n",
      "Model Report\n",
      "Accuracy : 0.9957\n",
      "F1 score (Train) : 0.995660\n"
     ]
    },
    {
     "data": {
      "image/png": "[encoded data removed]",
      "text/plain": [
       "<matplotlib.figure.Figure at 0x115a7a400>"
      ]
     },
     "metadata": {},
     "output_type": "display_data"
    }
   ],
   "source": [
    "modelfit(xgb1, train, features)"
   ]
  },
  {
   "cell_type": "code",
   "execution_count": 15,
   "metadata": {
    "collapsed": false
   },
   "outputs": [
    {
     "data": {
      "text/plain": [
       "XGBClassifier(base_score=0.5, colsample_bylevel=1, colsample_bytree=0.8,\n",
       "       gamma=0, learning_rate=0.1, max_delta_step=0, max_depth=5,\n",
       "       min_child_weight=1, missing=None, n_estimators=290, nthread=4,\n",
       "       objective='multi:softprob', reg_alpha=0, reg_lambda=1,\n",
       "       scale_pos_weight=1, seed=123, silent=True, subsample=0.8)"
      ]
     },
     "execution_count": 15,
     "metadata": {},
     "output_type": "execute_result"
    }
   ],
   "source": [
    "xgb1"
   ]
  },
  {
   "cell_type": "markdown",
   "metadata": {},
   "source": [
    "# Step 2: Tune max_depth and min_child_weight"
   ]
  },
  {
   "cell_type": "code",
   "execution_count": 16,
   "metadata": {
    "collapsed": false
   },
   "outputs": [
    {
     "name": "stderr",
     "output_type": "stream",
     "text": [
      "/Users/littleni/anaconda/lib/python3.5/site-packages/sklearn/model_selection/_search.py:667: DeprecationWarning: The grid_scores_ attribute was deprecated in version 0.18 in favor of the more elaborate cv_results_ attribute. The grid_scores_ attribute will not be available from 0.20\n",
      "  DeprecationWarning)\n"
     ]
    },
    {
     "data": {
      "text/plain": [
       "([mean: 0.52391, std: 0.06380, params: {'min_child_weight': 1, 'max_depth': 3},\n",
       "  mean: 0.52272, std: 0.06286, params: {'min_child_weight': 3, 'max_depth': 3},\n",
       "  mean: 0.52270, std: 0.06329, params: {'min_child_weight': 5, 'max_depth': 3},\n",
       "  mean: 0.51718, std: 0.06392, params: {'min_child_weight': 1, 'max_depth': 5},\n",
       "  mean: 0.51838, std: 0.06345, params: {'min_child_weight': 3, 'max_depth': 5},\n",
       "  mean: 0.51620, std: 0.06891, params: {'min_child_weight': 5, 'max_depth': 5},\n",
       "  mean: 0.52102, std: 0.07236, params: {'min_child_weight': 1, 'max_depth': 7},\n",
       "  mean: 0.51668, std: 0.06842, params: {'min_child_weight': 3, 'max_depth': 7},\n",
       "  mean: 0.51596, std: 0.06904, params: {'min_child_weight': 5, 'max_depth': 7},\n",
       "  mean: 0.52584, std: 0.06572, params: {'min_child_weight': 1, 'max_depth': 9},\n",
       "  mean: 0.52271, std: 0.06483, params: {'min_child_weight': 3, 'max_depth': 9},\n",
       "  mean: 0.51355, std: 0.07046, params: {'min_child_weight': 5, 'max_depth': 9}],\n",
       " {'max_depth': 9, 'min_child_weight': 1},\n",
       " 0.52584156512733504)"
      ]
     },
     "execution_count": 16,
     "metadata": {},
     "output_type": "execute_result"
    }
   ],
   "source": [
    "param_test1={\n",
    "    'max_depth':range(3,10,2),\n",
    "    'min_child_weight':range(1,6,2)\n",
    "}\n",
    "\n",
    "gs1 = GridSearchCV(XGBClassifier(colsample_bylevel=1, colsample_bytree=0.8,\n",
    "       gamma=0, learning_rate=0.1, max_delta_step=0, max_depth=5,\n",
    "       min_child_weight=1, n_estimators=290, nthread=4,\n",
    "       objective='multi:softprob', reg_alpha=0, reg_lambda=1,\n",
    "       scale_pos_weight=1, seed=123,subsample=0.8),param_grid=param_test1, \n",
    "                   scoring='accuracy', n_jobs=4,iid=False, cv=5)\n",
    "gs1.fit(train[features],train[target])\n",
    "gs1.grid_scores_, gs1.best_params_,gs1.best_score_"
   ]
  },
  {
   "cell_type": "code",
   "execution_count": 17,
   "metadata": {
    "collapsed": false
   },
   "outputs": [
    {
     "name": "stderr",
     "output_type": "stream",
     "text": [
      "/Users/littleni/anaconda/lib/python3.5/site-packages/sklearn/model_selection/_search.py:667: DeprecationWarning: The grid_scores_ attribute was deprecated in version 0.18 in favor of the more elaborate cv_results_ attribute. The grid_scores_ attribute will not be available from 0.20\n",
      "  DeprecationWarning)\n"
     ]
    },
    {
     "data": {
      "text/plain": [
       "([mean: 0.52391, std: 0.06883, params: {'min_child_weight': 1, 'max_depth': 8},\n",
       "  mean: 0.52078, std: 0.07002, params: {'min_child_weight': 2, 'max_depth': 8},\n",
       "  mean: 0.52584, std: 0.06572, params: {'min_child_weight': 1, 'max_depth': 9},\n",
       "  mean: 0.51621, std: 0.06604, params: {'min_child_weight': 2, 'max_depth': 9},\n",
       "  mean: 0.52222, std: 0.06617, params: {'min_child_weight': 1, 'max_depth': 10},\n",
       "  mean: 0.52222, std: 0.06944, params: {'min_child_weight': 2, 'max_depth': 10}],\n",
       " {'max_depth': 9, 'min_child_weight': 1},\n",
       " 0.52584156512733504)"
      ]
     },
     "execution_count": 17,
     "metadata": {},
     "output_type": "execute_result"
    }
   ],
   "source": [
    "param_test2={\n",
    "    'max_depth':[8,9,10],\n",
    "    'min_child_weight':[1,2]\n",
    "}\n",
    "\n",
    "gs2 = GridSearchCV(XGBClassifier(colsample_bylevel=1, colsample_bytree=0.8,\n",
    "       gamma=0, learning_rate=0.1, max_delta_step=0, max_depth=5,\n",
    "       min_child_weight=1, n_estimators=290, nthread=4,\n",
    "       objective='multi:softprob', reg_alpha=0, reg_lambda=1,\n",
    "       scale_pos_weight=1, seed=123,subsample=0.8),param_grid=param_test2, \n",
    "                   scoring='accuracy', n_jobs=4,iid=False, cv=5)\n",
    "gs2.fit(train[features],train[target])\n",
    "gs2.grid_scores_, gs2.best_params_,gs2.best_score_"
   ]
  },
  {
   "cell_type": "code",
   "execution_count": 18,
   "metadata": {
    "collapsed": false
   },
   "outputs": [
    {
     "data": {
      "text/plain": [
       "XGBClassifier(base_score=0.5, colsample_bylevel=1, colsample_bytree=0.8,\n",
       "       gamma=0, learning_rate=0.1, max_delta_step=0, max_depth=9,\n",
       "       min_child_weight=1, missing=None, n_estimators=290, nthread=4,\n",
       "       objective='multi:softprob', reg_alpha=0, reg_lambda=1,\n",
       "       scale_pos_weight=1, seed=123, silent=True, subsample=0.8)"
      ]
     },
     "execution_count": 18,
     "metadata": {},
     "output_type": "execute_result"
    }
   ],
   "source": [
    "gs2.best_estimator_"
   ]
  },
  {
   "cell_type": "markdown",
   "metadata": {},
   "source": [
    "# Step 3: Tune gamma"
   ]
  },
  {
   "cell_type": "code",
   "execution_count": 19,
   "metadata": {
    "collapsed": false
   },
   "outputs": [
    {
     "name": "stderr",
     "output_type": "stream",
     "text": [
      "/Users/littleni/anaconda/lib/python3.5/site-packages/sklearn/model_selection/_search.py:667: DeprecationWarning: The grid_scores_ attribute was deprecated in version 0.18 in favor of the more elaborate cv_results_ attribute. The grid_scores_ attribute will not be available from 0.20\n",
      "  DeprecationWarning)\n"
     ]
    },
    {
     "data": {
      "text/plain": [
       "([mean: 0.52584, std: 0.06572, params: {'gamma': 0.0},\n",
       "  mean: 0.52632, std: 0.07086, params: {'gamma': 0.1},\n",
       "  mean: 0.52656, std: 0.07059, params: {'gamma': 0.2},\n",
       "  mean: 0.52633, std: 0.06713, params: {'gamma': 0.3},\n",
       "  mean: 0.52440, std: 0.06480, params: {'gamma': 0.4}],\n",
       " {'gamma': 0.2},\n",
       " 0.52655662535367609)"
      ]
     },
     "execution_count": 19,
     "metadata": {},
     "output_type": "execute_result"
    }
   ],
   "source": [
    "param_test3={\n",
    "   'gamma':[i/10.0 for i in range(0,5)]\n",
    "}\n",
    "\n",
    "gs3 = GridSearchCV(XGBClassifier(colsample_bylevel=1, colsample_bytree=0.8,\n",
    "       gamma=0, learning_rate=0.1, max_delta_step=0, max_depth=9,\n",
    "       min_child_weight=1, n_estimators=290, nthread=4,\n",
    "       objective='multi:softprob', reg_alpha=0, reg_lambda=1,\n",
    "       scale_pos_weight=1, seed=123,subsample=0.8),param_grid=param_test3, \n",
    "                   scoring='accuracy', n_jobs=4,iid=False, cv=5)\n",
    "gs3.fit(train[features],train[target])\n",
    "gs3.grid_scores_, gs3.best_params_,gs3.best_score_"
   ]
  },
  {
   "cell_type": "code",
   "execution_count": 20,
   "metadata": {
    "collapsed": false
   },
   "outputs": [
    {
     "name": "stdout",
     "output_type": "stream",
     "text": [
      "\n",
      "Model Report\n",
      "Accuracy : 0.9978\n",
      "F1 score (Train) : 0.997830\n"
     ]
    },
    {
     "data": {
      "image/png": "[encoded data removed]",
      "text/plain": [
       "<matplotlib.figure.Figure at 0x1160388d0>"
      ]
     },
     "metadata": {},
     "output_type": "display_data"
    }
   ],
   "source": [
    "xgb2 = XGBClassifier(\n",
    "    learning_rate = 0.1,\n",
    "    n_estimators=1000,\n",
    "    max_depth=9,\n",
    "    min_child_weight=1,\n",
    "    gamma = 0.2,\n",
    "    subsample=0.8,\n",
    "    colsample_bytree=0.8,\n",
    "    objective='multi:softmax',\n",
    "    nthread =4,\n",
    "    scale_pos_weight=1,\n",
    "    seed = seed,\n",
    ")\n",
    "modelfit(xgb2,train,features)"
   ]
  },
  {
   "cell_type": "code",
   "execution_count": 21,
   "metadata": {
    "collapsed": false
   },
   "outputs": [
    {
     "data": {
      "text/plain": [
       "XGBClassifier(base_score=0.5, colsample_bylevel=1, colsample_bytree=0.8,\n",
       "       gamma=0.2, learning_rate=0.1, max_delta_step=0, max_depth=9,\n",
       "       min_child_weight=1, missing=None, n_estimators=236, nthread=4,\n",
       "       objective='multi:softprob', reg_alpha=0, reg_lambda=1,\n",
       "       scale_pos_weight=1, seed=123, silent=True, subsample=0.8)"
      ]
     },
     "execution_count": 21,
     "metadata": {},
     "output_type": "execute_result"
    }
   ],
   "source": [
    "xgb2"
   ]
  },
  {
   "cell_type": "markdown",
   "metadata": {},
   "source": [
    "# Step 4:Tune subsample and colsample_bytree"
   ]
  },
  {
   "cell_type": "code",
   "execution_count": 22,
   "metadata": {
    "collapsed": false
   },
   "outputs": [
    {
     "name": "stderr",
     "output_type": "stream",
     "text": [
      "/Users/littleni/anaconda/lib/python3.5/site-packages/sklearn/model_selection/_search.py:667: DeprecationWarning: The grid_scores_ attribute was deprecated in version 0.18 in favor of the more elaborate cv_results_ attribute. The grid_scores_ attribute will not be available from 0.20\n",
      "  DeprecationWarning)\n"
     ]
    },
    {
     "data": {
      "text/plain": [
       "([mean: 0.52222, std: 0.07060, params: {'colsample_bytree': 0.6, 'subsample': 0.6},\n",
       "  mean: 0.52392, std: 0.06317, params: {'colsample_bytree': 0.6, 'subsample': 0.7},\n",
       "  mean: 0.52994, std: 0.06877, params: {'colsample_bytree': 0.6, 'subsample': 0.8},\n",
       "  mean: 0.52704, std: 0.06807, params: {'colsample_bytree': 0.6, 'subsample': 0.9},\n",
       "  mean: 0.52222, std: 0.07060, params: {'colsample_bytree': 0.7, 'subsample': 0.6},\n",
       "  mean: 0.52392, std: 0.06317, params: {'colsample_bytree': 0.7, 'subsample': 0.7},\n",
       "  mean: 0.52994, std: 0.06877, params: {'colsample_bytree': 0.7, 'subsample': 0.8},\n",
       "  mean: 0.52704, std: 0.06807, params: {'colsample_bytree': 0.7, 'subsample': 0.9},\n",
       "  mean: 0.53162, std: 0.07243, params: {'colsample_bytree': 0.8, 'subsample': 0.6},\n",
       "  mean: 0.52705, std: 0.07100, params: {'colsample_bytree': 0.8, 'subsample': 0.7},\n",
       "  mean: 0.52608, std: 0.07036, params: {'colsample_bytree': 0.8, 'subsample': 0.8},\n",
       "  mean: 0.51885, std: 0.06818, params: {'colsample_bytree': 0.8, 'subsample': 0.9},\n",
       "  mean: 0.52126, std: 0.07021, params: {'colsample_bytree': 0.9, 'subsample': 0.6},\n",
       "  mean: 0.52077, std: 0.06890, params: {'colsample_bytree': 0.9, 'subsample': 0.7},\n",
       "  mean: 0.51908, std: 0.06919, params: {'colsample_bytree': 0.9, 'subsample': 0.8},\n",
       "  mean: 0.52006, std: 0.07087, params: {'colsample_bytree': 0.9, 'subsample': 0.9}],\n",
       " {'colsample_bytree': 0.8, 'subsample': 0.6},\n",
       " 0.53161835175244798)"
      ]
     },
     "execution_count": 22,
     "metadata": {},
     "output_type": "execute_result"
    }
   ],
   "source": [
    "param_test4={\n",
    "    'subsample':[i/10.0 for i in range(6,10)],\n",
    "    'colsample_bytree':[i/10.0 for i in range(6,10)]\n",
    "}\n",
    "\n",
    "gs4 = GridSearchCV(XGBClassifier(colsample_bylevel=1, colsample_bytree=0.8,\n",
    "       gamma=0.2, learning_rate=0.1, max_delta_step=0, max_depth=9,\n",
    "       min_child_weight=1, n_estimators=236, nthread=4,\n",
    "       objective='multi:softprob', reg_alpha=0, reg_lambda=1,\n",
    "       scale_pos_weight=1, seed=123,subsample=0.8),param_grid=param_test4, \n",
    "                   scoring='accuracy', n_jobs=4,iid=False, cv=5)\n",
    "gs4.fit(train[features],train[target])\n",
    "gs4.grid_scores_, gs4.best_params_,gs4.best_score_"
   ]
  },
  {
   "cell_type": "code",
   "execution_count": 23,
   "metadata": {
    "collapsed": false
   },
   "outputs": [
    {
     "name": "stderr",
     "output_type": "stream",
     "text": [
      "/Users/littleni/anaconda/lib/python3.5/site-packages/sklearn/model_selection/_search.py:667: DeprecationWarning: The grid_scores_ attribute was deprecated in version 0.18 in favor of the more elaborate cv_results_ attribute. The grid_scores_ attribute will not be available from 0.20\n",
      "  DeprecationWarning)\n"
     ]
    },
    {
     "data": {
      "text/plain": [
       "([mean: 0.52414, std: 0.06889, params: {'subsample': 0.5},\n",
       "  mean: 0.53162, std: 0.07243, params: {'subsample': 0.6}],\n",
       " {'subsample': 0.6},\n",
       " 0.53161835175244798)"
      ]
     },
     "execution_count": 23,
     "metadata": {},
     "output_type": "execute_result"
    }
   ],
   "source": [
    "param_test4b={\n",
    "    'subsample':[i/10.0 for i in range(5,7)],\n",
    "}\n",
    "\n",
    "gs4b = GridSearchCV(XGBClassifier(colsample_bylevel=1, colsample_bytree=0.8,\n",
    "       gamma=0.2, learning_rate=0.1, max_delta_step=0, max_depth=9,\n",
    "       min_child_weight=1, n_estimators=236, nthread=4,\n",
    "       objective='multi:softprob', reg_alpha=0, reg_lambda=1,\n",
    "       scale_pos_weight=1, seed=123,subsample=0.8),param_grid=param_test4b, \n",
    "                   scoring='accuracy', n_jobs=4,iid=False, cv=5)\n",
    "gs4b.fit(train[features],train[target])\n",
    "gs4b.grid_scores_, gs4b.best_params_,gs4b.best_score_"
   ]
  },
  {
   "cell_type": "markdown",
   "metadata": {},
   "source": [
    "# Step 5: Tuning Regularization Parameters"
   ]
  },
  {
   "cell_type": "code",
   "execution_count": 24,
   "metadata": {
    "collapsed": false
   },
   "outputs": [
    {
     "name": "stderr",
     "output_type": "stream",
     "text": [
      "/Users/littleni/anaconda/lib/python3.5/site-packages/sklearn/model_selection/_search.py:667: DeprecationWarning: The grid_scores_ attribute was deprecated in version 0.18 in favor of the more elaborate cv_results_ attribute. The grid_scores_ attribute will not be available from 0.20\n",
      "  DeprecationWarning)\n"
     ]
    },
    {
     "data": {
      "text/plain": [
       "([mean: 0.52825, std: 0.07059, params: {'reg_alpha': 1e-05},\n",
       "  mean: 0.52513, std: 0.07066, params: {'reg_alpha': 0.01},\n",
       "  mean: 0.52800, std: 0.07177, params: {'reg_alpha': 0.1},\n",
       "  mean: 0.52462, std: 0.07812, params: {'reg_alpha': 1},\n",
       "  mean: 0.47094, std: 0.03632, params: {'reg_alpha': 100}],\n",
       " {'reg_alpha': 1e-05},\n",
       " 0.52825352135380199)"
      ]
     },
     "execution_count": 24,
     "metadata": {},
     "output_type": "execute_result"
    }
   ],
   "source": [
    "param_test5={\n",
    "    'reg_alpha':[1e-5, 1e-2, 0.1, 1, 100]\n",
    "}\n",
    "\n",
    "gs5 = GridSearchCV(XGBClassifier(colsample_bylevel=1, colsample_bytree=0.8,\n",
    "       gamma=0.2, learning_rate=0.1, max_delta_step=0, max_depth=9,\n",
    "       min_child_weight=1, n_estimators=236, nthread=4,\n",
    "       objective='multi:softprob', reg_alpha=0, reg_lambda=1,\n",
    "       scale_pos_weight=1, seed=123,subsample=0.6),param_grid=param_test5, \n",
    "                   scoring='accuracy', n_jobs=4,iid=False, cv=5)\n",
    "gs5.fit(train[features],train[target])\n",
    "gs5.grid_scores_, gs5.best_params_,gs5.best_score_"
   ]
  },
  {
   "cell_type": "code",
   "execution_count": 25,
   "metadata": {
    "collapsed": false
   },
   "outputs": [
    {
     "name": "stderr",
     "output_type": "stream",
     "text": [
      "/Users/littleni/anaconda/lib/python3.5/site-packages/sklearn/model_selection/_search.py:667: DeprecationWarning: The grid_scores_ attribute was deprecated in version 0.18 in favor of the more elaborate cv_results_ attribute. The grid_scores_ attribute will not be available from 0.20\n",
      "  DeprecationWarning)\n"
     ]
    },
    {
     "data": {
      "text/plain": [
       "([mean: 0.53162, std: 0.07243, params: {'reg_alpha': 0},\n",
       "  mean: 0.52968, std: 0.07384, params: {'reg_alpha': 0.001},\n",
       "  mean: 0.52921, std: 0.07140, params: {'reg_alpha': 0.005},\n",
       "  mean: 0.52513, std: 0.07066, params: {'reg_alpha': 0.01},\n",
       "  mean: 0.53186, std: 0.07231, params: {'reg_alpha': 0.05}],\n",
       " {'reg_alpha': 0.05},\n",
       " 0.53185612242083324)"
      ]
     },
     "execution_count": 25,
     "metadata": {},
     "output_type": "execute_result"
    }
   ],
   "source": [
    "param_test6={\n",
    "    'reg_alpha':[0, 0.001, 0.005, 0.01, 0.05]\n",
    "}\n",
    "\n",
    "gs6 = GridSearchCV(XGBClassifier(colsample_bylevel=1, colsample_bytree=0.8,\n",
    "       gamma=0.2, learning_rate=0.1, max_delta_step=0, max_depth=9,\n",
    "       min_child_weight=1, n_estimators=236, nthread=4,\n",
    "       objective='multi:softprob', reg_alpha=0, reg_lambda=1,\n",
    "       scale_pos_weight=1, seed=123,subsample=0.6),param_grid=param_test6, \n",
    "                   scoring='accuracy', n_jobs=4,iid=False, cv=5)\n",
    "gs6.fit(train[features],train[target])\n",
    "gs6.grid_scores_, gs6.best_params_,gs6.best_score_"
   ]
  },
  {
   "cell_type": "code",
   "execution_count": 26,
   "metadata": {
    "collapsed": false
   },
   "outputs": [
    {
     "name": "stdout",
     "output_type": "stream",
     "text": [
      "\n",
      "Model Report\n",
      "Accuracy : 0.9966\n",
      "F1 score (Train) : 0.996622\n"
     ]
    },
    {
     "data": {
      "image/png": "[encoded data removed]",
      "text/plain": [
       "<matplotlib.figure.Figure at 0x115a7aa58>"
      ]
     },
     "metadata": {},
     "output_type": "display_data"
    }
   ],
   "source": [
    "xgb3 = XGBClassifier(\n",
    "    learning_rate = 0.1,\n",
    "    n_estimators=1000,\n",
    "    max_depth=9,\n",
    "    min_child_weight=1,\n",
    "    gamma = 0.2,\n",
    "    subsample=0.6,\n",
    "    colsample_bytree=0.8,\n",
    "    reg_alpha=0.05,\n",
    "    objective='multi:softmax',\n",
    "    nthread =4,\n",
    "    scale_pos_weight=1,\n",
    "    seed = seed,\n",
    ")\n",
    "modelfit(xgb3,train,features)"
   ]
  },
  {
   "cell_type": "code",
   "execution_count": 27,
   "metadata": {
    "collapsed": false
   },
   "outputs": [
    {
     "data": {
      "text/plain": [
       "XGBClassifier(base_score=0.5, colsample_bylevel=1, colsample_bytree=0.8,\n",
       "       gamma=0.2, learning_rate=0.1, max_delta_step=0, max_depth=9,\n",
       "       min_child_weight=1, missing=None, n_estimators=122, nthread=4,\n",
       "       objective='multi:softprob', reg_alpha=0.05, reg_lambda=1,\n",
       "       scale_pos_weight=1, seed=123, silent=True, subsample=0.6)"
      ]
     },
     "execution_count": 27,
     "metadata": {},
     "output_type": "execute_result"
    }
   ],
   "source": [
    "xgb3"
   ]
  },
  {
   "cell_type": "markdown",
   "metadata": {},
   "source": [
    "# Step 6: Reducing Learning Rate"
   ]
  },
  {
   "cell_type": "code",
   "execution_count": 28,
   "metadata": {
    "collapsed": false
   },
   "outputs": [
    {
     "name": "stdout",
     "output_type": "stream",
     "text": [
      "\n",
      "Model Report\n",
      "Accuracy : 0.9467\n",
      "F1 score (Train) : 0.946662\n"
     ]
    },
    {
     "data": {
      "image/png": "[encoded data removed]",
      "text/plain": [
       "<matplotlib.figure.Figure at 0x116029320>"
      ]
     },
     "metadata": {},
     "output_type": "display_data"
    }
   ],
   "source": [
    "xgb4 = XGBClassifier(\n",
    "    learning_rate = 0.01,\n",
    "    n_estimators=5000,\n",
    "    max_depth=9,\n",
    "    min_child_weight=1,\n",
    "    gamma = 0.2,\n",
    "    subsample=0.6,\n",
    "    colsample_bytree=0.8,\n",
    "    reg_alpha=0.05,\n",
    "    objective='multi:softmax',\n",
    "    nthread =4,\n",
    "    scale_pos_weight=1,\n",
    "    seed = seed,\n",
    ")\n",
    "modelfit(xgb4,train,features)"
   ]
  },
  {
   "cell_type": "code",
   "execution_count": 29,
   "metadata": {
    "collapsed": false
   },
   "outputs": [
    {
     "data": {
      "text/plain": [
       "XGBClassifier(base_score=0.5, colsample_bylevel=1, colsample_bytree=0.8,\n",
       "       gamma=0.2, learning_rate=0.01, max_delta_step=0, max_depth=9,\n",
       "       min_child_weight=1, missing=None, n_estimators=432, nthread=4,\n",
       "       objective='multi:softprob', reg_alpha=0.05, reg_lambda=1,\n",
       "       scale_pos_weight=1, seed=123, silent=True, subsample=0.6)"
      ]
     },
     "execution_count": 29,
     "metadata": {},
     "output_type": "execute_result"
    }
   ],
   "source": [
    "xgb4"
   ]
  },
  {
   "cell_type": "markdown",
   "metadata": {},
   "source": [
    "Next we use our tuned final model to do cross validation on the training data set. One of the wells will be used as test data and the rest will be the training data. Each iteration, a different well is chosen."
   ]
  },
  {
   "cell_type": "code",
   "execution_count": 23,
   "metadata": {
    "collapsed": false
   },
   "outputs": [
    {
     "name": "stdout",
     "output_type": "stream",
     "text": [
      "\n",
      "------------------------------------------------------\n",
      "Validation on the leaving out well SHRIMPLIN\n",
      "\n",
      "Model Report\n",
      "-Accuracy: 0.598726\n",
      "-Adjacent Accuracy: 0.949045\n",
      "-F1 Score: 0.575205\n",
      "\n",
      "Confusion Matrix Results\n",
      "     Pred    SS  CSiS  FSiS  SiSh    MS    WS     D    PS    BS Total\n",
      "     True\n",
      "       SS                                                           0\n",
      "     CSiS     1    94    23                                       118\n",
      "     FSiS     1    52    70                                       123\n",
      "     SiSh                      12           2           4          18\n",
      "       MS                       7     8    38          10          63\n",
      "       WS                       4     1    33     2    21     2    63\n",
      "        D                                               5           5\n",
      "       PS                             1     9          53     6    69\n",
      "       BS                                                    12    12\n",
      "\n",
      "Precision  0.00  0.64  0.75  0.52  0.80  0.40  0.00  0.57  0.60  0.64\n",
      "   Recall  0.00  0.80  0.57  0.67  0.13  0.52  0.00  0.77  1.00  0.60\n",
      "       F1  0.00  0.71  0.65  0.59  0.22  0.46  0.00  0.65  0.75  0.58\n"
     ]
    },
    {
     "name": "stderr",
     "output_type": "stream",
     "text": [
      "/Users/littleni/anaconda/lib/python3.5/site-packages/sklearn/metrics/classification.py:1115: UndefinedMetricWarning: F-score is ill-defined and being set to 0.0 in labels with no true samples.\n",
      "  'recall', 'true', average, warn_for)\n"
     ]
    },
    {
     "name": "stdout",
     "output_type": "stream",
     "text": [
      "\n",
      "------------------------------------------------------\n",
      "Validation on the leaving out well ALEXANDER D\n",
      "\n",
      "Model Report\n",
      "-Accuracy: 0.639485\n",
      "-Adjacent Accuracy: 0.914163\n",
      "-F1 Score: 0.604408\n",
      "\n",
      "Confusion Matrix Results\n",
      "     Pred    SS  CSiS  FSiS  SiSh    MS    WS     D    PS    BS Total\n",
      "     True\n",
      "       SS                                                           0\n",
      "     CSiS          86    31                                       117\n",
      "     FSiS          16    75                                        91\n",
      "     SiSh                      37           2     3     2          44\n",
      "       MS                       3    13     1           9          26\n",
      "       WS                      12    20     1     9    27          69\n",
      "        D                             2           9     5          16\n",
      "       PS                       6     4     4     9    72     3    98\n",
      "       BS                                                     5     5\n",
      "\n",
      "Precision  0.00  0.84  0.71  0.64  0.33  0.12  0.30  0.63  0.62  0.60\n",
      "   Recall  0.00  0.74  0.82  0.84  0.50  0.01  0.56  0.73  1.00  0.64\n",
      "       F1  0.00  0.79  0.76  0.73  0.40  0.03  0.39  0.68  0.77  0.60\n"
     ]
    },
    {
     "name": "stderr",
     "output_type": "stream",
     "text": [
      "/Users/littleni/anaconda/lib/python3.5/site-packages/sklearn/metrics/classification.py:1113: UndefinedMetricWarning: F-score is ill-defined and being set to 0.0 in labels with no predicted samples.\n",
      "  'precision', 'predicted', average, warn_for)\n",
      "/Users/littleni/anaconda/lib/python3.5/site-packages/sklearn/metrics/classification.py:1115: UndefinedMetricWarning: F-score is ill-defined and being set to 0.0 in labels with no true samples.\n",
      "  'recall', 'true', average, warn_for)\n"
     ]
    },
    {
     "name": "stdout",
     "output_type": "stream",
     "text": [
      "\n",
      "------------------------------------------------------\n",
      "Validation on the leaving out well SHANKLE\n",
      "\n",
      "Model Report\n",
      "-Accuracy: 0.512249\n",
      "-Adjacent Accuracy: 0.966592\n",
      "-F1 Score: 0.487142\n",
      "\n",
      "Confusion Matrix Results\n",
      "     Pred    SS  CSiS  FSiS  SiSh    MS    WS     D    PS    BS Total\n",
      "     True\n",
      "       SS     6    83                                              89\n",
      "     CSiS     7    71    11                                        89\n",
      "     FSiS          45    71                             1         117\n",
      "     SiSh                       1           5           1           7\n",
      "       MS                      12     1     4     1     1          19\n",
      "       WS                 2     4     5    47          13          71\n",
      "        D                                   1    12     4          17\n",
      "       PS                                  18     1    21          40\n",
      "       BS                                                           0\n",
      "\n",
      "Precision  0.46  0.36  0.85  0.06  0.17  0.63  0.86  0.51  0.00  0.57\n",
      "   Recall  0.07  0.80  0.61  0.14  0.05  0.66  0.71  0.53  0.00  0.51\n",
      "       F1  0.12  0.49  0.71  0.08  0.08  0.64  0.77  0.52  0.00  0.49\n"
     ]
    },
    {
     "name": "stderr",
     "output_type": "stream",
     "text": [
      "/Users/littleni/anaconda/lib/python3.5/site-packages/sklearn/metrics/classification.py:1113: UndefinedMetricWarning: F-score is ill-defined and being set to 0.0 in labels with no predicted samples.\n",
      "  'precision', 'predicted', average, warn_for)\n",
      "/Users/littleni/anaconda/lib/python3.5/site-packages/sklearn/metrics/classification.py:1115: UndefinedMetricWarning: F-score is ill-defined and being set to 0.0 in labels with no true samples.\n",
      "  'recall', 'true', average, warn_for)\n"
     ]
    },
    {
     "name": "stdout",
     "output_type": "stream",
     "text": [
      "\n",
      "------------------------------------------------------\n",
      "Validation on the leaving out well LUKE G U\n",
      "\n",
      "Model Report\n",
      "-Accuracy: 0.620390\n",
      "-Adjacent Accuracy: 0.941432\n",
      "-F1 Score: 0.647271\n",
      "\n",
      "Confusion Matrix Results\n",
      "     Pred    SS  CSiS  FSiS  SiSh    MS    WS     D    PS    BS Total\n",
      "     True\n",
      "       SS                                                           0\n",
      "     CSiS    15    85    17                                       117\n",
      "     FSiS     4    45    76                             4         129\n",
      "     SiSh                      29     3     3                      35\n",
      "       MS                             1                 1           2\n",
      "       WS                       7    21    42          12     2    84\n",
      "        D                                   2     7    11          20\n",
      "       PS                 2     2     2    20     2    46          74\n",
      "       BS                                                           0\n",
      "\n",
      "Precision  0.00  0.65  0.80  0.76  0.04  0.63  0.78  0.62  0.00  0.70\n",
      "   Recall  0.00  0.73  0.59  0.83  0.50  0.50  0.35  0.62  0.00  0.62\n",
      "       F1  0.00  0.69  0.68  0.79  0.07  0.56  0.48  0.62  0.00  0.65\n"
     ]
    },
    {
     "name": "stderr",
     "output_type": "stream",
     "text": [
      "/Users/littleni/anaconda/lib/python3.5/site-packages/sklearn/metrics/classification.py:1115: UndefinedMetricWarning: F-score is ill-defined and being set to 0.0 in labels with no true samples.\n",
      "  'recall', 'true', average, warn_for)\n"
     ]
    },
    {
     "name": "stdout",
     "output_type": "stream",
     "text": [
      "\n",
      "------------------------------------------------------\n",
      "Validation on the leaving out well KIMZEY A\n",
      "\n",
      "Model Report\n",
      "-Accuracy: 0.517084\n",
      "-Adjacent Accuracy: 0.886105\n",
      "-F1 Score: 0.482987\n",
      "\n",
      "Confusion Matrix Results\n",
      "     Pred    SS  CSiS  FSiS  SiSh    MS    WS     D    PS    BS Total\n",
      "     True\n",
      "       SS           5     4                                         9\n",
      "     CSiS          72    13                                        85\n",
      "     FSiS          40    34                                        74\n",
      "     SiSh                      23     3    17                      43\n",
      "       MS                       5          33          13     2    53\n",
      "       WS                 1     3          26     2    17     2    51\n",
      "        D                       4           6     6    10     1    27\n",
      "       PS                       1     1    23     4    60     1    90\n",
      "       BS                                   1                 6     7\n",
      "\n",
      "Precision  0.00  0.62  0.65  0.64  0.00  0.25  0.50  0.60  0.50  0.48\n",
      "   Recall  0.00  0.85  0.46  0.53  0.00  0.51  0.22  0.67  0.86  0.52\n",
      "       F1  0.00  0.71  0.54  0.58  0.00  0.33  0.31  0.63  0.63  0.48\n"
     ]
    },
    {
     "name": "stderr",
     "output_type": "stream",
     "text": [
      "/Users/littleni/anaconda/lib/python3.5/site-packages/sklearn/metrics/classification.py:1113: UndefinedMetricWarning: F-score is ill-defined and being set to 0.0 in labels with no predicted samples.\n",
      "  'precision', 'predicted', average, warn_for)\n"
     ]
    },
    {
     "name": "stdout",
     "output_type": "stream",
     "text": [
      "\n",
      "------------------------------------------------------\n",
      "Validation on the leaving out well CROSS H CATTLE\n",
      "\n",
      "Model Report\n",
      "-Accuracy: 0.385230\n",
      "-Adjacent Accuracy: 0.882236\n",
      "-F1 Score: 0.370080\n",
      "\n",
      "Confusion Matrix Results\n",
      "     Pred    SS  CSiS  FSiS  SiSh    MS    WS     D    PS    BS Total\n",
      "     True\n",
      "       SS    33   109    16                                       158\n",
      "     CSiS     2    63    76                             1         142\n",
      "     FSiS           5    39                 1           2          47\n",
      "     SiSh                 4     4     2    14           1          25\n",
      "       MS           4     3           1    16     1     3          28\n",
      "       WS                       1          23     1     6          31\n",
      "        D                                         1     1           2\n",
      "       PS                 4     3     1    26     5    29          68\n",
      "       BS                                                           0\n",
      "\n",
      "Precision  0.94  0.35  0.27  0.50  0.25  0.29  0.12  0.67  0.00  0.57\n",
      "   Recall  0.21  0.44  0.83  0.16  0.04  0.74  0.50  0.43  0.00  0.39\n",
      "       F1  0.34  0.39  0.41  0.24  0.06  0.41  0.20  0.52  0.00  0.37\n"
     ]
    },
    {
     "name": "stderr",
     "output_type": "stream",
     "text": [
      "/Users/littleni/anaconda/lib/python3.5/site-packages/sklearn/metrics/classification.py:1113: UndefinedMetricWarning: F-score is ill-defined and being set to 0.0 in labels with no predicted samples.\n",
      "  'precision', 'predicted', average, warn_for)\n",
      "/Users/littleni/anaconda/lib/python3.5/site-packages/sklearn/metrics/classification.py:1115: UndefinedMetricWarning: F-score is ill-defined and being set to 0.0 in labels with no true samples.\n",
      "  'recall', 'true', average, warn_for)\n"
     ]
    },
    {
     "name": "stdout",
     "output_type": "stream",
     "text": [
      "\n",
      "------------------------------------------------------\n",
      "Validation on the leaving out well NOLAN\n",
      "\n",
      "Model Report\n",
      "-Accuracy: 0.513253\n",
      "-Adjacent Accuracy: 0.860241\n",
      "-F1 Score: 0.538718\n",
      "\n",
      "Confusion Matrix Results\n",
      "     Pred    SS  CSiS  FSiS  SiSh    MS    WS     D    PS    BS Total\n",
      "     True\n",
      "       SS           4                                               4\n",
      "     CSiS    16    83    18                             1         118\n",
      "     FSiS     5    20    40                 1           2          68\n",
      "     SiSh           1           8     2    13     1     3          28\n",
      "       MS           3                 3    27     2     9     3    47\n",
      "       WS     1                 1          10          15     3    30\n",
      "        D                       1                 2     1           4\n",
      "       PS                 5     3          16     3    67    22   116\n",
      "       BS                                                           0\n",
      "\n",
      "Precision  0.00  0.75  0.63  0.62  0.60  0.15  0.25  0.68  0.00  0.63\n",
      "   Recall  0.00  0.70  0.59  0.29  0.06  0.33  0.50  0.58  0.00  0.51\n",
      "       F1  0.00  0.72  0.61  0.39  0.12  0.21  0.33  0.63  0.00  0.54\n"
     ]
    },
    {
     "name": "stderr",
     "output_type": "stream",
     "text": [
      "/Users/littleni/anaconda/lib/python3.5/site-packages/sklearn/metrics/classification.py:1115: UndefinedMetricWarning: F-score is ill-defined and being set to 0.0 in labels with no true samples.\n",
      "  'recall', 'true', average, warn_for)\n"
     ]
    },
    {
     "name": "stdout",
     "output_type": "stream",
     "text": [
      "\n",
      "------------------------------------------------------\n",
      "Validation on the leaving out well Recruit F9\n",
      "\n",
      "Model Report\n",
      "-Accuracy: 0.825000\n",
      "-Adjacent Accuracy: 0.975000\n",
      "-F1 Score: 0.904110\n",
      "\n",
      "Confusion Matrix Results\n",
      "     Pred    SS  CSiS  FSiS  SiSh    MS    WS     D    PS    BS Total\n",
      "     True\n",
      "       SS                                                           0\n",
      "     CSiS                                                           0\n",
      "     FSiS                                                           0\n",
      "     SiSh                                                           0\n",
      "       MS                                                           0\n",
      "       WS                                                           0\n",
      "        D                                                           0\n",
      "       PS                                                           0\n",
      "       BS                                   2     2    10    66    80\n",
      "\n",
      "Precision  0.00  0.00  0.00  0.00  0.00  0.00  0.00  0.00  1.00  1.00\n",
      "   Recall  0.00  0.00  0.00  0.00  0.00  0.00  0.00  0.00  0.82  0.82\n",
      "       F1  0.00  0.00  0.00  0.00  0.00  0.00  0.00  0.00  0.90  0.90\n"
     ]
    },
    {
     "name": "stderr",
     "output_type": "stream",
     "text": [
      "/Users/littleni/anaconda/lib/python3.5/site-packages/sklearn/metrics/classification.py:1113: UndefinedMetricWarning: F-score is ill-defined and being set to 0.0 in labels with no predicted samples.\n",
      "  'precision', 'predicted', average, warn_for)\n",
      "/Users/littleni/anaconda/lib/python3.5/site-packages/sklearn/metrics/classification.py:1115: UndefinedMetricWarning: F-score is ill-defined and being set to 0.0 in labels with no true samples.\n",
      "  'recall', 'true', average, warn_for)\n"
     ]
    },
    {
     "name": "stdout",
     "output_type": "stream",
     "text": [
      "\n",
      "------------------------------------------------------\n",
      "Validation on the leaving out well NEWBY\n",
      "\n",
      "Model Report\n",
      "-Accuracy: 0.477322\n",
      "-Adjacent Accuracy: 0.896328\n",
      "-F1 Score: 0.474133\n",
      "\n",
      "Confusion Matrix Results\n",
      "     Pred    SS  CSiS  FSiS  SiSh    MS    WS     D    PS    BS Total\n",
      "     True\n",
      "       SS                                                           0\n",
      "     CSiS    16    55    25                             2          98\n",
      "     FSiS     1    34    44                             1          80\n",
      "     SiSh                      35     4    11     4     4          58\n",
      "       MS                 4     2          11     4     7          28\n",
      "       WS                       2    16    34     3    41          96\n",
      "        D                                   2     6     8          16\n",
      "       PS                             3     7          46          56\n",
      "       BS                       1           4          25     1    31\n",
      "\n",
      "Precision  0.00  0.62  0.60  0.88  0.00  0.49  0.35  0.34  1.00  0.57\n",
      "   Recall  0.00  0.56  0.55  0.60  0.00  0.35  0.38  0.82  0.03  0.48\n",
      "       F1  0.00  0.59  0.58  0.71  0.00  0.41  0.36  0.48  0.06  0.47\n"
     ]
    },
    {
     "name": "stderr",
     "output_type": "stream",
     "text": [
      "/Users/littleni/anaconda/lib/python3.5/site-packages/sklearn/metrics/classification.py:1115: UndefinedMetricWarning: F-score is ill-defined and being set to 0.0 in labels with no true samples.\n",
      "  'recall', 'true', average, warn_for)\n"
     ]
    },
    {
     "name": "stdout",
     "output_type": "stream",
     "text": [
      "\n",
      "------------------------------------------------------\n",
      "Validation on the leaving out well CHURCHMAN BIBLE\n",
      "\n",
      "Model Report\n",
      "-Accuracy: 0.586634\n",
      "-Adjacent Accuracy: 0.888614\n",
      "-F1 Score: 0.557692\n",
      "\n",
      "Confusion Matrix Results\n",
      "     Pred    SS  CSiS  FSiS  SiSh    MS    WS     D    PS    BS Total\n",
      "     True\n",
      "       SS           7     1                                         8\n",
      "     CSiS     4    31    20                 1                      56\n",
      "     FSiS           9    37     2     1     1           1          51\n",
      "     SiSh                       6     1     6                      13\n",
      "       MS                 1     2     3    20           4          30\n",
      "       WS                      12     1    64          10          87\n",
      "        D                 1           1     3     3    23     3    34\n",
      "       PS                 3     2     5    22          43          75\n",
      "       BS                                                    50    50\n",
      "\n",
      "Precision  0.00  0.66  0.59  0.25  0.25  0.55  1.00  0.53  0.94  0.61\n",
      "   Recall  0.00  0.55  0.73  0.46  0.10  0.74  0.09  0.57  1.00  0.59\n",
      "       F1  0.00  0.60  0.65  0.32  0.14  0.63  0.16  0.55  0.97  0.56\n",
      "\n",
      "------------------------------------------------------\n",
      "Final Results\n",
      "-Average F1 Score: 0.564175\n"
     ]
    }
   ],
   "source": [
    "# Load data \n",
    "filename = './facies_vectors.csv'\n",
    "data = pd.read_csv(filename)\n",
    "\n",
    "# Change to category data type\n",
    "data['Well Name'] = data['Well Name'].astype('category')\n",
    "data['Formation'] = data['Formation'].astype('category')\n",
    "\n",
    "# Leave one well out for cross validation \n",
    "well_names = data['Well Name'].unique()\n",
    "f1=[]\n",
    "for i in range(len(well_names)):\n",
    "    \n",
    "    # Split data for training and testing\n",
    "    X_train = data.drop(['Facies', 'Formation','Depth'], axis = 1 ) \n",
    "    Y_train = data['Facies' ] - 1\n",
    "    \n",
    "    train_X = X_train[X_train['Well Name'] != well_names[i] ]\n",
    "    train_Y = Y_train[X_train['Well Name'] != well_names[i] ]\n",
    "    test_X  = X_train[X_train['Well Name'] == well_names[i] ]\n",
    "    test_Y  = Y_train[X_train['Well Name'] == well_names[i] ]\n",
    "\n",
    "    train_X = train_X.drop(['Well Name'], axis = 1 ) \n",
    "    test_X = test_X.drop(['Well Name'], axis = 1 )\n",
    "\n",
    "    # Final recommended model based on the extensive parameters search\n",
    "    model_final = XGBClassifier(base_score=0.5, colsample_bylevel=1,\n",
    "       colsample_bytree=0.8, gamma=0.2,\n",
    "       learning_rate=0.01, max_delta_step=0, max_depth=9,\n",
    "       min_child_weight=1, missing=None, n_estimators=432, nthread=4,\n",
    "       objective='multi:softmax', reg_alpha=0.05, reg_lambda=1,\n",
    "       scale_pos_weight=1, seed=123, silent=1,\n",
    "       subsample=0.6)\n",
    "    # Train the model based on training data\n",
    "    model_final.fit( train_X , train_Y , eval_metric = 'merror' )\n",
    "\n",
    "\n",
    "    # Predict on the test set\n",
    "    predictions = model_final.predict(test_X)\n",
    "\n",
    "    # Print report\n",
    "    print (\"\\n------------------------------------------------------\")\n",
    "    print (\"Validation on the leaving out well \" + well_names[i])\n",
    "    conf = confusion_matrix( test_Y, predictions, labels = np.arange(9) )\n",
    "    print (\"\\nModel Report\")\n",
    "    print (\"-Accuracy: %.6f\" % ( accuracy(conf) ))\n",
    "    print (\"-Adjacent Accuracy: %.6f\" % ( accuracy_adjacent(conf, adjacent_facies) ))\n",
    "    print (\"-F1 Score: %.6f\" % ( f1_score ( test_Y , predictions , labels = np.arange(9), average = 'weighted' ) ))\n",
    "    f1.append(f1_score ( test_Y , predictions , labels = np.arange(9), average = 'weighted' ))\n",
    "    facies_labels = ['SS', 'CSiS', 'FSiS', 'SiSh', 'MS',\n",
    "                     'WS', 'D','PS', 'BS']\n",
    "    print (\"\\nConfusion Matrix Results\")\n",
    "    from classification_utilities import display_cm, display_adj_cm\n",
    "    display_cm(conf, facies_labels,display_metrics=True, hide_zeros=True)\n",
    "    \n",
    "print (\"\\n------------------------------------------------------\")\n",
    "print (\"Final Results\")\n",
    "print (\"-Average F1 Score: %6f\" % (sum(f1)/(1.0*len(f1))))"
   ]
  },
  {
   "cell_type": "markdown",
   "metadata": {},
   "source": [
    "Use final model to predict the given test data set"
   ]
  },
  {
   "cell_type": "code",
   "execution_count": 24,
   "metadata": {
    "collapsed": false
   },
   "outputs": [],
   "source": [
    "# Load test data\n",
    "test_data = pd.read_csv('validation_data_nofacies.csv')\n",
    "test_data['Well Name'] = test_data['Well Name'].astype('category')\n",
    "X_test = test_data.drop(['Formation', 'Well Name', 'Depth'], axis=1)\n",
    "# Predict facies of unclassified data\n",
    "Y_predicted = model_final.predict(X_test)\n",
    "test_data['Facies'] = Y_predicted + 1\n",
    "# Store the prediction\n",
    "test_data.to_csv('Prediction2.csv')"
   ]
  },
  {
   "cell_type": "code",
   "execution_count": 25,
   "metadata": {
    "collapsed": false
   },
   "outputs": [
    {
     "data": {
      "text/html": [
       "<div>\n",
       "<table border=\"1\" class=\"dataframe\">\n",
       "  <thead>\n",
       "    <tr style=\"text-align: right;\">\n",
       "      <th></th>\n",
       "      <th>Formation</th>\n",
       "      <th>Well Name</th>\n",
       "      <th>Depth</th>\n",
       "      <th>GR</th>\n",
       "      <th>ILD_log10</th>\n",
       "      <th>DeltaPHI</th>\n",
       "      <th>PHIND</th>\n",
       "      <th>PE</th>\n",
       "      <th>NM_M</th>\n",
       "      <th>RELPOS</th>\n",
       "      <th>Facies</th>\n",
       "    </tr>\n",
       "  </thead>\n",
       "  <tbody>\n",
       "    <tr>\n",
       "      <th>0</th>\n",
       "      <td>A1 SH</td>\n",
       "      <td>STUART</td>\n",
       "      <td>2808.0</td>\n",
       "      <td>66.276</td>\n",
       "      <td>0.630</td>\n",
       "      <td>3.300</td>\n",
       "      <td>10.650</td>\n",
       "      <td>3.591</td>\n",
       "      <td>1</td>\n",
       "      <td>1.000</td>\n",
       "      <td>2</td>\n",
       "    </tr>\n",
       "    <tr>\n",
       "      <th>1</th>\n",
       "      <td>A1 SH</td>\n",
       "      <td>STUART</td>\n",
       "      <td>2808.5</td>\n",
       "      <td>77.252</td>\n",
       "      <td>0.585</td>\n",
       "      <td>6.500</td>\n",
       "      <td>11.950</td>\n",
       "      <td>3.341</td>\n",
       "      <td>1</td>\n",
       "      <td>0.978</td>\n",
       "      <td>3</td>\n",
       "    </tr>\n",
       "    <tr>\n",
       "      <th>2</th>\n",
       "      <td>A1 SH</td>\n",
       "      <td>STUART</td>\n",
       "      <td>2809.0</td>\n",
       "      <td>82.899</td>\n",
       "      <td>0.566</td>\n",
       "      <td>9.400</td>\n",
       "      <td>13.600</td>\n",
       "      <td>3.064</td>\n",
       "      <td>1</td>\n",
       "      <td>0.956</td>\n",
       "      <td>2</td>\n",
       "    </tr>\n",
       "    <tr>\n",
       "      <th>3</th>\n",
       "      <td>A1 SH</td>\n",
       "      <td>STUART</td>\n",
       "      <td>2809.5</td>\n",
       "      <td>80.671</td>\n",
       "      <td>0.593</td>\n",
       "      <td>9.500</td>\n",
       "      <td>13.250</td>\n",
       "      <td>2.977</td>\n",
       "      <td>1</td>\n",
       "      <td>0.933</td>\n",
       "      <td>2</td>\n",
       "    </tr>\n",
       "    <tr>\n",
       "      <th>4</th>\n",
       "      <td>A1 SH</td>\n",
       "      <td>STUART</td>\n",
       "      <td>2810.0</td>\n",
       "      <td>75.971</td>\n",
       "      <td>0.638</td>\n",
       "      <td>8.700</td>\n",
       "      <td>12.350</td>\n",
       "      <td>3.020</td>\n",
       "      <td>1</td>\n",
       "      <td>0.911</td>\n",
       "      <td>2</td>\n",
       "    </tr>\n",
       "    <tr>\n",
       "      <th>5</th>\n",
       "      <td>A1 SH</td>\n",
       "      <td>STUART</td>\n",
       "      <td>2810.5</td>\n",
       "      <td>73.955</td>\n",
       "      <td>0.667</td>\n",
       "      <td>6.900</td>\n",
       "      <td>12.250</td>\n",
       "      <td>3.086</td>\n",
       "      <td>1</td>\n",
       "      <td>0.889</td>\n",
       "      <td>2</td>\n",
       "    </tr>\n",
       "    <tr>\n",
       "      <th>6</th>\n",
       "      <td>A1 SH</td>\n",
       "      <td>STUART</td>\n",
       "      <td>2811.0</td>\n",
       "      <td>77.962</td>\n",
       "      <td>0.674</td>\n",
       "      <td>6.500</td>\n",
       "      <td>12.450</td>\n",
       "      <td>3.092</td>\n",
       "      <td>1</td>\n",
       "      <td>0.867</td>\n",
       "      <td>2</td>\n",
       "    </tr>\n",
       "    <tr>\n",
       "      <th>7</th>\n",
       "      <td>A1 SH</td>\n",
       "      <td>STUART</td>\n",
       "      <td>2811.5</td>\n",
       "      <td>83.894</td>\n",
       "      <td>0.667</td>\n",
       "      <td>6.300</td>\n",
       "      <td>12.650</td>\n",
       "      <td>3.123</td>\n",
       "      <td>1</td>\n",
       "      <td>0.844</td>\n",
       "      <td>2</td>\n",
       "    </tr>\n",
       "    <tr>\n",
       "      <th>8</th>\n",
       "      <td>A1 SH</td>\n",
       "      <td>STUART</td>\n",
       "      <td>2812.0</td>\n",
       "      <td>84.424</td>\n",
       "      <td>0.653</td>\n",
       "      <td>6.700</td>\n",
       "      <td>13.050</td>\n",
       "      <td>3.121</td>\n",
       "      <td>1</td>\n",
       "      <td>0.822</td>\n",
       "      <td>2</td>\n",
       "    </tr>\n",
       "    <tr>\n",
       "      <th>9</th>\n",
       "      <td>A1 SH</td>\n",
       "      <td>STUART</td>\n",
       "      <td>2812.5</td>\n",
       "      <td>83.160</td>\n",
       "      <td>0.642</td>\n",
       "      <td>7.300</td>\n",
       "      <td>12.950</td>\n",
       "      <td>3.127</td>\n",
       "      <td>1</td>\n",
       "      <td>0.800</td>\n",
       "      <td>2</td>\n",
       "    </tr>\n",
       "    <tr>\n",
       "      <th>10</th>\n",
       "      <td>A1 SH</td>\n",
       "      <td>STUART</td>\n",
       "      <td>2813.0</td>\n",
       "      <td>79.063</td>\n",
       "      <td>0.651</td>\n",
       "      <td>7.300</td>\n",
       "      <td>12.050</td>\n",
       "      <td>3.147</td>\n",
       "      <td>1</td>\n",
       "      <td>0.778</td>\n",
       "      <td>2</td>\n",
       "    </tr>\n",
       "    <tr>\n",
       "      <th>11</th>\n",
       "      <td>A1 SH</td>\n",
       "      <td>STUART</td>\n",
       "      <td>2813.5</td>\n",
       "      <td>69.002</td>\n",
       "      <td>0.677</td>\n",
       "      <td>6.200</td>\n",
       "      <td>10.800</td>\n",
       "      <td>3.096</td>\n",
       "      <td>1</td>\n",
       "      <td>0.756</td>\n",
       "      <td>2</td>\n",
       "    </tr>\n",
       "    <tr>\n",
       "      <th>12</th>\n",
       "      <td>A1 SH</td>\n",
       "      <td>STUART</td>\n",
       "      <td>2814.0</td>\n",
       "      <td>63.983</td>\n",
       "      <td>0.690</td>\n",
       "      <td>4.400</td>\n",
       "      <td>9.700</td>\n",
       "      <td>3.103</td>\n",
       "      <td>1</td>\n",
       "      <td>0.733</td>\n",
       "      <td>2</td>\n",
       "    </tr>\n",
       "    <tr>\n",
       "      <th>13</th>\n",
       "      <td>A1 SH</td>\n",
       "      <td>STUART</td>\n",
       "      <td>2814.5</td>\n",
       "      <td>61.797</td>\n",
       "      <td>0.675</td>\n",
       "      <td>3.500</td>\n",
       "      <td>9.150</td>\n",
       "      <td>3.101</td>\n",
       "      <td>1</td>\n",
       "      <td>0.711</td>\n",
       "      <td>2</td>\n",
       "    </tr>\n",
       "    <tr>\n",
       "      <th>14</th>\n",
       "      <td>A1 SH</td>\n",
       "      <td>STUART</td>\n",
       "      <td>2815.0</td>\n",
       "      <td>61.372</td>\n",
       "      <td>0.646</td>\n",
       "      <td>2.800</td>\n",
       "      <td>9.300</td>\n",
       "      <td>3.065</td>\n",
       "      <td>1</td>\n",
       "      <td>0.689</td>\n",
       "      <td>1</td>\n",
       "    </tr>\n",
       "    <tr>\n",
       "      <th>15</th>\n",
       "      <td>A1 SH</td>\n",
       "      <td>STUART</td>\n",
       "      <td>2815.5</td>\n",
       "      <td>63.535</td>\n",
       "      <td>0.621</td>\n",
       "      <td>2.800</td>\n",
       "      <td>9.800</td>\n",
       "      <td>2.982</td>\n",
       "      <td>1</td>\n",
       "      <td>0.667</td>\n",
       "      <td>2</td>\n",
       "    </tr>\n",
       "    <tr>\n",
       "      <th>16</th>\n",
       "      <td>A1 SH</td>\n",
       "      <td>STUART</td>\n",
       "      <td>2816.0</td>\n",
       "      <td>65.126</td>\n",
       "      <td>0.600</td>\n",
       "      <td>3.300</td>\n",
       "      <td>10.550</td>\n",
       "      <td>2.914</td>\n",
       "      <td>1</td>\n",
       "      <td>0.644</td>\n",
       "      <td>2</td>\n",
       "    </tr>\n",
       "    <tr>\n",
       "      <th>17</th>\n",
       "      <td>A1 SH</td>\n",
       "      <td>STUART</td>\n",
       "      <td>2816.5</td>\n",
       "      <td>75.930</td>\n",
       "      <td>0.576</td>\n",
       "      <td>3.400</td>\n",
       "      <td>11.900</td>\n",
       "      <td>2.845</td>\n",
       "      <td>1</td>\n",
       "      <td>0.600</td>\n",
       "      <td>2</td>\n",
       "    </tr>\n",
       "    <tr>\n",
       "      <th>18</th>\n",
       "      <td>A1 SH</td>\n",
       "      <td>STUART</td>\n",
       "      <td>2817.0</td>\n",
       "      <td>85.077</td>\n",
       "      <td>0.584</td>\n",
       "      <td>4.400</td>\n",
       "      <td>12.900</td>\n",
       "      <td>2.854</td>\n",
       "      <td>1</td>\n",
       "      <td>0.578</td>\n",
       "      <td>2</td>\n",
       "    </tr>\n",
       "    <tr>\n",
       "      <th>19</th>\n",
       "      <td>A1 SH</td>\n",
       "      <td>STUART</td>\n",
       "      <td>2817.5</td>\n",
       "      <td>89.459</td>\n",
       "      <td>0.598</td>\n",
       "      <td>6.600</td>\n",
       "      <td>13.500</td>\n",
       "      <td>2.986</td>\n",
       "      <td>1</td>\n",
       "      <td>0.556</td>\n",
       "      <td>2</td>\n",
       "    </tr>\n",
       "    <tr>\n",
       "      <th>20</th>\n",
       "      <td>A1 SH</td>\n",
       "      <td>STUART</td>\n",
       "      <td>2818.0</td>\n",
       "      <td>88.619</td>\n",
       "      <td>0.610</td>\n",
       "      <td>7.200</td>\n",
       "      <td>14.800</td>\n",
       "      <td>2.988</td>\n",
       "      <td>1</td>\n",
       "      <td>0.533</td>\n",
       "      <td>2</td>\n",
       "    </tr>\n",
       "    <tr>\n",
       "      <th>21</th>\n",
       "      <td>A1 SH</td>\n",
       "      <td>STUART</td>\n",
       "      <td>2818.5</td>\n",
       "      <td>81.593</td>\n",
       "      <td>0.636</td>\n",
       "      <td>6.400</td>\n",
       "      <td>13.900</td>\n",
       "      <td>2.998</td>\n",
       "      <td>1</td>\n",
       "      <td>0.511</td>\n",
       "      <td>2</td>\n",
       "    </tr>\n",
       "    <tr>\n",
       "      <th>22</th>\n",
       "      <td>A1 SH</td>\n",
       "      <td>STUART</td>\n",
       "      <td>2819.0</td>\n",
       "      <td>66.595</td>\n",
       "      <td>0.702</td>\n",
       "      <td>2.800</td>\n",
       "      <td>11.400</td>\n",
       "      <td>2.988</td>\n",
       "      <td>1</td>\n",
       "      <td>0.489</td>\n",
       "      <td>2</td>\n",
       "    </tr>\n",
       "    <tr>\n",
       "      <th>23</th>\n",
       "      <td>A1 SH</td>\n",
       "      <td>STUART</td>\n",
       "      <td>2819.5</td>\n",
       "      <td>55.081</td>\n",
       "      <td>0.789</td>\n",
       "      <td>2.700</td>\n",
       "      <td>8.150</td>\n",
       "      <td>3.028</td>\n",
       "      <td>1</td>\n",
       "      <td>0.467</td>\n",
       "      <td>1</td>\n",
       "    </tr>\n",
       "    <tr>\n",
       "      <th>24</th>\n",
       "      <td>A1 SH</td>\n",
       "      <td>STUART</td>\n",
       "      <td>2820.0</td>\n",
       "      <td>48.112</td>\n",
       "      <td>0.840</td>\n",
       "      <td>1.000</td>\n",
       "      <td>7.500</td>\n",
       "      <td>3.073</td>\n",
       "      <td>1</td>\n",
       "      <td>0.444</td>\n",
       "      <td>2</td>\n",
       "    </tr>\n",
       "    <tr>\n",
       "      <th>25</th>\n",
       "      <td>A1 SH</td>\n",
       "      <td>STUART</td>\n",
       "      <td>2820.5</td>\n",
       "      <td>43.730</td>\n",
       "      <td>0.846</td>\n",
       "      <td>0.400</td>\n",
       "      <td>7.100</td>\n",
       "      <td>3.146</td>\n",
       "      <td>1</td>\n",
       "      <td>0.422</td>\n",
       "      <td>1</td>\n",
       "    </tr>\n",
       "    <tr>\n",
       "      <th>26</th>\n",
       "      <td>A1 SH</td>\n",
       "      <td>STUART</td>\n",
       "      <td>2821.0</td>\n",
       "      <td>44.097</td>\n",
       "      <td>0.840</td>\n",
       "      <td>0.700</td>\n",
       "      <td>6.650</td>\n",
       "      <td>3.205</td>\n",
       "      <td>1</td>\n",
       "      <td>0.400</td>\n",
       "      <td>2</td>\n",
       "    </tr>\n",
       "    <tr>\n",
       "      <th>27</th>\n",
       "      <td>A1 SH</td>\n",
       "      <td>STUART</td>\n",
       "      <td>2821.5</td>\n",
       "      <td>46.839</td>\n",
       "      <td>0.842</td>\n",
       "      <td>0.800</td>\n",
       "      <td>6.600</td>\n",
       "      <td>3.254</td>\n",
       "      <td>1</td>\n",
       "      <td>0.378</td>\n",
       "      <td>2</td>\n",
       "    </tr>\n",
       "    <tr>\n",
       "      <th>28</th>\n",
       "      <td>A1 SH</td>\n",
       "      <td>STUART</td>\n",
       "      <td>2822.0</td>\n",
       "      <td>50.348</td>\n",
       "      <td>0.843</td>\n",
       "      <td>1.100</td>\n",
       "      <td>6.750</td>\n",
       "      <td>3.230</td>\n",
       "      <td>1</td>\n",
       "      <td>0.356</td>\n",
       "      <td>1</td>\n",
       "    </tr>\n",
       "    <tr>\n",
       "      <th>29</th>\n",
       "      <td>A1 SH</td>\n",
       "      <td>STUART</td>\n",
       "      <td>2822.5</td>\n",
       "      <td>57.129</td>\n",
       "      <td>0.822</td>\n",
       "      <td>2.200</td>\n",
       "      <td>7.300</td>\n",
       "      <td>3.237</td>\n",
       "      <td>1</td>\n",
       "      <td>0.333</td>\n",
       "      <td>1</td>\n",
       "    </tr>\n",
       "    <tr>\n",
       "      <th>...</th>\n",
       "      <td>...</td>\n",
       "      <td>...</td>\n",
       "      <td>...</td>\n",
       "      <td>...</td>\n",
       "      <td>...</td>\n",
       "      <td>...</td>\n",
       "      <td>...</td>\n",
       "      <td>...</td>\n",
       "      <td>...</td>\n",
       "      <td>...</td>\n",
       "      <td>...</td>\n",
       "    </tr>\n",
       "    <tr>\n",
       "      <th>800</th>\n",
       "      <td>B5 LM</td>\n",
       "      <td>CRAWFORD</td>\n",
       "      <td>3146.0</td>\n",
       "      <td>167.803</td>\n",
       "      <td>-0.219</td>\n",
       "      <td>4.270</td>\n",
       "      <td>23.370</td>\n",
       "      <td>3.810</td>\n",
       "      <td>2</td>\n",
       "      <td>0.190</td>\n",
       "      <td>8</td>\n",
       "    </tr>\n",
       "    <tr>\n",
       "      <th>801</th>\n",
       "      <td>B5 LM</td>\n",
       "      <td>CRAWFORD</td>\n",
       "      <td>3146.5</td>\n",
       "      <td>151.183</td>\n",
       "      <td>-0.057</td>\n",
       "      <td>0.925</td>\n",
       "      <td>17.125</td>\n",
       "      <td>4.153</td>\n",
       "      <td>2</td>\n",
       "      <td>0.172</td>\n",
       "      <td>8</td>\n",
       "    </tr>\n",
       "    <tr>\n",
       "      <th>802</th>\n",
       "      <td>B5 LM</td>\n",
       "      <td>CRAWFORD</td>\n",
       "      <td>3147.0</td>\n",
       "      <td>123.264</td>\n",
       "      <td>0.067</td>\n",
       "      <td>0.285</td>\n",
       "      <td>14.215</td>\n",
       "      <td>4.404</td>\n",
       "      <td>2</td>\n",
       "      <td>0.155</td>\n",
       "      <td>8</td>\n",
       "    </tr>\n",
       "    <tr>\n",
       "      <th>803</th>\n",
       "      <td>B5 LM</td>\n",
       "      <td>CRAWFORD</td>\n",
       "      <td>3147.5</td>\n",
       "      <td>108.569</td>\n",
       "      <td>0.234</td>\n",
       "      <td>0.705</td>\n",
       "      <td>12.225</td>\n",
       "      <td>4.499</td>\n",
       "      <td>2</td>\n",
       "      <td>0.138</td>\n",
       "      <td>8</td>\n",
       "    </tr>\n",
       "    <tr>\n",
       "      <th>804</th>\n",
       "      <td>B5 LM</td>\n",
       "      <td>CRAWFORD</td>\n",
       "      <td>3148.0</td>\n",
       "      <td>101.072</td>\n",
       "      <td>0.427</td>\n",
       "      <td>1.150</td>\n",
       "      <td>10.760</td>\n",
       "      <td>4.392</td>\n",
       "      <td>2</td>\n",
       "      <td>0.121</td>\n",
       "      <td>8</td>\n",
       "    </tr>\n",
       "    <tr>\n",
       "      <th>805</th>\n",
       "      <td>B5 LM</td>\n",
       "      <td>CRAWFORD</td>\n",
       "      <td>3148.5</td>\n",
       "      <td>91.748</td>\n",
       "      <td>0.625</td>\n",
       "      <td>1.135</td>\n",
       "      <td>9.605</td>\n",
       "      <td>4.254</td>\n",
       "      <td>2</td>\n",
       "      <td>0.103</td>\n",
       "      <td>8</td>\n",
       "    </tr>\n",
       "    <tr>\n",
       "      <th>806</th>\n",
       "      <td>B5 LM</td>\n",
       "      <td>CRAWFORD</td>\n",
       "      <td>3149.0</td>\n",
       "      <td>83.794</td>\n",
       "      <td>0.749</td>\n",
       "      <td>2.075</td>\n",
       "      <td>7.845</td>\n",
       "      <td>4.023</td>\n",
       "      <td>2</td>\n",
       "      <td>0.086</td>\n",
       "      <td>6</td>\n",
       "    </tr>\n",
       "    <tr>\n",
       "      <th>807</th>\n",
       "      <td>B5 LM</td>\n",
       "      <td>CRAWFORD</td>\n",
       "      <td>3149.5</td>\n",
       "      <td>83.794</td>\n",
       "      <td>0.749</td>\n",
       "      <td>2.075</td>\n",
       "      <td>7.845</td>\n",
       "      <td>4.023</td>\n",
       "      <td>2</td>\n",
       "      <td>0.086</td>\n",
       "      <td>6</td>\n",
       "    </tr>\n",
       "    <tr>\n",
       "      <th>808</th>\n",
       "      <td>B5 LM</td>\n",
       "      <td>CRAWFORD</td>\n",
       "      <td>3150.0</td>\n",
       "      <td>79.722</td>\n",
       "      <td>0.771</td>\n",
       "      <td>2.890</td>\n",
       "      <td>6.640</td>\n",
       "      <td>4.040</td>\n",
       "      <td>2</td>\n",
       "      <td>0.069</td>\n",
       "      <td>6</td>\n",
       "    </tr>\n",
       "    <tr>\n",
       "      <th>809</th>\n",
       "      <td>B5 LM</td>\n",
       "      <td>CRAWFORD</td>\n",
       "      <td>3150.5</td>\n",
       "      <td>76.334</td>\n",
       "      <td>0.800</td>\n",
       "      <td>2.960</td>\n",
       "      <td>6.290</td>\n",
       "      <td>3.997</td>\n",
       "      <td>2</td>\n",
       "      <td>0.052</td>\n",
       "      <td>8</td>\n",
       "    </tr>\n",
       "    <tr>\n",
       "      <th>810</th>\n",
       "      <td>B5 LM</td>\n",
       "      <td>CRAWFORD</td>\n",
       "      <td>3151.0</td>\n",
       "      <td>73.631</td>\n",
       "      <td>0.800</td>\n",
       "      <td>2.680</td>\n",
       "      <td>6.690</td>\n",
       "      <td>3.828</td>\n",
       "      <td>2</td>\n",
       "      <td>0.034</td>\n",
       "      <td>8</td>\n",
       "    </tr>\n",
       "    <tr>\n",
       "      <th>811</th>\n",
       "      <td>B5 LM</td>\n",
       "      <td>CRAWFORD</td>\n",
       "      <td>3151.5</td>\n",
       "      <td>76.865</td>\n",
       "      <td>0.772</td>\n",
       "      <td>2.420</td>\n",
       "      <td>8.600</td>\n",
       "      <td>3.535</td>\n",
       "      <td>2</td>\n",
       "      <td>0.017</td>\n",
       "      <td>6</td>\n",
       "    </tr>\n",
       "    <tr>\n",
       "      <th>812</th>\n",
       "      <td>C SH</td>\n",
       "      <td>CRAWFORD</td>\n",
       "      <td>3152.0</td>\n",
       "      <td>79.924</td>\n",
       "      <td>0.752</td>\n",
       "      <td>2.620</td>\n",
       "      <td>11.510</td>\n",
       "      <td>3.148</td>\n",
       "      <td>1</td>\n",
       "      <td>1.000</td>\n",
       "      <td>3</td>\n",
       "    </tr>\n",
       "    <tr>\n",
       "      <th>813</th>\n",
       "      <td>C SH</td>\n",
       "      <td>CRAWFORD</td>\n",
       "      <td>3152.5</td>\n",
       "      <td>82.199</td>\n",
       "      <td>0.728</td>\n",
       "      <td>3.725</td>\n",
       "      <td>14.555</td>\n",
       "      <td>2.964</td>\n",
       "      <td>1</td>\n",
       "      <td>0.972</td>\n",
       "      <td>3</td>\n",
       "    </tr>\n",
       "    <tr>\n",
       "      <th>814</th>\n",
       "      <td>C SH</td>\n",
       "      <td>CRAWFORD</td>\n",
       "      <td>3153.0</td>\n",
       "      <td>79.953</td>\n",
       "      <td>0.700</td>\n",
       "      <td>5.610</td>\n",
       "      <td>16.930</td>\n",
       "      <td>2.793</td>\n",
       "      <td>1</td>\n",
       "      <td>0.944</td>\n",
       "      <td>3</td>\n",
       "    </tr>\n",
       "    <tr>\n",
       "      <th>815</th>\n",
       "      <td>C SH</td>\n",
       "      <td>CRAWFORD</td>\n",
       "      <td>3153.5</td>\n",
       "      <td>75.881</td>\n",
       "      <td>0.673</td>\n",
       "      <td>6.300</td>\n",
       "      <td>17.570</td>\n",
       "      <td>2.969</td>\n",
       "      <td>1</td>\n",
       "      <td>0.917</td>\n",
       "      <td>3</td>\n",
       "    </tr>\n",
       "    <tr>\n",
       "      <th>816</th>\n",
       "      <td>C SH</td>\n",
       "      <td>CRAWFORD</td>\n",
       "      <td>3154.0</td>\n",
       "      <td>67.470</td>\n",
       "      <td>0.652</td>\n",
       "      <td>4.775</td>\n",
       "      <td>15.795</td>\n",
       "      <td>3.282</td>\n",
       "      <td>1</td>\n",
       "      <td>0.889</td>\n",
       "      <td>3</td>\n",
       "    </tr>\n",
       "    <tr>\n",
       "      <th>817</th>\n",
       "      <td>C SH</td>\n",
       "      <td>CRAWFORD</td>\n",
       "      <td>3154.5</td>\n",
       "      <td>58.832</td>\n",
       "      <td>0.640</td>\n",
       "      <td>4.315</td>\n",
       "      <td>13.575</td>\n",
       "      <td>3.642</td>\n",
       "      <td>1</td>\n",
       "      <td>0.861</td>\n",
       "      <td>2</td>\n",
       "    </tr>\n",
       "    <tr>\n",
       "      <th>818</th>\n",
       "      <td>C SH</td>\n",
       "      <td>CRAWFORD</td>\n",
       "      <td>3155.0</td>\n",
       "      <td>57.946</td>\n",
       "      <td>0.631</td>\n",
       "      <td>3.595</td>\n",
       "      <td>11.305</td>\n",
       "      <td>3.893</td>\n",
       "      <td>1</td>\n",
       "      <td>0.833</td>\n",
       "      <td>2</td>\n",
       "    </tr>\n",
       "    <tr>\n",
       "      <th>819</th>\n",
       "      <td>C SH</td>\n",
       "      <td>CRAWFORD</td>\n",
       "      <td>3155.5</td>\n",
       "      <td>65.755</td>\n",
       "      <td>0.625</td>\n",
       "      <td>3.465</td>\n",
       "      <td>10.355</td>\n",
       "      <td>3.911</td>\n",
       "      <td>1</td>\n",
       "      <td>0.806</td>\n",
       "      <td>2</td>\n",
       "    </tr>\n",
       "    <tr>\n",
       "      <th>820</th>\n",
       "      <td>C SH</td>\n",
       "      <td>CRAWFORD</td>\n",
       "      <td>3156.0</td>\n",
       "      <td>69.445</td>\n",
       "      <td>0.617</td>\n",
       "      <td>3.390</td>\n",
       "      <td>11.540</td>\n",
       "      <td>3.820</td>\n",
       "      <td>1</td>\n",
       "      <td>0.778</td>\n",
       "      <td>2</td>\n",
       "    </tr>\n",
       "    <tr>\n",
       "      <th>821</th>\n",
       "      <td>C SH</td>\n",
       "      <td>CRAWFORD</td>\n",
       "      <td>3156.5</td>\n",
       "      <td>73.389</td>\n",
       "      <td>0.608</td>\n",
       "      <td>3.625</td>\n",
       "      <td>12.775</td>\n",
       "      <td>3.620</td>\n",
       "      <td>1</td>\n",
       "      <td>0.750</td>\n",
       "      <td>2</td>\n",
       "    </tr>\n",
       "    <tr>\n",
       "      <th>822</th>\n",
       "      <td>C SH</td>\n",
       "      <td>CRAWFORD</td>\n",
       "      <td>3157.0</td>\n",
       "      <td>77.115</td>\n",
       "      <td>0.605</td>\n",
       "      <td>4.140</td>\n",
       "      <td>13.420</td>\n",
       "      <td>3.467</td>\n",
       "      <td>1</td>\n",
       "      <td>0.722</td>\n",
       "      <td>2</td>\n",
       "    </tr>\n",
       "    <tr>\n",
       "      <th>823</th>\n",
       "      <td>C SH</td>\n",
       "      <td>CRAWFORD</td>\n",
       "      <td>3157.5</td>\n",
       "      <td>79.840</td>\n",
       "      <td>0.596</td>\n",
       "      <td>4.875</td>\n",
       "      <td>13.825</td>\n",
       "      <td>3.360</td>\n",
       "      <td>1</td>\n",
       "      <td>0.694</td>\n",
       "      <td>2</td>\n",
       "    </tr>\n",
       "    <tr>\n",
       "      <th>824</th>\n",
       "      <td>C SH</td>\n",
       "      <td>CRAWFORD</td>\n",
       "      <td>3158.0</td>\n",
       "      <td>82.616</td>\n",
       "      <td>0.577</td>\n",
       "      <td>5.235</td>\n",
       "      <td>14.845</td>\n",
       "      <td>3.207</td>\n",
       "      <td>1</td>\n",
       "      <td>0.667</td>\n",
       "      <td>2</td>\n",
       "    </tr>\n",
       "    <tr>\n",
       "      <th>825</th>\n",
       "      <td>C SH</td>\n",
       "      <td>CRAWFORD</td>\n",
       "      <td>3158.5</td>\n",
       "      <td>86.078</td>\n",
       "      <td>0.554</td>\n",
       "      <td>5.040</td>\n",
       "      <td>16.150</td>\n",
       "      <td>3.161</td>\n",
       "      <td>1</td>\n",
       "      <td>0.639</td>\n",
       "      <td>2</td>\n",
       "    </tr>\n",
       "    <tr>\n",
       "      <th>826</th>\n",
       "      <td>C SH</td>\n",
       "      <td>CRAWFORD</td>\n",
       "      <td>3159.0</td>\n",
       "      <td>88.855</td>\n",
       "      <td>0.539</td>\n",
       "      <td>5.560</td>\n",
       "      <td>16.750</td>\n",
       "      <td>3.118</td>\n",
       "      <td>1</td>\n",
       "      <td>0.611</td>\n",
       "      <td>2</td>\n",
       "    </tr>\n",
       "    <tr>\n",
       "      <th>827</th>\n",
       "      <td>C SH</td>\n",
       "      <td>CRAWFORD</td>\n",
       "      <td>3159.5</td>\n",
       "      <td>90.490</td>\n",
       "      <td>0.530</td>\n",
       "      <td>6.360</td>\n",
       "      <td>16.780</td>\n",
       "      <td>3.168</td>\n",
       "      <td>1</td>\n",
       "      <td>0.583</td>\n",
       "      <td>3</td>\n",
       "    </tr>\n",
       "    <tr>\n",
       "      <th>828</th>\n",
       "      <td>C SH</td>\n",
       "      <td>CRAWFORD</td>\n",
       "      <td>3160.0</td>\n",
       "      <td>90.975</td>\n",
       "      <td>0.522</td>\n",
       "      <td>7.035</td>\n",
       "      <td>16.995</td>\n",
       "      <td>3.154</td>\n",
       "      <td>1</td>\n",
       "      <td>0.556</td>\n",
       "      <td>3</td>\n",
       "    </tr>\n",
       "    <tr>\n",
       "      <th>829</th>\n",
       "      <td>C SH</td>\n",
       "      <td>CRAWFORD</td>\n",
       "      <td>3160.5</td>\n",
       "      <td>90.108</td>\n",
       "      <td>0.513</td>\n",
       "      <td>7.505</td>\n",
       "      <td>17.595</td>\n",
       "      <td>3.125</td>\n",
       "      <td>1</td>\n",
       "      <td>0.528</td>\n",
       "      <td>3</td>\n",
       "    </tr>\n",
       "  </tbody>\n",
       "</table>\n",
       "<p>830 rows × 11 columns</p>\n",
       "</div>"
      ],
      "text/plain": [
       "    Formation Well Name   Depth       GR  ILD_log10  DeltaPHI   PHIND     PE  \\\n",
       "0       A1 SH    STUART  2808.0   66.276      0.630     3.300  10.650  3.591   \n",
       "1       A1 SH    STUART  2808.5   77.252      0.585     6.500  11.950  3.341   \n",
       "2       A1 SH    STUART  2809.0   82.899      0.566     9.400  13.600  3.064   \n",
       "3       A1 SH    STUART  2809.5   80.671      0.593     9.500  13.250  2.977   \n",
       "4       A1 SH    STUART  2810.0   75.971      0.638     8.700  12.350  3.020   \n",
       "5       A1 SH    STUART  2810.5   73.955      0.667     6.900  12.250  3.086   \n",
       "6       A1 SH    STUART  2811.0   77.962      0.674     6.500  12.450  3.092   \n",
       "7       A1 SH    STUART  2811.5   83.894      0.667     6.300  12.650  3.123   \n",
       "8       A1 SH    STUART  2812.0   84.424      0.653     6.700  13.050  3.121   \n",
       "9       A1 SH    STUART  2812.5   83.160      0.642     7.300  12.950  3.127   \n",
       "10      A1 SH    STUART  2813.0   79.063      0.651     7.300  12.050  3.147   \n",
       "11      A1 SH    STUART  2813.5   69.002      0.677     6.200  10.800  3.096   \n",
       "12      A1 SH    STUART  2814.0   63.983      0.690     4.400   9.700  3.103   \n",
       "13      A1 SH    STUART  2814.5   61.797      0.675     3.500   9.150  3.101   \n",
       "14      A1 SH    STUART  2815.0   61.372      0.646     2.800   9.300  3.065   \n",
       "15      A1 SH    STUART  2815.5   63.535      0.621     2.800   9.800  2.982   \n",
       "16      A1 SH    STUART  2816.0   65.126      0.600     3.300  10.550  2.914   \n",
       "17      A1 SH    STUART  2816.5   75.930      0.576     3.400  11.900  2.845   \n",
       "18      A1 SH    STUART  2817.0   85.077      0.584     4.400  12.900  2.854   \n",
       "19      A1 SH    STUART  2817.5   89.459      0.598     6.600  13.500  2.986   \n",
       "20      A1 SH    STUART  2818.0   88.619      0.610     7.200  14.800  2.988   \n",
       "21      A1 SH    STUART  2818.5   81.593      0.636     6.400  13.900  2.998   \n",
       "22      A1 SH    STUART  2819.0   66.595      0.702     2.800  11.400  2.988   \n",
       "23      A1 SH    STUART  2819.5   55.081      0.789     2.700   8.150  3.028   \n",
       "24      A1 SH    STUART  2820.0   48.112      0.840     1.000   7.500  3.073   \n",
       "25      A1 SH    STUART  2820.5   43.730      0.846     0.400   7.100  3.146   \n",
       "26      A1 SH    STUART  2821.0   44.097      0.840     0.700   6.650  3.205   \n",
       "27      A1 SH    STUART  2821.5   46.839      0.842     0.800   6.600  3.254   \n",
       "28      A1 SH    STUART  2822.0   50.348      0.843     1.100   6.750  3.230   \n",
       "29      A1 SH    STUART  2822.5   57.129      0.822     2.200   7.300  3.237   \n",
       "..        ...       ...     ...      ...        ...       ...     ...    ...   \n",
       "800     B5 LM  CRAWFORD  3146.0  167.803     -0.219     4.270  23.370  3.810   \n",
       "801     B5 LM  CRAWFORD  3146.5  151.183     -0.057     0.925  17.125  4.153   \n",
       "802     B5 LM  CRAWFORD  3147.0  123.264      0.067     0.285  14.215  4.404   \n",
       "803     B5 LM  CRAWFORD  3147.5  108.569      0.234     0.705  12.225  4.499   \n",
       "804     B5 LM  CRAWFORD  3148.0  101.072      0.427     1.150  10.760  4.392   \n",
       "805     B5 LM  CRAWFORD  3148.5   91.748      0.625     1.135   9.605  4.254   \n",
       "806     B5 LM  CRAWFORD  3149.0   83.794      0.749     2.075   7.845  4.023   \n",
       "807     B5 LM  CRAWFORD  3149.5   83.794      0.749     2.075   7.845  4.023   \n",
       "808     B5 LM  CRAWFORD  3150.0   79.722      0.771     2.890   6.640  4.040   \n",
       "809     B5 LM  CRAWFORD  3150.5   76.334      0.800     2.960   6.290  3.997   \n",
       "810     B5 LM  CRAWFORD  3151.0   73.631      0.800     2.680   6.690  3.828   \n",
       "811     B5 LM  CRAWFORD  3151.5   76.865      0.772     2.420   8.600  3.535   \n",
       "812      C SH  CRAWFORD  3152.0   79.924      0.752     2.620  11.510  3.148   \n",
       "813      C SH  CRAWFORD  3152.5   82.199      0.728     3.725  14.555  2.964   \n",
       "814      C SH  CRAWFORD  3153.0   79.953      0.700     5.610  16.930  2.793   \n",
       "815      C SH  CRAWFORD  3153.5   75.881      0.673     6.300  17.570  2.969   \n",
       "816      C SH  CRAWFORD  3154.0   67.470      0.652     4.775  15.795  3.282   \n",
       "817      C SH  CRAWFORD  3154.5   58.832      0.640     4.315  13.575  3.642   \n",
       "818      C SH  CRAWFORD  3155.0   57.946      0.631     3.595  11.305  3.893   \n",
       "819      C SH  CRAWFORD  3155.5   65.755      0.625     3.465  10.355  3.911   \n",
       "820      C SH  CRAWFORD  3156.0   69.445      0.617     3.390  11.540  3.820   \n",
       "821      C SH  CRAWFORD  3156.5   73.389      0.608     3.625  12.775  3.620   \n",
       "822      C SH  CRAWFORD  3157.0   77.115      0.605     4.140  13.420  3.467   \n",
       "823      C SH  CRAWFORD  3157.5   79.840      0.596     4.875  13.825  3.360   \n",
       "824      C SH  CRAWFORD  3158.0   82.616      0.577     5.235  14.845  3.207   \n",
       "825      C SH  CRAWFORD  3158.5   86.078      0.554     5.040  16.150  3.161   \n",
       "826      C SH  CRAWFORD  3159.0   88.855      0.539     5.560  16.750  3.118   \n",
       "827      C SH  CRAWFORD  3159.5   90.490      0.530     6.360  16.780  3.168   \n",
       "828      C SH  CRAWFORD  3160.0   90.975      0.522     7.035  16.995  3.154   \n",
       "829      C SH  CRAWFORD  3160.5   90.108      0.513     7.505  17.595  3.125   \n",
       "\n",
       "     NM_M  RELPOS  Facies  \n",
       "0       1   1.000       2  \n",
       "1       1   0.978       3  \n",
       "2       1   0.956       2  \n",
       "3       1   0.933       2  \n",
       "4       1   0.911       2  \n",
       "5       1   0.889       2  \n",
       "6       1   0.867       2  \n",
       "7       1   0.844       2  \n",
       "8       1   0.822       2  \n",
       "9       1   0.800       2  \n",
       "10      1   0.778       2  \n",
       "11      1   0.756       2  \n",
       "12      1   0.733       2  \n",
       "13      1   0.711       2  \n",
       "14      1   0.689       1  \n",
       "15      1   0.667       2  \n",
       "16      1   0.644       2  \n",
       "17      1   0.600       2  \n",
       "18      1   0.578       2  \n",
       "19      1   0.556       2  \n",
       "20      1   0.533       2  \n",
       "21      1   0.511       2  \n",
       "22      1   0.489       2  \n",
       "23      1   0.467       1  \n",
       "24      1   0.444       2  \n",
       "25      1   0.422       1  \n",
       "26      1   0.400       2  \n",
       "27      1   0.378       2  \n",
       "28      1   0.356       1  \n",
       "29      1   0.333       1  \n",
       "..    ...     ...     ...  \n",
       "800     2   0.190       8  \n",
       "801     2   0.172       8  \n",
       "802     2   0.155       8  \n",
       "803     2   0.138       8  \n",
       "804     2   0.121       8  \n",
       "805     2   0.103       8  \n",
       "806     2   0.086       6  \n",
       "807     2   0.086       6  \n",
       "808     2   0.069       6  \n",
       "809     2   0.052       8  \n",
       "810     2   0.034       8  \n",
       "811     2   0.017       6  \n",
       "812     1   1.000       3  \n",
       "813     1   0.972       3  \n",
       "814     1   0.944       3  \n",
       "815     1   0.917       3  \n",
       "816     1   0.889       3  \n",
       "817     1   0.861       2  \n",
       "818     1   0.833       2  \n",
       "819     1   0.806       2  \n",
       "820     1   0.778       2  \n",
       "821     1   0.750       2  \n",
       "822     1   0.722       2  \n",
       "823     1   0.694       2  \n",
       "824     1   0.667       2  \n",
       "825     1   0.639       2  \n",
       "826     1   0.611       2  \n",
       "827     1   0.583       3  \n",
       "828     1   0.556       3  \n",
       "829     1   0.528       3  \n",
       "\n",
       "[830 rows x 11 columns]"
      ]
     },
     "execution_count": 25,
     "metadata": {},
     "output_type": "execute_result"
    }
   ],
   "source": [
    "test_data"
   ]
  },
  {
   "cell_type": "markdown",
   "metadata": {},
   "source": [
    "Future work, make more customerized objective function. Also, we could use RandomizedSearchCV instead of GridSearchCV to avoild potential local minimal trap and further improve the test results. "
   ]
  }
 ],
 "metadata": {
  "anaconda-cloud": {},
  "kernelspec": {
   "display_name": "Python [conda root]",
   "language": "python",
   "name": "conda-root-py"
  },
  "language_info": {
   "codemirror_mode": {
    "name": "ipython",
    "version": 3
   },
   "file_extension": ".py",
   "mimetype": "text/x-python",
   "name": "python",
   "nbconvert_exporter": "python",
   "pygments_lexer": "ipython3",
   "version": "3.5.2"
  }
 },
 "nbformat": 4,
 "nbformat_minor": 1
}
