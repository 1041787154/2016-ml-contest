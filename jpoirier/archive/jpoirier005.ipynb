{
 "cells": [
  {
   "cell_type": "markdown",
   "metadata": {},
   "source": [
    "# Facies classification using Machine Learning\n",
    "#### Joshua Poirier, NEOS  \n",
    "\n",
    "This notebook trains machine learning algorithms to predict facies from well log data. The dataset comes from a class exercise from the University of Kansas on Neural Networks and Fuzzy Systems and is based on a consortium project to use machine learning techniques to create a reservoir model of the largest gas fields in North America, the Hugoton and Panoma Fields.  \n",
    "\n",
    "My approach in this notebook will be to build many derivative features in an attempt to incorporate more spatial awareness into each observation. I will tune the model using a cross-validation technique which combines the well-known *leave one out* and *k-folds* techniques.  Since the contest goal is to accurately (using the F1-score metric) predict facies for the **STUART** and **CRAWFORD** wells, the cross-validation will *leave one out* in the sense that it will the data for two wells out of the training set.  It will borrow from *k-folds* in the sense that I will loop through each pair of *leave one out* wells, building multiple models for each set of tuning parameters.  \n",
    "\n",
    "Because only some of our wells have the **PE** log, we should build two classifier systems. One including **PE** but fewer observations, and one excluding **PE** but with more observations. It will be interesting to note performance differences between the two.  \n",
    "\n",
    "## Load data  \n",
    "\n",
    "To start, let's load the data! For brevity, much of the code is hidden in *R files*. You may note this whenever you see **source(\"somefile.R\")** in the code cell. These files may be viewed and are located in the same directory as this notebook."
   ]
  },
  {
   "cell_type": "code",
   "execution_count": 1,
   "metadata": {
    "collapsed": false
   },
   "outputs": [
    {
     "data": {
      "text/html": [
       "<table>\n",
       "<thead><tr><th scope=col>Facies</th><th scope=col>Formation</th><th scope=col>Well.Name</th><th scope=col>Depth</th><th scope=col>GR</th><th scope=col>ILD_log10</th><th scope=col>DeltaPHI</th><th scope=col>PHIND</th><th scope=col>PE</th><th scope=col>isMarine</th><th scope=col>RELPOS</th></tr></thead>\n",
       "<tbody>\n",
       "\t<tr><td>FSiS     </td><td>A1 SH    </td><td>SHRIMPLIN</td><td>2793.0   </td><td>77.45    </td><td>0.664    </td><td> 9.9     </td><td>11.915   </td><td>4.6      </td><td>FALSE    </td><td>1.000    </td></tr>\n",
       "\t<tr><td>FSiS     </td><td>A1 SH    </td><td>SHRIMPLIN</td><td>2793.5   </td><td>78.26    </td><td>0.661    </td><td>14.2     </td><td>12.565   </td><td>4.1      </td><td>FALSE    </td><td>0.979    </td></tr>\n",
       "\t<tr><td>FSiS     </td><td>A1 SH    </td><td>SHRIMPLIN</td><td>2794.0   </td><td>79.05    </td><td>0.658    </td><td>14.8     </td><td>13.050   </td><td>3.6      </td><td>FALSE    </td><td>0.957    </td></tr>\n",
       "</tbody>\n",
       "</table>\n"
      ],
      "text/latex": [
       "\\begin{tabular}{r|lllllllllll}\n",
       " Facies & Formation & Well.Name & Depth & GR & ILD\\_log10 & DeltaPHI & PHIND & PE & isMarine & RELPOS\\\\\n",
       "\\hline\n",
       "\t FSiS      & A1 SH     & SHRIMPLIN & 2793.0    & 77.45     & 0.664     &  9.9      & 11.915    & 4.6       & FALSE     & 1.000    \\\\\n",
       "\t FSiS      & A1 SH     & SHRIMPLIN & 2793.5    & 78.26     & 0.661     & 14.2      & 12.565    & 4.1       & FALSE     & 0.979    \\\\\n",
       "\t FSiS      & A1 SH     & SHRIMPLIN & 2794.0    & 79.05     & 0.658     & 14.8      & 13.050    & 3.6       & FALSE     & 0.957    \\\\\n",
       "\\end{tabular}\n"
      ],
      "text/plain": [
       "  Facies Formation Well.Name Depth  GR    ILD_log10 DeltaPHI PHIND  PE \n",
       "1 FSiS   A1 SH     SHRIMPLIN 2793.0 77.45 0.664      9.9     11.915 4.6\n",
       "2 FSiS   A1 SH     SHRIMPLIN 2793.5 78.26 0.661     14.2     12.565 4.1\n",
       "3 FSiS   A1 SH     SHRIMPLIN 2794.0 79.05 0.658     14.8     13.050 3.6\n",
       "  isMarine RELPOS\n",
       "1 FALSE    1.000 \n",
       "2 FALSE    0.979 \n",
       "3 FALSE    0.957 "
      ]
     },
     "metadata": {},
     "output_type": "display_data"
    }
   ],
   "source": [
    "source(\"loadData.R\")\n",
    "\n",
    "# load and clean the data\n",
    "raw <- loadData()\n",
    "raw <- cleanData(raw)\n",
    "\n",
    "head(raw,3)"
   ]
  },
  {
   "cell_type": "markdown",
   "metadata": {},
   "source": [
    "## Pre-process data  \n",
    "\n",
    "First, let's center and scale the petrophysical features (GR, ILD_log10, DeltaPHI, PHIND, and PE)."
   ]
  },
  {
   "cell_type": "code",
   "execution_count": 2,
   "metadata": {
    "collapsed": false
   },
   "outputs": [
    {
     "data": {
      "text/html": [
       "'Before center and scaling:'"
      ],
      "text/latex": [
       "'Before center and scaling:'"
      ],
      "text/markdown": [
       "'Before center and scaling:'"
      ],
      "text/plain": [
       "[1] \"Before center and scaling:\""
      ]
     },
     "metadata": {},
     "output_type": "display_data"
    },
    {
     "data": {
      "text/html": [
       "<table>\n",
       "<thead><tr><th scope=col>Facies</th><th scope=col>Formation</th><th scope=col>Well.Name</th><th scope=col>Depth</th><th scope=col>GR</th><th scope=col>ILD_log10</th><th scope=col>DeltaPHI</th><th scope=col>PHIND</th><th scope=col>PE</th><th scope=col>isMarine</th><th scope=col>RELPOS</th></tr></thead>\n",
       "<tbody>\n",
       "\t<tr><td>FSiS     </td><td>A1 SH    </td><td>SHRIMPLIN</td><td>2793     </td><td>77.5     </td><td>0.664    </td><td> 9.9     </td><td>11.9     </td><td>4.6      </td><td>FALSE    </td><td>1.000    </td></tr>\n",
       "\t<tr><td>FSiS     </td><td>A1 SH    </td><td>SHRIMPLIN</td><td>2794     </td><td>78.3     </td><td>0.661    </td><td>14.2     </td><td>12.6     </td><td>4.1      </td><td>FALSE    </td><td>0.979    </td></tr>\n",
       "\t<tr><td>FSiS     </td><td>A1 SH    </td><td>SHRIMPLIN</td><td>2794     </td><td>79.0     </td><td>0.658    </td><td>14.8     </td><td>13.1     </td><td>3.6      </td><td>FALSE    </td><td>0.957    </td></tr>\n",
       "</tbody>\n",
       "</table>\n"
      ],
      "text/latex": [
       "\\begin{tabular}{r|lllllllllll}\n",
       " Facies & Formation & Well.Name & Depth & GR & ILD\\_log10 & DeltaPHI & PHIND & PE & isMarine & RELPOS\\\\\n",
       "\\hline\n",
       "\t FSiS      & A1 SH     & SHRIMPLIN & 2793      & 77.5      & 0.664     &  9.9      & 11.9      & 4.6       & FALSE     & 1.000    \\\\\n",
       "\t FSiS      & A1 SH     & SHRIMPLIN & 2794      & 78.3      & 0.661     & 14.2      & 12.6      & 4.1       & FALSE     & 0.979    \\\\\n",
       "\t FSiS      & A1 SH     & SHRIMPLIN & 2794      & 79.0      & 0.658     & 14.8      & 13.1      & 3.6       & FALSE     & 0.957    \\\\\n",
       "\\end{tabular}\n"
      ],
      "text/plain": [
       "  Facies Formation Well.Name Depth GR   ILD_log10 DeltaPHI PHIND PE  isMarine\n",
       "1 FSiS   A1 SH     SHRIMPLIN 2793  77.5 0.664      9.9     11.9  4.6 FALSE   \n",
       "2 FSiS   A1 SH     SHRIMPLIN 2794  78.3 0.661     14.2     12.6  4.1 FALSE   \n",
       "3 FSiS   A1 SH     SHRIMPLIN 2794  79.0 0.658     14.8     13.1  3.6 FALSE   \n",
       "  RELPOS\n",
       "1 1.000 \n",
       "2 0.979 \n",
       "3 0.957 "
      ]
     },
     "metadata": {},
     "output_type": "display_data"
    },
    {
     "data": {
      "text/html": [
       "'After center and scaling:'"
      ],
      "text/latex": [
       "'After center and scaling:'"
      ],
      "text/markdown": [
       "'After center and scaling:'"
      ],
      "text/plain": [
       "[1] \"After center and scaling:\""
      ]
     },
     "metadata": {},
     "output_type": "display_data"
    },
    {
     "data": {
      "text/html": [
       "<table>\n",
       "<thead><tr><th scope=col>Facies</th><th scope=col>Formation</th><th scope=col>Well.Name</th><th scope=col>Depth</th><th scope=col>GR</th><th scope=col>ILD_log10</th><th scope=col>DeltaPHI</th><th scope=col>PHIND</th><th scope=col>PE</th><th scope=col>isMarine</th><th scope=col>RELPOS</th></tr></thead>\n",
       "<tbody>\n",
       "\t<tr><td>FSiS     </td><td>A1 SH    </td><td>SHRIMPLIN</td><td>2793     </td><td>0.413    </td><td> 0.01755 </td><td>1.04     </td><td>-0.1803  </td><td> 0.976   </td><td>FALSE    </td><td>1.000    </td></tr>\n",
       "\t<tr><td>FSiS     </td><td>A1 SH    </td><td>SHRIMPLIN</td><td>2794     </td><td>0.440    </td><td> 0.00568 </td><td>1.86     </td><td>-0.0892  </td><td> 0.418   </td><td>FALSE    </td><td>0.979    </td></tr>\n",
       "\t<tr><td>FSiS     </td><td>A1 SH    </td><td>SHRIMPLIN</td><td>2794     </td><td>0.466    </td><td>-0.00620 </td><td>1.97     </td><td>-0.0212  </td><td>-0.140   </td><td>FALSE    </td><td>0.957    </td></tr>\n",
       "</tbody>\n",
       "</table>\n"
      ],
      "text/latex": [
       "\\begin{tabular}{r|lllllllllll}\n",
       " Facies & Formation & Well.Name & Depth & GR & ILD\\_log10 & DeltaPHI & PHIND & PE & isMarine & RELPOS\\\\\n",
       "\\hline\n",
       "\t FSiS      & A1 SH     & SHRIMPLIN & 2793      & 0.413     &  0.01755  & 1.04      & -0.1803   &  0.976    & FALSE     & 1.000    \\\\\n",
       "\t FSiS      & A1 SH     & SHRIMPLIN & 2794      & 0.440     &  0.00568  & 1.86      & -0.0892   &  0.418    & FALSE     & 0.979    \\\\\n",
       "\t FSiS      & A1 SH     & SHRIMPLIN & 2794      & 0.466     & -0.00620  & 1.97      & -0.0212   & -0.140    & FALSE     & 0.957    \\\\\n",
       "\\end{tabular}\n"
      ],
      "text/plain": [
       "  Facies Formation Well.Name Depth GR    ILD_log10 DeltaPHI PHIND   PE    \n",
       "1 FSiS   A1 SH     SHRIMPLIN 2793  0.413  0.01755  1.04     -0.1803  0.976\n",
       "2 FSiS   A1 SH     SHRIMPLIN 2794  0.440  0.00568  1.86     -0.0892  0.418\n",
       "3 FSiS   A1 SH     SHRIMPLIN 2794  0.466 -0.00620  1.97     -0.0212 -0.140\n",
       "  isMarine RELPOS\n",
       "1 FALSE    1.000 \n",
       "2 FALSE    0.979 \n",
       "3 FALSE    0.957 "
      ]
     },
     "metadata": {},
     "output_type": "display_data"
    }
   ],
   "source": [
    "source(\"preProcData.R\")\n",
    "\n",
    "\"Before center and scaling:\"\n",
    "format(head(raw, 3), digits=3)\n",
    "\n",
    "# center and scale the petrophysical log features\n",
    "cs <- raw\n",
    "cs$GR <- (cs$GR - mean(cs$GR)) / sd(cs$GR)\n",
    "cs$ILD_log10 <- (cs$ILD_log10 - mean(cs$ILD_log10)) / sd(cs$ILD_log10)\n",
    "cs$DeltaPHI <- (cs$DeltaPHI - mean(cs$DeltaPHI)) / sd(cs$DeltaPHI)\n",
    "cs$PHIND <- (cs$PHIND - mean(cs$PHIND)) / sd(cs$PHIND)\n",
    "cs$PE <- (cs$PE - mean(cs$PE, na.rm=T)) / sd(cs$PE, na.rm=T)\n",
    "\n",
    "\"After center and scaling:\"\n",
    "format(head(cs, 3), digits=3)"
   ]
  },
  {
   "cell_type": "markdown",
   "metadata": {},
   "source": [
    "Our center and scaling appears to be working. Now let's pre-process the data by adding derivative features. For this, we'll loop thorugh each well and apply a lag to each petrophysical feature. The purpose is to add some spatial context to each observation (in a way not dissimilar from how a petrophysicist would interpret well logs).  \n",
    "\n",
    "Now let's move forward and split the data into two data frames: \n",
    "\n",
    "* Every observation has a valid value for every feature (with the PE log in our case)  \n",
    "* All features with a valid value for every observation (without the PE log)"
   ]
  },
  {
   "cell_type": "code",
   "execution_count": 3,
   "metadata": {
    "collapsed": false
   },
   "outputs": [
    {
     "data": {
      "text/html": [
       "'With PE log:'"
      ],
      "text/latex": [
       "'With PE log:'"
      ],
      "text/markdown": [
       "'With PE log:'"
      ],
      "text/plain": [
       "[1] \"With PE log:\""
      ]
     },
     "metadata": {},
     "output_type": "display_data"
    },
    {
     "data": {
      "text/html": [
       "'Rows: 3164'"
      ],
      "text/latex": [
       "'Rows: 3164'"
      ],
      "text/markdown": [
       "'Rows: 3164'"
      ],
      "text/plain": [
       "[1] \"Rows: 3164\""
      ]
     },
     "metadata": {},
     "output_type": "display_data"
    },
    {
     "data": {
      "text/html": [
       "<table>\n",
       "<thead><tr><th scope=col>Facies</th><th scope=col>Formation</th><th scope=col>Well.Name</th><th scope=col>Depth</th><th scope=col>GR</th><th scope=col>ILD_log10</th><th scope=col>DeltaPHI</th><th scope=col>PHIND</th><th scope=col>PE</th><th scope=col>isMarine</th><th scope=col>RELPOS</th></tr></thead>\n",
       "<tbody>\n",
       "\t<tr><td>FSiS     </td><td>A1 SH    </td><td>SHRIMPLIN</td><td>2793     </td><td>0.413    </td><td> 0.01755 </td><td>1.04     </td><td>-0.1803  </td><td> 0.976   </td><td>FALSE    </td><td>1.000    </td></tr>\n",
       "\t<tr><td>FSiS     </td><td>A1 SH    </td><td>SHRIMPLIN</td><td>2794     </td><td>0.440    </td><td> 0.00568 </td><td>1.86     </td><td>-0.0892  </td><td> 0.418   </td><td>FALSE    </td><td>0.979    </td></tr>\n",
       "\t<tr><td>FSiS     </td><td>A1 SH    </td><td>SHRIMPLIN</td><td>2794     </td><td>0.466    </td><td>-0.00620 </td><td>1.97     </td><td>-0.0212  </td><td>-0.140   </td><td>FALSE    </td><td>0.957    </td></tr>\n",
       "</tbody>\n",
       "</table>\n"
      ],
      "text/latex": [
       "\\begin{tabular}{r|lllllllllll}\n",
       " Facies & Formation & Well.Name & Depth & GR & ILD\\_log10 & DeltaPHI & PHIND & PE & isMarine & RELPOS\\\\\n",
       "\\hline\n",
       "\t FSiS      & A1 SH     & SHRIMPLIN & 2793      & 0.413     &  0.01755  & 1.04      & -0.1803   &  0.976    & FALSE     & 1.000    \\\\\n",
       "\t FSiS      & A1 SH     & SHRIMPLIN & 2794      & 0.440     &  0.00568  & 1.86      & -0.0892   &  0.418    & FALSE     & 0.979    \\\\\n",
       "\t FSiS      & A1 SH     & SHRIMPLIN & 2794      & 0.466     & -0.00620  & 1.97      & -0.0212   & -0.140    & FALSE     & 0.957    \\\\\n",
       "\\end{tabular}\n"
      ],
      "text/plain": [
       "  Facies Formation Well.Name Depth GR    ILD_log10 DeltaPHI PHIND   PE    \n",
       "1 FSiS   A1 SH     SHRIMPLIN 2793  0.413  0.01755  1.04     -0.1803  0.976\n",
       "2 FSiS   A1 SH     SHRIMPLIN 2794  0.440  0.00568  1.86     -0.0892  0.418\n",
       "3 FSiS   A1 SH     SHRIMPLIN 2794  0.466 -0.00620  1.97     -0.0212 -0.140\n",
       "  isMarine RELPOS\n",
       "1 FALSE    1.000 \n",
       "2 FALSE    0.979 \n",
       "3 FALSE    0.957 "
      ]
     },
     "metadata": {},
     "output_type": "display_data"
    },
    {
     "data": {
      "text/html": [
       "'Without PE log:'"
      ],
      "text/latex": [
       "'Without PE log:'"
      ],
      "text/markdown": [
       "'Without PE log:'"
      ],
      "text/plain": [
       "[1] \"Without PE log:\""
      ]
     },
     "metadata": {},
     "output_type": "display_data"
    },
    {
     "data": {
      "text/html": [
       "'Rows: 4069'"
      ],
      "text/latex": [
       "'Rows: 4069'"
      ],
      "text/markdown": [
       "'Rows: 4069'"
      ],
      "text/plain": [
       "[1] \"Rows: 4069\""
      ]
     },
     "metadata": {},
     "output_type": "display_data"
    },
    {
     "data": {
      "text/html": [
       "<table>\n",
       "<thead><tr><th scope=col>Facies</th><th scope=col>Formation</th><th scope=col>Well.Name</th><th scope=col>Depth</th><th scope=col>GR</th><th scope=col>ILD_log10</th><th scope=col>DeltaPHI</th><th scope=col>PHIND</th><th scope=col>isMarine</th><th scope=col>RELPOS</th></tr></thead>\n",
       "<tbody>\n",
       "\t<tr><td>FSiS     </td><td>A1 SH    </td><td>SHRIMPLIN</td><td>2793     </td><td>0.413    </td><td> 0.01755 </td><td>1.04     </td><td>-0.1803  </td><td>FALSE    </td><td>1.000    </td></tr>\n",
       "\t<tr><td>FSiS     </td><td>A1 SH    </td><td>SHRIMPLIN</td><td>2794     </td><td>0.440    </td><td> 0.00568 </td><td>1.86     </td><td>-0.0892  </td><td>FALSE    </td><td>0.979    </td></tr>\n",
       "\t<tr><td>FSiS     </td><td>A1 SH    </td><td>SHRIMPLIN</td><td>2794     </td><td>0.466    </td><td>-0.00620 </td><td>1.97     </td><td>-0.0212  </td><td>FALSE    </td><td>0.957    </td></tr>\n",
       "</tbody>\n",
       "</table>\n"
      ],
      "text/latex": [
       "\\begin{tabular}{r|llllllllll}\n",
       " Facies & Formation & Well.Name & Depth & GR & ILD\\_log10 & DeltaPHI & PHIND & isMarine & RELPOS\\\\\n",
       "\\hline\n",
       "\t FSiS      & A1 SH     & SHRIMPLIN & 2793      & 0.413     &  0.01755  & 1.04      & -0.1803   & FALSE     & 1.000    \\\\\n",
       "\t FSiS      & A1 SH     & SHRIMPLIN & 2794      & 0.440     &  0.00568  & 1.86      & -0.0892   & FALSE     & 0.979    \\\\\n",
       "\t FSiS      & A1 SH     & SHRIMPLIN & 2794      & 0.466     & -0.00620  & 1.97      & -0.0212   & FALSE     & 0.957    \\\\\n",
       "\\end{tabular}\n"
      ],
      "text/plain": [
       "  Facies Formation Well.Name Depth GR    ILD_log10 DeltaPHI PHIND   isMarine\n",
       "1 FSiS   A1 SH     SHRIMPLIN 2793  0.413  0.01755  1.04     -0.1803 FALSE   \n",
       "2 FSiS   A1 SH     SHRIMPLIN 2794  0.440  0.00568  1.86     -0.0892 FALSE   \n",
       "3 FSiS   A1 SH     SHRIMPLIN 2794  0.466 -0.00620  1.97     -0.0212 FALSE   \n",
       "  RELPOS\n",
       "1 1.000 \n",
       "2 0.979 \n",
       "3 0.957 "
      ]
     },
     "metadata": {},
     "output_type": "display_data"
    }
   ],
   "source": [
    "# we only want data with complete observations (no missing features)\n",
    "# we also exclude the Recruit F9 well, as our derivative features won't make sense for them\n",
    "cs_withPE <- cs[complete.cases(cs) & cs$Well.Name != \"Recruit F9\",]\n",
    "cs_withoutPE <- cs[cs$Well.Name != \"Recruit F9\",c(\"Facies\", \"Formation\", \"Well.Name\", \"Depth\", \"GR\", \n",
    "                          \"ILD_log10\", \"DeltaPHI\", \"PHIND\", \"isMarine\", \"RELPOS\")]\n",
    "\n",
    "\"With PE log:\"\n",
    "paste(\"Rows:\", nrow(cs_withPE))\n",
    "format(head(cs_withPE, 3), digits=3)\n",
    "\n",
    "\"Without PE log:\"\n",
    "paste(\"Rows:\", nrow(cs_withoutPE))\n",
    "format(head(cs_withoutPE, 3), digits=3)"
   ]
  },
  {
   "cell_type": "markdown",
   "metadata": {},
   "source": [
    "From this we can see that the **With PE** data frame has an extra feature, *PE*, giving it 3164 values not in the **Without PE** dataframe.  However, the **Without PE** data frame has *4069-3164=905* observations not in the **With PE** data frame - across four raw petrophysical features (GR, ILD_log10, DeltaPHI, and PHIND) amounting 3620 raw numeric values, plus the categorical/metadata features of Formation, Well name, Depth, isMarine, and Relative position.  \n",
    "\n",
    "Moving forward, it will be interesting to see the differences in performance between these two cases.  \n",
    "\n",
    "Now let's add some derivative features. First, I shall add forward, backward, and central first-order differences of the petrophysical logs GR, ILD_log10, DeltaPHI, PHIND, and PE.  Second, I shall add features by lagging GR, ILD_log10, DeltaPHI, PHIND, PE, and isMarine by various amounts. After this the original channels will be discarded as they will be equivalent to the zero-lag channels."
   ]
  },
  {
   "cell_type": "code",
   "execution_count": 4,
   "metadata": {
    "collapsed": false
   },
   "outputs": [
    {
     "data": {
      "text/html": [
       "'# columns before forward, backward, and central difference feature-building: 11'"
      ],
      "text/latex": [
       "'\\# columns before forward, backward, and central difference feature-building: 11'"
      ],
      "text/markdown": [
       "'# columns before forward, backward, and central difference feature-building: 11'"
      ],
      "text/plain": [
       "[1] \"# columns before forward, backward, and central difference feature-building: 11\""
      ]
     },
     "metadata": {},
     "output_type": "display_data"
    },
    {
     "data": {
      "text/html": [
       "'# columns after lag feature-building: 191'"
      ],
      "text/latex": [
       "'\\# columns after lag feature-building: 191'"
      ],
      "text/markdown": [
       "'# columns after lag feature-building: 191'"
      ],
      "text/plain": [
       "[1] \"# columns after lag feature-building: 191\""
      ]
     },
     "metadata": {},
     "output_type": "display_data"
    },
    {
     "data": {
      "text/html": [
       "<table>\n",
       "<thead><tr><th scope=col>Facies</th><th scope=col>Formation</th><th scope=col>Well.Name</th><th scope=col>Depth</th><th scope=col>RELPOS</th><th scope=col>GR_-15</th><th scope=col>ILD_log10_-15</th><th scope=col>DeltaPHI_-15</th><th scope=col>PHIND_-15</th><th scope=col>isMarine_-15</th><th scope=col>...</th><th scope=col>DeltaPHI_14</th><th scope=col>PHIND_14</th><th scope=col>isMarine_14</th><th scope=col>PE_14</th><th scope=col>GR_15</th><th scope=col>ILD_log10_15</th><th scope=col>DeltaPHI_15</th><th scope=col>PHIND_15</th><th scope=col>isMarine_15</th><th scope=col>PE_15</th></tr></thead>\n",
       "<tbody>\n",
       "\t<tr><td>FSiS     </td><td>A1 SH    </td><td>SHRIMPLIN</td><td>2793     </td><td>1.000    </td><td> 0.436   </td><td>-0.762   </td><td>1.402    </td><td>-0.1803  </td><td>FALSE    </td><td>...      </td><td>1.88     </td><td>-0.1803  </td><td>FALSE    </td><td> 0.976   </td><td>0.436    </td><td>-0.762   </td><td>1.40     </td><td>-0.1803  </td><td>FALSE    </td><td> 0.976   </td></tr>\n",
       "\t<tr><td>FSiS     </td><td>A1 SH    </td><td>SHRIMPLIN</td><td>2794     </td><td>0.979    </td><td> 0.144   </td><td>-0.877   </td><td>0.966    </td><td>-0.0892  </td><td>FALSE    </td><td>...      </td><td>1.69     </td><td>-0.0892  </td><td>FALSE    </td><td> 0.418   </td><td>0.830    </td><td>-0.556   </td><td>1.88     </td><td>-0.0892  </td><td>FALSE    </td><td> 0.418   </td></tr>\n",
       "\t<tr><td>FSiS     </td><td>A1 SH    </td><td>SHRIMPLIN</td><td>2794     </td><td>0.957    </td><td>-0.046   </td><td>-0.956   </td><td>0.834    </td><td>-0.0212  </td><td>FALSE    </td><td>...      </td><td>1.31     </td><td>-0.0212  </td><td>FALSE    </td><td>-0.140   </td><td>0.610    </td><td>-0.485   </td><td>1.69     </td><td>-0.0212  </td><td>FALSE    </td><td>-0.140   </td></tr>\n",
       "</tbody>\n",
       "</table>\n"
      ],
      "text/latex": [
       "\\begin{tabular}{r|lllllllllllllllllllllllllllllllllllllllllllllllllllllllllllllllllllllllllllllllllllllllllllllllllllllllllllllllllllllllllllllllllllllllllllllllllllllllllllllllllllllllllllllllllllllllllllllll}\n",
       " Facies & Formation & Well.Name & Depth & RELPOS & GR\\_-15 & ILD\\_log10\\_-15 & DeltaPHI\\_-15 & PHIND\\_-15 & isMarine\\_-15 & ... & DeltaPHI\\_14 & PHIND\\_14 & isMarine\\_14 & PE\\_14 & GR\\_15 & ILD\\_log10\\_15 & DeltaPHI\\_15 & PHIND\\_15 & isMarine\\_15 & PE\\_15\\\\\n",
       "\\hline\n",
       "\t FSiS      & A1 SH     & SHRIMPLIN & 2793      & 1.000     &  0.436    & -0.762    & 1.402     & -0.1803   & FALSE     & ...       & 1.88      & -0.1803   & FALSE     &  0.976    & 0.436     & -0.762    & 1.40      & -0.1803   & FALSE     &  0.976   \\\\\n",
       "\t FSiS      & A1 SH     & SHRIMPLIN & 2794      & 0.979     &  0.144    & -0.877    & 0.966     & -0.0892   & FALSE     & ...       & 1.69      & -0.0892   & FALSE     &  0.418    & 0.830     & -0.556    & 1.88      & -0.0892   & FALSE     &  0.418   \\\\\n",
       "\t FSiS      & A1 SH     & SHRIMPLIN & 2794      & 0.957     & -0.046    & -0.956    & 0.834     & -0.0212   & FALSE     & ...       & 1.31      & -0.0212   & FALSE     & -0.140    & 0.610     & -0.485    & 1.69      & -0.0212   & FALSE     & -0.140   \\\\\n",
       "\\end{tabular}\n"
      ],
      "text/plain": [
       "  Facies Formation Well.Name Depth RELPOS GR_-15 ILD_log10_-15 DeltaPHI_-15\n",
       "1 FSiS   A1 SH     SHRIMPLIN 2793  1.000   0.436 -0.762        1.402       \n",
       "2 FSiS   A1 SH     SHRIMPLIN 2794  0.979   0.144 -0.877        0.966       \n",
       "3 FSiS   A1 SH     SHRIMPLIN 2794  0.957  -0.046 -0.956        0.834       \n",
       "  PHIND_-15 isMarine_-15 ... DeltaPHI_14 PHIND_14 isMarine_14 PE_14  GR_15\n",
       "1 -0.1803   FALSE        ... 1.88        -0.1803  FALSE        0.976 0.436\n",
       "2 -0.0892   FALSE        ... 1.69        -0.0892  FALSE        0.418 0.830\n",
       "3 -0.0212   FALSE        ... 1.31        -0.0212  FALSE       -0.140 0.610\n",
       "  ILD_log10_15 DeltaPHI_15 PHIND_15 isMarine_15 PE_15 \n",
       "1 -0.762       1.40        -0.1803  FALSE        0.976\n",
       "2 -0.556       1.88        -0.0892  FALSE        0.418\n",
       "3 -0.485       1.69        -0.0212  FALSE       -0.140"
      ]
     },
     "metadata": {},
     "output_type": "display_data"
    }
   ],
   "source": [
    "source(\"preProcData.R\")\n",
    "\n",
    "paste(\"# columns before forward, backward, and central difference feature-building:\", ncol(cs_withPE))\n",
    "\n",
    "lag_withPE <- lagData(cs_withPE, 30)\n",
    "lag_withoutPE <- lagData(cs_withoutPE, 30)\n",
    "\n",
    "paste(\"# columns after lag feature-building:\", ncol(lag_withPE))\n",
    "format(head(lag_withPE,3), digits=3)"
   ]
  },
  {
   "cell_type": "markdown",
   "metadata": {},
   "source": [
    "Looks good, let's do some cleanup and move on to model tuning!"
   ]
  },
  {
   "cell_type": "code",
   "execution_count": 5,
   "metadata": {
    "collapsed": false
   },
   "outputs": [],
   "source": [
    "# cleanup memory\n",
    "data_withPE <- lag_withPE\n",
    "data_withoutPE <- lag_withoutPE\n",
    "data_raw <- raw\n",
    "\n",
    "rm(raw, cs, cs_withPE, cs_withoutPE, lag_withPE, lag_withoutPE)"
   ]
  },
  {
   "cell_type": "markdown",
   "metadata": {},
   "source": [
    "### With PE"
   ]
  },
  {
   "cell_type": "code",
   "execution_count": 7,
   "metadata": {
    "collapsed": false
   },
   "outputs": [
    {
     "name": "stdout",
     "output_type": "stream",
     "text": [
      "[1] \"F1-score of: 0.431372549019608\"\n"
     ]
    }
   ],
   "source": [
    "options(warn=-1)\n",
    "\n",
    "library(caret)\n",
    "source(\"accuracyMetrics.R\")\n",
    "\n",
    "train <- data_withPE[data_withPE$Well.Name != \"SHRIMPLIN\",]\n",
    "test <- data_withPE[data_withPE$Well.Name == \"SHRIMPLIN\",]\n",
    "\n",
    "fitControl <- trainControl(method = \"repeatedcv\", \n",
    "                           number = 10,\n",
    "                           repeats = 10\n",
    "                          )\n",
    "fit <- train(Facies ~ ., data=subset(train, select=-c(Well.Name, Depth)), \n",
    "             method=\"rf\", metric=\"Kappa\", \n",
    "             trControl=fitControl, tuneLength=10, preProcess=c(\"ica\"))\n",
    "test$Predicted <- predict(fit, newdata=test)\n",
    "\n",
    "f1 <- myF1Metric(test$Predicted, test$Facies)\n",
    "print(paste(\"F1-score of:\", f1))"
   ]
  },
  {
   "cell_type": "code",
   "execution_count": 7,
   "metadata": {
    "collapsed": false
   },
   "outputs": [
    {
     "name": "stdout",
     "output_type": "stream",
     "text": [
      "[1] \"F1-score of: 0.456475583864119\"\n"
     ]
    }
   ],
   "source": [
    "library(caret)\n",
    "source(\"accuracyMetrics.R\")\n",
    "\n",
    "fits <- list()\n",
    "weights <- list()\n",
    "\n",
    "train <- data_withPE[data_withPE$Well.Name != \"SHRIMPLIN\",]\n",
    "test <- data_withPE[data_withPE$Well.Name == \"SHRIMPLIN\",]\n",
    "wells <- unique(train$Well.Name)\n",
    "\n",
    "for (well_i in wells) {\n",
    "    if (well_i == \"Recruit F9\") {\n",
    "        # generic model using all data\n",
    "    } else {\n",
    "        # model for current well_i\n",
    "        train_i <- train[train$Well.Name == well_i,]\n",
    "        fit <- train(Facies ~ ., data=subset(train_i, select=-c(Well.Name, Depth)),\n",
    "                    method=\"svmLinear\", metric=\"Kappa\",\n",
    "                    trControl=fitControl, tuneLength=10, preProcess=c(\"ica\"))\n",
    "        test[,paste(well_i)] <- predict(fit, newdata=test)\n",
    "    }\n",
    "}"
   ]
  },
  {
   "cell_type": "markdown",
   "metadata": {},
   "source": [
    "### Without PE"
   ]
  },
  {
   "cell_type": "code",
   "execution_count": 13,
   "metadata": {
    "collapsed": false
   },
   "outputs": [
    {
     "name": "stdout",
     "output_type": "stream",
     "text": [
      "[1] \"F1-score of: 0.549019607843137\"\n"
     ]
    }
   ],
   "source": [
    "library(caret)\n",
    "source(\"accuracyMetrics.R\")\n",
    "\n",
    "train <- data_withoutPE[data_withoutPE$Well.Name != \"SHRIMPLIN\",]\n",
    "test <- data_withoutPE[data_withoutPE$Well.Name == \"SHRIMPLIN\",]\n",
    "\n",
    "fitControl <- trainControl(## 10-fold CV\n",
    "                   method = \"repeatedcv\",\n",
    "                   number = 10,\n",
    "                   ## repeated ten times\n",
    "                   repeats = 10)\n",
    "fit <- train(Facies ~ ., data=train, method=\"rf\", metric=\"Kappa\", trControl=fitControl)\n",
    "test$Predicted <- predict(fit, newdata=test)\n",
    "\n",
    "f1 <- myF1Metric(test$Predicted, test$Facies)\n",
    "print(paste(\"F1-score of:\", f1))"
   ]
  },
  {
   "cell_type": "code",
   "execution_count": 14,
   "metadata": {
    "collapsed": false
   },
   "outputs": [
    {
     "name": "stdout",
     "output_type": "stream",
     "text": [
      "Random Forest \n",
      "\n",
      "3598 samples\n",
      " 121 predictor\n",
      "   9 classes: 'SS', 'CSiS', 'FSiS', 'SiSh', 'MS', 'WS', 'D', 'PS', 'BS' \n",
      "\n",
      "No pre-processing\n",
      "Resampling: Cross-Validated (10 fold, repeated 10 times) \n",
      "Summary of sample sizes: 3241, 3237, 3239, 3237, 3237, 3238, ... \n",
      "Resampling results across tuning parameters:\n",
      "\n",
      "  mtry  Accuracy   Kappa    \n",
      "    2   0.7134674  0.6563012\n",
      "   71   0.8150548  0.7804672\n",
      "  141   0.8136680  0.7789113\n",
      "\n",
      "Kappa was used to select the optimal model using  the largest value.\n",
      "The final value used for the model was mtry = 71. \n"
     ]
    }
   ],
   "source": [
    "print(fit)"
   ]
  },
  {
   "cell_type": "markdown",
   "metadata": {},
   "source": [
    "## Tuning\n",
    "\n",
    "### With PE Case"
   ]
  },
  {
   "cell_type": "code",
   "execution_count": 23,
   "metadata": {
    "collapsed": false
   },
   "outputs": [
    {
     "name": "stdout",
     "output_type": "stream",
     "text": [
      "[1] \"Average F1-score of:\"\n",
      "        testwell1       testwell2     f1\n",
      "1       SHRIMPLIN         SHANKLE 0.5849\n",
      "2       SHRIMPLIN        LUKE G U 0.5478\n",
      "3       SHRIMPLIN  CROSS H CATTLE 0.4615\n",
      "4       SHRIMPLIN           NOLAN 0.5079\n",
      "5       SHRIMPLIN           NEWBY 0.5241\n",
      "6       SHRIMPLIN CHURCHMAN BIBLE 0.5640\n",
      "7         SHANKLE        LUKE G U 0.4736\n",
      "8         SHANKLE  CROSS H CATTLE 0.4680\n",
      "9         SHANKLE           NOLAN 0.5278\n",
      "10        SHANKLE           NEWBY 0.5164\n",
      "11        SHANKLE CHURCHMAN BIBLE 0.4841\n",
      "12       LUKE G U  CROSS H CATTLE 0.5073\n",
      "13       LUKE G U           NOLAN 0.5194\n",
      "14       LUKE G U           NEWBY 0.4177\n",
      "15       LUKE G U CHURCHMAN BIBLE 0.5040\n",
      "16 CROSS H CATTLE           NOLAN 0.4007\n",
      "17 CROSS H CATTLE           NEWBY 0.4149\n",
      "18 CROSS H CATTLE CHURCHMAN BIBLE 0.3691\n",
      "19          NOLAN           NEWBY 0.4704\n",
      "20          NOLAN CHURCHMAN BIBLE 0.4481\n",
      "21          NEWBY CHURCHMAN BIBLE 0.4529\n"
     ]
    }
   ],
   "source": [
    "source(\"accuracyMetrics.R\")\n",
    "\n",
    "options(warn=-1)\n",
    "suppressMessages(library(caret))\n",
    "\n",
    "fitControl <- trainControl(## 10-fold CV\n",
    "                   method = \"repeatedcv\",\n",
    "                   number = 10,\n",
    "                   ## repeated ten times\n",
    "                   repeats = 3)\n",
    "\n",
    "wells <- unique(data_withPE$Well.Name)\n",
    "\n",
    "results <- data.frame()\n",
    "\n",
    "for (i in 1:(length(wells)-1)) {\n",
    "    for (j in (i+1):(length(wells))) {\n",
    "        trainIndex <- data_withPE$Well.Name != wells[i] & data_withPE$Well.Name != wells[j]\n",
    "        train <- data_withPE[trainIndex,]\n",
    "        test <- data_withPE[!trainIndex,]\n",
    "        \n",
    "        fit <- train(Facies ~ ., data=train,\n",
    "                    method=\"rf\",\n",
    "                    metric=\"Kappa\")\n",
    "        \n",
    "        test$Predicted <- predict(fit, newdata=test)\n",
    "        \n",
    "        f1 <- myF1Metric(test$Predicted, test$Facies)\n",
    "        \n",
    "        results <- rbind(results, data.frame(testwell1=wells[i], testwell2=wells[j], f1=f1))\n",
    "    }\n",
    "}\n",
    "\n",
    "print(format(results, digits=4))\n",
    "print(paste(\"Average F1-score of:\", round(mean(results$f1), 4)))"
   ]
  },
  {
   "cell_type": "code",
   "execution_count": null,
   "metadata": {
    "collapsed": false
   },
   "outputs": [
    {
     "name": "stderr",
     "output_type": "stream",
     "text": [
      "Loading required package: kernlab\n",
      "\n",
      "Attaching package: 'kernlab'\n",
      "\n",
      "The following object is masked from 'package:ggplot2':\n",
      "\n",
      "    alpha\n",
      "\n"
     ]
    }
   ],
   "source": [
    "source(\"accuracyMetrics.R\")\n",
    "\n",
    "options(warn=-1)\n",
    "suppressMessages(library(caret))\n",
    "\n",
    "fitControl <- trainControl(## 10-fold CV\n",
    "                   method = \"repeatedcv\",\n",
    "                   number = 10,\n",
    "                   ## repeated ten times\n",
    "                   repeats = 3)\n",
    "\n",
    "wells <- unique(data_withPE$Well.Name)\n",
    "\n",
    "results <- data.frame()\n",
    "\n",
    "for (i in 1:(length(wells)-1)) {\n",
    "    for (j in (i+1):(length(wells))) {\n",
    "        trainIndex <- data_withPE$Well.Name != wells[i] & data_withPE$Well.Name != wells[j]\n",
    "        train <- data_withPE[trainIndex,]\n",
    "        test <- data_withPE[!trainIndex,]\n",
    "        \n",
    "        fit <- train(Facies ~ ., data=train,\n",
    "                    method=\"svmLinear\",\n",
    "                    metric=\"Kappa\",\n",
    "                    tuneLength=4)\n",
    "        print(fit)\n",
    "        \n",
    "        test$Predicted <- predict(fit, newdata=test)\n",
    "        \n",
    "        f1 <- myF1Metric(test$Predicted, test$Facies)\n",
    "        \n",
    "        results <- rbind(results, data.frame(testwell1=wells[i], testwell2=wells[j], f1=f1))\n",
    "    }\n",
    "}\n",
    "\n",
    "print(format(results, digits=4))\n",
    "print(paste(\"Average F1-score of:\", round(mean(results$f1), 4)))"
   ]
  },
  {
   "cell_type": "markdown",
   "metadata": {},
   "source": [
    "### Without PE Case"
   ]
  },
  {
   "cell_type": "code",
   "execution_count": 26,
   "metadata": {
    "collapsed": false
   },
   "outputs": [],
   "source": [
    "raw_withPE <- data_raw[complete.cases(data_raw) & data_raw$Well.Name != \"Recruit F9\",]\n",
    "raw_withoutPE <- data_raw[data_raw$Well.Name != \"Recruit F9\",c(\"Facies\", \"Formation\", \"Well.Name\", \"Depth\", \"GR\", \n",
    "                          \"ILD_log10\", \"DeltaPHI\", \"PHIND\", \"isMarine\", \"RELPOS\")]"
   ]
  },
  {
   "cell_type": "markdown",
   "metadata": {},
   "source": [
    "### Raw with PE case"
   ]
  },
  {
   "cell_type": "code",
   "execution_count": 27,
   "metadata": {
    "collapsed": false
   },
   "outputs": [
    {
     "name": "stdout",
     "output_type": "stream",
     "text": [
      "        testwell1       testwell2     f1\n",
      "1       SHRIMPLIN         SHANKLE 0.5971\n",
      "2       SHRIMPLIN        LUKE G U 0.5011\n",
      "3       SHRIMPLIN  CROSS H CATTLE 0.4781\n",
      "4       SHRIMPLIN           NOLAN 0.5327\n",
      "5       SHRIMPLIN           NEWBY 0.5421\n",
      "6       SHRIMPLIN CHURCHMAN BIBLE 0.6000\n",
      "7         SHANKLE        LUKE G U 0.4659\n",
      "8         SHANKLE  CROSS H CATTLE 0.5391\n",
      "9         SHANKLE           NOLAN 0.5498\n",
      "10        SHANKLE           NEWBY 0.5492\n",
      "11        SHANKLE CHURCHMAN BIBLE 0.5304\n",
      "12       LUKE G U  CROSS H CATTLE 0.5218\n",
      "13       LUKE G U           NOLAN 0.4954\n",
      "14       LUKE G U           NEWBY 0.4423\n",
      "15       LUKE G U CHURCHMAN BIBLE 0.4740\n",
      "16 CROSS H CATTLE           NOLAN 0.4192\n",
      "17 CROSS H CATTLE           NEWBY 0.3955\n",
      "18 CROSS H CATTLE CHURCHMAN BIBLE 0.3845\n",
      "19          NOLAN           NEWBY 0.4888\n",
      "20          NOLAN CHURCHMAN BIBLE 0.4969\n",
      "21          NEWBY CHURCHMAN BIBLE 0.4300\n"
     ]
    }
   ],
   "source": [
    "source(\"accuracyMetrics.R\")\n",
    "\n",
    "options(warn=-1)\n",
    "suppressMessages(library(caret))\n",
    "\n",
    "fitControl <- trainControl(## 10-fold CV\n",
    "                   method = \"repeatedcv\",\n",
    "                   number = 10,\n",
    "                   ## repeated ten times\n",
    "                   repeats = 3)\n",
    "\n",
    "wells <- unique(raw_withPE$Well.Name)\n",
    "\n",
    "results <- data.frame()\n",
    "\n",
    "for (i in 1:(length(wells)-1)) {\n",
    "    for (j in (i+1):(length(wells))) {\n",
    "        trainIndex <- raw_withPE$Well.Name != wells[i] & raw_withPE$Well.Name != wells[j]\n",
    "        train <- raw_withPE[trainIndex,]\n",
    "        test <- raw_withPE[!trainIndex,]\n",
    "        \n",
    "        fit <- train(Facies ~ ., data=train,\n",
    "                    method=\"rf\",\n",
    "                    metric=\"Kappa\")\n",
    "        \n",
    "        test$Predicted <- predict(fit, newdata=test)\n",
    "        \n",
    "        f1 <- myF1Metric(test$Predicted, test$Facies)\n",
    "        \n",
    "        results <- rbind(results, data.frame(testwell1=wells[i], testwell2=wells[j], f1=f1))\n",
    "    }\n",
    "}\n",
    "\n",
    "print(format(results, digits=4))"
   ]
  },
  {
   "cell_type": "code",
   "execution_count": 28,
   "metadata": {
    "collapsed": false
   },
   "outputs": [
    {
     "name": "stdout",
     "output_type": "stream",
     "text": [
      "[1] \"Average F1-score of: 0.4969\"\n"
     ]
    }
   ],
   "source": [
    "print(paste(\"Average F1-score of:\", round(mean(results$f1), 4)))"
   ]
  },
  {
   "cell_type": "code",
   "execution_count": 29,
   "metadata": {
    "collapsed": false
   },
   "outputs": [
    {
     "name": "stdout",
     "output_type": "stream",
     "text": [
      "        testwell1       testwell2     f1\n",
      "1       SHRIMPLIN         SHANKLE 0.6044\n",
      "2       SHRIMPLIN        LUKE G U 0.5033\n",
      "3       SHRIMPLIN  CROSS H CATTLE 0.5711\n",
      "4       SHRIMPLIN           NOLAN 0.5282\n",
      "5       SHRIMPLIN           NEWBY 0.5398\n",
      "6       SHRIMPLIN CHURCHMAN BIBLE 0.5502\n",
      "7         SHANKLE        LUKE G U 0.4604\n",
      "8         SHANKLE  CROSS H CATTLE 0.5491\n",
      "9         SHANKLE           NOLAN 0.6122\n",
      "10        SHANKLE           NEWBY 0.5556\n",
      "11        SHANKLE CHURCHMAN BIBLE 0.5652\n",
      "12       LUKE G U  CROSS H CATTLE 0.5301\n",
      "13       LUKE G U           NOLAN 0.4943\n",
      "14       LUKE G U           NEWBY 0.4267\n",
      "15       LUKE G U CHURCHMAN BIBLE 0.4933\n",
      "16 CROSS H CATTLE           NOLAN 0.4290\n",
      "17 CROSS H CATTLE           NEWBY 0.4800\n",
      "18 CROSS H CATTLE CHURCHMAN BIBLE 0.3757\n",
      "19          NOLAN           NEWBY 0.4817\n",
      "20          NOLAN CHURCHMAN BIBLE 0.5031\n",
      "21          NEWBY CHURCHMAN BIBLE 0.4300\n",
      "[1] \"Average F1-score of: 0.5087\"\n"
     ]
    }
   ],
   "source": [
    "source(\"accuracyMetrics.R\")\n",
    "\n",
    "options(warn=-1)\n",
    "suppressMessages(library(caret))\n",
    "\n",
    "fitControl <- trainControl(## 10-fold CV\n",
    "                   method = \"repeatedcv\",\n",
    "                   number = 10,\n",
    "                   ## repeated ten times\n",
    "                   repeats = 10)\n",
    "\n",
    "wells <- unique(raw_withPE$Well.Name)\n",
    "\n",
    "results <- data.frame()\n",
    "\n",
    "for (i in 1:(length(wells)-1)) {\n",
    "    for (j in (i+1):(length(wells))) {\n",
    "        trainIndex <- raw_withPE$Well.Name != wells[i] & raw_withPE$Well.Name != wells[j]\n",
    "        train <- raw_withPE[trainIndex,]\n",
    "        test <- raw_withPE[!trainIndex,]\n",
    "        \n",
    "        fit <- train(Facies ~ ., data=train,\n",
    "                    method=\"rf\",\n",
    "                    metric=\"Kappa\")\n",
    "        \n",
    "        test$Predicted <- predict(fit, newdata=test)\n",
    "        \n",
    "        f1 <- myF1Metric(test$Predicted, test$Facies)\n",
    "        \n",
    "        results <- rbind(results, data.frame(testwell1=wells[i], testwell2=wells[j], f1=f1))\n",
    "    }\n",
    "}\n",
    "\n",
    "print(format(results, digits=4))\n",
    "print(paste(\"Average F1-score of:\", round(mean(results$f1), 4)))"
   ]
  },
  {
   "cell_type": "markdown",
   "metadata": {},
   "source": [
    "### Raw without PE case"
   ]
  },
  {
   "cell_type": "code",
   "execution_count": null,
   "metadata": {
    "collapsed": true
   },
   "outputs": [],
   "source": []
  }
 ],
 "metadata": {
  "kernelspec": {
   "display_name": "R 3.2",
   "language": "R",
   "name": "ir32"
  },
  "language_info": {
   "codemirror_mode": "r",
   "file_extension": ".r",
   "mimetype": "text/x-r-source",
   "name": "R",
   "pygments_lexer": "r",
   "version": "3.2.4"
  }
 },
 "nbformat": 4,
 "nbformat_minor": 0
}
