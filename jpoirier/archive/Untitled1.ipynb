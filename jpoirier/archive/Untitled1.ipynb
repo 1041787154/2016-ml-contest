{
 "cells": [
  {
   "cell_type": "code",
   "execution_count": 132,
   "metadata": {
    "collapsed": true
   },
   "outputs": [],
   "source": [
    "# function to load data\n",
    "loadData <- function() {\n",
    "    fname <- \"../facies_vectors.csv\"\n",
    "    data <- read.csv(fname, colClasses=c(rep(\"factor\",3), rep(\"numeric\",6), \"factor\", \"numeric\"))\n",
    "    \n",
    "    data\n",
    "}\n",
    "\n",
    "# function to pre-process the data\n",
    "preProcessData <- function(data) {\n",
    "    # convert NM_M channel into a binary channel \"isMarine\"\n",
    "    data$NM_M <- data$NM_M == \"2\"\n",
    "    names(data)[10] <- \"isMarine\"\n",
    "\n",
    "    # make the Facies channel more descriptive\n",
    "    levels(data$Facies) <- c(\"SS\", \"CSiS\", \"FSiS\", \"SiSh\", \"MS\", \"WS\", \"D\", \"PS\", \"BS\")\n",
    "    \n",
    "    data\n",
    "}\n",
    "\n",
    "# function to split the data\n",
    "splitData <- function(data, testWell) {\n",
    "    testIndex <- data$Well.Name == testWell\n",
    "    \n",
    "    train <- data[!testIndex,]\n",
    "    test <- data[testIndex,]\n",
    "    split <- list(train, test)\n",
    "    \n",
    "    split\n",
    "}"
   ]
  },
  {
   "cell_type": "code",
   "execution_count": 136,
   "metadata": {
    "collapsed": false
   },
   "outputs": [
    {
     "data": {
      "text/html": [
       "'Training Data'"
      ],
      "text/latex": [
       "'Training Data'"
      ],
      "text/markdown": [
       "'Training Data'"
      ],
      "text/plain": [
       "[1] \"Training Data\""
      ]
     },
     "metadata": {},
     "output_type": "display_data"
    },
    {
     "data": {
      "text/html": [
       "<table>\n",
       "<thead><tr><th scope=col>Facies</th><th scope=col>Formation</th><th scope=col>Well.Name</th><th scope=col>Depth</th><th scope=col>GR</th><th scope=col>ILD_log10</th><th scope=col>DeltaPHI</th><th scope=col>PHIND</th><th scope=col>PE</th><th scope=col>isMarine</th><th scope=col>RELPOS</th></tr></thead>\n",
       "<tbody>\n",
       "\t<tr><td>FSiS     </td><td>A1 SH    </td><td>SHRIMPLIN</td><td>2793.0   </td><td>77.45    </td><td>0.664    </td><td> 9.9     </td><td>11.915   </td><td>4.6      </td><td>FALSE    </td><td>1.000    </td></tr>\n",
       "\t<tr><td>FSiS     </td><td>A1 SH    </td><td>SHRIMPLIN</td><td>2793.5   </td><td>78.26    </td><td>0.661    </td><td>14.2     </td><td>12.565   </td><td>4.1      </td><td>FALSE    </td><td>0.979    </td></tr>\n",
       "\t<tr><td>FSiS     </td><td>A1 SH    </td><td>SHRIMPLIN</td><td>2794.0   </td><td>79.05    </td><td>0.658    </td><td>14.8     </td><td>13.050   </td><td>3.6      </td><td>FALSE    </td><td>0.957    </td></tr>\n",
       "\t<tr><td>FSiS     </td><td>A1 SH    </td><td>SHRIMPLIN</td><td>2794.5   </td><td>86.10    </td><td>0.655    </td><td>13.9     </td><td>13.115   </td><td>3.5      </td><td>FALSE    </td><td>0.936    </td></tr>\n",
       "\t<tr><td>FSiS     </td><td>A1 SH    </td><td>SHRIMPLIN</td><td>2795.0   </td><td>74.58    </td><td>0.647    </td><td>13.5     </td><td>13.300   </td><td>3.4      </td><td>FALSE    </td><td>0.915    </td></tr>\n",
       "\t<tr><td>FSiS     </td><td>A1 SH    </td><td>SHRIMPLIN</td><td>2795.5   </td><td>73.97    </td><td>0.636    </td><td>14.0     </td><td>13.385   </td><td>3.6      </td><td>FALSE    </td><td>0.894    </td></tr>\n",
       "</tbody>\n",
       "</table>\n"
      ],
      "text/latex": [
       "\\begin{tabular}{r|lllllllllll}\n",
       " Facies & Formation & Well.Name & Depth & GR & ILD\\_log10 & DeltaPHI & PHIND & PE & isMarine & RELPOS\\\\\n",
       "\\hline\n",
       "\t FSiS      & A1 SH     & SHRIMPLIN & 2793.0    & 77.45     & 0.664     &  9.9      & 11.915    & 4.6       & FALSE     & 1.000    \\\\\n",
       "\t FSiS      & A1 SH     & SHRIMPLIN & 2793.5    & 78.26     & 0.661     & 14.2      & 12.565    & 4.1       & FALSE     & 0.979    \\\\\n",
       "\t FSiS      & A1 SH     & SHRIMPLIN & 2794.0    & 79.05     & 0.658     & 14.8      & 13.050    & 3.6       & FALSE     & 0.957    \\\\\n",
       "\t FSiS      & A1 SH     & SHRIMPLIN & 2794.5    & 86.10     & 0.655     & 13.9      & 13.115    & 3.5       & FALSE     & 0.936    \\\\\n",
       "\t FSiS      & A1 SH     & SHRIMPLIN & 2795.0    & 74.58     & 0.647     & 13.5      & 13.300    & 3.4       & FALSE     & 0.915    \\\\\n",
       "\t FSiS      & A1 SH     & SHRIMPLIN & 2795.5    & 73.97     & 0.636     & 14.0      & 13.385    & 3.6       & FALSE     & 0.894    \\\\\n",
       "\\end{tabular}\n"
      ],
      "text/plain": [
       "  Facies Formation Well.Name Depth  GR    ILD_log10 DeltaPHI PHIND  PE \n",
       "1 FSiS   A1 SH     SHRIMPLIN 2793.0 77.45 0.664      9.9     11.915 4.6\n",
       "2 FSiS   A1 SH     SHRIMPLIN 2793.5 78.26 0.661     14.2     12.565 4.1\n",
       "3 FSiS   A1 SH     SHRIMPLIN 2794.0 79.05 0.658     14.8     13.050 3.6\n",
       "4 FSiS   A1 SH     SHRIMPLIN 2794.5 86.10 0.655     13.9     13.115 3.5\n",
       "5 FSiS   A1 SH     SHRIMPLIN 2795.0 74.58 0.647     13.5     13.300 3.4\n",
       "6 FSiS   A1 SH     SHRIMPLIN 2795.5 73.97 0.636     14.0     13.385 3.6\n",
       "  isMarine RELPOS\n",
       "1 FALSE    1.000 \n",
       "2 FALSE    0.979 \n",
       "3 FALSE    0.957 \n",
       "4 FALSE    0.936 \n",
       "5 FALSE    0.915 \n",
       "6 FALSE    0.894 "
      ]
     },
     "metadata": {},
     "output_type": "display_data"
    },
    {
     "data": {
      "text/html": [
       "'Testing Data'"
      ],
      "text/latex": [
       "'Testing Data'"
      ],
      "text/markdown": [
       "'Testing Data'"
      ],
      "text/plain": [
       "[1] \"Testing Data\""
      ]
     },
     "metadata": {},
     "output_type": "display_data"
    },
    {
     "data": {
      "text/html": [
       "<table>\n",
       "<thead><tr><th></th><th scope=col>Facies</th><th scope=col>Formation</th><th scope=col>Well.Name</th><th scope=col>Depth</th><th scope=col>GR</th><th scope=col>ILD_log10</th><th scope=col>DeltaPHI</th><th scope=col>PHIND</th><th scope=col>PE</th><th scope=col>isMarine</th><th scope=col>RELPOS</th></tr></thead>\n",
       "<tbody>\n",
       "\t<tr><th scope=row>938</th><td>CSiS   </td><td>A1 SH  </td><td>SHANKLE</td><td>2774.5 </td><td>98.36  </td><td>0.642  </td><td>-0.1   </td><td>18.685 </td><td>2.9    </td><td>FALSE  </td><td>1.000  </td></tr>\n",
       "\t<tr><th scope=row>939</th><td>CSiS   </td><td>A1 SH  </td><td>SHANKLE</td><td>2775.0 </td><td>97.57  </td><td>0.631  </td><td> 7.9   </td><td>16.745 </td><td>3.2    </td><td>FALSE  </td><td>0.984  </td></tr>\n",
       "\t<tr><th scope=row>940</th><td>CSiS   </td><td>A1 SH  </td><td>SHANKLE</td><td>2775.5 </td><td>98.41  </td><td>0.615  </td><td>12.8   </td><td>14.105 </td><td>3.2    </td><td>FALSE  </td><td>0.968  </td></tr>\n",
       "\t<tr><th scope=row>941</th><td>CSiS   </td><td>A1 SH  </td><td>SHANKLE</td><td>2776.0 </td><td>85.92  </td><td>0.597  </td><td>13.0   </td><td>13.385 </td><td>3.4    </td><td>FALSE  </td><td>0.952  </td></tr>\n",
       "\t<tr><th scope=row>942</th><td>CSiS   </td><td>A1 SH  </td><td>SHANKLE</td><td>2776.5 </td><td>83.16  </td><td>0.592  </td><td>12.3   </td><td>13.345 </td><td>3.4    </td><td>FALSE  </td><td>0.935  </td></tr>\n",
       "\t<tr><th scope=row>943</th><td>CSiS   </td><td>A1 SH  </td><td>SHANKLE</td><td>2777.0 </td><td>82.56  </td><td>0.599  </td><td>12.9   </td><td>13.105 </td><td>3.5    </td><td>FALSE  </td><td>0.919  </td></tr>\n",
       "</tbody>\n",
       "</table>\n"
      ],
      "text/latex": [
       "\\begin{tabular}{r|lllllllllll}\n",
       "  & Facies & Formation & Well.Name & Depth & GR & ILD\\_log10 & DeltaPHI & PHIND & PE & isMarine & RELPOS\\\\\n",
       "\\hline\n",
       "\t938 & CSiS    & A1 SH   & SHANKLE & 2774.5  & 98.36   & 0.642   & -0.1    & 18.685  & 2.9     & FALSE   & 1.000  \\\\\n",
       "\t939 & CSiS    & A1 SH   & SHANKLE & 2775.0  & 97.57   & 0.631   &  7.9    & 16.745  & 3.2     & FALSE   & 0.984  \\\\\n",
       "\t940 & CSiS    & A1 SH   & SHANKLE & 2775.5  & 98.41   & 0.615   & 12.8    & 14.105  & 3.2     & FALSE   & 0.968  \\\\\n",
       "\t941 & CSiS    & A1 SH   & SHANKLE & 2776.0  & 85.92   & 0.597   & 13.0    & 13.385  & 3.4     & FALSE   & 0.952  \\\\\n",
       "\t942 & CSiS    & A1 SH   & SHANKLE & 2776.5  & 83.16   & 0.592   & 12.3    & 13.345  & 3.4     & FALSE   & 0.935  \\\\\n",
       "\t943 & CSiS    & A1 SH   & SHANKLE & 2777.0  & 82.56   & 0.599   & 12.9    & 13.105  & 3.5     & FALSE   & 0.919  \\\\\n",
       "\\end{tabular}\n"
      ],
      "text/plain": [
       "    Facies Formation Well.Name Depth  GR    ILD_log10 DeltaPHI PHIND  PE \n",
       "938 CSiS   A1 SH     SHANKLE   2774.5 98.36 0.642     -0.1     18.685 2.9\n",
       "939 CSiS   A1 SH     SHANKLE   2775.0 97.57 0.631      7.9     16.745 3.2\n",
       "940 CSiS   A1 SH     SHANKLE   2775.5 98.41 0.615     12.8     14.105 3.2\n",
       "941 CSiS   A1 SH     SHANKLE   2776.0 85.92 0.597     13.0     13.385 3.4\n",
       "942 CSiS   A1 SH     SHANKLE   2776.5 83.16 0.592     12.3     13.345 3.4\n",
       "943 CSiS   A1 SH     SHANKLE   2777.0 82.56 0.599     12.9     13.105 3.5\n",
       "    isMarine RELPOS\n",
       "938 FALSE    1.000 \n",
       "939 FALSE    0.984 \n",
       "940 FALSE    0.968 \n",
       "941 FALSE    0.952 \n",
       "942 FALSE    0.935 \n",
       "943 FALSE    0.919 "
      ]
     },
     "metadata": {},
     "output_type": "display_data"
    }
   ],
   "source": [
    "# load and pre-process the data\n",
    "data <- loadData()\n",
    "data <- preProcessData(data)\n",
    "\n",
    "# split the data\n",
    "split <- splitData(data, \"SHANKLE\")\n",
    "train <- split[[1]]\n",
    "test <- split[[2]]\n",
    "rm(split)\n",
    "\n",
    "\"Training Data\"\n",
    "head(train)\n",
    "\n",
    "\"Testing Data\"\n",
    "head(test)"
   ]
  },
  {
   "cell_type": "code",
   "execution_count": 165,
   "metadata": {
    "collapsed": false
   },
   "outputs": [],
   "source": [
    "# subset data - mirroring edges as needed\n",
    "subsetData <- function(data, top, base) {\n",
    "\n",
    "    # requested subset within data range\n",
    "    if (top >= 1 & base <= nrow(data)) {\n",
    "        subset <- data[top:base,]\n",
    "        \n",
    "    # requested data occurs before top - mirror data near top\n",
    "    } else if (top < 1) {\n",
    "        s1 <- data[2:(abs(top)+2),]\n",
    "        #s1$Depth <- data$Depth[1] - abs(data$Depth[1] - s1$Depth)\n",
    "        #s1$RELPOS <- data$RELPOS[1] + abs(data$RELPOS[1] - s1$RELPOS)\n",
    "        #s1 <- s1[order(s1$Depth),]\n",
    "        \n",
    "        s2 <- data[1:base,]\n",
    "        \n",
    "        subset <- rbind(s1, s2)\n",
    "        \n",
    "    # requested data occurs after base - mirror data near base\n",
    "    } else if (base > nrow(data)) {\n",
    "        s1 <- data[top:nrow(data),]\n",
    "        \n",
    "        s2 <- data[(nrow(data)-(base-nrow(data))):(nrow(data)-1),]\n",
    "        #s2$Depth <- data$Depth[nrow(data)] + abs(data$Depth[nrow(data)] - s2$Depth)\n",
    "        #s2$RELPOS <- data$RELPOS[nrow(data)] - abs(data$RELPOS[nrow(data)] - s2$RELPOS)\n",
    "        #s2 <- s2[order(s2$Depth),]\n",
    "        \n",
    "        subset <- rbind(s1, s2)\n",
    "    }\n",
    "    \n",
    "    subset\n",
    "}"
   ]
  },
  {
   "cell_type": "code",
   "execution_count": 171,
   "metadata": {
    "collapsed": true
   },
   "outputs": [],
   "source": [
    "padData <- function(data, l) {\n",
    "    dl <- data[2:(l+1),]\n",
    "    #dl$Depth <- data$Depth[1] - abs(data$Depth[1] - dl$Depth)\n",
    "    #dl$RELPOS <- data$RELPOS[1] + abs(data$RELPOS[1] - dl$RELPOS)\n",
    "    #dl <- dl[order(dl$Depth),]\n",
    "    \n",
    "    dr <- data[(nrow(data)-(l)):(nrow(data)-1),]\n",
    "    #dr$Depth <- data$Depth[nrow(data)] + abs(data$Depth[nrow(data)] - dr$Depth)\n",
    "    #dr$RELPOS <- data$RELPOS[nrow(data)] - abs(data$RELPOS[nrow(data)] - dr$RELPOS)\n",
    "    #dr <- dr[order(dr$Depth),]\n",
    "    \n",
    "    rbind(dl, data, dr)\n",
    "}"
   ]
  },
  {
   "cell_type": "code",
   "execution_count": 179,
   "metadata": {
    "collapsed": true
   },
   "outputs": [],
   "source": [
    "# function to perform crosscorrelation between two vectors\n",
    "crossCorrelate <- function(a, b) {\n",
    "    \n",
    "    if (sum(is.na(a)) > 0 | sum(is.na(b)) > 0) {\n",
    "        print(\"missing values found\")\n",
    "        print(paste(a,b))\n",
    "    }\n",
    "    \n",
    "    # calculate cross-correlation between vectors a and b\n",
    "    ccor <- ccf(a, b, lag.max=400, plot=F)\n",
    "\n",
    "    # retrieve the maximum correlation and associated lag\n",
    "    corr <- max(ccor[[\"acf\"]][,,1])\n",
    "    lag <- ccor[[\"lag\"]][,,1][which.max(ccor[[\"acf\"]][,,1])]\n",
    "    \n",
    "    # return maximum correlation and associated lag\n",
    "    list(correlation=corr, lag=lag)\n",
    "}\n",
    "\n",
    "# apply a function \"FUN\" over columns of data frames \"a\" and \"b\"\n",
    "# NOTE: FUN must take two arguments, two vectors of data\n",
    "loopAcrossFeatures <- function(a, b, features, FUN) {\n",
    "    \n",
    "    # get list of columns for a and b dataframes\n",
    "    features_a <- names(a)[names(a) %in% features]\n",
    "    features_b <- names(b)[names(b) %in% features]\n",
    "\n",
    "    # ensure a and b data frames have the same features\n",
    "    try ((if (!all.equal(features_a, features_b)) stop(\"Error! Data frames do not have the same features.\")))\n",
    "    \n",
    "    # initialize resulting data frame\n",
    "    r <- data.frame()\n",
    "    \n",
    "    # loop through features\n",
    "    for (feature in features) {\n",
    "        # retrieve the feature vector of interest from each data frame\n",
    "        av <- as.data.frame(a[,which(names(a) %in% feature)])\n",
    "        bv <- as.data.frame(b[,which(names(b) %in% feature)])\n",
    "        \n",
    "        # apply the function to the two features, storing in a data frame\n",
    "        if (sum(is.na(av[,1])) == 0 & sum(is.na(bv[,1])) == 0) {\n",
    "            temp <- as.data.frame(FUN(av, bv))\n",
    "            temp$feature <- feature\n",
    "\n",
    "            # merge result with those of other features\n",
    "            r <- rbind(temp,r)    \n",
    "        }\n",
    "        \n",
    "    }\n",
    "    \n",
    "    r\n",
    "}\n",
    "\n",
    "# function looks at the training data and determines which of the relevant testFeatures it includes\n",
    "# returns list of features which can be used for training or weighting models\n",
    "# NOTE: VERY IMPORTANT that given test well has data for all features listed in testFeatures RE: PE feature\n",
    "whichFeatures <- function(train, testFeatures) {\n",
    "    \n",
    "    # ensure features have actual data\n",
    "    goodFeatures <- names(train)[apply(train, 2, function(x) {sum(is.na(x))==0})]\n",
    "    \n",
    "    # certain features we're just not interested in modeling\n",
    "    badFeatures <- c(\"Formation\", \"Well.Name\", \"Depth\")\n",
    "    if (sum(train$Well.Name == \"Recruit F9\") == nrow(train)) badFeatures <- c(badFeatures, \"RELPOS\")\n",
    "    goodFeatures <- goodFeatures[!goodFeatures %in% badFeatures]\n",
    "\n",
    "    # finally, we only want to include features which also exist in the test data set\n",
    "    goodFeatures <- goodFeatures[goodFeatures %in% testFeatures]\n",
    "\n",
    "    goodFeatures\n",
    "}"
   ]
  },
  {
   "cell_type": "code",
   "execution_count": 245,
   "metadata": {
    "collapsed": false
   },
   "outputs": [],
   "source": [
    "l <- 16\n",
    "\n",
    "train <- data.frame(Well.Name=c(rep(\"A\",100), rep(\"B\",100), rep(\"C\",100)), x=rep(0,300))\n",
    "train[50:60, \"x\"] <- 1\n",
    "train[160:170, \"x\"] <- 1\n",
    "train[270:280, \"x\"] <- 1\n",
    "train[40:45, \"x\"] <- 2\n",
    "train[150:155, \"x\"] <- 2\n",
    "train[237:250, \"x\"] <- 2\n",
    "train$Facies <- as.factor(train$x)\n",
    "levels(train$Facies) <- c(\"Easy\", \"Medium\", \"Hard\")\n",
    "train$x <- train$x + rnorm(300, 0, .25)\n",
    "\n",
    "test <- data.frame(Well.Name=rep(\"D\",30), x=rep(0,30))\n",
    "test[10:20, \"x\"] <- 1\n",
    "test[1:5, \"x\"] <- 2\n",
    "test$Facies <- as.factor(test$x)\n",
    "levels(test$Facies) <- c(\"Easy\", \"Medium\", \"Hard\")\n",
    "test$x <- test$x + rnorm(30, 0, .25)"
   ]
  },
  {
   "cell_type": "code",
   "execution_count": 244,
   "metadata": {
    "collapsed": false
   },
   "outputs": [],
   "source": [
    "corrPredict <- function(train, test, l) {\n",
    "    wells <- unique(train$Well.Name)\n",
    "    crossCorrs <- data.frame()\n",
    "    print(wells)\n",
    "    for (i in 1:nrow(test)) {\n",
    "        top <- i - l / 2 + 1\n",
    "        base <- i + l / 2\n",
    "        test_i <- subsetData(test, top, base)\n",
    "        crossCorrs_i <- data.frame()\n",
    "\n",
    "        for (well_j in wells) {\n",
    "            train_j <- train[train$Well.Name == well_j,]\n",
    "            cors <- data.frame(corsq=numeric(), trainWell=factor(), k=numeric())\n",
    "\n",
    "            for (k in 1:nrow(train_j)) {\n",
    "                top_k <- k - l / 2 + 1\n",
    "                base_k <- k + l / 2\n",
    "                train_jk <- subsetData(train_j, top_k, base_k)\n",
    "\n",
    "                temp <- data.frame(cor=cor(test_i$x, train_jk$x), trainWell=well_j, k=k)\n",
    "                cors <- rbind(cors, temp)\n",
    "            }\n",
    "\n",
    "            best_j <- cors[which.max(cors$cor),]\n",
    "            test[i, paste0(\"Facies_\", well_j)] <- train_j[best_j$k[1], \"Facies\"]\n",
    "            test[i, paste0(\"Corr_\", well_j)] <- best_j$cor[1]\n",
    "        }    \n",
    "    }    \n",
    "    \n",
    "    test\n",
    "} "
   ]
  },
  {
   "cell_type": "code",
   "execution_count": 242,
   "metadata": {
    "collapsed": false
   },
   "outputs": [],
   "source": [
    "library(caret)\n",
    "\n",
    "accuracy_metrics <- function(cm, ytrue) {\n",
    "    \n",
    "    # initialize vectors for precision, recall, and f1 metrics with zeros\n",
    "    prec <- rep(0,3)\n",
    "    recall <- rep(0,3)\n",
    "    f1 <- rep(0,3)\n",
    "\n",
    "    # loop through facies to compute precision, recall, and f1 for each facies\n",
    "    beta <- 1\n",
    "    for (i in 1:3) {\n",
    "        prec[i] <- cm[i,i] / sum(cm[i,])\n",
    "        recall[i] <- cm[i,i] / sum(cm[,i])\n",
    "        f1[i] <- (1 + beta^2) * prec[i] * recall[i] / ((beta^2 * prec[i]) + recall[i])\n",
    "    }\n",
    "    \n",
    "    prec[is.na(prec)] <- 0\n",
    "    recall[is.na(recall)] <- 0\n",
    "    f1[is.na(f1)] <- 0\n",
    "    \n",
    "    support <- as.matrix(table(ytrue))\n",
    "    tot_precision <- sum(prec * support) / sum(support)\n",
    "    tot_recall <- sum(recall * support) / sum(support)\n",
    "    tot_f1 <- sum(f1 * support) / sum(support)\n",
    "    \n",
    "    c(tot_precision, tot_recall, tot_f1)\n",
    "}\n",
    "\n",
    "eval_model <- function(ypred, ytrue) {\n",
    "    cm <- confusionMatrix(ypred, ytrue)\n",
    "    accuracy_metrics(as.matrix(cm[[\"table\"]]), ytrue)\n",
    "}"
   ]
  },
  {
   "cell_type": "code",
   "execution_count": 247,
   "metadata": {
    "collapsed": false
   },
   "outputs": [
    {
     "name": "stdout",
     "output_type": "stream",
     "text": [
      "[1] A B C\n",
      "Levels: A B C\n",
      "[1] \"l: 16\"\n",
      "[1] \"A F1-Score: 0.758222222222222\"\n",
      "[1] \"B F1-Score: 0.728888888888889\"\n",
      "[1] \"C F1-Score: 0.736108550947261\"\n",
      "[1] A B C\n",
      "Levels: A B C\n",
      "[1] \"l: 18\"\n",
      "[1] \"A F1-Score: 0.732098765432099\"\n",
      "[1] \"B F1-Score: 0.73262599469496\"\n",
      "[1] \"C F1-Score: 0.778877171215881\"\n",
      "[1] A B C\n",
      "Levels: A B C\n",
      "[1] \"l: 20\"\n",
      "[1] \"A F1-Score: 0.728647214854111\"\n",
      "[1] \"B F1-Score: 0.760831122900088\"\n",
      "[1] \"C F1-Score: 0.676574074074074\"\n",
      "[1] A B C\n",
      "Levels: A B C\n",
      "[1] \"l: 22\"\n",
      "[1] \"A F1-Score: 0.80212096332786\"\n",
      "[1] \"B F1-Score: 0.832478632478633\"\n",
      "[1] \"C F1-Score: 0.675462962962963\"\n",
      "[1] A B C\n",
      "Levels: A B C\n",
      "[1] \"l: 24\"\n",
      "[1] \"A F1-Score: 0.884571428571429\"\n",
      "[1] \"B F1-Score: 0.88151828847481\"\n",
      "[1] \"C F1-Score: 0.628581871345029\"\n"
     ]
    }
   ],
   "source": [
    "ls <- c(16,18,20,22,24)\n",
    "\n",
    "for (l in ls) {\n",
    "    t <- corrPredict(train, test, l)\n",
    "    metrics_a <- eval_model(t$Facies_A, t$Facies)\n",
    "    metrics_b <- eval_model(t$Facies_B, t$Facies)\n",
    "    metrics_c <- eval_model(t$Facies_C, t$Facies)\n",
    "\n",
    "    print(paste(\"l:\", l))\n",
    "    print(paste(\"A F1-Score:\", metrics_a[3]))\n",
    "    print(paste(\"B F1-Score:\", metrics_b[3]))\n",
    "    print(paste(\"C F1-Score:\", metrics_c[3]))\n",
    "}"
   ]
  }
 ],
 "metadata": {
  "kernelspec": {
   "display_name": "R 3.2",
   "language": "R",
   "name": "ir32"
  },
  "language_info": {
   "codemirror_mode": "r",
   "file_extension": ".r",
   "mimetype": "text/x-r-source",
   "name": "R",
   "pygments_lexer": "r",
   "version": "3.2.4"
  }
 },
 "nbformat": 4,
 "nbformat_minor": 0
}
