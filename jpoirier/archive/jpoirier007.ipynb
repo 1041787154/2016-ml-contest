{
 "cells": [
  {
   "cell_type": "code",
   "execution_count": 1,
   "metadata": {
    "collapsed": false
   },
   "outputs": [
    {
     "data": {
      "text/html": [
       "'Raw data:'"
      ],
      "text/latex": [
       "'Raw data:'"
      ],
      "text/markdown": [
       "'Raw data:'"
      ],
      "text/plain": [
       "[1] \"Raw data:\""
      ]
     },
     "metadata": {},
     "output_type": "display_data"
    },
    {
     "data": {
      "text/html": [
       "<table>\n",
       "<thead><tr><th scope=col>Facies</th><th scope=col>Formation</th><th scope=col>Well.Name</th><th scope=col>Depth</th><th scope=col>GR</th><th scope=col>ILD_log10</th><th scope=col>DeltaPHI</th><th scope=col>PHIND</th><th scope=col>PE</th><th scope=col>NM_M</th><th scope=col>RELPOS</th></tr></thead>\n",
       "<tbody>\n",
       "\t<tr><td>3        </td><td>A1 SH    </td><td>SHRIMPLIN</td><td>2793     </td><td>77.5     </td><td>0.664    </td><td> 9.9     </td><td>11.9     </td><td>4.6      </td><td>1        </td><td>1.000    </td></tr>\n",
       "\t<tr><td>3        </td><td>A1 SH    </td><td>SHRIMPLIN</td><td>2794     </td><td>78.3     </td><td>0.661    </td><td>14.2     </td><td>12.6     </td><td>4.1      </td><td>1        </td><td>0.979    </td></tr>\n",
       "\t<tr><td>3        </td><td>A1 SH    </td><td>SHRIMPLIN</td><td>2794     </td><td>79.0     </td><td>0.658    </td><td>14.8     </td><td>13.1     </td><td>3.6      </td><td>1        </td><td>0.957    </td></tr>\n",
       "</tbody>\n",
       "</table>\n"
      ],
      "text/latex": [
       "\\begin{tabular}{r|lllllllllll}\n",
       " Facies & Formation & Well.Name & Depth & GR & ILD\\_log10 & DeltaPHI & PHIND & PE & NM\\_M & RELPOS\\\\\n",
       "\\hline\n",
       "\t 3         & A1 SH     & SHRIMPLIN & 2793      & 77.5      & 0.664     &  9.9      & 11.9      & 4.6       & 1         & 1.000    \\\\\n",
       "\t 3         & A1 SH     & SHRIMPLIN & 2794      & 78.3      & 0.661     & 14.2      & 12.6      & 4.1       & 1         & 0.979    \\\\\n",
       "\t 3         & A1 SH     & SHRIMPLIN & 2794      & 79.0      & 0.658     & 14.8      & 13.1      & 3.6       & 1         & 0.957    \\\\\n",
       "\\end{tabular}\n"
      ],
      "text/plain": [
       "  Facies Formation Well.Name Depth GR   ILD_log10 DeltaPHI PHIND PE  NM_M\n",
       "1 3      A1 SH     SHRIMPLIN 2793  77.5 0.664      9.9     11.9  4.6 1   \n",
       "2 3      A1 SH     SHRIMPLIN 2794  78.3 0.661     14.2     12.6  4.1 1   \n",
       "3 3      A1 SH     SHRIMPLIN 2794  79.0 0.658     14.8     13.1  3.6 1   \n",
       "  RELPOS\n",
       "1 1.000 \n",
       "2 0.979 \n",
       "3 0.957 "
      ]
     },
     "metadata": {},
     "output_type": "display_data"
    },
    {
     "data": {
      "text/html": [
       "'Cleaned data:'"
      ],
      "text/latex": [
       "'Cleaned data:'"
      ],
      "text/markdown": [
       "'Cleaned data:'"
      ],
      "text/plain": [
       "[1] \"Cleaned data:\""
      ]
     },
     "metadata": {},
     "output_type": "display_data"
    },
    {
     "data": {
      "text/html": [
       "<table>\n",
       "<thead><tr><th scope=col>Facies</th><th scope=col>Formation</th><th scope=col>Well.Name</th><th scope=col>Depth</th><th scope=col>GR</th><th scope=col>ILD_log10</th><th scope=col>DeltaPHI</th><th scope=col>PHIND</th><th scope=col>PE</th><th scope=col>isMarine</th><th scope=col>RELPOS</th></tr></thead>\n",
       "<tbody>\n",
       "\t<tr><td>FSiS     </td><td>A1 SH    </td><td>SHRIMPLIN</td><td>2793     </td><td>77.5     </td><td>0.664    </td><td> 9.9     </td><td>11.9     </td><td>4.6      </td><td>FALSE    </td><td>1.000    </td></tr>\n",
       "\t<tr><td>FSiS     </td><td>A1 SH    </td><td>SHRIMPLIN</td><td>2794     </td><td>78.3     </td><td>0.661    </td><td>14.2     </td><td>12.6     </td><td>4.1      </td><td>FALSE    </td><td>0.979    </td></tr>\n",
       "\t<tr><td>FSiS     </td><td>A1 SH    </td><td>SHRIMPLIN</td><td>2794     </td><td>79.0     </td><td>0.658    </td><td>14.8     </td><td>13.1     </td><td>3.6      </td><td>FALSE    </td><td>0.957    </td></tr>\n",
       "</tbody>\n",
       "</table>\n"
      ],
      "text/latex": [
       "\\begin{tabular}{r|lllllllllll}\n",
       " Facies & Formation & Well.Name & Depth & GR & ILD\\_log10 & DeltaPHI & PHIND & PE & isMarine & RELPOS\\\\\n",
       "\\hline\n",
       "\t FSiS      & A1 SH     & SHRIMPLIN & 2793      & 77.5      & 0.664     &  9.9      & 11.9      & 4.6       & FALSE     & 1.000    \\\\\n",
       "\t FSiS      & A1 SH     & SHRIMPLIN & 2794      & 78.3      & 0.661     & 14.2      & 12.6      & 4.1       & FALSE     & 0.979    \\\\\n",
       "\t FSiS      & A1 SH     & SHRIMPLIN & 2794      & 79.0      & 0.658     & 14.8      & 13.1      & 3.6       & FALSE     & 0.957    \\\\\n",
       "\\end{tabular}\n"
      ],
      "text/plain": [
       "  Facies Formation Well.Name Depth GR   ILD_log10 DeltaPHI PHIND PE  isMarine\n",
       "1 FSiS   A1 SH     SHRIMPLIN 2793  77.5 0.664      9.9     11.9  4.6 FALSE   \n",
       "2 FSiS   A1 SH     SHRIMPLIN 2794  78.3 0.661     14.2     12.6  4.1 FALSE   \n",
       "3 FSiS   A1 SH     SHRIMPLIN 2794  79.0 0.658     14.8     13.1  3.6 FALSE   \n",
       "  RELPOS\n",
       "1 1.000 \n",
       "2 0.979 \n",
       "3 0.957 "
      ]
     },
     "metadata": {},
     "output_type": "display_data"
    },
    {
     "data": {
      "text/html": [
       "'Centered and scaled data:'"
      ],
      "text/latex": [
       "'Centered and scaled data:'"
      ],
      "text/markdown": [
       "'Centered and scaled data:'"
      ],
      "text/plain": [
       "[1] \"Centered and scaled data:\""
      ]
     },
     "metadata": {},
     "output_type": "display_data"
    },
    {
     "data": {
      "text/html": [
       "<table>\n",
       "<thead><tr><th scope=col>Facies</th><th scope=col>Formation</th><th scope=col>Well.Name</th><th scope=col>Depth</th><th scope=col>GR</th><th scope=col>ILD_log10</th><th scope=col>DeltaPHI</th><th scope=col>PHIND</th><th scope=col>PE</th><th scope=col>isMarine</th><th scope=col>RELPOS</th></tr></thead>\n",
       "<tbody>\n",
       "\t<tr><td>FSiS     </td><td>A1 SH    </td><td>SHRIMPLIN</td><td>2793     </td><td>0.216    </td><td> 0.01855 </td><td>0.512    </td><td>-0.0487  </td><td> 0.421   </td><td>FALSE    </td><td>1.000    </td></tr>\n",
       "\t<tr><td>FSiS     </td><td>A1 SH    </td><td>SHRIMPLIN</td><td>2794     </td><td>0.237    </td><td> 0.00567 </td><td>1.517    </td><td> 0.0736  </td><td>-0.133   </td><td>FALSE    </td><td>0.979    </td></tr>\n",
       "\t<tr><td>FSiS     </td><td>A1 SH    </td><td>SHRIMPLIN</td><td>2794     </td><td>0.258    </td><td>-0.00721 </td><td>1.657    </td><td> 0.1648  </td><td>-0.687   </td><td>FALSE    </td><td>0.957    </td></tr>\n",
       "</tbody>\n",
       "</table>\n"
      ],
      "text/latex": [
       "\\begin{tabular}{r|lllllllllll}\n",
       " Facies & Formation & Well.Name & Depth & GR & ILD\\_log10 & DeltaPHI & PHIND & PE & isMarine & RELPOS\\\\\n",
       "\\hline\n",
       "\t FSiS      & A1 SH     & SHRIMPLIN & 2793      & 0.216     &  0.01855  & 0.512     & -0.0487   &  0.421    & FALSE     & 1.000    \\\\\n",
       "\t FSiS      & A1 SH     & SHRIMPLIN & 2794      & 0.237     &  0.00567  & 1.517     &  0.0736   & -0.133    & FALSE     & 0.979    \\\\\n",
       "\t FSiS      & A1 SH     & SHRIMPLIN & 2794      & 0.258     & -0.00721  & 1.657     &  0.1648   & -0.687    & FALSE     & 0.957    \\\\\n",
       "\\end{tabular}\n"
      ],
      "text/plain": [
       "  Facies Formation Well.Name Depth GR    ILD_log10 DeltaPHI PHIND   PE    \n",
       "1 FSiS   A1 SH     SHRIMPLIN 2793  0.216  0.01855  0.512    -0.0487  0.421\n",
       "2 FSiS   A1 SH     SHRIMPLIN 2794  0.237  0.00567  1.517     0.0736 -0.133\n",
       "3 FSiS   A1 SH     SHRIMPLIN 2794  0.258 -0.00721  1.657     0.1648 -0.687\n",
       "  isMarine RELPOS\n",
       "1 FALSE    1.000 \n",
       "2 FALSE    0.979 \n",
       "3 FALSE    0.957 "
      ]
     },
     "metadata": {},
     "output_type": "display_data"
    }
   ],
   "source": [
    "source(\"loadData.R\")\n",
    "\n",
    "# load and clean the data\n",
    "raw <- loadData()\n",
    "\n",
    "\"Raw data:\"\n",
    "format(head(raw,3), digits=3)\n",
    "\n",
    "clean <- cleanData(raw)\n",
    "\n",
    "\"Cleaned data:\"\n",
    "format(head(clean,3), digits=3)\n",
    "\n",
    "dataPrime <- data.frame()\n",
    "wells <- unique(clean$Well.Name)\n",
    "\n",
    "for (well_i in wells) {\n",
    "    data_i <- clean[clean$Well.Name == well_i,]\n",
    "    \n",
    "    data_i$GR <- (data_i$GR - mean(data_i$GR, na.rm=T)) / sd(data_i$GR, na.rm=T)\n",
    "    data_i$ILD_log10 <- (data_i$ILD_log10 - mean(data_i$ILD_log10, na.rm=T)) / sd(data_i$ILD_log10, na.rm=T)\n",
    "    data_i$DeltaPHI <- (data_i$DeltaPHI - mean(data_i$DeltaPHI, na.rm=T)) / sd(data_i$DeltaPHI, na.rm=T)\n",
    "    data_i$PHIND <- (data_i$PHIND - mean(data_i$PHIND, na.rm=T)) / sd(data_i$PHIND, na.rm=T)\n",
    "    data_i$PE <- (data_i$PE - mean(data_i$PE, na.rm=T)) / sd(data_i$PE, na.rm=T)\n",
    "    \n",
    "    dataPrime <- rbind(dataPrime, data_i)\n",
    "}\n",
    "\n",
    "cs <- dataPrime\n",
    "rm(dataPrime)\n",
    "\n",
    "\"Centered and scaled data:\"\n",
    "format(head(cs,3), digits=3)"
   ]
  },
  {
   "cell_type": "code",
   "execution_count": 2,
   "metadata": {
    "collapsed": false
   },
   "outputs": [
    {
     "data": {
      "text/html": [
       "'With PE log:'"
      ],
      "text/latex": [
       "'With PE log:'"
      ],
      "text/markdown": [
       "'With PE log:'"
      ],
      "text/plain": [
       "[1] \"With PE log:\""
      ]
     },
     "metadata": {},
     "output_type": "display_data"
    },
    {
     "data": {
      "text/html": [
       "'Rows: 3164'"
      ],
      "text/latex": [
       "'Rows: 3164'"
      ],
      "text/markdown": [
       "'Rows: 3164'"
      ],
      "text/plain": [
       "[1] \"Rows: 3164\""
      ]
     },
     "metadata": {},
     "output_type": "display_data"
    },
    {
     "data": {
      "text/html": [
       "<table>\n",
       "<thead><tr><th scope=col>Facies</th><th scope=col>Formation</th><th scope=col>Well.Name</th><th scope=col>Depth</th><th scope=col>GR</th><th scope=col>ILD_log10</th><th scope=col>DeltaPHI</th><th scope=col>PHIND</th><th scope=col>PE</th><th scope=col>isMarine</th><th scope=col>RELPOS</th></tr></thead>\n",
       "<tbody>\n",
       "\t<tr><td>FSiS     </td><td>A1 SH    </td><td>SHRIMPLIN</td><td>2793     </td><td>0.216    </td><td> 0.01855 </td><td>0.512    </td><td>-0.0487  </td><td> 0.421   </td><td>FALSE    </td><td>1.000    </td></tr>\n",
       "\t<tr><td>FSiS     </td><td>A1 SH    </td><td>SHRIMPLIN</td><td>2794     </td><td>0.237    </td><td> 0.00567 </td><td>1.517    </td><td> 0.0736  </td><td>-0.133   </td><td>FALSE    </td><td>0.979    </td></tr>\n",
       "\t<tr><td>FSiS     </td><td>A1 SH    </td><td>SHRIMPLIN</td><td>2794     </td><td>0.258    </td><td>-0.00721 </td><td>1.657    </td><td> 0.1648  </td><td>-0.687   </td><td>FALSE    </td><td>0.957    </td></tr>\n",
       "</tbody>\n",
       "</table>\n"
      ],
      "text/latex": [
       "\\begin{tabular}{r|lllllllllll}\n",
       " Facies & Formation & Well.Name & Depth & GR & ILD\\_log10 & DeltaPHI & PHIND & PE & isMarine & RELPOS\\\\\n",
       "\\hline\n",
       "\t FSiS      & A1 SH     & SHRIMPLIN & 2793      & 0.216     &  0.01855  & 0.512     & -0.0487   &  0.421    & FALSE     & 1.000    \\\\\n",
       "\t FSiS      & A1 SH     & SHRIMPLIN & 2794      & 0.237     &  0.00567  & 1.517     &  0.0736   & -0.133    & FALSE     & 0.979    \\\\\n",
       "\t FSiS      & A1 SH     & SHRIMPLIN & 2794      & 0.258     & -0.00721  & 1.657     &  0.1648   & -0.687    & FALSE     & 0.957    \\\\\n",
       "\\end{tabular}\n"
      ],
      "text/plain": [
       "  Facies Formation Well.Name Depth GR    ILD_log10 DeltaPHI PHIND   PE    \n",
       "1 FSiS   A1 SH     SHRIMPLIN 2793  0.216  0.01855  0.512    -0.0487  0.421\n",
       "2 FSiS   A1 SH     SHRIMPLIN 2794  0.237  0.00567  1.517     0.0736 -0.133\n",
       "3 FSiS   A1 SH     SHRIMPLIN 2794  0.258 -0.00721  1.657     0.1648 -0.687\n",
       "  isMarine RELPOS\n",
       "1 FALSE    1.000 \n",
       "2 FALSE    0.979 \n",
       "3 FALSE    0.957 "
      ]
     },
     "metadata": {},
     "output_type": "display_data"
    },
    {
     "data": {
      "text/html": [
       "'Without PE log:'"
      ],
      "text/latex": [
       "'Without PE log:'"
      ],
      "text/markdown": [
       "'Without PE log:'"
      ],
      "text/plain": [
       "[1] \"Without PE log:\""
      ]
     },
     "metadata": {},
     "output_type": "display_data"
    },
    {
     "data": {
      "text/html": [
       "'Rows: 4069'"
      ],
      "text/latex": [
       "'Rows: 4069'"
      ],
      "text/markdown": [
       "'Rows: 4069'"
      ],
      "text/plain": [
       "[1] \"Rows: 4069\""
      ]
     },
     "metadata": {},
     "output_type": "display_data"
    },
    {
     "data": {
      "text/html": [
       "<table>\n",
       "<thead><tr><th scope=col>Facies</th><th scope=col>Formation</th><th scope=col>Well.Name</th><th scope=col>Depth</th><th scope=col>GR</th><th scope=col>ILD_log10</th><th scope=col>DeltaPHI</th><th scope=col>PHIND</th><th scope=col>isMarine</th><th scope=col>RELPOS</th></tr></thead>\n",
       "<tbody>\n",
       "\t<tr><td>FSiS     </td><td>A1 SH    </td><td>SHRIMPLIN</td><td>2793     </td><td>0.216    </td><td> 0.01855 </td><td>0.512    </td><td>-0.0487  </td><td>FALSE    </td><td>1.000    </td></tr>\n",
       "\t<tr><td>FSiS     </td><td>A1 SH    </td><td>SHRIMPLIN</td><td>2794     </td><td>0.237    </td><td> 0.00567 </td><td>1.517    </td><td> 0.0736  </td><td>FALSE    </td><td>0.979    </td></tr>\n",
       "\t<tr><td>FSiS     </td><td>A1 SH    </td><td>SHRIMPLIN</td><td>2794     </td><td>0.258    </td><td>-0.00721 </td><td>1.657    </td><td> 0.1648  </td><td>FALSE    </td><td>0.957    </td></tr>\n",
       "</tbody>\n",
       "</table>\n"
      ],
      "text/latex": [
       "\\begin{tabular}{r|llllllllll}\n",
       " Facies & Formation & Well.Name & Depth & GR & ILD\\_log10 & DeltaPHI & PHIND & isMarine & RELPOS\\\\\n",
       "\\hline\n",
       "\t FSiS      & A1 SH     & SHRIMPLIN & 2793      & 0.216     &  0.01855  & 0.512     & -0.0487   & FALSE     & 1.000    \\\\\n",
       "\t FSiS      & A1 SH     & SHRIMPLIN & 2794      & 0.237     &  0.00567  & 1.517     &  0.0736   & FALSE     & 0.979    \\\\\n",
       "\t FSiS      & A1 SH     & SHRIMPLIN & 2794      & 0.258     & -0.00721  & 1.657     &  0.1648   & FALSE     & 0.957    \\\\\n",
       "\\end{tabular}\n"
      ],
      "text/plain": [
       "  Facies Formation Well.Name Depth GR    ILD_log10 DeltaPHI PHIND   isMarine\n",
       "1 FSiS   A1 SH     SHRIMPLIN 2793  0.216  0.01855  0.512    -0.0487 FALSE   \n",
       "2 FSiS   A1 SH     SHRIMPLIN 2794  0.237  0.00567  1.517     0.0736 FALSE   \n",
       "3 FSiS   A1 SH     SHRIMPLIN 2794  0.258 -0.00721  1.657     0.1648 FALSE   \n",
       "  RELPOS\n",
       "1 1.000 \n",
       "2 0.979 \n",
       "3 0.957 "
      ]
     },
     "metadata": {},
     "output_type": "display_data"
    }
   ],
   "source": [
    "# we only want data with complete observations (no missing features)\n",
    "# we also exclude the Recruit F9 well, as our derivative features won't make sense for them\n",
    "cs_withPE <- cs[complete.cases(cs) & cs$Well.Name != \"Recruit F9\",]\n",
    "cs_withoutPE <- cs[cs$Well.Name != \"Recruit F9\",c(\"Facies\", \"Formation\", \"Well.Name\", \"Depth\", \"GR\", \n",
    "                          \"ILD_log10\", \"DeltaPHI\", \"PHIND\", \"isMarine\", \"RELPOS\")]\n",
    "\n",
    "\"With PE log:\"\n",
    "paste(\"Rows:\", nrow(cs_withPE))\n",
    "format(head(cs_withPE, 3), digits=3)\n",
    "\n",
    "\"Without PE log:\"\n",
    "paste(\"Rows:\", nrow(cs_withoutPE))\n",
    "format(head(cs_withoutPE, 3), digits=3)"
   ]
  },
  {
   "cell_type": "code",
   "execution_count": 3,
   "metadata": {
    "collapsed": false
   },
   "outputs": [
    {
     "data": {
      "text/html": [
       "'With PE # columns before forward, backward, and central difference feature-building: 11'"
      ],
      "text/latex": [
       "'With PE \\# columns before forward, backward, and central difference feature-building: 11'"
      ],
      "text/markdown": [
       "'With PE # columns before forward, backward, and central difference feature-building: 11'"
      ],
      "text/plain": [
       "[1] \"With PE # columns before forward, backward, and central difference feature-building: 11\""
      ]
     },
     "metadata": {},
     "output_type": "display_data"
    },
    {
     "data": {
      "text/html": [
       "'With PE # columns after lag feature-building: 191'"
      ],
      "text/latex": [
       "'With PE \\# columns after lag feature-building: 191'"
      ],
      "text/markdown": [
       "'With PE # columns after lag feature-building: 191'"
      ],
      "text/plain": [
       "[1] \"With PE # columns after lag feature-building: 191\""
      ]
     },
     "metadata": {},
     "output_type": "display_data"
    },
    {
     "data": {
      "text/html": [
       "<table>\n",
       "<thead><tr><th scope=col>Facies</th><th scope=col>Formation</th><th scope=col>Well.Name</th><th scope=col>Depth</th><th scope=col>RELPOS</th><th scope=col>GR_n15</th><th scope=col>ILD_log10_n15</th><th scope=col>DeltaPHI_n15</th><th scope=col>PHIND_n15</th><th scope=col>isMarine_n15</th><th scope=col>...</th><th scope=col>DeltaPHI_14</th><th scope=col>PHIND_14</th><th scope=col>isMarine_14</th><th scope=col>PE_14</th><th scope=col>GR_15</th><th scope=col>ILD_log10_15</th><th scope=col>DeltaPHI_15</th><th scope=col>PHIND_15</th><th scope=col>isMarine_15</th><th scope=col>PE_15</th></tr></thead>\n",
       "<tbody>\n",
       "\t<tr><td>FSiS     </td><td>A1 SH    </td><td>SHRIMPLIN</td><td>2793     </td><td>1.000    </td><td> 0.23435 </td><td>-0.827   </td><td>0.956    </td><td>-0.0487  </td><td>FALSE    </td><td>...      </td><td>1.540    </td><td>-0.0487  </td><td>FALSE    </td><td> 0.421   </td><td>0.234    </td><td>-0.827   </td><td>0.956    </td><td>-0.0487  </td><td>FALSE    </td><td> 0.421   </td></tr>\n",
       "\t<tr><td>FSiS     </td><td>A1 SH    </td><td>SHRIMPLIN</td><td>2794     </td><td>0.979    </td><td>-0.00292 </td><td>-0.952   </td><td>0.419    </td><td> 0.0736  </td><td>FALSE    </td><td>...      </td><td>1.307    </td><td> 0.0736  </td><td>FALSE    </td><td>-0.133   </td><td>0.555    </td><td>-0.604   </td><td>1.540    </td><td> 0.0736  </td><td>FALSE    </td><td>-0.133   </td></tr>\n",
       "\t<tr><td>FSiS     </td><td>A1 SH    </td><td>SHRIMPLIN</td><td>2794     </td><td>0.957    </td><td>-0.15735 </td><td>-1.038   </td><td>0.255    </td><td> 0.1648  </td><td>FALSE    </td><td>...      </td><td>0.839    </td><td> 0.1648  </td><td>FALSE    </td><td>-0.687   </td><td>0.376    </td><td>-0.527   </td><td>1.307    </td><td> 0.1648  </td><td>FALSE    </td><td>-0.687   </td></tr>\n",
       "</tbody>\n",
       "</table>\n"
      ],
      "text/latex": [
       "\\begin{tabular}{r|lllllllllllllllllllllllllllllllllllllllllllllllllllllllllllllllllllllllllllllllllllllllllllllllllllllllllllllllllllllllllllllllllllllllllllllllllllllllllllllllllllllllllllllllllllllllllllllll}\n",
       " Facies & Formation & Well.Name & Depth & RELPOS & GR\\_n15 & ILD\\_log10\\_n15 & DeltaPHI\\_n15 & PHIND\\_n15 & isMarine\\_n15 & ... & DeltaPHI\\_14 & PHIND\\_14 & isMarine\\_14 & PE\\_14 & GR\\_15 & ILD\\_log10\\_15 & DeltaPHI\\_15 & PHIND\\_15 & isMarine\\_15 & PE\\_15\\\\\n",
       "\\hline\n",
       "\t FSiS      & A1 SH     & SHRIMPLIN & 2793      & 1.000     &  0.23435  & -0.827    & 0.956     & -0.0487   & FALSE     & ...       & 1.540     & -0.0487   & FALSE     &  0.421    & 0.234     & -0.827    & 0.956     & -0.0487   & FALSE     &  0.421   \\\\\n",
       "\t FSiS      & A1 SH     & SHRIMPLIN & 2794      & 0.979     & -0.00292  & -0.952    & 0.419     &  0.0736   & FALSE     & ...       & 1.307     &  0.0736   & FALSE     & -0.133    & 0.555     & -0.604    & 1.540     &  0.0736   & FALSE     & -0.133   \\\\\n",
       "\t FSiS      & A1 SH     & SHRIMPLIN & 2794      & 0.957     & -0.15735  & -1.038    & 0.255     &  0.1648   & FALSE     & ...       & 0.839     &  0.1648   & FALSE     & -0.687    & 0.376     & -0.527    & 1.307     &  0.1648   & FALSE     & -0.687   \\\\\n",
       "\\end{tabular}\n"
      ],
      "text/plain": [
       "  Facies Formation Well.Name Depth RELPOS GR_n15   ILD_log10_n15 DeltaPHI_n15\n",
       "1 FSiS   A1 SH     SHRIMPLIN 2793  1.000   0.23435 -0.827        0.956       \n",
       "2 FSiS   A1 SH     SHRIMPLIN 2794  0.979  -0.00292 -0.952        0.419       \n",
       "3 FSiS   A1 SH     SHRIMPLIN 2794  0.957  -0.15735 -1.038        0.255       \n",
       "  PHIND_n15 isMarine_n15 ... DeltaPHI_14 PHIND_14 isMarine_14 PE_14  GR_15\n",
       "1 -0.0487   FALSE        ... 1.540       -0.0487  FALSE        0.421 0.234\n",
       "2  0.0736   FALSE        ... 1.307        0.0736  FALSE       -0.133 0.555\n",
       "3  0.1648   FALSE        ... 0.839        0.1648  FALSE       -0.687 0.376\n",
       "  ILD_log10_15 DeltaPHI_15 PHIND_15 isMarine_15 PE_15 \n",
       "1 -0.827       0.956       -0.0487  FALSE        0.421\n",
       "2 -0.604       1.540        0.0736  FALSE       -0.133\n",
       "3 -0.527       1.307        0.1648  FALSE       -0.687"
      ]
     },
     "metadata": {},
     "output_type": "display_data"
    },
    {
     "data": {
      "text/html": [
       "'Without PE # columns before forward, backward, and central difference feature-building: 10'"
      ],
      "text/latex": [
       "'Without PE \\# columns before forward, backward, and central difference feature-building: 10'"
      ],
      "text/markdown": [
       "'Without PE # columns before forward, backward, and central difference feature-building: 10'"
      ],
      "text/plain": [
       "[1] \"Without PE # columns before forward, backward, and central difference feature-building: 10\""
      ]
     },
     "metadata": {},
     "output_type": "display_data"
    },
    {
     "data": {
      "text/html": [
       "'Without PE # columns after lag feature-building: 160'"
      ],
      "text/latex": [
       "'Without PE \\# columns after lag feature-building: 160'"
      ],
      "text/markdown": [
       "'Without PE # columns after lag feature-building: 160'"
      ],
      "text/plain": [
       "[1] \"Without PE # columns after lag feature-building: 160\""
      ]
     },
     "metadata": {},
     "output_type": "display_data"
    },
    {
     "data": {
      "text/html": [
       "<table>\n",
       "<thead><tr><th scope=col>Facies</th><th scope=col>Formation</th><th scope=col>Well.Name</th><th scope=col>Depth</th><th scope=col>RELPOS</th><th scope=col>GR_n15</th><th scope=col>ILD_log10_n15</th><th scope=col>DeltaPHI_n15</th><th scope=col>PHIND_n15</th><th scope=col>isMarine_n15</th><th scope=col>...</th><th scope=col>GR_14</th><th scope=col>ILD_log10_14</th><th scope=col>DeltaPHI_14</th><th scope=col>PHIND_14</th><th scope=col>isMarine_14</th><th scope=col>GR_15</th><th scope=col>ILD_log10_15</th><th scope=col>DeltaPHI_15</th><th scope=col>PHIND_15</th><th scope=col>isMarine_15</th></tr></thead>\n",
       "<tbody>\n",
       "\t<tr><td>FSiS     </td><td>A1 SH    </td><td>SHRIMPLIN</td><td>2793     </td><td>1.000    </td><td> 0.23435 </td><td>-0.827   </td><td>0.956    </td><td>-0.0487  </td><td>FALSE    </td><td>...      </td><td>0.555    </td><td>-0.604   </td><td>1.540    </td><td>-0.0487  </td><td>FALSE    </td><td>0.234    </td><td>-0.827   </td><td>0.956    </td><td>-0.0487  </td><td>FALSE    </td></tr>\n",
       "\t<tr><td>FSiS     </td><td>A1 SH    </td><td>SHRIMPLIN</td><td>2794     </td><td>0.979    </td><td>-0.00292 </td><td>-0.952   </td><td>0.419    </td><td> 0.0736  </td><td>FALSE    </td><td>...      </td><td>0.376    </td><td>-0.527   </td><td>1.307    </td><td> 0.0736  </td><td>FALSE    </td><td>0.555    </td><td>-0.604   </td><td>1.540    </td><td> 0.0736  </td><td>FALSE    </td></tr>\n",
       "\t<tr><td>FSiS     </td><td>A1 SH    </td><td>SHRIMPLIN</td><td>2794     </td><td>0.957    </td><td>-0.15735 </td><td>-1.038   </td><td>0.255    </td><td> 0.1648  </td><td>FALSE    </td><td>...      </td><td>0.066    </td><td>-0.424   </td><td>0.839    </td><td> 0.1648  </td><td>FALSE    </td><td>0.376    </td><td>-0.527   </td><td>1.307    </td><td> 0.1648  </td><td>FALSE    </td></tr>\n",
       "</tbody>\n",
       "</table>\n"
      ],
      "text/latex": [
       "\\begin{tabular}{r|llllllllllllllllllllllllllllllllllllllllllllllllllllllllllllllllllllllllllllllllllllllllllllllllllllllllllllllllllllllllllllllllllllllllllllllllllllllllllllllll}\n",
       " Facies & Formation & Well.Name & Depth & RELPOS & GR\\_n15 & ILD\\_log10\\_n15 & DeltaPHI\\_n15 & PHIND\\_n15 & isMarine\\_n15 & ... & GR\\_14 & ILD\\_log10\\_14 & DeltaPHI\\_14 & PHIND\\_14 & isMarine\\_14 & GR\\_15 & ILD\\_log10\\_15 & DeltaPHI\\_15 & PHIND\\_15 & isMarine\\_15\\\\\n",
       "\\hline\n",
       "\t FSiS      & A1 SH     & SHRIMPLIN & 2793      & 1.000     &  0.23435  & -0.827    & 0.956     & -0.0487   & FALSE     & ...       & 0.555     & -0.604    & 1.540     & -0.0487   & FALSE     & 0.234     & -0.827    & 0.956     & -0.0487   & FALSE    \\\\\n",
       "\t FSiS      & A1 SH     & SHRIMPLIN & 2794      & 0.979     & -0.00292  & -0.952    & 0.419     &  0.0736   & FALSE     & ...       & 0.376     & -0.527    & 1.307     &  0.0736   & FALSE     & 0.555     & -0.604    & 1.540     &  0.0736   & FALSE    \\\\\n",
       "\t FSiS      & A1 SH     & SHRIMPLIN & 2794      & 0.957     & -0.15735  & -1.038    & 0.255     &  0.1648   & FALSE     & ...       & 0.066     & -0.424    & 0.839     &  0.1648   & FALSE     & 0.376     & -0.527    & 1.307     &  0.1648   & FALSE    \\\\\n",
       "\\end{tabular}\n"
      ],
      "text/plain": [
       "  Facies Formation Well.Name Depth RELPOS GR_n15   ILD_log10_n15 DeltaPHI_n15\n",
       "1 FSiS   A1 SH     SHRIMPLIN 2793  1.000   0.23435 -0.827        0.956       \n",
       "2 FSiS   A1 SH     SHRIMPLIN 2794  0.979  -0.00292 -0.952        0.419       \n",
       "3 FSiS   A1 SH     SHRIMPLIN 2794  0.957  -0.15735 -1.038        0.255       \n",
       "  PHIND_n15 isMarine_n15 ... GR_14 ILD_log10_14 DeltaPHI_14 PHIND_14\n",
       "1 -0.0487   FALSE        ... 0.555 -0.604       1.540       -0.0487 \n",
       "2  0.0736   FALSE        ... 0.376 -0.527       1.307        0.0736 \n",
       "3  0.1648   FALSE        ... 0.066 -0.424       0.839        0.1648 \n",
       "  isMarine_14 GR_15 ILD_log10_15 DeltaPHI_15 PHIND_15 isMarine_15\n",
       "1 FALSE       0.234 -0.827       0.956       -0.0487  FALSE      \n",
       "2 FALSE       0.555 -0.604       1.540        0.0736  FALSE      \n",
       "3 FALSE       0.376 -0.527       1.307        0.1648  FALSE      "
      ]
     },
     "metadata": {},
     "output_type": "display_data"
    }
   ],
   "source": [
    "source(\"preProcData.R\")\n",
    "\n",
    "lag_withPE <- lagData(cs_withPE, 30)\n",
    "lag_withoutPE <- lagData(cs_withoutPE, 30)\n",
    "\n",
    "paste(\"With PE # columns before forward, backward, and central difference feature-building:\", ncol(cs_withPE))\n",
    "paste(\"With PE # columns after lag feature-building:\", ncol(lag_withPE))\n",
    "format(head(lag_withPE,3), digits=3)\n",
    "\n",
    "paste(\"Without PE # columns before forward, backward, and central difference feature-building:\", ncol(cs_withoutPE))\n",
    "paste(\"Without PE # columns after lag feature-building:\", ncol(lag_withoutPE))\n",
    "format(head(lag_withoutPE,3), digits=3)"
   ]
  },
  {
   "cell_type": "markdown",
   "metadata": {},
   "source": [
    "### Cross-Validation"
   ]
  },
  {
   "cell_type": "code",
   "execution_count": null,
   "metadata": {
    "collapsed": false
   },
   "outputs": [
    {
     "name": "stderr",
     "output_type": "stream",
     "text": [
      "Warning message:\n",
      "\"package 'caret' was built under R version 3.2.5\"Loading required package: lattice\n",
      "Loading required package: ggplot2\n",
      "Loading required package: randomForest\n",
      "Warning message:\n",
      "\"package 'randomForest' was built under R version 3.2.5\"randomForest 4.6-12\n",
      "Type rfNews() to see new features/changes/bug fixes.\n",
      "\n",
      "Attaching package: 'randomForest'\n",
      "\n",
      "The following object is masked from 'package:ggplot2':\n",
      "\n",
      "    margin\n",
      "\n"
     ]
    }
   ],
   "source": [
    "library(caret)\n",
    "source(\"accuracyMetrics.R\")\n",
    "\n",
    "t0 <- Sys.time()\n",
    "\n",
    "fitControl <- trainControl(method=\"repeatedcv\", number=10, repeats=10)\n",
    "\n",
    "##############################\n",
    "# with PE case\n",
    "##############################\n",
    "f1_withPE <- NULL\n",
    "\n",
    "wells <- unique(lag_withPE$Well.Name)\n",
    "wells <- wells[!wells %in% \"Recruit F9\"]\n",
    "\n",
    "for (i in 1:(length(wells)-1)) {\n",
    "    for (j in (i+1):length(wells)) {\n",
    "        trainIndex <- lag_withPE$Well.Name != wells[i] & lag_withPE$Well.Name != wells[j]\n",
    "        train <- lag_withPE[trainIndex,]\n",
    "        test <- lag_withPE[!trainIndex,]\n",
    "\n",
    "        fit <- train(Facies ~ ., data=subset(train, select=-c(Well.Name, Depth)), \n",
    "                     method=\"rf\", metric=\"Kappa\", tuneLength=10, \n",
    "                     trControl=fitControl)\n",
    "        \n",
    "        test$Predicted <- predict(fit, newdata=test)\n",
    "        f1_i <- myF1Metric(test$Predicted, test$Facies)\n",
    "        f1_withPE <- c(f1_withPE, f1_i)\n",
    "        \n",
    "        print(paste(\"Test well 1:\", wells[i], \", Test well 2:\", wells[j], \n",
    "                    \", withPE f1-score:\", f1_i))\n",
    "        print(\"-------------\")\n",
    "    }\n",
    "}\n",
    "\n",
    "##############################\n",
    "# without PE case\n",
    "##############################\n",
    "f1_withoutPE <- NULL\n",
    "\n",
    "wells <- unique(lag_withoutPE$Well.Name)\n",
    "wells <- wells[!wells %in% \"Recruit F9\"]\n",
    "\n",
    "for (i in 1:(length(wells)-1)) {\n",
    "    for (j in (i+1):length(wells)) {\n",
    "        trainIndex <- lag_withoutPE$Well.Name != wells[i] & lag_withoutPE$Well.Name != wells[j]\n",
    "        train <- lag_withoutPE[trainIndex,]\n",
    "        test <- lag_withoutPE[!trainIndex,]\n",
    "        \n",
    "        fit <- train(Facies ~ ., data=subset(train, select=-c(Well.Name, Depth)), \n",
    "                     method=\"rf\", metric=\"Kappa\", tuneLength=10, \n",
    "                     trControl=fitControl)\n",
    "        \n",
    "        test$Predicted <- predict(fit, newdata=test)\n",
    "        f1_i <- myF1Metric(test$Predicted, test$Facies)\n",
    "        f1_withoutPE <- c(f1_withoutPE, f1_i)    \n",
    "        \n",
    "        print(paste(\"Test well 1:\", wells[i], \", Test well 2:\", wells[j], \n",
    "                    \", withoutPE f1-score:\", f1_i))\n",
    "        print(\"-------------\")        \n",
    "    }\n",
    "}\n",
    "\n",
    "print(\"WITH PE\")\n",
    "print(paste(\"Minimum F1:\", min(f1_withPE)))\n",
    "print(paste(\"Average F1:\", mean(f1_withPE)))\n",
    "print(paste(\"Maximum F1:\", max(f1_withPE)))\n",
    "print(\"-------------\")\n",
    "print(\"WITHOUT PE\")\n",
    "print(paste(\"Minimum F1:\", min(f1_withoutPE)))\n",
    "print(paste(\"Average F1:\", mean(f1_withoutPE)))\n",
    "print(paste(\"Maximum F1:\", max(f1_withoutPE)))\n",
    "\n",
    "tn <- Sys.time()\n",
    "print(tn-t0)"
   ]
  }
 ],
 "metadata": {
  "kernelspec": {
   "display_name": "R 3.2",
   "language": "R",
   "name": "ir32"
  },
  "language_info": {
   "codemirror_mode": "r",
   "file_extension": ".r",
   "mimetype": "text/x-r-source",
   "name": "R",
   "pygments_lexer": "r",
   "version": "3.2.4"
  }
 },
 "nbformat": 4,
 "nbformat_minor": 0
}
