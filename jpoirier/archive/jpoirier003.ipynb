{
 "cells": [
  {
   "cell_type": "markdown",
   "metadata": {},
   "source": [
    "## Facies classification using Machine Learning  \n",
    "#### Joshua Poirier, NEOS  \n",
    "\n",
    "Let's take a different approach from traditional machine learning algorithms. Something simple. For each **test** observation, I will cross-correlate it (and surrounding observations - a log section) against all log sections in the **train** data set. The highest correlation (averaged across all logs) gets to assign its facies to the **test** observation.  \n",
    "\n",
    "### Load the data  \n",
    "Let's load the entire training data set and perform some quick pre-processing (turning the non-marine/marine feature into a boolean). Let's also center and scale the data - but I'll do it on a well-by-well basis to correct for any instrument/environmental bias."
   ]
  },
  {
   "cell_type": "code",
   "execution_count": 5,
   "metadata": {
    "collapsed": false
   },
   "outputs": [
    {
     "data": {
      "text/html": [
       "<table>\n",
       "<thead><tr><th scope=col>Facies</th><th scope=col>Formation</th><th scope=col>Well.Name</th><th scope=col>Depth</th><th scope=col>GR</th><th scope=col>ILD_log10</th><th scope=col>DeltaPHI</th><th scope=col>PHIND</th><th scope=col>PE</th><th scope=col>isMarine</th><th scope=col>RELPOS</th></tr></thead>\n",
       "<tbody>\n",
       "\t<tr><td>FSiS     </td><td>A1 SH    </td><td>SHRIMPLIN</td><td>2793     </td><td>0.216    </td><td> 0.01855 </td><td>0.512    </td><td>-0.0487  </td><td> 0.421   </td><td>FALSE    </td><td>1.000    </td></tr>\n",
       "\t<tr><td>FSiS     </td><td>A1 SH    </td><td>SHRIMPLIN</td><td>2794     </td><td>0.237    </td><td> 0.00567 </td><td>1.517    </td><td> 0.0736  </td><td>-0.133   </td><td>FALSE    </td><td>0.979    </td></tr>\n",
       "\t<tr><td>FSiS     </td><td>A1 SH    </td><td>SHRIMPLIN</td><td>2794     </td><td>0.258    </td><td>-0.00721 </td><td>1.657    </td><td> 0.1648  </td><td>-0.687   </td><td>FALSE    </td><td>0.957    </td></tr>\n",
       "</tbody>\n",
       "</table>\n"
      ],
      "text/latex": [
       "\\begin{tabular}{r|lllllllllll}\n",
       " Facies & Formation & Well.Name & Depth & GR & ILD\\_log10 & DeltaPHI & PHIND & PE & isMarine & RELPOS\\\\\n",
       "\\hline\n",
       "\t FSiS      & A1 SH     & SHRIMPLIN & 2793      & 0.216     &  0.01855  & 0.512     & -0.0487   &  0.421    & FALSE     & 1.000    \\\\\n",
       "\t FSiS      & A1 SH     & SHRIMPLIN & 2794      & 0.237     &  0.00567  & 1.517     &  0.0736   & -0.133    & FALSE     & 0.979    \\\\\n",
       "\t FSiS      & A1 SH     & SHRIMPLIN & 2794      & 0.258     & -0.00721  & 1.657     &  0.1648   & -0.687    & FALSE     & 0.957    \\\\\n",
       "\\end{tabular}\n"
      ],
      "text/plain": [
       "  Facies Formation Well.Name Depth GR    ILD_log10 DeltaPHI PHIND   PE    \n",
       "1 FSiS   A1 SH     SHRIMPLIN 2793  0.216  0.01855  0.512    -0.0487  0.421\n",
       "2 FSiS   A1 SH     SHRIMPLIN 2794  0.237  0.00567  1.517     0.0736 -0.133\n",
       "3 FSiS   A1 SH     SHRIMPLIN 2794  0.258 -0.00721  1.657     0.1648 -0.687\n",
       "  isMarine RELPOS\n",
       "1 FALSE    1.000 \n",
       "2 FALSE    0.979 \n",
       "3 FALSE    0.957 "
      ]
     },
     "metadata": {},
     "output_type": "display_data"
    }
   ],
   "source": [
    "source(\"loadData.R\")\n",
    "\n",
    "# load and clean the data\n",
    "data <- loadData()\n",
    "data <- cleanData(data)\n",
    "dataPrime <- data.frame()\n",
    "\n",
    "wells <- unique(data$Well.Name)\n",
    "for (well_i in wells) {\n",
    "    data_i <- data[data$Well.Name == well_i,]\n",
    "    \n",
    "    data_i$GR <- (data_i$GR - mean(data_i$GR, na.rm=T)) / sd(data_i$GR, na.rm=T)\n",
    "    data_i$ILD_log10 <- (data_i$ILD_log10 - mean(data_i$ILD_log10, na.rm=T)) / sd(data_i$ILD_log10, na.rm=T)\n",
    "    data_i$DeltaPHI <- (data_i$DeltaPHI - mean(data_i$DeltaPHI, na.rm=T)) / sd(data_i$DeltaPHI, na.rm=T)\n",
    "    data_i$PHIND <- (data_i$PHIND - mean(data_i$PHIND, na.rm=T)) / sd(data_i$PHIND, na.rm=T)\n",
    "    data_i$PE <- (data_i$PE - mean(data_i$PE, na.rm=T)) / sd(data_i$PE, na.rm=T)\n",
    "    \n",
    "    dataPrime <- rbind(dataPrime, data_i)\n",
    "}\n",
    "\n",
    "data <- dataPrime\n",
    "rm(dataPrime)\n",
    "\n",
    "format(head(data,3), digits=3)"
   ]
  },
  {
   "cell_type": "markdown",
   "metadata": {},
   "source": [
    "### Training function  \n",
    "\n",
    "For each **test** observation I will now cross-correlate it's section (the observation and *n* observations above/below it) against each well. Each well will provide the best correlation (averaged across each log) found, as well as the corresponding *facies* at that **train** observation.  \n",
    "\n",
    "My suspicion is that the advantage of this approach will leverage **all** the data. Other approaches must choose between subsetting the observations (as the **PE** log is only available for some wells) or subsetting the features (excluding the **PE** log) in order to utilize all observations.  \n",
    "\n",
    "A disadvantage may be that it does not make sense to utilize our **Recruit F9** pseudowell - as it is composed of manually selected observations independent of spatial context. This approach attempts to leverage spatial (vertical) context by cross-correlating log sections as opposed to looking at each observation individually. This in my opinion is closer to how a petrophysicist works."
   ]
  },
  {
   "cell_type": "code",
   "execution_count": 7,
   "metadata": {
    "collapsed": false,
    "scrolled": true
   },
   "outputs": [],
   "source": [
    "source(\"mirrorData.R\")\n",
    "\n",
    "corrPredict <- function(train, test, l) {\n",
    "\n",
    "    wells <- unique(train$Well.Name)\n",
    "\n",
    "    for (i in 1:nrow(test)) {\n",
    "        top <- i - l / 2 + 1\n",
    "        base <- i + l / 2\n",
    "        test_i <- subsetData(test, top, base)\n",
    "        \n",
    "        for (well_j in wells) {\n",
    "            train_j <- train[train$Well.Name == well_j,]\n",
    "            cors <- data.frame()\n",
    "            \n",
    "            for (k in 1:nrow(train_j)) {\n",
    "                top_k <- k - l / 2 + 1\n",
    "                base_k <- k + l / 2\n",
    "                train_jk <- subsetData(train_j, top_k, base_k)\n",
    "                \n",
    "                corGR <- cor(test_i$GR, train_jk$GR)\n",
    "                corILD <- cor(test_i$ILD_log10, train_jk$ILD_log10)\n",
    "                corDeltaPHI <- cor(test_i$DeltaPHI, train_jk$DeltaPHI)\n",
    "                corPHIND <- cor(test_i$PHIND, train_jk$PHIND)\n",
    "                if (sum(!is.na(test_i$PE)) == nrow(test_i) & sum(!is.na(train_jk$PE)) == nrow(train_jk)) {\n",
    "                    corPE <- cor(test_i$PE, train_jk$PE)\n",
    "                } else { corPE <- NA }\n",
    "                \n",
    "                c <- c(corGR, corILD, corDeltaPHI, corPHIND, corPE)\n",
    "                corAVG <- mean(c, na.rm=T)\n",
    "                temp <- data.frame(corGR=corGR, corILD=corILD, corDeltaPHI=corDeltaPHI, corPHIND=corPHIND, corPE=corPE, \n",
    "                                   corAVG=corAVG, \n",
    "                                   testWell=test_i$Well.Name[i], trainWell=well_j,\n",
    "                                   testDepth=test$Depth[i], trainDepth=train_j$Depth[k])\n",
    "                \n",
    "                cors <- rbind(cors, temp)\n",
    "            }\n",
    "            \n",
    "            best_j <- cors[which.max(cors$corAVG),]\n",
    "            test[i, paste0(\"Facies_\", well_j)] <- train_j[train_j$Depth==best_j$trainDepth[1], \"Facies\"][1]\n",
    "            test[i, paste0(\"Corr_\", well_j)] <- best_j$corAVG[1]\n",
    "        }\n",
    "    }\n",
    "    \n",
    "    test\n",
    "}"
   ]
  },
  {
   "cell_type": "markdown",
   "metadata": {},
   "source": [
    "### Cross-validation  \n",
    "\n",
    "Before we include the contest **test** wells (STUART and CRAWFORD) let's perform some cross-validation to see what type of performance we may expect with this unorthodox machine learning approach. To simulate contest conditions, I will hold as a **test** set each two-well combination possible. The **train** set will be the remaining wells. As such, I will be building a model for each combination and we can see how much the performance varies.  \n",
    "\n",
    "Each well combination will call the previously defined **corrPredict** function which will identify each **train** well's vote. Instead of a democratic vote, I will simply take the highest cross-correlation across all wells and choose that **train** observations Facies as the prediction.  \n",
    "\n",
    "Each well combination will also print out the names of the two test wells and the F1-score from that model."
   ]
  },
  {
   "cell_type": "code",
   "execution_count": null,
   "metadata": {
    "collapsed": false
   },
   "outputs": [],
   "source": [
    "source(\"accuracyMetrics.R\")\n",
    "\n",
    "wells <- unique(data$Well.Name)\n",
    "wells <- wells[!wells %in% c(\"Recruit F9\")]\n",
    "\n",
    "# loop through test well pairs\n",
    "for (i in 1:(length(wells)-1)) {\n",
    "    for (j in (i+1):(length(wells))) {\n",
    "        \n",
    "        trainIndex <- data$Well.Name != wells[i] & data$Well.Name != wells[j]\n",
    "        train <- data[trainIndex & data$Well.Name != \"Recruit F9\",]\n",
    "        test <- data[!trainIndex,]\n",
    "        \n",
    "        trainWells <- unique(train$Well.Name)\n",
    "        \n",
    "        testPrime <- corrPredict(train, test, 20)\n",
    "        print(head(testPrime))\n",
    "        # find the best cross correlation from each well - use that as the predictor\n",
    "#        for (i in 1:nrow(testPrime)) {\n",
    "#            c <- NULL\n",
    "#            f <- NULL\n",
    "            \n",
    "#            for (well_j in trainWells) {\n",
    "#                c <- c(c, testPrime[i, paste0(\"Corr_\", well_j)])\n",
    "#                f <- c(f, testPrime[i, paste0(\"Facies_\", well_j)])\n",
    "#            }\n",
    "            \n",
    "#           j <- which.max(c)\n",
    "#           testPrime[i, \"Predicted\"] <- f[j]\n",
    "#        }\n",
    "        \n",
    "#        testPrime$Predicted <- as.factor(testPrime$Predicted)\n",
    "#        levels(testPrime$Predicted) <- c(\"SS\", \"CSiS\", \"FSiS\", \"SiSh\", \"MS\", \"WS\", \"D\", \"PS\", \"BS\")\n",
    "        \n",
    "#        print(paste(\"-----------\", \n",
    "#                    \"\\nTest well 1:\", wells[i], \n",
    "#                    \"\\nTest well 2:\", wells[j], \n",
    "#                    \"\\nF1-score:\", myF1Metric(testPrime$Predicted, testPrime$Facies),\n",
    "#                    \"\\n-----------\"))\n",
    "    }\n",
    "}"
   ]
  },
  {
   "cell_type": "code",
   "execution_count": null,
   "metadata": {
    "collapsed": false
   },
   "outputs": [],
   "source": []
  }
 ],
 "metadata": {
  "kernelspec": {
   "display_name": "R 3.2",
   "language": "R",
   "name": "ir32"
  },
  "language_info": {
   "codemirror_mode": "r",
   "file_extension": ".r",
   "mimetype": "text/x-r-source",
   "name": "R",
   "pygments_lexer": "r",
   "version": "3.2.4"
  }
 },
 "nbformat": 4,
 "nbformat_minor": 0
}
