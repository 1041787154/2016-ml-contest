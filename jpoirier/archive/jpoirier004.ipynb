{
 "cells": [
  {
   "cell_type": "code",
   "execution_count": 44,
   "metadata": {
    "collapsed": false
   },
   "outputs": [
    {
     "data": {
      "text/html": [
       "'Training Data'"
      ],
      "text/latex": [
       "'Training Data'"
      ],
      "text/markdown": [
       "'Training Data'"
      ],
      "text/plain": [
       "[1] \"Training Data\""
      ]
     },
     "metadata": {},
     "output_type": "display_data"
    },
    {
     "data": {
      "text/html": [
       "<table>\n",
       "<thead><tr><th scope=col>Facies</th><th scope=col>Formation</th><th scope=col>Well.Name</th><th scope=col>Depth</th><th scope=col>GR</th><th scope=col>ILD_log10</th><th scope=col>DeltaPHI</th><th scope=col>PHIND</th><th scope=col>PE</th><th scope=col>isMarine</th><th scope=col>RELPOS</th></tr></thead>\n",
       "<tbody>\n",
       "\t<tr><td>FSiS     </td><td>A1 SH    </td><td>SHRIMPLIN</td><td>2793.0   </td><td>77.45    </td><td>0.664    </td><td> 9.9     </td><td>11.915   </td><td>4.6      </td><td>FALSE    </td><td>1.000    </td></tr>\n",
       "\t<tr><td>FSiS     </td><td>A1 SH    </td><td>SHRIMPLIN</td><td>2793.5   </td><td>78.26    </td><td>0.661    </td><td>14.2     </td><td>12.565   </td><td>4.1      </td><td>FALSE    </td><td>0.979    </td></tr>\n",
       "\t<tr><td>FSiS     </td><td>A1 SH    </td><td>SHRIMPLIN</td><td>2794.0   </td><td>79.05    </td><td>0.658    </td><td>14.8     </td><td>13.050   </td><td>3.6      </td><td>FALSE    </td><td>0.957    </td></tr>\n",
       "</tbody>\n",
       "</table>\n"
      ],
      "text/latex": [
       "\\begin{tabular}{r|lllllllllll}\n",
       " Facies & Formation & Well.Name & Depth & GR & ILD\\_log10 & DeltaPHI & PHIND & PE & isMarine & RELPOS\\\\\n",
       "\\hline\n",
       "\t FSiS      & A1 SH     & SHRIMPLIN & 2793.0    & 77.45     & 0.664     &  9.9      & 11.915    & 4.6       & FALSE     & 1.000    \\\\\n",
       "\t FSiS      & A1 SH     & SHRIMPLIN & 2793.5    & 78.26     & 0.661     & 14.2      & 12.565    & 4.1       & FALSE     & 0.979    \\\\\n",
       "\t FSiS      & A1 SH     & SHRIMPLIN & 2794.0    & 79.05     & 0.658     & 14.8      & 13.050    & 3.6       & FALSE     & 0.957    \\\\\n",
       "\\end{tabular}\n"
      ],
      "text/plain": [
       "  Facies Formation Well.Name Depth  GR    ILD_log10 DeltaPHI PHIND  PE \n",
       "1 FSiS   A1 SH     SHRIMPLIN 2793.0 77.45 0.664      9.9     11.915 4.6\n",
       "2 FSiS   A1 SH     SHRIMPLIN 2793.5 78.26 0.661     14.2     12.565 4.1\n",
       "3 FSiS   A1 SH     SHRIMPLIN 2794.0 79.05 0.658     14.8     13.050 3.6\n",
       "  isMarine RELPOS\n",
       "1 FALSE    1.000 \n",
       "2 FALSE    0.979 \n",
       "3 FALSE    0.957 "
      ]
     },
     "metadata": {},
     "output_type": "display_data"
    },
    {
     "data": {
      "text/html": [
       "'Testing Data'"
      ],
      "text/latex": [
       "'Testing Data'"
      ],
      "text/markdown": [
       "'Testing Data'"
      ],
      "text/plain": [
       "[1] \"Testing Data\""
      ]
     },
     "metadata": {},
     "output_type": "display_data"
    },
    {
     "data": {
      "text/html": [
       "<table>\n",
       "<thead><tr><th></th><th scope=col>Facies</th><th scope=col>Formation</th><th scope=col>Well.Name</th><th scope=col>Depth</th><th scope=col>GR</th><th scope=col>ILD_log10</th><th scope=col>DeltaPHI</th><th scope=col>PHIND</th><th scope=col>PE</th><th scope=col>isMarine</th><th scope=col>RELPOS</th></tr></thead>\n",
       "<tbody>\n",
       "\t<tr><th scope=row>938</th><td>CSiS   </td><td>A1 SH  </td><td>SHANKLE</td><td>2774.5 </td><td>98.36  </td><td>0.642  </td><td>-0.1   </td><td>18.685 </td><td>2.9    </td><td>FALSE  </td><td>1.000  </td></tr>\n",
       "\t<tr><th scope=row>939</th><td>CSiS   </td><td>A1 SH  </td><td>SHANKLE</td><td>2775.0 </td><td>97.57  </td><td>0.631  </td><td> 7.9   </td><td>16.745 </td><td>3.2    </td><td>FALSE  </td><td>0.984  </td></tr>\n",
       "\t<tr><th scope=row>940</th><td>CSiS   </td><td>A1 SH  </td><td>SHANKLE</td><td>2775.5 </td><td>98.41  </td><td>0.615  </td><td>12.8   </td><td>14.105 </td><td>3.2    </td><td>FALSE  </td><td>0.968  </td></tr>\n",
       "</tbody>\n",
       "</table>\n"
      ],
      "text/latex": [
       "\\begin{tabular}{r|lllllllllll}\n",
       "  & Facies & Formation & Well.Name & Depth & GR & ILD\\_log10 & DeltaPHI & PHIND & PE & isMarine & RELPOS\\\\\n",
       "\\hline\n",
       "\t938 & CSiS    & A1 SH   & SHANKLE & 2774.5  & 98.36   & 0.642   & -0.1    & 18.685  & 2.9     & FALSE   & 1.000  \\\\\n",
       "\t939 & CSiS    & A1 SH   & SHANKLE & 2775.0  & 97.57   & 0.631   &  7.9    & 16.745  & 3.2     & FALSE   & 0.984  \\\\\n",
       "\t940 & CSiS    & A1 SH   & SHANKLE & 2775.5  & 98.41   & 0.615   & 12.8    & 14.105  & 3.2     & FALSE   & 0.968  \\\\\n",
       "\\end{tabular}\n"
      ],
      "text/plain": [
       "    Facies Formation Well.Name Depth  GR    ILD_log10 DeltaPHI PHIND  PE \n",
       "938 CSiS   A1 SH     SHANKLE   2774.5 98.36 0.642     -0.1     18.685 2.9\n",
       "939 CSiS   A1 SH     SHANKLE   2775.0 97.57 0.631      7.9     16.745 3.2\n",
       "940 CSiS   A1 SH     SHANKLE   2775.5 98.41 0.615     12.8     14.105 3.2\n",
       "    isMarine RELPOS\n",
       "938 FALSE    1.000 \n",
       "939 FALSE    0.984 \n",
       "940 FALSE    0.968 "
      ]
     },
     "metadata": {},
     "output_type": "display_data"
    }
   ],
   "source": [
    "source(\"loadData.R\")\n",
    "\n",
    "# load and pre-process the data\n",
    "data <- loadData()\n",
    "data <- preProcessData(data)\n",
    "data <- data[complete.cases(data),]\n",
    "\n",
    "# split the data\n",
    "split <- splitData(data, \"SHANKLE\")\n",
    "train <- split[[1]]\n",
    "test <- split[[2]]\n",
    "rm(split)\n",
    "\n",
    "\"Training Data\"\n",
    "head(train,3)\n",
    "\n",
    "\"Testing Data\"\n",
    "head(test,3)"
   ]
  },
  {
   "cell_type": "code",
   "execution_count": 45,
   "metadata": {
    "collapsed": false
   },
   "outputs": [
    {
     "data": {
      "text/html": [
       "<table>\n",
       "<thead><tr><th scope=col>Facies</th><th scope=col>Formation</th><th scope=col>Well.Name</th><th scope=col>Depth</th><th scope=col>GR</th><th scope=col>ILD_log10</th><th scope=col>DeltaPHI</th><th scope=col>PHIND</th><th scope=col>PE</th><th scope=col>isMarine</th><th scope=col>RELPOS</th></tr></thead>\n",
       "<tbody>\n",
       "\t<tr><td>FSiS        </td><td>A1 SH       </td><td>SHRIMPLIN   </td><td>2793.0      </td><td>0.3543263   </td><td>0.08003752  </td><td>1.217824    </td><td>-0.162920681</td><td> 0.8883685  </td><td>FALSE       </td><td>1.000       </td></tr>\n",
       "\t<tr><td>FSiS        </td><td>A1 SH       </td><td>SHRIMPLIN   </td><td>2793.5      </td><td>0.3799504   </td><td>0.06763682  </td><td>2.069998    </td><td>-0.074959992</td><td> 0.3291584  </td><td>FALSE       </td><td>0.979       </td></tr>\n",
       "\t<tr><td>FSiS        </td><td>A1 SH       </td><td>SHRIMPLIN   </td><td>2794.0      </td><td>0.4049418   </td><td>0.05523612  </td><td>2.188906    </td><td>-0.009327786</td><td>-0.2300518  </td><td>FALSE       </td><td>0.957       </td></tr>\n",
       "</tbody>\n",
       "</table>\n"
      ],
      "text/latex": [
       "\\begin{tabular}{r|lllllllllll}\n",
       " Facies & Formation & Well.Name & Depth & GR & ILD\\_log10 & DeltaPHI & PHIND & PE & isMarine & RELPOS\\\\\n",
       "\\hline\n",
       "\t FSiS         & A1 SH        & SHRIMPLIN    & 2793.0       & 0.3543263    & 0.08003752   & 1.217824     & -0.162920681 &  0.8883685   & FALSE        & 1.000       \\\\\n",
       "\t FSiS         & A1 SH        & SHRIMPLIN    & 2793.5       & 0.3799504    & 0.06763682   & 2.069998     & -0.074959992 &  0.3291584   & FALSE        & 0.979       \\\\\n",
       "\t FSiS         & A1 SH        & SHRIMPLIN    & 2794.0       & 0.4049418    & 0.05523612   & 2.188906     & -0.009327786 & -0.2300518   & FALSE        & 0.957       \\\\\n",
       "\\end{tabular}\n"
      ],
      "text/plain": [
       "  Facies Formation Well.Name Depth  GR        ILD_log10  DeltaPHI PHIND       \n",
       "1 FSiS   A1 SH     SHRIMPLIN 2793.0 0.3543263 0.08003752 1.217824 -0.162920681\n",
       "2 FSiS   A1 SH     SHRIMPLIN 2793.5 0.3799504 0.06763682 2.069998 -0.074959992\n",
       "3 FSiS   A1 SH     SHRIMPLIN 2794.0 0.4049418 0.05523612 2.188906 -0.009327786\n",
       "  PE         isMarine RELPOS\n",
       "1  0.8883685 FALSE    1.000 \n",
       "2  0.3291584 FALSE    0.979 \n",
       "3 -0.2300518 FALSE    0.957 "
      ]
     },
     "metadata": {},
     "output_type": "display_data"
    }
   ],
   "source": [
    "source(\"preProcData.R\")\n",
    "\n",
    "# we only want data with complete observations (no missing features)\n",
    "trainPrime <- train[complete.cases(train),]\n",
    "\n",
    "# center and scale the petrophysical log features\n",
    "trainPrime$GR <- (trainPrime$GR - mean(trainPrime$GR)) / sd(trainPrime$GR)\n",
    "trainPrime$ILD_log10 <- (trainPrime$ILD_log10 - mean(trainPrime$ILD_log10)) / sd(trainPrime$ILD_log10)\n",
    "trainPrime$DeltaPHI <- (trainPrime$DeltaPHI - mean(trainPrime$DeltaPHI)) / sd(trainPrime$DeltaPHI)\n",
    "trainPrime$PHIND <- (trainPrime$PHIND - mean(trainPrime$PHIND)) / sd(trainPrime$PHIND)\n",
    "trainPrime$PE <- (trainPrime$PE - mean(trainPrime$PE)) / sd(trainPrime$PE)\n",
    "\n",
    "# center and scale the petrophysical log features\n",
    "testPrime <- test\n",
    "testPrime$GR <- (testPrime$GR - mean(testPrime$GR)) / sd(testPrime$GR)\n",
    "testPrime$ILD_log10 <- (testPrime$ILD_log10 - mean(testPrime$ILD_log10)) / sd(testPrime$ILD_log10)\n",
    "testPrime$DeltaPHI <- (testPrime$DeltaPHI - mean(testPrime$DeltaPHI)) / sd(testPrime$DeltaPHI)\n",
    "testPrime$PHIND <- (testPrime$PHIND - mean(testPrime$PHIND)) / sd(testPrime$PHIND)\n",
    "testPrime$PE <- (testPrime$PE - mean(testPrime$PE)) / sd(testPrime$PE)\n",
    "\n",
    "head(trainPrime,3)"
   ]
  },
  {
   "cell_type": "code",
   "execution_count": 46,
   "metadata": {
    "collapsed": false
   },
   "outputs": [
    {
     "name": "stdout",
     "output_type": "stream",
     "text": [
      "[1] \"l= 10 ...Splitting data\"\n",
      "[1] \"Training model\"\n",
      "[1] \"Predicting cross-validation values\"\n",
      "[1] \"Evaluating model\"\n",
      "[1] \"l= 16 ...Splitting data\"\n",
      "[1] \"Training model\"\n",
      "[1] \"Predicting cross-validation values\"\n",
      "[1] \"Evaluating model\"\n",
      "[1] \"l= 20 ...Splitting data\"\n",
      "[1] \"Training model\"\n",
      "[1] \"Predicting cross-validation values\"\n",
      "[1] \"Evaluating model\"\n",
      "[1] \"l= 24 ...Splitting data\"\n",
      "[1] \"Training model\"\n",
      "[1] \"Predicting cross-validation values\"\n",
      "[1] \"Evaluating model\"\n",
      "[1] \"l= 30 ...Splitting data\"\n",
      "[1] \"Training model\"\n",
      "[1] \"Predicting cross-validation values\"\n",
      "[1] \"Evaluating model\"\n",
      "[1] \"Best F1-Score 0\"\n"
     ]
    },
    {
     "data": {
      "text/plain": [
       "Random Forest \n",
       "\n",
       "2590 samples\n",
       " 187 predictor\n",
       "   9 classes: 'SS', 'CSiS', 'FSiS', 'SiSh', 'MS', 'WS', 'D', 'PS', 'BS' \n",
       "\n",
       "No pre-processing\n",
       "Resampling: Cross-Validated (10 fold, repeated 10 times) \n",
       "Summary of sample sizes: 2332, 2331, 2333, 2329, 2330, 2332, ... \n",
       "Resampling results across tuning parameters:\n",
       "\n",
       "  mtry  Accuracy   Kappa    \n",
       "    2   0.7402541  0.6910370\n",
       "   94   0.7956318  0.7580663\n",
       "  187   0.7885591  0.7497247\n",
       "\n",
       "Kappa was used to select the optimal model using  the largest value.\n",
       "The final value used for the model was mtry = 94. "
      ]
     },
     "metadata": {},
     "output_type": "display_data"
    }
   ],
   "source": [
    "source(\"accuracyMetrics.R\")\n",
    "source(\"preProcData.R\")\n",
    "\n",
    "myF1Metric <- function(data) {\n",
    "    ConfM <- confusion_multi(data$pred, data$obs)\n",
    "    M <- ConfM$confusionMatrix\n",
    "    microF1_score <- microF1(M)\n",
    "    names(microF1_score) <- \"F1\"\n",
    "    \n",
    "    microF1_score\n",
    "}\n",
    "\n",
    "preProcData <- function(data, l) {\n",
    "    badFeatures <- c(\"Formation\", \"Well.Name\", \"Depth\", \"GR\", \"ILD_log10\", \"DeltaPHI\", \"PHIND\", \"PE\", \"isMarine\")\n",
    "    \n",
    "    data <- lagData(data, l)\n",
    "    data <- data[, !(names(data) %in% badFeatures)]\n",
    "    \n",
    "    data\n",
    "}\n",
    "\n",
    "splitData <- function(data, l) {\n",
    "    data <- preProcData(data, l)\n",
    "    \n",
    "    set.seed(1234)\n",
    "    trainIndex <- createDataPartition(data$Facies, p=.8, list=F)\n",
    "    trainData <- data[trainIndex,]\n",
    "    testData <- data[-trainIndex,]\n",
    "    \n",
    "    list(train=trainData, test=testData)\n",
    "}\n",
    "\n",
    "tuneModel <- function(train, l) {\n",
    "    \n",
    "    bestFit <- NA\n",
    "    bestF1 <- 0\n",
    "\n",
    "    fitControl <- trainControl(## 10-fold CV\n",
    "                       method = \"repeatedcv\",\n",
    "                       number = 10,\n",
    "                       ## repeated ten times\n",
    "                       repeats = 10)\n",
    "\n",
    "    for (l_i in l) {\n",
    "        print(paste(\"l=\", l_i, \"...Splitting data\"))\n",
    "        split <- splitData(data, l_i)\n",
    "        trainData <- split[[\"train\"]]\n",
    "        cvTestData <- split[[\"test\"]]\n",
    "        \n",
    "        print(\"Training model\")\n",
    "        set.seed(1234)\n",
    "        fit <- train(Facies ~ ., data=trainData,\n",
    "                    method=\"rf\",\n",
    "                    trControl=fitControl,\n",
    "                    metric=\"Kappa\")\n",
    "        \n",
    "        print(\"Predicting cross-validation values\")\n",
    "        cvTestData$Predicted <- predict(fit, newdata=cvTestData)\n",
    "        \n",
    "        print(\"Evaluating model\")\n",
    "        microF1_score <- myF1Metric(data.frame(pred=cvTestData$Predicted, obs=cvTestData$Facies))\n",
    "        if (microF1_score > bestF1) {\n",
    "            bestFit <- fit\n",
    "        }\n",
    "    }\n",
    "    \n",
    "    print(paste(\"Best F1-Score\", bestF1))\n",
    "    bestFit\n",
    "}\n",
    "\n",
    "tunedFit <- tuneModel(trainPrime, c(10,16,20,24,30))\n",
    "tunedFit"
   ]
  },
  {
   "cell_type": "code",
   "execution_count": 50,
   "metadata": {
    "collapsed": false
   },
   "outputs": [
    {
     "name": "stdout",
     "output_type": "stream",
     "text": [
      "[1] \"Multi F1: 0.444444444444444\"\n"
     ]
    }
   ],
   "source": [
    "source(\"accuracyMetrics.R\")\n",
    "\n",
    "testPrime <- lagData(testPrime, 30)\n",
    "testPrime$Predicted <- predict(tunedFit, newdata=testPrime)\n",
    "\n",
    "ConfM <- confusion_multi(testPrime$Predicted, testPrime$Facies)\n",
    "M <- ConfM$confusionMatrix\n",
    "microF1_score <- microF1(M)\n",
    "print(paste(\"Multi F1:\", microF1_score))"
   ]
  },
  {
   "cell_type": "code",
   "execution_count": 51,
   "metadata": {
    "collapsed": false
   },
   "outputs": [
    {
     "data": {
      "text/plain": [
       "                Length Class      Mode     \n",
       "call                4  -none-     call     \n",
       "type                1  -none-     character\n",
       "predicted        2590  factor     numeric  \n",
       "err.rate         5000  -none-     numeric  \n",
       "confusion          90  -none-     numeric  \n",
       "votes           23310  matrix     numeric  \n",
       "oob.times        2590  -none-     numeric  \n",
       "classes             9  -none-     character\n",
       "importance        187  -none-     numeric  \n",
       "importanceSD        0  -none-     NULL     \n",
       "localImportance     0  -none-     NULL     \n",
       "proximity           0  -none-     NULL     \n",
       "ntree               1  -none-     numeric  \n",
       "mtry                1  -none-     numeric  \n",
       "forest             14  -none-     list     \n",
       "y                2590  factor     numeric  \n",
       "test                0  -none-     NULL     \n",
       "inbag               0  -none-     NULL     \n",
       "xNames            187  -none-     character\n",
       "problemType         1  -none-     character\n",
       "tuneValue           1  data.frame list     \n",
       "obsLevels           9  -none-     character"
      ]
     },
     "metadata": {},
     "output_type": "display_data"
    }
   ],
   "source": [
    "summary(tunedFit)"
   ]
  }
 ],
 "metadata": {
  "kernelspec": {
   "display_name": "R 3.2",
   "language": "R",
   "name": "ir32"
  },
  "language_info": {
   "codemirror_mode": "r",
   "file_extension": ".r",
   "mimetype": "text/x-r-source",
   "name": "R",
   "pygments_lexer": "r",
   "version": "3.2.4"
  }
 },
 "nbformat": 4,
 "nbformat_minor": 0
}
