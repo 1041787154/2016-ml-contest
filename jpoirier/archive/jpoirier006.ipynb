{
 "cells": [
  {
   "cell_type": "code",
   "execution_count": 1,
   "metadata": {
    "collapsed": false
   },
   "outputs": [
    {
     "data": {
      "text/html": [
       "'Raw data:'"
      ],
      "text/latex": [
       "'Raw data:'"
      ],
      "text/markdown": [
       "'Raw data:'"
      ],
      "text/plain": [
       "[1] \"Raw data:\""
      ]
     },
     "metadata": {},
     "output_type": "display_data"
    },
    {
     "data": {
      "text/html": [
       "<table>\n",
       "<thead><tr><th scope=col>Facies</th><th scope=col>Formation</th><th scope=col>Well.Name</th><th scope=col>Depth</th><th scope=col>GR</th><th scope=col>ILD_log10</th><th scope=col>DeltaPHI</th><th scope=col>PHIND</th><th scope=col>PE</th><th scope=col>NM_M</th><th scope=col>RELPOS</th></tr></thead>\n",
       "<tbody>\n",
       "\t<tr><td>3        </td><td>A1 SH    </td><td>SHRIMPLIN</td><td>2793     </td><td>77.5     </td><td>0.664    </td><td> 9.9     </td><td>11.9     </td><td>4.6      </td><td>1        </td><td>1.000    </td></tr>\n",
       "\t<tr><td>3        </td><td>A1 SH    </td><td>SHRIMPLIN</td><td>2794     </td><td>78.3     </td><td>0.661    </td><td>14.2     </td><td>12.6     </td><td>4.1      </td><td>1        </td><td>0.979    </td></tr>\n",
       "\t<tr><td>3        </td><td>A1 SH    </td><td>SHRIMPLIN</td><td>2794     </td><td>79.0     </td><td>0.658    </td><td>14.8     </td><td>13.1     </td><td>3.6      </td><td>1        </td><td>0.957    </td></tr>\n",
       "</tbody>\n",
       "</table>\n"
      ],
      "text/latex": [
       "\\begin{tabular}{r|lllllllllll}\n",
       " Facies & Formation & Well.Name & Depth & GR & ILD\\_log10 & DeltaPHI & PHIND & PE & NM\\_M & RELPOS\\\\\n",
       "\\hline\n",
       "\t 3         & A1 SH     & SHRIMPLIN & 2793      & 77.5      & 0.664     &  9.9      & 11.9      & 4.6       & 1         & 1.000    \\\\\n",
       "\t 3         & A1 SH     & SHRIMPLIN & 2794      & 78.3      & 0.661     & 14.2      & 12.6      & 4.1       & 1         & 0.979    \\\\\n",
       "\t 3         & A1 SH     & SHRIMPLIN & 2794      & 79.0      & 0.658     & 14.8      & 13.1      & 3.6       & 1         & 0.957    \\\\\n",
       "\\end{tabular}\n"
      ],
      "text/plain": [
       "  Facies Formation Well.Name Depth GR   ILD_log10 DeltaPHI PHIND PE  NM_M\n",
       "1 3      A1 SH     SHRIMPLIN 2793  77.5 0.664      9.9     11.9  4.6 1   \n",
       "2 3      A1 SH     SHRIMPLIN 2794  78.3 0.661     14.2     12.6  4.1 1   \n",
       "3 3      A1 SH     SHRIMPLIN 2794  79.0 0.658     14.8     13.1  3.6 1   \n",
       "  RELPOS\n",
       "1 1.000 \n",
       "2 0.979 \n",
       "3 0.957 "
      ]
     },
     "metadata": {},
     "output_type": "display_data"
    },
    {
     "data": {
      "text/html": [
       "'Cleaned data:'"
      ],
      "text/latex": [
       "'Cleaned data:'"
      ],
      "text/markdown": [
       "'Cleaned data:'"
      ],
      "text/plain": [
       "[1] \"Cleaned data:\""
      ]
     },
     "metadata": {},
     "output_type": "display_data"
    },
    {
     "data": {
      "text/html": [
       "<table>\n",
       "<thead><tr><th scope=col>Facies</th><th scope=col>Formation</th><th scope=col>Well.Name</th><th scope=col>Depth</th><th scope=col>GR</th><th scope=col>ILD_log10</th><th scope=col>DeltaPHI</th><th scope=col>PHIND</th><th scope=col>PE</th><th scope=col>isMarine</th><th scope=col>RELPOS</th></tr></thead>\n",
       "<tbody>\n",
       "\t<tr><td>FSiS     </td><td>A1 SH    </td><td>SHRIMPLIN</td><td>2793     </td><td>77.5     </td><td>0.664    </td><td> 9.9     </td><td>11.9     </td><td>4.6      </td><td>FALSE    </td><td>1.000    </td></tr>\n",
       "\t<tr><td>FSiS     </td><td>A1 SH    </td><td>SHRIMPLIN</td><td>2794     </td><td>78.3     </td><td>0.661    </td><td>14.2     </td><td>12.6     </td><td>4.1      </td><td>FALSE    </td><td>0.979    </td></tr>\n",
       "\t<tr><td>FSiS     </td><td>A1 SH    </td><td>SHRIMPLIN</td><td>2794     </td><td>79.0     </td><td>0.658    </td><td>14.8     </td><td>13.1     </td><td>3.6      </td><td>FALSE    </td><td>0.957    </td></tr>\n",
       "</tbody>\n",
       "</table>\n"
      ],
      "text/latex": [
       "\\begin{tabular}{r|lllllllllll}\n",
       " Facies & Formation & Well.Name & Depth & GR & ILD\\_log10 & DeltaPHI & PHIND & PE & isMarine & RELPOS\\\\\n",
       "\\hline\n",
       "\t FSiS      & A1 SH     & SHRIMPLIN & 2793      & 77.5      & 0.664     &  9.9      & 11.9      & 4.6       & FALSE     & 1.000    \\\\\n",
       "\t FSiS      & A1 SH     & SHRIMPLIN & 2794      & 78.3      & 0.661     & 14.2      & 12.6      & 4.1       & FALSE     & 0.979    \\\\\n",
       "\t FSiS      & A1 SH     & SHRIMPLIN & 2794      & 79.0      & 0.658     & 14.8      & 13.1      & 3.6       & FALSE     & 0.957    \\\\\n",
       "\\end{tabular}\n"
      ],
      "text/plain": [
       "  Facies Formation Well.Name Depth GR   ILD_log10 DeltaPHI PHIND PE  isMarine\n",
       "1 FSiS   A1 SH     SHRIMPLIN 2793  77.5 0.664      9.9     11.9  4.6 FALSE   \n",
       "2 FSiS   A1 SH     SHRIMPLIN 2794  78.3 0.661     14.2     12.6  4.1 FALSE   \n",
       "3 FSiS   A1 SH     SHRIMPLIN 2794  79.0 0.658     14.8     13.1  3.6 FALSE   \n",
       "  RELPOS\n",
       "1 1.000 \n",
       "2 0.979 \n",
       "3 0.957 "
      ]
     },
     "metadata": {},
     "output_type": "display_data"
    },
    {
     "data": {
      "text/html": [
       "'Centered and scaled data:'"
      ],
      "text/latex": [
       "'Centered and scaled data:'"
      ],
      "text/markdown": [
       "'Centered and scaled data:'"
      ],
      "text/plain": [
       "[1] \"Centered and scaled data:\""
      ]
     },
     "metadata": {},
     "output_type": "display_data"
    },
    {
     "data": {
      "text/html": [
       "<table>\n",
       "<thead><tr><th scope=col>Facies</th><th scope=col>Formation</th><th scope=col>Well.Name</th><th scope=col>Depth</th><th scope=col>GR</th><th scope=col>ILD_log10</th><th scope=col>DeltaPHI</th><th scope=col>PHIND</th><th scope=col>PE</th><th scope=col>isMarine</th><th scope=col>RELPOS</th></tr></thead>\n",
       "<tbody>\n",
       "\t<tr><td>FSiS     </td><td>A1 SH    </td><td>SHRIMPLIN</td><td>2793     </td><td>0.216    </td><td> 0.01855 </td><td>0.512    </td><td>-0.0487  </td><td> 0.421   </td><td>FALSE    </td><td>1.000    </td></tr>\n",
       "\t<tr><td>FSiS     </td><td>A1 SH    </td><td>SHRIMPLIN</td><td>2794     </td><td>0.237    </td><td> 0.00567 </td><td>1.517    </td><td> 0.0736  </td><td>-0.133   </td><td>FALSE    </td><td>0.979    </td></tr>\n",
       "\t<tr><td>FSiS     </td><td>A1 SH    </td><td>SHRIMPLIN</td><td>2794     </td><td>0.258    </td><td>-0.00721 </td><td>1.657    </td><td> 0.1648  </td><td>-0.687   </td><td>FALSE    </td><td>0.957    </td></tr>\n",
       "</tbody>\n",
       "</table>\n"
      ],
      "text/latex": [
       "\\begin{tabular}{r|lllllllllll}\n",
       " Facies & Formation & Well.Name & Depth & GR & ILD\\_log10 & DeltaPHI & PHIND & PE & isMarine & RELPOS\\\\\n",
       "\\hline\n",
       "\t FSiS      & A1 SH     & SHRIMPLIN & 2793      & 0.216     &  0.01855  & 0.512     & -0.0487   &  0.421    & FALSE     & 1.000    \\\\\n",
       "\t FSiS      & A1 SH     & SHRIMPLIN & 2794      & 0.237     &  0.00567  & 1.517     &  0.0736   & -0.133    & FALSE     & 0.979    \\\\\n",
       "\t FSiS      & A1 SH     & SHRIMPLIN & 2794      & 0.258     & -0.00721  & 1.657     &  0.1648   & -0.687    & FALSE     & 0.957    \\\\\n",
       "\\end{tabular}\n"
      ],
      "text/plain": [
       "  Facies Formation Well.Name Depth GR    ILD_log10 DeltaPHI PHIND   PE    \n",
       "1 FSiS   A1 SH     SHRIMPLIN 2793  0.216  0.01855  0.512    -0.0487  0.421\n",
       "2 FSiS   A1 SH     SHRIMPLIN 2794  0.237  0.00567  1.517     0.0736 -0.133\n",
       "3 FSiS   A1 SH     SHRIMPLIN 2794  0.258 -0.00721  1.657     0.1648 -0.687\n",
       "  isMarine RELPOS\n",
       "1 FALSE    1.000 \n",
       "2 FALSE    0.979 \n",
       "3 FALSE    0.957 "
      ]
     },
     "metadata": {},
     "output_type": "display_data"
    }
   ],
   "source": [
    "source(\"loadData.R\")\n",
    "\n",
    "# load and clean the data\n",
    "raw <- loadData()\n",
    "\n",
    "\"Raw data:\"\n",
    "format(head(raw,3), digits=3)\n",
    "\n",
    "clean <- cleanData(raw)\n",
    "\n",
    "\"Cleaned data:\"\n",
    "format(head(clean,3), digits=3)\n",
    "\n",
    "dataPrime <- data.frame()\n",
    "wells <- unique(clean$Well.Name)\n",
    "\n",
    "for (well_i in wells) {\n",
    "    data_i <- clean[clean$Well.Name == well_i,]\n",
    "    \n",
    "    data_i$GR <- (data_i$GR - mean(data_i$GR, na.rm=T)) / sd(data_i$GR, na.rm=T)\n",
    "    data_i$ILD_log10 <- (data_i$ILD_log10 - mean(data_i$ILD_log10, na.rm=T)) / sd(data_i$ILD_log10, na.rm=T)\n",
    "    data_i$DeltaPHI <- (data_i$DeltaPHI - mean(data_i$DeltaPHI, na.rm=T)) / sd(data_i$DeltaPHI, na.rm=T)\n",
    "    data_i$PHIND <- (data_i$PHIND - mean(data_i$PHIND, na.rm=T)) / sd(data_i$PHIND, na.rm=T)\n",
    "    data_i$PE <- (data_i$PE - mean(data_i$PE, na.rm=T)) / sd(data_i$PE, na.rm=T)\n",
    "    \n",
    "    dataPrime <- rbind(dataPrime, data_i)\n",
    "}\n",
    "\n",
    "cs <- dataPrime\n",
    "rm(dataPrime)\n",
    "\n",
    "\"Centered and scaled data:\"\n",
    "format(head(cs,3), digits=3)"
   ]
  },
  {
   "cell_type": "code",
   "execution_count": 2,
   "metadata": {
    "collapsed": false
   },
   "outputs": [
    {
     "data": {
      "text/html": [
       "'# columns before forward, backward, and central difference feature-building: 11'"
      ],
      "text/latex": [
       "'\\# columns before forward, backward, and central difference feature-building: 11'"
      ],
      "text/markdown": [
       "'# columns before forward, backward, and central difference feature-building: 11'"
      ],
      "text/plain": [
       "[1] \"# columns before forward, backward, and central difference feature-building: 11\""
      ]
     },
     "metadata": {},
     "output_type": "display_data"
    },
    {
     "data": {
      "text/html": [
       "'# columns after lag feature-building: 191'"
      ],
      "text/latex": [
       "'\\# columns after lag feature-building: 191'"
      ],
      "text/markdown": [
       "'# columns after lag feature-building: 191'"
      ],
      "text/plain": [
       "[1] \"# columns after lag feature-building: 191\""
      ]
     },
     "metadata": {},
     "output_type": "display_data"
    },
    {
     "data": {
      "text/html": [
       "<table>\n",
       "<thead><tr><th scope=col>Facies</th><th scope=col>Formation</th><th scope=col>Well.Name</th><th scope=col>Depth</th><th scope=col>RELPOS</th><th scope=col>GR_n15</th><th scope=col>ILD_log10_n15</th><th scope=col>DeltaPHI_n15</th><th scope=col>PHIND_n15</th><th scope=col>isMarine_n15</th><th scope=col>...</th><th scope=col>DeltaPHI_14</th><th scope=col>PHIND_14</th><th scope=col>isMarine_14</th><th scope=col>PE_14</th><th scope=col>GR_15</th><th scope=col>ILD_log10_15</th><th scope=col>DeltaPHI_15</th><th scope=col>PHIND_15</th><th scope=col>isMarine_15</th><th scope=col>PE_15</th></tr></thead>\n",
       "<tbody>\n",
       "\t<tr><td>FSiS     </td><td>A1 SH    </td><td>SHRIMPLIN</td><td>2793     </td><td>1.000    </td><td> 0.23435 </td><td>-0.827   </td><td>0.956    </td><td>-0.0487  </td><td>FALSE    </td><td>...      </td><td>1.540    </td><td>-0.0487  </td><td>FALSE    </td><td> 0.421   </td><td>0.234    </td><td>-0.827   </td><td>0.956    </td><td>-0.0487  </td><td>FALSE    </td><td> 0.421   </td></tr>\n",
       "\t<tr><td>FSiS     </td><td>A1 SH    </td><td>SHRIMPLIN</td><td>2794     </td><td>0.979    </td><td>-0.00292 </td><td>-0.952   </td><td>0.419    </td><td> 0.0736  </td><td>FALSE    </td><td>...      </td><td>1.307    </td><td> 0.0736  </td><td>FALSE    </td><td>-0.133   </td><td>0.555    </td><td>-0.604   </td><td>1.540    </td><td> 0.0736  </td><td>FALSE    </td><td>-0.133   </td></tr>\n",
       "\t<tr><td>FSiS     </td><td>A1 SH    </td><td>SHRIMPLIN</td><td>2794     </td><td>0.957    </td><td>-0.15735 </td><td>-1.038   </td><td>0.255    </td><td> 0.1648  </td><td>FALSE    </td><td>...      </td><td>0.839    </td><td> 0.1648  </td><td>FALSE    </td><td>-0.687   </td><td>0.376    </td><td>-0.527   </td><td>1.307    </td><td> 0.1648  </td><td>FALSE    </td><td>-0.687   </td></tr>\n",
       "</tbody>\n",
       "</table>\n"
      ],
      "text/latex": [
       "\\begin{tabular}{r|lllllllllllllllllllllllllllllllllllllllllllllllllllllllllllllllllllllllllllllllllllllllllllllllllllllllllllllllllllllllllllllllllllllllllllllllllllllllllllllllllllllllllllllllllllllllllllllll}\n",
       " Facies & Formation & Well.Name & Depth & RELPOS & GR\\_n15 & ILD\\_log10\\_n15 & DeltaPHI\\_n15 & PHIND\\_n15 & isMarine\\_n15 & ... & DeltaPHI\\_14 & PHIND\\_14 & isMarine\\_14 & PE\\_14 & GR\\_15 & ILD\\_log10\\_15 & DeltaPHI\\_15 & PHIND\\_15 & isMarine\\_15 & PE\\_15\\\\\n",
       "\\hline\n",
       "\t FSiS      & A1 SH     & SHRIMPLIN & 2793      & 1.000     &  0.23435  & -0.827    & 0.956     & -0.0487   & FALSE     & ...       & 1.540     & -0.0487   & FALSE     &  0.421    & 0.234     & -0.827    & 0.956     & -0.0487   & FALSE     &  0.421   \\\\\n",
       "\t FSiS      & A1 SH     & SHRIMPLIN & 2794      & 0.979     & -0.00292  & -0.952    & 0.419     &  0.0736   & FALSE     & ...       & 1.307     &  0.0736   & FALSE     & -0.133    & 0.555     & -0.604    & 1.540     &  0.0736   & FALSE     & -0.133   \\\\\n",
       "\t FSiS      & A1 SH     & SHRIMPLIN & 2794      & 0.957     & -0.15735  & -1.038    & 0.255     &  0.1648   & FALSE     & ...       & 0.839     &  0.1648   & FALSE     & -0.687    & 0.376     & -0.527    & 1.307     &  0.1648   & FALSE     & -0.687   \\\\\n",
       "\\end{tabular}\n"
      ],
      "text/plain": [
       "  Facies Formation Well.Name Depth RELPOS GR_n15   ILD_log10_n15 DeltaPHI_n15\n",
       "1 FSiS   A1 SH     SHRIMPLIN 2793  1.000   0.23435 -0.827        0.956       \n",
       "2 FSiS   A1 SH     SHRIMPLIN 2794  0.979  -0.00292 -0.952        0.419       \n",
       "3 FSiS   A1 SH     SHRIMPLIN 2794  0.957  -0.15735 -1.038        0.255       \n",
       "  PHIND_n15 isMarine_n15 ... DeltaPHI_14 PHIND_14 isMarine_14 PE_14  GR_15\n",
       "1 -0.0487   FALSE        ... 1.540       -0.0487  FALSE        0.421 0.234\n",
       "2  0.0736   FALSE        ... 1.307        0.0736  FALSE       -0.133 0.555\n",
       "3  0.1648   FALSE        ... 0.839        0.1648  FALSE       -0.687 0.376\n",
       "  ILD_log10_15 DeltaPHI_15 PHIND_15 isMarine_15 PE_15 \n",
       "1 -0.827       0.956       -0.0487  FALSE        0.421\n",
       "2 -0.604       1.540        0.0736  FALSE       -0.133\n",
       "3 -0.527       1.307        0.1648  FALSE       -0.687"
      ]
     },
     "metadata": {},
     "output_type": "display_data"
    }
   ],
   "source": [
    "source(\"preProcData.R\")\n",
    "\n",
    "paste(\"# columns before forward, backward, and central difference feature-building:\", ncol(cs))\n",
    "\n",
    "lag <- lagData(cs, 30)\n",
    "\n",
    "paste(\"# columns after lag feature-building:\", ncol(lag))\n",
    "format(head(lag,3), digits=3)"
   ]
  },
  {
   "cell_type": "markdown",
   "metadata": {},
   "source": [
    "### Training functions"
   ]
  },
  {
   "cell_type": "code",
   "execution_count": 89,
   "metadata": {
    "collapsed": false
   },
   "outputs": [],
   "source": [
    "source(\"trainingFunctions.R\")\n",
    "\n",
    "buildBlendedModel <- function(train, test, p=.25, recruit_wgt=.5) {\n",
    "    blendedModel <- list()\n",
    "\n",
    "    test_wells <- unique(test$Well.Name)\n",
    "    \n",
    "    # build a blended model for each well in the test data\n",
    "    for (well_i in test_wells) {\n",
    "        test_i <- test[test$Well.Name == well_i,]\n",
    "        test_iso <- max(test$Depth) - min(test$Depth)\n",
    "        \n",
    "        # if test well has no PE log - remove PE features from training data\n",
    "        if (sum(is.na(test_i$PE_0)) > 0) {\n",
    "            train_i <- subset(train, select=-c(PE_n15, PE_n14, PE_n13, PE_n12, PE_n11, PE_n10, PE_n9, PE_n8, PE_n7, PE_n6, PE_n5,\n",
    "                                      PE_n4, PE_n3, PE_n2, PE_n1, PE_0, PE_1, PE_2, PE_3, PE_4, PE_5, PE_6, PE_7, PE_8,\n",
    "                                      PE_9, PE_10, PE_11, PE_12, PE_13, PE_14, PE_15))\n",
    "        } else {\n",
    "            train_i <- train\n",
    "        }\n",
    "        \n",
    "        # train and weight models\n",
    "        blendedModel[[well_i]][[\"fits\"]] <- trainBlendedModel(train_i)\n",
    "        blendedModel[[well_i]][[\"weights\"]] <- weightBlendedModel(train_i, test_iso, p, recruit_wgt)\n",
    "    }\n",
    "    \n",
    "    blendedModel\n",
    "}"
   ]
  },
  {
   "cell_type": "markdown",
   "metadata": {},
   "source": [
    "### Evaluation functions"
   ]
  },
  {
   "cell_type": "code",
   "execution_count": 90,
   "metadata": {
    "collapsed": true
   },
   "outputs": [],
   "source": [
    "source(\"evaluationFunctions.R\")\n",
    "\n",
    "predictBlendedModel <- function(test, \n",
    "                                blendedModel, \n",
    "                                classes=c(\"SS\", \"CSiS\", \"FSiS\", \"SiSh\", \"MS\", \"WS\", \"D\", \"PS\", \"BS\")\n",
    "                               ) {\n",
    "    \n",
    "    testPrime <- data.frame()\n",
    "    \n",
    "    test_wells <- unique(test$Well.Name)\n",
    "    \n",
    "    for (well_i in test_wells) {\n",
    "        test_i <- test[test$Well.Name == well_i,]\n",
    "        votes <- tallyVotes(test_i, blendedModel[[well_i]], classes)\n",
    "        test_i$Predicted <- electClass(test_i, votes)\n",
    "        \n",
    "        testPrime <- rbind(testPrime, test_i)\n",
    "    }\n",
    "    \n",
    "    testPrime\n",
    "}"
   ]
  },
  {
   "cell_type": "markdown",
   "metadata": {},
   "source": [
    "### Tuning blending parameters    "
   ]
  },
  {
   "cell_type": "code",
   "execution_count": null,
   "metadata": {
    "collapsed": false
   },
   "outputs": [
    {
     "name": "stderr",
     "output_type": "stream",
     "text": [
      "Loading required package: randomForest\n",
      "randomForest 4.6-12\n",
      "Type rfNews() to see new features/changes/bug fixes.\n",
      "\n",
      "Attaching package: 'randomForest'\n",
      "\n",
      "The following object is masked from 'package:ggplot2':\n",
      "\n",
      "    margin\n",
      "\n"
     ]
    }
   ],
   "source": [
    "source(\"accuracyMetrics.R\")\n",
    "options(warn=-1)\n",
    "\n",
    "t0 <- Sys.time()\n",
    "\n",
    "train <- lag[lag$Well.Name != \"SHRIMPLIN\" & lag$Well.Name != \"CHURCHMAN BIBLE\",]\n",
    "test <- lag[lag$Well.Name == \"SHRIMPLIN\" | lag$Well.Name == \"CHURCHMAN BIBLE\",]\n",
    "\n",
    "ps <- c(.5)\n",
    "rws <- c(.5)\n",
    "\n",
    "for (p in ps) {\n",
    "    for (rw in rws) {\n",
    "        blendedModel <- buildBlendedModel(train, test, p, rw)\n",
    "        testPrime <- predictBlendedModel(test, blendedModel)\n",
    "        f1 <- myF1Metric(testPrime$Predicted, testPrime$Facies)\n",
    "        \n",
    "        print(paste(\"inv dist parameter p:\", p, \", recruit weight:\", rw, \", f1-score\", round(f1,4)))\n",
    "        print(\"-------------\")\n",
    "    }\n",
    "}\n",
    "\n",
    "tn <- Sys.time()\n",
    "print(tn-t0)"
   ]
  },
  {
   "cell_type": "markdown",
   "metadata": {},
   "source": [
    "### Cross-validation  "
   ]
  },
  {
   "cell_type": "code",
   "execution_count": 20,
   "metadata": {
    "collapsed": false,
    "scrolled": true
   },
   "outputs": [
    {
     "name": "stdout",
     "output_type": "stream",
     "text": [
      "[1] \"Test well 1: SHRIMPLIN , Test well 2: ALEXANDER D , f1-score: 0.644444444444444\"\n",
      "[1] \"-------------\"\n",
      "[1] \"Test well 1: SHRIMPLIN , Test well 2: SHANKLE , f1-score: 0.616783216783217\"\n",
      "[1] \"-------------\"\n",
      "[1] \"Test well 1: SHRIMPLIN , Test well 2: LUKE G U , f1-score: 0.603351955307263\"\n",
      "[1] \"-------------\"\n",
      "[1] \"Test well 1: SHRIMPLIN , Test well 2: KIMZEY A , f1-score: 0.678474114441417\"\n",
      "[1] \"-------------\"\n",
      "[1] \"Test well 1: SHRIMPLIN , Test well 2: CROSS H CATTLE , f1-score: 0.674715909090909\"\n",
      "[1] \"-------------\"\n",
      "[1] \"Test well 1: SHRIMPLIN , Test well 2: NOLAN , f1-score: 0.573226544622426\"\n",
      "[1] \"-------------\"\n",
      "[1] \"Test well 1: SHRIMPLIN , Test well 2: NEWBY , f1-score: 0.520763187429854\"\n",
      "[1] \"-------------\"\n",
      "[1] \"Test well 1: SHRIMPLIN , Test well 2: CHURCHMAN BIBLE , f1-score: 0.63001485884101\"\n",
      "[1] \"-------------\"\n",
      "[1] \"Test well 1: ALEXANDER D , Test well 2: SHANKLE , f1-score: 0.625\"\n",
      "[1] \"-------------\"\n",
      "[1] \"Test well 1: ALEXANDER D , Test well 2: LUKE G U , f1-score: 0.653498871331828\"\n",
      "[1] \"-------------\"\n",
      "[1] \"Test well 1: ALEXANDER D , Test well 2: KIMZEY A , f1-score: 0.56447963800905\"\n",
      "[1] \"-------------\"\n",
      "[1] \"Test well 1: ALEXANDER D , Test well 2: CROSS H CATTLE , f1-score: 0.646666666666667\"\n",
      "[1] \"-------------\"\n",
      "[1] \"Test well 1: ALEXANDER D , Test well 2: NOLAN , f1-score: 0.579908675799087\"\n",
      "[1] \"-------------\"\n",
      "[1] \"Test well 1: ALEXANDER D , Test well 2: NEWBY , f1-score: 0.57558790593505\"\n",
      "[1] \"-------------\"\n",
      "[1] \"Test well 1: ALEXANDER D , Test well 2: CHURCHMAN BIBLE , f1-score: 0.599201065246338\"\n",
      "[1] \"-------------\"\n",
      "[1] \"Test well 1: SHANKLE , Test well 2: LUKE G U , f1-score: 0.605504587155963\"\n",
      "[1] \"-------------\"\n",
      "[1] \"Test well 1: SHANKLE , Test well 2: KIMZEY A , f1-score: 0.638680659670165\"\n",
      "[1] \"-------------\"\n",
      "[1] \"Test well 1: SHANKLE , Test well 2: CROSS H CATTLE , f1-score: 0.627300613496933\"\n",
      "[1] \"-------------\"\n",
      "[1] \"Test well 1: SHANKLE , Test well 2: NOLAN , f1-score: 0.646808510638298\"\n",
      "[1] \"-------------\"\n",
      "[1] \"Test well 1: SHANKLE , Test well 2: NEWBY , f1-score: 0.540939597315436\"\n",
      "[1] \"-------------\"\n",
      "[1] \"Test well 1: SHANKLE , Test well 2: CHURCHMAN BIBLE , f1-score: 0.579207920792079\"\n",
      "[1] \"-------------\"\n",
      "[1] \"Test well 1: LUKE G U , Test well 2: KIMZEY A , f1-score: 0.650190114068441\"\n",
      "[1] \"-------------\"\n",
      "[1] \"Test well 1: LUKE G U , Test well 2: CROSS H CATTLE , f1-score: 0.648337595907928\"\n",
      "[1] \"-------------\"\n",
      "[1] \"Test well 1: LUKE G U , Test well 2: NOLAN , f1-score: 0.626146788990826\"\n",
      "[1] \"-------------\"\n",
      "[1] \"Test well 1: LUKE G U , Test well 2: NEWBY , f1-score: 0.546472564389698\"\n",
      "[1] \"-------------\"\n",
      "[1] \"Test well 1: LUKE G U , Test well 2: CHURCHMAN BIBLE , f1-score: 0.617198335644938\"\n",
      "[1] \"-------------\"\n",
      "[1] \"Test well 1: KIMZEY A , Test well 2: CROSS H CATTLE , f1-score: 0.6289592760181\"\n",
      "[1] \"-------------\"\n",
      "[1] \"Test well 1: KIMZEY A , Test well 2: NOLAN , f1-score: 0.632152588555858\"\n",
      "[1] \"-------------\"\n",
      "[1] \"Test well 1: KIMZEY A , Test well 2: NEWBY , f1-score: 0.539181286549708\"\n",
      "[1] \"-------------\"\n",
      "[1] \"Test well 1: KIMZEY A , Test well 2: CHURCHMAN BIBLE , f1-score: 0.6256\"\n",
      "[1] \"-------------\"\n",
      "[1] \"Test well 1: CROSS H CATTLE , Test well 2: NOLAN , f1-score: 0.61119293078056\"\n",
      "[1] \"-------------\"\n",
      "[1] \"Test well 1: CROSS H CATTLE , Test well 2: NEWBY , f1-score: 0.610570236439499\"\n",
      "[1] \"-------------\"\n",
      "[1] \"Test well 1: CROSS H CATTLE , Test well 2: CHURCHMAN BIBLE , f1-score: 0.575277337559429\"\n",
      "[1] \"-------------\"\n",
      "[1] \"Test well 1: NOLAN , Test well 2: NEWBY , f1-score: 0.563463819691578\"\n",
      "[1] \"-------------\"\n",
      "[1] \"Test well 1: NOLAN , Test well 2: CHURCHMAN BIBLE , f1-score: 0.635514018691589\"\n",
      "[1] \"-------------\"\n",
      "[1] \"Test well 1: NEWBY , Test well 2: CHURCHMAN BIBLE , f1-score: 0.543055555555556\"\n",
      "[1] \"-------------\"\n",
      "[1] \"Minimum F1: 0.520763187429854\"\n",
      "[1] \"Average F1: 0.607718649773921\"\n",
      "[1] \"Maximum F1: 0.678474114441417\"\n",
      "Time difference of 8.727254 mins\n"
     ]
    }
   ],
   "source": [
    "source(\"accuracyMetrics.R\")\n",
    "\n",
    "t0 <- Sys.time()\n",
    "\n",
    "f1 <- NULL\n",
    "\n",
    "wells <- unique(lag$Well.Name)\n",
    "wells <- wells[!wells %in% \"Recruit F9\"]\n",
    "\n",
    "for (i in 1:(length(wells)-1)) {\n",
    "    for (j in (i+1):length(wells)) {\n",
    "        trainIndex <- lag$Well.Name != wells[i] & lag$Well.Name != wells[j]\n",
    "        train <- lag[trainIndex,]\n",
    "        test <- lag[!trainIndex,]\n",
    "\n",
    "        blendedModel <- buildBlendedModel(train, test)\n",
    "        testPrime <- predictBlendedModel(test, blendedModel)\n",
    "        \n",
    "        f1_i <- myF1Metric(testPrime$Predicted, testPrime$Facies)\n",
    "        f1 <- c(f1, f1_i)\n",
    "        \n",
    "        print(paste(\"Test well 1:\", wells[i], \", Test well 2:\", wells[j], \", f1-score:\", f1_i))\n",
    "        print(\"-------------\")\n",
    "    }\n",
    "}\n",
    "\n",
    "print(paste(\"Minimum F1:\", min(f1)))\n",
    "print(paste(\"Average F1:\", mean(f1)))\n",
    "print(paste(\"Maximum F1:\", max(f1)))\n",
    "\n",
    "tn <- Sys.time()\n",
    "print(tn-t0)"
   ]
  }
 ],
 "metadata": {
  "kernelspec": {
   "display_name": "R 3.2",
   "language": "R",
   "name": "ir32"
  },
  "language_info": {
   "codemirror_mode": "r",
   "file_extension": ".r",
   "mimetype": "text/x-r-source",
   "name": "R",
   "pygments_lexer": "r",
   "version": "3.2.4"
  }
 },
 "nbformat": 4,
 "nbformat_minor": 0
}
