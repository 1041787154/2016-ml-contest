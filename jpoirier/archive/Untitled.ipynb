{
 "cells": [
  {
   "cell_type": "code",
   "execution_count": 1,
   "metadata": {
    "collapsed": false
   },
   "outputs": [
    {
     "name": "stderr",
     "output_type": "stream",
     "text": [
      "Warning message:\n",
      "\"package 'caret' was built under R version 3.2.5\"Loading required package: lattice\n",
      "Loading required package: ggplot2\n"
     ]
    },
    {
     "data": {
      "text/html": [
       "<table>\n",
       "<thead><tr><th scope=col>Facies</th><th scope=col>Formation</th><th scope=col>Well.Name</th><th scope=col>Depth</th><th scope=col>GR</th><th scope=col>ILD_log10</th><th scope=col>DeltaPHI</th><th scope=col>PHIND</th><th scope=col>PE</th><th scope=col>NM_M</th><th scope=col>RELPOS</th></tr></thead>\n",
       "<tbody>\n",
       "\t<tr><td>3        </td><td>A1 SH    </td><td>SHRIMPLIN</td><td>2793.0   </td><td>77.45    </td><td>0.664    </td><td> 9.9     </td><td>11.915   </td><td>4.6      </td><td>1        </td><td>1.000    </td></tr>\n",
       "\t<tr><td>3        </td><td>A1 SH    </td><td>SHRIMPLIN</td><td>2793.5   </td><td>78.26    </td><td>0.661    </td><td>14.2     </td><td>12.565   </td><td>4.1      </td><td>1        </td><td>0.979    </td></tr>\n",
       "\t<tr><td>3        </td><td>A1 SH    </td><td>SHRIMPLIN</td><td>2794.0   </td><td>79.05    </td><td>0.658    </td><td>14.8     </td><td>13.050   </td><td>3.6      </td><td>1        </td><td>0.957    </td></tr>\n",
       "\t<tr><td>3        </td><td>A1 SH    </td><td>SHRIMPLIN</td><td>2794.5   </td><td>86.10    </td><td>0.655    </td><td>13.9     </td><td>13.115   </td><td>3.5      </td><td>1        </td><td>0.936    </td></tr>\n",
       "\t<tr><td>3        </td><td>A1 SH    </td><td>SHRIMPLIN</td><td>2795.0   </td><td>74.58    </td><td>0.647    </td><td>13.5     </td><td>13.300   </td><td>3.4      </td><td>1        </td><td>0.915    </td></tr>\n",
       "\t<tr><td>3        </td><td>A1 SH    </td><td>SHRIMPLIN</td><td>2795.5   </td><td>73.97    </td><td>0.636    </td><td>14.0     </td><td>13.385   </td><td>3.6      </td><td>1        </td><td>0.894    </td></tr>\n",
       "</tbody>\n",
       "</table>\n"
      ],
      "text/latex": [
       "\\begin{tabular}{r|lllllllllll}\n",
       " Facies & Formation & Well.Name & Depth & GR & ILD\\_log10 & DeltaPHI & PHIND & PE & NM\\_M & RELPOS\\\\\n",
       "\\hline\n",
       "\t 3         & A1 SH     & SHRIMPLIN & 2793.0    & 77.45     & 0.664     &  9.9      & 11.915    & 4.6       & 1         & 1.000    \\\\\n",
       "\t 3         & A1 SH     & SHRIMPLIN & 2793.5    & 78.26     & 0.661     & 14.2      & 12.565    & 4.1       & 1         & 0.979    \\\\\n",
       "\t 3         & A1 SH     & SHRIMPLIN & 2794.0    & 79.05     & 0.658     & 14.8      & 13.050    & 3.6       & 1         & 0.957    \\\\\n",
       "\t 3         & A1 SH     & SHRIMPLIN & 2794.5    & 86.10     & 0.655     & 13.9      & 13.115    & 3.5       & 1         & 0.936    \\\\\n",
       "\t 3         & A1 SH     & SHRIMPLIN & 2795.0    & 74.58     & 0.647     & 13.5      & 13.300    & 3.4       & 1         & 0.915    \\\\\n",
       "\t 3         & A1 SH     & SHRIMPLIN & 2795.5    & 73.97     & 0.636     & 14.0      & 13.385    & 3.6       & 1         & 0.894    \\\\\n",
       "\\end{tabular}\n"
      ],
      "text/plain": [
       "  Facies Formation Well.Name Depth  GR    ILD_log10 DeltaPHI PHIND  PE  NM_M\n",
       "1 3      A1 SH     SHRIMPLIN 2793.0 77.45 0.664      9.9     11.915 4.6 1   \n",
       "2 3      A1 SH     SHRIMPLIN 2793.5 78.26 0.661     14.2     12.565 4.1 1   \n",
       "3 3      A1 SH     SHRIMPLIN 2794.0 79.05 0.658     14.8     13.050 3.6 1   \n",
       "4 3      A1 SH     SHRIMPLIN 2794.5 86.10 0.655     13.9     13.115 3.5 1   \n",
       "5 3      A1 SH     SHRIMPLIN 2795.0 74.58 0.647     13.5     13.300 3.4 1   \n",
       "6 3      A1 SH     SHRIMPLIN 2795.5 73.97 0.636     14.0     13.385 3.6 1   \n",
       "  RELPOS\n",
       "1 1.000 \n",
       "2 0.979 \n",
       "3 0.957 \n",
       "4 0.936 \n",
       "5 0.915 \n",
       "6 0.894 "
      ]
     },
     "metadata": {},
     "output_type": "display_data"
    }
   ],
   "source": [
    "library(caret)\n",
    "\n",
    "data <- read.csv('../facies_vectors.csv', colClasses=c(rep(\"factor\",3), rep(\"numeric\",6), \"factor\", \"numeric\"))\n",
    "head(data)"
   ]
  },
  {
   "cell_type": "code",
   "execution_count": 2,
   "metadata": {
    "collapsed": false
   },
   "outputs": [
    {
     "data": {
      "text/html": [
       "<table>\n",
       "<thead><tr><th scope=col>Facies</th><th scope=col>Formation</th><th scope=col>Well.Name</th><th scope=col>Depth</th><th scope=col>GR</th><th scope=col>ILD_log10</th><th scope=col>DeltaPHI</th><th scope=col>PHIND</th><th scope=col>PE</th><th scope=col>NM_M</th><th scope=col>RELPOS</th></tr></thead>\n",
       "<tbody>\n",
       "\t<tr><td>3        </td><td>A1 SH    </td><td>SHRIMPLIN</td><td>2793.0   </td><td>77.45    </td><td>0.664    </td><td> 9.9     </td><td>11.915   </td><td>4.6      </td><td>1        </td><td>1.000    </td></tr>\n",
       "\t<tr><td>3        </td><td>A1 SH    </td><td>SHRIMPLIN</td><td>2793.5   </td><td>78.26    </td><td>0.661    </td><td>14.2     </td><td>12.565   </td><td>4.1      </td><td>1        </td><td>0.979    </td></tr>\n",
       "\t<tr><td>3        </td><td>A1 SH    </td><td>SHRIMPLIN</td><td>2794.0   </td><td>79.05    </td><td>0.658    </td><td>14.8     </td><td>13.050   </td><td>3.6      </td><td>1        </td><td>0.957    </td></tr>\n",
       "\t<tr><td>3        </td><td>A1 SH    </td><td>SHRIMPLIN</td><td>2794.5   </td><td>86.10    </td><td>0.655    </td><td>13.9     </td><td>13.115   </td><td>3.5      </td><td>1        </td><td>0.936    </td></tr>\n",
       "\t<tr><td>3        </td><td>A1 SH    </td><td>SHRIMPLIN</td><td>2795.0   </td><td>74.58    </td><td>0.647    </td><td>13.5     </td><td>13.300   </td><td>3.4      </td><td>1        </td><td>0.915    </td></tr>\n",
       "\t<tr><td>3        </td><td>A1 SH    </td><td>SHRIMPLIN</td><td>2795.5   </td><td>73.97    </td><td>0.636    </td><td>14.0     </td><td>13.385   </td><td>3.6      </td><td>1        </td><td>0.894    </td></tr>\n",
       "</tbody>\n",
       "</table>\n"
      ],
      "text/latex": [
       "\\begin{tabular}{r|lllllllllll}\n",
       " Facies & Formation & Well.Name & Depth & GR & ILD\\_log10 & DeltaPHI & PHIND & PE & NM\\_M & RELPOS\\\\\n",
       "\\hline\n",
       "\t 3         & A1 SH     & SHRIMPLIN & 2793.0    & 77.45     & 0.664     &  9.9      & 11.915    & 4.6       & 1         & 1.000    \\\\\n",
       "\t 3         & A1 SH     & SHRIMPLIN & 2793.5    & 78.26     & 0.661     & 14.2      & 12.565    & 4.1       & 1         & 0.979    \\\\\n",
       "\t 3         & A1 SH     & SHRIMPLIN & 2794.0    & 79.05     & 0.658     & 14.8      & 13.050    & 3.6       & 1         & 0.957    \\\\\n",
       "\t 3         & A1 SH     & SHRIMPLIN & 2794.5    & 86.10     & 0.655     & 13.9      & 13.115    & 3.5       & 1         & 0.936    \\\\\n",
       "\t 3         & A1 SH     & SHRIMPLIN & 2795.0    & 74.58     & 0.647     & 13.5      & 13.300    & 3.4       & 1         & 0.915    \\\\\n",
       "\t 3         & A1 SH     & SHRIMPLIN & 2795.5    & 73.97     & 0.636     & 14.0      & 13.385    & 3.6       & 1         & 0.894    \\\\\n",
       "\\end{tabular}\n"
      ],
      "text/plain": [
       "  Facies Formation Well.Name Depth  GR    ILD_log10 DeltaPHI PHIND  PE  NM_M\n",
       "1 3      A1 SH     SHRIMPLIN 2793.0 77.45 0.664      9.9     11.915 4.6 1   \n",
       "2 3      A1 SH     SHRIMPLIN 2793.5 78.26 0.661     14.2     12.565 4.1 1   \n",
       "3 3      A1 SH     SHRIMPLIN 2794.0 79.05 0.658     14.8     13.050 3.6 1   \n",
       "4 3      A1 SH     SHRIMPLIN 2794.5 86.10 0.655     13.9     13.115 3.5 1   \n",
       "5 3      A1 SH     SHRIMPLIN 2795.0 74.58 0.647     13.5     13.300 3.4 1   \n",
       "6 3      A1 SH     SHRIMPLIN 2795.5 73.97 0.636     14.0     13.385 3.6 1   \n",
       "  RELPOS\n",
       "1 1.000 \n",
       "2 0.979 \n",
       "3 0.957 \n",
       "4 0.936 \n",
       "5 0.915 \n",
       "6 0.894 "
      ]
     },
     "metadata": {},
     "output_type": "display_data"
    },
    {
     "data": {
      "text/html": [
       "<table>\n",
       "<thead><tr><th></th><th scope=col>Facies</th><th scope=col>Formation</th><th scope=col>Well.Name</th><th scope=col>Depth</th><th scope=col>GR</th><th scope=col>ILD_log10</th><th scope=col>DeltaPHI</th><th scope=col>PHIND</th><th scope=col>PE</th><th scope=col>NM_M</th><th scope=col>RELPOS</th></tr></thead>\n",
       "<tbody>\n",
       "\t<tr><th scope=row>938</th><td>2      </td><td>A1 SH  </td><td>SHANKLE</td><td>2774.5 </td><td>98.36  </td><td>0.642  </td><td>-0.1   </td><td>18.685 </td><td>2.9    </td><td>1      </td><td>1.000  </td></tr>\n",
       "\t<tr><th scope=row>939</th><td>2      </td><td>A1 SH  </td><td>SHANKLE</td><td>2775.0 </td><td>97.57  </td><td>0.631  </td><td> 7.9   </td><td>16.745 </td><td>3.2    </td><td>1      </td><td>0.984  </td></tr>\n",
       "\t<tr><th scope=row>940</th><td>2      </td><td>A1 SH  </td><td>SHANKLE</td><td>2775.5 </td><td>98.41  </td><td>0.615  </td><td>12.8   </td><td>14.105 </td><td>3.2    </td><td>1      </td><td>0.968  </td></tr>\n",
       "\t<tr><th scope=row>941</th><td>2      </td><td>A1 SH  </td><td>SHANKLE</td><td>2776.0 </td><td>85.92  </td><td>0.597  </td><td>13.0   </td><td>13.385 </td><td>3.4    </td><td>1      </td><td>0.952  </td></tr>\n",
       "\t<tr><th scope=row>942</th><td>2      </td><td>A1 SH  </td><td>SHANKLE</td><td>2776.5 </td><td>83.16  </td><td>0.592  </td><td>12.3   </td><td>13.345 </td><td>3.4    </td><td>1      </td><td>0.935  </td></tr>\n",
       "\t<tr><th scope=row>943</th><td>2      </td><td>A1 SH  </td><td>SHANKLE</td><td>2777.0 </td><td>82.56  </td><td>0.599  </td><td>12.9   </td><td>13.105 </td><td>3.5    </td><td>1      </td><td>0.919  </td></tr>\n",
       "</tbody>\n",
       "</table>\n"
      ],
      "text/latex": [
       "\\begin{tabular}{r|lllllllllll}\n",
       "  & Facies & Formation & Well.Name & Depth & GR & ILD\\_log10 & DeltaPHI & PHIND & PE & NM\\_M & RELPOS\\\\\n",
       "\\hline\n",
       "\t938 & 2       & A1 SH   & SHANKLE & 2774.5  & 98.36   & 0.642   & -0.1    & 18.685  & 2.9     & 1       & 1.000  \\\\\n",
       "\t939 & 2       & A1 SH   & SHANKLE & 2775.0  & 97.57   & 0.631   &  7.9    & 16.745  & 3.2     & 1       & 0.984  \\\\\n",
       "\t940 & 2       & A1 SH   & SHANKLE & 2775.5  & 98.41   & 0.615   & 12.8    & 14.105  & 3.2     & 1       & 0.968  \\\\\n",
       "\t941 & 2       & A1 SH   & SHANKLE & 2776.0  & 85.92   & 0.597   & 13.0    & 13.385  & 3.4     & 1       & 0.952  \\\\\n",
       "\t942 & 2       & A1 SH   & SHANKLE & 2776.5  & 83.16   & 0.592   & 12.3    & 13.345  & 3.4     & 1       & 0.935  \\\\\n",
       "\t943 & 2       & A1 SH   & SHANKLE & 2777.0  & 82.56   & 0.599   & 12.9    & 13.105  & 3.5     & 1       & 0.919  \\\\\n",
       "\\end{tabular}\n"
      ],
      "text/plain": [
       "    Facies Formation Well.Name Depth  GR    ILD_log10 DeltaPHI PHIND  PE  NM_M\n",
       "938 2      A1 SH     SHANKLE   2774.5 98.36 0.642     -0.1     18.685 2.9 1   \n",
       "939 2      A1 SH     SHANKLE   2775.0 97.57 0.631      7.9     16.745 3.2 1   \n",
       "940 2      A1 SH     SHANKLE   2775.5 98.41 0.615     12.8     14.105 3.2 1   \n",
       "941 2      A1 SH     SHANKLE   2776.0 85.92 0.597     13.0     13.385 3.4 1   \n",
       "942 2      A1 SH     SHANKLE   2776.5 83.16 0.592     12.3     13.345 3.4 1   \n",
       "943 2      A1 SH     SHANKLE   2777.0 82.56 0.599     12.9     13.105 3.5 1   \n",
       "    RELPOS\n",
       "938 1.000 \n",
       "939 0.984 \n",
       "940 0.968 \n",
       "941 0.952 \n",
       "942 0.935 \n",
       "943 0.919 "
      ]
     },
     "metadata": {},
     "output_type": "display_data"
    }
   ],
   "source": [
    "train <- data[data$Well.Name != \"SHANKLE\",]\n",
    "test <- data[data$Well.Name == \"SHANKLE\",]\n",
    "head(train)\n",
    "head(test)"
   ]
  },
  {
   "cell_type": "code",
   "execution_count": 12,
   "metadata": {
    "collapsed": false
   },
   "outputs": [
    {
     "data": {
      "text/html": [
       "<table>\n",
       "<thead><tr><th scope=col>Facies</th><th scope=col>GR</th><th scope=col>ILD_log10</th><th scope=col>DeltaPHI</th><th scope=col>PHIND</th><th scope=col>PE</th><th scope=col>NM_M</th><th scope=col>RELPOS</th></tr></thead>\n",
       "<tbody>\n",
       "\t<tr><td>3     </td><td>77.45 </td><td>0.664 </td><td> 9.9  </td><td>11.915</td><td>4.6   </td><td>1     </td><td>1.000 </td></tr>\n",
       "\t<tr><td>3     </td><td>78.26 </td><td>0.661 </td><td>14.2  </td><td>12.565</td><td>4.1   </td><td>1     </td><td>0.979 </td></tr>\n",
       "\t<tr><td>3     </td><td>79.05 </td><td>0.658 </td><td>14.8  </td><td>13.050</td><td>3.6   </td><td>1     </td><td>0.957 </td></tr>\n",
       "\t<tr><td>3     </td><td>86.10 </td><td>0.655 </td><td>13.9  </td><td>13.115</td><td>3.5   </td><td>1     </td><td>0.936 </td></tr>\n",
       "\t<tr><td>3     </td><td>74.58 </td><td>0.647 </td><td>13.5  </td><td>13.300</td><td>3.4   </td><td>1     </td><td>0.915 </td></tr>\n",
       "\t<tr><td>3     </td><td>73.97 </td><td>0.636 </td><td>14.0  </td><td>13.385</td><td>3.6   </td><td>1     </td><td>0.894 </td></tr>\n",
       "</tbody>\n",
       "</table>\n"
      ],
      "text/latex": [
       "\\begin{tabular}{r|llllllll}\n",
       " Facies & GR & ILD\\_log10 & DeltaPHI & PHIND & PE & NM\\_M & RELPOS\\\\\n",
       "\\hline\n",
       "\t 3      & 77.45  & 0.664  &  9.9   & 11.915 & 4.6    & 1      & 1.000 \\\\\n",
       "\t 3      & 78.26  & 0.661  & 14.2   & 12.565 & 4.1    & 1      & 0.979 \\\\\n",
       "\t 3      & 79.05  & 0.658  & 14.8   & 13.050 & 3.6    & 1      & 0.957 \\\\\n",
       "\t 3      & 86.10  & 0.655  & 13.9   & 13.115 & 3.5    & 1      & 0.936 \\\\\n",
       "\t 3      & 74.58  & 0.647  & 13.5   & 13.300 & 3.4    & 1      & 0.915 \\\\\n",
       "\t 3      & 73.97  & 0.636  & 14.0   & 13.385 & 3.6    & 1      & 0.894 \\\\\n",
       "\\end{tabular}\n"
      ],
      "text/plain": [
       "  Facies GR    ILD_log10 DeltaPHI PHIND  PE  NM_M RELPOS\n",
       "1 3      77.45 0.664      9.9     11.915 4.6 1    1.000 \n",
       "2 3      78.26 0.661     14.2     12.565 4.1 1    0.979 \n",
       "3 3      79.05 0.658     14.8     13.050 3.6 1    0.957 \n",
       "4 3      86.10 0.655     13.9     13.115 3.5 1    0.936 \n",
       "5 3      74.58 0.647     13.5     13.300 3.4 1    0.915 \n",
       "6 3      73.97 0.636     14.0     13.385 3.6 1    0.894 "
      ]
     },
     "metadata": {},
     "output_type": "display_data"
    }
   ],
   "source": [
    "shrimplin <- data[data$Well.Name == \"SHRIMPLIN\", c(1,5,6,7,8,9,10,11)]\n",
    "head(shrimplin)"
   ]
  },
  {
   "cell_type": "code",
   "execution_count": 13,
   "metadata": {
    "collapsed": false
   },
   "outputs": [
    {
     "name": "stdout",
     "output_type": "stream",
     "text": [
      "[1] \"1\" \"2\" \"3\" \"4\" \"5\" \"6\" \"7\" \"8\" \"9\"\n",
      "\n",
      "  1   2   3   4   5   6   7   8   9 \n",
      "  0 118 123  18  63  63   5  69  12 \n",
      "[1] \"2\" \"3\" \"4\" \"5\" \"6\" \"7\" \"8\" \"9\"\n",
      "\n",
      "  2   3   4   5   6   7   8   9 \n",
      "118 123  18  63  63   5  69  12 \n",
      "Support Vector Machines with Linear Kernel \n",
      "\n",
      "471 samples\n",
      "  7 predictor\n",
      "  8 classes: '2', '3', '4', '5', '6', '7', '8', '9' \n",
      "\n",
      "No pre-processing\n",
      "Resampling: None \n"
     ]
    }
   ],
   "source": [
    "print(levels(shrimplin$Facies))\n",
    "print(table(shrimplin$Facies))\n",
    "shrimplin$Facies <- factor(shrimplin$Facies)\n",
    "print(levels(shrimplin$Facies))\n",
    "print(table(shrimplin$Facies))\n",
    "fitControl <- trainControl(method=\"none\", classProbs=F)\n",
    "fit <- train(Facies ~ ., data=shrimplin, trControl=fitControl, method=\"svmLinear\", cost=10)\n",
    "print(fit)"
   ]
  }
 ],
 "metadata": {
  "kernelspec": {
   "display_name": "R 3.2",
   "language": "R",
   "name": "ir32"
  },
  "language_info": {
   "codemirror_mode": "r",
   "file_extension": ".r",
   "mimetype": "text/x-r-source",
   "name": "R",
   "pygments_lexer": "r",
   "version": "3.2.4"
  }
 },
 "nbformat": 4,
 "nbformat_minor": 0
}
