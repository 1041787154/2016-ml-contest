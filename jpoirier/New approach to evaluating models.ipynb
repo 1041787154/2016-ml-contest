{
 "cells": [
  {
   "cell_type": "markdown",
   "metadata": {},
   "source": [
    "# New approach to evaluating models  \n",
    "#### Joshua Poirier, [NEOS](http://www.neosgeo.com)  \n",
    "2016 SEG Machine Learning Contest  \n",
    "\n",
    "## 1 Introduction  \n",
    "\n",
    "The purpose of this notebook is to establish a new approach to evaluating models for this contest.  I propose a method which borrows from the **K-Folds** and **Leave-one-out** methods, wherein we build the model several times; each model is built by leaving out one well as the test set.  This method is designed to circumvent the circumstances of the contest wherein the prediction capability for the predefined blind well (**Newby**) is a loss function - leading to overfitting.  \n",
    "\n",
    "Time to load supporting libraries and the data!"
   ]
  },
  {
   "cell_type": "code",
   "execution_count": 2,
   "metadata": {
    "collapsed": false
   },
   "outputs": [],
   "source": [
    "# visualization packages\n",
    "library(repr)\n",
    "library(ggplot2)\n",
    "library(ggthemes)\n",
    "library(cowplot)\n",
    "\n",
    "# machine learning packages\n",
    "library(e1071)\n",
    "library(caret)"
   ]
  },
  {
   "cell_type": "code",
   "execution_count": 3,
   "metadata": {
    "collapsed": false
   },
   "outputs": [
    {
     "data": {
      "text/html": [
       "<table>\n",
       "<thead><tr><th scope=col>Facies</th><th scope=col>Formation</th><th scope=col>Well.Name</th><th scope=col>Depth</th><th scope=col>GR</th><th scope=col>ILD_log10</th><th scope=col>DeltaPHI</th><th scope=col>PHIND</th><th scope=col>PE</th><th scope=col>isMarine</th><th scope=col>RELPOS</th></tr></thead>\n",
       "<tbody>\n",
       "\t<tr><td>FSiS     </td><td>A1 SH    </td><td>SHRIMPLIN</td><td>2793.0   </td><td>77.45    </td><td>0.664    </td><td> 9.9     </td><td>11.915   </td><td>4.6      </td><td>FALSE    </td><td>1.000    </td></tr>\n",
       "\t<tr><td>FSiS     </td><td>A1 SH    </td><td>SHRIMPLIN</td><td>2793.5   </td><td>78.26    </td><td>0.661    </td><td>14.2     </td><td>12.565   </td><td>4.1      </td><td>FALSE    </td><td>0.979    </td></tr>\n",
       "\t<tr><td>FSiS     </td><td>A1 SH    </td><td>SHRIMPLIN</td><td>2794.0   </td><td>79.05    </td><td>0.658    </td><td>14.8     </td><td>13.050   </td><td>3.6      </td><td>FALSE    </td><td>0.957    </td></tr>\n",
       "\t<tr><td>FSiS     </td><td>A1 SH    </td><td>SHRIMPLIN</td><td>2794.5   </td><td>86.10    </td><td>0.655    </td><td>13.9     </td><td>13.115   </td><td>3.5      </td><td>FALSE    </td><td>0.936    </td></tr>\n",
       "\t<tr><td>FSiS     </td><td>A1 SH    </td><td>SHRIMPLIN</td><td>2795.0   </td><td>74.58    </td><td>0.647    </td><td>13.5     </td><td>13.300   </td><td>3.4      </td><td>FALSE    </td><td>0.915    </td></tr>\n",
       "\t<tr><td>FSiS     </td><td>A1 SH    </td><td>SHRIMPLIN</td><td>2795.5   </td><td>73.97    </td><td>0.636    </td><td>14.0     </td><td>13.385   </td><td>3.6      </td><td>FALSE    </td><td>0.894    </td></tr>\n",
       "</tbody>\n",
       "</table>\n"
      ],
      "text/latex": [
       "\\begin{tabular}{r|lllllllllll}\n",
       " Facies & Formation & Well.Name & Depth & GR & ILD\\_log10 & DeltaPHI & PHIND & PE & isMarine & RELPOS\\\\\n",
       "\\hline\n",
       "\t FSiS      & A1 SH     & SHRIMPLIN & 2793.0    & 77.45     & 0.664     &  9.9      & 11.915    & 4.6       & FALSE     & 1.000    \\\\\n",
       "\t FSiS      & A1 SH     & SHRIMPLIN & 2793.5    & 78.26     & 0.661     & 14.2      & 12.565    & 4.1       & FALSE     & 0.979    \\\\\n",
       "\t FSiS      & A1 SH     & SHRIMPLIN & 2794.0    & 79.05     & 0.658     & 14.8      & 13.050    & 3.6       & FALSE     & 0.957    \\\\\n",
       "\t FSiS      & A1 SH     & SHRIMPLIN & 2794.5    & 86.10     & 0.655     & 13.9      & 13.115    & 3.5       & FALSE     & 0.936    \\\\\n",
       "\t FSiS      & A1 SH     & SHRIMPLIN & 2795.0    & 74.58     & 0.647     & 13.5      & 13.300    & 3.4       & FALSE     & 0.915    \\\\\n",
       "\t FSiS      & A1 SH     & SHRIMPLIN & 2795.5    & 73.97     & 0.636     & 14.0      & 13.385    & 3.6       & FALSE     & 0.894    \\\\\n",
       "\\end{tabular}\n"
      ],
      "text/plain": [
       "  Facies Formation Well.Name Depth  GR    ILD_log10 DeltaPHI PHIND  PE \n",
       "1 FSiS   A1 SH     SHRIMPLIN 2793.0 77.45 0.664      9.9     11.915 4.6\n",
       "2 FSiS   A1 SH     SHRIMPLIN 2793.5 78.26 0.661     14.2     12.565 4.1\n",
       "3 FSiS   A1 SH     SHRIMPLIN 2794.0 79.05 0.658     14.8     13.050 3.6\n",
       "4 FSiS   A1 SH     SHRIMPLIN 2794.5 86.10 0.655     13.9     13.115 3.5\n",
       "5 FSiS   A1 SH     SHRIMPLIN 2795.0 74.58 0.647     13.5     13.300 3.4\n",
       "6 FSiS   A1 SH     SHRIMPLIN 2795.5 73.97 0.636     14.0     13.385 3.6\n",
       "  isMarine RELPOS\n",
       "1 FALSE    1.000 \n",
       "2 FALSE    0.979 \n",
       "3 FALSE    0.957 \n",
       "4 FALSE    0.936 \n",
       "5 FALSE    0.915 \n",
       "6 FALSE    0.894 "
      ]
     },
     "metadata": {},
     "output_type": "display_data"
    }
   ],
   "source": [
    "# load data\n",
    "fname <- \"../facies_vectors.csv\"\n",
    "data <- read.csv(fname, colClasses=c(rep(\"factor\",3), rep(\"numeric\",6), \"factor\", \"numeric\"))\n",
    "\n",
    "# convert NM_M channel into a binary channel \"isMarine\"\n",
    "data$NM_M <- data$NM_M == \"2\"\n",
    "names(data)[10] <- \"isMarine\"\n",
    "\n",
    "# make the Facies channel more descriptive\n",
    "levels(data$Facies) <- c(\"SS\", \"CSiS\", \"FSiS\", \"SiSh\", \"MS\", \"WS\", \"D\", \"PS\", \"BS\")\n",
    "\n",
    "# remove any incomplete records (we know from jpoirier001.ipynb PE channel is missing some values)\n",
    "data <- data[complete.cases(data),]\n",
    "\n",
    "# display first five rows of data set\n",
    "head(data)"
   ]
  },
  {
   "cell_type": "markdown",
   "metadata": {},
   "source": [
    "## 2 Tuning SVM parameters\n",
    "\n",
    "Noww let's apply our well-folds methodology wherein we loop through the wells and the current well iteration functions as the cross-validation data set while the remaining wells function as the training data.  Our tuning in *jpoirier001.ipynb* found that (using the randomly split data) the optimal SVM parameters were 10 for **Cost** and 1 for **Gamma**.  The tuning function tried **Cost** values of 0.01, 1, 5, 10, 20, 50, 100, 1000, 5000, and 10000 and **Gamma** values of 0.0001, 0.001, 0.01, 1, and 10.  Since we're going to apply this computationally intensive procedure multiple times, let's trim off a few of the end values.  \n",
    "\n",
    "Also note that we will not isolate the **Recruit F9** \"well\" because it is not a true well but a manually selected set of observations of the Bafflestone facies.  \n",
    "\n",
    "Let's start by building a function which tunes an SVM (Support Vector Machine) model.  We'll have it taken in two parameters:  **data** which is a data frame containing all observations from all wells, and **well** which is a string identifying which well should be used as the cross-validation set.  The function will start out by isolating the given well's data followed by tuning the SVM algorithm using a variety of **Cost** and **Gamma** parameters.  It then returns a list of each parameter pair and their associated performance.  Please note, this function may take several (if not tens of) minutes to complete. "
   ]
  },
  {
   "cell_type": "code",
   "execution_count": 7,
   "metadata": {
    "collapsed": false,
    "scrolled": false
   },
   "outputs": [],
   "source": [
    "# WARNING: this function will take several minutes to complete\n",
    "tune_svm <- function(data, well) {\n",
    "    set.seed(3124)\n",
    "    \n",
    "    # isolate the well data\n",
    "    cvIndex <- data$Well.Name == well\n",
    "    cv <- data[cvIndex,]\n",
    "    \n",
    "    # apply tuning and return performances\n",
    "    tune.out <- tune(svm, Facies ~ ., data=cv, \n",
    "                 kernel=\"radial\",\n",
    "                 ranges=list(cost=c(16,18,20,22,24,26,28,30,32,34),\n",
    "                            gamma=c(.05,.1,.15,.2,.25,.3,.35,.4,.45,.5)))\n",
    "    \n",
    "    tune.out$performances\n",
    "}"
   ]
  },
  {
   "cell_type": "markdown",
   "metadata": {},
   "source": [
    "Now let's implement a new cross-validation method.  I'm calling it **Well-Folds**.  It combines the ideas behind **K-folds** and **leave-one-out**.  The idea is to **leave-one-out** where *one* is an entire well of observations.  It is similar to **K-folds** in that we are folding over the data set.  \n",
    "\n",
    "Why **Well-Folds**?  In this type of geoscience problem we are interested in developing a predictive model to classify facies for wells which do not have facies data recorded from core.  While classic machine learning problems are focused on predicting the outcome of a new observation, this geoscience application is interested in predicting the outcome (facies) for a set of observations from a new well.  The **Well-Folds** method best simulates this.  \n",
    "\n",
    "Let's now define the **Wells-fold** function.  It will take in two parameters.  The first parameter, **data**, is simply the data frame containing the observations for all wells.  The second parameter, **fxn**, is a function which is to be applied for each well in the **data** data frame."
   ]
  },
  {
   "cell_type": "code",
   "execution_count": 17,
   "metadata": {
    "collapsed": false
   },
   "outputs": [],
   "source": [
    " well_folds_cv <- function(data, fxn) {\n",
    "    # list of wells\n",
    "    wells <- unique(data$Well.Name)\n",
    "    wells <- wells[-(which(wells == \"Recruit F9\"))]\n",
    "    \n",
    "    # initialize performances data frame\n",
    "    performances <- data.frame(cost=numeric(), gamma=numeric(), error=numeric(), dispersion=numeric(), well=factor())\n",
    "    \n",
    "    # tune algorithm for each well, record and return performance\n",
    "    for (well in wells) {\n",
    "        temp <- fxn(data, well)\n",
    "        temp$well <- well\n",
    "        performances <- rbind(performances, temp)\n",
    "    }\n",
    "     \n",
    "    # return data frame of parameters (incl. well) and their performance\n",
    "    performances\n",
    "}"
   ]
  },
  {
   "cell_type": "markdown",
   "metadata": {},
   "source": [
    "Now that we have our cross-validation (**well-folds**) and tuning functions (**tune_svm**) defined, let's apply them to our data set and preview the resulting parameters and performances."
   ]
  },
  {
   "cell_type": "code",
   "execution_count": 18,
   "metadata": {
    "collapsed": false
   },
   "outputs": [
    {
     "data": {
      "text/html": [
       "<table>\n",
       "<thead><tr><th scope=col>cost</th><th scope=col>gamma</th><th scope=col>error</th><th scope=col>dispersion</th><th scope=col>well</th></tr></thead>\n",
       "<tbody>\n",
       "\t<tr><td>16        </td><td>0.05      </td><td>0.1379876 </td><td>0.04724347</td><td>SHRIMPLIN </td></tr>\n",
       "\t<tr><td>18        </td><td>0.05      </td><td>0.1401152 </td><td>0.04720575</td><td>SHRIMPLIN </td></tr>\n",
       "\t<tr><td>20        </td><td>0.05      </td><td>0.1337323 </td><td>0.05207576</td><td>SHRIMPLIN </td></tr>\n",
       "\t<tr><td>22        </td><td>0.05      </td><td>0.1358599 </td><td>0.05504759</td><td>SHRIMPLIN </td></tr>\n",
       "\t<tr><td>24        </td><td>0.05      </td><td>0.1337323 </td><td>0.05758017</td><td>SHRIMPLIN </td></tr>\n",
       "\t<tr><td>26        </td><td>0.05      </td><td>0.1337323 </td><td>0.05110074</td><td>SHRIMPLIN </td></tr>\n",
       "</tbody>\n",
       "</table>\n"
      ],
      "text/latex": [
       "\\begin{tabular}{r|lllll}\n",
       " cost & gamma & error & dispersion & well\\\\\n",
       "\\hline\n",
       "\t 16         & 0.05       & 0.1379876  & 0.04724347 & SHRIMPLIN \\\\\n",
       "\t 18         & 0.05       & 0.1401152  & 0.04720575 & SHRIMPLIN \\\\\n",
       "\t 20         & 0.05       & 0.1337323  & 0.05207576 & SHRIMPLIN \\\\\n",
       "\t 22         & 0.05       & 0.1358599  & 0.05504759 & SHRIMPLIN \\\\\n",
       "\t 24         & 0.05       & 0.1337323  & 0.05758017 & SHRIMPLIN \\\\\n",
       "\t 26         & 0.05       & 0.1337323  & 0.05110074 & SHRIMPLIN \\\\\n",
       "\\end{tabular}\n"
      ],
      "text/plain": [
       "  cost gamma error     dispersion well     \n",
       "1 16   0.05  0.1379876 0.04724347 SHRIMPLIN\n",
       "2 18   0.05  0.1401152 0.04720575 SHRIMPLIN\n",
       "3 20   0.05  0.1337323 0.05207576 SHRIMPLIN\n",
       "4 22   0.05  0.1358599 0.05504759 SHRIMPLIN\n",
       "5 24   0.05  0.1337323 0.05758017 SHRIMPLIN\n",
       "6 26   0.05  0.1337323 0.05110074 SHRIMPLIN"
      ]
     },
     "metadata": {},
     "output_type": "display_data"
    }
   ],
   "source": [
    "# tune the svm parameters\n",
    "# WARNING: this task can take several minutes (if not tens of minutes) to complete\n",
    "tuning <- well_folds_cv(data, tune_svm)\n",
    "head(tuning)"
   ]
  },
  {
   "cell_type": "markdown",
   "metadata": {},
   "source": [
    "From the first few rows of the tuning results we can see that the model performance (measured by error and dispersion) vary depending on the **Cost** and **Gamma** values.  For each **Cost/Gamma** pair, we have an **error** for each well.  Now let's average those performance figures across the different wells for each **Cost/Gamma** pair and output those parameters which minimize the average error."
   ]
  },
  {
   "cell_type": "code",
   "execution_count": 15,
   "metadata": {
    "collapsed": false
   },
   "outputs": [
    {
     "data": {
      "text/html": [
       "<table>\n",
       "<thead><tr><th></th><th scope=col>cost</th><th scope=col>gamma</th><th scope=col>mean_error</th><th scope=col>sd_error</th></tr></thead>\n",
       "<tbody>\n",
       "\t<tr><th scope=row>32</th><td>22  </td><td>0.1 </td><td>0.16</td><td>0.06</td></tr>\n",
       "</tbody>\n",
       "</table>\n"
      ],
      "text/latex": [
       "\\begin{tabular}{r|llll}\n",
       "  & cost & gamma & mean\\_error & sd\\_error\\\\\n",
       "\\hline\n",
       "\t32 & 22   & 0.1  & 0.16 & 0.06\\\\\n",
       "\\end{tabular}\n"
      ],
      "text/plain": [
       "   cost gamma mean_error sd_error\n",
       "32 22   0.1   0.16       0.06    "
      ]
     },
     "metadata": {},
     "output_type": "display_data"
    }
   ],
   "source": [
    "# extract the unique cost and gamma values used\n",
    "costs <- unique(tuning$cost)\n",
    "gammas <- unique(tuning$gamma)\n",
    "\n",
    "# initialize dataframe for statistics\n",
    "df <- data.frame(cost=numeric(), \n",
    "                 gamma=numeric(), \n",
    "                 mean_error=numeric(), \n",
    "                 sd_error=numeric())\n",
    "\n",
    "# loop through costs and gammas vectors, calculate performance stats for each pair\n",
    "for (cost in costs) {\n",
    "    for (gamma in gammas) {\n",
    "        # retrieve rows for current cost and gamma values\n",
    "        temp <- tuning[tuning$cost == cost & tuning$gamma == gamma,]\n",
    "        \n",
    "        # calculate mean and standard deviation of error\n",
    "        mean_error <- mean(temp$error)\n",
    "        sd_error <- sd(temp$error)\n",
    "        \n",
    "        # add the calculated stats to dataframe\n",
    "        df <- rbind(df, data.frame(cost=cost, \n",
    "                                   gamma=gamma, \n",
    "                                   mean_error=mean_error, \n",
    "                                   sd_error=sd_error))\n",
    "    }\n",
    "}\n",
    "\n",
    "# identify parameters with minimum average error\n",
    "dfmin <- df[which.min(df$mean_error),]\n",
    "round(dfmin,2)"
   ]
  },
  {
   "cell_type": "markdown",
   "metadata": {},
   "source": [
    "This is interesting.  In *jpoirier001.ipynb* our random tuning (using a wider range of parameters) identified a **Cost** of 10 and **Gamma** of 1 to be optimal.  Here, we've found that a **Cost** of 22 and **Gamma** of 0.1 performs best.  To paint a more visual portrait of how the **Cost** and **Gamma** parameter selection influence model performance.  \n",
    "\n",
    "Let's graph the average and standard deviation of the **Error**.  Minimizing the average **Error** will give us the ideal parameters, while the **Standard Deviation** will give us an idea of the uncertainty."
   ]
  },
  {
   "cell_type": "code",
   "execution_count": 16,
   "metadata": {
    "collapsed": false
   },
   "outputs": [
    {
     "data": {},
     "metadata": {},
     "output_type": "display_data"
    },
    {
     "data": {
      "image/png": "[encoded data removed]",
      "text/plain": [
       "plot without title"
      ]
     },
     "metadata": {},
     "output_type": "display_data"
    }
   ],
   "source": [
    "options(repr.plot.width=8, repr.plot.height=4)\n",
    "\n",
    "# mean error across wells\n",
    "g1 <- ggplot(df, aes(cost, gamma, fill=mean_error)) + theme_economist_white(gray_bg=T) +\n",
    "    geom_raster(alpha=.8) +\n",
    "    geom_point(data=dfmin, aes(cost, gamma)) +\n",
    "    geom_text(aes(x=dfmin$cost[1]+4, y=dfmin$gamma[1], \n",
    "                  label=paste(\"Minimum Error =\", round(dfmin$mean_error,2), \n",
    "                              \"\\n Cost=\", dfmin$cost[1], \"\\n Gamma=\", dfmin$gamma[1])), \n",
    "              size=2) +\n",
    "    labs(x=\"Cost\", y=\"Gamma\", title=\"Mean Error\") +\n",
    "    scale_fill_distiller(palette=\"Spectral\", name=\"\", direction=-1) +\n",
    "    theme(legend.position='none', \n",
    "          plot.title=element_text(size=8), \n",
    "          axis.text=element_text(size=8),\n",
    "          axis.title=element_text(size=8),\n",
    "          legend.text=element_text(size=8))\n",
    "\n",
    "# standard deviation of errors across wells\n",
    "g2 <- ggplot(df, aes(cost, gamma, fill=sd_error)) + theme_economist_white(gray_bg=T) +\n",
    "    geom_raster(alpha=.8) +\n",
    "    geom_point(data=dfmin, aes(cost, gamma)) +\n",
    "    geom_text(aes(x=dfmin$cost[1]+4, y=dfmin$gamma[1], \n",
    "                  label=paste(\"Minimum Error =\", round(dfmin$mean_error,2), \n",
    "                              \"\\n Cost=\", dfmin$cost[1], \"\\n Gamma=\", dfmin$gamma[1])), \n",
    "              size=2) +\n",
    "    labs(x=\"Cost\", y=\"Gamma\", title=\"Standard Deviation of Error\") +\n",
    "    scale_fill_distiller(palette=\"Spectral\", name=\"\", direction=-1) +\n",
    "    theme(legend.position='none', \n",
    "          plot.title=element_text(size=8), \n",
    "          axis.text=element_text(size=8),\n",
    "          axis.title=element_text(size=8),\n",
    "          legend.text=element_text(size=8))\n",
    "\n",
    "# bring two plots together and display\n",
    "g <- plot_grid(g1, g2, ncol=2)\n",
    "ggdraw() + \n",
    "    draw_plot(g, width=1, height=1, y=-.01) + \n",
    "    draw_plot_label(\"SVM Tuning\", size=10)"
   ]
  },
  {
   "cell_type": "markdown",
   "metadata": {},
   "source": [
    "The raster plot of the standard deviations do not suggest some anomalous results.  The standard deviation of the minimum error is middling (yellow) - and that's ok.  Let's move forward using these parameters.  \n",
    "\n",
    "## Building and evaluating a classification model  \n"
   ]
  },
  {
   "cell_type": "code",
   "execution_count": null,
   "metadata": {
    "collapsed": false
   },
   "outputs": [],
   "source": []
  }
 ],
 "metadata": {
  "kernelspec": {
   "display_name": "R 3.2",
   "language": "R",
   "name": "ir32"
  },
  "language_info": {
   "codemirror_mode": "r",
   "file_extension": ".r",
   "mimetype": "text/x-r-source",
   "name": "R",
   "pygments_lexer": "r",
   "version": "3.2.4"
  }
 },
 "nbformat": 4,
 "nbformat_minor": 0
}
