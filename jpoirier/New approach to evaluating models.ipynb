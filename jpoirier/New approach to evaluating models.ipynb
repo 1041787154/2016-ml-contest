{
 "cells": [
  {
   "cell_type": "markdown",
   "metadata": {},
   "source": [
    "# New approach to evaluating models  \n",
    "#### Joshua Poirier, [NEOS](http://www.neosgeo.com)  \n",
    "2016 SEG Machine Learning Contest  \n",
    "\n",
    "## 1 Introduction  \n",
    "\n",
    "The purpose of this notebook is to establish a new approach to evaluating models for this contest.  I propose a method which borrows from the **K-Folds** and **Leave-one-out** methods, wherein we build the model several times; each model is built by leaving out one well as the test set.\n",
    "\n",
    "Time to load supporting libraries and the data!  We'll also extract the **Shankle** well from the training data into a blind data set to be used for testing our final model."
   ]
  },
  {
   "cell_type": "code",
   "execution_count": 8,
   "metadata": {
    "collapsed": false
   },
   "outputs": [],
   "source": [
    "# visualization packages\n",
    "library(repr)\n",
    "library(ggplot2)\n",
    "library(ggthemes)\n",
    "library(cowplot)\n",
    "\n",
    "# machine learning packages\n",
    "library(e1071)\n",
    "library(caret)"
   ]
  },
  {
   "cell_type": "code",
   "execution_count": 2,
   "metadata": {
    "collapsed": false
   },
   "outputs": [
    {
     "data": {
      "text/html": [
       "<table>\n",
       "<thead><tr><th scope=col>Facies</th><th scope=col>Formation</th><th scope=col>Well.Name</th><th scope=col>Depth</th><th scope=col>GR</th><th scope=col>ILD_log10</th><th scope=col>DeltaPHI</th><th scope=col>PHIND</th><th scope=col>PE</th><th scope=col>isMarine</th><th scope=col>RELPOS</th></tr></thead>\n",
       "<tbody>\n",
       "\t<tr><td>FSiS     </td><td>A1 SH    </td><td>SHRIMPLIN</td><td>2793.0   </td><td>77.45    </td><td>0.664    </td><td> 9.9     </td><td>11.915   </td><td>4.6      </td><td>FALSE    </td><td>1.000    </td></tr>\n",
       "\t<tr><td>FSiS     </td><td>A1 SH    </td><td>SHRIMPLIN</td><td>2793.5   </td><td>78.26    </td><td>0.661    </td><td>14.2     </td><td>12.565   </td><td>4.1      </td><td>FALSE    </td><td>0.979    </td></tr>\n",
       "\t<tr><td>FSiS     </td><td>A1 SH    </td><td>SHRIMPLIN</td><td>2794.0   </td><td>79.05    </td><td>0.658    </td><td>14.8     </td><td>13.050   </td><td>3.6      </td><td>FALSE    </td><td>0.957    </td></tr>\n",
       "\t<tr><td>FSiS     </td><td>A1 SH    </td><td>SHRIMPLIN</td><td>2794.5   </td><td>86.10    </td><td>0.655    </td><td>13.9     </td><td>13.115   </td><td>3.5      </td><td>FALSE    </td><td>0.936    </td></tr>\n",
       "\t<tr><td>FSiS     </td><td>A1 SH    </td><td>SHRIMPLIN</td><td>2795.0   </td><td>74.58    </td><td>0.647    </td><td>13.5     </td><td>13.300   </td><td>3.4      </td><td>FALSE    </td><td>0.915    </td></tr>\n",
       "\t<tr><td>FSiS     </td><td>A1 SH    </td><td>SHRIMPLIN</td><td>2795.5   </td><td>73.97    </td><td>0.636    </td><td>14.0     </td><td>13.385   </td><td>3.6      </td><td>FALSE    </td><td>0.894    </td></tr>\n",
       "</tbody>\n",
       "</table>\n"
      ],
      "text/latex": [
       "\\begin{tabular}{r|lllllllllll}\n",
       " Facies & Formation & Well.Name & Depth & GR & ILD\\_log10 & DeltaPHI & PHIND & PE & isMarine & RELPOS\\\\\n",
       "\\hline\n",
       "\t FSiS      & A1 SH     & SHRIMPLIN & 2793.0    & 77.45     & 0.664     &  9.9      & 11.915    & 4.6       & FALSE     & 1.000    \\\\\n",
       "\t FSiS      & A1 SH     & SHRIMPLIN & 2793.5    & 78.26     & 0.661     & 14.2      & 12.565    & 4.1       & FALSE     & 0.979    \\\\\n",
       "\t FSiS      & A1 SH     & SHRIMPLIN & 2794.0    & 79.05     & 0.658     & 14.8      & 13.050    & 3.6       & FALSE     & 0.957    \\\\\n",
       "\t FSiS      & A1 SH     & SHRIMPLIN & 2794.5    & 86.10     & 0.655     & 13.9      & 13.115    & 3.5       & FALSE     & 0.936    \\\\\n",
       "\t FSiS      & A1 SH     & SHRIMPLIN & 2795.0    & 74.58     & 0.647     & 13.5      & 13.300    & 3.4       & FALSE     & 0.915    \\\\\n",
       "\t FSiS      & A1 SH     & SHRIMPLIN & 2795.5    & 73.97     & 0.636     & 14.0      & 13.385    & 3.6       & FALSE     & 0.894    \\\\\n",
       "\\end{tabular}\n"
      ],
      "text/plain": [
       "  Facies Formation Well.Name Depth  GR    ILD_log10 DeltaPHI PHIND  PE \n",
       "1 FSiS   A1 SH     SHRIMPLIN 2793.0 77.45 0.664      9.9     11.915 4.6\n",
       "2 FSiS   A1 SH     SHRIMPLIN 2793.5 78.26 0.661     14.2     12.565 4.1\n",
       "3 FSiS   A1 SH     SHRIMPLIN 2794.0 79.05 0.658     14.8     13.050 3.6\n",
       "4 FSiS   A1 SH     SHRIMPLIN 2794.5 86.10 0.655     13.9     13.115 3.5\n",
       "5 FSiS   A1 SH     SHRIMPLIN 2795.0 74.58 0.647     13.5     13.300 3.4\n",
       "6 FSiS   A1 SH     SHRIMPLIN 2795.5 73.97 0.636     14.0     13.385 3.6\n",
       "  isMarine RELPOS\n",
       "1 FALSE    1.000 \n",
       "2 FALSE    0.979 \n",
       "3 FALSE    0.957 \n",
       "4 FALSE    0.936 \n",
       "5 FALSE    0.915 \n",
       "6 FALSE    0.894 "
      ]
     },
     "metadata": {},
     "output_type": "display_data"
    }
   ],
   "source": [
    "# load data\n",
    "fname <- \"../facies_vectors.csv\"\n",
    "data <- read.csv(fname, colClasses=c(rep(\"factor\",3), rep(\"numeric\",6), \"factor\", \"numeric\"))\n",
    "\n",
    "# convert NM_M channel into a binary channel \"isMarine\"\n",
    "data$NM_M <- data$NM_M == \"2\"\n",
    "names(data)[10] <- \"isMarine\"\n",
    "\n",
    "# make the Facies channel more descriptive\n",
    "levels(data$Facies) <- c(\"SS\", \"CSiS\", \"FSiS\", \"SiSh\", \"MS\", \"WS\", \"D\", \"PS\", \"BS\")\n",
    "\n",
    "# remove any incomplete records (we know from jpoirier001.ipynb PE channel is missing some values)\n",
    "data <- data[complete.cases(data),]\n",
    "\n",
    "# split out SHANKLE well as test set into 'blind' data frame\n",
    "test_index <- data$Well.Name == \"SHANKLE\"\n",
    "blind <- data[test_index,]\n",
    "data <- data[!test_index,]\n",
    "\n",
    "# display first five rows of data set\n",
    "head(data)"
   ]
  },
  {
   "cell_type": "markdown",
   "metadata": {},
   "source": [
    "## 2 Model evaluation methodology  \n",
    "\n",
    "The contest is using the overall F1-score (applied to the blind well **Shankle**) to evaluate models.  The highest F1-score wins!  It thereby makes sense that we evaluate our models using the F1-score from tuning through training and testing.  Let's devise a function to take in the models predicted and true values and calculate it's Precision, Recall, and F1-score."
   ]
  },
  {
   "cell_type": "code",
   "execution_count": 3,
   "metadata": {
    "collapsed": true
   },
   "outputs": [],
   "source": [
    "accuracy_metrics <- function(cm, ytrue) {\n",
    "    \n",
    "    # initialize vectors for precision, recall, and f1 metrics with zeros\n",
    "    prec <- rep(0,9)\n",
    "    recall <- rep(0,9)\n",
    "    f1 <- rep(0,9)\n",
    "\n",
    "    # loop through facies to compute precision, recall, and f1 for each facies\n",
    "    beta <- 1\n",
    "    for (i in 1:9) {\n",
    "        prec[i] <- cm[i,i] / sum(cm[i,])\n",
    "        recall[i] <- cm[i,i] / sum(cm[,i])\n",
    "        f1[i] <- (1 + beta^2) * prec[i] * recall[i] / ((beta^2 * prec[i]) + recall[i])\n",
    "    }\n",
    "    \n",
    "    prec[is.na(prec)] <- 0\n",
    "    recall[is.na(recall)] <- 0\n",
    "    f1[is.na(f1)] <- 0\n",
    "    \n",
    "    support <- as.matrix(table(ytrue))\n",
    "    tot_precision <- sum(prec * support) / sum(support)\n",
    "    tot_recall <- sum(recall * support) / sum(support)\n",
    "    tot_f1 <- sum(f1 * support) / sum(support)\n",
    "    \n",
    "    c(tot_precision, tot_recall, tot_f1)\n",
    "}\n",
    "\n",
    "eval_model <- function(ypred, ytrue) {\n",
    "    cm <- confusionMatrix(ypred, ytrue)\n",
    "    accuracy_metrics(as.matrix(cm[[\"table\"]]), ytrue)\n",
    "}"
   ]
  },
  {
   "cell_type": "markdown",
   "metadata": {},
   "source": [
    "## 3 Tuning SVM parameters\n",
    "\n",
    "Noww let's apply our well-folds methodology wherein we loop through the wells and the current well iteration functions as the cross-validation data set while the remaining wells function as the training data.  Our tuning in *jpoirier001.ipynb* found that (using the randomly split data) the optimal SVM parameters were 10 for **Cost** and 1 for **Gamma**.   \n",
    "\n",
    "Also note that we will not isolate the **Recruit F9** \"well\" because it is not a true well but a manually selected set of observations of the Bafflestone facies.  \n",
    "\n",
    "Let's start by building a function which tunes an SVM (Support Vector Machine) model.  We'll have it taken in two parameters:  **data** which is a data frame containing all observations from all wells, and **well** which is a string identifying which well should be used as the cross-validation set.  The function will start out by isolating the given well's data followed by tuning the SVM algorithm using a variety of **Cost** and **Gamma** parameters.  It then returns a list of each parameter pair and their associated performance.  Please note, this function may take several (if not tens of) minutes to complete. "
   ]
  },
  {
   "cell_type": "code",
   "execution_count": 4,
   "metadata": {
    "collapsed": false,
    "scrolled": false
   },
   "outputs": [],
   "source": [
    "# WARNING: this function will take several minutes to complete\n",
    "tune_svm <- function(train, cv) {\n",
    "    \n",
    "    # tuning parameters\n",
    "    costs <- c(.01,5,10,15,20,25,30)\n",
    "    gammas <- c(.0001,.001,.01,.1,1,10)\n",
    "    \n",
    "    # initialize performance dataframe\n",
    "    performances <- data.frame(cost=numeric(), gamma=numeric(), \n",
    "                               precision=numeric(), recall=numeric(), f1=numeric())\n",
    "    \n",
    "    # loop through each cost and gamma pairing\n",
    "    for (c in costs) {\n",
    "        for (g in gammas) {\n",
    "            set.seed(3124)\n",
    "            \n",
    "            # build model and predict facies\n",
    "            fit <- svm(Facies ~ ., data=train, kernel='radial', cost=c, gamma=g)\n",
    "            pred <- predict(fit, newdata=cv)\n",
    "            \n",
    "            # evaluate model and store performance\n",
    "            metrics <- eval_model(pred, cv$Facies)\n",
    "            temp <- data.frame(cost=c, gamma=g, precision=metrics[1], recall=metrics[2], f1=metrics[3])\n",
    "            performances <- rbind(performances, temp)\n",
    "        }\n",
    "    }\n",
    "    \n",
    "    # return data frame of parameters and performances\n",
    "    performances\n",
    "}"
   ]
  },
  {
   "cell_type": "markdown",
   "metadata": {},
   "source": [
    "Now let's implement a new cross-validation method.  I'm calling it **Well-Folds**.  It combines the ideas behind **K-folds** and **leave-one-out**.  The idea is to **leave-one-out** where *one* is an entire well of observations.  It is similar to **K-folds** in that we are folding over the data set.  \n",
    "\n",
    "Why **Well-Folds**?  In this type of geoscience problem we are interested in developing a predictive model to classify facies for wells which do not have facies data recorded from core.  While classic machine learning problems are focused on predicting the outcome of a new observation, this geoscience application is interested in predicting the outcome (facies) for a set of observations from a new well.  The **Well-Folds** method best simulates this.  \n",
    "\n",
    "Let's now define the **Wells-fold** function.  It will take in two parameters.  The first parameter, **data**, is simply the data frame containing the observations for all wells.  The second parameter, **fxn**, is a function which is to be applied for each well in the **data** data frame."
   ]
  },
  {
   "cell_type": "code",
   "execution_count": 5,
   "metadata": {
    "collapsed": false
   },
   "outputs": [],
   "source": [
    " well_folds_cv <- function(data, fxn) {\n",
    "    # list of wells\n",
    "    wells <- unique(data$Well.Name)\n",
    "    wells <- wells[-(which(wells == \"Recruit F9\"))]\n",
    "    \n",
    "    # initialize performances data frame\n",
    "    performances <- data.frame(cost=numeric(), gamma=numeric(), \n",
    "                               precision=numeric(), recall=numeric(), f1=numeric(), \n",
    "                               well=factor())\n",
    "    \n",
    "    # tune algorithm for each well, record and return performance\n",
    "    for (well in wells) {\n",
    "        cvIndex <- data$Well.Name == well\n",
    "        temp <- fxn(data[!cvIndex, -c(2,3,4)], data[cvIndex, -c(2,3,4)])\n",
    "        temp$well <- well\n",
    "        performances <- rbind(performances, temp)\n",
    "    }\n",
    "     \n",
    "    # return data frame of parameters (incl. well) and their performance\n",
    "    performances\n",
    "}"
   ]
  },
  {
   "cell_type": "markdown",
   "metadata": {},
   "source": [
    "Now that we have our cross-validation (**well-folds**) and tuning functions (**tune_svm**) defined, let's apply them to our data set and preview the resulting parameters and performances."
   ]
  },
  {
   "cell_type": "code",
   "execution_count": 9,
   "metadata": {
    "collapsed": false
   },
   "outputs": [
    {
     "data": {
      "text/html": [
       "<table>\n",
       "<thead><tr><th scope=col>cost</th><th scope=col>gamma</th><th scope=col>precision</th><th scope=col>recall</th><th scope=col>f1</th><th scope=col>well</th></tr></thead>\n",
       "<tbody>\n",
       "\t<tr><td>0.01      </td><td>1e-04     </td><td>0.06276567</td><td>0.2505308 </td><td>0.1003825 </td><td>SHRIMPLIN </td></tr>\n",
       "\t<tr><td>0.01      </td><td>1e-03     </td><td>0.06276567</td><td>0.2505308 </td><td>0.1003825 </td><td>SHRIMPLIN </td></tr>\n",
       "\t<tr><td>0.01      </td><td>1e-02     </td><td>0.06276567</td><td>0.2505308 </td><td>0.1003825 </td><td>SHRIMPLIN </td></tr>\n",
       "\t<tr><td>0.01      </td><td>1e-01     </td><td>0.15541413</td><td>0.3821656 </td><td>0.2201880 </td><td>SHRIMPLIN </td></tr>\n",
       "\t<tr><td>0.01      </td><td>1e+00     </td><td>0.06276567</td><td>0.2505308 </td><td>0.1003825 </td><td>SHRIMPLIN </td></tr>\n",
       "\t<tr><td>0.01      </td><td>1e+01     </td><td>0.06276567</td><td>0.2505308 </td><td>0.1003825 </td><td>SHRIMPLIN </td></tr>\n",
       "</tbody>\n",
       "</table>\n"
      ],
      "text/latex": [
       "\\begin{tabular}{r|llllll}\n",
       " cost & gamma & precision & recall & f1 & well\\\\\n",
       "\\hline\n",
       "\t 0.01       & 1e-04      & 0.06276567 & 0.2505308  & 0.1003825  & SHRIMPLIN \\\\\n",
       "\t 0.01       & 1e-03      & 0.06276567 & 0.2505308  & 0.1003825  & SHRIMPLIN \\\\\n",
       "\t 0.01       & 1e-02      & 0.06276567 & 0.2505308  & 0.1003825  & SHRIMPLIN \\\\\n",
       "\t 0.01       & 1e-01      & 0.15541413 & 0.3821656  & 0.2201880  & SHRIMPLIN \\\\\n",
       "\t 0.01       & 1e+00      & 0.06276567 & 0.2505308  & 0.1003825  & SHRIMPLIN \\\\\n",
       "\t 0.01       & 1e+01      & 0.06276567 & 0.2505308  & 0.1003825  & SHRIMPLIN \\\\\n",
       "\\end{tabular}\n"
      ],
      "text/plain": [
       "  cost gamma precision  recall    f1        well     \n",
       "1 0.01 1e-04 0.06276567 0.2505308 0.1003825 SHRIMPLIN\n",
       "2 0.01 1e-03 0.06276567 0.2505308 0.1003825 SHRIMPLIN\n",
       "3 0.01 1e-02 0.06276567 0.2505308 0.1003825 SHRIMPLIN\n",
       "4 0.01 1e-01 0.15541413 0.3821656 0.2201880 SHRIMPLIN\n",
       "5 0.01 1e+00 0.06276567 0.2505308 0.1003825 SHRIMPLIN\n",
       "6 0.01 1e+01 0.06276567 0.2505308 0.1003825 SHRIMPLIN"
      ]
     },
     "metadata": {},
     "output_type": "display_data"
    }
   ],
   "source": [
    "# tune the svm parameters\n",
    "# WARNING: this task can take several minutes (if not tens of minutes) to complete\n",
    "tuning <- well_folds_cv(data, tune_svm)\n",
    "head(tuning)"
   ]
  },
  {
   "cell_type": "markdown",
   "metadata": {},
   "source": [
    "From the first few rows of the tuning results we can see that the model performance (measured by error and dispersion) vary depending on the **Cost** and **Gamma** values.  For each **Cost/Gamma** pair, we have a **precision**, **recall**, and **f1** for each well.  Now let's average those performance figures across the different wells for each **Cost/Gamma** pair and output those parameters which maximize the average F1-score."
   ]
  },
  {
   "cell_type": "code",
   "execution_count": 10,
   "metadata": {
    "collapsed": false
   },
   "outputs": [
    {
     "data": {
      "text/html": [
       "<table>\n",
       "<thead><tr><th></th><th scope=col>cost</th><th scope=col>gamma</th><th scope=col>mean_precision</th><th scope=col>mean_recall</th><th scope=col>mean_f1</th></tr></thead>\n",
       "<tbody>\n",
       "\t<tr><th scope=row>21</th><td>15  </td><td>0.01</td><td>0.55</td><td>0.51</td><td>0.49</td></tr>\n",
       "</tbody>\n",
       "</table>\n"
      ],
      "text/latex": [
       "\\begin{tabular}{r|lllll}\n",
       "  & cost & gamma & mean\\_precision & mean\\_recall & mean\\_f1\\\\\n",
       "\\hline\n",
       "\t21 & 15   & 0.01 & 0.55 & 0.51 & 0.49\\\\\n",
       "\\end{tabular}\n"
      ],
      "text/plain": [
       "   cost gamma mean_precision mean_recall mean_f1\n",
       "21 15   0.01  0.55           0.51        0.49   "
      ]
     },
     "metadata": {},
     "output_type": "display_data"
    }
   ],
   "source": [
    "# extract the unique cost and gamma values used\n",
    "costs <- unique(tuning$cost)\n",
    "gammas <- unique(tuning$gamma)\n",
    "\n",
    "# initialize dataframe for statistics\n",
    "df <- data.frame(cost=numeric(), \n",
    "                 gamma=numeric(), \n",
    "                 mean_precision=numeric(),\n",
    "                 mean_recall=numeric(),\n",
    "                 mean_f1=numeric())\n",
    "\n",
    "# loop through costs and gammas vectors, calculate performance stats for each pair\n",
    "for (cost in costs) {\n",
    "    for (gamma in gammas) {\n",
    "        # retrieve rows for current cost and gamma values\n",
    "        temp <- tuning[tuning$cost == cost & tuning$gamma == gamma,]\n",
    "        \n",
    "        # calculate mean and standard deviation of error\n",
    "        mean_precision <- mean(temp$precision)\n",
    "        mean_recall <- mean(temp$recall)\n",
    "        mean_f1 <- mean(temp$f1)\n",
    "        \n",
    "        # add the calculated stats to dataframe\n",
    "        df <- rbind(df, data.frame(cost=cost, \n",
    "                                   gamma=gamma, \n",
    "                                   mean_precision=mean_precision,\n",
    "                                   mean_recall=mean_recall,\n",
    "                                   mean_f1=mean_f1))\n",
    "    }\n",
    "}\n",
    "\n",
    "# identify parameters with minimum average error\n",
    "dfmax <- df[which.max(df$mean_f1),]\n",
    "round(dfmax,2)"
   ]
  },
  {
   "cell_type": "markdown",
   "metadata": {},
   "source": [
    "This is interesting.  In *jpoirier001.ipynb* our tuning identified a **Cost** of 10 and **Gamma** of 1 to be optimal.  Here, we've found that a **Cost** of 15 and **Gamma** of 0.01 performs best.  To paint a more visual portrait of how the **Cost** and **Gamma** parameter selection influence model performance.  \n",
    "\n",
    "Let's graph the average **precision**, **recall**, and **F1-score** for each **Cost/Gamma** pair.  Maximizing the average **F1-score** will give us the ideal parameters."
   ]
  },
  {
   "cell_type": "code",
   "execution_count": 11,
   "metadata": {
    "collapsed": false
   },
   "outputs": [
    {
     "data": {},
     "metadata": {},
     "output_type": "display_data"
    },
    {
     "data": {
      "image/png": "[encoded data removed]",
      "text/plain": [
       "plot without title"
      ]
     },
     "metadata": {},
     "output_type": "display_data"
    }
   ],
   "source": [
    "options(repr.plot.width=8, repr.plot.height=3)\n",
    "\n",
    "# mean precision across wells\n",
    "g1 <- ggplot(df, aes(cost, gamma, fill=mean_precision)) + theme_economist_white(gray_bg=T) +\n",
    "    geom_raster(alpha=.8) +\n",
    "    geom_point(data=dfmax, aes(cost, gamma)) +\n",
    "    geom_text(aes(x=dfmax$cost[1]-4, y=dfmax$gamma[1], \n",
    "                  label=paste(\"Maximum mean F1-Score =\", round(dfmax$mean_f1,2), \n",
    "                              \"\\n Cost=\", dfmax$cost[1], \"\\n Gamma=\", dfmax$gamma[1])), \n",
    "              size=2) +\n",
    "    scale_y_log10() +\n",
    "    labs(x=\"Cost\", y=\"Gamma\", title=\"Mean Precision\") +\n",
    "    scale_fill_distiller(palette=\"Spectral\", name=\"\", direction=-1) +\n",
    "    theme(legend.position='none', \n",
    "          plot.title=element_text(size=8), \n",
    "          axis.text=element_text(size=8),\n",
    "          axis.title=element_text(size=8),\n",
    "          legend.text=element_text(size=8))\n",
    "\n",
    "# mean recall across wells\n",
    "g2 <- ggplot(df, aes(cost, gamma, fill=mean_recall)) + theme_economist_white(gray_bg=T) +\n",
    "    geom_raster(alpha=.8) +\n",
    "    geom_point(data=dfmax, aes(cost, gamma)) +\n",
    "    geom_text(aes(x=dfmax$cost[1]-4, y=dfmax$gamma[1], \n",
    "                  label=paste(\"Maximum mean F1-Score =\", round(dfmax$mean_f1,2), \n",
    "                              \"\\n Cost=\", dfmax$cost[1], \"\\n Gamma=\", dfmax$gamma[1])), \n",
    "              size=2) +\n",
    "    scale_y_log10() +\n",
    "    labs(x=\"Cost\", y=\"Gamma\", title=\"Mean Recall\") +\n",
    "    scale_fill_distiller(palette=\"Spectral\", name=\"\", direction=-1) +\n",
    "    theme(legend.position='none', \n",
    "          plot.title=element_text(size=8), \n",
    "          axis.text=element_text(size=8),\n",
    "          axis.title=element_text(size=8),\n",
    "          legend.text=element_text(size=8))\n",
    "\n",
    "# mean f1-score across wells\n",
    "g3 <- ggplot(df, aes(cost, gamma, fill=mean_f1)) + theme_economist_white(gray_bg=T) +\n",
    "    geom_raster(alpha=.8) +\n",
    "    geom_point(data=dfmax, aes(cost, gamma)) +\n",
    "    geom_text(aes(x=dfmax$cost[1]-4, y=dfmax$gamma[1], \n",
    "                  label=paste(\"Maximum mean F1-Score =\", round(dfmax$mean_f1,2), \n",
    "                              \"\\n Cost=\", dfmax$cost[1], \"\\n Gamma=\", dfmax$gamma[1])), \n",
    "              size=2) +\n",
    "    scale_y_log10() +\n",
    "    labs(x=\"Cost\", y=\"Gamma\", title=\"Mean F1-Score\") +\n",
    "    scale_fill_distiller(palette=\"Spectral\", name=\"\", direction=-1) +\n",
    "    theme(legend.position='none', \n",
    "          plot.title=element_text(size=8), \n",
    "          axis.text=element_text(size=8),\n",
    "          axis.title=element_text(size=8),\n",
    "          legend.text=element_text(size=8))\n",
    "\n",
    "\n",
    "# bring two plots together and display\n",
    "g <- plot_grid(g1, g2, g3, ncol=3)\n",
    "ggdraw() + \n",
    "    draw_plot(g, width=1, height=1, y=-.01) + \n",
    "    draw_plot_label(\"SVM Tuning\", size=10)"
   ]
  },
  {
   "cell_type": "markdown",
   "metadata": {},
   "source": [
    "These raster plots show that our chosen cost and gamma of 15 and 0.01 respectively maximize the overall F1-score (0.49), and appear to be maxima for the overall precision and recall as well.  \n",
    "\n",
    "## 4 Assessing our training model  \n",
    "\n",
    "Let's now begin training our model using the optimized tuning parameters.  We'll use our **Well-folds** algorithm to average our metrics, gaining an idea of how the model is performing.  But first, we need to define our training function."
   ]
  },
  {
   "cell_type": "code",
   "execution_count": 25,
   "metadata": {
    "collapsed": true
   },
   "outputs": [],
   "source": [
    "# WARNING: this function will take several minutes to complete\n",
    "train_svm <- function(train, cv) {\n",
    "\n",
    "    set.seed(3124)\n",
    "    \n",
    "    # build model and predict facies\n",
    "    fit <- svm(Facies ~ ., data=train, kernel='radial', cost=15, gamma=.01)\n",
    "    pred <- predict(fit, newdata=cv)\n",
    "\n",
    "    # evaluate model and store performance\n",
    "    metrics <- eval_model(pred, cv$Facies)\n",
    "    data.frame(cost=15, gamma=.01, precision=metrics[1], recall=metrics[2], f1=metrics[3])\n",
    "}"
   ]
  },
  {
   "cell_type": "markdown",
   "metadata": {},
   "source": [
    "Our training function (above) takes in a training set and a cross-validation set.  The function builds an SVM model from the training set and applies it to the cross-validation set, returning metrics on the models performance.  Let's apply it to our data!"
   ]
  },
  {
   "cell_type": "code",
   "execution_count": 26,
   "metadata": {
    "collapsed": false
   },
   "outputs": [
    {
     "data": {
      "text/html": [
       "<table>\n",
       "<thead><tr><th scope=col>cost</th><th scope=col>gamma</th><th scope=col>precision</th><th scope=col>recall</th><th scope=col>f1</th><th scope=col>well</th></tr></thead>\n",
       "<tbody>\n",
       "\t<tr><td>15             </td><td>0.01           </td><td>0.66           </td><td>0.56           </td><td>0.52           </td><td>SHRIMPLIN      </td></tr>\n",
       "\t<tr><td>15             </td><td>0.01           </td><td>0.69           </td><td>0.58           </td><td>0.59           </td><td>LUKE G U       </td></tr>\n",
       "\t<tr><td>15             </td><td>0.01           </td><td>0.25           </td><td>0.32           </td><td>0.26           </td><td>CROSS H CATTLE </td></tr>\n",
       "\t<tr><td>15             </td><td>0.01           </td><td>0.58           </td><td>0.55           </td><td>0.54           </td><td>NOLAN          </td></tr>\n",
       "\t<tr><td>15             </td><td>0.01           </td><td>0.57           </td><td>0.52           </td><td>0.50           </td><td>NEWBY          </td></tr>\n",
       "\t<tr><td>15             </td><td>0.01           </td><td>0.56           </td><td>0.52           </td><td>0.50           </td><td>CHURCHMAN BIBLE</td></tr>\n",
       "</tbody>\n",
       "</table>\n"
      ],
      "text/latex": [
       "\\begin{tabular}{r|llllll}\n",
       " cost & gamma & precision & recall & f1 & well\\\\\n",
       "\\hline\n",
       "\t 15              & 0.01            & 0.66            & 0.56            & 0.52            & SHRIMPLIN      \\\\\n",
       "\t 15              & 0.01            & 0.69            & 0.58            & 0.59            & LUKE G U       \\\\\n",
       "\t 15              & 0.01            & 0.25            & 0.32            & 0.26            & CROSS H CATTLE \\\\\n",
       "\t 15              & 0.01            & 0.58            & 0.55            & 0.54            & NOLAN          \\\\\n",
       "\t 15              & 0.01            & 0.57            & 0.52            & 0.50            & NEWBY          \\\\\n",
       "\t 15              & 0.01            & 0.56            & 0.52            & 0.50            & CHURCHMAN BIBLE\\\\\n",
       "\\end{tabular}\n"
      ],
      "text/plain": [
       "  cost gamma precision recall f1   well           \n",
       "1 15   0.01  0.66      0.56   0.52 SHRIMPLIN      \n",
       "2 15   0.01  0.69      0.58   0.59 LUKE G U       \n",
       "3 15   0.01  0.25      0.32   0.26 CROSS H CATTLE \n",
       "4 15   0.01  0.58      0.55   0.54 NOLAN          \n",
       "5 15   0.01  0.57      0.52   0.50 NEWBY          \n",
       "6 15   0.01  0.56      0.52   0.50 CHURCHMAN BIBLE"
      ]
     },
     "metadata": {},
     "output_type": "display_data"
    }
   ],
   "source": [
    "# apply well-folds to train model\n",
    "# WARNING: this task can a couple of minutes to complete\n",
    "train_performance <- well_folds_cv(data, train_svm)\n",
    "train_performance_round <- train_performance\n",
    "train_performance_round[,c(1,2,3,4,5)] <- round(train_performance[,c(1,2,3,4,5)],2)\n",
    "train_performance_round"
   ]
  },
  {
   "cell_type": "markdown",
   "metadata": {},
   "source": [
    "Interesting!  Our model seems to be performing in the 0.5 through 0.6 **F1-score** range with exception to the **Cross H Cattle** well (we'll worry about this in another notebook).  Let's average these out for an estimated model performance."
   ]
  },
  {
   "cell_type": "code",
   "execution_count": 27,
   "metadata": {
    "collapsed": false
   },
   "outputs": [
    {
     "data": {
      "text/html": [
       "<dl class=dl-horizontal>\n",
       "\t<dt>precision</dt>\n",
       "\t\t<dd>0.55</dd>\n",
       "\t<dt>recall</dt>\n",
       "\t\t<dd>0.51</dd>\n",
       "\t<dt>f1</dt>\n",
       "\t\t<dd>0.49</dd>\n",
       "</dl>\n"
      ],
      "text/latex": [
       "\\begin{description*}\n",
       "\\item[precision] 0.55\n",
       "\\item[recall] 0.51\n",
       "\\item[f1] 0.49\n",
       "\\end{description*}\n"
      ],
      "text/markdown": [
       "precision\n",
       ":   0.55recall\n",
       ":   0.51f1\n",
       ":   0.49\n",
       "\n"
      ],
      "text/plain": [
       "precision    recall        f1 \n",
       "     0.55      0.51      0.49 "
      ]
     },
     "metadata": {},
     "output_type": "display_data"
    }
   ],
   "source": [
    "round(apply(train_performance[, c(3,4,5)], 2, mean),2)"
   ]
  },
  {
   "cell_type": "markdown",
   "metadata": {},
   "source": [
    "This suggests our training model has an average **F1-score** of 0.49.  Now let's apply the model to the blind data set!"
   ]
  },
  {
   "cell_type": "markdown",
   "metadata": {},
   "source": [
    "## 5 Applying the model to the blind data set  \n",
    "\n",
    "Here we will take the previously defined parameters and build a model using the training data and the tuned SVM parameters.  We will then output the overall **precision**, **recall**, and **F1-score**."
   ]
  },
  {
   "cell_type": "code",
   "execution_count": 28,
   "metadata": {
    "collapsed": false
   },
   "outputs": [
    {
     "name": "stdout",
     "output_type": "stream",
     "text": [
      "[1] \"Overall Precision: 0.62\"\n",
      "[1] \"Overall Recall: 0.46\"\n",
      "[1] \"Overall F1-score: 0.43\"\n"
     ]
    }
   ],
   "source": [
    "set.seed(3124)\n",
    "\n",
    "# build model and predict facies\n",
    "fit <- svm(Facies ~ ., data=data[,-c(2,3,4)], kernel='radial', cost=15, gamma=.01)\n",
    "pred <- predict(fit, newdata=blind)\n",
    "\n",
    "# evaluate model\n",
    "cm <- confusionMatrix(pred, blind$Facies)\n",
    "metrics <- round(accuracy_metrics(as.matrix(cm[[\"table\"]]), blind$Facies),2)\n",
    "print(paste(\"Overall Precision:\", metrics[1]))\n",
    "print(paste(\"Overall Recall:\", metrics[2]))\n",
    "print(paste(\"Overall F1-score:\", metrics[3]))"
   ]
  }
 ],
 "metadata": {
  "kernelspec": {
   "display_name": "R 3.2",
   "language": "R",
   "name": "ir32"
  },
  "language_info": {
   "codemirror_mode": "r",
   "file_extension": ".r",
   "mimetype": "text/x-r-source",
   "name": "R",
   "pygments_lexer": "r",
   "version": "3.2.4"
  }
 },
 "nbformat": 4,
 "nbformat_minor": 0
}
