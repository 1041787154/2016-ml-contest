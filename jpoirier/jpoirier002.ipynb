{
 "cells": [
  {
   "cell_type": "markdown",
   "metadata": {},
   "source": [
    "# Facies classification using machine learning\n",
    "#### Joshua Poirier, [NEOS](https://www.neosgeo.com/)\n",
    "2016 SEG Machine Learning Competition  \n",
    "\n",
    "## Introduction\n",
    "\n",
    "This notebook demonstrates a novel way of training a machine learning algorithm to predict facies from well log data. The data set we use comes from a class exercise from The University of Kansas on Neural Networks and Fuzzy Systems. This exercise is based on a consortium project to use machine learning techniques to create a reservoir model of the largest gas fields in North America, the Hugoton and Panoma Fields.  \n",
    "\n",
    "The data set we will use contains log data from nine wells that have been labeled with a facies type based on core examination. I use this log data to train support vector machine (SVM) classifiers to predict the facies type. SVM's are a type of supervised learning algorithm which can be trained on data to perform classification and regression. The SVM algorithm uses the training data to fit an optimal hyperplane between the different classes (in our case - facies). \n",
    "\n",
    "My approach is to build multiple models and allow them to **vote** - this process is called **blended modeling**. The novelty in my approach is that I build a model for each well in the training data and weight it based on its cross-correlation with the well of interest. This is intended to re-introduce some spatial geometry to the problem. Wells closer to the well of interest are more likely to exhibit a similar log character. Cross-correlation between close wells should show smaller lag and higher maximum correlation. Furthermore, the lag may be used to pre-process the **RELPOS** (relative position) channel - enhancing the predictive nature of that feature.  \n",
    "\n",
    "To get started, let's load the libraries and supporting files!"
   ]
  },
  {
   "cell_type": "code",
   "execution_count": 42,
   "metadata": {
    "collapsed": false
   },
   "outputs": [
    {
     "name": "stderr",
     "output_type": "stream",
     "text": [
      "Warning message:\n",
      "\"package 'cowplot' was built under R version 3.2.5\"\n",
      "Attaching package: 'cowplot'\n",
      "\n",
      "The following object is masked from 'package:ggplot2':\n",
      "\n",
      "    ggsave\n",
      "\n"
     ]
    }
   ],
   "source": [
    "# supporting visualization libraries\n",
    "library(repr)\n",
    "library(ggplot2)\n",
    "library(ggthemes)\n",
    "library(cowplot)\n",
    "\n",
    "# libraries and supporting files\n",
    "library(e1071)\n",
    "#library(caret)"
   ]
  },
  {
   "cell_type": "markdown",
   "metadata": {},
   "source": [
    "## Loading and splitting the data  \n",
    "\n",
    "Blahblahblah"
   ]
  },
  {
   "cell_type": "code",
   "execution_count": 2,
   "metadata": {
    "collapsed": true
   },
   "outputs": [],
   "source": [
    "# function to load data\n",
    "loadData <- function() {\n",
    "    fname <- \"../facies_vectors.csv\"\n",
    "    data <- read.csv(fname, colClasses=c(rep(\"factor\",3), rep(\"numeric\",6), \"factor\", \"numeric\"))\n",
    "    \n",
    "    data\n",
    "}"
   ]
  },
  {
   "cell_type": "code",
   "execution_count": 3,
   "metadata": {
    "collapsed": true
   },
   "outputs": [],
   "source": [
    "# function to pre-process the data\n",
    "preProcessData <- function(data) {\n",
    "    # convert NM_M channel into a binary channel \"isMarine\"\n",
    "    data$NM_M <- data$NM_M == \"2\"\n",
    "    names(data)[10] <- \"isMarine\"\n",
    "\n",
    "    # make the Facies channel more descriptive\n",
    "    levels(data$Facies) <- c(\"SS\", \"CSiS\", \"FSiS\", \"SiSh\", \"MS\", \"WS\", \"D\", \"PS\", \"BS\")\n",
    "    \n",
    "    data\n",
    "}"
   ]
  },
  {
   "cell_type": "code",
   "execution_count": 4,
   "metadata": {
    "collapsed": false
   },
   "outputs": [],
   "source": [
    "# function to split the data\n",
    "splitData <- function(data, testWell) {\n",
    "    testIndex <- data$Well.Name == testWell\n",
    "    \n",
    "    train <- data[!testIndex,]\n",
    "    test <- data[testIndex,]\n",
    "    split <- list(train, test)\n",
    "    \n",
    "    split\n",
    "}"
   ]
  },
  {
   "cell_type": "code",
   "execution_count": 5,
   "metadata": {
    "collapsed": false
   },
   "outputs": [
    {
     "data": {
      "text/html": [
       "'Training Data'"
      ],
      "text/latex": [
       "'Training Data'"
      ],
      "text/markdown": [
       "'Training Data'"
      ],
      "text/plain": [
       "[1] \"Training Data\""
      ]
     },
     "metadata": {},
     "output_type": "display_data"
    },
    {
     "data": {
      "text/html": [
       "<table>\n",
       "<thead><tr><th scope=col>Facies</th><th scope=col>Formation</th><th scope=col>Well.Name</th><th scope=col>Depth</th><th scope=col>GR</th><th scope=col>ILD_log10</th><th scope=col>DeltaPHI</th><th scope=col>PHIND</th><th scope=col>PE</th><th scope=col>isMarine</th><th scope=col>RELPOS</th></tr></thead>\n",
       "<tbody>\n",
       "\t<tr><td>FSiS     </td><td>A1 SH    </td><td>SHRIMPLIN</td><td>2793.0   </td><td>77.45    </td><td>0.664    </td><td> 9.9     </td><td>11.915   </td><td>4.6      </td><td>FALSE    </td><td>1.000    </td></tr>\n",
       "\t<tr><td>FSiS     </td><td>A1 SH    </td><td>SHRIMPLIN</td><td>2793.5   </td><td>78.26    </td><td>0.661    </td><td>14.2     </td><td>12.565   </td><td>4.1      </td><td>FALSE    </td><td>0.979    </td></tr>\n",
       "\t<tr><td>FSiS     </td><td>A1 SH    </td><td>SHRIMPLIN</td><td>2794.0   </td><td>79.05    </td><td>0.658    </td><td>14.8     </td><td>13.050   </td><td>3.6      </td><td>FALSE    </td><td>0.957    </td></tr>\n",
       "\t<tr><td>FSiS     </td><td>A1 SH    </td><td>SHRIMPLIN</td><td>2794.5   </td><td>86.10    </td><td>0.655    </td><td>13.9     </td><td>13.115   </td><td>3.5      </td><td>FALSE    </td><td>0.936    </td></tr>\n",
       "\t<tr><td>FSiS     </td><td>A1 SH    </td><td>SHRIMPLIN</td><td>2795.0   </td><td>74.58    </td><td>0.647    </td><td>13.5     </td><td>13.300   </td><td>3.4      </td><td>FALSE    </td><td>0.915    </td></tr>\n",
       "\t<tr><td>FSiS     </td><td>A1 SH    </td><td>SHRIMPLIN</td><td>2795.5   </td><td>73.97    </td><td>0.636    </td><td>14.0     </td><td>13.385   </td><td>3.6      </td><td>FALSE    </td><td>0.894    </td></tr>\n",
       "</tbody>\n",
       "</table>\n"
      ],
      "text/latex": [
       "\\begin{tabular}{r|lllllllllll}\n",
       " Facies & Formation & Well.Name & Depth & GR & ILD\\_log10 & DeltaPHI & PHIND & PE & isMarine & RELPOS\\\\\n",
       "\\hline\n",
       "\t FSiS      & A1 SH     & SHRIMPLIN & 2793.0    & 77.45     & 0.664     &  9.9      & 11.915    & 4.6       & FALSE     & 1.000    \\\\\n",
       "\t FSiS      & A1 SH     & SHRIMPLIN & 2793.5    & 78.26     & 0.661     & 14.2      & 12.565    & 4.1       & FALSE     & 0.979    \\\\\n",
       "\t FSiS      & A1 SH     & SHRIMPLIN & 2794.0    & 79.05     & 0.658     & 14.8      & 13.050    & 3.6       & FALSE     & 0.957    \\\\\n",
       "\t FSiS      & A1 SH     & SHRIMPLIN & 2794.5    & 86.10     & 0.655     & 13.9      & 13.115    & 3.5       & FALSE     & 0.936    \\\\\n",
       "\t FSiS      & A1 SH     & SHRIMPLIN & 2795.0    & 74.58     & 0.647     & 13.5      & 13.300    & 3.4       & FALSE     & 0.915    \\\\\n",
       "\t FSiS      & A1 SH     & SHRIMPLIN & 2795.5    & 73.97     & 0.636     & 14.0      & 13.385    & 3.6       & FALSE     & 0.894    \\\\\n",
       "\\end{tabular}\n"
      ],
      "text/plain": [
       "  Facies Formation Well.Name Depth  GR    ILD_log10 DeltaPHI PHIND  PE \n",
       "1 FSiS   A1 SH     SHRIMPLIN 2793.0 77.45 0.664      9.9     11.915 4.6\n",
       "2 FSiS   A1 SH     SHRIMPLIN 2793.5 78.26 0.661     14.2     12.565 4.1\n",
       "3 FSiS   A1 SH     SHRIMPLIN 2794.0 79.05 0.658     14.8     13.050 3.6\n",
       "4 FSiS   A1 SH     SHRIMPLIN 2794.5 86.10 0.655     13.9     13.115 3.5\n",
       "5 FSiS   A1 SH     SHRIMPLIN 2795.0 74.58 0.647     13.5     13.300 3.4\n",
       "6 FSiS   A1 SH     SHRIMPLIN 2795.5 73.97 0.636     14.0     13.385 3.6\n",
       "  isMarine RELPOS\n",
       "1 FALSE    1.000 \n",
       "2 FALSE    0.979 \n",
       "3 FALSE    0.957 \n",
       "4 FALSE    0.936 \n",
       "5 FALSE    0.915 \n",
       "6 FALSE    0.894 "
      ]
     },
     "metadata": {},
     "output_type": "display_data"
    },
    {
     "data": {
      "text/html": [
       "'Testing Data'"
      ],
      "text/latex": [
       "'Testing Data'"
      ],
      "text/markdown": [
       "'Testing Data'"
      ],
      "text/plain": [
       "[1] \"Testing Data\""
      ]
     },
     "metadata": {},
     "output_type": "display_data"
    },
    {
     "data": {
      "text/html": [
       "<table>\n",
       "<thead><tr><th></th><th scope=col>Facies</th><th scope=col>Formation</th><th scope=col>Well.Name</th><th scope=col>Depth</th><th scope=col>GR</th><th scope=col>ILD_log10</th><th scope=col>DeltaPHI</th><th scope=col>PHIND</th><th scope=col>PE</th><th scope=col>isMarine</th><th scope=col>RELPOS</th></tr></thead>\n",
       "<tbody>\n",
       "\t<tr><th scope=row>938</th><td>CSiS   </td><td>A1 SH  </td><td>SHANKLE</td><td>2774.5 </td><td>98.36  </td><td>0.642  </td><td>-0.1   </td><td>18.685 </td><td>2.9    </td><td>FALSE  </td><td>1.000  </td></tr>\n",
       "\t<tr><th scope=row>939</th><td>CSiS   </td><td>A1 SH  </td><td>SHANKLE</td><td>2775.0 </td><td>97.57  </td><td>0.631  </td><td> 7.9   </td><td>16.745 </td><td>3.2    </td><td>FALSE  </td><td>0.984  </td></tr>\n",
       "\t<tr><th scope=row>940</th><td>CSiS   </td><td>A1 SH  </td><td>SHANKLE</td><td>2775.5 </td><td>98.41  </td><td>0.615  </td><td>12.8   </td><td>14.105 </td><td>3.2    </td><td>FALSE  </td><td>0.968  </td></tr>\n",
       "\t<tr><th scope=row>941</th><td>CSiS   </td><td>A1 SH  </td><td>SHANKLE</td><td>2776.0 </td><td>85.92  </td><td>0.597  </td><td>13.0   </td><td>13.385 </td><td>3.4    </td><td>FALSE  </td><td>0.952  </td></tr>\n",
       "\t<tr><th scope=row>942</th><td>CSiS   </td><td>A1 SH  </td><td>SHANKLE</td><td>2776.5 </td><td>83.16  </td><td>0.592  </td><td>12.3   </td><td>13.345 </td><td>3.4    </td><td>FALSE  </td><td>0.935  </td></tr>\n",
       "\t<tr><th scope=row>943</th><td>CSiS   </td><td>A1 SH  </td><td>SHANKLE</td><td>2777.0 </td><td>82.56  </td><td>0.599  </td><td>12.9   </td><td>13.105 </td><td>3.5    </td><td>FALSE  </td><td>0.919  </td></tr>\n",
       "</tbody>\n",
       "</table>\n"
      ],
      "text/latex": [
       "\\begin{tabular}{r|lllllllllll}\n",
       "  & Facies & Formation & Well.Name & Depth & GR & ILD\\_log10 & DeltaPHI & PHIND & PE & isMarine & RELPOS\\\\\n",
       "\\hline\n",
       "\t938 & CSiS    & A1 SH   & SHANKLE & 2774.5  & 98.36   & 0.642   & -0.1    & 18.685  & 2.9     & FALSE   & 1.000  \\\\\n",
       "\t939 & CSiS    & A1 SH   & SHANKLE & 2775.0  & 97.57   & 0.631   &  7.9    & 16.745  & 3.2     & FALSE   & 0.984  \\\\\n",
       "\t940 & CSiS    & A1 SH   & SHANKLE & 2775.5  & 98.41   & 0.615   & 12.8    & 14.105  & 3.2     & FALSE   & 0.968  \\\\\n",
       "\t941 & CSiS    & A1 SH   & SHANKLE & 2776.0  & 85.92   & 0.597   & 13.0    & 13.385  & 3.4     & FALSE   & 0.952  \\\\\n",
       "\t942 & CSiS    & A1 SH   & SHANKLE & 2776.5  & 83.16   & 0.592   & 12.3    & 13.345  & 3.4     & FALSE   & 0.935  \\\\\n",
       "\t943 & CSiS    & A1 SH   & SHANKLE & 2777.0  & 82.56   & 0.599   & 12.9    & 13.105  & 3.5     & FALSE   & 0.919  \\\\\n",
       "\\end{tabular}\n"
      ],
      "text/plain": [
       "    Facies Formation Well.Name Depth  GR    ILD_log10 DeltaPHI PHIND  PE \n",
       "938 CSiS   A1 SH     SHANKLE   2774.5 98.36 0.642     -0.1     18.685 2.9\n",
       "939 CSiS   A1 SH     SHANKLE   2775.0 97.57 0.631      7.9     16.745 3.2\n",
       "940 CSiS   A1 SH     SHANKLE   2775.5 98.41 0.615     12.8     14.105 3.2\n",
       "941 CSiS   A1 SH     SHANKLE   2776.0 85.92 0.597     13.0     13.385 3.4\n",
       "942 CSiS   A1 SH     SHANKLE   2776.5 83.16 0.592     12.3     13.345 3.4\n",
       "943 CSiS   A1 SH     SHANKLE   2777.0 82.56 0.599     12.9     13.105 3.5\n",
       "    isMarine RELPOS\n",
       "938 FALSE    1.000 \n",
       "939 FALSE    0.984 \n",
       "940 FALSE    0.968 \n",
       "941 FALSE    0.952 \n",
       "942 FALSE    0.935 \n",
       "943 FALSE    0.919 "
      ]
     },
     "metadata": {},
     "output_type": "display_data"
    }
   ],
   "source": [
    "# load and pre-process the data\n",
    "data <- loadData()\n",
    "data <- preProcessData(data)\n",
    "\n",
    "# split the data\n",
    "split <- splitData(data, \"SHANKLE\")\n",
    "train <- split[[1]]\n",
    "test <- split[[2]]\n",
    "rm(data, split)\n",
    "\n",
    "\"Training Data\"\n",
    "head(train)\n",
    "\n",
    "\"Testing Data\"\n",
    "head(test)"
   ]
  },
  {
   "cell_type": "markdown",
   "metadata": {},
   "source": [
    "## Exploratory data analysis  \n",
    "\n",
    "Blahblahblah"
   ]
  },
  {
   "cell_type": "code",
   "execution_count": 6,
   "metadata": {
    "collapsed": true
   },
   "outputs": [],
   "source": [
    "# function to center/scale data\n",
    "centerScaleData <- function(data) {\n",
    "   \n",
    "    # we only want to center/scale data which is numeric\n",
    "    toScale <- sapply(data, class) == \"numeric\"\n",
    "    \n",
    "    # for each numeric feature in the data frame, center and scale\n",
    "    for (i in 1:length(toScale)) {\n",
    "        if (toScale[i]) {\n",
    "            data[,i] <- scale(data[,i])\n",
    "        }\n",
    "    }\n",
    "    \n",
    "    data\n",
    "}"
   ]
  },
  {
   "cell_type": "code",
   "execution_count": 7,
   "metadata": {
    "collapsed": true
   },
   "outputs": [],
   "source": [
    "# function to perform crosscorrelation between two vectors\n",
    "crossCorrelate <- function(a, b) {\n",
    "\n",
    "    # calculate cross-correlation between vectors a and b\n",
    "    ccor <- ccf(a, b, lag.max=400, plot=F)\n",
    "\n",
    "    # retrieve the maximum correlation and associated lag\n",
    "    corr <- max(ccor[[\"acf\"]][,,1])\n",
    "    lag <- ccor[[\"lag\"]][,,1][which.max(ccor[[\"acf\"]][,,1])]\n",
    "    \n",
    "    if (is.na(corr)) {\n",
    "        print(a)\n",
    "        print(b)\n",
    "    }\n",
    "    # return maximum correlation and associated lag\n",
    "    list(Correlation=corr, Lag=lag)\n",
    "}"
   ]
  },
  {
   "cell_type": "code",
   "execution_count": 29,
   "metadata": {
    "collapsed": false
   },
   "outputs": [],
   "source": [
    "# apply a function \"FUN\" over columns named \"features\" to data frames \"a\" and \"b\"\n",
    "loopFeatures <- function(a, b, FUN) {\n",
    "    \n",
    "    # preprocess\n",
    "    a <- centerScaleData(a)\n",
    "    b <- centerScaleData(b)\n",
    "    \n",
    "    # get list of columns for a and b dataframes\n",
    "    features_a <- names(a)[names(a) != \"Facies\"]\n",
    "    features_b <- names(b)[names(b) != \"Facies\"]\n",
    "    \n",
    "    # ensure a and b data frames have the same features\n",
    "    try ((if (!all.equal(features_a, features_b)) stop(\"Error! Data frames do not have the same features.\")))\n",
    "    \n",
    "    r <- data.frame(feature=factor(), correlation=numeric(), lag=numeric())\n",
    "    features <- features_a[!features_a %in% c(\"Facies\", \"Formation\", \"Well.Name\", \"Depth\", \"RELPOS\", \"PE\")]\n",
    "    \n",
    "    # loop through features\n",
    "    for (feature in features) {\n",
    "        av <- as.data.frame(a[,which(names(a) %in% feature)])\n",
    "        bv <- as.data.frame(b[,which(names(b) %in% feature)])\n",
    "        \n",
    "        temp <- FUN(av, bv)\n",
    "        \n",
    "        r <- rbind(r, data.frame(feature=feature, correlation=temp[[\"Correlation\"]], lag=temp[[\"Lag\"]]))\n",
    "    }\n",
    "    \n",
    "    r\n",
    "}"
   ]
  },
  {
   "cell_type": "code",
   "execution_count": 9,
   "metadata": {
    "collapsed": true
   },
   "outputs": [],
   "source": [
    "trainBlendedModel <- function(data, cost, gamma) {\n",
    "\n",
    "    # initialize model and params\n",
    "    fits <- list()\n",
    "    \n",
    "    # retrieve list of wells in data set\n",
    "    wells <- unique(data$Well.Name)\n",
    "    \n",
    "    # loop through wells\n",
    "    for (well_i in wells) {\n",
    "        # subset the data\n",
    "        data_i <- data[data$Well.Name == well_i,]\n",
    "        \n",
    "        # build the model for this well\n",
    "        fits[[well_i]] <- svm(Facies ~ ., data=data_i, kernel='radial', cost=cost, gamma=gamma)\n",
    "    }\n",
    "    \n",
    "    fits\n",
    "}"
   ]
  },
  {
   "cell_type": "code",
   "execution_count": 18,
   "metadata": {
    "collapsed": true
   },
   "outputs": [],
   "source": [
    "weightBlendedModel <- function(train, test) {\n",
    "    \n",
    "    # initialize weights list\n",
    "    crossCorrs <- data.frame(trainWell=factor(), testWell=factor(), feature=factor(), correlation=numeric(), lag=numeric())\n",
    "    \n",
    "    # retrieve list of wells in training set\n",
    "    trainWells <- unique(train$Well.Name)\n",
    "    \n",
    "    # loop through training wells\n",
    "    for (well_i in trainWells) {\n",
    "        # subset the data\n",
    "        train_i <- train[train$Well.Name == well_i,]\n",
    "        \n",
    "        # calculate cross-correlation for each feature between current training well and testing well\n",
    "        temp <- loopFeatures(train_i, test, crossCorrelate)\n",
    "        temp$trainWell <- well_i\n",
    "        temp$testWell <- test$Well.Name[1]\n",
    "        \n",
    "        # add current wells cross-correlation metrics to the data frame\n",
    "        crossCorrs <- rbind(crossCorrs, temp)\n",
    "    }\n",
    "    \n",
    "    crossCorrs\n",
    "}"
   ]
  },
  {
   "cell_type": "code",
   "execution_count": 11,
   "metadata": {
    "collapsed": true
   },
   "outputs": [],
   "source": [
    "buildBlendedModel <- function(train, test, features, cost, gamma) {\n",
    "    # initialize the blended model\n",
    "    blendedModel <- list()\n",
    "    \n",
    "    # train and weight the models\n",
    "    blendedModel[[\"fits\"]] <- trainBlendedModel(train, cost, gamma)\n",
    "    blendedModel[[\"weights\"]] <- weightBlendedModel(train, test, features)\n",
    "    \n",
    "    # return the blended model\n",
    "    blendedModel\n",
    "}"
   ]
  },
  {
   "cell_type": "code",
   "execution_count": 12,
   "metadata": {
    "collapsed": true
   },
   "outputs": [],
   "source": [
    "tuneBlendedModel <- function(data, features) {\n",
    "    \n",
    "    # retrieve list of wells in data set\n",
    "    wells <- unique(data$Well.Name)\n",
    "    \n",
    "    # loop through wells\n",
    "    for (well_i in wells) {\n",
    "        # split data into training and test (well_i is test)\n",
    "        split <- splitData(data, well_i)\n",
    "        \n",
    "        # build blended model using training data\n",
    "        buildBlendedModel(split[[1]], split[[2]], features, 10, 1)\n",
    "    }\n",
    "}"
   ]
  },
  {
   "cell_type": "code",
   "execution_count": 135,
   "metadata": {
    "collapsed": true
   },
   "outputs": [],
   "source": [
    "buildPlot <- function(data, well) {\n",
    "\n",
    "    # build lag plot\n",
    "    gl <- ggplot(data, aes(feature, trainWell, fill=lag)) + theme_economist_white(gray_bg=T) +\n",
    "            geom_raster(alpha=.8) +\n",
    "            labs(x=\"\", y=\"Training Well\", title=well) +\n",
    "            scale_fill_distiller(palette=\"Spectral\", name=\"\", direction=-1) +\n",
    "            theme(legend.position=\"right\",\n",
    "                  plot.title=element_text(size=8), \n",
    "                  axis.text=element_text(size=6),\n",
    "                  axis.text.x=element_text(size=6, angle=90),\n",
    "                  axis.title=element_text(size=8),\n",
    "                  legend.text=element_text(size=8))\n",
    "    \n",
    "\n",
    "    # build correlation plot\n",
    "    gc <- ggplot(data, aes(feature, trainWell, fill=correlation)) + theme_economist_white(gray_bg=T) +\n",
    "            geom_raster(alpha=.8) +\n",
    "            labs(x=\"\", y=\"Training Well\", title=well) +\n",
    "            scale_fill_distiller(palette=\"Spectral\", name=\"\", direction=-1) +\n",
    "            theme(legend.position=\"right\",\n",
    "                  plot.title=element_text(size=8), \n",
    "                  axis.text=element_text(size=6),\n",
    "                  axis.text.x=element_text(size=6, angle=90),\n",
    "                  axis.title=element_text(size=8),\n",
    "                  legend.text=element_text(size=8))\n",
    "    \n",
    "    # return the plots\n",
    "    list(lagPlot=gl, corrPlot=gc)\n",
    "}"
   ]
  },
  {
   "cell_type": "code",
   "execution_count": 136,
   "metadata": {
    "collapsed": false,
    "scrolled": false
   },
   "outputs": [],
   "source": [
    "weights <- data.frame(trainWell=factor(), testWell=factor(), feature=factor(), correlation=numeric(), lag=numeric())\n",
    "trainLoop <- train[train$Well.Name != \"Recruit F9\",]\n",
    "wells <- unique(trainLoop$Well.Name)\n",
    "\n",
    "for (well_i in wells) {\n",
    "    split <- splitData(trainLoop, well_i)\n",
    "    atrain <- split[[1]]\n",
    "    atest <- split[[2]]\n",
    "    \n",
    "    weights <- rbind(weights, weightBlendedModel(atrain, atest))\n",
    "}\n",
    "\n",
    "lagPlots <- list()\n",
    "corrPlots <- list()\n",
    "\n",
    "wells <- unique(weights$testWell)\n",
    "counter <- 1\n",
    "\n",
    "for (well_i in wells) {\n",
    "    subset <- weights[weights$testWell == well_i,]\n",
    "    \n",
    "    temp <- buildPlot(subset, well_i)\n",
    "    lagPlots[[well_i]] <- temp$lagPlot\n",
    "    corrPlots[[well_i]] <- temp$corrPlot\n",
    " \n",
    "    counter <- counter + 1\n",
    "}"
   ]
  },
  {
   "cell_type": "code",
   "execution_count": 139,
   "metadata": {
    "collapsed": false
   },
   "outputs": [
    {
     "data": {},
     "metadata": {},
     "output_type": "display_data"
    },
    {
     "data": {
      "image/png": "[encoded data removed]",
      "text/plain": [
       "plot without title"
      ]
     },
     "metadata": {},
     "output_type": "display_data"
    }
   ],
   "source": [
    "options(repr.plot.width=8.5, repr.plot.height=11)\n",
    "g <- do.call(plot_grid, c(corrPlots, ncol=2))\n",
    "ggdraw() + draw_plot(g, width=1, height=1, y=-.005) + draw_plot_label(\"Maximum cross-well autocorrelation\", size=10)"
   ]
  },
  {
   "cell_type": "code",
   "execution_count": 179,
   "metadata": {
    "collapsed": false
   },
   "outputs": [
    {
     "data": {
      "text/html": [
       "<table>\n",
       "<thead><tr><th scope=col>feature</th><th scope=col>testWell</th><th scope=col>correlation</th></tr></thead>\n",
       "<tbody>\n",
       "\t<tr><td>GR             </td><td>ALEXANDER D    </td><td>0.4195159      </td></tr>\n",
       "\t<tr><td>ILD_log10      </td><td>ALEXANDER D    </td><td>0.4695227      </td></tr>\n",
       "\t<tr><td>DeltaPHI       </td><td>ALEXANDER D    </td><td>0.3100069      </td></tr>\n",
       "\t<tr><td>PHIND          </td><td>ALEXANDER D    </td><td>0.3260050      </td></tr>\n",
       "\t<tr><td>isMarine       </td><td>ALEXANDER D    </td><td>0.5201572      </td></tr>\n",
       "\t<tr><td>GR             </td><td>CHURCHMAN BIBLE</td><td>0.4217313      </td></tr>\n",
       "</tbody>\n",
       "</table>\n"
      ],
      "text/latex": [
       "\\begin{tabular}{r|lll}\n",
       " feature & testWell & correlation\\\\\n",
       "\\hline\n",
       "\t GR              & ALEXANDER D     & 0.4195159      \\\\\n",
       "\t ILD\\_log10     & ALEXANDER D     & 0.4695227      \\\\\n",
       "\t DeltaPHI        & ALEXANDER D     & 0.3100069      \\\\\n",
       "\t PHIND           & ALEXANDER D     & 0.3260050      \\\\\n",
       "\t isMarine        & ALEXANDER D     & 0.5201572      \\\\\n",
       "\t GR              & CHURCHMAN BIBLE & 0.4217313      \\\\\n",
       "\\end{tabular}\n"
      ],
      "text/plain": [
       "  feature   testWell        correlation\n",
       "1 GR        ALEXANDER D     0.4195159  \n",
       "2 ILD_log10 ALEXANDER D     0.4695227  \n",
       "3 DeltaPHI  ALEXANDER D     0.3100069  \n",
       "4 PHIND     ALEXANDER D     0.3260050  \n",
       "5 isMarine  ALEXANDER D     0.5201572  \n",
       "6 GR        CHURCHMAN BIBLE 0.4217313  "
      ]
     },
     "metadata": {},
     "output_type": "display_data"
    },
    {
     "data": {},
     "metadata": {},
     "output_type": "display_data"
    },
    {
     "data": {
      "image/png": "[encoded data removed]",
      "text/plain": [
       "plot without title"
      ]
     },
     "metadata": {},
     "output_type": "display_data"
    }
   ],
   "source": [
    "options(repr.plot.width=6, repr.plot.height=3)\n",
    "\n",
    "agg <- aggregate(correlation ~ feature + testWell, data=weights, FUN=mean)\n",
    "head(agg)\n",
    "ggplot(agg, aes(x=feature, y=correlation, group=testWell, color=testWell)) + \n",
    "    theme_economist_white(gray_bg=T) +\n",
    "    geom_point(size=3, alpha=.5) +\n",
    "    scale_color_discrete() +\n",
    "    labs(x=\"\", y=\"Median Correlation\", title=\"Aggregate Correlation by Test Well\") +\n",
    "    theme(legend.position=\"right\", legend.text=element_text(size=6), legend.title=element_blank()) +\n",
    "    theme(axis.text=element_text(size=6), axis.title=element_text(size=8)) +\n",
    "    theme(plot.title=element_text(size=8))"
   ]
  },
  {
   "cell_type": "markdown",
   "metadata": {},
   "source": [
    "## Model tuning  \n",
    "\n",
    "Blahblahblah"
   ]
  },
  {
   "cell_type": "code",
   "execution_count": 4,
   "metadata": {
    "collapsed": true
   },
   "outputs": [],
   "source": [
    "# function to tune model"
   ]
  },
  {
   "cell_type": "code",
   "execution_count": 5,
   "metadata": {
    "collapsed": true
   },
   "outputs": [],
   "source": [
    "# execute model tuning, print the model tuning parameters"
   ]
  },
  {
   "cell_type": "markdown",
   "metadata": {},
   "source": [
    "## Training  \n",
    "\n",
    "Blahblahblah"
   ]
  },
  {
   "cell_type": "code",
   "execution_count": 6,
   "metadata": {
    "collapsed": true
   },
   "outputs": [],
   "source": [
    "# function to train model"
   ]
  },
  {
   "cell_type": "code",
   "execution_count": 7,
   "metadata": {
    "collapsed": true
   },
   "outputs": [],
   "source": [
    "# execute model training"
   ]
  },
  {
   "cell_type": "markdown",
   "metadata": {},
   "source": [
    "## Testing  \n",
    "\n",
    "Blahblahblah"
   ]
  },
  {
   "cell_type": "code",
   "execution_count": 8,
   "metadata": {
    "collapsed": true
   },
   "outputs": [],
   "source": [
    "# function to test model (on SHANKLE well)"
   ]
  },
  {
   "cell_type": "code",
   "execution_count": 9,
   "metadata": {
    "collapsed": true
   },
   "outputs": [],
   "source": [
    "# execute model testing"
   ]
  },
  {
   "cell_type": "markdown",
   "metadata": {},
   "source": [
    "## Conclusions  \n",
    "\n",
    "Blahblahblah"
   ]
  }
 ],
 "metadata": {
  "kernelspec": {
   "display_name": "R 3.2",
   "language": "R",
   "name": "ir32"
  },
  "language_info": {
   "codemirror_mode": "r",
   "file_extension": ".r",
   "mimetype": "text/x-r-source",
   "name": "R",
   "pygments_lexer": "r",
   "version": "3.2.4"
  }
 },
 "nbformat": 4,
 "nbformat_minor": 0
}
