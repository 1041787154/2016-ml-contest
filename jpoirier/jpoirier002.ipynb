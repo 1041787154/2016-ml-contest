{
 "cells": [
  {
   "cell_type": "markdown",
   "metadata": {},
   "source": [
    "# Facies classification using machine learning\n",
    "#### Joshua Poirier, [NEOS](https://www.neosgeo.com/)\n",
    "2016 SEG Machine Learning Competition  \n",
    "\n",
    "## Introduction\n",
    "\n",
    "This notebook demonstrates a novel way of training a machine learning algorithm to predict facies from well log data. The data set we use comes from a class exercise from The University of Kansas on Neural Networks and Fuzzy Systems. This exercise is based on a consortium project to use machine learning techniques to create a reservoir model of the largest gas fields in North America, the Hugoton and Panoma Fields.  \n",
    "\n",
    "The data set we will use contains log data from nine wells that have been labeled with a facies type based on core examination. I use this log data to train support vector machine (SVM) classifiers to predict the facies type. SVM's are a type of supervised learning algorithm which can be trained on data to perform classification and regression. The SVM algorithm uses the training data to fit an optimal hyperplane between the different classes (in our case - facies). \n",
    "\n",
    "My approach is to build multiple models and allow them to **vote** - this process is called **blended modeling**. The novelty in my approach is that I build a model for each well in the training data and weight it based on its cross-correlation with the well of interest. This is intended to re-introduce some spatial geometry to the problem. Wells closer to the well of interest are more likely to exhibit a similar log character. Cross-correlation between close wells should show smaller lag and higher maximum correlation. Furthermore, the lag may be used to pre-process the **RELPOS** (relative position) channel - enhancing the predictive nature of that feature.  \n",
    "\n",
    "To get started, let's load the libraries and supporting files!"
   ]
  },
  {
   "cell_type": "code",
   "execution_count": 1,
   "metadata": {
    "collapsed": false
   },
   "outputs": [
    {
     "name": "stderr",
     "output_type": "stream",
     "text": [
      "Warning message:\n",
      "\"package 'repr' was built under R version 3.2.5\"Warning message:\n",
      "\"package 'cowplot' was built under R version 3.2.5\"\n",
      "Attaching package: 'cowplot'\n",
      "\n",
      "The following object is masked from 'package:ggplot2':\n",
      "\n",
      "    ggsave\n",
      "\n",
      "Warning message:\n",
      "\"package 'e1071' was built under R version 3.2.5\""
     ]
    }
   ],
   "source": [
    "# supporting visualization libraries\n",
    "library(repr)\n",
    "library(ggplot2)\n",
    "library(ggthemes)\n",
    "library(cowplot)\n",
    "\n",
    "# libraries and supporting files\n",
    "library(e1071)\n",
    "#library(caret)"
   ]
  },
  {
   "cell_type": "markdown",
   "metadata": {},
   "source": [
    "## 2 Loading and splitting the data  \n",
    "\n",
    "Blahblahblah"
   ]
  },
  {
   "cell_type": "code",
   "execution_count": 2,
   "metadata": {
    "collapsed": true
   },
   "outputs": [],
   "source": [
    "# function to load data\n",
    "loadData <- function() {\n",
    "    fname <- \"../facies_vectors.csv\"\n",
    "    data <- read.csv(fname, colClasses=c(rep(\"factor\",3), rep(\"numeric\",6), \"factor\", \"numeric\"))\n",
    "    \n",
    "    data\n",
    "}"
   ]
  },
  {
   "cell_type": "code",
   "execution_count": 3,
   "metadata": {
    "collapsed": true
   },
   "outputs": [],
   "source": [
    "# function to pre-process the data\n",
    "preProcessData <- function(data) {\n",
    "    # convert NM_M channel into a binary channel \"isMarine\"\n",
    "    data$NM_M <- data$NM_M == \"2\"\n",
    "    names(data)[10] <- \"isMarine\"\n",
    "\n",
    "    # make the Facies channel more descriptive\n",
    "    levels(data$Facies) <- c(\"SS\", \"CSiS\", \"FSiS\", \"SiSh\", \"MS\", \"WS\", \"D\", \"PS\", \"BS\")\n",
    "    \n",
    "    data\n",
    "}"
   ]
  },
  {
   "cell_type": "code",
   "execution_count": 4,
   "metadata": {
    "collapsed": false
   },
   "outputs": [],
   "source": [
    "# function to split the data\n",
    "splitData <- function(data, testWell) {\n",
    "    testIndex <- data$Well.Name == testWell\n",
    "    \n",
    "    train <- data[!testIndex,]\n",
    "    test <- data[testIndex,]\n",
    "    split <- list(train, test)\n",
    "    \n",
    "    split\n",
    "}"
   ]
  },
  {
   "cell_type": "code",
   "execution_count": 5,
   "metadata": {
    "collapsed": false
   },
   "outputs": [
    {
     "data": {
      "text/html": [
       "'Training Data'"
      ],
      "text/latex": [
       "'Training Data'"
      ],
      "text/markdown": [
       "'Training Data'"
      ],
      "text/plain": [
       "[1] \"Training Data\""
      ]
     },
     "metadata": {},
     "output_type": "display_data"
    },
    {
     "data": {
      "text/html": [
       "<table>\n",
       "<thead><tr><th scope=col>Facies</th><th scope=col>Formation</th><th scope=col>Well.Name</th><th scope=col>Depth</th><th scope=col>GR</th><th scope=col>ILD_log10</th><th scope=col>DeltaPHI</th><th scope=col>PHIND</th><th scope=col>PE</th><th scope=col>isMarine</th><th scope=col>RELPOS</th></tr></thead>\n",
       "<tbody>\n",
       "\t<tr><td>FSiS     </td><td>A1 SH    </td><td>SHRIMPLIN</td><td>2793.0   </td><td>77.45    </td><td>0.664    </td><td> 9.9     </td><td>11.915   </td><td>4.6      </td><td>FALSE    </td><td>1.000    </td></tr>\n",
       "\t<tr><td>FSiS     </td><td>A1 SH    </td><td>SHRIMPLIN</td><td>2793.5   </td><td>78.26    </td><td>0.661    </td><td>14.2     </td><td>12.565   </td><td>4.1      </td><td>FALSE    </td><td>0.979    </td></tr>\n",
       "\t<tr><td>FSiS     </td><td>A1 SH    </td><td>SHRIMPLIN</td><td>2794.0   </td><td>79.05    </td><td>0.658    </td><td>14.8     </td><td>13.050   </td><td>3.6      </td><td>FALSE    </td><td>0.957    </td></tr>\n",
       "\t<tr><td>FSiS     </td><td>A1 SH    </td><td>SHRIMPLIN</td><td>2794.5   </td><td>86.10    </td><td>0.655    </td><td>13.9     </td><td>13.115   </td><td>3.5      </td><td>FALSE    </td><td>0.936    </td></tr>\n",
       "\t<tr><td>FSiS     </td><td>A1 SH    </td><td>SHRIMPLIN</td><td>2795.0   </td><td>74.58    </td><td>0.647    </td><td>13.5     </td><td>13.300   </td><td>3.4      </td><td>FALSE    </td><td>0.915    </td></tr>\n",
       "\t<tr><td>FSiS     </td><td>A1 SH    </td><td>SHRIMPLIN</td><td>2795.5   </td><td>73.97    </td><td>0.636    </td><td>14.0     </td><td>13.385   </td><td>3.6      </td><td>FALSE    </td><td>0.894    </td></tr>\n",
       "</tbody>\n",
       "</table>\n"
      ],
      "text/latex": [
       "\\begin{tabular}{r|lllllllllll}\n",
       " Facies & Formation & Well.Name & Depth & GR & ILD\\_log10 & DeltaPHI & PHIND & PE & isMarine & RELPOS\\\\\n",
       "\\hline\n",
       "\t FSiS      & A1 SH     & SHRIMPLIN & 2793.0    & 77.45     & 0.664     &  9.9      & 11.915    & 4.6       & FALSE     & 1.000    \\\\\n",
       "\t FSiS      & A1 SH     & SHRIMPLIN & 2793.5    & 78.26     & 0.661     & 14.2      & 12.565    & 4.1       & FALSE     & 0.979    \\\\\n",
       "\t FSiS      & A1 SH     & SHRIMPLIN & 2794.0    & 79.05     & 0.658     & 14.8      & 13.050    & 3.6       & FALSE     & 0.957    \\\\\n",
       "\t FSiS      & A1 SH     & SHRIMPLIN & 2794.5    & 86.10     & 0.655     & 13.9      & 13.115    & 3.5       & FALSE     & 0.936    \\\\\n",
       "\t FSiS      & A1 SH     & SHRIMPLIN & 2795.0    & 74.58     & 0.647     & 13.5      & 13.300    & 3.4       & FALSE     & 0.915    \\\\\n",
       "\t FSiS      & A1 SH     & SHRIMPLIN & 2795.5    & 73.97     & 0.636     & 14.0      & 13.385    & 3.6       & FALSE     & 0.894    \\\\\n",
       "\\end{tabular}\n"
      ],
      "text/plain": [
       "  Facies Formation Well.Name Depth  GR    ILD_log10 DeltaPHI PHIND  PE \n",
       "1 FSiS   A1 SH     SHRIMPLIN 2793.0 77.45 0.664      9.9     11.915 4.6\n",
       "2 FSiS   A1 SH     SHRIMPLIN 2793.5 78.26 0.661     14.2     12.565 4.1\n",
       "3 FSiS   A1 SH     SHRIMPLIN 2794.0 79.05 0.658     14.8     13.050 3.6\n",
       "4 FSiS   A1 SH     SHRIMPLIN 2794.5 86.10 0.655     13.9     13.115 3.5\n",
       "5 FSiS   A1 SH     SHRIMPLIN 2795.0 74.58 0.647     13.5     13.300 3.4\n",
       "6 FSiS   A1 SH     SHRIMPLIN 2795.5 73.97 0.636     14.0     13.385 3.6\n",
       "  isMarine RELPOS\n",
       "1 FALSE    1.000 \n",
       "2 FALSE    0.979 \n",
       "3 FALSE    0.957 \n",
       "4 FALSE    0.936 \n",
       "5 FALSE    0.915 \n",
       "6 FALSE    0.894 "
      ]
     },
     "metadata": {},
     "output_type": "display_data"
    },
    {
     "data": {
      "text/html": [
       "'Testing Data'"
      ],
      "text/latex": [
       "'Testing Data'"
      ],
      "text/markdown": [
       "'Testing Data'"
      ],
      "text/plain": [
       "[1] \"Testing Data\""
      ]
     },
     "metadata": {},
     "output_type": "display_data"
    },
    {
     "data": {
      "text/html": [
       "<table>\n",
       "<thead><tr><th></th><th scope=col>Facies</th><th scope=col>Formation</th><th scope=col>Well.Name</th><th scope=col>Depth</th><th scope=col>GR</th><th scope=col>ILD_log10</th><th scope=col>DeltaPHI</th><th scope=col>PHIND</th><th scope=col>PE</th><th scope=col>isMarine</th><th scope=col>RELPOS</th></tr></thead>\n",
       "<tbody>\n",
       "\t<tr><th scope=row>938</th><td>CSiS   </td><td>A1 SH  </td><td>SHANKLE</td><td>2774.5 </td><td>98.36  </td><td>0.642  </td><td>-0.1   </td><td>18.685 </td><td>2.9    </td><td>FALSE  </td><td>1.000  </td></tr>\n",
       "\t<tr><th scope=row>939</th><td>CSiS   </td><td>A1 SH  </td><td>SHANKLE</td><td>2775.0 </td><td>97.57  </td><td>0.631  </td><td> 7.9   </td><td>16.745 </td><td>3.2    </td><td>FALSE  </td><td>0.984  </td></tr>\n",
       "\t<tr><th scope=row>940</th><td>CSiS   </td><td>A1 SH  </td><td>SHANKLE</td><td>2775.5 </td><td>98.41  </td><td>0.615  </td><td>12.8   </td><td>14.105 </td><td>3.2    </td><td>FALSE  </td><td>0.968  </td></tr>\n",
       "\t<tr><th scope=row>941</th><td>CSiS   </td><td>A1 SH  </td><td>SHANKLE</td><td>2776.0 </td><td>85.92  </td><td>0.597  </td><td>13.0   </td><td>13.385 </td><td>3.4    </td><td>FALSE  </td><td>0.952  </td></tr>\n",
       "\t<tr><th scope=row>942</th><td>CSiS   </td><td>A1 SH  </td><td>SHANKLE</td><td>2776.5 </td><td>83.16  </td><td>0.592  </td><td>12.3   </td><td>13.345 </td><td>3.4    </td><td>FALSE  </td><td>0.935  </td></tr>\n",
       "\t<tr><th scope=row>943</th><td>CSiS   </td><td>A1 SH  </td><td>SHANKLE</td><td>2777.0 </td><td>82.56  </td><td>0.599  </td><td>12.9   </td><td>13.105 </td><td>3.5    </td><td>FALSE  </td><td>0.919  </td></tr>\n",
       "</tbody>\n",
       "</table>\n"
      ],
      "text/latex": [
       "\\begin{tabular}{r|lllllllllll}\n",
       "  & Facies & Formation & Well.Name & Depth & GR & ILD\\_log10 & DeltaPHI & PHIND & PE & isMarine & RELPOS\\\\\n",
       "\\hline\n",
       "\t938 & CSiS    & A1 SH   & SHANKLE & 2774.5  & 98.36   & 0.642   & -0.1    & 18.685  & 2.9     & FALSE   & 1.000  \\\\\n",
       "\t939 & CSiS    & A1 SH   & SHANKLE & 2775.0  & 97.57   & 0.631   &  7.9    & 16.745  & 3.2     & FALSE   & 0.984  \\\\\n",
       "\t940 & CSiS    & A1 SH   & SHANKLE & 2775.5  & 98.41   & 0.615   & 12.8    & 14.105  & 3.2     & FALSE   & 0.968  \\\\\n",
       "\t941 & CSiS    & A1 SH   & SHANKLE & 2776.0  & 85.92   & 0.597   & 13.0    & 13.385  & 3.4     & FALSE   & 0.952  \\\\\n",
       "\t942 & CSiS    & A1 SH   & SHANKLE & 2776.5  & 83.16   & 0.592   & 12.3    & 13.345  & 3.4     & FALSE   & 0.935  \\\\\n",
       "\t943 & CSiS    & A1 SH   & SHANKLE & 2777.0  & 82.56   & 0.599   & 12.9    & 13.105  & 3.5     & FALSE   & 0.919  \\\\\n",
       "\\end{tabular}\n"
      ],
      "text/plain": [
       "    Facies Formation Well.Name Depth  GR    ILD_log10 DeltaPHI PHIND  PE \n",
       "938 CSiS   A1 SH     SHANKLE   2774.5 98.36 0.642     -0.1     18.685 2.9\n",
       "939 CSiS   A1 SH     SHANKLE   2775.0 97.57 0.631      7.9     16.745 3.2\n",
       "940 CSiS   A1 SH     SHANKLE   2775.5 98.41 0.615     12.8     14.105 3.2\n",
       "941 CSiS   A1 SH     SHANKLE   2776.0 85.92 0.597     13.0     13.385 3.4\n",
       "942 CSiS   A1 SH     SHANKLE   2776.5 83.16 0.592     12.3     13.345 3.4\n",
       "943 CSiS   A1 SH     SHANKLE   2777.0 82.56 0.599     12.9     13.105 3.5\n",
       "    isMarine RELPOS\n",
       "938 FALSE    1.000 \n",
       "939 FALSE    0.984 \n",
       "940 FALSE    0.968 \n",
       "941 FALSE    0.952 \n",
       "942 FALSE    0.935 \n",
       "943 FALSE    0.919 "
      ]
     },
     "metadata": {},
     "output_type": "display_data"
    }
   ],
   "source": [
    "# load and pre-process the data\n",
    "data <- loadData()\n",
    "data <- preProcessData(data)\n",
    "\n",
    "# split the data\n",
    "split <- splitData(data, \"SHANKLE\")\n",
    "train <- split[[1]]\n",
    "test <- split[[2]]\n",
    "rm(data, split)\n",
    "\n",
    "\"Training Data\"\n",
    "head(train)\n",
    "\n",
    "\"Testing Data\"\n",
    "head(test)"
   ]
  },
  {
   "cell_type": "markdown",
   "metadata": {},
   "source": [
    "## 3 Exploratory Data Analysis  \n",
    "\n",
    "Blahblahblah  \n",
    "\n",
    "### 3.1 Function building and testing  \n",
    "\n",
    "To properly perform exploratory data analysis (and subsequent model tuning, training, and testing) we will need to build a few functions. Here, we'll build some functions and test them with simulated data.  \n",
    "\n",
    "#### 3.1.1 Centering and scaling data  \n",
    "\n",
    "Centering and scaling data is common practice in machine learning applications.  Considering our well problem, it's no stretch to imagine that the log responses between two wells may be similar; however, they may be offset or have different sensitivities.  This may result from imperfect instrument calibration, different vintages of data, or even geologic noise.  For our problem of predicting facies we want to remove these effects as much as possible.  As such, we center and scale *numeric* data - classification data are not centered or scaled (such as our **isMarine** feature) as that just wouldn't make sense!"
   ]
  },
  {
   "cell_type": "code",
   "execution_count": 6,
   "metadata": {
    "collapsed": true
   },
   "outputs": [],
   "source": [
    "# function to center/scale data\n",
    "centerScaleData <- function(data) {\n",
    "   \n",
    "    # we only want to center/scale data which is numeric\n",
    "    toScale <- sapply(data, class) == \"numeric\"\n",
    "    \n",
    "    # for each numeric feature in the data frame, center and scale\n",
    "    for (i in 1:length(toScale)) {\n",
    "        if (toScale[i]) {\n",
    "            data[,i] <- scale(data[,i])\n",
    "        }\n",
    "    }\n",
    "    \n",
    "    data\n",
    "}"
   ]
  },
  {
   "cell_type": "markdown",
   "metadata": {},
   "source": [
    "Now let's test this function to ensure it's working. I'll simulate some data and apply the function."
   ]
  },
  {
   "cell_type": "code",
   "execution_count": 7,
   "metadata": {
    "collapsed": false
   },
   "outputs": [
    {
     "data": {},
     "metadata": {},
     "output_type": "display_data"
    },
    {
     "data": {
      "image/png": "[encoded data removed]",
      "text/plain": [
       "plot without title"
      ]
     },
     "metadata": {},
     "output_type": "display_data"
    }
   ],
   "source": [
    "# simulate x and y data\n",
    "x <- 1:100\n",
    "y <- rep(10, 100)\n",
    "y[20:30] <- 5\n",
    "y[50:70] <- 20\n",
    "\n",
    "# build data frame with yPrime as the center and scaled 'y' data\n",
    "simData <- data.frame(x, y, centerScaleData(as.data.frame(y)))\n",
    "names(simData) <- c(\"x\", \"y\", \"yPrime\")\n",
    "\n",
    "options(repr.plot.width=8, repr.plot.height=4)\n",
    "\n",
    "# plot before centering and scaling\n",
    "g1 <- ggplot(simData, aes(x=x, y=y)) + theme_economist_white(gray_bg=T) +\n",
    "        labs(title=\"Before centering and scaling\") +\n",
    "        geom_line(size=1.2) +\n",
    "        theme(axis.text=element_text(size=6), axis.title=element_text(size=8), plot.title=element_text(size=8))\n",
    "\n",
    "# plot after centering and scaling\n",
    "g2 <- ggplot(simData, aes(x=x, y=yPrime)) + theme_economist_white(gray_bg=T) +\n",
    "        labs(title=\"After centering and scaling\") +\n",
    "        geom_line(size=1.2) +\n",
    "        theme(axis.text=element_text(size=6), axis.title=element_text(size=8), plot.title=element_text(size=8))\n",
    "\n",
    "# bring plots together in one figure\n",
    "g <- plot_grid(g1, g2, ncol=1)\n",
    "ggdraw() + draw_plot(g, width=1, height=1)"
   ]
  },
  {
   "cell_type": "markdown",
   "metadata": {},
   "source": [
    "Notice how *after* the centering and scaling the data is centered around **zero** and has a much smaller range compared to *before*. Looks good, now let's move on!  \n",
    "\n",
    "#### 3.1.2 Cross-correlation  \n",
    "\n",
    "Cross-correlation measures well two data sets (time series) resemble each other.  If the two sets are offset from each other, they will show **maximum correlation** at that offset, or **lag**.  For our problem, we may be able to exploit cross-correlation to weight the data going into the predictive models. Data from wells closer to the test well are likely to be more predictive than data from wells farther from the test well due to having a similar depositional environment and having undergone similar geologic processes post-deposition.  \n",
    "\n",
    "We may be able to leverage cross-correlation to come up with a proxy for this similarity.  The **maximum correlation** and **lag** may approximate this similarity.  My thesis in this notebook is that log profiles which are most similar and least offset are most predictive.  \n",
    "\n",
    "Before we get there, we must build a cross-correlation function and test it!"
   ]
  },
  {
   "cell_type": "code",
   "execution_count": 8,
   "metadata": {
    "collapsed": true
   },
   "outputs": [],
   "source": [
    "# function to perform crosscorrelation between two vectors\n",
    "crossCorrelate <- function(a, b) {\n",
    "\n",
    "    # calculate cross-correlation between vectors a and b\n",
    "    ccor <- ccf(a, b, lag.max=400, plot=F)\n",
    "\n",
    "    # retrieve the maximum correlation and associated lag\n",
    "    corr <- max(ccor[[\"acf\"]][,,1])\n",
    "    lag <- ccor[[\"lag\"]][,,1][which.max(ccor[[\"acf\"]][,,1])]\n",
    "    \n",
    "    if (is.na(corr)) {\n",
    "        print(a)\n",
    "        print(b)\n",
    "    }\n",
    "    # return maximum correlation and associated lag\n",
    "    list(Correlation=corr, Lag=lag)\n",
    "}"
   ]
  },
  {
   "cell_type": "markdown",
   "metadata": {},
   "source": [
    "Now let's simulate some data and test the function!  My two 20-pt anomalies will occur 30-pts offset from each other.  Can cross-correlation resolve this?"
   ]
  },
  {
   "cell_type": "code",
   "execution_count": 9,
   "metadata": {
    "collapsed": false
   },
   "outputs": [
    {
     "data": {},
     "metadata": {},
     "output_type": "display_data"
    },
    {
     "data": {
      "image/png": "[encoded data removed]",
      "text/plain": [
       "plot without title"
      ]
     },
     "metadata": {},
     "output_type": "display_data"
    }
   ],
   "source": [
    "# basic plotting function\n",
    "plotSimLog <- function(data, plotTitle) {\n",
    "    g <- ggplot(data, aes(x=x, y=y)) + theme_economist_white(gray_bg=T) +\n",
    "        scale_y_continuous(lim=c(-1,2)) +\n",
    "        labs(title=plotTitle) +\n",
    "        geom_line() +\n",
    "        theme(axis.text=element_text(size=6), axis.title=element_text(size=8), plot.title=element_text(size=8))\n",
    "    g\n",
    "}\n",
    "\n",
    "set.seed(3124)\n",
    "\n",
    "# simulate some offset data\n",
    "a <- c(rep(0, 50), rep(1, 20), rep(0,30)) + rnorm(100,0,.25)\n",
    "b <- c(rep(0, 20), rep(1, 20), rep(0,60)) + rnorm(100,0,.25)\n",
    "ccorr <- crossCorrelate(a, b)\n",
    "\n",
    "# build plots of two simulated wells\n",
    "ga <- plotSimLog(data.frame(x=1:100, y=a), \"Well A\")\n",
    "gb <- plotSimLog(data.frame(x=1:100, y=b), \"Well B\") +\n",
    "        geom_text(aes(x=75, y=1, \n",
    "                      label=paste(\"Maximum correlation at lag\", ccorr$Lag, \":\", round(ccorr$Correlation,2)))\n",
    "                  , size=3.5, col=\"firebrick\")\n",
    "g <- plot_grid(ga, gb, ncol=1)\n",
    "ggdraw() + draw_plot(g, width=1, height=1)"
   ]
  },
  {
   "cell_type": "markdown",
   "metadata": {},
   "source": [
    "There we have it, even with noise added cross-correlation resolves a **lag** of **29** compared to the true offset of 30.  \n",
    "\n",
    "#### 3.1.3 Looping across features  \n",
    "\n",
    "It would be useful to have a function which can loop across several features in a pair of data frames and apply a given function.  So let's build one!"
   ]
  },
  {
   "cell_type": "code",
   "execution_count": 82,
   "metadata": {
    "collapsed": false
   },
   "outputs": [],
   "source": [
    "# apply a function \"FUN\" over columns of data frames \"a\" and \"b\"\n",
    "# NOTE: FUN must take two arguments, two vectors of data\n",
    "loopAcrossFeatures <- function(a, b, features, FUN) {\n",
    "    \n",
    "    # get list of columns for a and b dataframes\n",
    "    features_a <- names(a)[names(a) %in% features]\n",
    "    features_b <- names(b)[names(b) %in% features]\n",
    "    \n",
    "    # ensure a and b data frames have the same features\n",
    "    try ((if (!all.equal(features_a, features_b)) stop(\"Error! Data frames do not have the same features.\")))\n",
    "    \n",
    "    # initialize resulting data frame\n",
    "    r <- data.frame()\n",
    "    \n",
    "    # loop through features\n",
    "    for (feature in features) {\n",
    "        # retrieve the feature of interest from each data frame\n",
    "        av <- as.data.frame(a[,which(names(a) %in% feature)])\n",
    "        bv <- as.data.frame(b[,which(names(b) %in% feature)])\n",
    "        \n",
    "        # apply the function to the two features, storing in a data frame\n",
    "        temp <- as.data.frame(FUN(av, bv))\n",
    "        temp$feature <- feature\n",
    "       \n",
    "        # merge result with those of other features\n",
    "        r <- rbind(temp,r)\n",
    "    }\n",
    "    \n",
    "    r\n",
    "}"
   ]
  },
  {
   "cell_type": "markdown",
   "metadata": {},
   "source": [
    "Now let's test this function by applying our cross-correlation function to a pair of data frames containing simulated data!  The data simulated will have a 20-pt anomaly offset by 30-pt's between the two data sets."
   ]
  },
  {
   "cell_type": "code",
   "execution_count": 91,
   "metadata": {
    "collapsed": false
   },
   "outputs": [
    {
     "data": {
      "text/html": [
       "<table>\n",
       "<thead><tr><th scope=col>Correlation</th><th scope=col>Lag</th><th scope=col>feature</th></tr></thead>\n",
       "<tbody>\n",
       "\t<tr><td>0.2759573</td><td>37       </td><td>lg_noise </td></tr>\n",
       "\t<tr><td>0.8603389</td><td>30       </td><td>md_noise </td></tr>\n",
       "\t<tr><td>0.9243086</td><td>30       </td><td>sm_noise </td></tr>\n",
       "</tbody>\n",
       "</table>\n"
      ],
      "text/latex": [
       "\\begin{tabular}{r|lll}\n",
       " Correlation & Lag & feature\\\\\n",
       "\\hline\n",
       "\t 0.2759573  & 37         & lg\\_noise\\\\\n",
       "\t 0.8603389  & 30         & md\\_noise\\\\\n",
       "\t 0.9243086  & 30         & sm\\_noise\\\\\n",
       "\\end{tabular}\n"
      ],
      "text/plain": [
       "  Correlation Lag feature \n",
       "1 0.2759573   37  lg_noise\n",
       "2 0.8603389   30  md_noise\n",
       "3 0.9243086   30  sm_noise"
      ]
     },
     "metadata": {},
     "output_type": "display_data"
    }
   ],
   "source": [
    "set.seed(456)\n",
    "\n",
    "# simulate some data\n",
    "x <- 1:100\n",
    "a <- c(rep(0,50), rep(1,20),rep(0,30))\n",
    "b <- c(rep(0,20), rep(1,20),rep(0,60))\n",
    "\n",
    "# build data frames using simulated data - add increasing amount of noise to 'a' and 'b' vectors as features\n",
    "df1 <- data.frame(x=x, sm_noise=a+rnorm(100,0,.01), md_noise=a+rnorm(100,0,.1), lg_noise=a+rnorm(100,0,1))\n",
    "df2 <- data.frame(x=x, sm_noise=b+rnorm(100,0,.01), md_noise=b+rnorm(100,0,.1), lg_noise=b+rnorm(100,0,1))\n",
    "\n",
    "# loop across the features in the data frame\n",
    "loopAcrossFeatures(df1, df2, c(\"sm_noise\", \"md_noise\", \"lg_noise\"), crossCorrelate)"
   ]
  },
  {
   "cell_type": "markdown",
   "metadata": {},
   "source": [
    "Interesting!  This shows two things: A) our function is working, and B) with increasing the noise we get lower correlation and potentially incorrect **lag** (compared to the correct value of 30).  Something to keep in mind during the application of these functions moving forward."
   ]
  },
  {
   "cell_type": "code",
   "execution_count": 10,
   "metadata": {
    "collapsed": true
   },
   "outputs": [],
   "source": [
    "trainBlendedModel <- function(data, cost, gamma) {\n",
    "\n",
    "    # initialize model and params\n",
    "    fits <- list()\n",
    "    \n",
    "    # retrieve list of wells in data set\n",
    "    wells <- unique(data$Well.Name)\n",
    "    \n",
    "    # loop through wells\n",
    "    for (well_i in wells) {\n",
    "        # subset the data\n",
    "        data_i <- data[data$Well.Name == well_i,]\n",
    "        \n",
    "        # build the model for this well\n",
    "        fits[[well_i]] <- svm(Facies ~ ., data=data_i, kernel='radial', cost=cost, gamma=gamma)\n",
    "    }\n",
    "    \n",
    "    fits\n",
    "}"
   ]
  },
  {
   "cell_type": "code",
   "execution_count": 81,
   "metadata": {
    "collapsed": true
   },
   "outputs": [],
   "source": [
    "weightBlendedModel <- function(train, test) {\n",
    "    \n",
    "    # initialize weights list\n",
    "    crossCorrs <- data.frame(trainWell=factor(), testWell=factor(), feature=factor(), correlation=numeric(), lag=numeric())\n",
    "    \n",
    "    # retrieve list of wells in training set\n",
    "    trainWells <- unique(train$Well.Name)\n",
    "    \n",
    "    # loop through training wells\n",
    "    for (well_i in trainWells) {\n",
    "        # subset the data\n",
    "        train_i <- train[train$Well.Name == well_i,]\n",
    "        \n",
    "        # calculate cross-correlation for each feature between current training well and testing well\n",
    "        temp <- loopAcrossFeatures(centerScaleData(train_i), centerScaleData(test), \n",
    "                                   c(\"GR\", \"ILD_log10\", \"DeltaPHI\", \"PHIND\", \"isMarine\"), \n",
    "                                   crossCorrelate)\n",
    "        temp$trainWell <- well_i\n",
    "        temp$testWell <- test$Well.Name[1]\n",
    "        \n",
    "        # add current wells cross-correlation metrics to the data frame\n",
    "        crossCorrs <- rbind(crossCorrs, temp)\n",
    "    }\n",
    "    \n",
    "    crossCorrs\n",
    "}"
   ]
  },
  {
   "cell_type": "code",
   "execution_count": 12,
   "metadata": {
    "collapsed": true
   },
   "outputs": [],
   "source": [
    "buildBlendedModel <- function(train, test, features, cost, gamma) {\n",
    "    # initialize the blended model\n",
    "    blendedModel <- list()\n",
    "    \n",
    "    # train and weight the models\n",
    "    blendedModel[[\"fits\"]] <- trainBlendedModel(train, cost, gamma)\n",
    "    blendedModel[[\"weights\"]] <- weightBlendedModel(train, test, features)\n",
    "    \n",
    "    # return the blended model\n",
    "    blendedModel\n",
    "}"
   ]
  },
  {
   "cell_type": "code",
   "execution_count": 13,
   "metadata": {
    "collapsed": true
   },
   "outputs": [],
   "source": [
    "tuneBlendedModel <- function(data, features) {\n",
    "    \n",
    "    # retrieve list of wells in data set\n",
    "    wells <- unique(data$Well.Name)\n",
    "    \n",
    "    # loop through wells\n",
    "    for (well_i in wells) {\n",
    "        # split data into training and test (well_i is test)\n",
    "        split <- splitData(data, well_i)\n",
    "        \n",
    "        # build blended model using training data\n",
    "        buildBlendedModel(split[[1]], split[[2]], features, 10, 1)\n",
    "    }\n",
    "}"
   ]
  },
  {
   "cell_type": "code",
   "execution_count": 14,
   "metadata": {
    "collapsed": true
   },
   "outputs": [],
   "source": [
    "buildPlot <- function(data, plotTitle) {\n",
    "\n",
    "    # build correlation plot\n",
    "    gc <- ggplot(data, aes(feature, trainWell, fill=correlation)) + theme_economist_white(gray_bg=T) +\n",
    "            geom_raster(alpha=.8) +\n",
    "            labs(x=\"\", y=\"Well\", title=plotTitle) +\n",
    "            scale_fill_distiller(palette=\"Spectral\", name=\"\", direction=-1, lim=c(0.15, 0.8)) +\n",
    "            theme(legend.position=\"right\",\n",
    "                  plot.title=element_text(size=8), \n",
    "                  axis.text=element_text(size=6),\n",
    "                  axis.text.x=element_text(size=6, angle=90),\n",
    "                  axis.title=element_text(size=8),\n",
    "                  legend.text=element_text(size=8))\n",
    "    \n",
    "    # return the plots\n",
    "    gc\n",
    "}"
   ]
  },
  {
   "cell_type": "code",
   "execution_count": 77,
   "metadata": {
    "collapsed": false,
    "scrolled": false
   },
   "outputs": [
    {
     "name": "stdout",
     "output_type": "stream",
     "text": [
      "[1] \"data.frame\"\n",
      "[1] \"data.frame\"\n",
      "[1] \"data.frame\"\n",
      "[1] \"data.frame\"\n",
      "[1] \"data.frame\"\n",
      "[1] \"data.frame\"\n",
      "[1] \"data.frame\"\n",
      "[1] \"data.frame\"\n",
      "[1] \"data.frame\"\n",
      "[1] \"data.frame\"\n",
      "[1] \"data.frame\"\n",
      "[1] \"data.frame\"\n",
      "[1] \"data.frame\"\n",
      "[1] \"data.frame\"\n",
      "[1] \"data.frame\"\n",
      "[1] \"data.frame\"\n",
      "[1] \"data.frame\"\n",
      "[1] \"data.frame\"\n",
      "[1] \"data.frame\"\n",
      "[1] \"data.frame\"\n",
      "[1] \"data.frame\"\n",
      "[1] \"data.frame\"\n",
      "[1] \"data.frame\"\n",
      "[1] \"data.frame\"\n",
      "[1] \"data.frame\"\n",
      "[1] \"data.frame\"\n",
      "[1] \"data.frame\"\n",
      "[1] \"data.frame\"\n",
      "[1] \"data.frame\"\n",
      "[1] \"data.frame\"\n",
      "[1] \"data.frame\"\n",
      "[1] \"data.frame\"\n",
      "[1] \"data.frame\"\n",
      "[1] \"data.frame\"\n",
      "[1] \"data.frame\"\n",
      "[1] \"data.frame\"\n",
      "[1] \"data.frame\"\n",
      "[1] \"data.frame\"\n",
      "[1] \"data.frame\"\n",
      "[1] \"data.frame\"\n",
      "[1] \"data.frame\"\n",
      "[1] \"data.frame\"\n",
      "[1] \"data.frame\"\n",
      "[1] \"data.frame\"\n",
      "[1] \"data.frame\"\n",
      "[1] \"data.frame\"\n",
      "[1] \"data.frame\"\n",
      "[1] \"data.frame\"\n",
      "[1] \"data.frame\"\n",
      "[1] \"data.frame\"\n",
      "[1] \"data.frame\"\n",
      "[1] \"data.frame\"\n",
      "[1] \"data.frame\"\n",
      "[1] \"data.frame\"\n",
      "[1] \"data.frame\"\n",
      "[1] \"data.frame\"\n",
      "[1] \"data.frame\"\n",
      "[1] \"data.frame\"\n",
      "[1] \"data.frame\"\n",
      "[1] \"data.frame\"\n",
      "[1] \"data.frame\"\n",
      "[1] \"data.frame\"\n",
      "[1] \"data.frame\"\n",
      "[1] \"data.frame\"\n",
      "[1] \"data.frame\"\n",
      "[1] \"data.frame\"\n",
      "[1] \"data.frame\"\n",
      "[1] \"data.frame\"\n",
      "[1] \"data.frame\"\n",
      "[1] \"data.frame\"\n",
      "[1] \"data.frame\"\n",
      "[1] \"data.frame\"\n",
      "[1] \"data.frame\"\n",
      "[1] \"data.frame\"\n",
      "[1] \"data.frame\"\n",
      "[1] \"data.frame\"\n",
      "[1] \"data.frame\"\n",
      "[1] \"data.frame\"\n",
      "[1] \"data.frame\"\n",
      "[1] \"data.frame\"\n",
      "[1] \"data.frame\"\n",
      "[1] \"data.frame\"\n",
      "[1] \"data.frame\"\n",
      "[1] \"data.frame\"\n",
      "[1] \"data.frame\"\n",
      "[1] \"data.frame\"\n",
      "[1] \"data.frame\"\n",
      "[1] \"data.frame\"\n",
      "[1] \"data.frame\"\n",
      "[1] \"data.frame\"\n",
      "[1] \"data.frame\"\n",
      "[1] \"data.frame\"\n",
      "[1] \"data.frame\"\n",
      "[1] \"data.frame\"\n",
      "[1] \"data.frame\"\n",
      "[1] \"data.frame\"\n",
      "[1] \"data.frame\"\n",
      "[1] \"data.frame\"\n",
      "[1] \"data.frame\"\n",
      "[1] \"data.frame\"\n",
      "[1] \"data.frame\"\n",
      "[1] \"data.frame\"\n",
      "[1] \"data.frame\"\n",
      "[1] \"data.frame\"\n",
      "[1] \"data.frame\"\n",
      "[1] \"data.frame\"\n",
      "[1] \"data.frame\"\n",
      "[1] \"data.frame\"\n",
      "[1] \"data.frame\"\n",
      "[1] \"data.frame\"\n",
      "[1] \"data.frame\"\n",
      "[1] \"data.frame\"\n",
      "[1] \"data.frame\"\n",
      "[1] \"data.frame\"\n",
      "[1] \"data.frame\"\n",
      "[1] \"data.frame\"\n",
      "[1] \"data.frame\"\n",
      "[1] \"data.frame\"\n",
      "[1] \"data.frame\"\n",
      "[1] \"data.frame\"\n",
      "[1] \"data.frame\"\n",
      "[1] \"data.frame\"\n",
      "[1] \"data.frame\"\n",
      "[1] \"data.frame\"\n",
      "[1] \"data.frame\"\n",
      "[1] \"data.frame\"\n",
      "[1] \"data.frame\"\n",
      "[1] \"data.frame\"\n",
      "[1] \"data.frame\"\n",
      "[1] \"data.frame\"\n",
      "[1] \"data.frame\"\n",
      "[1] \"data.frame\"\n",
      "[1] \"data.frame\"\n",
      "[1] \"data.frame\"\n",
      "[1] \"data.frame\"\n",
      "[1] \"data.frame\"\n",
      "[1] \"data.frame\"\n",
      "[1] \"data.frame\"\n",
      "[1] \"data.frame\"\n",
      "[1] \"data.frame\"\n",
      "[1] \"data.frame\"\n",
      "[1] \"data.frame\"\n",
      "[1] \"data.frame\"\n",
      "[1] \"data.frame\"\n",
      "[1] \"data.frame\"\n",
      "[1] \"data.frame\"\n",
      "[1] \"data.frame\"\n",
      "[1] \"data.frame\"\n",
      "[1] \"data.frame\"\n",
      "[1] \"data.frame\"\n",
      "[1] \"data.frame\"\n",
      "[1] \"data.frame\"\n",
      "[1] \"data.frame\"\n",
      "[1] \"data.frame\"\n",
      "[1] \"data.frame\"\n",
      "[1] \"data.frame\"\n",
      "[1] \"data.frame\"\n",
      "[1] \"data.frame\"\n",
      "[1] \"data.frame\"\n",
      "[1] \"data.frame\"\n",
      "[1] \"data.frame\"\n",
      "[1] \"data.frame\"\n",
      "[1] \"data.frame\"\n",
      "[1] \"data.frame\"\n",
      "[1] \"data.frame\"\n",
      "[1] \"data.frame\"\n",
      "[1] \"data.frame\"\n",
      "[1] \"data.frame\"\n",
      "[1] \"data.frame\"\n",
      "[1] \"data.frame\"\n",
      "[1] \"data.frame\"\n",
      "[1] \"data.frame\"\n",
      "[1] \"data.frame\"\n",
      "[1] \"data.frame\"\n",
      "[1] \"data.frame\"\n",
      "[1] \"data.frame\"\n",
      "[1] \"data.frame\"\n",
      "[1] \"data.frame\"\n",
      "[1] \"data.frame\"\n",
      "[1] \"data.frame\"\n",
      "[1] \"data.frame\"\n",
      "[1] \"data.frame\"\n",
      "[1] \"data.frame\"\n",
      "[1] \"data.frame\"\n",
      "[1] \"data.frame\"\n",
      "[1] \"data.frame\"\n",
      "[1] \"data.frame\"\n",
      "[1] \"data.frame\"\n",
      "[1] \"data.frame\"\n",
      "[1] \"data.frame\"\n",
      "[1] \"data.frame\"\n",
      "[1] \"data.frame\"\n",
      "[1] \"data.frame\"\n",
      "[1] \"data.frame\"\n",
      "[1] \"data.frame\"\n",
      "[1] \"data.frame\"\n",
      "[1] \"data.frame\"\n",
      "[1] \"data.frame\"\n",
      "[1] \"data.frame\"\n",
      "[1] \"data.frame\"\n",
      "[1] \"data.frame\"\n",
      "[1] \"data.frame\"\n",
      "[1] \"data.frame\"\n",
      "[1] \"data.frame\"\n",
      "[1] \"data.frame\"\n",
      "[1] \"data.frame\"\n",
      "[1] \"data.frame\"\n",
      "[1] \"data.frame\"\n",
      "[1] \"data.frame\"\n",
      "[1] \"data.frame\"\n",
      "[1] \"data.frame\"\n",
      "[1] \"data.frame\"\n",
      "[1] \"data.frame\"\n",
      "[1] \"data.frame\"\n",
      "[1] \"data.frame\"\n",
      "[1] \"data.frame\"\n",
      "[1] \"data.frame\"\n",
      "[1] \"data.frame\"\n",
      "[1] \"data.frame\"\n",
      "[1] \"data.frame\"\n",
      "[1] \"data.frame\"\n",
      "[1] \"data.frame\"\n",
      "[1] \"data.frame\"\n",
      "[1] \"data.frame\"\n",
      "[1] \"data.frame\"\n",
      "[1] \"data.frame\"\n",
      "[1] \"data.frame\"\n",
      "[1] \"data.frame\"\n",
      "[1] \"data.frame\"\n",
      "[1] \"data.frame\"\n",
      "[1] \"data.frame\"\n",
      "[1] \"data.frame\"\n",
      "[1] \"data.frame\"\n",
      "[1] \"data.frame\"\n",
      "[1] \"data.frame\"\n",
      "[1] \"data.frame\"\n",
      "[1] \"data.frame\"\n",
      "[1] \"data.frame\"\n",
      "[1] \"data.frame\"\n",
      "[1] \"data.frame\"\n",
      "[1] \"data.frame\"\n",
      "[1] \"data.frame\"\n",
      "[1] \"data.frame\"\n",
      "[1] \"data.frame\"\n",
      "[1] \"data.frame\"\n",
      "[1] \"data.frame\"\n",
      "[1] \"data.frame\"\n",
      "[1] \"data.frame\"\n",
      "[1] \"data.frame\"\n",
      "[1] \"data.frame\"\n",
      "[1] \"data.frame\"\n",
      "[1] \"data.frame\"\n",
      "[1] \"data.frame\"\n",
      "[1] \"data.frame\"\n",
      "[1] \"data.frame\"\n",
      "[1] \"data.frame\"\n",
      "[1] \"data.frame\"\n",
      "[1] \"data.frame\"\n",
      "[1] \"data.frame\"\n",
      "[1] \"data.frame\"\n",
      "[1] \"data.frame\"\n",
      "[1] \"data.frame\"\n",
      "[1] \"data.frame\"\n",
      "[1] \"data.frame\"\n",
      "[1] \"data.frame\"\n",
      "[1] \"data.frame\"\n",
      "[1] \"data.frame\"\n",
      "[1] \"data.frame\"\n",
      "[1] \"data.frame\"\n",
      "[1] \"data.frame\"\n",
      "[1] \"data.frame\"\n",
      "[1] \"data.frame\"\n",
      "[1] \"data.frame\"\n",
      "[1] \"data.frame\"\n",
      "[1] \"data.frame\"\n",
      "[1] \"data.frame\"\n",
      "[1] \"data.frame\"\n",
      "[1] \"data.frame\"\n",
      "[1] \"data.frame\"\n",
      "[1] \"data.frame\"\n"
     ]
    },
    {
     "data": {
      "text/html": [
       "<table>\n",
       "<thead><tr><th scope=col>Correlation</th><th scope=col>Lag</th><th scope=col>feature</th><th scope=col>trainWell</th><th scope=col>testWell</th></tr></thead>\n",
       "<tbody>\n",
       "\t<tr><td>0.5899159  </td><td> 3         </td><td>isMarine   </td><td>ALEXANDER D</td><td>SHRIMPLIN  </td></tr>\n",
       "\t<tr><td>0.2904742  </td><td> 2         </td><td>PHIND      </td><td>ALEXANDER D</td><td>SHRIMPLIN  </td></tr>\n",
       "\t<tr><td>0.3987678  </td><td> 2         </td><td>DeltaPHI   </td><td>ALEXANDER D</td><td>SHRIMPLIN  </td></tr>\n",
       "\t<tr><td>0.4991333  </td><td> 2         </td><td>ILD_log10  </td><td>ALEXANDER D</td><td>SHRIMPLIN  </td></tr>\n",
       "\t<tr><td>0.3319546  </td><td>-3         </td><td>GR         </td><td>ALEXANDER D</td><td>SHRIMPLIN  </td></tr>\n",
       "\t<tr><td>0.6353270  </td><td>27         </td><td>isMarine   </td><td>LUKE G U   </td><td>SHRIMPLIN  </td></tr>\n",
       "</tbody>\n",
       "</table>\n"
      ],
      "text/latex": [
       "\\begin{tabular}{r|lllll}\n",
       " Correlation & Lag & feature & trainWell & testWell\\\\\n",
       "\\hline\n",
       "\t 0.5899159   &  3          & isMarine    & ALEXANDER D & SHRIMPLIN  \\\\\n",
       "\t 0.2904742   &  2          & PHIND       & ALEXANDER D & SHRIMPLIN  \\\\\n",
       "\t 0.3987678   &  2          & DeltaPHI    & ALEXANDER D & SHRIMPLIN  \\\\\n",
       "\t 0.4991333   &  2          & ILD\\_log10 & ALEXANDER D & SHRIMPLIN  \\\\\n",
       "\t 0.3319546   & -3          & GR          & ALEXANDER D & SHRIMPLIN  \\\\\n",
       "\t 0.6353270   & 27          & isMarine    & LUKE G U    & SHRIMPLIN  \\\\\n",
       "\\end{tabular}\n"
      ],
      "text/plain": [
       "  Correlation Lag feature   trainWell   testWell \n",
       "1 0.5899159    3  isMarine  ALEXANDER D SHRIMPLIN\n",
       "2 0.2904742    2  PHIND     ALEXANDER D SHRIMPLIN\n",
       "3 0.3987678    2  DeltaPHI  ALEXANDER D SHRIMPLIN\n",
       "4 0.4991333    2  ILD_log10 ALEXANDER D SHRIMPLIN\n",
       "5 0.3319546   -3  GR        ALEXANDER D SHRIMPLIN\n",
       "6 0.6353270   27  isMarine  LUKE G U    SHRIMPLIN"
      ]
     },
     "metadata": {},
     "output_type": "display_data"
    },
    {
     "data": {},
     "metadata": {},
     "output_type": "display_data"
    },
    {
     "data": {
      "image/png": "[encoded data removed]",
      "text/plain": [
       "plot without title"
      ]
     },
     "metadata": {},
     "output_type": "display_data"
    }
   ],
   "source": [
    "weights <- data.frame(trainWell=factor(), testWell=factor(), feature=factor(), correlation=numeric(), lag=numeric())\n",
    "trainLoop <- train[train$Well.Name != \"Recruit F9\",]\n",
    "wells <- unique(trainLoop$Well.Name)\n",
    "\n",
    "for (well_i in wells) {\n",
    "    split <- splitData(trainLoop, well_i)\n",
    "    atrain <- split[[1]]\n",
    "    atest <- split[[2]]\n",
    "    \n",
    "    weights <- rbind(weights, weightBlendedModel(atrain, atest))\n",
    "}\n",
    "head(weights)\n",
    "agg <- aggregate(Correlation ~ feature + testWell, data=weights, FUN=mean)\n",
    "names(agg) <- c(\"feature\", \"trainWell\", \"correlation\")\n",
    "\n",
    "options(repr.plot.width=4.5, repr.plot.height=3)\n",
    "plt <- buildPlot(agg, \"Mean Correlation by Test Well\")\n",
    "plt"
   ]
  },
  {
   "cell_type": "code",
   "execution_count": 57,
   "metadata": {
    "collapsed": false
   },
   "outputs": [
    {
     "data": {},
     "metadata": {},
     "output_type": "display_data"
    },
    {
     "data": {
      "image/png": "[encoded data removed]",
      "text/plain": [
       "plot without title"
      ]
     },
     "metadata": {},
     "output_type": "display_data"
    }
   ],
   "source": [
    "lagPlots <- list()\n",
    "corrPlots <- list()\n",
    "\n",
    "wells <- unique(weights$testWell)\n",
    "counter <- 1\n",
    "\n",
    "for (well_i in wells) {\n",
    "    subset <- weights[weights$testWell == well_i,]\n",
    "    corrPlots[[well_i]] <- buildPlot(subset, paste(\"Test Well:\", well_i))\n",
    " \n",
    "    counter <- counter + 1\n",
    "}\n",
    "\n",
    "options(repr.plot.width=8.5, repr.plot.height=11)\n",
    "g <- do.call(plot_grid, c(corrPlots, ncol=2))\n",
    "ggdraw() + draw_plot(g, width=1, height=1, y=-.005) + draw_plot_label(\"Maximum cross-well autocorrelation\", size=10)"
   ]
  },
  {
   "cell_type": "code",
   "execution_count": null,
   "metadata": {
    "collapsed": false
   },
   "outputs": [],
   "source": []
  },
  {
   "cell_type": "markdown",
   "metadata": {},
   "source": [
    "## Model tuning  \n",
    "\n",
    "Blahblahblah"
   ]
  },
  {
   "cell_type": "code",
   "execution_count": 4,
   "metadata": {
    "collapsed": true
   },
   "outputs": [],
   "source": [
    "# function to tune model"
   ]
  },
  {
   "cell_type": "code",
   "execution_count": 5,
   "metadata": {
    "collapsed": true
   },
   "outputs": [],
   "source": [
    "# execute model tuning, print the model tuning parameters"
   ]
  },
  {
   "cell_type": "markdown",
   "metadata": {},
   "source": [
    "## Training  \n",
    "\n",
    "Blahblahblah"
   ]
  },
  {
   "cell_type": "code",
   "execution_count": 6,
   "metadata": {
    "collapsed": true
   },
   "outputs": [],
   "source": [
    "# function to train model"
   ]
  },
  {
   "cell_type": "code",
   "execution_count": 7,
   "metadata": {
    "collapsed": true
   },
   "outputs": [],
   "source": [
    "# execute model training"
   ]
  },
  {
   "cell_type": "markdown",
   "metadata": {},
   "source": [
    "## Testing  \n",
    "\n",
    "Blahblahblah"
   ]
  },
  {
   "cell_type": "code",
   "execution_count": 8,
   "metadata": {
    "collapsed": true
   },
   "outputs": [],
   "source": [
    "# function to test model (on SHANKLE well)"
   ]
  },
  {
   "cell_type": "code",
   "execution_count": 9,
   "metadata": {
    "collapsed": true
   },
   "outputs": [],
   "source": [
    "# execute model testing"
   ]
  },
  {
   "cell_type": "markdown",
   "metadata": {},
   "source": [
    "## Conclusions  \n",
    "\n",
    "Blahblahblah"
   ]
  }
 ],
 "metadata": {
  "kernelspec": {
   "display_name": "R 3.2",
   "language": "R",
   "name": "ir32"
  },
  "language_info": {
   "codemirror_mode": "r",
   "file_extension": ".r",
   "mimetype": "text/x-r-source",
   "name": "R",
   "pygments_lexer": "r",
   "version": "3.2.4"
  }
 },
 "nbformat": 4,
 "nbformat_minor": 0
}
