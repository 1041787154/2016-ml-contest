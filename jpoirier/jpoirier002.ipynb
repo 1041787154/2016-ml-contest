{
 "cells": [
  {
   "cell_type": "markdown",
   "metadata": {},
   "source": [
    "# Facies classification using machine learning\n",
    "#### Joshua Poirier, [NEOS](https://www.neosgeo.com/)\n",
    "2016 SEG Machine Learning Competition  \n",
    "\n",
    "## Introduction\n",
    "\n",
    "This notebook demonstrates a novel way of training a machine learning algorithm to predict facies from well log data. The data set we use comes from a class exercise from The University of Kansas on Neural Networks and Fuzzy Systems. This exercise is based on a consortium project to use machine learning techniques to create a reservoir model of the largest gas fields in North America, the Hugoton and Panoma Fields.  \n",
    "\n",
    "The data set we will use contains log data from nine wells that have been labeled with a facies type based on core examination. I use this log data to train support vector machine (SVM) classifiers to predict the facies type. SVM's are a type of supervised learning algorithm which can be trained on data to perform classification and regression. The SVM algorithm uses the training data to fit an optimal hyperplane between the different classes (in our case - facies). \n",
    "\n",
    "My approach is to build multiple models and allow them to **vote** - this process is called **blended modeling**. The novelty in my approach is that I build a model for each well in the training data and weight it based on its cross-correlation with the well of interest. This is intended to re-introduce some spatial geometry to the problem. Wells closer to the well of interest are more likely to exhibit a similar log character. Cross-correlation between close wells should show smaller lag and higher maximum correlation. Furthermore, the lag may be used to pre-process the **RELPOS** (relative position) channel - enhancing the predictive nature of that feature.  \n",
    "\n",
    "To get started, let's load the libraries and supporting files!"
   ]
  },
  {
   "cell_type": "code",
   "execution_count": 1,
   "metadata": {
    "collapsed": false
   },
   "outputs": [
    {
     "name": "stderr",
     "output_type": "stream",
     "text": [
      "Warning message:\n",
      "\"package 'repr' was built under R version 3.2.5\"Warning message:\n",
      "\"package 'cowplot' was built under R version 3.2.5\"\n",
      "Attaching package: 'cowplot'\n",
      "\n",
      "The following object is masked from 'package:ggplot2':\n",
      "\n",
      "    ggsave\n",
      "\n",
      "Warning message:\n",
      "\"package 'e1071' was built under R version 3.2.5\""
     ]
    }
   ],
   "source": [
    "# supporting visualization libraries\n",
    "library(repr)\n",
    "library(ggplot2)\n",
    "library(ggthemes)\n",
    "library(cowplot)\n",
    "\n",
    "# libraries and supporting files\n",
    "library(e1071)\n",
    "#library(caret)"
   ]
  },
  {
   "cell_type": "markdown",
   "metadata": {},
   "source": [
    "## 2 Loading and splitting the data  \n",
    "\n",
    "Blahblahblah"
   ]
  },
  {
   "cell_type": "code",
   "execution_count": 2,
   "metadata": {
    "collapsed": true
   },
   "outputs": [],
   "source": [
    "# function to load data\n",
    "loadData <- function() {\n",
    "    fname <- \"../facies_vectors.csv\"\n",
    "    data <- read.csv(fname, colClasses=c(rep(\"factor\",3), rep(\"numeric\",6), \"factor\", \"numeric\"))\n",
    "    \n",
    "    data\n",
    "}"
   ]
  },
  {
   "cell_type": "code",
   "execution_count": 3,
   "metadata": {
    "collapsed": true
   },
   "outputs": [],
   "source": [
    "# function to pre-process the data\n",
    "preProcessData <- function(data) {\n",
    "    # convert NM_M channel into a binary channel \"isMarine\"\n",
    "    data$NM_M <- data$NM_M == \"2\"\n",
    "    names(data)[10] <- \"isMarine\"\n",
    "\n",
    "    # make the Facies channel more descriptive\n",
    "    levels(data$Facies) <- c(\"SS\", \"CSiS\", \"FSiS\", \"SiSh\", \"MS\", \"WS\", \"D\", \"PS\", \"BS\")\n",
    "    \n",
    "    data\n",
    "}"
   ]
  },
  {
   "cell_type": "code",
   "execution_count": 5,
   "metadata": {
    "collapsed": false
   },
   "outputs": [],
   "source": [
    "# function to split the data\n",
    "splitData <- function(data, testWell) {\n",
    "    testIndex <- data$Well.Name == testWell\n",
    "    \n",
    "    train <- data[!testIndex,]\n",
    "    test <- data[testIndex,]\n",
    "    split <- list(train, test)\n",
    "    \n",
    "    split\n",
    "}"
   ]
  },
  {
   "cell_type": "code",
   "execution_count": 6,
   "metadata": {
    "collapsed": false
   },
   "outputs": [
    {
     "data": {
      "text/html": [
       "'Training Data'"
      ],
      "text/latex": [
       "'Training Data'"
      ],
      "text/markdown": [
       "'Training Data'"
      ],
      "text/plain": [
       "[1] \"Training Data\""
      ]
     },
     "metadata": {},
     "output_type": "display_data"
    },
    {
     "data": {
      "text/html": [
       "<table>\n",
       "<thead><tr><th scope=col>Facies</th><th scope=col>Formation</th><th scope=col>Well.Name</th><th scope=col>Depth</th><th scope=col>GR</th><th scope=col>ILD_log10</th><th scope=col>DeltaPHI</th><th scope=col>PHIND</th><th scope=col>PE</th><th scope=col>isMarine</th><th scope=col>RELPOS</th></tr></thead>\n",
       "<tbody>\n",
       "\t<tr><td>FSiS     </td><td>A1 SH    </td><td>SHRIMPLIN</td><td>2793.0   </td><td>77.45    </td><td>0.664    </td><td> 9.9     </td><td>11.915   </td><td>4.6      </td><td>FALSE    </td><td>1.000    </td></tr>\n",
       "\t<tr><td>FSiS     </td><td>A1 SH    </td><td>SHRIMPLIN</td><td>2793.5   </td><td>78.26    </td><td>0.661    </td><td>14.2     </td><td>12.565   </td><td>4.1      </td><td>FALSE    </td><td>0.979    </td></tr>\n",
       "\t<tr><td>FSiS     </td><td>A1 SH    </td><td>SHRIMPLIN</td><td>2794.0   </td><td>79.05    </td><td>0.658    </td><td>14.8     </td><td>13.050   </td><td>3.6      </td><td>FALSE    </td><td>0.957    </td></tr>\n",
       "\t<tr><td>FSiS     </td><td>A1 SH    </td><td>SHRIMPLIN</td><td>2794.5   </td><td>86.10    </td><td>0.655    </td><td>13.9     </td><td>13.115   </td><td>3.5      </td><td>FALSE    </td><td>0.936    </td></tr>\n",
       "\t<tr><td>FSiS     </td><td>A1 SH    </td><td>SHRIMPLIN</td><td>2795.0   </td><td>74.58    </td><td>0.647    </td><td>13.5     </td><td>13.300   </td><td>3.4      </td><td>FALSE    </td><td>0.915    </td></tr>\n",
       "\t<tr><td>FSiS     </td><td>A1 SH    </td><td>SHRIMPLIN</td><td>2795.5   </td><td>73.97    </td><td>0.636    </td><td>14.0     </td><td>13.385   </td><td>3.6      </td><td>FALSE    </td><td>0.894    </td></tr>\n",
       "</tbody>\n",
       "</table>\n"
      ],
      "text/latex": [
       "\\begin{tabular}{r|lllllllllll}\n",
       " Facies & Formation & Well.Name & Depth & GR & ILD\\_log10 & DeltaPHI & PHIND & PE & isMarine & RELPOS\\\\\n",
       "\\hline\n",
       "\t FSiS      & A1 SH     & SHRIMPLIN & 2793.0    & 77.45     & 0.664     &  9.9      & 11.915    & 4.6       & FALSE     & 1.000    \\\\\n",
       "\t FSiS      & A1 SH     & SHRIMPLIN & 2793.5    & 78.26     & 0.661     & 14.2      & 12.565    & 4.1       & FALSE     & 0.979    \\\\\n",
       "\t FSiS      & A1 SH     & SHRIMPLIN & 2794.0    & 79.05     & 0.658     & 14.8      & 13.050    & 3.6       & FALSE     & 0.957    \\\\\n",
       "\t FSiS      & A1 SH     & SHRIMPLIN & 2794.5    & 86.10     & 0.655     & 13.9      & 13.115    & 3.5       & FALSE     & 0.936    \\\\\n",
       "\t FSiS      & A1 SH     & SHRIMPLIN & 2795.0    & 74.58     & 0.647     & 13.5      & 13.300    & 3.4       & FALSE     & 0.915    \\\\\n",
       "\t FSiS      & A1 SH     & SHRIMPLIN & 2795.5    & 73.97     & 0.636     & 14.0      & 13.385    & 3.6       & FALSE     & 0.894    \\\\\n",
       "\\end{tabular}\n"
      ],
      "text/plain": [
       "  Facies Formation Well.Name Depth  GR    ILD_log10 DeltaPHI PHIND  PE \n",
       "1 FSiS   A1 SH     SHRIMPLIN 2793.0 77.45 0.664      9.9     11.915 4.6\n",
       "2 FSiS   A1 SH     SHRIMPLIN 2793.5 78.26 0.661     14.2     12.565 4.1\n",
       "3 FSiS   A1 SH     SHRIMPLIN 2794.0 79.05 0.658     14.8     13.050 3.6\n",
       "4 FSiS   A1 SH     SHRIMPLIN 2794.5 86.10 0.655     13.9     13.115 3.5\n",
       "5 FSiS   A1 SH     SHRIMPLIN 2795.0 74.58 0.647     13.5     13.300 3.4\n",
       "6 FSiS   A1 SH     SHRIMPLIN 2795.5 73.97 0.636     14.0     13.385 3.6\n",
       "  isMarine RELPOS\n",
       "1 FALSE    1.000 \n",
       "2 FALSE    0.979 \n",
       "3 FALSE    0.957 \n",
       "4 FALSE    0.936 \n",
       "5 FALSE    0.915 \n",
       "6 FALSE    0.894 "
      ]
     },
     "metadata": {},
     "output_type": "display_data"
    },
    {
     "data": {
      "text/html": [
       "'Testing Data'"
      ],
      "text/latex": [
       "'Testing Data'"
      ],
      "text/markdown": [
       "'Testing Data'"
      ],
      "text/plain": [
       "[1] \"Testing Data\""
      ]
     },
     "metadata": {},
     "output_type": "display_data"
    },
    {
     "data": {
      "text/html": [
       "<table>\n",
       "<thead><tr><th></th><th scope=col>Facies</th><th scope=col>Formation</th><th scope=col>Well.Name</th><th scope=col>Depth</th><th scope=col>GR</th><th scope=col>ILD_log10</th><th scope=col>DeltaPHI</th><th scope=col>PHIND</th><th scope=col>PE</th><th scope=col>isMarine</th><th scope=col>RELPOS</th></tr></thead>\n",
       "<tbody>\n",
       "\t<tr><th scope=row>938</th><td>CSiS   </td><td>A1 SH  </td><td>SHANKLE</td><td>2774.5 </td><td>98.36  </td><td>0.642  </td><td>-0.1   </td><td>18.685 </td><td>2.9    </td><td>FALSE  </td><td>1.000  </td></tr>\n",
       "\t<tr><th scope=row>939</th><td>CSiS   </td><td>A1 SH  </td><td>SHANKLE</td><td>2775.0 </td><td>97.57  </td><td>0.631  </td><td> 7.9   </td><td>16.745 </td><td>3.2    </td><td>FALSE  </td><td>0.984  </td></tr>\n",
       "\t<tr><th scope=row>940</th><td>CSiS   </td><td>A1 SH  </td><td>SHANKLE</td><td>2775.5 </td><td>98.41  </td><td>0.615  </td><td>12.8   </td><td>14.105 </td><td>3.2    </td><td>FALSE  </td><td>0.968  </td></tr>\n",
       "\t<tr><th scope=row>941</th><td>CSiS   </td><td>A1 SH  </td><td>SHANKLE</td><td>2776.0 </td><td>85.92  </td><td>0.597  </td><td>13.0   </td><td>13.385 </td><td>3.4    </td><td>FALSE  </td><td>0.952  </td></tr>\n",
       "\t<tr><th scope=row>942</th><td>CSiS   </td><td>A1 SH  </td><td>SHANKLE</td><td>2776.5 </td><td>83.16  </td><td>0.592  </td><td>12.3   </td><td>13.345 </td><td>3.4    </td><td>FALSE  </td><td>0.935  </td></tr>\n",
       "\t<tr><th scope=row>943</th><td>CSiS   </td><td>A1 SH  </td><td>SHANKLE</td><td>2777.0 </td><td>82.56  </td><td>0.599  </td><td>12.9   </td><td>13.105 </td><td>3.5    </td><td>FALSE  </td><td>0.919  </td></tr>\n",
       "</tbody>\n",
       "</table>\n"
      ],
      "text/latex": [
       "\\begin{tabular}{r|lllllllllll}\n",
       "  & Facies & Formation & Well.Name & Depth & GR & ILD\\_log10 & DeltaPHI & PHIND & PE & isMarine & RELPOS\\\\\n",
       "\\hline\n",
       "\t938 & CSiS    & A1 SH   & SHANKLE & 2774.5  & 98.36   & 0.642   & -0.1    & 18.685  & 2.9     & FALSE   & 1.000  \\\\\n",
       "\t939 & CSiS    & A1 SH   & SHANKLE & 2775.0  & 97.57   & 0.631   &  7.9    & 16.745  & 3.2     & FALSE   & 0.984  \\\\\n",
       "\t940 & CSiS    & A1 SH   & SHANKLE & 2775.5  & 98.41   & 0.615   & 12.8    & 14.105  & 3.2     & FALSE   & 0.968  \\\\\n",
       "\t941 & CSiS    & A1 SH   & SHANKLE & 2776.0  & 85.92   & 0.597   & 13.0    & 13.385  & 3.4     & FALSE   & 0.952  \\\\\n",
       "\t942 & CSiS    & A1 SH   & SHANKLE & 2776.5  & 83.16   & 0.592   & 12.3    & 13.345  & 3.4     & FALSE   & 0.935  \\\\\n",
       "\t943 & CSiS    & A1 SH   & SHANKLE & 2777.0  & 82.56   & 0.599   & 12.9    & 13.105  & 3.5     & FALSE   & 0.919  \\\\\n",
       "\\end{tabular}\n"
      ],
      "text/plain": [
       "    Facies Formation Well.Name Depth  GR    ILD_log10 DeltaPHI PHIND  PE \n",
       "938 CSiS   A1 SH     SHANKLE   2774.5 98.36 0.642     -0.1     18.685 2.9\n",
       "939 CSiS   A1 SH     SHANKLE   2775.0 97.57 0.631      7.9     16.745 3.2\n",
       "940 CSiS   A1 SH     SHANKLE   2775.5 98.41 0.615     12.8     14.105 3.2\n",
       "941 CSiS   A1 SH     SHANKLE   2776.0 85.92 0.597     13.0     13.385 3.4\n",
       "942 CSiS   A1 SH     SHANKLE   2776.5 83.16 0.592     12.3     13.345 3.4\n",
       "943 CSiS   A1 SH     SHANKLE   2777.0 82.56 0.599     12.9     13.105 3.5\n",
       "    isMarine RELPOS\n",
       "938 FALSE    1.000 \n",
       "939 FALSE    0.984 \n",
       "940 FALSE    0.968 \n",
       "941 FALSE    0.952 \n",
       "942 FALSE    0.935 \n",
       "943 FALSE    0.919 "
      ]
     },
     "metadata": {},
     "output_type": "display_data"
    }
   ],
   "source": [
    "# load and pre-process the data\n",
    "data <- loadData()\n",
    "data <- preProcessData(data)\n",
    "\n",
    "# split the data\n",
    "split <- splitData(data, \"SHANKLE\")\n",
    "train <- split[[1]]\n",
    "test <- split[[2]]\n",
    "rm(split)\n",
    "\n",
    "\"Training Data\"\n",
    "head(train)\n",
    "\n",
    "\"Testing Data\"\n",
    "head(test)"
   ]
  },
  {
   "cell_type": "markdown",
   "metadata": {},
   "source": [
    "## 3 Exploratory Data Analysis  \n",
    "\n",
    "Blahblahblah  \n",
    "\n",
    "### 3.1 Function building and testing  \n",
    "\n",
    "To properly perform exploratory data analysis (and subsequent model tuning, training, and testing) we will need to build a few functions. Here, we'll build some functions and test them with simulated data.  \n",
    "\n",
    "#### 3.1.1 Centering and scaling data  \n",
    "\n",
    "Centering and scaling data is common practice in machine learning applications.  Considering our well problem, it's no stretch to imagine that the log responses between two wells may be similar; however, they may be offset or have different sensitivities.  This may result from imperfect instrument calibration, different vintages of data, or even geologic noise.  For our problem of predicting facies we want to remove these effects as much as possible.  As such, we center and scale *numeric* data - classification data are not centered or scaled (such as our **isMarine** feature) as that just wouldn't make sense!"
   ]
  },
  {
   "cell_type": "code",
   "execution_count": 7,
   "metadata": {
    "collapsed": true
   },
   "outputs": [],
   "source": [
    "# function to center/scale data\n",
    "centerScaleData <- function(data) {\n",
    "   \n",
    "    # we only want to center/scale data which is numeric\n",
    "    toScale <- sapply(data, class) == \"numeric\"\n",
    "    \n",
    "    # for each numeric feature in the data frame, center and scale\n",
    "    for (i in 1:length(toScale)) {\n",
    "        if (toScale[i]) {\n",
    "            data[,i] <- scale(data[,i])\n",
    "        }\n",
    "    }\n",
    "    \n",
    "    data\n",
    "}"
   ]
  },
  {
   "cell_type": "markdown",
   "metadata": {},
   "source": [
    "Now let's test this function to ensure it's working. I'll simulate some data and apply the function."
   ]
  },
  {
   "cell_type": "code",
   "execution_count": 8,
   "metadata": {
    "collapsed": false
   },
   "outputs": [
    {
     "data": {},
     "metadata": {},
     "output_type": "display_data"
    },
    {
     "data": {
      "image/png": "[encoded data removed]",
      "text/plain": [
       "plot without title"
      ]
     },
     "metadata": {},
     "output_type": "display_data"
    }
   ],
   "source": [
    "# simulate x and y data\n",
    "x <- 1:100\n",
    "y <- rep(10, 100)\n",
    "y[20:30] <- 5\n",
    "y[50:70] <- 20\n",
    "\n",
    "# build data frame with yPrime as the center and scaled 'y' data\n",
    "simData <- data.frame(x, y, centerScaleData(as.data.frame(y)))\n",
    "names(simData) <- c(\"x\", \"y\", \"yPrime\")\n",
    "\n",
    "options(repr.plot.width=8, repr.plot.height=4)\n",
    "\n",
    "# plot before centering and scaling\n",
    "g1 <- ggplot(simData, aes(x=x, y=y)) + theme_economist_white(gray_bg=T) +\n",
    "        labs(title=\"Before centering and scaling\") +\n",
    "        geom_line(size=1.2) +\n",
    "        theme(axis.text=element_text(size=6), axis.title=element_text(size=8), plot.title=element_text(size=8))\n",
    "\n",
    "# plot after centering and scaling\n",
    "g2 <- ggplot(simData, aes(x=x, y=yPrime)) + theme_economist_white(gray_bg=T) +\n",
    "        labs(title=\"After centering and scaling\") +\n",
    "        geom_line(size=1.2) +\n",
    "        theme(axis.text=element_text(size=6), axis.title=element_text(size=8), plot.title=element_text(size=8))\n",
    "\n",
    "# bring plots together in one figure\n",
    "g <- plot_grid(g1, g2, ncol=1)\n",
    "ggdraw() + draw_plot(g, width=1, height=1)"
   ]
  },
  {
   "cell_type": "markdown",
   "metadata": {},
   "source": [
    "Notice how *after* the centering and scaling the data is centered around **zero** and has a much smaller range compared to *before*. Looks good, now let's move on!  \n",
    "\n",
    "#### 3.1.2 Cross-correlation  \n",
    "\n",
    "Cross-correlation measures well two data sets (time series) resemble each other.  If the two sets are offset from each other, they will show **maximum correlation** at that offset, or **lag**.  For our problem, we may be able to exploit cross-correlation to weight the data going into the predictive models. Data from wells closer to the test well are likely to be more predictive than data from wells farther from the test well due to having a similar depositional environment and having undergone similar geologic processes post-deposition.  \n",
    "\n",
    "We may be able to leverage cross-correlation to come up with a proxy for this similarity.  The **maximum correlation** and **lag** may approximate this similarity.  My thesis in this notebook is that log profiles which are most similar and least offset are most predictive.  \n",
    "\n",
    "Before we get there, we must build a cross-correlation function and test it!"
   ]
  },
  {
   "cell_type": "code",
   "execution_count": 71,
   "metadata": {
    "collapsed": true
   },
   "outputs": [],
   "source": [
    "# function to perform crosscorrelation between two vectors\n",
    "crossCorrelate <- function(a, b) {\n",
    "    \n",
    "    # calculate cross-correlation between vectors a and b\n",
    "    ccor <- ccf(a, b, lag.max=400, plot=F)\n",
    "\n",
    "    # retrieve the maximum correlation and associated lag\n",
    "    corr <- max(ccor[[\"acf\"]][,,1])\n",
    "    lag <- ccor[[\"lag\"]][,,1][which.max(ccor[[\"acf\"]][,,1])]\n",
    "    \n",
    "    # return maximum correlation and associated lag\n",
    "    list(correlation=corr, lag=lag)\n",
    "}"
   ]
  },
  {
   "cell_type": "markdown",
   "metadata": {},
   "source": [
    "Now let's simulate some data and test the function!  My two 20-pt anomalies will occur 30-pts offset from each other.  Can cross-correlation resolve this?"
   ]
  },
  {
   "cell_type": "code",
   "execution_count": 10,
   "metadata": {
    "collapsed": false
   },
   "outputs": [
    {
     "data": {},
     "metadata": {},
     "output_type": "display_data"
    },
    {
     "data": {
      "image/png": "[encoded data removed]",
      "text/plain": [
       "plot without title"
      ]
     },
     "metadata": {},
     "output_type": "display_data"
    }
   ],
   "source": [
    "# basic plotting function\n",
    "plotSimLog <- function(data, plotTitle) {\n",
    "    g <- ggplot(data, aes(x=x, y=y)) + theme_economist_white(gray_bg=T) +\n",
    "        scale_y_continuous(lim=c(-1,2)) +\n",
    "        labs(title=plotTitle) +\n",
    "        geom_line(size=1) +\n",
    "        theme(axis.text=element_text(size=6), axis.title=element_text(size=8), plot.title=element_text(size=8))\n",
    "    g\n",
    "}\n",
    "\n",
    "set.seed(3124)\n",
    "\n",
    "# simulate some offset data\n",
    "a <- c(rep(0, 50), rep(1, 20), rep(0,30)) + rnorm(100,0,.25)\n",
    "b <- c(rep(0, 20), rep(1, 20), rep(0,60)) + rnorm(100,0,.25)\n",
    "ccorr <- crossCorrelate(a, b)\n",
    "\n",
    "# build plots of two simulated wells\n",
    "options(repr.plot.width=8, repr.plot.height=4)\n",
    "\n",
    "dfA <- data.frame(x=1:100, y=a)\n",
    "dfB <- data.frame(x=1:100, y=b)\n",
    "ga <- plotSimLog(dfA, \"Well A\")\n",
    "gb <- plotSimLog(dfB, \"Well B\") +\n",
    "        geom_text(aes(x=75, y=1.2, \n",
    "                      label=paste(\"Maximum correlation at lag\", ccorr$lag, \":\", round(ccorr$correlation,2)))\n",
    "                  , size=3.5, col=\"firebrick\")\n",
    "g <- plot_grid(ga, gb, ncol=1)\n",
    "ggdraw() + draw_plot(g, width=1, height=1)"
   ]
  },
  {
   "cell_type": "markdown",
   "metadata": {},
   "source": [
    "There we have it, even with noise added cross-correlation resolves a **lag** of **29** compared to the true offset of 30.  Now let's apply this lag to **Well B** to try and make it line up with **Well A**."
   ]
  },
  {
   "cell_type": "code",
   "execution_count": 11,
   "metadata": {
    "collapsed": false
   },
   "outputs": [
    {
     "data": {},
     "metadata": {},
     "output_type": "display_data"
    },
    {
     "data": {
      "image/png": "[encoded data removed]",
      "text/plain": [
       "plot without title"
      ]
     },
     "metadata": {},
     "output_type": "display_data"
    }
   ],
   "source": [
    "dfB2 <- dfB\n",
    "dfB2$x <- dfB$x + ccorr$lag\n",
    "\n",
    "ga <- plotSimLog(dfA, \"Well A\")\n",
    "gb <- plotSimLog(dfB2[dfB2$x <= 100,], \"Well B\") +\n",
    "        scale_x_continuous(lim=c(0,100)) +\n",
    "        geom_text(aes(x=25, y=1.2, \n",
    "                      label=\"Corrected anomaly position\")\n",
    "                  , size=3.5, col=\"firebrick\") \n",
    "g <- plot_grid(ga, gb, ncol=1)\n",
    "ggdraw() + draw_plot(g, width=1, height=1)"
   ]
  },
  {
   "cell_type": "markdown",
   "metadata": {},
   "source": [
    "#### 3.1.3 Looping across features  \n",
    "\n",
    "It would be useful to have a function which can loop across several features in a pair of data frames and apply a given function.  So let's build one!"
   ]
  },
  {
   "cell_type": "code",
   "execution_count": 63,
   "metadata": {
    "collapsed": false
   },
   "outputs": [],
   "source": [
    "# apply a function \"FUN\" over columns of data frames \"a\" and \"b\"\n",
    "# NOTE: FUN must take two arguments, two vectors of data\n",
    "loopAcrossFeatures <- function(a, b, features, FUN) {\n",
    "    \n",
    "    # get list of columns for a and b dataframes\n",
    "    features_a <- names(a)[names(a) %in% features]\n",
    "    features_b <- names(b)[names(b) %in% features]\n",
    "    \n",
    "    # ensure a and b data frames have the same features\n",
    "    try ((if (!all.equal(features_a, features_b)) stop(\"Error! Data frames do not have the same features.\")))\n",
    "    \n",
    "    # initialize resulting data frame\n",
    "    r <- data.frame()\n",
    "    \n",
    "    # loop through features\n",
    "    for (feature in features) {\n",
    "        # retrieve the feature vector of interest from each data frame\n",
    "        av <- as.data.frame(a[,which(names(a) %in% feature)])\n",
    "        bv <- as.data.frame(b[,which(names(b) %in% feature)])\n",
    "        \n",
    "        # apply the function to the two features, storing in a data frame\n",
    "        temp <- as.data.frame(FUN(av, bv))\n",
    "        temp$feature <- feature\n",
    "       \n",
    "        # merge result with those of other features\n",
    "        r <- rbind(temp,r)\n",
    "    }\n",
    "    \n",
    "    r\n",
    "}"
   ]
  },
  {
   "cell_type": "markdown",
   "metadata": {},
   "source": [
    "Now let's test this function by applying our cross-correlation function to a pair of data frames containing simulated data!  The data simulated will have a 20-pt anomaly offset by 30-pt's between the two data sets."
   ]
  },
  {
   "cell_type": "code",
   "execution_count": 13,
   "metadata": {
    "collapsed": false
   },
   "outputs": [
    {
     "data": {
      "text/html": [
       "<table>\n",
       "<thead><tr><th scope=col>correlation</th><th scope=col>lag</th><th scope=col>feature</th></tr></thead>\n",
       "<tbody>\n",
       "\t<tr><td>0.2759573</td><td>37       </td><td>lg_noise </td></tr>\n",
       "\t<tr><td>0.8603389</td><td>30       </td><td>md_noise </td></tr>\n",
       "\t<tr><td>0.9243086</td><td>30       </td><td>sm_noise </td></tr>\n",
       "</tbody>\n",
       "</table>\n"
      ],
      "text/latex": [
       "\\begin{tabular}{r|lll}\n",
       " correlation & lag & feature\\\\\n",
       "\\hline\n",
       "\t 0.2759573  & 37         & lg\\_noise\\\\\n",
       "\t 0.8603389  & 30         & md\\_noise\\\\\n",
       "\t 0.9243086  & 30         & sm\\_noise\\\\\n",
       "\\end{tabular}\n"
      ],
      "text/plain": [
       "  correlation lag feature \n",
       "1 0.2759573   37  lg_noise\n",
       "2 0.8603389   30  md_noise\n",
       "3 0.9243086   30  sm_noise"
      ]
     },
     "metadata": {},
     "output_type": "display_data"
    }
   ],
   "source": [
    "set.seed(456)\n",
    "\n",
    "# simulate some data\n",
    "x <- 1:100\n",
    "a <- c(rep(0,50), rep(1,20),rep(0,30))\n",
    "b <- c(rep(0,20), rep(1,20),rep(0,60))\n",
    "\n",
    "# build data frames using simulated data - add increasing amount of noise to 'a' and 'b' vectors as features\n",
    "df1 <- data.frame(x=x, sm_noise=a+rnorm(100,0,.01), md_noise=a+rnorm(100,0,.1), lg_noise=a+rnorm(100,0,1))\n",
    "df2 <- data.frame(x=x, sm_noise=b+rnorm(100,0,.01), md_noise=b+rnorm(100,0,.1), lg_noise=b+rnorm(100,0,1))\n",
    "\n",
    "# loop across the features in the data frame\n",
    "loopAcrossFeatures(df1, df2, c(\"sm_noise\", \"md_noise\", \"lg_noise\"), crossCorrelate)"
   ]
  },
  {
   "cell_type": "markdown",
   "metadata": {},
   "source": [
    "Interesting!  This shows two things: A) our function is working, and B) with increasing the noise we get lower correlation and potentially incorrect **lag** (compared to the correct value of 30).  Something to keep in mind during the application of these functions moving forward.  "
   ]
  },
  {
   "cell_type": "code",
   "execution_count": 69,
   "metadata": {
    "collapsed": true
   },
   "outputs": [],
   "source": [
    "# function looks at the training data and determines which of the relevant testFeatures it includes\n",
    "# returns list of features which can be used for training or weighting models\n",
    "# NOTE: VERY IMPORTANT that given test well has data for all features listed in testFeatures RE: PE feature\n",
    "whichFeatures <- function(train, testFeatures) {\n",
    "    \n",
    "    # ensure features have actual data\n",
    "    goodFeatures <- names(train)[!is.na(train[1,])]\n",
    "    \n",
    "    # certain features we're just not interested in modeling\n",
    "    badFeatures <- c(\"Formation\", \"Well.Name\", \"Depth\")\n",
    "    if (sum(train$Well.Name == \"Recruit F9\") == nrow(train)) badFeatures <- c(badFeatures, \"RELPOS\")\n",
    "    goodFeatures <- goodFeatures[!goodFeatures %in% badFeatures]\n",
    "\n",
    "    # finally, we only want to include features which also exist in the test data set\n",
    "    goodFeatures <- goodFeatures[goodFeatures %in% testFeatures]\n",
    "\n",
    "    goodFeatures\n",
    "}\n",
    "\n",
    "crossCorrData <- function(train, test) {\n",
    "    \n",
    "    # initialize weights list\n",
    "    crossCorrs <- data.frame(trainWell=factor(), testWell=factor(), feature=factor(), correlation=numeric(), lag=numeric())\n",
    "    \n",
    "    # retrieve list of wells in training set, and what features are in the test data\n",
    "    trainWells <- unique(train$Well.Name)\n",
    "    testFeatures <- names(test)[!is.na(test[1,])]\n",
    "    \n",
    "    # loop through training wells\n",
    "    for (well_i in trainWells) {\n",
    "        # subset the data\n",
    "        train_i <- train[train$Well.Name == well_i,]\n",
    "        features <- whichFeatures(train_i, testFeatures)\n",
    "        \n",
    "        # calculate cross-correlation for each feature between current training well and testing well\n",
    "        temp <- loopAcrossFeatures(centerScaleData(train_i), centerScaleData(test), features, crossCorrelate)\n",
    "        temp$trainWell <- well_i\n",
    "        temp$testWell <- test$Well.Name[1]\n",
    "        \n",
    "        # add current wells cross-correlation metrics to the data frame\n",
    "        crossCorrs <- rbind(crossCorrs, temp)\n",
    "    }\n",
    "    \n",
    "    crossCorrs\n",
    "}"
   ]
  },
  {
   "cell_type": "code",
   "execution_count": 15,
   "metadata": {
    "collapsed": true
   },
   "outputs": [],
   "source": [
    "buildPlot <- function(data, plotTitle) {\n",
    "\n",
    "    # build correlation plot\n",
    "    gc <- ggplot(data, aes(feature, trainWell, fill=correlation)) + theme_economist_white(gray_bg=T) +\n",
    "            geom_raster(alpha=.8) +\n",
    "            labs(x=\"\", y=\"Well\", title=plotTitle) +\n",
    "            scale_fill_distiller(palette=\"Spectral\", name=\"\", direction=-1, lim=c(0.15, 0.8)) +\n",
    "            theme(legend.position=\"right\",\n",
    "                  plot.title=element_text(size=8), \n",
    "                  axis.text=element_text(size=6),\n",
    "                  axis.text.x=element_text(size=6, angle=90),\n",
    "                  axis.title=element_text(size=8),\n",
    "                  legend.text=element_text(size=8))\n",
    "    \n",
    "    # return the plots\n",
    "    gc\n",
    "}"
   ]
  },
  {
   "cell_type": "markdown",
   "metadata": {},
   "source": [
    "### 3.2 Cross-correlation by feature  \n",
    "\n",
    "Different features (**GR**, **ILD_log10**, etc.) may exhibit different cross-correlation results.  I'll now loop through the training data wells and treat each iterated well as the *test* well.  We'll apply cross-correlation with the remaining wells and average their peak correlations to see which features are most correlative.  \n",
    "\n",
    "We will also (temporarily) discard the **Recruit F9** *well*.  This data does not represent an actual well; rather, curated data points for the facies **Phylloid-algal bafflestone** - so we'll treat it specially later."
   ]
  },
  {
   "cell_type": "code",
   "execution_count": 16,
   "metadata": {
    "collapsed": false,
    "scrolled": false
   },
   "outputs": [
    {
     "data": {},
     "metadata": {},
     "output_type": "display_data"
    },
    {
     "data": {
      "image/png": "[encoded data removed]",
      "text/plain": [
       "plot without title"
      ]
     },
     "metadata": {},
     "output_type": "display_data"
    }
   ],
   "source": [
    "trainLoop <- train[train$Well.Name != \"Recruit F9\",]\n",
    "wells <- unique(trainLoop$Well.Name)\n",
    "weights <- data.frame()\n",
    "\n",
    "for (well_i in wells) {\n",
    "    split <- splitData(trainLoop, well_i)\n",
    "    atrain <- split[[1]]\n",
    "    atest <- split[[2]]\n",
    "    \n",
    "    weights <- rbind(weights, crossCorrData(atrain, atest))\n",
    "}\n",
    "\n",
    "agg <- aggregate(correlation ~ feature + testWell, data=weights, FUN=mean)\n",
    "names(agg) <- c(\"feature\", \"trainWell\", \"correlation\")\n",
    "\n",
    "options(repr.plot.width=4.5, repr.plot.height=3)\n",
    "plt <- buildPlot(agg, \"Mean Correlation by Test Well\")\n",
    "plt"
   ]
  },
  {
   "cell_type": "markdown",
   "metadata": {},
   "source": [
    "From this, we see that the **isMarine** feature appears most correlative between wells followed by **ILD_log10**.  Since this is an aggregate plot, let's break this up to be thorough and look at the correlations for each well against the others for each feature. Similarly, the **CROSS H CATTLE** well appears to consistently have poorer correlation than other wells.  If we were trying to predict values from any other well, it would be logical to weight this wells data lower than the others!"
   ]
  },
  {
   "cell_type": "code",
   "execution_count": 17,
   "metadata": {
    "collapsed": false
   },
   "outputs": [
    {
     "data": {},
     "metadata": {},
     "output_type": "display_data"
    },
    {
     "data": {
      "image/png": "[encoded data removed]",
      "text/plain": [
       "plot without title"
      ]
     },
     "metadata": {},
     "output_type": "display_data"
    }
   ],
   "source": [
    "lagPlots <- list()\n",
    "corrPlots <- list()\n",
    "\n",
    "wells <- unique(weights$testWell)\n",
    "\n",
    "for (well_i in wells) {\n",
    "    subset <- weights[weights$testWell == well_i,]\n",
    "    corrPlots[[well_i]] <- buildPlot(subset, paste(\"Test Well:\", well_i))\n",
    "}\n",
    "\n",
    "options(repr.plot.width=8.5, repr.plot.height=11)\n",
    "g <- do.call(plot_grid, c(corrPlots, ncol=2))\n",
    "ggdraw() + draw_plot(g, width=1, height=1, y=-.005) + draw_plot_label(\"Maximum cross-well autocorrelation\", size=10)"
   ]
  },
  {
   "cell_type": "markdown",
   "metadata": {
    "collapsed": false
   },
   "source": [
    "Looking more thoroughly at the data shows similar patterns as previously discussed.  The **isMarine** and **ILD_log10** features correlate strongest and the **CROSS H CATTLE** well is notably less correlative with the remaining wells.  \n",
    "\n",
    "### 3.3 Build a basic model  \n",
    "\n",
    "Now let's start doing some actual model building!  First I'll partition the data and use the **SHRIMPLIN** well as the test data, the remaining wells will act as training data.  \n",
    "\n",
    "#### 3.3.1 Training a blended model  \n",
    "\n",
    "Blended modeling is a practice where many models are built - and in the regression case averaged.  Our application is classification of **Facies** - so each model votes on a classification.  The classification with the most votes is assigned.  \n",
    "\n",
    "For our application, we will build a predictive model for each well in the training set. The function which follows takes in the training data and returns a predictive model for each well in that training set."
   ]
  },
  {
   "cell_type": "code",
   "execution_count": 68,
   "metadata": {
    "collapsed": true
   },
   "outputs": [],
   "source": [
    "trainBlendedModel <- function(data, testFeatures, cost, gamma) {\n",
    "\n",
    "    # initialize model and params\n",
    "    fits <- list()\n",
    "    \n",
    "    # retrieve list of wells in data set\n",
    "    wells <- unique(data$Well.Name)\n",
    "    \n",
    "    # loop through training wells\n",
    "    for (well_i in wells) {\n",
    "        # subset the data\n",
    "        if (well_i == \"Recruit F9\") {\n",
    "            nRecruit <- nrow(data[data$Well.Name == well_i,])\n",
    "            nNon <- nrow(data[data$Well.Name != well_i,])\n",
    "            n <- nrow(data)\n",
    "            \n",
    "            set.seed(1234)\n",
    "            include <- sample(c(T,F), nNon, replace=T, prob=c(nRecruit/nNon, (nNon-nRecruit)/nNon))\n",
    "            data_i <- rbind(data[data$Well.Name == well_i,], data[data$Well.Name != well_i,][include,])\n",
    "        } else {\n",
    "            data_i <- data[data$Well.Name == well_i,]\n",
    "        }\n",
    "        \n",
    "        cols <- names(data_i) %in% whichFeatures(data_i, testFeatures)\n",
    "        data_i <- data_i[,cols]\n",
    "        \n",
    "        # build the model for this well\n",
    "        fits[[well_i]] <- svm(Facies ~ ., data=data_i, kernel='radial', cost=cost, gamma=gamma)\n",
    "    }\n",
    "    \n",
    "    fits\n",
    "}"
   ]
  },
  {
   "cell_type": "markdown",
   "metadata": {},
   "source": [
    "#### 3.3.2 Weight a blended model  \n",
    "\n",
    "blahblahblah"
   ]
  },
  {
   "cell_type": "code",
   "execution_count": 75,
   "metadata": {
    "collapsed": true
   },
   "outputs": [],
   "source": [
    "weightModel <- function(wells, lags, corrs, p) {\n",
    "    # we want small lags and high correlations, so scale accordingly\n",
    "    data <- data.frame(well=wells, lagscaled=lags/max(lags), corrscaled=(1-corrs))\n",
    "    data$lag <- lags\n",
    "    data$corr <- corrs\n",
    "    \n",
    "    # calculate the inverse distance weighting\n",
    "    # distance is calculated in lag-correlation data space\n",
    "    data$weight <- ((data$lagscaled^2 + data$corrscaled^2)^2)^(-p)\n",
    "    \n",
    "    # return well list and their respective model weights\n",
    "    data[,-c(2,3)]\n",
    "}\n",
    "\n",
    "weightBlendedModel <- function(train, test, method=\"maxCorr\", p=1, recruit_wgt=1) {\n",
    "    \n",
    "    # we need to treat Recruit F9 well differently, so let's parse it out\n",
    "    trainRecruit <- train[train$Well.Name == \"Recruit F9\",]\n",
    "    trainNon <- train[train$Well.Name != \"Recruit F9\",]\n",
    "    \n",
    "    # cross-correlate the test well with the training wells\n",
    "    testFeatures <- names(test)[!is.na(test[1,])]\n",
    "    cc <- crossCorrData(trainNon, test)\n",
    "    \n",
    "    # aggregate the cross-correlation results\n",
    "    if (method == \"maxCorr\") {\n",
    "        r <- data.frame()\n",
    "        aggMax <- aggregate(correlation~trainWell, cc, FUN=max)\n",
    "        trainWells <- unique(agg$trainWell)\n",
    "        for (well_i in trainWells) {\n",
    "            r <- rbind(r, cc[cc$trainWell == well_i & cc$correlation == aggMax$correlation[which(aggMax$trainWell==well_i)],])\n",
    "        }        \n",
    "    } else if (method == \"singleFeature\") {\n",
    "        r <- cc[cc$feature==\"isMarine\",]\n",
    "    } else if (method == \"mean\") {\n",
    "        r <- aggregate(cbind(lag,correlation)~trainWell,data=cc,FUN=mean)    \n",
    "    } else {\n",
    "        r <- aggregate(cbind(lag, correlation)~trainWell, data=cc, FUN=median)\n",
    "    }\n",
    "\n",
    "    # calculate a weighting\n",
    "    w <- weightModel(r$trainWell, r$lag, r$correlation, p)\n",
    "    w <- rbind(w, data.frame(well=\"Recruit F9\", lag=NA, corr=NA, weight=recruit_wgt))\n",
    "    w\n",
    "}"
   ]
  },
  {
   "cell_type": "markdown",
   "metadata": {},
   "source": [
    "#### 3.3.3 Build a blended model  \n",
    "\n",
    "Our blended model is essentially defined by the two previous functions.  Here we combine them into a single function object."
   ]
  },
  {
   "cell_type": "code",
   "execution_count": 76,
   "metadata": {
    "collapsed": true
   },
   "outputs": [],
   "source": [
    "buildBlendedModel <- function(train, test, \n",
    "                              method=\"maxCorr\",\n",
    "                              cost, gamma, p=1, recruit_wgt=1) {\n",
    "    \n",
    "    # initialize the blended model\n",
    "    blendedModel <- list()\n",
    "    \n",
    "    # weight the models\n",
    "    blendedModel[[\"weights\"]] <- weightBlendedModel(train, test, method=method, p, recruit_wgt)\n",
    "    \n",
    "    # train the models\n",
    "    testFeatures <- names(test)[!is.na(test[1,])]\n",
    "    blendedModel[[\"fits\"]] <- trainBlendedModel(train, testFeatures, cost, gamma)\n",
    "    \n",
    "    # return the blended model\n",
    "    blendedModel\n",
    "}"
   ]
  },
  {
   "cell_type": "markdown",
   "metadata": {},
   "source": [
    "Now let's build a blended model.  For this example, we'll use **SHRIMPLIN** as our test well and the remaining training wells for training."
   ]
  },
  {
   "cell_type": "code",
   "execution_count": 83,
   "metadata": {
    "collapsed": false
   },
   "outputs": [
    {
     "name": "stdout",
     "output_type": "stream",
     "text": [
      "$weights\n",
      "             well lag      corr    weight\n",
      "1     ALEXANDER D   3 0.5899159 2.4055027\n",
      "2 CHURCHMAN BIBLE   2 0.4739681 1.8939677\n",
      "3  CROSS H CATTLE  44 0.5302557 0.9051128\n",
      "4        KIMZEY A  21 0.5035521 1.4520997\n",
      "5        LUKE G U  26 0.6761038 1.4839960\n",
      "6           NEWBY  20 0.5817869 1.6189927\n",
      "7           NOLAN   6 0.7240133 3.2484711\n",
      "8      Recruit F9  NA        NA 2.0000000\n",
      "\n",
      "$fits\n",
      "$fits$`ALEXANDER D`\n",
      "\n",
      "Call:\n",
      "svm(formula = Facies ~ ., data = data_i, kernel = \"radial\", cost = cost, \n",
      "    gamma = gamma)\n",
      "\n",
      "\n",
      "Parameters:\n",
      "   SVM-Type:  C-classification \n",
      " SVM-Kernel:  radial \n",
      "       cost:  10 \n",
      "      gamma:  1 \n",
      "\n",
      "Number of Support Vectors:  328\n",
      "\n",
      "\n",
      "$fits$`LUKE G U`\n",
      "\n",
      "Call:\n",
      "svm(formula = Facies ~ ., data = data_i, kernel = \"radial\", cost = cost, \n",
      "    gamma = gamma)\n",
      "\n",
      "\n",
      "Parameters:\n",
      "   SVM-Type:  C-classification \n",
      " SVM-Kernel:  radial \n",
      "       cost:  10 \n",
      "      gamma:  1 \n",
      "\n",
      "Number of Support Vectors:  321\n",
      "\n",
      "\n",
      "$fits$`KIMZEY A`\n",
      "\n",
      "Call:\n",
      "svm(formula = Facies ~ ., data = data_i, kernel = \"radial\", cost = cost, \n",
      "    gamma = gamma)\n",
      "\n",
      "\n",
      "Parameters:\n",
      "   SVM-Type:  C-classification \n",
      " SVM-Kernel:  radial \n",
      "       cost:  10 \n",
      "      gamma:  1 \n",
      "\n",
      "Number of Support Vectors:  358\n",
      "\n",
      "\n",
      "$fits$`CROSS H CATTLE`\n",
      "\n",
      "Call:\n",
      "svm(formula = Facies ~ ., data = data_i, kernel = \"radial\", cost = cost, \n",
      "    gamma = gamma)\n",
      "\n",
      "\n",
      "Parameters:\n",
      "   SVM-Type:  C-classification \n",
      " SVM-Kernel:  radial \n",
      "       cost:  10 \n",
      "      gamma:  1 \n",
      "\n",
      "Number of Support Vectors:  333\n",
      "\n",
      "\n",
      "$fits$NOLAN\n",
      "\n",
      "Call:\n",
      "svm(formula = Facies ~ ., data = data_i, kernel = \"radial\", cost = cost, \n",
      "    gamma = gamma)\n",
      "\n",
      "\n",
      "Parameters:\n",
      "   SVM-Type:  C-classification \n",
      " SVM-Kernel:  radial \n",
      "       cost:  10 \n",
      "      gamma:  1 \n",
      "\n",
      "Number of Support Vectors:  338\n",
      "\n",
      "\n",
      "$fits$`Recruit F9`\n",
      "\n",
      "Call:\n",
      "svm(formula = Facies ~ ., data = data_i, kernel = \"radial\", cost = cost, \n",
      "    gamma = gamma)\n",
      "\n",
      "\n",
      "Parameters:\n",
      "   SVM-Type:  C-classification \n",
      " SVM-Kernel:  radial \n",
      "       cost:  10 \n",
      "      gamma:  1 \n",
      "\n",
      "Number of Support Vectors:  94\n",
      "\n",
      "\n",
      "$fits$NEWBY\n",
      "\n",
      "Call:\n",
      "svm(formula = Facies ~ ., data = data_i, kernel = \"radial\", cost = cost, \n",
      "    gamma = gamma)\n",
      "\n",
      "\n",
      "Parameters:\n",
      "   SVM-Type:  C-classification \n",
      " SVM-Kernel:  radial \n",
      "       cost:  10 \n",
      "      gamma:  1 \n",
      "\n",
      "Number of Support Vectors:  340\n",
      "\n",
      "\n",
      "$fits$`CHURCHMAN BIBLE`\n",
      "\n",
      "Call:\n",
      "svm(formula = Facies ~ ., data = data_i, kernel = \"radial\", cost = cost, \n",
      "    gamma = gamma)\n",
      "\n",
      "\n",
      "Parameters:\n",
      "   SVM-Type:  C-classification \n",
      " SVM-Kernel:  radial \n",
      "       cost:  10 \n",
      "      gamma:  1 \n",
      "\n",
      "Number of Support Vectors:  340\n",
      "\n",
      "\n",
      "\n"
     ]
    }
   ],
   "source": [
    "split <- splitData(train, \"SHRIMPLIN\")\n",
    "atrain <- split[[1]]\n",
    "atest <- split[[2]]\n",
    "\n",
    "testFeatures <- names(atest)[!is.na(atest[1,])]\n",
    "blendedModel <- buildBlendedModel(atrain, atest, method=\"maxCorr\", cost=10, gamma=1, p=.25, recruit_wgt=2)\n",
    "print(blendedModel)"
   ]
  },
  {
   "cell_type": "markdown",
   "metadata": {},
   "source": [
    "But we haven't predicted anything yet.  In fact, we haven't even built our prediction function yet!  So let's build a function which takes in a blended model and test data - and predict the **facies**."
   ]
  },
  {
   "cell_type": "code",
   "execution_count": 79,
   "metadata": {
    "collapsed": true
   },
   "outputs": [],
   "source": [
    "logplot <- function(x, incl_fac=TRUE, incl_pred=FALSE) {\n",
    "    facies_colors <- c('#F4D03F', '#F5B041', '#DC7633', '#6E2C00', '#1B4F72', '#2E86C1', '#AED6F1', '#A569BD', '#196F3D')\n",
    "    facies_labels <- c('SS', 'CSiS', 'FSiS', 'SiSh', 'MS', 'WS', 'D', 'PS', 'BS')\n",
    "    \n",
    "    # GR gamma ray track\n",
    "    g1 <- ggplot(x) + theme_economist_white(gray_bg=T) + \n",
    "        scale_y_continuous(lim=c(0,400), breaks=seq(0,400,100), labels=c(\"0\"=\"0\",\"100\"=\"\",\"200\"=\"200\",\"300\"=\"\",\"400\"=\"400\")) +\n",
    "        scale_x_continuous(trans=\"reverse\") + coord_flip() + labs(title=\"\", x=\"Depth\", y=\"GR\") +\n",
    "        geom_bar(stat=\"identity\", data=x, aes(x=Depth, y=GR, fill=GR, alpha=0.5), width=0.5) +\n",
    "        geom_line(aes(x=Depth, y=GR), lwd=.5, col='black') +\n",
    "        scale_fill_continuous(limits=c(0,225), low=\"yellow\", high=\"black\") +\n",
    "        theme(panel.grid.major.x = element_line(colour=\"gray\", size=0.5), legend.position=\"none\",\n",
    "             axis.text=element_text(size=6), axis.title=element_text(size=8,face=\"bold\"))\n",
    "    g1 <- switch_axis_position(g1, 'x')\n",
    "    \n",
    "    # ILD resistivity track (transform it back to actual units)\n",
    "    g2 <- ggplot(x) + theme_economist_white(gray_bg=T) +\n",
    "        scale_y_log10(lim=c(0.1,50), breaks=c(.1,.2,.4,.6,.8,1,2,4,6,8,10,20,40), \n",
    "                      labels=c(\".1\"=\".1\",\".2\"=\"\",\".4\"=\"\",\".6\"=\"\",\".8\"=\"\",\n",
    "                               \"1\"=\"1\",\"2\"=\"\",\"4\"=\"\",\"6\"=\"\",\"8\"=\"\",\"10\"=\"10\",\n",
    "                              \"20\"=\"\",\"40\"=\"\")) + \n",
    "        scale_x_continuous(trans=\"reverse\") + \n",
    "        coord_flip() + labs(title=\"\", x=\"\", y=\"ILD\") +\n",
    "        geom_line(aes(x=Depth, y=10^ILD_log10), lwd=.5, col=\"skyblue4\") +\n",
    "        theme(panel.grid.major.x = element_line(colour=\"gray\", size=0.25), legend.position=\"none\", \n",
    "              axis.text=element_text(size=6), axis.title=element_text(size=8,face=\"bold\"), axis.text.y=element_blank())\n",
    "    g2 <- switch_axis_position(g2, 'x')\n",
    "    \n",
    "    # DeltaPhi track\n",
    "    g3 <- ggplot(x) + theme_economist_white(gray_bg=T) +\n",
    "        scale_y_continuous(lim=c(-20,20), breaks=seq(-20,20,10),labels=c(\"-20\"=\"-20\",\"-10\"=\"\",\"0\"=\"0\",\"10\"=\"\",\"20\"=\"20\")) + \n",
    "        scale_x_continuous(trans=\"reverse\") + coord_flip() + labs(title=\"\", x=\"\", y=\"DeltaPhi\") +\n",
    "        geom_line(aes(x=Depth, y=DeltaPHI), lwd=.5, col=\"seagreen4\") +\n",
    "        theme(panel.grid.major.x = element_line(colour=\"gray\", size=0.25), legend.position=\"none\", \n",
    "              axis.text=element_text(size=6), axis.title=element_text(size=8,face=\"bold\"), axis.text.y=element_blank())\n",
    "    g3 <- switch_axis_position(g3, 'x')\n",
    "    \n",
    "    # PHIND neutron porosity track\n",
    "    g4 <- ggplot(x) + theme_economist_white(gray_bg=T) +\n",
    "        scale_y_continuous(lim=c(0,50), breaks=c(0,15,30,45)) + scale_x_continuous(trans=\"reverse\") +\n",
    "        coord_flip() + labs(title=\"\", x=\"\", y=\"PHIND\") +\n",
    "        geom_line(aes(x=Depth, y=PHIND), lwd=.5, col=\"firebrick\") +\n",
    "        theme(panel.grid.major.x = element_line(colour=\"gray\", size=0.25), legend.position=\"none\", \n",
    "              axis.text=element_text(size=6), axis.title=element_text(size=8,face=\"bold\"), axis.text.y=element_blank())\n",
    "    g4 <- switch_axis_position(g4, 'x')\n",
    "    \n",
    "    # PE photoelectric effect track\n",
    "    g5 <- ggplot(x) + theme_economist_white(gray_bg=T) +\n",
    "        scale_y_continuous(lim=c(0,8), breaks=c(0,2,4,6,8)) + scale_x_continuous(trans=\"reverse\") +\n",
    "        coord_flip() + labs(title=\"\", x=\"\", y=\"PE\") +\n",
    "        geom_line(aes(x=Depth, y=PE), lwd=.5, col=\"black\") +\n",
    "        theme(panel.grid.major.x = element_line(colour=\"gray\", size=0.25), legend.position=\"none\", \n",
    "              axis.text=element_text(size=6), axis.title=element_text(size=8,face=\"bold\"), axis.text.y=element_blank())\n",
    "    g5 <- switch_axis_position(g5, 'x')\n",
    "    \n",
    "    x$ones <- rep(1, nrow(x))\n",
    "    # build a facies track if we are to include\n",
    "    if (incl_fac) {\n",
    "        g6 <- ggplot(x) + theme_economist_white(gray_bg=T) +\n",
    "            scale_y_continuous(lim=c(-0.1,1.1), breaks=c(0,1), labels=c(\"0\"=\"\", \"1\"=\"\")) + scale_x_continuous(trans=\"reverse\") +\n",
    "            coord_flip() + labs(title=\"\", x=\"\", y=\"Facies\") +\n",
    "            geom_bar(stat=\"identity\", data=x, aes(x=Depth, y=ones, fill=Facies), width=0.5) +\n",
    "            scale_fill_manual(values=facies_colors, drop=F, labels=facies_labels) +\n",
    "            theme(axis.title=element_text(size=8,face=\"bold\"), axis.text.y=element_blank(), axis.text.x=element_text(size=6))\n",
    "    }\n",
    "    \n",
    "    # build a prediction track if we are to include\n",
    "    if (incl_pred) {\n",
    "        # build Predicted Facies track\n",
    "        g7 <- ggplot(x) + theme_economist_white(gray_bg=T) +\n",
    "            scale_y_continuous(lim=c(-0.1,1.1), breaks=c(0,1), labels=c(\"0\"=\"\", \"1\"=\"\")) + scale_x_continuous(trans=\"reverse\") +\n",
    "            coord_flip() + labs(title=\"\", x=\"\", y=\"Predicted\") +\n",
    "            geom_bar(stat=\"identity\", data=x, aes(x=Depth, y=ones, fill=Predicted), width=0.5) +\n",
    "            scale_fill_manual(values=facies_colors, drop=F, labels=facies_labels) +\n",
    "            theme(legend.position=\"right\", legend.text=element_text(size=6), legend.title=element_blank()) +\n",
    "            theme(axis.title=element_text(size=8,face=\"bold\"), axis.text.y=element_blank(), axis.text.x=element_text(size=6))\n",
    "        g7 <- switch_axis_position(g7, 'x')\n",
    "        \n",
    "        # finish off Facies track with no legend if we are to include\n",
    "        if (incl_fac) {\n",
    "            g6 <- g6 + theme(legend.position=\"none\")\n",
    "            g6 <- switch_axis_position(g6, 'x')\n",
    "            \n",
    "            # bring all the tracks together as a grid\n",
    "            g <- plot_grid(g1, g2, g3, g4, g5, g6, g7, ncol=7, rel_widths=c(4,3,3,3,3,2,5))\n",
    "        }\n",
    "        else {\n",
    "            # bring all the tracks together as a grid\n",
    "            g <- plot_grid(g1, g2, g3, g4, g5, g7, ncol=6, rel_widths=c(4,3,3,3,3,5))\n",
    "        }\n",
    "        \n",
    "        ggdraw() + draw_plot(g, width=1, height=1) + draw_plot_label(x$Well.Name[1], size=10)\n",
    "    }\n",
    "    else {\n",
    "        if (incl_fac) {\n",
    "            # finish off Facies track with a legend\n",
    "            g6 <- g6 + theme(legend.position=\"right\", legend.text=element_text(size=6), legend.title=element_blank())\n",
    "            g6 <- switch_axis_position(g6, 'x')\n",
    "            \n",
    "            # bring all the tracks together as a grid\n",
    "            g <- plot_grid(g1, g2, g3, g4, g5, g6, ncol=6, rel_widths=c(4,3,3,3,3,6))\n",
    "        }\n",
    "        else {\n",
    "            # bring all the tracks together as a grid\n",
    "            g <- plot_grid(g1, g2, g3, g4, g5, ncol=5, rel_widths=c(4,3,3,3,3))\n",
    "        }\n",
    "        \n",
    "        ggdraw() + draw_plot(g, width=1, height=1) + draw_plot_label(x$Well.Name[1], size=10)    \n",
    "    }\n",
    "}"
   ]
  },
  {
   "cell_type": "code",
   "execution_count": 85,
   "metadata": {
    "collapsed": false
   },
   "outputs": [
    {
     "data": {},
     "metadata": {},
     "output_type": "display_data"
    },
    {
     "data": {
      "image/png": "[encoded data removed]",
      "text/plain": [
       "plot without title"
      ]
     },
     "metadata": {},
     "output_type": "display_data"
    }
   ],
   "source": [
    "tallyVotes <- function(test, blendedModel, classes) {\n",
    "    wells <- names(blendedModel[[\"fits\"]])\n",
    "    \n",
    "    # initialize data frame for weighted vote tallies with zeros\n",
    "    votes <- data.frame(matrix(0, nrow = nrow(test), ncol = length(classes)))\n",
    "    names(votes) <- classes\n",
    "    \n",
    "    for (well_i in wells) {\n",
    "        predictions <- predict(blendedModel[[\"fits\"]][[well_i]], newdata=test)\n",
    "        \n",
    "        for (i in 1:nrow(test)) {\n",
    "            # retrieve the weight to be added\n",
    "            df <- blendedModel[[\"weights\"]]\n",
    "            w <- df[df$well == well_i, 4]\n",
    "            \n",
    "            # add well weight\n",
    "            votes[i, which(names(votes) %in% predictions[i])] <- votes[i, which(names(votes) %in% predictions[i])] + w\n",
    "        }\n",
    "    }\n",
    "    \n",
    "    votes\n",
    "}\n",
    "\n",
    "electClass <- function(test, votes) {\n",
    "\n",
    "    for (i in 1:nrow(test)) {\n",
    "        test$Predicted[i] <- names(votes)[which.max(votes[i,])]\n",
    "    }\n",
    "    \n",
    "    test\n",
    "}\n",
    "\n",
    "predictBlendedModel <- function(test, blendedModel, classes) {\n",
    "\n",
    "    votes <- tallyVotes(test, blendedModel, classes)\n",
    "    test <- electClass(test, votes)\n",
    "    \n",
    "    test\n",
    "    \n",
    "}\n",
    "\n",
    "classes <- levels(data$Facies)\n",
    "test_predict <- predictBlendedModel(atest, blendedModel, classes)\n",
    "\n",
    "options(repr.plot.width=10, repr.plot.height=8)\n",
    "logplot(test_predict, TRUE, TRUE)"
   ]
  },
  {
   "cell_type": "markdown",
   "metadata": {},
   "source": [
    "## Model tuning  \n",
    "\n",
    "Blahblahblah"
   ]
  },
  {
   "cell_type": "code",
   "execution_count": 4,
   "metadata": {
    "collapsed": true
   },
   "outputs": [],
   "source": [
    "# function to tune model\n",
    "tuneBlendedModel <- function(data, features) {\n",
    "    \n",
    "    # retrieve list of wells in data set\n",
    "    wells <- unique(data$Well.Name)\n",
    "    \n",
    "    # loop through wells\n",
    "    for (well_i in wells) {\n",
    "        # split data into training and test (well_i is test)\n",
    "        split <- splitData(data, well_i)\n",
    "        atrain <- split[[1]]\n",
    "        atest <- split[[2]]\n",
    "        \n",
    "        # build blended model using training data\n",
    "        buildBlendedModel(atrain, atest, features, 10, 1)\n",
    "    }\n",
    "}"
   ]
  },
  {
   "cell_type": "code",
   "execution_count": 5,
   "metadata": {
    "collapsed": true
   },
   "outputs": [],
   "source": [
    "# execute model tuning, print the model tuning parameters"
   ]
  },
  {
   "cell_type": "markdown",
   "metadata": {},
   "source": [
    "## Training  \n",
    "\n",
    "Blahblahblah"
   ]
  },
  {
   "cell_type": "code",
   "execution_count": 6,
   "metadata": {
    "collapsed": true
   },
   "outputs": [],
   "source": [
    "# function to train model"
   ]
  },
  {
   "cell_type": "code",
   "execution_count": 7,
   "metadata": {
    "collapsed": true
   },
   "outputs": [],
   "source": [
    "# execute model training"
   ]
  },
  {
   "cell_type": "markdown",
   "metadata": {},
   "source": [
    "## Testing  \n",
    "\n",
    "Blahblahblah"
   ]
  },
  {
   "cell_type": "code",
   "execution_count": 8,
   "metadata": {
    "collapsed": true
   },
   "outputs": [],
   "source": [
    "# function to test model (on SHANKLE well)"
   ]
  },
  {
   "cell_type": "code",
   "execution_count": 9,
   "metadata": {
    "collapsed": true
   },
   "outputs": [],
   "source": [
    "# execute model testing"
   ]
  },
  {
   "cell_type": "markdown",
   "metadata": {},
   "source": [
    "## Conclusions  \n",
    "\n",
    "Blahblahblah"
   ]
  }
 ],
 "metadata": {
  "kernelspec": {
   "display_name": "R 3.2",
   "language": "R",
   "name": "ir32"
  },
  "language_info": {
   "codemirror_mode": "r",
   "file_extension": ".r",
   "mimetype": "text/x-r-source",
   "name": "R",
   "pygments_lexer": "r",
   "version": "3.2.4"
  }
 },
 "nbformat": 4,
 "nbformat_minor": 0
}
