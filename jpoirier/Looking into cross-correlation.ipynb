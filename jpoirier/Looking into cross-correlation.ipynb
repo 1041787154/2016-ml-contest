{
 "cells": [
  {
   "cell_type": "markdown",
   "metadata": {},
   "source": [
    "# Looking into cross-correlation  \n",
    "#### Joshua Poirier, [NEOS](http://www.neosgeo.com)  \n",
    "2016 SEG Machine Learning Contest  \n",
    "\n",
    "## 1 Introduction  \n",
    "\n",
    "The purpose of this notebook is to examine the strength of cross-correlation between wells for the different features in our data set.  The idea is that we may be able to replace the **RELPOS** relative position feature with something more geologically (and predictively) meaningful.  The strata may be dipping, so a horizon (and thereby subsequent facies) may occur in the upper half in some wells but the lower half in others.  Let's demonstrate this with a simple synthetic example.  "
   ]
  },
  {
   "cell_type": "code",
   "execution_count": 2,
   "metadata": {
    "collapsed": false
   },
   "outputs": [],
   "source": [
    "# visualization packages\n",
    "library(repr)\n",
    "library(ggplot2)\n",
    "library(ggthemes)\n",
    "library(cowplot)"
   ]
  },
  {
   "cell_type": "markdown",
   "metadata": {},
   "source": [
    "## 2 Synthetic example  \n",
    "\n",
    "Let's create a synthetic binary log for seven wells.  Each show a 10 foot anomalous section offset from each other (dipping into the basin)."
   ]
  },
  {
   "cell_type": "code",
   "execution_count": 3,
   "metadata": {
    "collapsed": false
   },
   "outputs": [
    {
     "data": {
      "text/html": [
       "<table>\n",
       "<thead><tr><th scope=col>depth</th><th scope=col>clean</th><th scope=col>noisy</th><th scope=col>well</th></tr></thead>\n",
       "<tbody>\n",
       "\t<tr><td>1          </td><td>0          </td><td>-0.33378482</td><td>A          </td></tr>\n",
       "\t<tr><td>2          </td><td>0          </td><td>-0.46925550</td><td>A          </td></tr>\n",
       "\t<tr><td>3          </td><td>0          </td><td> 0.37076913</td><td>A          </td></tr>\n",
       "\t<tr><td>4          </td><td>0          </td><td> 0.45729757</td><td>A          </td></tr>\n",
       "\t<tr><td>5          </td><td>0          </td><td> 0.07645273</td><td>A          </td></tr>\n",
       "\t<tr><td>6          </td><td>0          </td><td> 0.02481650</td><td>A          </td></tr>\n",
       "</tbody>\n",
       "</table>\n"
      ],
      "text/latex": [
       "\\begin{tabular}{r|llll}\n",
       " depth & clean & noisy & well\\\\\n",
       "\\hline\n",
       "\t 1           & 0           & -0.33378482 & A          \\\\\n",
       "\t 2           & 0           & -0.46925550 & A          \\\\\n",
       "\t 3           & 0           &  0.37076913 & A          \\\\\n",
       "\t 4           & 0           &  0.45729757 & A          \\\\\n",
       "\t 5           & 0           &  0.07645273 & A          \\\\\n",
       "\t 6           & 0           &  0.02481650 & A          \\\\\n",
       "\\end{tabular}\n"
      ],
      "text/plain": [
       "  depth clean noisy       well\n",
       "1 1     0     -0.33378482 A   \n",
       "2 2     0     -0.46925550 A   \n",
       "3 3     0      0.37076913 A   \n",
       "4 4     0      0.45729757 A   \n",
       "5 5     0      0.07645273 A   \n",
       "6 6     0      0.02481650 A   "
      ]
     },
     "metadata": {},
     "output_type": "display_data"
    }
   ],
   "source": [
    "set.seed(3124)\n",
    "\n",
    "# initialize with zero values\n",
    "df <- data.frame(depth=rep(1:100,7),\n",
    "                clean=rep(0,700),\n",
    "                noisy=rep(0,700),\n",
    "                well=c(rep(\"A\",100),rep(\"B\",100),rep(\"C\",100),\n",
    "                       rep(\"D\",100),rep(\"E\",100),rep(\"F\",100),\n",
    "                       rep(\"G\",100)))\n",
    "\n",
    "# add anomalies and noise\n",
    "for (i in 1:7) {\n",
    "    start <- (i-1)*100 + i*10\n",
    "    end <- (i-1)*100 + i*10 + 10\n",
    "    df$clean[start:end] <- 1\n",
    "}\n",
    "df$noisy <- df$clean + rnorm(700,0,.25)\n",
    "\n",
    "head(df)"
   ]
  },
  {
   "cell_type": "markdown",
   "metadata": {},
   "source": [
    "Now let's plot these wells."
   ]
  },
  {
   "cell_type": "code",
   "execution_count": 91,
   "metadata": {
    "collapsed": false
   },
   "outputs": [],
   "source": [
    "# basic plotting function\n",
    "plotLog <- function(x, isA=F) {\n",
    "    names(x) <- c(\"Depth\", \"CleanLog\", \"NoisyLog\", \"Well\")\n",
    "    g <- ggplot(x) + theme_economist_white(gray_bg=T) +\n",
    "        scale_y_continuous(lim=c(-1,2)) + \n",
    "        scale_x_continuous(trans=\"reverse\") + coord_flip() + labs(title=\"\", x=\"\", y=x$Well[1]) +\n",
    "        geom_line(aes(x=Depth, y=CleanLog), lwd=.75, col=\"seagreen3\") +\n",
    "        geom_line(aes(x=Depth, y=NoisyLog), lwd=.75, col=\"firebrick\") +\n",
    "        geom_text(aes(x=0, y=.5, \n",
    "                      label=\"Green: True \\n Red: Noisy data\"), size=3, col=\"black\") +\n",
    "        theme(panel.grid.major.x = element_line(colour=\"gray\", size=0.25), legend.position=\"none\", \n",
    "              axis.text=element_text(size=6), axis.title=element_text(size=8,face=\"bold\"), axis.text.y=element_blank())\n",
    "    if (isA) {g <- g + labs(x=\"x\") + theme(axis.text.y=element_text(size=6))}\n",
    "    g <- switch_axis_position(g, 'x')\n",
    "    g\n",
    "}"
   ]
  },
  {
   "cell_type": "code",
   "execution_count": 92,
   "metadata": {
    "collapsed": false
   },
   "outputs": [
    {
     "data": {},
     "metadata": {},
     "output_type": "display_data"
    },
    {
     "data": {
      "image/png": "[encoded data removed]",
      "text/plain": [
       "plot without title"
      ]
     },
     "metadata": {},
     "output_type": "display_data"
    }
   ],
   "source": [
    "wells <- unique(df$well)\n",
    "gs <- list()\n",
    "\n",
    "# loop through wells - building track for each one\n",
    "for (well in wells) {\n",
    "    isA <- well == \"A\"\n",
    "    gs[[well]] <- plotLog(df[df$well == well,],isA)\n",
    "}\n",
    "\n",
    "options(repr.plot.width=10, repr.plot.height=6)\n",
    "g <- plot_grid(gs[[\"A\"]], gs[[\"B\"]], gs[[\"C\"]], gs[[\"D\"]], \n",
    "               gs[[\"E\"]], gs[[\"F\"]], gs[[\"G\"]], ncol=7, rel_widths=c(4,3,3,3,3,3,3))\n",
    "ggdraw() + draw_plot(g, width=1, height=1) + draw_plot_label(\"Synthetic Data\", size=10)"
   ]
  },
  {
   "cell_type": "markdown",
   "metadata": {},
   "source": [
    "If you look closely, we can qualitatively see there is a positive anomaly (centered around 1) in each of the wells.  Can we use **cross-correlation** to quantify how offset each of these wells are from each other?  Let's try!  We'll use well **A** as our reference well (i.e. what is the cross-correlation of wells **B**, **C**, and **D** with respect to well **A**."
   ]
  },
  {
   "cell_type": "code",
   "execution_count": 87,
   "metadata": {
    "collapsed": false
   },
   "outputs": [],
   "source": [
    "wells <- unique(df$well)\n",
    "\n",
    "# initialize data frames\n",
    "lags <- data.frame(ref_well=factor(), well=factor(), lag=numeric())\n",
    "max_cors <- data.frame(ref_well=factor(), well=factor(), max_corr=numeric())\n",
    "ccf <- list()\n",
    "\n",
    "# loop through matrix elements\n",
    "for (i in wells) {\n",
    "    temp <- list()\n",
    "    v1 <- df[df$well==i,3]\n",
    "    \n",
    "    for (j in wells) {\n",
    "        \n",
    "        # extract relevant data vector    \n",
    "        v2 <- df[df$well==j,3]\n",
    "        \n",
    "        # calculate cross-correlations\n",
    "        temp[[j]] <- ccf(v1, v2, lag.max=75, plot=F)\n",
    "        \n",
    "        # store max correlation (and its corresponding lag) in matrix\n",
    "        temp_lag <- data.frame(ref_well=i, well=j, \n",
    "                               lag=temp[[j]][[\"lag\"]][,,1][which.max(temp[[j]][[\"acf\"]][,,1])])\n",
    "        temp_cor <- data.frame(ref_well=i, well=j,\n",
    "                              max_corr=max(temp[[j]][[\"acf\"]][,,1]))\n",
    "        lags <- rbind(lags, temp_lag)\n",
    "        max_cors <- rbind(max_cors, temp_cor)\n",
    "    }\n",
    "    \n",
    "    ccf[[i]] <- temp\n",
    "}"
   ]
  },
  {
   "cell_type": "markdown",
   "metadata": {},
   "source": [
    "Ok so let's plot these results now!"
   ]
  },
  {
   "cell_type": "code",
   "execution_count": 95,
   "metadata": {
    "collapsed": false
   },
   "outputs": [],
   "source": [
    "# function to plot cross-correlation with respect to lag\n",
    "plot_ccf <- function(x, title, isA=F) {\n",
    "    names(x) <- c(\"lag\", \"acf\")\n",
    "    g <- ggplot(x) + theme_economist_white(gray_bg=T) +\n",
    "        scale_y_continuous(lim=c(-1,1)) + \n",
    "        scale_x_continuous(trans=\"reverse\") + coord_flip() + \n",
    "        labs(title=title, x=\"\", y=\"Cross \\n Correlation\") +\n",
    "        geom_line(aes(x=lag, y=acf), lwd=.75, col=\"seagreen4\") +\n",
    "        geom_vline(xintercept=x$lag[which.max(x$acf)], col=\"firebrick\", lwd=1.5) +\n",
    "        geom_text(aes(x=x$lag[which.max(x$acf)]+2.5, y=0, \n",
    "                      label=paste(\"Corr:\", round(max(x$acf),2))), size=2, col=\"firebrick\") +\n",
    "        geom_text(aes(x=x$lag[which.max(x$acf)]-2.5, y=0, \n",
    "                      label=paste(\"Lag:\", x$lag[which.max(x$acf)])), size=2, col=\"firebrick\") +\n",
    "        theme(panel.grid.major.x = element_line(colour=\"gray\", size=0.25), legend.position=\"none\", \n",
    "              axis.text=element_text(size=4), axis.title=element_text(size=8,face=\"bold\"),\n",
    "              title=element_text(size=6))\n",
    "    if (isA) {g <- g + labs(x=\"Lag\")}\n",
    "    g <- switch_axis_position(g, 'x')\n",
    "    g\n",
    "}"
   ]
  },
  {
   "cell_type": "code",
   "execution_count": 96,
   "metadata": {
    "collapsed": false
   },
   "outputs": [
    {
     "data": {},
     "metadata": {},
     "output_type": "display_data"
    },
    {
     "data": {
      "image/png": "[encoded data removed]",
      "text/plain": [
       "plot without title"
      ]
     },
     "metadata": {},
     "output_type": "display_data"
    }
   ],
   "source": [
    "# initialize list of tracks\n",
    "gs <- list()\n",
    "\n",
    "# loop through wells and plot lag against correlation\n",
    "# NOTE: only do with respect to \"A\" - otherwise too many plots\n",
    "for (i in wells) {\n",
    "    # extract lag and correlation vectors from cross-correlation list\n",
    "    l <- ccf[[\"A\"]][[i]][[\"lag\"]][,,1]\n",
    "    c <- ccf[[\"A\"]][[i]][[\"acf\"]][,,1]\n",
    "    \n",
    "    # store lag and correlation in dataframe for plotting\n",
    "    temp_df <- data.frame(lag=l, corr=c)\n",
    "    \n",
    "    # build track\n",
    "    gs[[i]] <- plot_ccf(temp_df, i, isA=(i == \"A\"))\n",
    "}\n",
    "\n",
    "# build and output plot\n",
    "options(repr.plot.width=8, repr.plot.height=6)\n",
    "g <- plot_grid(gs[[\"A\"]], gs[[\"B\"]], gs[[\"C\"]], gs[[\"D\"]], \n",
    "               gs[[\"E\"]], gs[[\"F\"]], gs[[\"G\"]], ncol=7)\n",
    "ggdraw() + draw_plot(g, width=1, height=1)"
   ]
  },
  {
   "cell_type": "markdown",
   "metadata": {},
   "source": [
    "This result is as we expect it.  The cross-correlation technique does a good job of showing that each subsequent synthetic well is dipping into the basin with a **lag** set of **{0, -8, -21, -30, -41, -50, -60}**.  This is a good estimate of the true values of **{0, -10, -20, -30, -40, -50, -60}**.  \n",
    "\n",
    "This result only shows the lags and correlations of the wells with respect to well **A**.  What about with respect to the other wells?  It would be too many tracks to plot all of them, so instead let's plot the matrices of lags and correlations as heat maps and see what patterns we can identify."
   ]
  },
  {
   "cell_type": "code",
   "execution_count": 90,
   "metadata": {
    "collapsed": false,
    "scrolled": false
   },
   "outputs": [
    {
     "data": {},
     "metadata": {},
     "output_type": "display_data"
    },
    {
     "data": {
      "image/png": "[encoded data removed]",
      "text/plain": [
       "plot without title"
      ]
     },
     "metadata": {},
     "output_type": "display_data"
    }
   ],
   "source": [
    "# build plot of lags\n",
    "gl <- ggplot(lags, aes(well, ref_well)) + geom_tile(aes(fill=lag), alpha=.8) + theme_economist_white(gray_bg=T) +\n",
    "    scale_x_discrete(expand = c(0, 0)) + scale_y_discrete(expand = c(0, 0)) +\n",
    "    scale_fill_distiller(palette=\"RdBu\") +\n",
    "    labs(x=\"\", y=\"\", title=\"Relative lags\") +\n",
    "    theme(legend.position=\"right\",\n",
    "         legend.title=element_blank(),\n",
    "         legend.text=element_text(size=8),\n",
    "         axis.text=element_text(size=8),\n",
    "         title=element_text(size=8))\n",
    "\n",
    "# build plot of max correlations\n",
    "gc <- ggplot(max_cors, aes(well, ref_well)) + geom_tile(aes(fill=max_corr), alpha=.8) + theme_economist_white(gray_bg=T) +\n",
    "    scale_x_discrete(expand = c(0, 0)) + scale_y_discrete(expand = c(0, 0)) +\n",
    "    scale_fill_distiller(palette=\"RdBu\") +\n",
    "    labs(x=\"\", y=\"\", title=\"Maximum correlations\") +\n",
    "    theme(legend.position=\"right\",\n",
    "         legend.title=element_blank(),\n",
    "         legend.text=element_text(size=8),\n",
    "         axis.text=element_text(size=8),\n",
    "         title=element_text(size=8))\n",
    "\n",
    "# bring the two plots together and display\n",
    "options(repr.plot.width=8, repr.plot.height=3)\n",
    "g <- plot_grid(gl, gc, ncol=2)\n",
    "ggdraw() + draw_plot(g, width=1, height=1)"
   ]
  },
  {
   "cell_type": "markdown",
   "metadata": {},
   "source": [
    "Not surprisingly, **A**'s autocorrelation (with itself) maximizes at zero-lag with a correlation of 1!  Also, even with noise added to the data, the cross-correlation determines the lag/offset of wells **B**, **C**, and **D** quite accurately.  **C** is the only well off at all - and it's off by only 1 foot, not bad!  Now let's try applying this idea to some real data!  \n",
    "\n",
    "## 3 Real data example  \n",
    "\n",
    "The data we'll be looking at comes from a class exercise from the University of Kansas on neural networks and fuzzy systems.  The exercise was based on a consortium project to use machine learning techniques to create a reservoir model of the largest gas fields in North America (Hugoton and Panoma fields).  We will be looking (in this notebook) at a subset of this data - well logs from the **Luke G U**, **Shrimplin**, and **Newby** wells.  \n",
    "\n",
    "First let's define a function to plot an individual well log."
   ]
  },
  {
   "cell_type": "code",
   "execution_count": 26,
   "metadata": {
    "collapsed": true
   },
   "outputs": [],
   "source": [
    "facies_colors <- c('#F4D03F', '#F5B041', '#DC7633', '#6E2C00', '#1B4F72', '#2E86C1', '#AED6F1', '#A569BD', '#196F3D')\n",
    "facies_labels <- c('SS', 'CSiS', 'FSiS', 'SiSh', 'MS', 'WS', 'D', 'PS', 'BS')\n",
    "\n",
    "# GR track - gamma ray\n",
    "plotGR <- function(x, asWell=F) {\n",
    "    g <- ggplot(x) + theme_economist_white(gray_bg=T) + \n",
    "        scale_y_continuous(lim=c(0,400), breaks=seq(0,400,100), labels=c(\"0\"=\"0\",\"100\"=\"\",\"200\"=\"200\",\"300\"=\"\",\"400\"=\"400\")) +\n",
    "        scale_x_continuous(trans=\"reverse\") + coord_flip() + labs(title=\"\", x=\"Depth\", y=\"GR\") +\n",
    "        geom_bar(stat=\"identity\", data=x, aes(x=Depth, y=GR, fill=GR, alpha=0.5), width=0.5) +\n",
    "        geom_line(aes(x=Depth, y=GR), lwd=.5, col='black') +\n",
    "        scale_fill_continuous(limits=c(0,225), low=\"yellow\", high=\"black\") +\n",
    "        theme(panel.grid.major.x = element_line(colour=\"gray\", size=0.5), legend.position=\"none\",\n",
    "             axis.text=element_text(size=6), axis.title=element_text(size=8,face=\"bold\"))\n",
    "    if (asWell) {g <- g + labs(y=x$Well.Name[1])}\n",
    "    if (asWell & x$Well.Name[1] != \"CROSS H CATTLE\") {g <- g + labs(x=\"\")}\n",
    "    g <- switch_axis_position(g, 'x')\n",
    "    g\n",
    "}\n",
    "\n",
    "# ILD track - resistivity\n",
    "plotILD <- function(x, asWell=F) {\n",
    "    g <- ggplot(x) + theme_economist_white(gray_bg=T) +\n",
    "        scale_y_log10(lim=c(0.1,50), breaks=c(.1,.2,.4,.6,.8,1,2,4,6,8,10,20,40), \n",
    "                      labels=c(\".1\"=\".1\",\".2\"=\"\",\".4\"=\"\",\".6\"=\"\",\".8\"=\"\",\n",
    "                               \"1\"=\"1\",\"2\"=\"\",\"4\"=\"\",\"6\"=\"\",\"8\"=\"\",\"10\"=\"10\",\n",
    "                              \"20\"=\"\",\"40\"=\"\")) + \n",
    "        scale_x_continuous(trans=\"reverse\") + \n",
    "        coord_flip() + labs(title=\"\", x=\"\", y=\"ILD\") +\n",
    "        geom_line(aes(x=Depth, y=10^ILD_log10), lwd=.5, col=\"skyblue4\") +\n",
    "        theme(panel.grid.major.x = element_line(colour=\"gray\", size=0.25), legend.position=\"none\", \n",
    "              axis.text=element_text(size=6), axis.title=element_text(size=8,face=\"bold\"), axis.text.y=element_blank())\n",
    "    if (asWell) {g <- g + labs(y=x$Well.Name[1]) + theme(axis.text.y=element_text(size=6))}\n",
    "    if (asWell & x$Well.Name[1] == \"CROSS H CATTLE\") {g <- g + labs(x=\"Depth\")}\n",
    "    g <- switch_axis_position(g, 'x')\n",
    "    g\n",
    "}\n",
    "\n",
    "# DeltaPhi track - difference between density and neutron porosities\n",
    "plotDeltaPHI <- function(x, asWell=F) {\n",
    "    g <- ggplot(x) + theme_economist_white(gray_bg=T) +\n",
    "        scale_y_continuous(lim=c(-20,20), breaks=seq(-20,20,10),labels=c(\"-20\"=\"-20\",\"-10\"=\"\",\"0\"=\"0\",\"10\"=\"\",\"20\"=\"20\")) + \n",
    "        scale_x_continuous(trans=\"reverse\") + coord_flip() + labs(title=\"\", x=\"\", y=\"DeltaPhi\") +\n",
    "        geom_line(aes(x=Depth, y=DeltaPHI), lwd=.5, col=\"seagreen4\") +\n",
    "        theme(panel.grid.major.x = element_line(colour=\"gray\", size=0.25), legend.position=\"none\", \n",
    "              axis.text=element_text(size=6), axis.title=element_text(size=8,face=\"bold\"), axis.text.y=element_blank())\n",
    "    if (asWell) {g <- g + labs(y=x$Well.Name[1]) + theme(axis.text.y=element_text(size=6))}\n",
    "    if (asWell & x$Well.Name[1] == \"CROSS H CATTLE\") {g <- g + labs(x=\"Depth\")}\n",
    "    g <- switch_axis_position(g, 'x')\n",
    "    g\n",
    "}\n",
    "\n",
    "# PHIND track - neutron porosity\n",
    "plotPHIND <- function(x, asWell=F) {\n",
    "    g <- ggplot(x) + theme_economist_white(gray_bg=T) +\n",
    "        scale_y_continuous(lim=c(0,50), breaks=c(0,15,30,45)) + scale_x_continuous(trans=\"reverse\") +\n",
    "        coord_flip() + labs(title=\"\", x=\"\", y=\"PHIND\") +\n",
    "        geom_line(aes(x=Depth, y=PHIND), lwd=.5, col=\"firebrick\") +\n",
    "        theme(panel.grid.major.x = element_line(colour=\"gray\", size=0.25), legend.position=\"none\", \n",
    "              axis.text=element_text(size=6), axis.title=element_text(size=8,face=\"bold\"), axis.text.y=element_blank())\n",
    "    if (asWell) {g <- g + labs(y=x$Well.Name[1]) + theme(axis.text.y=element_text(size=6))}\n",
    "    if (asWell & x$Well.Name[1] == \"CROSS H CATTLE\") {g <- g + labs(x=\"Depth\")}\n",
    "    g <- switch_axis_position(g, 'x')\n",
    "    g\n",
    "}\n",
    "\n",
    "# PE track - photoelectric effect\n",
    "plotPE <- function(x, asWell=F) {\n",
    "    g <- ggplot(x) + theme_economist_white(gray_bg=T) +\n",
    "        scale_y_continuous(lim=c(0,8), breaks=c(0,2,4,6,8)) + scale_x_continuous(trans=\"reverse\") +\n",
    "        coord_flip() + labs(title=\"\", x=\"\", y=\"PE\") +\n",
    "        geom_line(aes(x=Depth, y=PE), lwd=.5, col=\"black\") +\n",
    "        theme(panel.grid.major.x = element_line(colour=\"gray\", size=0.25), legend.position=\"none\", \n",
    "              axis.text=element_text(size=6), axis.title=element_text(size=8,face=\"bold\"), axis.text.y=element_blank())\n",
    "    if (asWell) {g <- g + labs(y=x$Well.Name[1]) + theme(axis.text.y=element_text(size=6))}\n",
    "    if (asWell & x$Well.Name[1] == \"SHRIMPLIN\") {g <- g + labs(x=\"Depth\")}\n",
    "    g <- switch_axis_position(g, 'x')\n",
    "    g\n",
    "}\n",
    "\n",
    "# isMarine track - indicator showing whether or not it's marine\n",
    "plotIsMarine <- function(x, asWell=F) {\n",
    "    x$ones <- rep(1, nrow(x))\n",
    "    g <- ggplot(x) + theme_economist_white(gray_bg=T) +\n",
    "        scale_y_continuous(lim=c(-0.1,1.1), breaks=c(0,1), labels=c(\"TRUE\"=\"\", \"FALSE\"=\"\")) + \n",
    "        scale_x_continuous(trans=\"reverse\") +\n",
    "        coord_flip() + labs(title=\"\", x=\"\", y=\"isMarine\") +\n",
    "        geom_bar(stat=\"identity\", data=x, aes(x=Depth, y=ones, fill=isMarine), width=0.5) +\n",
    "        scale_fill_manual(values=c(\"TRUE\"=\"springgreen3\", \"FALSE\"=\"firebrick\"), drop=F) +\n",
    "        theme(axis.title=element_text(size=8,face=\"bold\"), axis.text.y=element_blank(), axis.text.x=element_text(size=6), \n",
    "              legend.position=\"none\")\n",
    "    if (asWell) {g <- g + labs(y=x$Well.Name[1]) + theme(axis.text.y=element_text(size=6))}\n",
    "    if (asWell & x$Well.Name[1] == \"CROSS H CATTLE\") {g <- g + labs(x=\"Depth\")}\n",
    "    g <- switch_axis_position(g, 'x')\n",
    "    g\n",
    "}\n",
    "\n",
    "# facies track\n",
    "plotFacies <- function(x, asWell=F) {\n",
    "    x$ones <- rep(1, nrow(x))\n",
    "    g <- ggplot(x) + theme_economist_white(gray_bg=T) +\n",
    "        scale_y_continuous(lim=c(-0.1,1.1), breaks=c(0,1), labels=c(\"0\"=\"\", \"1\"=\"\")) + scale_x_continuous(trans=\"reverse\") +\n",
    "        coord_flip() + labs(title=\"\", x=\"\", y=\"Facies\") +\n",
    "        geom_bar(stat=\"identity\", data=x, aes(x=Depth, y=ones, fill=Facies), width=0.5) +\n",
    "        scale_fill_manual(values=facies_colors, drop=F, labels=facies_labels) +\n",
    "        theme(axis.title=element_text(size=8,face=\"bold\"), axis.text.y=element_blank(), axis.text.x=element_text(size=6), \n",
    "              legend.position=\"right\", legend.text=element_text(size=6), legend.title=element_blank())\n",
    "    if (asWell) {g <- g + labs(y=x$Well.Name[1]) + theme(axis.text.y=element_text(size=6))}\n",
    "    if (asWell & x$Well.Name[1] == \"CROSS H CATTLE\") {g <- g + labs(x=\"Depth\")}\n",
    "    if (asWell & x$Well.Name[1] != \"KIMZEY A\") {g <- g + theme(legend.position=\"none\")}\n",
    "    g <- switch_axis_position(g, 'x')\n",
    "    g\n",
    "}"
   ]
  },
  {
   "cell_type": "markdown",
   "metadata": {},
   "source": [
    "Our goal will be to establish the amount of **lag** between these two wells that maximizes their correlation.  As with the synthetic data, we will plot the **correlation-lag** plots to better understand that relationship, and whether it may be used with confidence moving forward.  To evaluate, we will use the **Luke G U** well as our control and apply cross-correlation to the **GR**, **ILD_log10**, **DeltaPHI**, **PHIND**, **PE**, and **isMarine** logs individually.  "
   ]
  },
  {
   "cell_type": "code",
   "execution_count": 55,
   "metadata": {
    "collapsed": false
   },
   "outputs": [
    {
     "data": {
      "text/html": [
       "<table>\n",
       "<thead><tr><th scope=col>Facies</th><th scope=col>Formation</th><th scope=col>Well.Name</th><th scope=col>Depth</th><th scope=col>GR</th><th scope=col>ILD_log10</th><th scope=col>DeltaPHI</th><th scope=col>PHIND</th><th scope=col>PE</th><th scope=col>isMarine</th><th scope=col>RELPOS</th></tr></thead>\n",
       "<tbody>\n",
       "\t<tr><td>FSiS     </td><td>A1 SH    </td><td>SHRIMPLIN</td><td>2793.0   </td><td>77.45    </td><td>0.664    </td><td> 9.9     </td><td>11.915   </td><td>4.6      </td><td>FALSE    </td><td>1.000    </td></tr>\n",
       "\t<tr><td>FSiS     </td><td>A1 SH    </td><td>SHRIMPLIN</td><td>2793.5   </td><td>78.26    </td><td>0.661    </td><td>14.2     </td><td>12.565   </td><td>4.1      </td><td>FALSE    </td><td>0.979    </td></tr>\n",
       "\t<tr><td>FSiS     </td><td>A1 SH    </td><td>SHRIMPLIN</td><td>2794.0   </td><td>79.05    </td><td>0.658    </td><td>14.8     </td><td>13.050   </td><td>3.6      </td><td>FALSE    </td><td>0.957    </td></tr>\n",
       "\t<tr><td>FSiS     </td><td>A1 SH    </td><td>SHRIMPLIN</td><td>2794.5   </td><td>86.10    </td><td>0.655    </td><td>13.9     </td><td>13.115   </td><td>3.5      </td><td>FALSE    </td><td>0.936    </td></tr>\n",
       "\t<tr><td>FSiS     </td><td>A1 SH    </td><td>SHRIMPLIN</td><td>2795.0   </td><td>74.58    </td><td>0.647    </td><td>13.5     </td><td>13.300   </td><td>3.4      </td><td>FALSE    </td><td>0.915    </td></tr>\n",
       "\t<tr><td>FSiS     </td><td>A1 SH    </td><td>SHRIMPLIN</td><td>2795.5   </td><td>73.97    </td><td>0.636    </td><td>14.0     </td><td>13.385   </td><td>3.6      </td><td>FALSE    </td><td>0.894    </td></tr>\n",
       "</tbody>\n",
       "</table>\n"
      ],
      "text/latex": [
       "\\begin{tabular}{r|lllllllllll}\n",
       " Facies & Formation & Well.Name & Depth & GR & ILD\\_log10 & DeltaPHI & PHIND & PE & isMarine & RELPOS\\\\\n",
       "\\hline\n",
       "\t FSiS      & A1 SH     & SHRIMPLIN & 2793.0    & 77.45     & 0.664     &  9.9      & 11.915    & 4.6       & FALSE     & 1.000    \\\\\n",
       "\t FSiS      & A1 SH     & SHRIMPLIN & 2793.5    & 78.26     & 0.661     & 14.2      & 12.565    & 4.1       & FALSE     & 0.979    \\\\\n",
       "\t FSiS      & A1 SH     & SHRIMPLIN & 2794.0    & 79.05     & 0.658     & 14.8      & 13.050    & 3.6       & FALSE     & 0.957    \\\\\n",
       "\t FSiS      & A1 SH     & SHRIMPLIN & 2794.5    & 86.10     & 0.655     & 13.9      & 13.115    & 3.5       & FALSE     & 0.936    \\\\\n",
       "\t FSiS      & A1 SH     & SHRIMPLIN & 2795.0    & 74.58     & 0.647     & 13.5      & 13.300    & 3.4       & FALSE     & 0.915    \\\\\n",
       "\t FSiS      & A1 SH     & SHRIMPLIN & 2795.5    & 73.97     & 0.636     & 14.0      & 13.385    & 3.6       & FALSE     & 0.894    \\\\\n",
       "\\end{tabular}\n"
      ],
      "text/plain": [
       "  Facies Formation Well.Name Depth  GR    ILD_log10 DeltaPHI PHIND  PE \n",
       "1 FSiS   A1 SH     SHRIMPLIN 2793.0 77.45 0.664      9.9     11.915 4.6\n",
       "2 FSiS   A1 SH     SHRIMPLIN 2793.5 78.26 0.661     14.2     12.565 4.1\n",
       "3 FSiS   A1 SH     SHRIMPLIN 2794.0 79.05 0.658     14.8     13.050 3.6\n",
       "4 FSiS   A1 SH     SHRIMPLIN 2794.5 86.10 0.655     13.9     13.115 3.5\n",
       "5 FSiS   A1 SH     SHRIMPLIN 2795.0 74.58 0.647     13.5     13.300 3.4\n",
       "6 FSiS   A1 SH     SHRIMPLIN 2795.5 73.97 0.636     14.0     13.385 3.6\n",
       "  isMarine RELPOS\n",
       "1 FALSE    1.000 \n",
       "2 FALSE    0.979 \n",
       "3 FALSE    0.957 \n",
       "4 FALSE    0.936 \n",
       "5 FALSE    0.915 \n",
       "6 FALSE    0.894 "
      ]
     },
     "metadata": {},
     "output_type": "display_data"
    }
   ],
   "source": [
    "# load data\n",
    "fname <- \"../facies_vectors.csv\"\n",
    "data <- read.csv(fname, colClasses=c(rep(\"factor\",3), rep(\"numeric\",6), \"factor\", \"numeric\"))\n",
    "\n",
    "# convert NM_M channel into a binary channel \"isMarine\"\n",
    "data$NM_M <- data$NM_M == \"2\"\n",
    "names(data)[10] <- \"isMarine\"\n",
    "\n",
    "# make the Facies channel more descriptive\n",
    "levels(data$Facies) <- c(\"SS\", \"CSiS\", \"FSiS\", \"SiSh\", \"MS\", \"WS\", \"D\", \"PS\", \"BS\")\n",
    "\n",
    "# split out SHANKLE well as test set into 'blind' data frame\n",
    "#data <- data[data$Well.Name == \"LUKE G U\" | data$Well.Name == \"SHRIMPLIN\" | data$Well.Name == \"NEWBY\",]\n",
    "\n",
    "# display first five rows of data set\n",
    "head(data)"
   ]
  },
  {
   "cell_type": "markdown",
   "metadata": {},
   "source": [
    "### 3.1 GR Gamma ray cross-correlation  "
   ]
  },
  {
   "cell_type": "code",
   "execution_count": 62,
   "metadata": {
    "collapsed": false
   },
   "outputs": [
    {
     "data": {},
     "metadata": {},
     "output_type": "display_data"
    },
    {
     "data": {
      "image/png": "[encoded data removed]",
      "text/plain": [
       "plot without title"
      ]
     },
     "metadata": {},
     "output_type": "display_data"
    }
   ],
   "source": [
    "# split data into recognizable vectors\n",
    "luke <- data[data$Well.Name==\"LUKE G U\",]$ILD_log10\n",
    "shrimp <- data[data$Well.Name==\"SHRIMPLIN\",]$ILD_log10\n",
    "newby <- data[data$Well.Name==\"NEWBY\",]$ILD_log10\n",
    "\n",
    "# calculate cross-correlations\n",
    "luke_ccf <- ccf(luke, luke, lag.max=100, plot=F)\n",
    "shrimp_ccf <- ccf(luke, shrimp, lag.max=100, plot=F)\n",
    "newby_ccf <- ccf(luke, newby, lag.max=100, plot=F)\n",
    "\n",
    "# place cross-correlations (as a function of lag) into data frame\n",
    "real_df <- data.frame(lag=luke_ccf[[\"lag\"]][,,1],\n",
    "                     luke_ccf=luke_ccf[[\"acf\"]][,,1],\n",
    "                     shrimp_ccf=shrimp_ccf[[\"acf\"]][,,1],\n",
    "                     newby_ccf=newby_ccf[[\"acf\"]][,,1])\n",
    "\n",
    "# build GR log plots for each well\n",
    "g1 <- plotILD(data[data$Well.Name == \"LUKE G U\",], T)\n",
    "g2 <- plotILD(data[data$Well.Name == \"SHRIMPLIN\",], T)\n",
    "g3 <- plotILD(data[data$Well.Name == \"NEWBY\",], T)\n",
    "\n",
    "# build cross-correlation plots\n",
    "g4 <- plot_ccf(real_df[,c(1,2)], \"\")\n",
    "g5 <- plot_ccf(real_df[,c(1,3)], \"\")\n",
    "g6 <- plot_ccf(real_df[,c(1,4)], \"\")\n",
    "\n",
    "options(repr.plot.width=8, repr.plot.height=6)\n",
    "g <- plot_grid(g1,g4,g2,g5,g3,g6, ncol=6, rel_widths=c(3,4,3,4,3,4))\n",
    "ggdraw() + draw_plot(g, width=1, height=1) + draw_plot_label(\"Resistivity Cross-correlation\", size=10)"
   ]
  },
  {
   "cell_type": "code",
   "execution_count": 61,
   "metadata": {
    "collapsed": false
   },
   "outputs": [
    {
     "data": {
      "text/html": [
       "<table>\n",
       "<thead><tr><th></th><th scope=col>SHRIMPLIN</th><th scope=col>ALEXANDER D</th><th scope=col>SHANKLE</th><th scope=col>LUKE G U</th><th scope=col>KIMZEY A</th><th scope=col>CROSS H CATTLE</th><th scope=col>NOLAN</th><th scope=col>Recruit F9</th><th scope=col>NEWBY</th><th scope=col>CHURCHMAN BIBLE</th></tr></thead>\n",
       "<tbody>\n",
       "\t<tr><th scope=row>SHRIMPLIN</th><td> 0</td><td> 3</td><td>12</td><td>24</td><td>21</td><td>16</td><td> 1</td><td> 4</td><td>67</td><td>14</td></tr>\n",
       "\t<tr><th scope=row>ALEXANDER D</th><td> 3</td><td> 0</td><td>19</td><td>26</td><td>28</td><td>74</td><td> 1</td><td> 5</td><td>39</td><td> 1</td></tr>\n",
       "\t<tr><th scope=row>SHANKLE</th><td>12</td><td>19</td><td> 0</td><td>12</td><td>10</td><td>84</td><td>75</td><td>74</td><td>79</td><td> 6</td></tr>\n",
       "\t<tr><th scope=row>LUKE G U</th><td>24</td><td>26</td><td>12</td><td> 0</td><td> 7</td><td>41</td><td>25</td><td> 3</td><td>11</td><td>89</td></tr>\n",
       "\t<tr><th scope=row>KIMZEY A</th><td>21</td><td>28</td><td>10</td><td> 7</td><td> 0</td><td>48</td><td>21</td><td> 5</td><td> 9</td><td>21</td></tr>\n",
       "\t<tr><th scope=row>CROSS H CATTLE</th><td>16</td><td>74</td><td>84</td><td>41</td><td>48</td><td> 0</td><td>66</td><td>74</td><td>50</td><td>72</td></tr>\n",
       "\t<tr><th scope=row>NOLAN</th><td> 1</td><td> 1</td><td>75</td><td>25</td><td>21</td><td>66</td><td> 0</td><td> 5</td><td>54</td><td> 3</td></tr>\n",
       "\t<tr><th scope=row>Recruit F9</th><td> 4</td><td> 5</td><td>74</td><td> 3</td><td> 5</td><td>74</td><td> 5</td><td> 0</td><td> 9</td><td>28</td></tr>\n",
       "\t<tr><th scope=row>NEWBY</th><td>67</td><td>39</td><td>79</td><td>11</td><td> 9</td><td>50</td><td>54</td><td> 9</td><td> 0</td><td>30</td></tr>\n",
       "\t<tr><th scope=row>CHURCHMAN BIBLE</th><td>14</td><td> 1</td><td> 6</td><td>89</td><td>21</td><td>72</td><td> 3</td><td>28</td><td>30</td><td> 0</td></tr>\n",
       "</tbody>\n",
       "</table>\n"
      ],
      "text/latex": [
       "\\begin{tabular}{r|llllllllll}\n",
       "  & SHRIMPLIN & ALEXANDER D & SHANKLE & LUKE G U & KIMZEY A & CROSS H CATTLE & NOLAN & Recruit F9 & NEWBY & CHURCHMAN BIBLE\\\\\n",
       "\\hline\n",
       "\tSHRIMPLIN &  0 &  3 & 12 & 24 & 21 & 16 &  1 &  4 & 67 & 14\\\\\n",
       "\tALEXANDER D &  3 &  0 & 19 & 26 & 28 & 74 &  1 &  5 & 39 &  1\\\\\n",
       "\tSHANKLE & 12 & 19 &  0 & 12 & 10 & 84 & 75 & 74 & 79 &  6\\\\\n",
       "\tLUKE G U & 24 & 26 & 12 &  0 &  7 & 41 & 25 &  3 & 11 & 89\\\\\n",
       "\tKIMZEY A & 21 & 28 & 10 &  7 &  0 & 48 & 21 &  5 &  9 & 21\\\\\n",
       "\tCROSS H CATTLE & 16 & 74 & 84 & 41 & 48 &  0 & 66 & 74 & 50 & 72\\\\\n",
       "\tNOLAN &  1 &  1 & 75 & 25 & 21 & 66 &  0 &  5 & 54 &  3\\\\\n",
       "\tRecruit F9 &  4 &  5 & 74 &  3 &  5 & 74 &  5 &  0 &  9 & 28\\\\\n",
       "\tNEWBY & 67 & 39 & 79 & 11 &  9 & 50 & 54 &  9 &  0 & 30\\\\\n",
       "\tCHURCHMAN BIBLE & 14 &  1 &  6 & 89 & 21 & 72 &  3 & 28 & 30 &  0\\\\\n",
       "\\end{tabular}\n"
      ],
      "text/markdown": [
       "1. 0\n",
       "2. 3\n",
       "3. 12\n",
       "4. 24\n",
       "5. 21\n",
       "6. 16\n",
       "7. 1\n",
       "8. 4\n",
       "9. 67\n",
       "10. 14\n",
       "11. 3\n",
       "12. 0\n",
       "13. 19\n",
       "14. 26\n",
       "15. 28\n",
       "16. 74\n",
       "17. 1\n",
       "18. 5\n",
       "19. 39\n",
       "20. 1\n",
       "21. 12\n",
       "22. 19\n",
       "23. 0\n",
       "24. 12\n",
       "25. 10\n",
       "26. 84\n",
       "27. 75\n",
       "28. 74\n",
       "29. 79\n",
       "30. 6\n",
       "31. 24\n",
       "32. 26\n",
       "33. 12\n",
       "34. 0\n",
       "35. 7\n",
       "36. 41\n",
       "37. 25\n",
       "38. 3\n",
       "39. 11\n",
       "40. 89\n",
       "41. 21\n",
       "42. 28\n",
       "43. 10\n",
       "44. 7\n",
       "45. 0\n",
       "46. 48\n",
       "47. 21\n",
       "48. 5\n",
       "49. 9\n",
       "50. 21\n",
       "51. 16\n",
       "52. 74\n",
       "53. 84\n",
       "54. 41\n",
       "55. 48\n",
       "56. 0\n",
       "57. 66\n",
       "58. 74\n",
       "59. 50\n",
       "60. 72\n",
       "61. 1\n",
       "62. 1\n",
       "63. 75\n",
       "64. 25\n",
       "65. 21\n",
       "66. 66\n",
       "67. 0\n",
       "68. 5\n",
       "69. 54\n",
       "70. 3\n",
       "71. 4\n",
       "72. 5\n",
       "73. 74\n",
       "74. 3\n",
       "75. 5\n",
       "76. 74\n",
       "77. 5\n",
       "78. 0\n",
       "79. 9\n",
       "80. 28\n",
       "81. 67\n",
       "82. 39\n",
       "83. 79\n",
       "84. 11\n",
       "85. 9\n",
       "86. 50\n",
       "87. 54\n",
       "88. 9\n",
       "89. 0\n",
       "90. 30\n",
       "91. 14\n",
       "92. 1\n",
       "93. 6\n",
       "94. 89\n",
       "95. 21\n",
       "96. 72\n",
       "97. 3\n",
       "98. 28\n",
       "99. 30\n",
       "100. 0\n",
       "\n",
       "\n"
      ],
      "text/plain": [
       "                SHRIMPLIN ALEXANDER D SHANKLE LUKE G U KIMZEY A CROSS H CATTLE\n",
       "SHRIMPLIN        0         3          12      24       21       16            \n",
       "ALEXANDER D      3         0          19      26       28       74            \n",
       "SHANKLE         12        19           0      12       10       84            \n",
       "LUKE G U        24        26          12       0        7       41            \n",
       "KIMZEY A        21        28          10       7        0       48            \n",
       "CROSS H CATTLE  16        74          84      41       48        0            \n",
       "NOLAN            1         1          75      25       21       66            \n",
       "Recruit F9       4         5          74       3        5       74            \n",
       "NEWBY           67        39          79      11        9       50            \n",
       "CHURCHMAN BIBLE 14         1           6      89       21       72            \n",
       "                NOLAN Recruit F9 NEWBY CHURCHMAN BIBLE\n",
       "SHRIMPLIN        1     4         67    14             \n",
       "ALEXANDER D      1     5         39     1             \n",
       "SHANKLE         75    74         79     6             \n",
       "LUKE G U        25     3         11    89             \n",
       "KIMZEY A        21     5          9    21             \n",
       "CROSS H CATTLE  66    74         50    72             \n",
       "NOLAN            0     5         54     3             \n",
       "Recruit F9       5     0          9    28             \n",
       "NEWBY           54     9          0    30             \n",
       "CHURCHMAN BIBLE  3    28         30     0             "
      ]
     },
     "metadata": {},
     "output_type": "display_data"
    },
    {
     "data": {
      "image/png": "[encoded data removed]",
      "text/plain": [
       "plot without title"
      ]
     },
     "metadata": {},
     "output_type": "display_data"
    }
   ],
   "source": [
    "wells <- unique(data$Well.Name)\n",
    "\n",
    "# initialize matrices\n",
    "lags <- matrix(rep(0, length(wells)^2), nrow=length(wells))\n",
    "rownames(lags) <- wells\n",
    "colnames(lags) <- wells\n",
    "max_corr <- lags\n",
    "\n",
    "# loop through matrix elements\n",
    "for (i in wells) {\n",
    "    for (j in wells) {\n",
    "        # extract relevant data vector\n",
    "        v1 <- data[data$Well.Name==i,]$GR\n",
    "        v2 <- data[data$Well.Name==j,]$GR\n",
    "        \n",
    "        # calculate cross-correlations\n",
    "        ccf <- ccf(v1, v2, lag.max=100, plot=F)\n",
    "        \n",
    "        # store max correlation (and its corresponding lag) in matrix\n",
    "        lags[i,j] <- ccf[[\"lag\"]][,,1][which.max(ccf[[\"acf\"]][,,1])]\n",
    "        max_corr[i,j] <- max(ccf[[\"acf\"]][,,1])\n",
    "    }\n",
    "}\n",
    "\n",
    "abs(lags)\n",
    "heatmap(abs(lags), col=cm.colors(256))"
   ]
  },
  {
   "cell_type": "code",
   "execution_count": null,
   "metadata": {
    "collapsed": false
   },
   "outputs": [],
   "source": []
  }
 ],
 "metadata": {
  "kernelspec": {
   "display_name": "R 3.2",
   "language": "R",
   "name": "ir32"
  },
  "language_info": {
   "codemirror_mode": "r",
   "file_extension": ".r",
   "mimetype": "text/x-r-source",
   "name": "R",
   "pygments_lexer": "r",
   "version": "3.2.4"
  }
 },
 "nbformat": 4,
 "nbformat_minor": 0
}
