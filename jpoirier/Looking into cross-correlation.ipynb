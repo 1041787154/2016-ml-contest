{
 "cells": [
  {
   "cell_type": "markdown",
   "metadata": {},
   "source": [
    "# Looking into cross-correlation  \n",
    "#### Joshua Poirier, [NEOS](http://www.neosgeo.com)  \n",
    "2016 SEG Machine Learning Contest  \n",
    "\n",
    "## 1 Introduction  \n",
    "\n",
    "The purpose of this notebook is to examine the strength of cross-correlation between wells for the different features in our data set.  The idea is that we may be able to replace the **RELPOS** relative position feature with something more geologically (and predictively) meaningful.  The strata may be dipping, so a horizon (and thereby subsequent facies) may occur in the upper half in some wells but the lower half in others.  Let's demonstrate this with a simple synthetic example.  "
   ]
  },
  {
   "cell_type": "code",
   "execution_count": 7,
   "metadata": {
    "collapsed": false
   },
   "outputs": [],
   "source": [
    "# visualization packages\n",
    "library(repr)\n",
    "library(ggplot2)\n",
    "library(ggthemes)\n",
    "library(cowplot)"
   ]
  },
  {
   "cell_type": "markdown",
   "metadata": {},
   "source": [
    "## 2 Synthetic example  \n",
    "\n",
    "Let's create a synthetic binary log for four wells.  Each show a 20 foot anomalous section offset from each other."
   ]
  },
  {
   "cell_type": "code",
   "execution_count": 17,
   "metadata": {
    "collapsed": false
   },
   "outputs": [
    {
     "data": {
      "text/html": [
       "<table>\n",
       "<thead><tr><th scope=col>depth</th><th scope=col>a</th><th scope=col>b</th><th scope=col>c</th><th scope=col>d</th></tr></thead>\n",
       "<tbody>\n",
       "\t<tr><td>1    </td><td>-0.33</td><td> 0.20</td><td>0.89 </td><td> 0.32</td></tr>\n",
       "\t<tr><td>2    </td><td>-0.47</td><td> 0.14</td><td>0.85 </td><td> 0.32</td></tr>\n",
       "\t<tr><td>3    </td><td> 0.37</td><td>-0.04</td><td>1.33 </td><td> 0.17</td></tr>\n",
       "\t<tr><td>4    </td><td> 0.46</td><td> 0.32</td><td>1.61 </td><td>-0.02</td></tr>\n",
       "\t<tr><td>5    </td><td> 0.08</td><td> 0.01</td><td>1.34 </td><td> 0.06</td></tr>\n",
       "\t<tr><td>6    </td><td> 0.02</td><td>-0.26</td><td>0.53 </td><td> 0.10</td></tr>\n",
       "</tbody>\n",
       "</table>\n"
      ],
      "text/latex": [
       "\\begin{tabular}{r|lllll}\n",
       " depth & a & b & c & d\\\\\n",
       "\\hline\n",
       "\t 1     & -0.33 &  0.20 & 0.89  &  0.32\\\\\n",
       "\t 2     & -0.47 &  0.14 & 0.85  &  0.32\\\\\n",
       "\t 3     &  0.37 & -0.04 & 1.33  &  0.17\\\\\n",
       "\t 4     &  0.46 &  0.32 & 1.61  & -0.02\\\\\n",
       "\t 5     &  0.08 &  0.01 & 1.34  &  0.06\\\\\n",
       "\t 6     &  0.02 & -0.26 & 0.53  &  0.10\\\\\n",
       "\\end{tabular}\n"
      ],
      "text/plain": [
       "  depth a     b     c    d    \n",
       "1 1     -0.33  0.20 0.89  0.32\n",
       "2 2     -0.47  0.14 0.85  0.32\n",
       "3 3      0.37 -0.04 1.33  0.17\n",
       "4 4      0.46  0.32 1.61 -0.02\n",
       "5 5      0.08  0.01 1.34  0.06\n",
       "6 6      0.02 -0.26 0.53  0.10"
      ]
     },
     "metadata": {},
     "output_type": "display_data"
    }
   ],
   "source": [
    "# initialize with zero values\n",
    "df <- data.frame(depth=rep(0,60),\n",
    "                 a=rep(0,60), \n",
    "                 b=rep(0,60), \n",
    "                 c=rep(0,60), \n",
    "                 d=rep(0,60))\n",
    "\n",
    "# insert 20 foot sections of anomalous values\n",
    "df$depth <- 1:60\n",
    "df$a[10:30] <- 1\n",
    "df$b[30:50] <- 1 # offset 20 feet below A\n",
    "df$c[0:20] <- 1 # offset 10 feet above A\n",
    "df$d[20:40] <- 1 # offset 10 feet below A\n",
    "\n",
    "# add random noise\n",
    "set.seed(3124)\n",
    "df$a <- df$a + rnorm(60,0,.25)\n",
    "df$b <- df$b + rnorm(60,0,.25)\n",
    "df$c <- df$c + rnorm(60,0,.25)\n",
    "df$d <- df$d + rnorm(60,0,.25)\n",
    "\n",
    "head(round(df,2))"
   ]
  },
  {
   "cell_type": "markdown",
   "metadata": {},
   "source": [
    "Now let's plot these wells."
   ]
  },
  {
   "cell_type": "code",
   "execution_count": 20,
   "metadata": {
    "collapsed": false
   },
   "outputs": [
    {
     "data": {},
     "metadata": {},
     "output_type": "display_data"
    },
    {
     "data": {
      "image/png": "[encoded data removed]",
      "text/plain": [
       "plot without title"
      ]
     },
     "metadata": {},
     "output_type": "display_data"
    }
   ],
   "source": [
    "# basic plotting function\n",
    "plotLog <- function(x, title, isA=F) {\n",
    "    names(x) <- c(\"Depth\", \"Log\")\n",
    "    g <- ggplot(x) + theme_economist_white(gray_bg=T) +\n",
    "        scale_y_continuous(lim=c(-1,2)) + \n",
    "        scale_x_continuous(trans=\"reverse\") + coord_flip() + labs(title=\"\", x=\"\", y=title) +\n",
    "        geom_line(aes(x=Depth, y=Log), lwd=.5, col=\"seagreen4\") +\n",
    "        theme(panel.grid.major.x = element_line(colour=\"gray\", size=0.25), legend.position=\"none\", \n",
    "              axis.text=element_text(size=6), axis.title=element_text(size=8,face=\"bold\"), axis.text.y=element_blank())\n",
    "    if (isA) {g <- g + labs(x=\"Depth\") + theme(axis.text.y=element_text(size=6))}\n",
    "    g <- switch_axis_position(g, 'x')\n",
    "    g\n",
    "}\n",
    "\n",
    "# build tracks\n",
    "g1 <- plotLog(df[,c(1,2)], \"A\", isA=T)\n",
    "g2 <- plotLog(df[,c(1,3)], \"B\")\n",
    "g3 <- plotLog(df[,c(1,4)], \"C\")\n",
    "g4 <- plotLog(df[,c(1,5)], \"D\")\n",
    "\n",
    "# plot all four tracks!\n",
    "options(repr.plot.width=10, repr.plot.height=6)\n",
    "g <- plot_grid(g1, g2, g3, g4, ncol=4, rel_widths=c(4,3,3,3))\n",
    "ggdraw() + draw_plot(g, width=1, height=1) + draw_plot_label(\"Synthetic Logs\", size=10)"
   ]
  },
  {
   "cell_type": "markdown",
   "metadata": {},
   "source": [
    "If you look closely, we can qualitatively see there is a positive anomaly (centered around 1) in each of the wells.  Can we use **cross-correlation** to quantify how offset each of these wells are from each other?  Let's try!  We'll use well **A** as our reference well (i.e. what is the cross-correlation of wells **B**, **C**, and **D** with respect to well **A**."
   ]
  },
  {
   "cell_type": "code",
   "execution_count": 60,
   "metadata": {
    "collapsed": false
   },
   "outputs": [],
   "source": [
    "# calculate cross-correlations (as a function of lag)\n",
    "a_ccf <- ccf(df$a, df$a, lag.max=25, plot=F)\n",
    "b_ccf <- ccf(df$a, df$b, lag.max=25, plot=F)\n",
    "c_ccf <- ccf(df$a, df$c, lag.max=25, plot=F)\n",
    "d_ccf <- ccf(df$a, df$d, lag.max=25, plot=F)\n",
    "\n",
    "# place cross-correlations (as a function of lag) into data frame\n",
    "df_ccf <- data.frame(lag=b_ccf[[\"lag\"]][,,1], \n",
    "                     a_ccf=a_ccf[[\"acf\"]][,,1],\n",
    "                     b_ccf=b_ccf[[\"acf\"]][,,1], \n",
    "                     c_ccf=c_ccf[[\"acf\"]][,,1],\n",
    "                     d_lag=d_ccf[[\"acf\"]][,,1])"
   ]
  },
  {
   "cell_type": "markdown",
   "metadata": {},
   "source": [
    "Ok so let's plot these results now!"
   ]
  },
  {
   "cell_type": "code",
   "execution_count": 67,
   "metadata": {
    "collapsed": false
   },
   "outputs": [
    {
     "data": {},
     "metadata": {},
     "output_type": "display_data"
    },
    {
     "data": {
      "image/png": "[encoded data removed]",
      "text/plain": [
       "plot without title"
      ]
     },
     "metadata": {},
     "output_type": "display_data"
    }
   ],
   "source": [
    "# function to plot cross-correlation with respect to lag\n",
    "plot_ccf <- function(x, title) {\n",
    "    names(x) <- c(\"lag\", \"acf\")\n",
    "    g <- ggplot(x) + theme_economist_white(gray_bg=T) +\n",
    "        scale_y_continuous(lim=c(-1,1)) + \n",
    "        scale_x_continuous(trans=\"reverse\") + coord_flip() + \n",
    "        labs(title=title, x=\"Lag (ft)\", y=\"Correlation\") +\n",
    "        geom_line(aes(x=lag, y=acf), lwd=.5, col=\"seagreen4\") +\n",
    "        geom_vline(xintercept=x$lag[which.max(x$acf)], col=\"firebrick\", lwd=1.5) +\n",
    "        geom_text(aes(x=x$lag[which.max(x$acf)]+1.5, y=0, \n",
    "                      label=paste(\"Cross-Corr:\", round(max(x$acf),2))), size=3, col=\"firebrick\") +\n",
    "        geom_text(aes(x=x$lag[which.max(x$acf)]-1.5, y=0, \n",
    "                      label=paste(\"Lag:\", x$lag[which.max(x$acf)])), size=3, col=\"firebrick\") +\n",
    "        theme(panel.grid.major.x = element_line(colour=\"gray\", size=0.25), legend.position=\"none\", \n",
    "              axis.text=element_text(size=6), axis.title=element_text(size=8,face=\"bold\"),\n",
    "              title=element_text(size=6))\n",
    "    g <- switch_axis_position(g, 'x')\n",
    "    g\n",
    "}\n",
    "\n",
    "# build tracks for cross-correlation of B, C, and D with respect to A\n",
    "g1 <- plot_ccf(df_ccf[,c(1,2)], \"A\")\n",
    "g2 <- plot_ccf(df_ccf[,c(1,3)], \"B\")\n",
    "g3 <- plot_ccf(df_ccf[,c(1,4)], \"C\")\n",
    "g4 <- plot_ccf(df_ccf[,c(1,5)], \"D\")\n",
    "\n",
    "# bring them all together and output 3-track plot\n",
    "options(repr.plot.width=8, repr.plot.height=4)\n",
    "g <- plot_grid(g1, g2, g3, g4, ncol=4)\n",
    "ggdraw() + draw_plot(g, width=1, height=1) + draw_plot_label(\"Cross-Correlation with respect to A\", size=10)"
   ]
  },
  {
   "cell_type": "markdown",
   "metadata": {},
   "source": [
    "Not surprisingly, **A**'s autocorrelation (with itself) maximizes at zero-lag with a correlation of 1!  Also, even with noise added to the data, the cross-correlation determines the lag/offset of wells **B**, **C**, and **D** quite accurately.  **C** is the only well off at all - and it's off by only 1 foot, not bad!"
   ]
  }
 ],
 "metadata": {
  "kernelspec": {
   "display_name": "R 3.2",
   "language": "R",
   "name": "ir32"
  },
  "language_info": {
   "codemirror_mode": "r",
   "file_extension": ".r",
   "mimetype": "text/x-r-source",
   "name": "R",
   "pygments_lexer": "r",
   "version": "3.2.4"
  }
 },
 "nbformat": 4,
 "nbformat_minor": 0
}
