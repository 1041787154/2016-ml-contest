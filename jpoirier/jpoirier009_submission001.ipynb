{
 "cells": [
  {
   "cell_type": "markdown",
   "metadata": {},
   "source": [
    "# Facies classification using Machine Learning\n",
    "#### Joshua Poirier, [NEOS](https://www.neosgeo.com)\n",
    "2016 SEG Machine Learning Competition\n",
    "\n",
    "This notebook aims to extend Brendon Hall's \"Facies classification using Machine Learning\" notebook. Here I will be using the R programming language and employing a **custom minimum distance** approach. The data set used is from a class exercise from the University of Kansas on Neural Networks and Fuzzy Systems. It's based on a consortium project to use machine learning techniques to create a reservoir model of the largest gas fields in North America, the Hugoton and Panoma Fields.  \n",
    "\n",
    "The dataset I will be using includes log data from nine wells that have been labeled with facies type based on core observation. We will use this data to train our model and predict the facies for two hold-out wells (for which we have access to log data but not facies type).   \n",
    "\n",
    "To begin, let's print out the version of R I'm running."
   ]
  },
  {
   "cell_type": "code",
   "execution_count": 11,
   "metadata": {
    "collapsed": false
   },
   "outputs": [
    {
     "data": {
      "text/plain": [
       "               _                           \n",
       "platform       x86_64-w64-mingw32          \n",
       "arch           x86_64                      \n",
       "os             mingw32                     \n",
       "system         x86_64, mingw32             \n",
       "status                                     \n",
       "major          3                           \n",
       "minor          2.4                         \n",
       "year           2016                        \n",
       "month          03                          \n",
       "day            10                          \n",
       "svn rev        70301                       \n",
       "language       R                           \n",
       "version.string R version 3.2.4 (2016-03-10)\n",
       "nickname       Very Secure Dishes          "
      ]
     },
     "metadata": {},
     "output_type": "display_data"
    }
   ],
   "source": [
    "version"
   ]
  },
  {
   "cell_type": "markdown",
   "metadata": {},
   "source": [
    "Now I will start by loading in the training data and doing some preliminary cleaning.\n",
    "\n",
    "### Getting and cleaning data"
   ]
  },
  {
   "cell_type": "code",
   "execution_count": 2,
   "metadata": {
    "collapsed": false
   },
   "outputs": [
    {
     "data": {
      "text/html": [
       "'Raw data:'"
      ],
      "text/latex": [
       "'Raw data:'"
      ],
      "text/markdown": [
       "'Raw data:'"
      ],
      "text/plain": [
       "[1] \"Raw data:\""
      ]
     },
     "metadata": {},
     "output_type": "display_data"
    },
    {
     "data": {
      "text/html": [
       "<table>\n",
       "<thead><tr><th scope=col>Facies</th><th scope=col>Formation</th><th scope=col>Well.Name</th><th scope=col>Depth</th><th scope=col>GR</th><th scope=col>ILD_log10</th><th scope=col>DeltaPHI</th><th scope=col>PHIND</th><th scope=col>PE</th><th scope=col>NM_M</th><th scope=col>RELPOS</th></tr></thead>\n",
       "<tbody>\n",
       "\t<tr><td>3        </td><td>A1 SH    </td><td>SHRIMPLIN</td><td>2793     </td><td>77.5     </td><td>0.664    </td><td> 9.9     </td><td>11.9     </td><td>4.6      </td><td>1        </td><td>1.000    </td></tr>\n",
       "\t<tr><td>3        </td><td>A1 SH    </td><td>SHRIMPLIN</td><td>2794     </td><td>78.3     </td><td>0.661    </td><td>14.2     </td><td>12.6     </td><td>4.1      </td><td>1        </td><td>0.979    </td></tr>\n",
       "\t<tr><td>3        </td><td>A1 SH    </td><td>SHRIMPLIN</td><td>2794     </td><td>79.0     </td><td>0.658    </td><td>14.8     </td><td>13.1     </td><td>3.6      </td><td>1        </td><td>0.957    </td></tr>\n",
       "</tbody>\n",
       "</table>\n"
      ],
      "text/latex": [
       "\\begin{tabular}{r|lllllllllll}\n",
       " Facies & Formation & Well.Name & Depth & GR & ILD\\_log10 & DeltaPHI & PHIND & PE & NM\\_M & RELPOS\\\\\n",
       "\\hline\n",
       "\t 3         & A1 SH     & SHRIMPLIN & 2793      & 77.5      & 0.664     &  9.9      & 11.9      & 4.6       & 1         & 1.000    \\\\\n",
       "\t 3         & A1 SH     & SHRIMPLIN & 2794      & 78.3      & 0.661     & 14.2      & 12.6      & 4.1       & 1         & 0.979    \\\\\n",
       "\t 3         & A1 SH     & SHRIMPLIN & 2794      & 79.0      & 0.658     & 14.8      & 13.1      & 3.6       & 1         & 0.957    \\\\\n",
       "\\end{tabular}\n"
      ],
      "text/plain": [
       "  Facies Formation Well.Name Depth GR   ILD_log10 DeltaPHI PHIND PE  NM_M\n",
       "1 3      A1 SH     SHRIMPLIN 2793  77.5 0.664      9.9     11.9  4.6 1   \n",
       "2 3      A1 SH     SHRIMPLIN 2794  78.3 0.661     14.2     12.6  4.1 1   \n",
       "3 3      A1 SH     SHRIMPLIN 2794  79.0 0.658     14.8     13.1  3.6 1   \n",
       "  RELPOS\n",
       "1 1.000 \n",
       "2 0.979 \n",
       "3 0.957 "
      ]
     },
     "metadata": {},
     "output_type": "display_data"
    },
    {
     "data": {
      "text/html": [
       "'Cleaned data:'"
      ],
      "text/latex": [
       "'Cleaned data:'"
      ],
      "text/markdown": [
       "'Cleaned data:'"
      ],
      "text/plain": [
       "[1] \"Cleaned data:\""
      ]
     },
     "metadata": {},
     "output_type": "display_data"
    },
    {
     "data": {
      "text/html": [
       "<table>\n",
       "<thead><tr><th scope=col>Facies</th><th scope=col>Formation</th><th scope=col>Well.Name</th><th scope=col>Depth</th><th scope=col>GR</th><th scope=col>ILD_log10</th><th scope=col>DeltaPHI</th><th scope=col>PHIND</th><th scope=col>PE</th><th scope=col>isMarine</th><th scope=col>RELPOS</th></tr></thead>\n",
       "<tbody>\n",
       "\t<tr><td>FSiS     </td><td>A1 SH    </td><td>SHRIMPLIN</td><td>2793     </td><td>77.5     </td><td>0.664    </td><td> 9.9     </td><td>11.9     </td><td>4.6      </td><td>FALSE    </td><td>1.000    </td></tr>\n",
       "\t<tr><td>FSiS     </td><td>A1 SH    </td><td>SHRIMPLIN</td><td>2794     </td><td>78.3     </td><td>0.661    </td><td>14.2     </td><td>12.6     </td><td>4.1      </td><td>FALSE    </td><td>0.979    </td></tr>\n",
       "\t<tr><td>FSiS     </td><td>A1 SH    </td><td>SHRIMPLIN</td><td>2794     </td><td>79.0     </td><td>0.658    </td><td>14.8     </td><td>13.1     </td><td>3.6      </td><td>FALSE    </td><td>0.957    </td></tr>\n",
       "</tbody>\n",
       "</table>\n"
      ],
      "text/latex": [
       "\\begin{tabular}{r|lllllllllll}\n",
       " Facies & Formation & Well.Name & Depth & GR & ILD\\_log10 & DeltaPHI & PHIND & PE & isMarine & RELPOS\\\\\n",
       "\\hline\n",
       "\t FSiS      & A1 SH     & SHRIMPLIN & 2793      & 77.5      & 0.664     &  9.9      & 11.9      & 4.6       & FALSE     & 1.000    \\\\\n",
       "\t FSiS      & A1 SH     & SHRIMPLIN & 2794      & 78.3      & 0.661     & 14.2      & 12.6      & 4.1       & FALSE     & 0.979    \\\\\n",
       "\t FSiS      & A1 SH     & SHRIMPLIN & 2794      & 79.0      & 0.658     & 14.8      & 13.1      & 3.6       & FALSE     & 0.957    \\\\\n",
       "\\end{tabular}\n"
      ],
      "text/plain": [
       "  Facies Formation Well.Name Depth GR   ILD_log10 DeltaPHI PHIND PE  isMarine\n",
       "1 FSiS   A1 SH     SHRIMPLIN 2793  77.5 0.664      9.9     11.9  4.6 FALSE   \n",
       "2 FSiS   A1 SH     SHRIMPLIN 2794  78.3 0.661     14.2     12.6  4.1 FALSE   \n",
       "3 FSiS   A1 SH     SHRIMPLIN 2794  79.0 0.658     14.8     13.1  3.6 FALSE   \n",
       "  RELPOS\n",
       "1 1.000 \n",
       "2 0.979 \n",
       "3 0.957 "
      ]
     },
     "metadata": {},
     "output_type": "display_data"
    },
    {
     "data": {
      "text/html": [
       "'Centered and scaled data:'"
      ],
      "text/latex": [
       "'Centered and scaled data:'"
      ],
      "text/markdown": [
       "'Centered and scaled data:'"
      ],
      "text/plain": [
       "[1] \"Centered and scaled data:\""
      ]
     },
     "metadata": {},
     "output_type": "display_data"
    },
    {
     "data": {
      "text/html": [
       "<table>\n",
       "<thead><tr><th scope=col>Facies</th><th scope=col>Formation</th><th scope=col>Well.Name</th><th scope=col>Depth</th><th scope=col>GR</th><th scope=col>ILD_log10</th><th scope=col>DeltaPHI</th><th scope=col>PHIND</th><th scope=col>PE</th><th scope=col>isMarine</th><th scope=col>RELPOS</th></tr></thead>\n",
       "<tbody>\n",
       "\t<tr><td>FSiS     </td><td>A1 SH    </td><td>SHRIMPLIN</td><td>2793     </td><td>0.216    </td><td> 0.01855 </td><td>0.512    </td><td>-0.0487  </td><td> 0.421   </td><td>FALSE    </td><td>1.000    </td></tr>\n",
       "\t<tr><td>FSiS     </td><td>A1 SH    </td><td>SHRIMPLIN</td><td>2794     </td><td>0.237    </td><td> 0.00567 </td><td>1.517    </td><td> 0.0736  </td><td>-0.133   </td><td>FALSE    </td><td>0.979    </td></tr>\n",
       "\t<tr><td>FSiS     </td><td>A1 SH    </td><td>SHRIMPLIN</td><td>2794     </td><td>0.258    </td><td>-0.00721 </td><td>1.657    </td><td> 0.1648  </td><td>-0.687   </td><td>FALSE    </td><td>0.957    </td></tr>\n",
       "</tbody>\n",
       "</table>\n"
      ],
      "text/latex": [
       "\\begin{tabular}{r|lllllllllll}\n",
       " Facies & Formation & Well.Name & Depth & GR & ILD\\_log10 & DeltaPHI & PHIND & PE & isMarine & RELPOS\\\\\n",
       "\\hline\n",
       "\t FSiS      & A1 SH     & SHRIMPLIN & 2793      & 0.216     &  0.01855  & 0.512     & -0.0487   &  0.421    & FALSE     & 1.000    \\\\\n",
       "\t FSiS      & A1 SH     & SHRIMPLIN & 2794      & 0.237     &  0.00567  & 1.517     &  0.0736   & -0.133    & FALSE     & 0.979    \\\\\n",
       "\t FSiS      & A1 SH     & SHRIMPLIN & 2794      & 0.258     & -0.00721  & 1.657     &  0.1648   & -0.687    & FALSE     & 0.957    \\\\\n",
       "\\end{tabular}\n"
      ],
      "text/plain": [
       "  Facies Formation Well.Name Depth GR    ILD_log10 DeltaPHI PHIND   PE    \n",
       "1 FSiS   A1 SH     SHRIMPLIN 2793  0.216  0.01855  0.512    -0.0487  0.421\n",
       "2 FSiS   A1 SH     SHRIMPLIN 2794  0.237  0.00567  1.517     0.0736 -0.133\n",
       "3 FSiS   A1 SH     SHRIMPLIN 2794  0.258 -0.00721  1.657     0.1648 -0.687\n",
       "  isMarine RELPOS\n",
       "1 FALSE    1.000 \n",
       "2 FALSE    0.979 \n",
       "3 FALSE    0.957 "
      ]
     },
     "metadata": {},
     "output_type": "display_data"
    }
   ],
   "source": [
    "options(warn=-1)\n",
    "\n",
    "suppressMessages(library(dplyr))\n",
    "source(\"loadData.R\")\n",
    "\n",
    "# load data\n",
    "\"Raw data:\"\n",
    "raw <- loadData()\n",
    "format(head(raw,3), digits=3)\n",
    "\n",
    "# clean data\n",
    "\"Cleaned data:\"\n",
    "clean <- cleanData(raw)\n",
    "format(head(clean,3), digits=3)\n",
    "\n",
    "# center and scale select features\n",
    "\"Centered and scaled data:\"\n",
    "wells <- unique(clean$Well.Name)\n",
    "cs <- mutate(group_by(clean, Well.Name), \n",
    "             GR=scale(GR), \n",
    "             ILD_log10=scale(ILD_log10), \n",
    "             DeltaPHI=scale(DeltaPHI), \n",
    "             PHIND=scale(PHIND), \n",
    "             PE=scale(PE))\n",
    "df <- cs\n",
    "format(head(df,3), digits=3)"
   ]
  },
  {
   "cell_type": "markdown",
   "metadata": {},
   "source": [
    "Three data frames are shown above. The first shows the raw data (as it exists in the \\*.csv) file. The *cleaned* data converts the Facies feature from integer indicators to something more descriptive (FSiS more clearly indicates fine siltstone than the number 3 does!) - this will be useful when looking at the data moving forward. The *cleaned* data also converts the two-level **NM_M** feature into boolean **isMarine** - again this shouldn't impact our models but is more intuitive.  \n",
    "\n",
    "Finally, the *centered and scaled* data centers and scales the log data on a well-by-well basis."
   ]
  },
  {
   "cell_type": "markdown",
   "metadata": {},
   "source": [
    "### Feature engineering  \n",
    "\n",
    "I'll now add a couple of features which will be used during **facies sequencing** (more on this later). First, *FmThickness* is the formation thickness within that particular well.  Second, *FmRelDepth* is the relative formation depth."
   ]
  },
  {
   "cell_type": "code",
   "execution_count": 3,
   "metadata": {
    "collapsed": false
   },
   "outputs": [
    {
     "data": {
      "text/html": [
       "<table>\n",
       "<thead><tr><th scope=col>Facies</th><th scope=col>Formation</th><th scope=col>Well.Name</th><th scope=col>Depth</th><th scope=col>GR</th><th scope=col>ILD_log10</th><th scope=col>DeltaPHI</th><th scope=col>PHIND</th><th scope=col>PE</th><th scope=col>isMarine</th><th scope=col>RELPOS</th><th scope=col>FmThickness</th><th scope=col>FmRelDepth</th></tr></thead>\n",
       "<tbody>\n",
       "\t<tr><td>FSiS     </td><td>A1 SH    </td><td>SHRIMPLIN</td><td>2793     </td><td>0.216    </td><td> 0.01855 </td><td>0.512    </td><td>-0.0487  </td><td> 0.421   </td><td>FALSE    </td><td>1.000    </td><td>21.5     </td><td>0.000    </td></tr>\n",
       "\t<tr><td>FSiS     </td><td>A1 SH    </td><td>SHRIMPLIN</td><td>2794     </td><td>0.237    </td><td> 0.00567 </td><td>1.517    </td><td> 0.0736  </td><td>-0.133   </td><td>FALSE    </td><td>0.979    </td><td>21.5     </td><td>0.021    </td></tr>\n",
       "\t<tr><td>FSiS     </td><td>A1 SH    </td><td>SHRIMPLIN</td><td>2794     </td><td>0.258    </td><td>-0.00721 </td><td>1.657    </td><td> 0.1648  </td><td>-0.687   </td><td>FALSE    </td><td>0.957    </td><td>21.5     </td><td>0.043    </td></tr>\n",
       "\t<tr><td>FSiS     </td><td>A1 SH    </td><td>SHRIMPLIN</td><td>2794     </td><td>0.447    </td><td>-0.02009 </td><td>1.447    </td><td> 0.1770  </td><td>-0.797   </td><td>FALSE    </td><td>0.936    </td><td>21.5     </td><td>0.064    </td></tr>\n",
       "\t<tr><td>FSiS     </td><td>A1 SH    </td><td>SHRIMPLIN</td><td>2795     </td><td>0.139    </td><td>-0.05444 </td><td>1.353    </td><td> 0.2118  </td><td>-0.908   </td><td>FALSE    </td><td>0.915    </td><td>21.5     </td><td>0.085    </td></tr>\n",
       "\t<tr><td>FSiS     </td><td>A1 SH    </td><td>SHRIMPLIN</td><td>2796     </td><td>0.122    </td><td>-0.10167 </td><td>1.470    </td><td> 0.2278  </td><td>-0.687   </td><td>FALSE    </td><td>0.894    </td><td>21.5     </td><td>0.106    </td></tr>\n",
       "</tbody>\n",
       "</table>\n"
      ],
      "text/latex": [
       "\\begin{tabular}{r|lllllllllllll}\n",
       " Facies & Formation & Well.Name & Depth & GR & ILD\\_log10 & DeltaPHI & PHIND & PE & isMarine & RELPOS & FmThickness & FmRelDepth\\\\\n",
       "\\hline\n",
       "\t FSiS      & A1 SH     & SHRIMPLIN & 2793      & 0.216     &  0.01855  & 0.512     & -0.0487   &  0.421    & FALSE     & 1.000     & 21.5      & 0.000    \\\\\n",
       "\t FSiS      & A1 SH     & SHRIMPLIN & 2794      & 0.237     &  0.00567  & 1.517     &  0.0736   & -0.133    & FALSE     & 0.979     & 21.5      & 0.021    \\\\\n",
       "\t FSiS      & A1 SH     & SHRIMPLIN & 2794      & 0.258     & -0.00721  & 1.657     &  0.1648   & -0.687    & FALSE     & 0.957     & 21.5      & 0.043    \\\\\n",
       "\t FSiS      & A1 SH     & SHRIMPLIN & 2794      & 0.447     & -0.02009  & 1.447     &  0.1770   & -0.797    & FALSE     & 0.936     & 21.5      & 0.064    \\\\\n",
       "\t FSiS      & A1 SH     & SHRIMPLIN & 2795      & 0.139     & -0.05444  & 1.353     &  0.2118   & -0.908    & FALSE     & 0.915     & 21.5      & 0.085    \\\\\n",
       "\t FSiS      & A1 SH     & SHRIMPLIN & 2796      & 0.122     & -0.10167  & 1.470     &  0.2278   & -0.687    & FALSE     & 0.894     & 21.5      & 0.106    \\\\\n",
       "\\end{tabular}\n"
      ],
      "text/plain": [
       "  Facies Formation Well.Name Depth GR    ILD_log10 DeltaPHI PHIND   PE    \n",
       "1 FSiS   A1 SH     SHRIMPLIN 2793  0.216  0.01855  0.512    -0.0487  0.421\n",
       "2 FSiS   A1 SH     SHRIMPLIN 2794  0.237  0.00567  1.517     0.0736 -0.133\n",
       "3 FSiS   A1 SH     SHRIMPLIN 2794  0.258 -0.00721  1.657     0.1648 -0.687\n",
       "4 FSiS   A1 SH     SHRIMPLIN 2794  0.447 -0.02009  1.447     0.1770 -0.797\n",
       "5 FSiS   A1 SH     SHRIMPLIN 2795  0.139 -0.05444  1.353     0.2118 -0.908\n",
       "6 FSiS   A1 SH     SHRIMPLIN 2796  0.122 -0.10167  1.470     0.2278 -0.687\n",
       "  isMarine RELPOS FmThickness FmRelDepth\n",
       "1 FALSE    1.000  21.5        0.000     \n",
       "2 FALSE    0.979  21.5        0.021     \n",
       "3 FALSE    0.957  21.5        0.043     \n",
       "4 FALSE    0.936  21.5        0.064     \n",
       "5 FALSE    0.915  21.5        0.085     \n",
       "6 FALSE    0.894  21.5        0.106     "
      ]
     },
     "metadata": {},
     "output_type": "display_data"
    }
   ],
   "source": [
    "library(dplyr)\n",
    "\n",
    "wells <- unique(df$Well.Name)\n",
    "\n",
    "# calculate formation thickness on a well-by-well basis\n",
    "df <- mutate(group_by(df, Formation, Well.Name), FmThickness=max(Depth)-min(Depth)+.5)\n",
    "\n",
    "# calculate relative formation depth\n",
    "df$FmRelDepth <- 1 - df$RELPOS\n",
    "\n",
    "format(head(df), digits=3)"
   ]
  },
  {
   "cell_type": "markdown",
   "metadata": {},
   "source": [
    "### Facies sequencing functions  \n",
    "\n",
    "I'm going to build a data frame containing information on all the facies sequences observed in all the wells. Here I define a facies sequence as a contiguous set of the same facies. For example, SS - SS - SS - SS - MS - MS - D - D - D would represent three facies sequences (one for the 4 SS's, one for 2 MS's, and one for the 3 D's).\n",
    "\n",
    "To do this I'll need some functions (additional functions are kept in this directory's *sequencing.R* file - kept there for brevity). This first function we show here builds a single-rowed data frame containing information on a single data frame:\n",
    "\n",
    "* Formation - formation this facies sequence belongs to (i.e. **A1 SH**)  \n",
    "* Well.Name - well this facies sequence was observed (i.e. **SHRIMPLIN**)  \n",
    "* Top - depth representing the top of the facies sequence  \n",
    "* Base - depth representing the bottom of the facies sequence  \n",
    "* FmThickness - thickness of entire formation (not thickness of facies sequence)  \n",
    "* Facies - facies type of the sequence  \n",
    "* FmRelThickness - thickness of the facies sequence relative to the entire formation  \n",
    "* GR_mean - average gamma-ray observed over the facies sequence  \n",
    "* ILD_log10_mean - average deep resistivity observed over the facies sequence  \n",
    "* dPhi_mean - average difference between neutron and density porosities observed over the facies sequence  \n",
    "* PHI_mean - average porosity observed over the facies sequence  \n",
    "* PE_mean - average photoelectric effect observed over the facies sequence  "
   ]
  },
  {
   "cell_type": "code",
   "execution_count": 8,
   "metadata": {
    "collapsed": true
   },
   "outputs": [],
   "source": [
    "# function to build a single-rowed data frame with information regarding a contiguous facies sequence\n",
    "# ---------------------------------------------------------------------------------------------------\n",
    "# SUMMARY OF ARGUMENTS\n",
    "# formation = formation this facies sequence belongs to\n",
    "# well = well data this facies sequence belongs to\n",
    "# fmThickness = thickness of the formation (not the facies sequence)\n",
    "# facies = facies type in question (SS, FSiS, etc.)\n",
    "# top = shallowest depth of this facies sequence\n",
    "# base = deepest depth of this facies sequence\n",
    "# df = data frame containing all observations of this facies sequence (from the loaded data)\n",
    "\n",
    "# SUMMARY OF RETURN\n",
    "# seq_df = single-rowed data frame containing information on a contiguous facies sequence\n",
    "# ---------------------------------------------------------------------------------------------------\n",
    "buildSeqRow <- function(formation, well, fmThickness, facies, top, base, df) {\n",
    "    \n",
    "    seq_df <- data.frame(Formation = formation,\n",
    "                         Well.Name = well,\n",
    "                         Top = top,\n",
    "                         Base = base,\n",
    "                         FmThickness = fmThickness,\n",
    "                         Facies = facies,\n",
    "                         FmRelThickness = (base-top)/fmThickness,\n",
    "                         GR_mean=mean(df$GR), \n",
    "                         ILD_log10_mean=mean(df$ILD_log10), \n",
    "                         dPhi_mean=mean(df$DeltaPHI), \n",
    "                         PHI_mean=mean(df$PHIND), \n",
    "                         PE_mean=mean(df$PE, na.rm=T)\n",
    "                        )\n",
    "    seq_df\n",
    "}"
   ]
  },
  {
   "cell_type": "markdown",
   "metadata": {},
   "source": [
    "Next I build the function to loop over all formations in the data set (and in subsequent functions, tucked in *sequencing.R*, the wells and observations). It will ultimately build and return a data frame containing information on each contiguous facies sequence in a given data frame."
   ]
  },
  {
   "cell_type": "code",
   "execution_count": 9,
   "metadata": {
    "collapsed": false
   },
   "outputs": [],
   "source": [
    "source(\"sequencing.R\")\n",
    "\n",
    "# function to build a data frame of each contiguous facies sequence\n",
    "# ---------------------------------------------------------------------------------------------------\n",
    "# SUMMARY OF ARGUMENTS\n",
    "# df = data frame containing all log observations (eg. the loaded data)\n",
    "#\n",
    "# SUMMARY OF RETURN\n",
    "# seq_df = data frame containing data on each contiguous facies sequence\n",
    "# ---------------------------------------------------------------------------------------------------\n",
    "faciesSequencing <- function(df) {\n",
    "    seq_df <- data.frame()\n",
    "    formations <- unique(df$Formation)\n",
    "\n",
    "    for (f in formations) {\n",
    "        df_f <- df[df$Formation == f,]\n",
    "        seq_df <- rbind(seq_df, formationSequencing(df_f, f))\n",
    "    } \n",
    "    \n",
    "    seq_df\n",
    "}"
   ]
  },
  {
   "cell_type": "markdown",
   "metadata": {},
   "source": [
    "### Trial training  \n",
    "\n",
    "Since this is a somewhat novel approach, let's try it out by isolating two arbitrary wells as a cross-validation set. Here I will ignore data with the well label **RECRUIT F9** because the approach tries to leverage spatial location - for which the recruited data is not as robust (no consistent sampling).  \n",
    "\n",
    "For this run I will use the **SHRIMPLIN** and **CHURCHMAN BIBLE** wells as an arbitrarily chosen cross-validation/test set. I choose two wells to emulate the contest conditions by which we are predicting facies for two hold-out wells.  \n",
    "\n",
    "The **getOutAndVote** function performs facies sequencing on the training data and projects the facies of each well onto the test data (based on the relative formation depths). Also projected for each training well is the data-space distance between the test well's data observation and the average for the relevant facies sequence. Each training well gets to *vote* for their facies weighted using inverse distance weighting (data distance as described). The training well with the most weighted votes (**minimum distance**) is elected as the predicted facies for that test observation.  \n",
    "\n",
    "Once the predictions are in place I evaluate my predictions using micro-averaged F1-score. The functions for this are tucked away in *accuracyMetrics.R*, and are essentially the work of [sunliangms](https://github.com/Azure/Azure-MachineLearning-DataScience/blob/master/Utilities/R/MultiClassEvaluation/multi_class_measure.R).  \n",
    "\n",
    "Finally, note that I am recording the time at the beginning and end of the code block. I will post the computation time (real-time) at the end to get a loose sense of computational complexity."
   ]
  },
  {
   "cell_type": "code",
   "execution_count": 10,
   "metadata": {
    "collapsed": false
   },
   "outputs": [
    {
     "data": {
      "text/html": [
       "<table>\n",
       "<thead><tr><th scope=col>Formation</th><th scope=col>Well.Name</th><th scope=col>Depth</th><th scope=col>GR</th><th scope=col>ILD_log10</th><th scope=col>DeltaPHI</th><th scope=col>PHIND</th><th scope=col>PE</th><th scope=col>isMarine</th><th scope=col>RELPOS</th><th scope=col>Facies</th><th scope=col>Predicted</th></tr></thead>\n",
       "<tbody>\n",
       "\t<tr><td>A1 SH    </td><td>SHRIMPLIN</td><td>2793     </td><td>0.216    </td><td> 0.01855 </td><td>0.512    </td><td>-0.0487  </td><td> 0.421   </td><td>FALSE    </td><td>1.000    </td><td>FSiS     </td><td>FSiS     </td></tr>\n",
       "\t<tr><td>A1 SH    </td><td>SHRIMPLIN</td><td>2794     </td><td>0.237    </td><td> 0.00567 </td><td>1.517    </td><td> 0.0736  </td><td>-0.133   </td><td>FALSE    </td><td>0.979    </td><td>FSiS     </td><td>FSiS     </td></tr>\n",
       "\t<tr><td>A1 SH    </td><td>SHRIMPLIN</td><td>2794     </td><td>0.258    </td><td>-0.00721 </td><td>1.657    </td><td> 0.1648  </td><td>-0.687   </td><td>FALSE    </td><td>0.957    </td><td>FSiS     </td><td>FSiS     </td></tr>\n",
       "</tbody>\n",
       "</table>\n"
      ],
      "text/latex": [
       "\\begin{tabular}{r|llllllllllll}\n",
       " Formation & Well.Name & Depth & GR & ILD\\_log10 & DeltaPHI & PHIND & PE & isMarine & RELPOS & Facies & Predicted\\\\\n",
       "\\hline\n",
       "\t A1 SH     & SHRIMPLIN & 2793      & 0.216     &  0.01855  & 0.512     & -0.0487   &  0.421    & FALSE     & 1.000     & FSiS      & FSiS     \\\\\n",
       "\t A1 SH     & SHRIMPLIN & 2794      & 0.237     &  0.00567  & 1.517     &  0.0736   & -0.133    & FALSE     & 0.979     & FSiS      & FSiS     \\\\\n",
       "\t A1 SH     & SHRIMPLIN & 2794      & 0.258     & -0.00721  & 1.657     &  0.1648   & -0.687    & FALSE     & 0.957     & FSiS      & FSiS     \\\\\n",
       "\\end{tabular}\n"
      ],
      "text/plain": [
       "  Formation Well.Name Depth GR    ILD_log10 DeltaPHI PHIND   PE     isMarine\n",
       "1 A1 SH     SHRIMPLIN 2793  0.216  0.01855  0.512    -0.0487  0.421 FALSE   \n",
       "2 A1 SH     SHRIMPLIN 2794  0.237  0.00567  1.517     0.0736 -0.133 FALSE   \n",
       "3 A1 SH     SHRIMPLIN 2794  0.258 -0.00721  1.657     0.1648 -0.687 FALSE   \n",
       "  RELPOS Facies Predicted\n",
       "1 1.000  FSiS   FSiS     \n",
       "2 0.979  FSiS   FSiS     \n",
       "3 0.957  FSiS   FSiS     "
      ]
     },
     "metadata": {},
     "output_type": "display_data"
    },
    {
     "data": {
      "text/html": [
       "'F1-score:'"
      ],
      "text/latex": [
       "'F1-score:'"
      ],
      "text/markdown": [
       "'F1-score:'"
      ],
      "text/plain": [
       "[1] \"F1-score:\""
      ]
     },
     "metadata": {},
     "output_type": "display_data"
    },
    {
     "data": {
      "text/html": [
       "0.532571428571429"
      ],
      "text/latex": [
       "0.532571428571429"
      ],
      "text/markdown": [
       "0.532571428571429"
      ],
      "text/plain": [
       "[1] 0.5325714"
      ]
     },
     "metadata": {},
     "output_type": "display_data"
    },
    {
     "data": {
      "text/html": [
       "'Time elapsed:'"
      ],
      "text/latex": [
       "'Time elapsed:'"
      ],
      "text/markdown": [
       "'Time elapsed:'"
      ],
      "text/plain": [
       "[1] \"Time elapsed:\""
      ]
     },
     "metadata": {},
     "output_type": "display_data"
    },
    {
     "name": "stdout",
     "output_type": "stream",
     "text": [
      "Time difference of 23.50804 secs\n"
     ]
    }
   ],
   "source": [
    "library(dplyr)\n",
    "source(\"voting.R\")\n",
    "source(\"accuracyMetrics.R\")\n",
    "source(\"sequencing.R\")\n",
    "\n",
    "t0 <- Sys.time()\n",
    "\n",
    "wells <- unique(df$Well.Name)\n",
    "wells <- wells[!wells %in% c(\"Recruit F9\")]\n",
    "\n",
    "# use SHRIMPLIN & CHURCHMAN BIBLE as test wells\n",
    "train <- df[df$Well.Name != \"SHRIMPLIN\" & df$Well.Name != \"CHURCHMAN BIBLE\" & df$Well.Name != \"Recruit F9\",]\n",
    "test <- df[df$Well.Name == \"SHRIMPLIN\" | df$Well.Name == \"CHURCHMAN BIBLE\",]\n",
    "\n",
    "testPrime <- getOutAndVote(train, test)\n",
    "testPrime <- electClass(testPrime,\n",
    "                        tallyVotes(testPrime, unique(train$Well.Name), p=1.75))\n",
    "testFinal <- subset(testPrime, select=c(Formation, Well.Name, Depth,\n",
    "                                       GR, ILD_log10, DeltaPHI, PHIND, PE, isMarine, RELPOS,\n",
    "                                       Facies, Predicted))\n",
    "\n",
    "format(head(testFinal,3), digits=3)\n",
    "\"F1-score:\"\n",
    "myF1Metric(testFinal$Predicted, testFinal$Facies)\n",
    "\n",
    "tn <- Sys.time()\n",
    "\"Time elapsed:\"\n",
    "print(tn-t0)"
   ]
  },
  {
   "cell_type": "markdown",
   "metadata": {},
   "source": [
    "Here I achieved an F1-score of **0.53** - not bad but not winning the contest as of this writing. Nevertheless, I feel this novel approach is worth pursuing through the end. It also took just over 23 seconds to run - pretty quick by machine learning standards."
   ]
  },
  {
   "cell_type": "markdown",
   "metadata": {},
   "source": [
    "### Cross-validation by number of training wells  \n",
    "\n",
    "It is intuitive to expect any machine learning algorithm for this contest to perform better with more data (from more wells). To simulate contest conditions it is reasonable to use each combination of wells in the training data as a cross-validation/test set to evaluate our algorithms performance.  \n",
    "\n",
    "Similarly, for each cross-validation well pair, I will use every possible combination of the remaining wells in the training set (each well alone, each possible well pair, each possible well ternary, etc). This will allow me to see how the number of training wells impacts predictive performance. I will store these results in a data frame and we can run some statistics on it later."
   ]
  },
  {
   "cell_type": "code",
   "execution_count": 114,
   "metadata": {
    "collapsed": false
   },
   "outputs": [
    {
     "data": {
      "text/html": [
       "<table>\n",
       "<thead><tr><th scope=col>testwell1</th><th scope=col>testwell2</th><th scope=col>nTrain</th><th scope=col>f1</th></tr></thead>\n",
       "<tbody>\n",
       "\t<tr><td>SHRIMPLIN  </td><td>ALEXANDER D</td><td>1          </td><td>0.482      </td></tr>\n",
       "\t<tr><td>SHRIMPLIN  </td><td>ALEXANDER D</td><td>1          </td><td>0.458      </td></tr>\n",
       "\t<tr><td>SHRIMPLIN  </td><td>ALEXANDER D</td><td>1          </td><td>0.531      </td></tr>\n",
       "\t<tr><td>SHRIMPLIN  </td><td>ALEXANDER D</td><td>1          </td><td>0.423      </td></tr>\n",
       "\t<tr><td>SHRIMPLIN  </td><td>ALEXANDER D</td><td>2          </td><td>0.539      </td></tr>\n",
       "\t<tr><td>SHRIMPLIN  </td><td>ALEXANDER D</td><td>2          </td><td>0.501      </td></tr>\n",
       "</tbody>\n",
       "</table>\n"
      ],
      "text/latex": [
       "\\begin{tabular}{r|llll}\n",
       " testwell1 & testwell2 & nTrain & f1\\\\\n",
       "\\hline\n",
       "\t SHRIMPLIN   & ALEXANDER D & 1           & 0.482      \\\\\n",
       "\t SHRIMPLIN   & ALEXANDER D & 1           & 0.458      \\\\\n",
       "\t SHRIMPLIN   & ALEXANDER D & 1           & 0.531      \\\\\n",
       "\t SHRIMPLIN   & ALEXANDER D & 1           & 0.423      \\\\\n",
       "\t SHRIMPLIN   & ALEXANDER D & 2           & 0.539      \\\\\n",
       "\t SHRIMPLIN   & ALEXANDER D & 2           & 0.501      \\\\\n",
       "\\end{tabular}\n"
      ],
      "text/plain": [
       "  testwell1 testwell2   nTrain f1   \n",
       "1 SHRIMPLIN ALEXANDER D 1      0.482\n",
       "2 SHRIMPLIN ALEXANDER D 1      0.458\n",
       "3 SHRIMPLIN ALEXANDER D 1      0.531\n",
       "4 SHRIMPLIN ALEXANDER D 1      0.423\n",
       "5 SHRIMPLIN ALEXANDER D 2      0.539\n",
       "6 SHRIMPLIN ALEXANDER D 2      0.501"
      ]
     },
     "metadata": {},
     "output_type": "display_data"
    },
    {
     "name": "stdout",
     "output_type": "stream",
     "text": [
      "Time difference of 15.91658 hours\n"
     ]
    }
   ],
   "source": [
    "source(\"voting.R\")\n",
    "source(\"accuracyMetrics.R\")\n",
    "\n",
    "t0 <- Sys.time()\n",
    "\n",
    "f1 <- data.frame()\n",
    "\n",
    "for (wi in 1:(length(wells)-1)) {\n",
    "    for (wj in (wi+1):length(wells)) {\n",
    "        test <- df[df$Well.Name == wells[wi] | df$Well.Name == wells[wj],]\n",
    "        trainWells <- wells[!wells %in% c(as.character(wells[wi]), as.character(wells[wj]))]\n",
    "        \n",
    "        for (i in 1:length(trainWells)) {\n",
    "            trainWellCombos <- combn(trainWells, i, simplify=F)\n",
    "            for (combo in trainWellCombos) {\n",
    "                train <- df[df$Well.Name %in% as.vector(combo),]\n",
    "                \n",
    "                # ensure training set observes all formations in the test set\n",
    "                if (sum(unique(test$Formation) %in% unique(train$Formation)) == length(unique(test$Formation))) {\n",
    "                    testPrime <- getOutAndVote(train, test)\n",
    "                    votes <- tallyVotes(testPrime, unique(train$Well.Name), p=1.75)\n",
    "                    testPrime <- electClass(testPrime, votes)\n",
    "                    testFinal <- subset(testPrime, select=c(Formation, Well.Name, Depth,\n",
    "                                                            GR, ILD_log10, DeltaPHI, PHIND, PE, isMarine, RELPOS,\n",
    "                                                            Facies, Predicted))\n",
    "                    \n",
    "                    f1_i <- myF1Metric(testFinal$Predicted, testFinal$Facies)\n",
    "                    f1 <- rbind(f1, data.frame(testwell1=wells[wi], testwell2=wells[wj], nTrain=i, f1=f1_i))\n",
    "                }\n",
    "            }\n",
    "        }\n",
    "    }\n",
    "}\n",
    "\n",
    "format(head(f1), digits=3)\n",
    "\n",
    "tn <- Sys.time()\n",
    "print(tn-t0)"
   ]
  },
  {
   "cell_type": "markdown",
   "metadata": {},
   "source": [
    "Notice that the above computation took nearly **16 hours**! This is because it ran many many of those ~ 23 second models - one for each combination of training wells for each combination of cross-validation/test wells.\n",
    "\n",
    "Now we have calculated models for all possible combinations of 2 test well pairs using all possible combinations of training wells (any number of training wells). Let's calculate the 95% confidence intervals for the f1-scores across the number of training wells. I expect the f1-scores to increase with additional training wells; and also have the interval ranges decrease. \n",
    "\n",
    "We can then forecast the expected (mean) f1-score and 95% confidence intervals when using the full training set. This would is the conditions when predicting the STUART and CRAWFORD wells using this method."
   ]
  },
  {
   "cell_type": "code",
   "execution_count": 182,
   "metadata": {
    "collapsed": false
   },
   "outputs": [
    {
     "data": {},
     "metadata": {},
     "output_type": "display_data"
    },
    {
     "data": {
      "image/png": "[encoded data removed]",
      "text/plain": [
       "plot without title"
      ]
     },
     "metadata": {},
     "output_type": "display_data"
    }
   ],
   "source": [
    "options(repr.plot.width=10, repr.plot.height=6)\n",
    "\n",
    "library(ggplot2)\n",
    "library(ggthemes)\n",
    "\n",
    "# calculate mean, standard deviation, and 95% confidence intervals for models by the number of training wells\n",
    "means <- tapply(f1$f1, f1$nTrain, mean)\n",
    "sds <- tapply(f1$f1, f1$nTrain, sd)\n",
    "lower95 <- means - 2 * sds\n",
    "upper95 <- means + 2 * sds\n",
    "f1_summary <- data.frame(nTrain=1:length(lower95), lower95=lower95, mean=means, upper95=upper95)\n",
    "\n",
    "# model the mean and 95% confidence interval using a linear model (with natural log applied to # training wells)\n",
    "fit_lower95 <- lm(lower95 ~ log(nTrain), data=f1_summary)\n",
    "fit_mean <- lm(mean ~ log(nTrain), data=f1_summary)\n",
    "fit_upper95 <- lm(upper95 ~ log(nTrain), data=f1_summary)\n",
    "\n",
    "# estimate/forecast f1-score (mean) and it's 95% confidence interval for up to 9 wells (entire training set)\n",
    "predict <- data.frame(nTrain=1:9, lower95=rep(NA,9), mean=rep(NA,9), upper95=rep(NA,9))\n",
    "predict$lower95 <- predict(fit_lower95, predict)\n",
    "predict$mean <- predict(fit_mean, predict)\n",
    "predict$upper95 <- predict(fit_upper95, predict)\n",
    "\n",
    "# plot boxplot of f1-scores and lines showing how expected f1-score and 95% confidence interval change\n",
    "# with # of training wells included in model\n",
    "p <- ggplot(f1, aes(factor(nTrain), f1)) + geom_boxplot() + theme_economist_white() +\n",
    "    labs(x=\"# of training wells\", y=\"F1-score\", title=\"F1-score results and forecast\") +\n",
    "    geom_line(data=predict, aes(group=1, y=lower95), col=\"dodgerblue3\", size=3, alpha=.5) +\n",
    "    geom_line(data=predict, aes(group=1, y=mean), col=\"gray\", size=3, alpha=.8) +\n",
    "    geom_line(data=predict, aes(group=1, y=upper95), col=\"firebrick\", size=3, alpha=.5) +\n",
    "    geom_text(aes(x=9, y=predict$lower95[9]+.01, label=round(predict$lower95[9], 3)), size=3) +\n",
    "    geom_text(aes(x=9, y=predict$mean[9]+.01, label=round(predict$mean[9], 3)), size=3) +\n",
    "    geom_text(aes(x=9, y=predict$upper95[9]+.01, label=round(predict$upper95[9], 3)), size=3) +\n",
    "    geom_text(aes(x=5, y=predict$lower95[5], label=\"Estimated/Forecast Lower 95% Confidence Interval\"), size=3, angle=10) +\n",
    "    geom_text(aes(x=5, y=predict$mean[5], label=\"Estimated/Forecast Mean F1-Score\"), size=3, angle=8) +\n",
    "    geom_text(aes(x=5, y=predict$upper95[5], label=\"Estimated/Forecast Upper 95% Confidence Interval\"), size=3, angle=6) +\n",
    "    theme(plot.title=element_text(size=10), axis.title=element_text(size=10), axis.text=element_text(size=10))\n",
    "\n",
    "p "
   ]
  },
  {
   "cell_type": "markdown",
   "metadata": {},
   "source": [
    "After viewing the boxplot alone I decided to approximate/forecast the expected (mean) f1-score and its 95% confidence interval by fitting a linear model (with a natural logarithm applied to independent data (# of training wells).\n",
    "\n",
    "So with the entire training set (all 9 wells, excluding the RECRUIT F9 data) we expect an F1-score of **0.521**. We can state with **95% confidence** that the F1-score will lie between **0.425** and **0.616**."
   ]
  },
  {
   "cell_type": "markdown",
   "metadata": {},
   "source": [
    "### Predicting the hold-out data  \n",
    "\n",
    "To begin, let's reload, clean, center/scale, and feature engineer the training data and testing data."
   ]
  },
  {
   "cell_type": "code",
   "execution_count": 12,
   "metadata": {
    "collapsed": false
   },
   "outputs": [
    {
     "data": {
      "text/html": [
       "'Train data:'"
      ],
      "text/latex": [
       "'Train data:'"
      ],
      "text/markdown": [
       "'Train data:'"
      ],
      "text/plain": [
       "[1] \"Train data:\""
      ]
     },
     "metadata": {},
     "output_type": "display_data"
    },
    {
     "data": {
      "text/html": [
       "<table>\n",
       "<thead><tr><th scope=col>Facies</th><th scope=col>Formation</th><th scope=col>Well.Name</th><th scope=col>Depth</th><th scope=col>GR</th><th scope=col>ILD_log10</th><th scope=col>DeltaPHI</th><th scope=col>PHIND</th><th scope=col>PE</th><th scope=col>isMarine</th><th scope=col>RELPOS</th><th scope=col>FmThickness</th><th scope=col>FmRelDepth</th></tr></thead>\n",
       "<tbody>\n",
       "\t<tr><td>FSiS     </td><td>A1 SH    </td><td>SHRIMPLIN</td><td>2793     </td><td>0.216    </td><td> 0.01855 </td><td>0.512    </td><td>-0.0487  </td><td> 0.421   </td><td>FALSE    </td><td>1.000    </td><td>21.5     </td><td>0.000    </td></tr>\n",
       "\t<tr><td>FSiS     </td><td>A1 SH    </td><td>SHRIMPLIN</td><td>2794     </td><td>0.237    </td><td> 0.00567 </td><td>1.517    </td><td> 0.0736  </td><td>-0.133   </td><td>FALSE    </td><td>0.979    </td><td>21.5     </td><td>0.021    </td></tr>\n",
       "\t<tr><td>FSiS     </td><td>A1 SH    </td><td>SHRIMPLIN</td><td>2794     </td><td>0.258    </td><td>-0.00721 </td><td>1.657    </td><td> 0.1648  </td><td>-0.687   </td><td>FALSE    </td><td>0.957    </td><td>21.5     </td><td>0.043    </td></tr>\n",
       "</tbody>\n",
       "</table>\n"
      ],
      "text/latex": [
       "\\begin{tabular}{r|lllllllllllll}\n",
       " Facies & Formation & Well.Name & Depth & GR & ILD\\_log10 & DeltaPHI & PHIND & PE & isMarine & RELPOS & FmThickness & FmRelDepth\\\\\n",
       "\\hline\n",
       "\t FSiS      & A1 SH     & SHRIMPLIN & 2793      & 0.216     &  0.01855  & 0.512     & -0.0487   &  0.421    & FALSE     & 1.000     & 21.5      & 0.000    \\\\\n",
       "\t FSiS      & A1 SH     & SHRIMPLIN & 2794      & 0.237     &  0.00567  & 1.517     &  0.0736   & -0.133    & FALSE     & 0.979     & 21.5      & 0.021    \\\\\n",
       "\t FSiS      & A1 SH     & SHRIMPLIN & 2794      & 0.258     & -0.00721  & 1.657     &  0.1648   & -0.687    & FALSE     & 0.957     & 21.5      & 0.043    \\\\\n",
       "\\end{tabular}\n"
      ],
      "text/plain": [
       "  Facies Formation Well.Name Depth GR    ILD_log10 DeltaPHI PHIND   PE    \n",
       "1 FSiS   A1 SH     SHRIMPLIN 2793  0.216  0.01855  0.512    -0.0487  0.421\n",
       "2 FSiS   A1 SH     SHRIMPLIN 2794  0.237  0.00567  1.517     0.0736 -0.133\n",
       "3 FSiS   A1 SH     SHRIMPLIN 2794  0.258 -0.00721  1.657     0.1648 -0.687\n",
       "  isMarine RELPOS FmThickness FmRelDepth\n",
       "1 FALSE    1.000  21.5        0.000     \n",
       "2 FALSE    0.979  21.5        0.021     \n",
       "3 FALSE    0.957  21.5        0.043     "
      ]
     },
     "metadata": {},
     "output_type": "display_data"
    },
    {
     "data": {
      "text/html": [
       "'Test data:'"
      ],
      "text/latex": [
       "'Test data:'"
      ],
      "text/markdown": [
       "'Test data:'"
      ],
      "text/plain": [
       "[1] \"Test data:\""
      ]
     },
     "metadata": {},
     "output_type": "display_data"
    },
    {
     "data": {
      "text/html": [
       "<table>\n",
       "<thead><tr><th scope=col>Formation</th><th scope=col>Well.Name</th><th scope=col>Depth</th><th scope=col>GR</th><th scope=col>ILD_log10</th><th scope=col>DeltaPHI</th><th scope=col>PHIND</th><th scope=col>PE</th><th scope=col>isMarine</th><th scope=col>RELPOS</th><th scope=col>Facies</th><th scope=col>FmThickness</th><th scope=col>FmRelDepth</th></tr></thead>\n",
       "<tbody>\n",
       "\t<tr><td>A1 SH  </td><td>STUART </td><td>2808   </td><td>0.331  </td><td>-0.378 </td><td>0.00234</td><td>-0.151 </td><td>-0.261 </td><td>FALSE  </td><td>1.000  </td><td>NA     </td><td>21.5   </td><td>0.000  </td></tr>\n",
       "\t<tr><td>A1 SH  </td><td>STUART </td><td>2808   </td><td>0.714  </td><td>-0.584 </td><td>0.79234</td><td> 0.120 </td><td>-0.688 </td><td>FALSE  </td><td>0.978  </td><td>NA     </td><td>21.5   </td><td>0.022  </td></tr>\n",
       "\t<tr><td>A1 SH  </td><td>STUART </td><td>2809   </td><td>0.912  </td><td>-0.672 </td><td>1.50828</td><td> 0.463 </td><td>-1.160 </td><td>FALSE  </td><td>0.956  </td><td>NA     </td><td>21.5   </td><td>0.044  </td></tr>\n",
       "</tbody>\n",
       "</table>\n"
      ],
      "text/latex": [
       "\\begin{tabular}{r|lllllllllllll}\n",
       " Formation & Well.Name & Depth & GR & ILD\\_log10 & DeltaPHI & PHIND & PE & isMarine & RELPOS & Facies & FmThickness & FmRelDepth\\\\\n",
       "\\hline\n",
       "\t A1 SH   & STUART  & 2808    & 0.331   & -0.378  & 0.00234 & -0.151  & -0.261  & FALSE   & 1.000   & NA      & 21.5    & 0.000  \\\\\n",
       "\t A1 SH   & STUART  & 2808    & 0.714   & -0.584  & 0.79234 &  0.120  & -0.688  & FALSE   & 0.978   & NA      & 21.5    & 0.022  \\\\\n",
       "\t A1 SH   & STUART  & 2809    & 0.912   & -0.672  & 1.50828 &  0.463  & -1.160  & FALSE   & 0.956   & NA      & 21.5    & 0.044  \\\\\n",
       "\\end{tabular}\n"
      ],
      "text/plain": [
       "  Formation Well.Name Depth GR    ILD_log10 DeltaPHI PHIND  PE     isMarine\n",
       "1 A1 SH     STUART    2808  0.331 -0.378    0.00234  -0.151 -0.261 FALSE   \n",
       "2 A1 SH     STUART    2808  0.714 -0.584    0.79234   0.120 -0.688 FALSE   \n",
       "3 A1 SH     STUART    2809  0.912 -0.672    1.50828   0.463 -1.160 FALSE   \n",
       "  RELPOS Facies FmThickness FmRelDepth\n",
       "1 1.000  NA     21.5        0.000     \n",
       "2 0.978  NA     21.5        0.022     \n",
       "3 0.956  NA     21.5        0.044     "
      ]
     },
     "metadata": {},
     "output_type": "display_data"
    }
   ],
   "source": [
    "source(\"loadData.R\")\n",
    "\n",
    "# reload the training data\n",
    "df_train <- loadData()\n",
    "df_train <- cleanData(df_train)\n",
    "df_train <- df_train[df_train$Well.Name != \"Recruit F9\",]\n",
    "trainWells <- unique(df_train$Well.Name)\n",
    "df_train <- mutate(group_by(df_train, Well.Name),\n",
    "                   GR=scale(GR),\n",
    "                   ILD_log10=scale(ILD_log10),\n",
    "                   DeltaPHI=scale(DeltaPHI),\n",
    "                   PHIND=scale(PHIND),\n",
    "                   PE=scale(PE))\n",
    "df_train <- mutate(group_by(df_train, Formation, Well.Name), FmThickness=max(Depth)-min(Depth)+.5)\n",
    "df_train$FmRelDepth <- 1 - df_train$RELPOS\n",
    "\n",
    "# load the hold-out test set\n",
    "testName <- \"../validation_data_nofacies.csv\"\n",
    "df_test <- read.csv(testName, colClasses=c(rep(\"factor\",2), rep(\"numeric\",6), \"factor\", \"numeric\"))\n",
    "df_test <- cleanData(df_test)\n",
    "df_test$Facies <- NA\n",
    "testWells <- unique(df_test$Well.Name)\n",
    "df_test <- mutate(group_by(df_test, Well.Name),\n",
    "                  GR=scale(GR),\n",
    "                  ILD_log10=scale(ILD_log10),\n",
    "                  DeltaPHI=scale(DeltaPHI),\n",
    "                  PHIND=scale(PHIND),\n",
    "                  PE=scale(PE))\n",
    "df_test <- mutate(group_by(df_test, Formation, Well.Name), FmThickness=max(Depth)-min(Depth)+.5)\n",
    "df_test$FmRelDepth <- 1 - df_test$RELPOS\n",
    "\n",
    "\"Train data:\"\n",
    "format(head(df_train,3), digits=3)\n",
    "\n",
    "\"Test data:\"\n",
    "format(head(df_test,3), digits=3)"
   ]
  },
  {
   "cell_type": "markdown",
   "metadata": {
    "collapsed": false
   },
   "source": [
    "Now I'll apply my algorithm to the hold-out data and store them into a file for contest submission! I'll also be sure to output the predictions as integers (as they were originally given to us). Therefore, the **Predicted** feature and **PredictedAsNum** are really the same (FSiS = 3)."
   ]
  },
  {
   "cell_type": "code",
   "execution_count": 14,
   "metadata": {
    "collapsed": false
   },
   "outputs": [
    {
     "data": {
      "text/html": [
       "'Hold-out set and predictions:'"
      ],
      "text/latex": [
       "'Hold-out set and predictions:'"
      ],
      "text/markdown": [
       "'Hold-out set and predictions:'"
      ],
      "text/plain": [
       "[1] \"Hold-out set and predictions:\""
      ]
     },
     "metadata": {},
     "output_type": "display_data"
    },
    {
     "data": {
      "text/html": [
       "<table>\n",
       "<thead><tr><th scope=col>Formation</th><th scope=col>Well.Name</th><th scope=col>Depth</th><th scope=col>Predicted</th><th scope=col>PredictedAsNum</th></tr></thead>\n",
       "<tbody>\n",
       "\t<tr><td>A1 SH </td><td>STUART</td><td>2808  </td><td>FSiS  </td><td>3     </td></tr>\n",
       "\t<tr><td>A1 SH </td><td>STUART</td><td>2808  </td><td>FSiS  </td><td>3     </td></tr>\n",
       "\t<tr><td>A1 SH </td><td>STUART</td><td>2809  </td><td>FSiS  </td><td>3     </td></tr>\n",
       "</tbody>\n",
       "</table>\n"
      ],
      "text/latex": [
       "\\begin{tabular}{r|lllll}\n",
       " Formation & Well.Name & Depth & Predicted & PredictedAsNum\\\\\n",
       "\\hline\n",
       "\t A1 SH  & STUART & 2808   & FSiS   & 3     \\\\\n",
       "\t A1 SH  & STUART & 2808   & FSiS   & 3     \\\\\n",
       "\t A1 SH  & STUART & 2809   & FSiS   & 3     \\\\\n",
       "\\end{tabular}\n"
      ],
      "text/plain": [
       "  Formation Well.Name Depth Predicted PredictedAsNum\n",
       "1 A1 SH     STUART    2808  FSiS      3             \n",
       "2 A1 SH     STUART    2808  FSiS      3             \n",
       "3 A1 SH     STUART    2809  FSiS      3             "
      ]
     },
     "metadata": {},
     "output_type": "display_data"
    }
   ],
   "source": [
    "source(\"voting.R\")\n",
    "source(\"sequencing.R\")\n",
    "\n",
    "# predict facies for test set\n",
    "testPrime <- getOutAndVote(df_train, df_test)\n",
    "votes <- tallyVotes(testPrime, unique(df_train$Well.Name), p=1.75)\n",
    "testPrime <- electClass(testPrime, votes)\n",
    "testFinal <- subset(testPrime, select=c(Formation, Well.Name, Depth, Predicted))\n",
    "testFinal$PredictedAsNum <- match(testFinal$Predicted, c(\"SS\", \"CSiS\", \"FSiS\", \"SiSh\", \"MS\", \"WS\", \"D\", \"PS\", \"BS\"))\n",
    "\n",
    "# save predictions to *.csv file\n",
    "write.csv(testFinal, \"jpoirier009_submission001.csv\", row.names=F)\n",
    "\n",
    "# output first few rows from predictions\n",
    "\"Hold-out set and predictions:\"\n",
    "format(head(testFinal,3), digits=3)"
   ]
  }
 ],
 "metadata": {
  "kernelspec": {
   "display_name": "R 3.2",
   "language": "R",
   "name": "ir32"
  },
  "language_info": {
   "codemirror_mode": "r",
   "file_extension": ".r",
   "mimetype": "text/x-r-source",
   "name": "R",
   "pygments_lexer": "r",
   "version": "3.2.4"
  }
 },
 "nbformat": 4,
 "nbformat_minor": 0
}
