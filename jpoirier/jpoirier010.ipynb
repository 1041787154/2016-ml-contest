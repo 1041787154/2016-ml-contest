{
 "cells": [
  {
   "cell_type": "code",
   "execution_count": 1,
   "metadata": {
    "collapsed": false
   },
   "outputs": [
    {
     "data": {
      "text/html": [
       "'Raw data:'"
      ],
      "text/latex": [
       "'Raw data:'"
      ],
      "text/markdown": [
       "'Raw data:'"
      ],
      "text/plain": [
       "[1] \"Raw data:\""
      ]
     },
     "metadata": {},
     "output_type": "display_data"
    },
    {
     "data": {
      "text/html": [
       "<table>\n",
       "<thead><tr><th scope=col>Facies</th><th scope=col>Formation</th><th scope=col>Well.Name</th><th scope=col>Depth</th><th scope=col>GR</th><th scope=col>ILD_log10</th><th scope=col>DeltaPHI</th><th scope=col>PHIND</th><th scope=col>PE</th><th scope=col>NM_M</th><th scope=col>RELPOS</th></tr></thead>\n",
       "<tbody>\n",
       "\t<tr><td>3        </td><td>A1 SH    </td><td>SHRIMPLIN</td><td>2793     </td><td>77.5     </td><td>0.664    </td><td> 9.9     </td><td>11.9     </td><td>4.6      </td><td>1        </td><td>1.000    </td></tr>\n",
       "\t<tr><td>3        </td><td>A1 SH    </td><td>SHRIMPLIN</td><td>2794     </td><td>78.3     </td><td>0.661    </td><td>14.2     </td><td>12.6     </td><td>4.1      </td><td>1        </td><td>0.979    </td></tr>\n",
       "\t<tr><td>3        </td><td>A1 SH    </td><td>SHRIMPLIN</td><td>2794     </td><td>79.0     </td><td>0.658    </td><td>14.8     </td><td>13.1     </td><td>3.6      </td><td>1        </td><td>0.957    </td></tr>\n",
       "</tbody>\n",
       "</table>\n"
      ],
      "text/latex": [
       "\\begin{tabular}{r|lllllllllll}\n",
       " Facies & Formation & Well.Name & Depth & GR & ILD\\_log10 & DeltaPHI & PHIND & PE & NM\\_M & RELPOS\\\\\n",
       "\\hline\n",
       "\t 3         & A1 SH     & SHRIMPLIN & 2793      & 77.5      & 0.664     &  9.9      & 11.9      & 4.6       & 1         & 1.000    \\\\\n",
       "\t 3         & A1 SH     & SHRIMPLIN & 2794      & 78.3      & 0.661     & 14.2      & 12.6      & 4.1       & 1         & 0.979    \\\\\n",
       "\t 3         & A1 SH     & SHRIMPLIN & 2794      & 79.0      & 0.658     & 14.8      & 13.1      & 3.6       & 1         & 0.957    \\\\\n",
       "\\end{tabular}\n"
      ],
      "text/plain": [
       "  Facies Formation Well.Name Depth GR   ILD_log10 DeltaPHI PHIND PE  NM_M\n",
       "1 3      A1 SH     SHRIMPLIN 2793  77.5 0.664      9.9     11.9  4.6 1   \n",
       "2 3      A1 SH     SHRIMPLIN 2794  78.3 0.661     14.2     12.6  4.1 1   \n",
       "3 3      A1 SH     SHRIMPLIN 2794  79.0 0.658     14.8     13.1  3.6 1   \n",
       "  RELPOS\n",
       "1 1.000 \n",
       "2 0.979 \n",
       "3 0.957 "
      ]
     },
     "metadata": {},
     "output_type": "display_data"
    },
    {
     "data": {
      "text/html": [
       "'Cleaned data:'"
      ],
      "text/latex": [
       "'Cleaned data:'"
      ],
      "text/markdown": [
       "'Cleaned data:'"
      ],
      "text/plain": [
       "[1] \"Cleaned data:\""
      ]
     },
     "metadata": {},
     "output_type": "display_data"
    },
    {
     "data": {
      "text/html": [
       "<table>\n",
       "<thead><tr><th scope=col>Facies</th><th scope=col>Formation</th><th scope=col>Well.Name</th><th scope=col>Depth</th><th scope=col>GR</th><th scope=col>ILD_log10</th><th scope=col>DeltaPHI</th><th scope=col>PHIND</th><th scope=col>PE</th><th scope=col>isMarine</th><th scope=col>RELPOS</th></tr></thead>\n",
       "<tbody>\n",
       "\t<tr><td>FSiS     </td><td>A1 SH    </td><td>SHRIMPLIN</td><td>2793     </td><td>77.5     </td><td>0.664    </td><td> 9.9     </td><td>11.9     </td><td>4.6      </td><td>FALSE    </td><td>1.000    </td></tr>\n",
       "\t<tr><td>FSiS     </td><td>A1 SH    </td><td>SHRIMPLIN</td><td>2794     </td><td>78.3     </td><td>0.661    </td><td>14.2     </td><td>12.6     </td><td>4.1      </td><td>FALSE    </td><td>0.979    </td></tr>\n",
       "\t<tr><td>FSiS     </td><td>A1 SH    </td><td>SHRIMPLIN</td><td>2794     </td><td>79.0     </td><td>0.658    </td><td>14.8     </td><td>13.1     </td><td>3.6      </td><td>FALSE    </td><td>0.957    </td></tr>\n",
       "</tbody>\n",
       "</table>\n"
      ],
      "text/latex": [
       "\\begin{tabular}{r|lllllllllll}\n",
       " Facies & Formation & Well.Name & Depth & GR & ILD\\_log10 & DeltaPHI & PHIND & PE & isMarine & RELPOS\\\\\n",
       "\\hline\n",
       "\t FSiS      & A1 SH     & SHRIMPLIN & 2793      & 77.5      & 0.664     &  9.9      & 11.9      & 4.6       & FALSE     & 1.000    \\\\\n",
       "\t FSiS      & A1 SH     & SHRIMPLIN & 2794      & 78.3      & 0.661     & 14.2      & 12.6      & 4.1       & FALSE     & 0.979    \\\\\n",
       "\t FSiS      & A1 SH     & SHRIMPLIN & 2794      & 79.0      & 0.658     & 14.8      & 13.1      & 3.6       & FALSE     & 0.957    \\\\\n",
       "\\end{tabular}\n"
      ],
      "text/plain": [
       "  Facies Formation Well.Name Depth GR   ILD_log10 DeltaPHI PHIND PE  isMarine\n",
       "1 FSiS   A1 SH     SHRIMPLIN 2793  77.5 0.664      9.9     11.9  4.6 FALSE   \n",
       "2 FSiS   A1 SH     SHRIMPLIN 2794  78.3 0.661     14.2     12.6  4.1 FALSE   \n",
       "3 FSiS   A1 SH     SHRIMPLIN 2794  79.0 0.658     14.8     13.1  3.6 FALSE   \n",
       "  RELPOS\n",
       "1 1.000 \n",
       "2 0.979 \n",
       "3 0.957 "
      ]
     },
     "metadata": {},
     "output_type": "display_data"
    },
    {
     "data": {
      "text/html": [
       "'Centered and scaled data:'"
      ],
      "text/latex": [
       "'Centered and scaled data:'"
      ],
      "text/markdown": [
       "'Centered and scaled data:'"
      ],
      "text/plain": [
       "[1] \"Centered and scaled data:\""
      ]
     },
     "metadata": {},
     "output_type": "display_data"
    },
    {
     "data": {
      "text/html": [
       "<table>\n",
       "<thead><tr><th scope=col>Facies</th><th scope=col>Formation</th><th scope=col>Well.Name</th><th scope=col>Depth</th><th scope=col>GR</th><th scope=col>ILD_log10</th><th scope=col>DeltaPHI</th><th scope=col>PHIND</th><th scope=col>PE</th><th scope=col>isMarine</th><th scope=col>RELPOS</th></tr></thead>\n",
       "<tbody>\n",
       "\t<tr><td>FSiS     </td><td>A1 SH    </td><td>SHRIMPLIN</td><td>2793     </td><td>0.216    </td><td> 0.01855 </td><td>0.512    </td><td>-0.0487  </td><td> 0.421   </td><td>FALSE    </td><td>1.000    </td></tr>\n",
       "\t<tr><td>FSiS     </td><td>A1 SH    </td><td>SHRIMPLIN</td><td>2794     </td><td>0.237    </td><td> 0.00567 </td><td>1.517    </td><td> 0.0736  </td><td>-0.133   </td><td>FALSE    </td><td>0.979    </td></tr>\n",
       "\t<tr><td>FSiS     </td><td>A1 SH    </td><td>SHRIMPLIN</td><td>2794     </td><td>0.258    </td><td>-0.00721 </td><td>1.657    </td><td> 0.1648  </td><td>-0.687   </td><td>FALSE    </td><td>0.957    </td></tr>\n",
       "</tbody>\n",
       "</table>\n"
      ],
      "text/latex": [
       "\\begin{tabular}{r|lllllllllll}\n",
       " Facies & Formation & Well.Name & Depth & GR & ILD\\_log10 & DeltaPHI & PHIND & PE & isMarine & RELPOS\\\\\n",
       "\\hline\n",
       "\t FSiS      & A1 SH     & SHRIMPLIN & 2793      & 0.216     &  0.01855  & 0.512     & -0.0487   &  0.421    & FALSE     & 1.000    \\\\\n",
       "\t FSiS      & A1 SH     & SHRIMPLIN & 2794      & 0.237     &  0.00567  & 1.517     &  0.0736   & -0.133    & FALSE     & 0.979    \\\\\n",
       "\t FSiS      & A1 SH     & SHRIMPLIN & 2794      & 0.258     & -0.00721  & 1.657     &  0.1648   & -0.687    & FALSE     & 0.957    \\\\\n",
       "\\end{tabular}\n"
      ],
      "text/plain": [
       "  Facies Formation Well.Name Depth GR    ILD_log10 DeltaPHI PHIND   PE    \n",
       "1 FSiS   A1 SH     SHRIMPLIN 2793  0.216  0.01855  0.512    -0.0487  0.421\n",
       "2 FSiS   A1 SH     SHRIMPLIN 2794  0.237  0.00567  1.517     0.0736 -0.133\n",
       "3 FSiS   A1 SH     SHRIMPLIN 2794  0.258 -0.00721  1.657     0.1648 -0.687\n",
       "  isMarine RELPOS\n",
       "1 FALSE    1.000 \n",
       "2 FALSE    0.979 \n",
       "3 FALSE    0.957 "
      ]
     },
     "metadata": {},
     "output_type": "display_data"
    }
   ],
   "source": [
    "options(warn=-1)\n",
    "\n",
    "suppressMessages(library(dplyr))\n",
    "source(\"loadData.R\")\n",
    "\n",
    "# load data\n",
    "\"Raw data:\"\n",
    "raw <- loadData()\n",
    "format(head(raw,3), digits=3)\n",
    "\n",
    "# clean data\n",
    "\"Cleaned data:\"\n",
    "clean <- cleanData(raw)\n",
    "format(head(clean,3), digits=3)\n",
    "\n",
    "# center and scale select features\n",
    "\"Centered and scaled data:\"\n",
    "wells <- unique(clean$Well.Name)\n",
    "cs <- mutate(group_by(clean, Well.Name), \n",
    "             GR=as.numeric(scale(GR)), \n",
    "             ILD_log10=as.numeric(scale(ILD_log10)), \n",
    "             DeltaPHI=as.numeric(scale(DeltaPHI)), \n",
    "             PHIND=as.numeric(scale(PHIND)), \n",
    "             PE=as.numeric(scale(PE)))\n",
    "\n",
    "format(head(cs,3), digits=3)"
   ]
  },
  {
   "cell_type": "code",
   "execution_count": 29,
   "metadata": {
    "collapsed": false
   },
   "outputs": [
    {
     "data": {
      "text/plain": [
       "\n",
       "  SS CSiS FSiS SiSh   MS   WS    D   PS   BS \n",
       "   0    6   16  266  285  579  140  674  185 "
      ]
     },
     "metadata": {},
     "output_type": "display_data"
    },
    {
     "data": {
      "text/plain": [
       "\n",
       "  SS CSiS FSiS SiSh   MS   WS    D   PS   BS \n",
       " 268  934  764    5   11    3    1   12    0 "
      ]
     },
     "metadata": {},
     "output_type": "display_data"
    }
   ],
   "source": [
    "table(cs$Facies[cs$isMarine])\n",
    "table(cs$Facies[!cs$isMarine])"
   ]
  },
  {
   "cell_type": "code",
   "execution_count": 54,
   "metadata": {
    "collapsed": false
   },
   "outputs": [
    {
     "name": "stdout",
     "output_type": "stream",
     "text": [
      "[1] \"A1 SH\"\n",
      "\n",
      "    ALEXANDER D CHURCHMAN BIBLE  CROSS H CATTLE        KIMZEY A        LUKE G U \n",
      "              0              19               0               0              53 \n",
      "          NEWBY           NOLAN      Recruit F9         SHANKLE       SHRIMPLIN \n",
      "             43              44               0              63              43 \n",
      "Source: local data frame [265 x 10]\n",
      "\n",
      "   Facies Formation  Depth        GR    ILD_log10  DeltaPHI       PHIND\n",
      "   (fctr)    (fctr)  (dbl)     (dbl)        (dbl)     (dbl)       (dbl)\n",
      "1    FSiS     A1 SH 2793.0 0.2155819  0.018551798 0.5120999 -0.04865478\n",
      "2    FSiS     A1 SH 2793.5 0.2372980  0.005670378 1.5169013  0.07359111\n",
      "3    FSiS     A1 SH 2794.0 0.2584779 -0.007211043 1.6571062  0.16480534\n",
      "4    FSiS     A1 SH 2794.5 0.4474882 -0.020092464 1.4467989  0.17702993\n",
      "5    FSiS     A1 SH 2795.0 0.1386372 -0.054442918 1.3533290  0.21182299\n",
      "6    FSiS     A1 SH 2795.5 0.1222831 -0.101674794 1.4701664  0.22780899\n",
      "7    FSiS     A1 SH 2796.0 0.1155806 -0.127437635 1.8440460  0.33030747\n",
      "8    FSiS     A1 SH 2796.5 0.1673239 -0.148906669 2.0543532  0.32842676\n",
      "9    FSiS     A1 SH 2797.0 0.1174573 -0.153200476 1.9842508  0.33971100\n",
      "10   FSiS     A1 SH 2797.5 0.2005683 -0.191844738 2.1478231  0.38484794\n",
      "..    ...       ...    ...       ...          ...       ...         ...\n",
      "Variables not shown: PE (dbl), isMarine (lgl), RELPOS (dbl)\n",
      "Random Forest \n",
      "\n",
      "265 samples\n",
      "  9 predictor\n",
      "  4 classes: 'SS', 'CSiS', 'FSiS', 'MS' \n",
      "\n",
      "No pre-processing\n",
      "Resampling: Cross-Validated (10 fold) \n",
      "Summary of sample sizes: 222, 202, 212, 221, 222, 246, ... \n",
      "Resampling results across tuning parameters:\n",
      "\n",
      "  mtry  F1       \n",
      "   2    0.5389086\n",
      "  11    0.5839428\n",
      "  21    0.5823181\n",
      "\n",
      "F1 was used to select the optimal model using  the largest value.\n",
      "The final value used for the model was mtry = 11. \n",
      "         F1        Resample\n",
      "1 0.3174603         SHANKLE\n",
      "2 0.7027027       SHRIMPLIN\n",
      "3 0.8181818           NOLAN\n",
      "4 0.6800000        LUKE G U\n",
      "5 0.4736842 CHURCHMAN BIBLE\n",
      "6 0.5116279           NEWBY\n",
      "[1] \"-----------------------------------------------------------------------------\"\n",
      "[1] \"A1 LM\"\n",
      "\n",
      "    ALEXANDER D CHURCHMAN BIBLE  CROSS H CATTLE        KIMZEY A        LUKE G U \n",
      "              0              94               0               0              67 \n",
      "          NEWBY           NOLAN      Recruit F9         SHANKLE       SHRIMPLIN \n",
      "             82              61               0              40              51 \n",
      "Source: local data frame [395 x 10]\n",
      "\n",
      "   Facies Formation  Depth         GR  ILD_log10    DeltaPHI       PHIND\n",
      "   (fctr)    (fctr)  (dbl)      (dbl)      (dbl)       (dbl)       (dbl)\n",
      "1      PS     A1 LM 2814.5 -0.3321461 -0.1360252  0.90934700 -0.01574243\n",
      "2      PS     A1 LM 2815.0 -0.7002472  0.1817165 -0.09545440 -1.02850258\n",
      "3      PS     A1 LM 2815.5 -0.8940834  0.4393449 -0.46933399 -1.42533153\n",
      "4      PS     A1 LM 2816.0 -0.6275922  0.7012671 -0.60953883 -1.42062976\n",
      "5      WS     A1 LM 2816.5 -0.2442094  1.0962973 -0.72637620 -1.34728223\n",
      "6      WS     A1 LM 2817.0  0.1557956  1.4569771 -0.77311115 -1.29368211\n",
      "7      WS     A1 LM 2817.5  0.4767111  1.6544922 -0.70300873 -1.28898035\n",
      "8      WS     A1 LM 2818.0  0.4678638  1.7360745 -0.58617136 -1.20152752\n",
      "9      WS     A1 LM 2818.5  0.4984272  1.6802551 -0.28239419 -1.08962552\n",
      "10     WS     A1 LM 2819.0  0.1624981  1.5385594  0.02138298 -0.93258657\n",
      "..    ...       ...    ...        ...        ...         ...         ...\n",
      "Variables not shown: PE (dbl), isMarine (lgl), RELPOS (dbl)\n",
      "Random Forest \n",
      "\n",
      "395 samples\n",
      "  9 predictor\n",
      "  6 classes: 'FSiS', 'SiSh', 'MS', 'WS', 'D', 'PS' \n",
      "\n",
      "No pre-processing\n",
      "Resampling: Cross-Validated (10 fold) \n",
      "Summary of sample sizes: 344, 355, 328, 334, 313, 301, ... \n",
      "Resampling results across tuning parameters:\n",
      "\n",
      "  mtry  F1       \n",
      "   2    0.4552256\n",
      "  11    0.5213630\n",
      "  21    0.4873485\n",
      "\n",
      "F1 was used to select the optimal model using  the largest value.\n",
      "The final value used for the model was mtry = 11. \n",
      "         F1        Resample\n",
      "1 0.7750000         SHANKLE\n",
      "2 0.7000000       SHRIMPLIN\n",
      "3 0.4166667           NOLAN\n",
      "4 0.7121212        LUKE G U\n",
      "5 0.0000000 CHURCHMAN BIBLE\n",
      "6 0.5243902           NEWBY\n",
      "[1] \"-----------------------------------------------------------------------------\"\n",
      "[1] \"B1 SH\"\n",
      "\n",
      "    ALEXANDER D CHURCHMAN BIBLE  CROSS H CATTLE        KIMZEY A        LUKE G U \n",
      "              0              22               0               0              39 \n",
      "          NEWBY           NOLAN      Recruit F9         SHANKLE       SHRIMPLIN \n",
      "             32              32               0              49              38 \n",
      "Source: local data frame [212 x 10]\n",
      "\n",
      "   Facies Formation  Depth          GR   ILD_log10   DeltaPHI       PHIND\n",
      "   (fctr)    (fctr)  (dbl)       (dbl)       (dbl)      (dbl)       (dbl)\n",
      "1    FSiS     B1 SH 2840.0  1.02846063  0.22894833 -1.3806655  1.38632385\n",
      "2    FSiS     B1 SH 2840.5  1.11157158  0.11301555 -0.3992316  2.72256542\n",
      "3    FSiS     B1 SH 2841.0  0.98985425  0.02284561  0.2083228  2.77710589\n",
      "4    FSiS     B1 SH 2841.5  0.49440572 -0.08449957  0.4419975  1.80478092\n",
      "5    FSiS     B1 SH 2842.0  0.30968493 -0.25195803  0.3017927  0.71773289\n",
      "6    CSiS     B1 SH 2842.5 -0.06619106 -0.39365366  0.8158771  0.07359111\n",
      "7    CSiS     B1 SH 2843.0 -0.21257358 -0.42371031  1.0028169 -0.09097066\n",
      "8    CSiS     B1 SH 2843.5 -0.29890173 -0.39365366  1.0962868  0.02093134\n",
      "9    CSiS     B1 SH 2844.0 -0.48523113 -0.32065894  1.1663892 -0.08250749\n",
      "10   CSiS     B1 SH 2844.5 -0.03991728 -0.32924656  1.2832266 -0.08344784\n",
      "..    ...       ...    ...         ...         ...        ...         ...\n",
      "Variables not shown: PE (dbl), isMarine (lgl), RELPOS (dbl)\n",
      "Random Forest \n",
      "\n",
      "212 samples\n",
      "  9 predictor\n",
      "  3 classes: 'SS', 'CSiS', 'FSiS' \n",
      "\n",
      "No pre-processing\n",
      "Resampling: Cross-Validated (10 fold) \n",
      "Summary of sample sizes: 174, 163, 173, 180, 180, 190, ... \n",
      "Resampling results across tuning parameters:\n",
      "\n",
      "  mtry  F1       \n",
      "   2    0.5854924\n",
      "  11    0.5428910\n",
      "  21    0.5476950\n",
      "\n",
      "F1 was used to select the optimal model using  the largest value.\n",
      "The final value used for the model was mtry = 2. \n",
      "         F1        Resample\n",
      "1 0.0000000         SHANKLE\n",
      "2 0.6842105       SHRIMPLIN\n",
      "3 0.7179487        LUKE G U\n",
      "4 0.9545455 CHURCHMAN BIBLE\n",
      "5 0.5000000           NEWBY\n",
      "6 0.6562500           NOLAN\n",
      "[1] \"-----------------------------------------------------------------------------\"\n",
      "[1] \"B1 LM\"\n",
      "\n",
      "    ALEXANDER D CHURCHMAN BIBLE  CROSS H CATTLE        KIMZEY A        LUKE G U \n",
      "              0              31               0               0              23 \n",
      "          NEWBY           NOLAN      Recruit F9         SHANKLE       SHRIMPLIN \n",
      "             39              20               0              10              18 \n",
      "Source: local data frame [141 x 10]\n",
      "\n",
      "   Facies Formation  Depth         GR   ILD_log10    DeltaPHI      PHIND\n",
      "   (fctr)    (fctr)  (dbl)      (dbl)       (dbl)       (dbl)      (dbl)\n",
      "1      MS     B1 LM 2859.0  0.4190697 -0.13173144 -0.30576167  2.7263268\n",
      "2      MS     B1 LM 2859.5 -0.6227664  0.03572703 -0.79647863  0.8343367\n",
      "3      MS     B1 LM 2860.0 -0.9351027  0.18601027 -0.65627378 -0.7435756\n",
      "4      MS     B1 LM 2860.5 -0.9174081  0.36205635  0.04475045 -1.4037034\n",
      "5      PS     B1 LM 2861.0 -1.1141934  0.61539095  0.02138298 -1.4920966\n",
      "6      PS     B1 LM 2861.5 -1.2313530  1.08770971 -0.39923156 -1.4958580\n",
      "7      PS     B1 LM 2862.0 -1.3133916  1.59437892 -0.63290631 -1.5776687\n",
      "8      PS     B1 LM 2862.5 -1.3099063  2.09246051 -0.84321358 -1.6980339\n",
      "9      PS     B1 LM 2863.0 -1.3249199  2.71506251 -0.70300873 -1.8767010\n",
      "10     PS     B1 LM 2863.5 -1.2930160  3.20026268 -0.58617136 -1.9904837\n",
      "..    ...       ...    ...        ...         ...         ...        ...\n",
      "Variables not shown: PE (dbl), isMarine (lgl), RELPOS (dbl)\n",
      "Random Forest \n",
      "\n",
      "141 samples\n",
      "  9 predictor\n",
      "  5 classes: 'SiSh', 'MS', 'WS', 'D', 'PS' \n",
      "\n",
      "No pre-processing\n",
      "Resampling: Cross-Validated (10 fold) \n",
      "Summary of sample sizes: 123, 131, 118, 121, 102, 110, ... \n",
      "Resampling results across tuning parameters:\n",
      "\n",
      "  mtry  F1       \n",
      "   2    0.4281388\n",
      "  11    0.3962963\n",
      "  21    0.3754902\n",
      "\n",
      "F1 was used to select the optimal model using  the largest value.\n",
      "The final value used for the model was mtry = 2. \n",
      "         F1        Resample\n",
      "1 0.5000000         SHANKLE\n",
      "2 0.3888889       SHRIMPLIN\n",
      "3 0.4347826        LUKE G U\n",
      "4 0.6451613 CHURCHMAN BIBLE\n",
      "5 0.0000000           NEWBY\n",
      "6 0.6000000           NOLAN\n",
      "[1] \"-----------------------------------------------------------------------------\"\n",
      "[1] \"B2 SH\"\n",
      "\n",
      "    ALEXANDER D CHURCHMAN BIBLE  CROSS H CATTLE        KIMZEY A        LUKE G U \n",
      "              0              13               0               0              21 \n",
      "          NEWBY           NOLAN      Recruit F9         SHANKLE       SHRIMPLIN \n",
      "             10              24               0              30              28 \n",
      "Source: local data frame [126 x 10]\n",
      "\n",
      "   Facies Formation  Depth          GR    ILD_log10   DeltaPHI      PHIND\n",
      "   (fctr)    (fctr)  (dbl)       (dbl)        (dbl)      (dbl)      (dbl)\n",
      "1    FSiS     B2 SH 2868.0 -0.04983697  1.315281470 -0.8198461 -1.3247138\n",
      "2    FSiS     B2 SH 2868.5  0.12281933  0.868725557 -0.3758641 -0.8150425\n",
      "3    FSiS     B2 SH 2869.0  0.36679019  0.628272372  0.3952626 -0.1831253\n",
      "4    FSiS     B2 SH 2869.5  0.74722388  0.443638677  0.6523048  0.3378303\n",
      "5    CSiS     B2 SH 2870.0  0.69038671  0.233242141  0.4419975  0.1478790\n",
      "6    CSiS     B2 SH 2870.5  0.28073014  0.005670378  0.2083228 -0.3288800\n",
      "7    CSiS     B2 SH 2871.0  0.18689519 -0.247664227  0.2784252 -0.6373157\n",
      "8    CSiS     B2 SH 2871.5  0.16812821 -0.423710308  0.8626121 -0.3514484\n",
      "9    CSiS     B2 SH 2872.0  0.40700517 -0.526761673  1.3299615  0.2955144\n",
      "10   FSiS     B2 SH 2872.5  0.91210529 -0.578287355  1.6103712  0.8437402\n",
      "..    ...       ...    ...         ...          ...        ...        ...\n",
      "Variables not shown: PE (dbl), isMarine (lgl), RELPOS (dbl)\n",
      "Random Forest \n",
      "\n",
      "126 samples\n",
      "  9 predictor\n",
      "  4 classes: 'SS', 'CSiS', 'FSiS', 'D' \n",
      "\n",
      "No pre-processing\n",
      "Resampling: Cross-Validated (10 fold) \n",
      "Summary of sample sizes: 98, 96, 105, 102, 116, 113, ... \n",
      "Resampling results across tuning parameters:\n",
      "\n",
      "  mtry  F1       \n",
      "   2    0.4674603\n",
      "  11    0.4809524\n",
      "  21    0.4809524\n",
      "\n",
      "F1 was used to select the optimal model using  the largest value.\n",
      "The final value used for the model was mtry = 11. \n",
      "         F1        Resample\n",
      "1 0.9333333         SHANKLE\n",
      "2 0.6428571       SHRIMPLIN\n",
      "3 0.0000000           NOLAN\n",
      "4 0.8095238        LUKE G U\n",
      "5 0.0000000 CHURCHMAN BIBLE\n",
      "6 0.5000000           NEWBY\n",
      "[1] \"-----------------------------------------------------------------------------\"\n",
      "[1] \"B2 LM\"\n",
      "\n",
      "    ALEXANDER D CHURCHMAN BIBLE  CROSS H CATTLE        KIMZEY A        LUKE G U \n",
      "              0              29               0               0              20 \n",
      "          NEWBY           NOLAN      Recruit F9         SHANKLE       SHRIMPLIN \n",
      "             26              21               0               7              16 \n",
      "Source: local data frame [119 x 10]\n",
      "\n",
      "   Facies Formation  Depth         GR   ILD_log10   DeltaPHI      PHIND\n",
      "   (fctr)    (fctr)  (dbl)      (dbl)       (dbl)      (dbl)      (dbl)\n",
      "1       D     B2 LM 2882.0 -0.5015852 -0.39794747 -1.4274004  0.7271364\n",
      "2       D     B2 LM 2882.5 -1.0348358 -0.25195803 -1.3572980 -1.2128118\n",
      "3       D     B2 LM 2883.0 -1.3956982 -0.01579866 -0.8198461 -1.7760832\n",
      "4      PS     B2 LM 2883.5 -1.3903362  0.37493777 -0.7030087 -1.7394094\n",
      "5      PS     B2 LM 2884.0 -1.3731778  0.83866891 -0.4927015 -1.6717040\n",
      "6      PS     B2 LM 2884.5 -1.4029369  1.38398238 -0.5394364 -1.5391142\n",
      "7      PS     B2 LM 2885.0 -1.4351089  1.92070824 -0.5160689 -1.4732895\n",
      "8      PS     B2 LM 2885.5 -1.3144640  2.19121807 -0.6329063 -1.4159280\n",
      "9      PS     B2 LM 2886.0 -1.1924785  2.20409949 -0.6095388 -1.3924192\n",
      "10     PS     B2 LM 2886.5 -1.0948902  2.10534193 -0.7497437 -1.4008824\n",
      "..    ...       ...    ...        ...         ...        ...        ...\n",
      "Variables not shown: PE (dbl), isMarine (lgl), RELPOS (dbl)\n"
     ]
    },
    {
     "ename": "ERROR",
     "evalue": "Error in {: task 1 failed - \"subscript out of bounds\"\n",
     "output_type": "error",
     "traceback": [
      "Error in {: task 1 failed - \"subscript out of bounds\"\nTraceback:\n",
      "1. train(Facies ~ ., data = subset(df_i, select = -c(Well.Name)), \n .     method = \"rf\", trControl = fitControl, metric = \"F1\")   # at line 28-29 of file <text>",
      "2. train.formula(Facies ~ ., data = subset(df_i, select = -c(Well.Name)), \n .     method = \"rf\", trControl = fitControl, metric = \"F1\")",
      "3. train(x, y, weights = w, ...)",
      "4. train.default(x, y, weights = w, ...)",
      "5. nominalTrainWorkflow(x = x, y = y, wts = weights, info = trainInfo, \n .     method = models, ppOpts = preProcess, ctrl = trControl, lev = classLevels, \n .     ...)",
      "6. foreach(iter = seq(along = resampleIndex), .combine = \"c\", .verbose = FALSE, \n .     .packages = pkgs, .errorhandling = \"stop\") %:% foreach(parm = 1:nrow(info$loop), \n .     .combine = \"c\", .verbose = FALSE, .packages = pkgs, .errorhandling = \"stop\") %op% \n .     {\n .         testing <- FALSE\n .         if (!(length(ctrl$seeds) == 1 && is.na(ctrl$seeds))) \n .             set.seed(ctrl$seeds[[iter]][parm])\n .         loadNamespace(\"caret\")\n .         if (ctrl$verboseIter) \n .             progress(printed[parm, , drop = FALSE], names(resampleIndex), \n .                 iter)\n .         if (names(resampleIndex)[iter] != \"AllData\") {\n .             modelIndex <- resampleIndex[[iter]]\n .             holdoutIndex <- ctrl$indexOut[[iter]]\n .         }\n .         else {\n .             modelIndex <- 1:nrow(x)\n .             holdoutIndex <- modelIndex\n .         }\n .         if (testing) \n .             cat(\"pre-model\\n\")\n .         if (!is.null(info$submodels[[parm]]) && nrow(info$submodels[[parm]]) > \n .             0) {\n .             submod <- info$submodels[[parm]]\n .         }\n .         else submod <- NULL\n .         mod <- try(createModel(x = x[modelIndex, , drop = FALSE], \n .             y = y[modelIndex], wts = wts[modelIndex], method = method, \n .             tuneValue = info$loop[parm, , drop = FALSE], obsLevels = lev, \n .             pp = ppp, classProbs = ctrl$classProbs, sampling = ctrl$sampling, \n .             ...), silent = TRUE)\n .         if (testing) \n .             print(mod)\n .         if (class(mod)[1] != \"try-error\") {\n .             predicted <- try(predictionFunction(method = method, \n .                 modelFit = mod$fit, newdata = x[holdoutIndex, \n .                   , drop = FALSE], preProc = mod$preProc, param = submod), \n .                 silent = TRUE)\n .             if (class(predicted)[1] == \"try-error\") {\n .                 wrn <- paste(colnames(printed[parm, , drop = FALSE]), \n .                   printed[parm, , drop = FALSE], sep = \"=\", collapse = \", \")\n .                 wrn <- paste(\"predictions failed for \", names(resampleIndex)[iter], \n .                   \": \", wrn, \" \", as.character(predicted), sep = \"\")\n .                 if (ctrl$verboseIter) \n .                   cat(wrn, \"\\n\")\n .                 warning(wrn)\n .                 rm(wrn)\n .                 nPred <- length(holdoutIndex)\n .                 if (!is.null(lev)) {\n .                   predicted <- rep(\"\", nPred)\n .                   predicted[seq(along = predicted)] <- NA\n .                 }\n .                 else {\n .                   predicted <- rep(NA, nPred)\n .                 }\n .                 if (!is.null(submod)) {\n .                   tmp <- predicted\n .                   predicted <- vector(mode = \"list\", length = nrow(info$submodels[[parm]]) + \n .                     1)\n .                   for (i in seq(along = predicted)) predicted[[i]] <- tmp\n .                   rm(tmp)\n .                 }\n .             }\n .         }\n .         else {\n .             wrn <- paste(colnames(printed[parm, , drop = FALSE]), \n .                 printed[parm, , drop = FALSE], sep = \"=\", collapse = \", \")\n .             wrn <- paste(\"model fit failed for \", names(resampleIndex)[iter], \n .                 \": \", wrn, \" \", as.character(mod), sep = \"\")\n .             if (ctrl$verboseIter) \n .                 cat(wrn, \"\\n\")\n .             warning(wrn)\n .             rm(wrn)\n .             nPred <- length(holdoutIndex)\n .             if (!is.null(lev)) {\n .                 predicted <- rep(\"\", nPred)\n .                 predicted[seq(along = predicted)] <- NA\n .             }\n .             else {\n .                 predicted <- rep(NA, nPred)\n .             }\n .             if (!is.null(submod)) {\n .                 tmp <- predicted\n .                 predicted <- vector(mode = \"list\", length = nrow(info$submodels[[parm]]) + \n .                   1)\n .                 for (i in seq(along = predicted)) predicted[[i]] <- tmp\n .                 rm(tmp)\n .             }\n .         }\n .         if (testing) \n .             print(head(predicted))\n .         if (ctrl$classProbs) {\n .             if (class(mod)[1] != \"try-error\") {\n .                 probValues <- probFunction(method = method, modelFit = mod$fit, \n .                   newdata = x[holdoutIndex, , drop = FALSE], \n .                   preProc = mod$preProc, param = submod)\n .             }\n .             else {\n .                 probValues <- as.data.frame(matrix(NA, nrow = nPred, \n .                   ncol = length(lev)))\n .                 colnames(probValues) <- lev\n .                 if (!is.null(submod)) {\n .                   tmp <- probValues\n .                   probValues <- vector(mode = \"list\", length = nrow(info$submodels[[parm]]) + \n .                     1)\n .                   for (i in seq(along = probValues)) probValues[[i]] <- tmp\n .                   rm(tmp)\n .                 }\n .             }\n .             if (testing) \n .                 print(head(probValues))\n .         }\n .         if (is.numeric(y)) {\n .             if (is.logical(ctrl$predictionBounds) && any(ctrl$predictionBounds)) {\n .                 if (is.list(predicted)) {\n .                   predicted <- lapply(predicted, trimPredictions, \n .                     mod_type = \"Regression\", bounds = ctrl$predictionBounds, \n .                     limits = ctrl$yLimits)\n .                 }\n .                 else {\n .                   predicted <- trimPredictions(mod_type = \"Regression\", \n .                     bounds = ctrl$predictionBounds, limits = ctrl$yLimit, \n .                     pred = predicted)\n .                 }\n .             }\n .             else {\n .                 if (is.numeric(ctrl$predictionBounds) && any(!is.na(ctrl$predictionBounds))) {\n .                   if (is.list(predicted)) {\n .                     predicted <- lapply(predicted, trimPredictions, \n .                       mod_type = \"Regression\", bounds = ctrl$predictionBounds, \n .                       limits = ctrl$yLimits)\n .                   }\n .                   else {\n .                     predicted <- trimPredictions(mod_type = \"Regression\", \n .                       bounds = ctrl$predictionBounds, limits = ctrl$yLimit, \n .                       pred = predicted)\n .                   }\n .                 }\n .             }\n .         }\n .         if (!is.null(submod)) {\n .             allParam <- expandParameters(info$loop[parm, , drop = FALSE], \n .                 info$submodels[[parm]])\n .             allParam <- allParam[complete.cases(allParam), , \n .                 drop = FALSE]\n .             predicted <- lapply(predicted, function(x, y, wts, \n .                 lv, rows) {\n .                 x <- outcome_conversion(x, lv = lev)\n .                 out <- data.frame(pred = x, obs = y, stringsAsFactors = FALSE)\n .                 if (!is.null(wts)) \n .                   out$weights <- wts\n .                 out$rowIndex <- rows\n .                 out\n .             }, y = y[holdoutIndex], wts = wts[holdoutIndex], \n .                 lv = lev, rows = holdoutIndex)\n .             if (testing) \n .                 print(head(predicted))\n .             if (ctrl$classProbs) {\n .                 for (k in seq(along = predicted)) predicted[[k]] <- cbind(predicted[[k]], \n .                   probValues[[k]])\n .             }\n .             if (keep_pred) {\n .                 tmpPred <- predicted\n .                 for (modIndex in seq(along = tmpPred)) {\n .                   tmpPred[[modIndex]]$rowIndex <- holdoutIndex\n .                   tmpPred[[modIndex]] <- merge(tmpPred[[modIndex]], \n .                     allParam[modIndex, , drop = FALSE], all = TRUE)\n .                 }\n .                 tmpPred <- rbind.fill(tmpPred)\n .                 tmpPred$Resample <- names(resampleIndex)[iter]\n .             }\n .             else tmpPred <- NULL\n .             thisResample <- lapply(predicted, ctrl$summaryFunction, \n .                 lev = lev, model = method)\n .             if (testing) \n .                 print(head(thisResample))\n .             if (length(lev) > 1 && length(lev) <= 50) {\n .                 cells <- lapply(predicted, function(x) flatTable(x$pred, \n .                   x$obs))\n .                 for (ind in seq(along = cells)) thisResample[[ind]] <- c(thisResample[[ind]], \n .                   cells[[ind]])\n .             }\n .             thisResample <- do.call(\"rbind\", thisResample)\n .             thisResample <- cbind(allParam, thisResample)\n .         }\n .         else {\n .             if (is.factor(y)) \n .                 predicted <- outcome_conversion(predicted, lv = lev)\n .             tmp <- data.frame(pred = predicted, obs = y[holdoutIndex], \n .                 stringsAsFactors = FALSE)\n .             names(tmp)[1] <- \"pred\"\n .             if (!is.null(wts)) \n .                 tmp$weights <- wts[holdoutIndex]\n .             if (ctrl$classProbs) \n .                 tmp <- cbind(tmp, probValues)\n .             tmp$rowIndex <- holdoutIndex\n .             if (keep_pred) {\n .                 tmpPred <- tmp\n .                 tmpPred$rowIndex <- holdoutIndex\n .                 tmpPred <- merge(tmpPred, info$loop[parm, , drop = FALSE], \n .                   all = TRUE)\n .                 tmpPred$Resample <- names(resampleIndex)[iter]\n .             }\n .             else tmpPred <- NULL\n .             thisResample <- ctrl$summaryFunction(tmp, lev = lev, \n .                 model = method)\n .             if (length(lev) > 1 && length(lev) <= 50) \n .                 thisResample <- c(thisResample, flatTable(tmp$pred, \n .                   tmp$obs))\n .             thisResample <- as.data.frame(t(thisResample))\n .             thisResample <- cbind(thisResample, info$loop[parm, \n .                 , drop = FALSE])\n .         }\n .         thisResample$Resample <- names(resampleIndex)[iter]\n .         if (ctrl$verboseIter) \n .             progress(printed[parm, , drop = FALSE], names(resampleIndex), \n .                 iter, FALSE)\n .         if (testing) \n .             print(thisResample)\n .         list(resamples = thisResample, pred = tmpPred)\n .     }",
      "7. e$fun(obj, substitute(ex), parent.frame(), e$data)"
     ]
    }
   ],
   "source": [
    "library(randomForest)\n",
    "library(caret)\n",
    "library(dplyr)\n",
    "source(\"accuracyMetrics.R\")\n",
    "\n",
    "df <- cs[complete.cases(cs) & cs$Well.Name != \"Recruit F9\",]\n",
    "formations <- unique(df$Formation)\n",
    "\n",
    "fits <- list()\n",
    "\n",
    "for (f in formations) {\n",
    "    df_i <- df[df$Formation == f,]\n",
    "    df_i$Facies <- droplevels(df_i$Facies)\n",
    "    \n",
    "    wells <- unique(df_i$Well.Name)\n",
    "    resamp_list <- list()\n",
    "    for (w in wells) {\n",
    "        if (sum(df_i$Well.Name == w) > 0) {\n",
    "            resamp_list[[w]] <- which(df_i$Well.Name != w)\n",
    "        }\n",
    "    }\n",
    "    \n",
    "    print(f)\n",
    "    print(table(df_i$Well.Name))\n",
    "    print(subset(df_i, select=-c(Well.Name)))\n",
    "    \n",
    "    fitControl <- trainControl(method=\"cv\", index=resamp_list, summaryFunction=myF1MetricCaret)\n",
    "    fits[[as.character(f)]] <- train(Facies ~ ., data=subset(df_i, select=-c(Well.Name)), method=\"rf\",\n",
    "                       trControl=fitControl, metric=\"F1\")\n",
    "    print(fits[[as.character(f)]])\n",
    "    print(fits[[as.character(f)]][[\"resample\"]])\n",
    "    print(\"-----------------------------------------------------------------------------\")\n",
    "}"
   ]
  }
 ],
 "metadata": {
  "kernelspec": {
   "display_name": "R 3.2",
   "language": "R",
   "name": "ir32"
  },
  "language_info": {
   "codemirror_mode": "r",
   "file_extension": ".r",
   "mimetype": "text/x-r-source",
   "name": "R",
   "pygments_lexer": "r",
   "version": "3.2.4"
  }
 },
 "nbformat": 4,
 "nbformat_minor": 0
}
