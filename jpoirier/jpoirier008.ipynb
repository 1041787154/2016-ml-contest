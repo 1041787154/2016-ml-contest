{
 "cells": [
  {
   "cell_type": "markdown",
   "metadata": {},
   "source": [
    "### Getting and cleaning the data"
   ]
  },
  {
   "cell_type": "code",
   "execution_count": 1,
   "metadata": {
    "collapsed": false
   },
   "outputs": [
    {
     "data": {
      "text/html": [
       "'Raw data:'"
      ],
      "text/latex": [
       "'Raw data:'"
      ],
      "text/markdown": [
       "'Raw data:'"
      ],
      "text/plain": [
       "[1] \"Raw data:\""
      ]
     },
     "metadata": {},
     "output_type": "display_data"
    },
    {
     "data": {
      "text/html": [
       "<table>\n",
       "<thead><tr><th scope=col>Facies</th><th scope=col>Formation</th><th scope=col>Well.Name</th><th scope=col>Depth</th><th scope=col>GR</th><th scope=col>ILD_log10</th><th scope=col>DeltaPHI</th><th scope=col>PHIND</th><th scope=col>PE</th><th scope=col>NM_M</th><th scope=col>RELPOS</th></tr></thead>\n",
       "<tbody>\n",
       "\t<tr><td>3        </td><td>A1 SH    </td><td>SHRIMPLIN</td><td>2793     </td><td>77.5     </td><td>0.664    </td><td> 9.9     </td><td>11.9     </td><td>4.6      </td><td>1        </td><td>1.000    </td></tr>\n",
       "\t<tr><td>3        </td><td>A1 SH    </td><td>SHRIMPLIN</td><td>2794     </td><td>78.3     </td><td>0.661    </td><td>14.2     </td><td>12.6     </td><td>4.1      </td><td>1        </td><td>0.979    </td></tr>\n",
       "\t<tr><td>3        </td><td>A1 SH    </td><td>SHRIMPLIN</td><td>2794     </td><td>79.0     </td><td>0.658    </td><td>14.8     </td><td>13.1     </td><td>3.6      </td><td>1        </td><td>0.957    </td></tr>\n",
       "</tbody>\n",
       "</table>\n"
      ],
      "text/latex": [
       "\\begin{tabular}{r|lllllllllll}\n",
       " Facies & Formation & Well.Name & Depth & GR & ILD\\_log10 & DeltaPHI & PHIND & PE & NM\\_M & RELPOS\\\\\n",
       "\\hline\n",
       "\t 3         & A1 SH     & SHRIMPLIN & 2793      & 77.5      & 0.664     &  9.9      & 11.9      & 4.6       & 1         & 1.000    \\\\\n",
       "\t 3         & A1 SH     & SHRIMPLIN & 2794      & 78.3      & 0.661     & 14.2      & 12.6      & 4.1       & 1         & 0.979    \\\\\n",
       "\t 3         & A1 SH     & SHRIMPLIN & 2794      & 79.0      & 0.658     & 14.8      & 13.1      & 3.6       & 1         & 0.957    \\\\\n",
       "\\end{tabular}\n"
      ],
      "text/plain": [
       "  Facies Formation Well.Name Depth GR   ILD_log10 DeltaPHI PHIND PE  NM_M\n",
       "1 3      A1 SH     SHRIMPLIN 2793  77.5 0.664      9.9     11.9  4.6 1   \n",
       "2 3      A1 SH     SHRIMPLIN 2794  78.3 0.661     14.2     12.6  4.1 1   \n",
       "3 3      A1 SH     SHRIMPLIN 2794  79.0 0.658     14.8     13.1  3.6 1   \n",
       "  RELPOS\n",
       "1 1.000 \n",
       "2 0.979 \n",
       "3 0.957 "
      ]
     },
     "metadata": {},
     "output_type": "display_data"
    },
    {
     "data": {
      "text/html": [
       "'Cleaned data:'"
      ],
      "text/latex": [
       "'Cleaned data:'"
      ],
      "text/markdown": [
       "'Cleaned data:'"
      ],
      "text/plain": [
       "[1] \"Cleaned data:\""
      ]
     },
     "metadata": {},
     "output_type": "display_data"
    },
    {
     "data": {
      "text/html": [
       "<table>\n",
       "<thead><tr><th scope=col>Facies</th><th scope=col>Formation</th><th scope=col>Well.Name</th><th scope=col>Depth</th><th scope=col>GR</th><th scope=col>ILD_log10</th><th scope=col>DeltaPHI</th><th scope=col>PHIND</th><th scope=col>PE</th><th scope=col>isMarine</th><th scope=col>RELPOS</th><th scope=col>NPHI</th><th scope=col>DPHI</th></tr></thead>\n",
       "<tbody>\n",
       "\t<tr><td>FSiS     </td><td>A1 SH    </td><td>SHRIMPLIN</td><td>2793     </td><td>77.5     </td><td>0.664    </td><td> 9.9     </td><td>11.9     </td><td>4.6      </td><td>FALSE    </td><td>1.000    </td><td>16.9     </td><td>6.96     </td></tr>\n",
       "\t<tr><td>FSiS     </td><td>A1 SH    </td><td>SHRIMPLIN</td><td>2794     </td><td>78.3     </td><td>0.661    </td><td>14.2     </td><td>12.6     </td><td>4.1      </td><td>FALSE    </td><td>0.979    </td><td>19.7     </td><td>5.46     </td></tr>\n",
       "\t<tr><td>FSiS     </td><td>A1 SH    </td><td>SHRIMPLIN</td><td>2794     </td><td>79.0     </td><td>0.658    </td><td>14.8     </td><td>13.1     </td><td>3.6      </td><td>FALSE    </td><td>0.957    </td><td>20.5     </td><td>5.65     </td></tr>\n",
       "</tbody>\n",
       "</table>\n"
      ],
      "text/latex": [
       "\\begin{tabular}{r|lllllllllllll}\n",
       " Facies & Formation & Well.Name & Depth & GR & ILD\\_log10 & DeltaPHI & PHIND & PE & isMarine & RELPOS & NPHI & DPHI\\\\\n",
       "\\hline\n",
       "\t FSiS      & A1 SH     & SHRIMPLIN & 2793      & 77.5      & 0.664     &  9.9      & 11.9      & 4.6       & FALSE     & 1.000     & 16.9      & 6.96     \\\\\n",
       "\t FSiS      & A1 SH     & SHRIMPLIN & 2794      & 78.3      & 0.661     & 14.2      & 12.6      & 4.1       & FALSE     & 0.979     & 19.7      & 5.46     \\\\\n",
       "\t FSiS      & A1 SH     & SHRIMPLIN & 2794      & 79.0      & 0.658     & 14.8      & 13.1      & 3.6       & FALSE     & 0.957     & 20.5      & 5.65     \\\\\n",
       "\\end{tabular}\n"
      ],
      "text/plain": [
       "  Facies Formation Well.Name Depth GR   ILD_log10 DeltaPHI PHIND PE  isMarine\n",
       "1 FSiS   A1 SH     SHRIMPLIN 2793  77.5 0.664      9.9     11.9  4.6 FALSE   \n",
       "2 FSiS   A1 SH     SHRIMPLIN 2794  78.3 0.661     14.2     12.6  4.1 FALSE   \n",
       "3 FSiS   A1 SH     SHRIMPLIN 2794  79.0 0.658     14.8     13.1  3.6 FALSE   \n",
       "  RELPOS NPHI DPHI\n",
       "1 1.000  16.9 6.96\n",
       "2 0.979  19.7 5.46\n",
       "3 0.957  20.5 5.65"
      ]
     },
     "metadata": {},
     "output_type": "display_data"
    }
   ],
   "source": [
    "options(warn=-1)\n",
    "\n",
    "suppressMessages(library(dplyr))\n",
    "source(\"loadData.R\")\n",
    "\n",
    "# load data\n",
    "\"Raw data:\"\n",
    "raw <- loadData()\n",
    "format(head(raw,3), digits=3)\n",
    "\n",
    "# clean data\n",
    "\"Cleaned data:\"\n",
    "clean <- cleanData(raw)\n",
    "format(head(clean,3), digits=3)"
   ]
  },
  {
   "cell_type": "markdown",
   "metadata": {},
   "source": [
    "### Feature generation  & Imputation"
   ]
  },
  {
   "cell_type": "code",
   "execution_count": 3,
   "metadata": {
    "collapsed": false,
    "scrolled": false
   },
   "outputs": [
    {
     "data": {
      "text/html": [
       "<table>\n",
       "<thead><tr><th scope=col>Facies</th><th scope=col>Formation</th><th scope=col>Well.Name</th><th scope=col>Depth</th><th scope=col>GR</th><th scope=col>ILD_log10</th><th scope=col>DeltaPHI</th><th scope=col>PHIND</th><th scope=col>PE</th><th scope=col>isMarine</th><th scope=col>...</th><th scope=col>DeltaPHI_forDiff</th><th scope=col>PHIND_forDiff</th><th scope=col>GR_bacDiff</th><th scope=col>ILD_bacDiff</th><th scope=col>DeltaPHI_bacDiff</th><th scope=col>PHIND_bacDiff</th><th scope=col>GR_cenDiff</th><th scope=col>ILD_cenDiff</th><th scope=col>DeltaPHI_cenDiff</th><th scope=col>PHIND_cenDiff</th></tr></thead>\n",
       "<tbody>\n",
       "\t<tr><td>FSiS     </td><td>A1 SH    </td><td>SHRIMPLIN</td><td>2793     </td><td>77.5     </td><td>0.664    </td><td> 9.9     </td><td>11.9     </td><td>4.6      </td><td>FALSE    </td><td>...      </td><td> 4.3     </td><td>0.650    </td><td>  0.00   </td><td> 0.000   </td><td> 0.0     </td><td>0.000    </td><td> 0.00    </td><td> 0.0000  </td><td> 0.00    </td><td>0.000    </td></tr>\n",
       "\t<tr><td>FSiS     </td><td>A1 SH    </td><td>SHRIMPLIN</td><td>2794     </td><td>78.3     </td><td>0.661    </td><td>14.2     </td><td>12.6     </td><td>4.1      </td><td>FALSE    </td><td>...      </td><td> 0.6     </td><td>0.485    </td><td>  0.81   </td><td>-0.003   </td><td> 4.3     </td><td>0.650    </td><td> 0.80    </td><td>-0.0030  </td><td> 2.45    </td><td>0.568    </td></tr>\n",
       "\t<tr><td>FSiS     </td><td>A1 SH    </td><td>SHRIMPLIN</td><td>2794     </td><td>79.0     </td><td>0.658    </td><td>14.8     </td><td>13.1     </td><td>3.6      </td><td>FALSE    </td><td>...      </td><td>-0.9     </td><td>0.065    </td><td>  0.79   </td><td>-0.003   </td><td> 0.6     </td><td>0.485    </td><td> 3.92    </td><td>-0.0030  </td><td>-0.15    </td><td>0.275    </td></tr>\n",
       "\t<tr><td>FSiS     </td><td>A1 SH    </td><td>SHRIMPLIN</td><td>2794     </td><td>86.1     </td><td>0.655    </td><td>13.9     </td><td>13.1     </td><td>3.5      </td><td>FALSE    </td><td>...      </td><td>-0.4     </td><td>0.185    </td><td>  7.05   </td><td>-0.003   </td><td>-0.9     </td><td>0.065    </td><td>-2.23    </td><td>-0.0055  </td><td>-0.65    </td><td>0.125    </td></tr>\n",
       "\t<tr><td>FSiS     </td><td>A1 SH    </td><td>SHRIMPLIN</td><td>2795     </td><td>74.6     </td><td>0.647    </td><td>13.5     </td><td>13.3     </td><td>3.4      </td><td>FALSE    </td><td>...      </td><td> 0.5     </td><td>0.085    </td><td>-11.52   </td><td>-0.008   </td><td>-0.4     </td><td>0.185    </td><td>-6.06    </td><td>-0.0095  </td><td> 0.05    </td><td>0.135    </td></tr>\n",
       "</tbody>\n",
       "</table>\n"
      ],
      "text/latex": [
       "\\begin{tabular}{r|llllllllllllllllllllllllllllllllllllllllllllllllllllllllllllllllllllllllllllllllllllllllllllllllllllllllllllllllllllllllllllllllllllllllllllllllllllllllllllllllllllllllllllllllllllllllllllllllllllllllllllllllllllllllllllllllll}\n",
       " Facies & Formation & Well.Name & Depth & GR & ILD\\_log10 & DeltaPHI & PHIND & PE & isMarine & ... & DeltaPHI\\_forDiff & PHIND\\_forDiff & GR\\_bacDiff & ILD\\_bacDiff & DeltaPHI\\_bacDiff & PHIND\\_bacDiff & GR\\_cenDiff & ILD\\_cenDiff & DeltaPHI\\_cenDiff & PHIND\\_cenDiff\\\\\n",
       "\\hline\n",
       "\t FSiS      & A1 SH     & SHRIMPLIN & 2793      & 77.5      & 0.664     &  9.9      & 11.9      & 4.6       & FALSE     & ...       &  4.3      & 0.650     &   0.00    &  0.000    &  0.0      & 0.000     &  0.00     &  0.0000   &  0.00     & 0.000    \\\\\n",
       "\t FSiS      & A1 SH     & SHRIMPLIN & 2794      & 78.3      & 0.661     & 14.2      & 12.6      & 4.1       & FALSE     & ...       &  0.6      & 0.485     &   0.81    & -0.003    &  4.3      & 0.650     &  0.80     & -0.0030   &  2.45     & 0.568    \\\\\n",
       "\t FSiS      & A1 SH     & SHRIMPLIN & 2794      & 79.0      & 0.658     & 14.8      & 13.1      & 3.6       & FALSE     & ...       & -0.9      & 0.065     &   0.79    & -0.003    &  0.6      & 0.485     &  3.92     & -0.0030   & -0.15     & 0.275    \\\\\n",
       "\t FSiS      & A1 SH     & SHRIMPLIN & 2794      & 86.1      & 0.655     & 13.9      & 13.1      & 3.5       & FALSE     & ...       & -0.4      & 0.185     &   7.05    & -0.003    & -0.9      & 0.065     & -2.23     & -0.0055   & -0.65     & 0.125    \\\\\n",
       "\t FSiS      & A1 SH     & SHRIMPLIN & 2795      & 74.6      & 0.647     & 13.5      & 13.3      & 3.4       & FALSE     & ...       &  0.5      & 0.085     & -11.52    & -0.008    & -0.4      & 0.185     & -6.06     & -0.0095   &  0.05     & 0.135    \\\\\n",
       "\\end{tabular}\n"
      ],
      "text/plain": [
       "  Facies Formation Well.Name Depth GR   ILD_log10 DeltaPHI PHIND PE  isMarine\n",
       "1 FSiS   A1 SH     SHRIMPLIN 2793  77.5 0.664      9.9     11.9  4.6 FALSE   \n",
       "2 FSiS   A1 SH     SHRIMPLIN 2794  78.3 0.661     14.2     12.6  4.1 FALSE   \n",
       "3 FSiS   A1 SH     SHRIMPLIN 2794  79.0 0.658     14.8     13.1  3.6 FALSE   \n",
       "4 FSiS   A1 SH     SHRIMPLIN 2794  86.1 0.655     13.9     13.1  3.5 FALSE   \n",
       "5 FSiS   A1 SH     SHRIMPLIN 2795  74.6 0.647     13.5     13.3  3.4 FALSE   \n",
       "  ... DeltaPHI_forDiff PHIND_forDiff GR_bacDiff ILD_bacDiff DeltaPHI_bacDiff\n",
       "1 ...  4.3             0.650           0.00      0.000       0.0            \n",
       "2 ...  0.6             0.485           0.81     -0.003       4.3            \n",
       "3 ... -0.9             0.065           0.79     -0.003       0.6            \n",
       "4 ... -0.4             0.185           7.05     -0.003      -0.9            \n",
       "5 ...  0.5             0.085         -11.52     -0.008      -0.4            \n",
       "  PHIND_bacDiff GR_cenDiff ILD_cenDiff DeltaPHI_cenDiff PHIND_cenDiff\n",
       "1 0.000          0.00       0.0000      0.00            0.000        \n",
       "2 0.650          0.80      -0.0030      2.45            0.568        \n",
       "3 0.485          3.92      -0.0030     -0.15            0.275        \n",
       "4 0.065         -2.23      -0.0055     -0.65            0.125        \n",
       "5 0.185         -6.06      -0.0095      0.05            0.135        "
      ]
     },
     "metadata": {},
     "output_type": "display_data"
    }
   ],
   "source": [
    "library(dplyr)\n",
    "library(randomForest)\n",
    "library(lattice)\n",
    "library(ggplot2)\n",
    "library(caret)\n",
    "\n",
    "source(\"preProcData.R\")\n",
    "\n",
    "t0 <- Sys.time()\n",
    "\n",
    "df <- clean[clean$Well.Name != \"Recruit F9\",]\n",
    "\n",
    "# formation averages of log data\n",
    "# ------------------------------------------------------------------------------------\n",
    "df <- mutate(group_by(df, Formation), \n",
    "             GR_FmAvg = mean(GR),\n",
    "             ILD_FmAvg = mean(ILD_log10), \n",
    "             DeltaPHI_FmAvg = mean(DeltaPHI), \n",
    "             PHIND_FmAvg = mean(PHIND), \n",
    "             PE_FmAvg = mean(PE, na.rm=T),\n",
    "             NPHI_FmAvg = mean(NPHI),\n",
    "             DPHI_FmAvg = mean(DPHI))\n",
    "# ------------------------------------------------------------------------------------\n",
    "\n",
    "# facies averages of log data\n",
    "# ------------------------------------------------------------------------------------\n",
    "df <- mutate(group_by(df, Facies),\n",
    "             GR_FaciesAvg = mean(GR),\n",
    "             ILD_FaciesAvg = mean(ILD_log10),\n",
    "             DeltaPHI_FaciesAvg = mean(DeltaPHI),\n",
    "             PHIND_FaciesAvg = mean(PHIND),\n",
    "             PE_FaciesAvg = mean(PE, na.rm=T),\n",
    "             NPHI_FaciesAvg = mean(NPHI),\n",
    "             DPHI_FaciesAvg = mean(DPHI))\n",
    "# ------------------------------------------------------------------------------------\n",
    "\n",
    "# well averages of log data\n",
    "# ------------------------------------------------------------------------------------\n",
    "df <- mutate(group_by(df, Well.Name),\n",
    "             GR_WellAvg = mean(GR),\n",
    "             ILD_WellAvg = mean(ILD_log10),\n",
    "             DeltaPHI_WellAvg = mean(DeltaPHI),\n",
    "             PHIND_WellAvg = mean(PHIND),\n",
    "             NPHI_WellAvg = mean(NPHI),\n",
    "             DPHI_WellAvg = mean(DPHI))\n",
    "# ------------------------------------------------------------------------------------\n",
    "\n",
    "# lag log data\n",
    "# ------------------------------------------------------------------------------------\n",
    "df <- lagData(df, 30, c(\"GR\", \"ILD_log10\", \"DeltaPHI\", \"PHIND\", \"isMarine\", \n",
    "                        \"PE_FaciesAvg\"))\n",
    "# ------------------------------------------------------------------------------------\n",
    "\n",
    "# calculate formation thickness\n",
    "# ------------------------------------------------------------------------------------\n",
    "df <- mutate(group_by(df, Formation, Well.Name), FmThickness=max(Depth)-min(Depth)+.5)\n",
    "# ------------------------------------------------------------------------------------\n",
    "\n",
    "# calculate difference/derivatives\n",
    "# ------------------------------------------------------------------------------------\n",
    "df <- firstDiff(df, F)\n",
    "# ------------------------------------------------------------------------------------\n",
    "\n",
    "format(head(df, 5), digits=3)\n",
    "df_fg <- df"
   ]
  },
  {
   "cell_type": "code",
   "execution_count": 4,
   "metadata": {
    "collapsed": false
   },
   "outputs": [
    {
     "data": {
      "text/html": [
       "'Time elapsed:'"
      ],
      "text/latex": [
       "'Time elapsed:'"
      ],
      "text/markdown": [
       "'Time elapsed:'"
      ],
      "text/plain": [
       "[1] \"Time elapsed:\""
      ]
     },
     "metadata": {},
     "output_type": "display_data"
    },
    {
     "name": "stdout",
     "output_type": "stream",
     "text": [
      "Time difference of 0.08700514 secs\n"
     ]
    }
   ],
   "source": [
    "t0 <- Sys.time()\n",
    "df <- df_fg\n",
    "\n",
    "# split data on whether or not PE has a valid value\n",
    "# ------------------------------------------------------------------------------------\n",
    "PE_impute_train <- df[!is.na(df$PE),]\n",
    "PE_impute_test <- df[is.na(df$PE),]\n",
    "# ------------------------------------------------------------------------------------\n",
    "\n",
    "tn <- Sys.time()\n",
    "\"Time elapsed:\"\n",
    "print(tn-t0)"
   ]
  },
  {
   "cell_type": "code",
   "execution_count": 5,
   "metadata": {
    "collapsed": false
   },
   "outputs": [
    {
     "data": {
      "text/html": [
       "'Before imputing:'"
      ],
      "text/latex": [
       "'Before imputing:'"
      ],
      "text/markdown": [
       "'Before imputing:'"
      ],
      "text/plain": [
       "[1] \"Before imputing:\""
      ]
     },
     "metadata": {},
     "output_type": "display_data"
    },
    {
     "data": {
      "text/html": [
       "<table>\n",
       "<thead><tr><th scope=col>Facies</th><th scope=col>Formation</th><th scope=col>Well.Name</th><th scope=col>Depth</th><th scope=col>GR</th><th scope=col>ILD_log10</th><th scope=col>DeltaPHI</th><th scope=col>PHIND</th><th scope=col>PE</th><th scope=col>isMarine</th><th scope=col>...</th><th scope=col>DeltaPHI_forDiff</th><th scope=col>PHIND_forDiff</th><th scope=col>GR_bacDiff</th><th scope=col>ILD_bacDiff</th><th scope=col>DeltaPHI_bacDiff</th><th scope=col>PHIND_bacDiff</th><th scope=col>GR_cenDiff</th><th scope=col>ILD_cenDiff</th><th scope=col>DeltaPHI_cenDiff</th><th scope=col>PHIND_cenDiff</th></tr></thead>\n",
       "<tbody>\n",
       "\t<tr><td>FSiS       </td><td>A1 SH      </td><td>ALEXANDER D</td><td>2888       </td><td>88.7       </td><td>0.612      </td><td> 6.7       </td><td>10.6       </td><td>NA         </td><td>FALSE      </td><td>...        </td><td> 4.3       </td><td>1.910      </td><td>0.00       </td><td> 0.000     </td><td>0.0        </td><td>0.000      </td><td>0.00       </td><td> 0.0000    </td><td>0.00       </td><td>0.000      </td></tr>\n",
       "\t<tr><td>FSiS       </td><td>A1 SH      </td><td>ALEXANDER D</td><td>2888       </td><td>92.7       </td><td>0.583      </td><td>11.0       </td><td>12.5       </td><td>NA         </td><td>FALSE      </td><td>...        </td><td> 1.0       </td><td>0.895      </td><td>4.00       </td><td>-0.029     </td><td>4.3        </td><td>1.910      </td><td>2.92       </td><td>-0.0165    </td><td>2.65       </td><td>1.402      </td></tr>\n",
       "\t<tr><td>FSiS       </td><td>A1 SH      </td><td>ALEXANDER D</td><td>2888       </td><td>94.5       </td><td>0.579      </td><td>12.0       </td><td>13.4       </td><td>NA         </td><td>FALSE      </td><td>...        </td><td>-0.5       </td><td>0.340      </td><td>1.83       </td><td>-0.004     </td><td>1.0        </td><td>0.895      </td><td>1.30       </td><td>-0.0020    </td><td>0.25       </td><td>0.617      </td></tr>\n",
       "</tbody>\n",
       "</table>\n"
      ],
      "text/latex": [
       "\\begin{tabular}{r|llllllllllllllllllllllllllllllllllllllllllllllllllllllllllllllllllllllllllllllllllllllllllllllllllllllllllllllllllllllllllllllllllllllllllllllllllllllllllllllllllllllllllllllllllllllllllllllllllllllllllllllllllllllllllllllllll}\n",
       " Facies & Formation & Well.Name & Depth & GR & ILD\\_log10 & DeltaPHI & PHIND & PE & isMarine & ... & DeltaPHI\\_forDiff & PHIND\\_forDiff & GR\\_bacDiff & ILD\\_bacDiff & DeltaPHI\\_bacDiff & PHIND\\_bacDiff & GR\\_cenDiff & ILD\\_cenDiff & DeltaPHI\\_cenDiff & PHIND\\_cenDiff\\\\\n",
       "\\hline\n",
       "\t FSiS        & A1 SH       & ALEXANDER D & 2888        & 88.7        & 0.612       &  6.7        & 10.6        & NA          & FALSE       & ...         &  4.3        & 1.910       & 0.00        &  0.000      & 0.0         & 0.000       & 0.00        &  0.0000     & 0.00        & 0.000      \\\\\n",
       "\t FSiS        & A1 SH       & ALEXANDER D & 2888        & 92.7        & 0.583       & 11.0        & 12.5        & NA          & FALSE       & ...         &  1.0        & 0.895       & 4.00        & -0.029      & 4.3         & 1.910       & 2.92        & -0.0165     & 2.65        & 1.402      \\\\\n",
       "\t FSiS        & A1 SH       & ALEXANDER D & 2888        & 94.5        & 0.579       & 12.0        & 13.4        & NA          & FALSE       & ...         & -0.5        & 0.340       & 1.83        & -0.004      & 1.0         & 0.895       & 1.30        & -0.0020     & 0.25        & 0.617      \\\\\n",
       "\\end{tabular}\n"
      ],
      "text/plain": [
       "  Facies Formation Well.Name   Depth GR   ILD_log10 DeltaPHI PHIND PE isMarine\n",
       "1 FSiS   A1 SH     ALEXANDER D 2888  88.7 0.612      6.7     10.6  NA FALSE   \n",
       "2 FSiS   A1 SH     ALEXANDER D 2888  92.7 0.583     11.0     12.5  NA FALSE   \n",
       "3 FSiS   A1 SH     ALEXANDER D 2888  94.5 0.579     12.0     13.4  NA FALSE   \n",
       "  ... DeltaPHI_forDiff PHIND_forDiff GR_bacDiff ILD_bacDiff DeltaPHI_bacDiff\n",
       "1 ...  4.3             1.910         0.00        0.000      0.0             \n",
       "2 ...  1.0             0.895         4.00       -0.029      4.3             \n",
       "3 ... -0.5             0.340         1.83       -0.004      1.0             \n",
       "  PHIND_bacDiff GR_cenDiff ILD_cenDiff DeltaPHI_cenDiff PHIND_cenDiff\n",
       "1 0.000         0.00        0.0000     0.00             0.000        \n",
       "2 1.910         2.92       -0.0165     2.65             1.402        \n",
       "3 0.895         1.30       -0.0020     0.25             0.617        "
      ]
     },
     "metadata": {},
     "output_type": "display_data"
    },
    {
     "name": "stdout",
     "output_type": "stream",
     "text": [
      "Random Forest \n",
      "\n",
      "3164 samples\n",
      " 225 predictor\n",
      "\n",
      "No pre-processing\n",
      "Resampling: Cross-Validated (10 fold) \n",
      "Summary of sample sizes: 2693, 2715, 2703, 2663, 2749, 2701, ... \n",
      "Resampling results across tuning parameters:\n",
      "\n",
      "  mtry  RMSE       Rsquared \n",
      "    2   0.5515111  0.6555024\n",
      "   29   0.5075496  0.7119138\n",
      "   57   0.5103292  0.7068156\n",
      "   85   0.5156431  0.6985850\n",
      "  113   0.5121128  0.6995662\n",
      "  140   0.5152494  0.7063695\n",
      "  168   0.5255717  0.6923438\n",
      "  196   0.5211819  0.6947750\n",
      "  224   0.5286081  0.6878713\n",
      "  252   0.5180770  0.6999451\n",
      "\n",
      "RMSE was used to select the optimal model using  the smallest value.\n",
      "The final value used for the model was mtry = 29. \n",
      "       RMSE  Rsquared        Resample\n",
      "1 0.3956320 0.7586792         SHANKLE\n",
      "2 0.4942847 0.5384159        LUKE G U\n",
      "3 0.3335226 0.7772389  CROSS H CATTLE\n",
      "4 0.7481171 0.8162802       SHRIMPLIN\n",
      "5 0.5436056 0.6820090           NOLAN\n",
      "6 0.3740222 0.7106842           NEWBY\n",
      "7 0.6636627 0.7000891 CHURCHMAN BIBLE\n"
     ]
    },
    {
     "data": {
      "text/html": [
       "'After imputing:'"
      ],
      "text/latex": [
       "'After imputing:'"
      ],
      "text/markdown": [
       "'After imputing:'"
      ],
      "text/plain": [
       "[1] \"After imputing:\""
      ]
     },
     "metadata": {},
     "output_type": "display_data"
    },
    {
     "data": {
      "text/html": [
       "<table>\n",
       "<thead><tr><th scope=col>Facies</th><th scope=col>Formation</th><th scope=col>Well.Name</th><th scope=col>Depth</th><th scope=col>GR</th><th scope=col>ILD_log10</th><th scope=col>DeltaPHI</th><th scope=col>PHIND</th><th scope=col>PE</th><th scope=col>isMarine</th><th scope=col>...</th><th scope=col>DeltaPHI_forDiff</th><th scope=col>PHIND_forDiff</th><th scope=col>GR_bacDiff</th><th scope=col>ILD_bacDiff</th><th scope=col>DeltaPHI_bacDiff</th><th scope=col>PHIND_bacDiff</th><th scope=col>GR_cenDiff</th><th scope=col>ILD_cenDiff</th><th scope=col>DeltaPHI_cenDiff</th><th scope=col>PHIND_cenDiff</th></tr></thead>\n",
       "<tbody>\n",
       "\t<tr><td>FSiS       </td><td>A1 SH      </td><td>ALEXANDER D</td><td>2888       </td><td>88.7       </td><td>0.612      </td><td> 6.7       </td><td>10.6       </td><td>3.41       </td><td>FALSE      </td><td>...        </td><td> 4.3       </td><td>1.910      </td><td>0.00       </td><td> 0.000     </td><td>0.0        </td><td>0.000      </td><td>0.00       </td><td> 0.0000    </td><td>0.00       </td><td>0.000      </td></tr>\n",
       "\t<tr><td>FSiS       </td><td>A1 SH      </td><td>ALEXANDER D</td><td>2888       </td><td>92.7       </td><td>0.583      </td><td>11.0       </td><td>12.5       </td><td>3.42       </td><td>FALSE      </td><td>...        </td><td> 1.0       </td><td>0.895      </td><td>4.00       </td><td>-0.029     </td><td>4.3        </td><td>1.910      </td><td>2.92       </td><td>-0.0165    </td><td>2.65       </td><td>1.402      </td></tr>\n",
       "\t<tr><td>FSiS       </td><td>A1 SH      </td><td>ALEXANDER D</td><td>2888       </td><td>94.5       </td><td>0.579      </td><td>12.0       </td><td>13.4       </td><td>3.33       </td><td>FALSE      </td><td>...        </td><td>-0.5       </td><td>0.340      </td><td>1.83       </td><td>-0.004     </td><td>1.0        </td><td>0.895      </td><td>1.30       </td><td>-0.0020    </td><td>0.25       </td><td>0.617      </td></tr>\n",
       "</tbody>\n",
       "</table>\n"
      ],
      "text/latex": [
       "\\begin{tabular}{r|llllllllllllllllllllllllllllllllllllllllllllllllllllllllllllllllllllllllllllllllllllllllllllllllllllllllllllllllllllllllllllllllllllllllllllllllllllllllllllllllllllllllllllllllllllllllllllllllllllllllllllllllllllllllllllllllll}\n",
       " Facies & Formation & Well.Name & Depth & GR & ILD\\_log10 & DeltaPHI & PHIND & PE & isMarine & ... & DeltaPHI\\_forDiff & PHIND\\_forDiff & GR\\_bacDiff & ILD\\_bacDiff & DeltaPHI\\_bacDiff & PHIND\\_bacDiff & GR\\_cenDiff & ILD\\_cenDiff & DeltaPHI\\_cenDiff & PHIND\\_cenDiff\\\\\n",
       "\\hline\n",
       "\t FSiS        & A1 SH       & ALEXANDER D & 2888        & 88.7        & 0.612       &  6.7        & 10.6        & 3.41        & FALSE       & ...         &  4.3        & 1.910       & 0.00        &  0.000      & 0.0         & 0.000       & 0.00        &  0.0000     & 0.00        & 0.000      \\\\\n",
       "\t FSiS        & A1 SH       & ALEXANDER D & 2888        & 92.7        & 0.583       & 11.0        & 12.5        & 3.42        & FALSE       & ...         &  1.0        & 0.895       & 4.00        & -0.029      & 4.3         & 1.910       & 2.92        & -0.0165     & 2.65        & 1.402      \\\\\n",
       "\t FSiS        & A1 SH       & ALEXANDER D & 2888        & 94.5        & 0.579       & 12.0        & 13.4        & 3.33        & FALSE       & ...         & -0.5        & 0.340       & 1.83        & -0.004      & 1.0         & 0.895       & 1.30        & -0.0020     & 0.25        & 0.617      \\\\\n",
       "\\end{tabular}\n"
      ],
      "text/plain": [
       "  Facies Formation Well.Name   Depth GR   ILD_log10 DeltaPHI PHIND PE  \n",
       "1 FSiS   A1 SH     ALEXANDER D 2888  88.7 0.612      6.7     10.6  3.41\n",
       "2 FSiS   A1 SH     ALEXANDER D 2888  92.7 0.583     11.0     12.5  3.42\n",
       "3 FSiS   A1 SH     ALEXANDER D 2888  94.5 0.579     12.0     13.4  3.33\n",
       "  isMarine ... DeltaPHI_forDiff PHIND_forDiff GR_bacDiff ILD_bacDiff\n",
       "1 FALSE    ...  4.3             1.910         0.00        0.000     \n",
       "2 FALSE    ...  1.0             0.895         4.00       -0.029     \n",
       "3 FALSE    ... -0.5             0.340         1.83       -0.004     \n",
       "  DeltaPHI_bacDiff PHIND_bacDiff GR_cenDiff ILD_cenDiff DeltaPHI_cenDiff\n",
       "1 0.0              0.000         0.00        0.0000     0.00            \n",
       "2 4.3              1.910         2.92       -0.0165     2.65            \n",
       "3 1.0              0.895         1.30       -0.0020     0.25            \n",
       "  PHIND_cenDiff\n",
       "1 0.000        \n",
       "2 1.402        \n",
       "3 0.617        "
      ]
     },
     "metadata": {},
     "output_type": "display_data"
    },
    {
     "data": {
      "text/html": [
       "'Time elapsed:'"
      ],
      "text/latex": [
       "'Time elapsed:'"
      ],
      "text/markdown": [
       "'Time elapsed:'"
      ],
      "text/plain": [
       "[1] \"Time elapsed:\""
      ]
     },
     "metadata": {},
     "output_type": "display_data"
    },
    {
     "name": "stdout",
     "output_type": "stream",
     "text": [
      "Time difference of 1.641159 hours\n"
     ]
    }
   ],
   "source": [
    "t0 <- Sys.time()\n",
    "set.seed(1234)\n",
    "\n",
    "# fit a random forest regressor (like ar4 and HouMath) to impute missing PE\n",
    "# ------------------------------------------------------------------------------------\n",
    "PE_wells <- unique(PE_impute_train$Well.Name)\n",
    "resamp_index <- list()\n",
    "\n",
    "for (w in PE_wells) {\n",
    "    resamp_index[[w]] <- which(PE_impute_train$Well.Name != w)\n",
    "}\n",
    "\n",
    "fitControl <- trainControl(method=\"cv\", index=resamp_index)\n",
    "fit <- train(PE ~ ., data=PE_impute_train, \n",
    "             method=\"rf\", trControl=fitControl,\n",
    "             tuneLength=10, ntree=50, importance=T)\n",
    "\n",
    "\"Before imputing:\"\n",
    "format(head(PE_impute_test,3), digits=3)\n",
    "\n",
    "print(fit)\n",
    "print(fit[[\"resample\"]])\n",
    "PE_impute_test$PE <- predict(fit, PE_impute_test)\n",
    "\n",
    "\"After imputing:\"\n",
    "format(head(PE_impute_test,3), digits=3)\n",
    "# ------------------------------------------------------------------------------------\n",
    "\n",
    "tn <- Sys.time()\n",
    "\"Time elapsed:\"\n",
    "print(tn-t0)"
   ]
  },
  {
   "cell_type": "code",
   "execution_count": 6,
   "metadata": {
    "collapsed": false
   },
   "outputs": [
    {
     "data": {
      "text/html": [
       "'Imputed data:'"
      ],
      "text/latex": [
       "'Imputed data:'"
      ],
      "text/markdown": [
       "'Imputed data:'"
      ],
      "text/plain": [
       "[1] \"Imputed data:\""
      ]
     },
     "metadata": {},
     "output_type": "display_data"
    },
    {
     "data": {
      "text/html": [
       "<table>\n",
       "<thead><tr><th scope=col>Facies</th><th scope=col>Formation</th><th scope=col>Well.Name</th><th scope=col>Depth</th><th scope=col>GR</th><th scope=col>ILD_log10</th><th scope=col>DeltaPHI</th><th scope=col>PHIND</th><th scope=col>PE</th><th scope=col>isMarine</th><th scope=col>RELPOS</th><th scope=col>NPHI</th><th scope=col>DPHI</th></tr></thead>\n",
       "<tbody>\n",
       "\t<tr><td>FSiS     </td><td>A1 SH    </td><td>SHRIMPLIN</td><td>2793     </td><td>77.5     </td><td>0.664    </td><td> 9.9     </td><td>11.9     </td><td>4.6      </td><td>FALSE    </td><td>1.000    </td><td>16.9     </td><td>6.96     </td></tr>\n",
       "\t<tr><td>FSiS     </td><td>A1 SH    </td><td>SHRIMPLIN</td><td>2794     </td><td>78.3     </td><td>0.661    </td><td>14.2     </td><td>12.6     </td><td>4.1      </td><td>FALSE    </td><td>0.979    </td><td>19.7     </td><td>5.46     </td></tr>\n",
       "\t<tr><td>FSiS     </td><td>A1 SH    </td><td>SHRIMPLIN</td><td>2794     </td><td>79.0     </td><td>0.658    </td><td>14.8     </td><td>13.1     </td><td>3.6      </td><td>FALSE    </td><td>0.957    </td><td>20.5     </td><td>5.65     </td></tr>\n",
       "</tbody>\n",
       "</table>\n"
      ],
      "text/latex": [
       "\\begin{tabular}{r|lllllllllllll}\n",
       " Facies & Formation & Well.Name & Depth & GR & ILD\\_log10 & DeltaPHI & PHIND & PE & isMarine & RELPOS & NPHI & DPHI\\\\\n",
       "\\hline\n",
       "\t FSiS      & A1 SH     & SHRIMPLIN & 2793      & 77.5      & 0.664     &  9.9      & 11.9      & 4.6       & FALSE     & 1.000     & 16.9      & 6.96     \\\\\n",
       "\t FSiS      & A1 SH     & SHRIMPLIN & 2794      & 78.3      & 0.661     & 14.2      & 12.6      & 4.1       & FALSE     & 0.979     & 19.7      & 5.46     \\\\\n",
       "\t FSiS      & A1 SH     & SHRIMPLIN & 2794      & 79.0      & 0.658     & 14.8      & 13.1      & 3.6       & FALSE     & 0.957     & 20.5      & 5.65     \\\\\n",
       "\\end{tabular}\n"
      ],
      "text/plain": [
       "  Facies Formation Well.Name Depth GR   ILD_log10 DeltaPHI PHIND PE  isMarine\n",
       "1 FSiS   A1 SH     SHRIMPLIN 2793  77.5 0.664      9.9     11.9  4.6 FALSE   \n",
       "2 FSiS   A1 SH     SHRIMPLIN 2794  78.3 0.661     14.2     12.6  4.1 FALSE   \n",
       "3 FSiS   A1 SH     SHRIMPLIN 2794  79.0 0.658     14.8     13.1  3.6 FALSE   \n",
       "  RELPOS NPHI DPHI\n",
       "1 1.000  16.9 6.96\n",
       "2 0.979  19.7 5.46\n",
       "3 0.957  20.5 5.65"
      ]
     },
     "metadata": {},
     "output_type": "display_data"
    },
    {
     "data": {
      "text/html": [
       "'Time elapsed:'"
      ],
      "text/latex": [
       "'Time elapsed:'"
      ],
      "text/markdown": [
       "'Time elapsed:'"
      ],
      "text/plain": [
       "[1] \"Time elapsed:\""
      ]
     },
     "metadata": {},
     "output_type": "display_data"
    },
    {
     "name": "stdout",
     "output_type": "stream",
     "text": [
      "Time difference of 0.2320139 secs\n"
     ]
    }
   ],
   "source": [
    "# bring it all back in one data frame\n",
    "# ------------------------------------------------------------------------------------\n",
    "t0 <- Sys.time()\n",
    "\n",
    "\"Imputed data:\"\n",
    "df_impute <- subset(rbind(PE_impute_train, PE_impute_test), select=c(\"Facies\", \"Formation\", \"Well.Name\", \"Depth\",\n",
    "                                                                      \"GR\", \"ILD_log10\", \"DeltaPHI\", \"PHIND\", \"PE\",\n",
    "                                                                      \"isMarine\", \"RELPOS\", \"NPHI\", \"DPHI\"))\n",
    "format(head(df_impute,3), digits=3)\n",
    "# ------------------------------------------------------------------------------------\n",
    "\n",
    "tn <- Sys.time()\n",
    "\"Time elapsed:\"\n",
    "print(tn-t0)"
   ]
  },
  {
   "cell_type": "markdown",
   "metadata": {},
   "source": [
    "### Cross-validation"
   ]
  },
  {
   "cell_type": "code",
   "execution_count": 111,
   "metadata": {
    "collapsed": false
   },
   "outputs": [
    {
     "data": {
      "text/html": [
       "<table>\n",
       "<thead><tr><th scope=col>Facies</th><th scope=col>Formation</th><th scope=col>Well.Name</th><th scope=col>GR</th><th scope=col>ILD_log10</th><th scope=col>DeltaPHI</th><th scope=col>PHIND</th><th scope=col>PE</th><th scope=col>isMarine</th><th scope=col>RELPOS</th><th scope=col>NPHI</th><th scope=col>DPHI</th><th scope=col>PE_FmAvg</th><th scope=col>NPHI_FmAvg</th><th scope=col>DPHI_FmAvg</th><th scope=col>Facies_SHRIMPLIN</th><th scope=col>FmThickness</th></tr></thead>\n",
       "<tbody>\n",
       "\t<tr><td>FSiS     </td><td>A1 SH    </td><td>SHRIMPLIN</td><td> 8.04    </td><td> 0.00432 </td><td>2.19     </td><td>-0.259   </td><td> 0.38    </td><td>FALSE    </td><td>1.000    </td><td>0.837    </td><td>-1.35    </td><td>-0.581   </td><td>3        </td><td>0.141    </td><td>2        </td><td>21.5     </td></tr>\n",
       "\t<tr><td>FSiS     </td><td>A1 SH    </td><td>SHRIMPLIN</td><td> 8.85    </td><td> 0.00132 </td><td>6.49     </td><td> 0.391   </td><td>-0.12    </td><td>FALSE    </td><td>0.979    </td><td>3.637    </td><td>-2.85    </td><td>-0.581   </td><td>3        </td><td>0.141    </td><td>2        </td><td>21.5     </td></tr>\n",
       "\t<tr><td>FSiS     </td><td>A1 SH    </td><td>SHRIMPLIN</td><td> 9.64    </td><td>-0.00168 </td><td>7.09     </td><td> 0.876   </td><td>-0.62    </td><td>FALSE    </td><td>0.957    </td><td>4.422    </td><td>-2.67    </td><td>-0.581   </td><td>3        </td><td>0.141    </td><td>2        </td><td>21.5     </td></tr>\n",
       "\t<tr><td>FSiS     </td><td>A1 SH    </td><td>SHRIMPLIN</td><td>16.69    </td><td>-0.00468 </td><td>6.19     </td><td> 0.941   </td><td>-0.72    </td><td>FALSE    </td><td>0.936    </td><td>4.037    </td><td>-2.15    </td><td>-0.581   </td><td>3        </td><td>0.141    </td><td>2        </td><td>21.5     </td></tr>\n",
       "\t<tr><td>FSiS     </td><td>A1 SH    </td><td>SHRIMPLIN</td><td> 5.17    </td><td>-0.01268 </td><td>5.79     </td><td> 1.126   </td><td>-0.82    </td><td>FALSE    </td><td>0.915    </td><td>4.022    </td><td>-1.77    </td><td>-0.581   </td><td>3        </td><td>0.141    </td><td>2        </td><td>21.5     </td></tr>\n",
       "</tbody>\n",
       "</table>\n"
      ],
      "text/latex": [
       "\\begin{tabular}{r|lllllllllllllllll}\n",
       " Facies & Formation & Well.Name & GR & ILD\\_log10 & DeltaPHI & PHIND & PE & isMarine & RELPOS & NPHI & DPHI & PE\\_FmAvg & NPHI\\_FmAvg & DPHI\\_FmAvg & Facies\\_SHRIMPLIN & FmThickness\\\\\n",
       "\\hline\n",
       "\t FSiS      & A1 SH     & SHRIMPLIN &  8.04     &  0.00432  & 2.19      & -0.259    &  0.38     & FALSE     & 1.000     & 0.837     & -1.35     & -0.581    & 3         & 0.141     & 2         & 21.5     \\\\\n",
       "\t FSiS      & A1 SH     & SHRIMPLIN &  8.85     &  0.00132  & 6.49      &  0.391    & -0.12     & FALSE     & 0.979     & 3.637     & -2.85     & -0.581    & 3         & 0.141     & 2         & 21.5     \\\\\n",
       "\t FSiS      & A1 SH     & SHRIMPLIN &  9.64     & -0.00168  & 7.09      &  0.876    & -0.62     & FALSE     & 0.957     & 4.422     & -2.67     & -0.581    & 3         & 0.141     & 2         & 21.5     \\\\\n",
       "\t FSiS      & A1 SH     & SHRIMPLIN & 16.69     & -0.00468  & 6.19      &  0.941    & -0.72     & FALSE     & 0.936     & 4.037     & -2.15     & -0.581    & 3         & 0.141     & 2         & 21.5     \\\\\n",
       "\t FSiS      & A1 SH     & SHRIMPLIN &  5.17     & -0.01268  & 5.79      &  1.126    & -0.82     & FALSE     & 0.915     & 4.022     & -1.77     & -0.581    & 3         & 0.141     & 2         & 21.5     \\\\\n",
       "\\end{tabular}\n"
      ],
      "text/plain": [
       "  Facies Formation Well.Name GR    ILD_log10 DeltaPHI PHIND  PE    isMarine\n",
       "1 FSiS   A1 SH     SHRIMPLIN  8.04  0.00432  2.19     -0.259  0.38 FALSE   \n",
       "2 FSiS   A1 SH     SHRIMPLIN  8.85  0.00132  6.49      0.391 -0.12 FALSE   \n",
       "3 FSiS   A1 SH     SHRIMPLIN  9.64 -0.00168  7.09      0.876 -0.62 FALSE   \n",
       "4 FSiS   A1 SH     SHRIMPLIN 16.69 -0.00468  6.19      0.941 -0.72 FALSE   \n",
       "5 FSiS   A1 SH     SHRIMPLIN  5.17 -0.01268  5.79      1.126 -0.82 FALSE   \n",
       "  RELPOS NPHI  DPHI  PE_FmAvg NPHI_FmAvg DPHI_FmAvg Facies_SHRIMPLIN\n",
       "1 1.000  0.837 -1.35 -0.581   3          0.141      2               \n",
       "2 0.979  3.637 -2.85 -0.581   3          0.141      2               \n",
       "3 0.957  4.422 -2.67 -0.581   3          0.141      2               \n",
       "4 0.936  4.037 -2.15 -0.581   3          0.141      2               \n",
       "5 0.915  4.022 -1.77 -0.581   3          0.141      2               \n",
       "  FmThickness\n",
       "1 21.5       \n",
       "2 21.5       \n",
       "3 21.5       \n",
       "4 21.5       \n",
       "5 21.5       "
      ]
     },
     "metadata": {},
     "output_type": "display_data"
    }
   ],
   "source": [
    "library(dplyr)\n",
    "source(\"preProcData.R\")\n",
    "\n",
    "df <- df_impute\n",
    "\n",
    "# center data by subtracting mean by well\n",
    "# ------------------------------------------------------------------------------------\n",
    "df <- mutate(group_by(df, Well.Name),\n",
    "             GR = GR - mean(GR),\n",
    "             ILD_log10 = ILD_log10 - mean(ILD_log10),\n",
    "             DeltaPHI = DeltaPHI - mean(DeltaPHI),\n",
    "             PHIND = PHIND - mean(PHIND),\n",
    "             PE = PE - mean(PE),\n",
    "             NPHI = NPHI - mean(NPHI),\n",
    "             DPHI = DPHI - mean(DPHI)\n",
    "            )\n",
    "# ------------------------------------------------------------------------------------\n",
    "\n",
    "# formation averages of log data\n",
    "# ------------------------------------------------------------------------------------\n",
    "df <- mutate(group_by(df, Formation), \n",
    "             PE_FmAvg = mean(PE, na.rm=T),\n",
    "             NPHI_FmAvg = mean(NPHI),\n",
    "             DPHI_FmAvg = mean(DPHI))\n",
    "# ------------------------------------------------------------------------------------\n",
    "\n",
    "# project well facies onto each other\n",
    "# ------------------------------------------------------------------------------------\n",
    "wells <- unique(df$Well.Name)\n",
    "for (w in wells) {\n",
    "    df[,paste0(\"Facies\", \"_\", w)] <- NA\n",
    "}\n",
    "for (wi in wells) {\n",
    "    df_i <- df[df$Well.Name == wi,]\n",
    "    formations <- unique(df_i$Formation)\n",
    "    \n",
    "    for (wj in wells[!wells %in% c(wi)]) {\n",
    "        df_j <- df[df$Well.Name == wj,]\n",
    "        formations <- formations[formations %in% unique(df_j$Formation)]\n",
    "        \n",
    "        for (f in formations) {\n",
    "            df_if <- df_i[df_i$Formation == f,]\n",
    "            df_jf <- df_j[df_j$Formation == f,]\n",
    "            \n",
    "            for (i in 1:nrow(df_if)) {\n",
    "                depth <- df_if$Depth[i]\n",
    "                relpos_i <- df_if$RELPOS[i]\n",
    "                row_j <- which.min(abs(relpos_i - df_jf$RELPOS))\n",
    "                df[df$Well.Name == wi & df$Depth == depth, paste0(\"Facies\", \"_\", wj)] <- df_jf$Facies[row_j]\n",
    "            }\n",
    "        }\n",
    "    }\n",
    "    \n",
    "    jwells <- wells[!wells %in% c(wi)]\n",
    "    for (i in 1:nrow(df_i)) {\n",
    "        depth <- df_i$Depth[i]\n",
    "        votes <- NULL\n",
    "        \n",
    "        for (wj in jwells) {\n",
    "            votes <- c(votes, df[df$Well.Name == wi & df$Depth == depth, paste0(\"Facies\", \"_\", wj)])\n",
    "        }\n",
    "        \n",
    "        vs <- unique(votes)\n",
    "        elected <- unique(votes)[which.max(table(votes))]\n",
    "        df[df$Well.Name == wi & df$Depth == depth, paste0(\"Facies\", \"_\", wi)] <- ifelse(length(elected)==0, 2, elected[[1]][1])\n",
    "    }\n",
    "}\n",
    "\n",
    "df[is.na(df[,\"Facies_SHRIMPLIN\"]),\"Facies_SHRIMPLIN\"] <- 2\n",
    "df[,\"Facies_SHRIMPLIN\"] <- as.factor(unlist(df[,\"Facies_SHRIMPLIN\"]))\n",
    "# ------------------------------------------------------------------------------------\n",
    "\n",
    "# calculate formation thickness\n",
    "# ------------------------------------------------------------------------------------\n",
    "df <- mutate(group_by(df, Formation, Well.Name), FmThickness=(max(Depth)-min(Depth)+.5))\n",
    "# ------------------------------------------------------------------------------------\n",
    "\n",
    "df_fe <- subset(df, select=c(Facies, Formation, Well.Name, GR, ILD_log10, DeltaPHI, PHIND, PE, isMarine, \n",
    "                             RELPOS, NPHI, DPHI, PE_FmAvg, NPHI_FmAvg, DPHI_FmAvg, Facies_SHRIMPLIN, \n",
    "                             FmThickness))\n",
    "format(head(df_fe, 5), digits=3)"
   ]
  },
  {
   "cell_type": "code",
   "execution_count": 113,
   "metadata": {
    "collapsed": false
   },
   "outputs": [
    {
     "data": {
      "text/html": [
       "<ol class=list-inline>\n",
       "\t<li>'Facies'</li>\n",
       "\t<li>'Formation'</li>\n",
       "\t<li>'Well.Name'</li>\n",
       "\t<li>'GR'</li>\n",
       "\t<li>'ILD_log10'</li>\n",
       "\t<li>'DeltaPHI'</li>\n",
       "\t<li>'PHIND'</li>\n",
       "\t<li>'PE'</li>\n",
       "\t<li>'isMarine'</li>\n",
       "\t<li>'RELPOS'</li>\n",
       "\t<li>'NPHI'</li>\n",
       "\t<li>'DPHI'</li>\n",
       "\t<li>'PE_FmAvg'</li>\n",
       "\t<li>'NPHI_FmAvg'</li>\n",
       "\t<li>'DPHI_FmAvg'</li>\n",
       "\t<li>'Facies_SHRIMPLIN'</li>\n",
       "\t<li>'FmThickness'</li>\n",
       "</ol>\n"
      ],
      "text/latex": [
       "\\begin{enumerate*}\n",
       "\\item 'Facies'\n",
       "\\item 'Formation'\n",
       "\\item 'Well.Name'\n",
       "\\item 'GR'\n",
       "\\item 'ILD\\_log10'\n",
       "\\item 'DeltaPHI'\n",
       "\\item 'PHIND'\n",
       "\\item 'PE'\n",
       "\\item 'isMarine'\n",
       "\\item 'RELPOS'\n",
       "\\item 'NPHI'\n",
       "\\item 'DPHI'\n",
       "\\item 'PE\\_FmAvg'\n",
       "\\item 'NPHI\\_FmAvg'\n",
       "\\item 'DPHI\\_FmAvg'\n",
       "\\item 'Facies\\_SHRIMPLIN'\n",
       "\\item 'FmThickness'\n",
       "\\end{enumerate*}\n"
      ],
      "text/markdown": [
       "1. 'Facies'\n",
       "2. 'Formation'\n",
       "3. 'Well.Name'\n",
       "4. 'GR'\n",
       "5. 'ILD_log10'\n",
       "6. 'DeltaPHI'\n",
       "7. 'PHIND'\n",
       "8. 'PE'\n",
       "9. 'isMarine'\n",
       "10. 'RELPOS'\n",
       "11. 'NPHI'\n",
       "12. 'DPHI'\n",
       "13. 'PE_FmAvg'\n",
       "14. 'NPHI_FmAvg'\n",
       "15. 'DPHI_FmAvg'\n",
       "16. 'Facies_SHRIMPLIN'\n",
       "17. 'FmThickness'\n",
       "\n",
       "\n"
      ],
      "text/plain": [
       " [1] \"Facies\"           \"Formation\"        \"Well.Name\"        \"GR\"              \n",
       " [5] \"ILD_log10\"        \"DeltaPHI\"         \"PHIND\"            \"PE\"              \n",
       " [9] \"isMarine\"         \"RELPOS\"           \"NPHI\"             \"DPHI\"            \n",
       "[13] \"PE_FmAvg\"         \"NPHI_FmAvg\"       \"DPHI_FmAvg\"       \"Facies_SHRIMPLIN\"\n",
       "[17] \"FmThickness\"     "
      ]
     },
     "metadata": {},
     "output_type": "display_data"
    }
   ],
   "source": [
    "names(df_fe)"
   ]
  },
  {
   "cell_type": "code",
   "execution_count": 132,
   "metadata": {
    "collapsed": false
   },
   "outputs": [
    {
     "name": "stdout",
     "output_type": "stream",
     "text": [
      "Random Forest \n",
      "\n",
      "4069 samples\n",
      "  15 predictor\n",
      "   9 classes: 'SS', 'CSiS', 'FSiS', 'SiSh', 'MS', 'WS', 'D', 'PS', 'BS' \n",
      "\n",
      "No pre-processing\n",
      "Resampling: Cross-Validated (10 fold) \n",
      "Summary of sample sizes: 3598, 3620, 3608, 3568, 3654, 3606, ... \n",
      "Resampling results across tuning parameters:\n",
      "\n",
      "  mtry  F1       \n",
      "   2    0.5241269\n",
      "   5    0.5596335\n",
      "   9    0.5754837\n",
      "  12    0.5731957\n",
      "  16    0.5770228\n",
      "  19    0.5822769\n",
      "  23    0.5714296\n",
      "  26    0.5736143\n",
      "  30    0.5654781\n",
      "  34    0.5583793\n",
      "\n",
      "F1 was used to select the optimal model using  the largest value.\n",
      "The final value used for the model was mtry = 19. \n",
      "         F1        Resample\n",
      "1 0.5545657         SHANKLE\n",
      "2 0.6629464        LUKE G U\n",
      "3 0.6295503       SHRIMPLIN\n",
      "4 0.6180049           NOLAN\n",
      "5 0.5313175           NEWBY\n",
      "6 0.5000000 CHURCHMAN BIBLE\n",
      "7 0.5400000  CROSS H CATTLE\n",
      "8 0.6072961     ALEXANDER D\n",
      "9 0.5968109        KIMZEY A\n"
     ]
    },
    {
     "data": {
      "text/html": [
       "'Time elapsed:'"
      ],
      "text/latex": [
       "'Time elapsed:'"
      ],
      "text/markdown": [
       "'Time elapsed:'"
      ],
      "text/plain": [
       "[1] \"Time elapsed:\""
      ]
     },
     "metadata": {},
     "output_type": "display_data"
    },
    {
     "name": "stdout",
     "output_type": "stream",
     "text": [
      "Time difference of 6.408033 mins\n"
     ]
    }
   ],
   "source": [
    "library(randomForest)\n",
    "library(caret)\n",
    "source(\"accuracyMetrics.R\")\n",
    "\n",
    "t0 <- Sys.time()\n",
    "\n",
    "df <- df_fe\n",
    "\n",
    "# generate resampling list (cross-validation by well)\n",
    "# ------------------------------------------------------------------------------------\n",
    "resamp_list <- list()\n",
    "\n",
    "for (w in unique(df$Well.Name)) {\n",
    "    resamp_list[[w]] <- which(df$Well.Name != w)\n",
    "}\n",
    "# ------------------------------------------------------------------------------------\n",
    "\n",
    "weights <- table(df$Facies[df$Well.Name %in% c(\"SHRIMPLIN\", \"CHURCHMAN BIBLE\")])\n",
    "\n",
    "# perform cross-validation by building model and outputting results\n",
    "# ------------------------------------------------------------------------------------\n",
    "set.seed(1234)\n",
    "fitControl <- trainControl(index=resamp_list, method=\"cv\", summaryFunction=myF1MetricCaret)\n",
    "fit <- train(Facies ~ ., data=subset(df, select=-c(Well.Name)), method=\"rf\",\n",
    "             trControl=fitControl, metric=\"F1\", ntree=100, classwt=weights,\n",
    "             tuneLength=10)\n",
    "# ------------------------------------------------------------------------------------\n",
    "\n",
    "print(fit)\n",
    "print(fit[[\"resample\"]])\n",
    "\n",
    "tn <- Sys.time()\n",
    "\"Time elapsed:\"\n",
    "print(tn-t0)"
   ]
  },
  {
   "cell_type": "code",
   "execution_count": 161,
   "metadata": {
    "collapsed": false
   },
   "outputs": [
    {
     "data": {
      "text/html": [
       "<table>\n",
       "<thead><tr><th scope=col>Formation</th><th scope=col>Well.Name</th><th scope=col>Depth</th><th scope=col>GR</th><th scope=col>ILD_log10</th><th scope=col>DeltaPHI</th><th scope=col>PHIND</th><th scope=col>PE</th><th scope=col>isMarine</th><th scope=col>RELPOS</th><th scope=col>NPHI</th><th scope=col>DPHI</th><th scope=col>Facies</th><th scope=col>PE_FmAvg</th><th scope=col>NPHI_FmAvg</th><th scope=col>DPHI_FmAvg</th><th scope=col>Facies_SHRIMPLIN</th><th scope=col>FmThickness</th></tr></thead>\n",
       "<tbody>\n",
       "\t<tr><td>A1 SH      </td><td>STUART     </td><td>2808.0     </td><td> 9.456099  </td><td>-0.08246624</td><td>0.009493671</td><td>-0.7239451 </td><td>-0.1531477 </td><td>FALSE      </td><td>1.000      </td><td>-0.7191983 </td><td>-0.728692  </td><td>NA         </td><td>-0.6339616 </td><td>1.906383   </td><td>-0.3449711 </td><td>3          </td><td>21.5       </td></tr>\n",
       "\t<tr><td>A1 SH      </td><td>STUART     </td><td>2808.5     </td><td>20.432099  </td><td>-0.12746624</td><td>3.209493671</td><td> 0.5760549 </td><td>-0.4031477 </td><td>FALSE      </td><td>0.978      </td><td> 2.1808017 </td><td>-1.028692  </td><td>NA         </td><td>-0.6339616 </td><td>1.906383   </td><td>-0.3449711 </td><td>3          </td><td>21.5       </td></tr>\n",
       "\t<tr><td>A1 SH      </td><td>STUART     </td><td>2809.0     </td><td>26.079099  </td><td>-0.14646624</td><td>6.109493671</td><td> 2.2260549 </td><td>-0.6801477 </td><td>FALSE      </td><td>0.956      </td><td> 5.2808017 </td><td>-0.828692  </td><td>NA         </td><td>-0.6339616 </td><td>1.906383   </td><td>-0.3449711 </td><td>3          </td><td>21.5       </td></tr>\n",
       "\t<tr><td>A1 SH      </td><td>STUART     </td><td>2809.5     </td><td>23.851099  </td><td>-0.11946624</td><td>6.209493671</td><td> 1.8760549 </td><td>-0.7671477 </td><td>FALSE      </td><td>0.933      </td><td> 4.9808017 </td><td>-1.228692  </td><td>NA         </td><td>-0.6339616 </td><td>1.906383   </td><td>-0.3449711 </td><td>3          </td><td>21.5       </td></tr>\n",
       "\t<tr><td>A1 SH      </td><td>STUART     </td><td>2810.0     </td><td>19.151099  </td><td>-0.07446624</td><td>5.409493671</td><td> 0.9760549 </td><td>-0.7241477 </td><td>FALSE      </td><td>0.911      </td><td> 3.6808017 </td><td>-1.728692  </td><td>NA         </td><td>-0.6339616 </td><td>1.906383   </td><td>-0.3449711 </td><td>3          </td><td>21.5       </td></tr>\n",
       "\t<tr><td>A1 SH      </td><td>STUART     </td><td>2810.5     </td><td>17.135099  </td><td>-0.04546624</td><td>3.609493671</td><td> 0.8760549 </td><td>-0.6581477 </td><td>FALSE      </td><td>0.889      </td><td> 2.6808017 </td><td>-0.928692  </td><td>NA         </td><td>-0.6339616 </td><td>1.906383   </td><td>-0.3449711 </td><td>3          </td><td>21.5       </td></tr>\n",
       "</tbody>\n",
       "</table>\n"
      ],
      "text/latex": [
       "\\begin{tabular}{r|llllllllllllllllll}\n",
       " Formation & Well.Name & Depth & GR & ILD\\_log10 & DeltaPHI & PHIND & PE & isMarine & RELPOS & NPHI & DPHI & Facies & PE\\_FmAvg & NPHI\\_FmAvg & DPHI\\_FmAvg & Facies\\_SHRIMPLIN & FmThickness\\\\\n",
       "\\hline\n",
       "\t A1 SH       & STUART      & 2808.0      &  9.456099   & -0.08246624 & 0.009493671 & -0.7239451  & -0.1531477  & FALSE       & 1.000       & -0.7191983  & -0.728692   & NA          & -0.6339616  & 1.906383    & -0.3449711  & 3           & 21.5       \\\\\n",
       "\t A1 SH       & STUART      & 2808.5      & 20.432099   & -0.12746624 & 3.209493671 &  0.5760549  & -0.4031477  & FALSE       & 0.978       &  2.1808017  & -1.028692   & NA          & -0.6339616  & 1.906383    & -0.3449711  & 3           & 21.5       \\\\\n",
       "\t A1 SH       & STUART      & 2809.0      & 26.079099   & -0.14646624 & 6.109493671 &  2.2260549  & -0.6801477  & FALSE       & 0.956       &  5.2808017  & -0.828692   & NA          & -0.6339616  & 1.906383    & -0.3449711  & 3           & 21.5       \\\\\n",
       "\t A1 SH       & STUART      & 2809.5      & 23.851099   & -0.11946624 & 6.209493671 &  1.8760549  & -0.7671477  & FALSE       & 0.933       &  4.9808017  & -1.228692   & NA          & -0.6339616  & 1.906383    & -0.3449711  & 3           & 21.5       \\\\\n",
       "\t A1 SH       & STUART      & 2810.0      & 19.151099   & -0.07446624 & 5.409493671 &  0.9760549  & -0.7241477  & FALSE       & 0.911       &  3.6808017  & -1.728692   & NA          & -0.6339616  & 1.906383    & -0.3449711  & 3           & 21.5       \\\\\n",
       "\t A1 SH       & STUART      & 2810.5      & 17.135099   & -0.04546624 & 3.609493671 &  0.8760549  & -0.6581477  & FALSE       & 0.889       &  2.6808017  & -0.928692   & NA          & -0.6339616  & 1.906383    & -0.3449711  & 3           & 21.5       \\\\\n",
       "\\end{tabular}\n"
      ],
      "text/plain": [
       "  Formation Well.Name Depth  GR        ILD_log10   DeltaPHI    PHIND     \n",
       "1 A1 SH     STUART    2808.0  9.456099 -0.08246624 0.009493671 -0.7239451\n",
       "2 A1 SH     STUART    2808.5 20.432099 -0.12746624 3.209493671  0.5760549\n",
       "3 A1 SH     STUART    2809.0 26.079099 -0.14646624 6.109493671  2.2260549\n",
       "4 A1 SH     STUART    2809.5 23.851099 -0.11946624 6.209493671  1.8760549\n",
       "5 A1 SH     STUART    2810.0 19.151099 -0.07446624 5.409493671  0.9760549\n",
       "6 A1 SH     STUART    2810.5 17.135099 -0.04546624 3.609493671  0.8760549\n",
       "  PE         isMarine RELPOS NPHI       DPHI      Facies PE_FmAvg   NPHI_FmAvg\n",
       "1 -0.1531477 FALSE    1.000  -0.7191983 -0.728692 NA     -0.6339616 1.906383  \n",
       "2 -0.4031477 FALSE    0.978   2.1808017 -1.028692 NA     -0.6339616 1.906383  \n",
       "3 -0.6801477 FALSE    0.956   5.2808017 -0.828692 NA     -0.6339616 1.906383  \n",
       "4 -0.7671477 FALSE    0.933   4.9808017 -1.228692 NA     -0.6339616 1.906383  \n",
       "5 -0.7241477 FALSE    0.911   3.6808017 -1.728692 NA     -0.6339616 1.906383  \n",
       "6 -0.6581477 FALSE    0.889   2.6808017 -0.928692 NA     -0.6339616 1.906383  \n",
       "  DPHI_FmAvg Facies_SHRIMPLIN FmThickness\n",
       "1 -0.3449711 3                21.5       \n",
       "2 -0.3449711 3                21.5       \n",
       "3 -0.3449711 3                21.5       \n",
       "4 -0.3449711 3                21.5       \n",
       "5 -0.3449711 3                21.5       \n",
       "6 -0.3449711 3                21.5       "
      ]
     },
     "metadata": {},
     "output_type": "display_data"
    }
   ],
   "source": [
    "library(dplyr)\n",
    "source(\"preProcData.R\")\n",
    "\n",
    "# load the hold-out test set\n",
    "testName <- \"../validation_data_nofacies.csv\"\n",
    "df_test <- read.csv(testName, colClasses=c(rep(\"factor\",2), rep(\"numeric\",6), \"factor\", \"numeric\"))\n",
    "df_test <- cleanData(df_test)\n",
    "df_test$Facies <- NA\n",
    "\n",
    "# center data by subtracting mean by well\n",
    "# ------------------------------------------------------------------------------------\n",
    "df_test <- mutate(group_by(df_test, Well.Name),\n",
    "                 GR = GR - mean(GR),\n",
    "                 ILD_log10 = ILD_log10 - mean(ILD_log10),\n",
    "                 DeltaPHI = DeltaPHI - mean(DeltaPHI),\n",
    "                 PHIND = PHIND - mean(PHIND),\n",
    "                 PE = PE - mean(PE),\n",
    "                 NPHI = NPHI - mean(NPHI),\n",
    "                 DPHI = DPHI - mean(DPHI)\n",
    "            )\n",
    "# ------------------------------------------------------------------------------------\n",
    "\n",
    "# formation averages of log data\n",
    "# ------------------------------------------------------------------------------------\n",
    "df_test <- mutate(group_by(df_test, Formation), \n",
    "                 PE_FmAvg = mean(PE, na.rm=T),\n",
    "                 NPHI_FmAvg = mean(NPHI),\n",
    "                 DPHI_FmAvg = mean(DPHI))\n",
    "# ------------------------------------------------------------------------------------\n",
    "\n",
    "# project SHRIMPLIN facies onto wells\n",
    "# ------------------------------------------------------------------------------------\n",
    "testWells <- unique(df_test$Well.Name)\n",
    "df_SHRIMPLIN <- df[df$Well.Name == \"SHRIMPLIN\",]\n",
    "for (w in testWells) {\n",
    "    dfw <- df_test[df_test$Well.Name == w,]\n",
    "    formations <- unique(dfw$Formation)\n",
    "    formations <- formations[formations %in% unique(df_SHRIMPLIN$Formation)]\n",
    "    \n",
    "    for (f in formations) {\n",
    "        dfwf <- dfw[dfw$Formation == f,]\n",
    "        df_SHRIMPLINf <- df_SHRIMPLIN[df_SHRIMPLIN$Formation == f,]\n",
    "        \n",
    "        for (i in 1:nrow(dfwf)) {\n",
    "            depth <- dfwf$Depth[i]\n",
    "            relpos <- dfwf$RELPOS[i]\n",
    "            row_shrimplin <- which.min(abs(relpos-df_SHRIMPLINf$RELPOS))\n",
    "            df_test[df_test$Well.Name == w & df_test$Depth == depth, \"Facies_SHRIMPLIN\"] <- df_SHRIMPLINf$Facies[row_shrimplin]\n",
    "        }\n",
    "    }\n",
    "}\n",
    "\n",
    "levels(df_test$Facies_SHRIMPLIN) <- c(1:9)\n",
    "# ------------------------------------------------------------------------------------\n",
    "\n",
    "# calculate formation thickness\n",
    "# ------------------------------------------------------------------------------------\n",
    "df_test <- mutate(group_by(df_test, Formation, Well.Name), FmThickness=(max(Depth)-min(Depth)+.5))\n",
    "# ------------------------------------------------------------------------------------\n",
    "\n",
    "head(df_test)"
   ]
  },
  {
   "cell_type": "code",
   "execution_count": 169,
   "metadata": {
    "collapsed": false
   },
   "outputs": [
    {
     "data": {
      "text/html": [
       "<table>\n",
       "<thead><tr><th scope=col>Formation</th><th scope=col>Well.Name</th><th scope=col>Depth</th><th scope=col>Predicted</th><th scope=col>PredictedAsNum</th></tr></thead>\n",
       "<tbody>\n",
       "\t<tr><td>A1 SH </td><td>STUART</td><td>2808  </td><td>FSiS  </td><td>3     </td></tr>\n",
       "\t<tr><td>A1 SH </td><td>STUART</td><td>2808  </td><td>FSiS  </td><td>3     </td></tr>\n",
       "\t<tr><td>A1 SH </td><td>STUART</td><td>2809  </td><td>FSiS  </td><td>3     </td></tr>\n",
       "\t<tr><td>A1 SH </td><td>STUART</td><td>2810  </td><td>FSiS  </td><td>3     </td></tr>\n",
       "\t<tr><td>A1 SH </td><td>STUART</td><td>2810  </td><td>FSiS  </td><td>3     </td></tr>\n",
       "\t<tr><td>A1 SH </td><td>STUART</td><td>2810  </td><td>FSiS  </td><td>3     </td></tr>\n",
       "</tbody>\n",
       "</table>\n"
      ],
      "text/latex": [
       "\\begin{tabular}{r|lllll}\n",
       " Formation & Well.Name & Depth & Predicted & PredictedAsNum\\\\\n",
       "\\hline\n",
       "\t A1 SH  & STUART & 2808   & FSiS   & 3     \\\\\n",
       "\t A1 SH  & STUART & 2808   & FSiS   & 3     \\\\\n",
       "\t A1 SH  & STUART & 2809   & FSiS   & 3     \\\\\n",
       "\t A1 SH  & STUART & 2810   & FSiS   & 3     \\\\\n",
       "\t A1 SH  & STUART & 2810   & FSiS   & 3     \\\\\n",
       "\t A1 SH  & STUART & 2810   & FSiS   & 3     \\\\\n",
       "\\end{tabular}\n"
      ],
      "text/plain": [
       "  Formation Well.Name Depth Predicted PredictedAsNum\n",
       "1 A1 SH     STUART    2808  FSiS      3             \n",
       "2 A1 SH     STUART    2808  FSiS      3             \n",
       "3 A1 SH     STUART    2809  FSiS      3             \n",
       "4 A1 SH     STUART    2810  FSiS      3             \n",
       "5 A1 SH     STUART    2810  FSiS      3             \n",
       "6 A1 SH     STUART    2810  FSiS      3             "
      ]
     },
     "metadata": {},
     "output_type": "display_data"
    }
   ],
   "source": [
    "df_test$Predicted <- predict(fit, df_test)\n",
    "df_test$PredictedAsNum <- match(df_test$Predicted, c(\"SS\", \"CSiS\", \"FSiS\", \"SiSh\", \"MS\", \"WS\", \"D\", \"PS\", \"BS\"))\n",
    "\n",
    "output <- subset(df_test, select=c(Formation, Well.Name, Depth, Predicted, PredictedAsNum))\n",
    "format(head(output), digits=3)\n",
    "\n",
    "# save predictions to *.csv file\n",
    "write.csv(output, \"jpoirier008_submission001.csv\", row.names=F)"
   ]
  }
 ],
 "metadata": {
  "kernelspec": {
   "display_name": "R 3.2",
   "language": "R",
   "name": "ir32"
  },
  "language_info": {
   "codemirror_mode": "r",
   "file_extension": ".r",
   "mimetype": "text/x-r-source",
   "name": "R",
   "pygments_lexer": "r",
   "version": "3.2.4"
  }
 },
 "nbformat": 4,
 "nbformat_minor": 0
}
