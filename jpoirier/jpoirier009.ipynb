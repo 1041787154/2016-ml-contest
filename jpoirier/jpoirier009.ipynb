{
 "cells": [
  {
   "cell_type": "markdown",
   "metadata": {},
   "source": [
    "### Getting and cleaning data"
   ]
  },
  {
   "cell_type": "code",
   "execution_count": 1,
   "metadata": {
    "collapsed": false
   },
   "outputs": [
    {
     "data": {
      "text/html": [
       "'Raw data:'"
      ],
      "text/latex": [
       "'Raw data:'"
      ],
      "text/markdown": [
       "'Raw data:'"
      ],
      "text/plain": [
       "[1] \"Raw data:\""
      ]
     },
     "metadata": {},
     "output_type": "display_data"
    },
    {
     "data": {
      "text/html": [
       "<table>\n",
       "<thead><tr><th scope=col>Facies</th><th scope=col>Formation</th><th scope=col>Well.Name</th><th scope=col>Depth</th><th scope=col>GR</th><th scope=col>ILD_log10</th><th scope=col>DeltaPHI</th><th scope=col>PHIND</th><th scope=col>PE</th><th scope=col>NM_M</th><th scope=col>RELPOS</th></tr></thead>\n",
       "<tbody>\n",
       "\t<tr><td>3        </td><td>A1 SH    </td><td>SHRIMPLIN</td><td>2793     </td><td>77.5     </td><td>0.664    </td><td> 9.9     </td><td>11.9     </td><td>4.6      </td><td>1        </td><td>1.000    </td></tr>\n",
       "\t<tr><td>3        </td><td>A1 SH    </td><td>SHRIMPLIN</td><td>2794     </td><td>78.3     </td><td>0.661    </td><td>14.2     </td><td>12.6     </td><td>4.1      </td><td>1        </td><td>0.979    </td></tr>\n",
       "\t<tr><td>3        </td><td>A1 SH    </td><td>SHRIMPLIN</td><td>2794     </td><td>79.0     </td><td>0.658    </td><td>14.8     </td><td>13.1     </td><td>3.6      </td><td>1        </td><td>0.957    </td></tr>\n",
       "</tbody>\n",
       "</table>\n"
      ],
      "text/latex": [
       "\\begin{tabular}{r|lllllllllll}\n",
       " Facies & Formation & Well.Name & Depth & GR & ILD\\_log10 & DeltaPHI & PHIND & PE & NM\\_M & RELPOS\\\\\n",
       "\\hline\n",
       "\t 3         & A1 SH     & SHRIMPLIN & 2793      & 77.5      & 0.664     &  9.9      & 11.9      & 4.6       & 1         & 1.000    \\\\\n",
       "\t 3         & A1 SH     & SHRIMPLIN & 2794      & 78.3      & 0.661     & 14.2      & 12.6      & 4.1       & 1         & 0.979    \\\\\n",
       "\t 3         & A1 SH     & SHRIMPLIN & 2794      & 79.0      & 0.658     & 14.8      & 13.1      & 3.6       & 1         & 0.957    \\\\\n",
       "\\end{tabular}\n"
      ],
      "text/plain": [
       "  Facies Formation Well.Name Depth GR   ILD_log10 DeltaPHI PHIND PE  NM_M\n",
       "1 3      A1 SH     SHRIMPLIN 2793  77.5 0.664      9.9     11.9  4.6 1   \n",
       "2 3      A1 SH     SHRIMPLIN 2794  78.3 0.661     14.2     12.6  4.1 1   \n",
       "3 3      A1 SH     SHRIMPLIN 2794  79.0 0.658     14.8     13.1  3.6 1   \n",
       "  RELPOS\n",
       "1 1.000 \n",
       "2 0.979 \n",
       "3 0.957 "
      ]
     },
     "metadata": {},
     "output_type": "display_data"
    },
    {
     "data": {
      "text/html": [
       "'Cleaned data:'"
      ],
      "text/latex": [
       "'Cleaned data:'"
      ],
      "text/markdown": [
       "'Cleaned data:'"
      ],
      "text/plain": [
       "[1] \"Cleaned data:\""
      ]
     },
     "metadata": {},
     "output_type": "display_data"
    },
    {
     "data": {
      "text/html": [
       "<table>\n",
       "<thead><tr><th scope=col>Facies</th><th scope=col>Formation</th><th scope=col>Well.Name</th><th scope=col>Depth</th><th scope=col>GR</th><th scope=col>ILD_log10</th><th scope=col>DeltaPHI</th><th scope=col>PHIND</th><th scope=col>PE</th><th scope=col>isMarine</th><th scope=col>RELPOS</th></tr></thead>\n",
       "<tbody>\n",
       "\t<tr><td>FSiS     </td><td>A1 SH    </td><td>SHRIMPLIN</td><td>2793     </td><td>77.5     </td><td>0.664    </td><td> 9.9     </td><td>11.9     </td><td>4.6      </td><td>FALSE    </td><td>1.000    </td></tr>\n",
       "\t<tr><td>FSiS     </td><td>A1 SH    </td><td>SHRIMPLIN</td><td>2794     </td><td>78.3     </td><td>0.661    </td><td>14.2     </td><td>12.6     </td><td>4.1      </td><td>FALSE    </td><td>0.979    </td></tr>\n",
       "\t<tr><td>FSiS     </td><td>A1 SH    </td><td>SHRIMPLIN</td><td>2794     </td><td>79.0     </td><td>0.658    </td><td>14.8     </td><td>13.1     </td><td>3.6      </td><td>FALSE    </td><td>0.957    </td></tr>\n",
       "</tbody>\n",
       "</table>\n"
      ],
      "text/latex": [
       "\\begin{tabular}{r|lllllllllll}\n",
       " Facies & Formation & Well.Name & Depth & GR & ILD\\_log10 & DeltaPHI & PHIND & PE & isMarine & RELPOS\\\\\n",
       "\\hline\n",
       "\t FSiS      & A1 SH     & SHRIMPLIN & 2793      & 77.5      & 0.664     &  9.9      & 11.9      & 4.6       & FALSE     & 1.000    \\\\\n",
       "\t FSiS      & A1 SH     & SHRIMPLIN & 2794      & 78.3      & 0.661     & 14.2      & 12.6      & 4.1       & FALSE     & 0.979    \\\\\n",
       "\t FSiS      & A1 SH     & SHRIMPLIN & 2794      & 79.0      & 0.658     & 14.8      & 13.1      & 3.6       & FALSE     & 0.957    \\\\\n",
       "\\end{tabular}\n"
      ],
      "text/plain": [
       "  Facies Formation Well.Name Depth GR   ILD_log10 DeltaPHI PHIND PE  isMarine\n",
       "1 FSiS   A1 SH     SHRIMPLIN 2793  77.5 0.664      9.9     11.9  4.6 FALSE   \n",
       "2 FSiS   A1 SH     SHRIMPLIN 2794  78.3 0.661     14.2     12.6  4.1 FALSE   \n",
       "3 FSiS   A1 SH     SHRIMPLIN 2794  79.0 0.658     14.8     13.1  3.6 FALSE   \n",
       "  RELPOS\n",
       "1 1.000 \n",
       "2 0.979 \n",
       "3 0.957 "
      ]
     },
     "metadata": {},
     "output_type": "display_data"
    },
    {
     "data": {
      "text/html": [
       "'Centered and scaled data:'"
      ],
      "text/latex": [
       "'Centered and scaled data:'"
      ],
      "text/markdown": [
       "'Centered and scaled data:'"
      ],
      "text/plain": [
       "[1] \"Centered and scaled data:\""
      ]
     },
     "metadata": {},
     "output_type": "display_data"
    },
    {
     "data": {
      "text/html": [
       "<table>\n",
       "<thead><tr><th scope=col>Facies</th><th scope=col>Formation</th><th scope=col>Well.Name</th><th scope=col>Depth</th><th scope=col>GR</th><th scope=col>ILD_log10</th><th scope=col>DeltaPHI</th><th scope=col>PHIND</th><th scope=col>PE</th><th scope=col>isMarine</th><th scope=col>RELPOS</th></tr></thead>\n",
       "<tbody>\n",
       "\t<tr><td>FSiS     </td><td>A1 SH    </td><td>SHRIMPLIN</td><td>2793     </td><td>0.216    </td><td> 0.01855 </td><td>0.512    </td><td>-0.0487  </td><td> 0.421   </td><td>FALSE    </td><td>1.000    </td></tr>\n",
       "\t<tr><td>FSiS     </td><td>A1 SH    </td><td>SHRIMPLIN</td><td>2794     </td><td>0.237    </td><td> 0.00567 </td><td>1.517    </td><td> 0.0736  </td><td>-0.133   </td><td>FALSE    </td><td>0.979    </td></tr>\n",
       "\t<tr><td>FSiS     </td><td>A1 SH    </td><td>SHRIMPLIN</td><td>2794     </td><td>0.258    </td><td>-0.00721 </td><td>1.657    </td><td> 0.1648  </td><td>-0.687   </td><td>FALSE    </td><td>0.957    </td></tr>\n",
       "</tbody>\n",
       "</table>\n"
      ],
      "text/latex": [
       "\\begin{tabular}{r|lllllllllll}\n",
       " Facies & Formation & Well.Name & Depth & GR & ILD\\_log10 & DeltaPHI & PHIND & PE & isMarine & RELPOS\\\\\n",
       "\\hline\n",
       "\t FSiS      & A1 SH     & SHRIMPLIN & 2793      & 0.216     &  0.01855  & 0.512     & -0.0487   &  0.421    & FALSE     & 1.000    \\\\\n",
       "\t FSiS      & A1 SH     & SHRIMPLIN & 2794      & 0.237     &  0.00567  & 1.517     &  0.0736   & -0.133    & FALSE     & 0.979    \\\\\n",
       "\t FSiS      & A1 SH     & SHRIMPLIN & 2794      & 0.258     & -0.00721  & 1.657     &  0.1648   & -0.687    & FALSE     & 0.957    \\\\\n",
       "\\end{tabular}\n"
      ],
      "text/plain": [
       "  Facies Formation Well.Name Depth GR    ILD_log10 DeltaPHI PHIND   PE    \n",
       "1 FSiS   A1 SH     SHRIMPLIN 2793  0.216  0.01855  0.512    -0.0487  0.421\n",
       "2 FSiS   A1 SH     SHRIMPLIN 2794  0.237  0.00567  1.517     0.0736 -0.133\n",
       "3 FSiS   A1 SH     SHRIMPLIN 2794  0.258 -0.00721  1.657     0.1648 -0.687\n",
       "  isMarine RELPOS\n",
       "1 FALSE    1.000 \n",
       "2 FALSE    0.979 \n",
       "3 FALSE    0.957 "
      ]
     },
     "metadata": {},
     "output_type": "display_data"
    }
   ],
   "source": [
    "source(\"loadData.R\")\n",
    "\n",
    "# load and clean the data\n",
    "raw <- loadData()\n",
    "\n",
    "\"Raw data:\"\n",
    "format(head(raw,3), digits=3)\n",
    "\n",
    "clean <- cleanData(raw)\n",
    "\n",
    "\"Cleaned data:\"\n",
    "format(head(clean,3), digits=3)\n",
    "\n",
    "dataPrime <- data.frame()\n",
    "wells <- unique(clean$Well.Name)\n",
    "\n",
    "for (well_i in wells) {\n",
    "    data_i <- clean[clean$Well.Name == well_i,]\n",
    "    \n",
    "    data_i$GR <- (data_i$GR - mean(data_i$GR, na.rm=T)) / sd(data_i$GR, na.rm=T)\n",
    "    data_i$ILD_log10 <- (data_i$ILD_log10 - mean(data_i$ILD_log10, na.rm=T)) / sd(data_i$ILD_log10, na.rm=T)\n",
    "    data_i$DeltaPHI <- (data_i$DeltaPHI - mean(data_i$DeltaPHI, na.rm=T)) / sd(data_i$DeltaPHI, na.rm=T)\n",
    "    data_i$PHIND <- (data_i$PHIND - mean(data_i$PHIND, na.rm=T)) / sd(data_i$PHIND, na.rm=T)\n",
    "    data_i$PE <- (data_i$PE - mean(data_i$PE, na.rm=T)) / sd(data_i$PE, na.rm=T)\n",
    "    \n",
    "    dataPrime <- rbind(dataPrime, data_i)\n",
    "}\n",
    "\n",
    "cs <- dataPrime\n",
    "rm(dataPrime)\n",
    "\n",
    "\"Centered and scaled data:\"\n",
    "format(head(cs,3), digits=3)"
   ]
  },
  {
   "cell_type": "markdown",
   "metadata": {},
   "source": [
    "### Conditioning the data"
   ]
  },
  {
   "cell_type": "code",
   "execution_count": 2,
   "metadata": {
    "collapsed": false
   },
   "outputs": [
    {
     "data": {
      "text/html": [
       "<table>\n",
       "<thead><tr><th scope=col>Facies</th><th scope=col>Formation</th><th scope=col>Well.Name</th><th scope=col>Depth</th><th scope=col>GR</th><th scope=col>ILD_log10</th><th scope=col>DeltaPHI</th><th scope=col>PHIND</th><th scope=col>PE</th><th scope=col>isMarine</th><th scope=col>RELPOS</th></tr></thead>\n",
       "<tbody>\n",
       "\t<tr><td>FSiS     </td><td>A1 SH    </td><td>SHRIMPLIN</td><td>2793     </td><td>0.216    </td><td> 0.01855 </td><td>0.512    </td><td>-0.0487  </td><td> 0.421   </td><td>FALSE    </td><td>1.000    </td></tr>\n",
       "\t<tr><td>FSiS     </td><td>A1 SH    </td><td>SHRIMPLIN</td><td>2794     </td><td>0.237    </td><td> 0.00567 </td><td>1.517    </td><td> 0.0736  </td><td>-0.133   </td><td>FALSE    </td><td>0.979    </td></tr>\n",
       "\t<tr><td>FSiS     </td><td>A1 SH    </td><td>SHRIMPLIN</td><td>2794     </td><td>0.258    </td><td>-0.00721 </td><td>1.657    </td><td> 0.1648  </td><td>-0.687   </td><td>FALSE    </td><td>0.957    </td></tr>\n",
       "</tbody>\n",
       "</table>\n"
      ],
      "text/latex": [
       "\\begin{tabular}{r|lllllllllll}\n",
       " Facies & Formation & Well.Name & Depth & GR & ILD\\_log10 & DeltaPHI & PHIND & PE & isMarine & RELPOS\\\\\n",
       "\\hline\n",
       "\t FSiS      & A1 SH     & SHRIMPLIN & 2793      & 0.216     &  0.01855  & 0.512     & -0.0487   &  0.421    & FALSE     & 1.000    \\\\\n",
       "\t FSiS      & A1 SH     & SHRIMPLIN & 2794      & 0.237     &  0.00567  & 1.517     &  0.0736   & -0.133    & FALSE     & 0.979    \\\\\n",
       "\t FSiS      & A1 SH     & SHRIMPLIN & 2794      & 0.258     & -0.00721  & 1.657     &  0.1648   & -0.687    & FALSE     & 0.957    \\\\\n",
       "\\end{tabular}\n"
      ],
      "text/plain": [
       "  Facies Formation Well.Name Depth GR    ILD_log10 DeltaPHI PHIND   PE    \n",
       "1 FSiS   A1 SH     SHRIMPLIN 2793  0.216  0.01855  0.512    -0.0487  0.421\n",
       "2 FSiS   A1 SH     SHRIMPLIN 2794  0.237  0.00567  1.517     0.0736 -0.133\n",
       "3 FSiS   A1 SH     SHRIMPLIN 2794  0.258 -0.00721  1.657     0.1648 -0.687\n",
       "  isMarine RELPOS\n",
       "1 FALSE    1.000 \n",
       "2 FALSE    0.979 \n",
       "3 FALSE    0.957 "
      ]
     },
     "metadata": {},
     "output_type": "display_data"
    }
   ],
   "source": [
    "df <- cs\n",
    "\n",
    "\n",
    "format(head(df, 3), digits=3)"
   ]
  },
  {
   "cell_type": "markdown",
   "metadata": {},
   "source": [
    "### Exploratory data analysis"
   ]
  },
  {
   "cell_type": "code",
   "execution_count": 3,
   "metadata": {
    "collapsed": false
   },
   "outputs": [],
   "source": [
    "options(warn=-1)\n",
    "\n",
    "buildMetaRow <- function(formation, well, fmThickness, facies, top, base, df) {\n",
    "    metadf <- data.frame(Formation = formation,\n",
    "                         Well.Name = well,\n",
    "                         Top = top,\n",
    "                         Base = base,\n",
    "                         FmThickness = fmThickness,\n",
    "                         Facies = facies,\n",
    "                         FmRelThickness = (base-top)/fmThickness,\n",
    "                         GR_mean=mean(df$GR), \n",
    "                         ILD_log10_mean=mean(df$ILD_log10), \n",
    "                         dPhi_mean=mean(df$DeltaPHI), \n",
    "                         PHI_mean=mean(df$PHIND), \n",
    "                         PE_mean=mean(df$PE, na.rm=T)\n",
    "                        )\n",
    "    metadf\n",
    "}\n",
    "\n",
    "faciesSequencing <- function(df) {\n",
    "    metadf <- data.frame()\n",
    "    formations <- unique(df$Formation)\n",
    "\n",
    "    for (f in formations) {\n",
    "\n",
    "        df_f <- df[df$Formation == f,]\n",
    "        wells <- unique(df_f$Well.Name)\n",
    "\n",
    "        for (w in wells) {\n",
    "            df_fw <- df_f[df_f$Well.Name == w,]\n",
    "            fmThickness <- max(df_fw$Depth) - min(df_fw$Depth) + .5\n",
    "\n",
    "            # initialize values\n",
    "            top <- df_fw$Depth[1] - .25    # top is .25ft above top sample (.25 is half the .5 sampling interval)\n",
    "            base <- df_fw$Depth[1] + .25   # ditto\n",
    "            facies_prev <- df_fw$Facies[1]\n",
    "\n",
    "            for (i in 1:nrow(df_fw)) {\n",
    "                facies_cur <- df_fw$Facies[i]\n",
    "\n",
    "                # look for change in facies\n",
    "                if (facies_cur != facies_prev) {\n",
    "                    base <- df_fw$Depth[i-1] + ((df_fw$Depth[i] - df_fw$Depth[i-1])/2)\n",
    "                    \n",
    "                    temp <- df_fw[df_fw$Depth >= top & df_fw$Depth < base,]\n",
    "                    metadf <- rbind(metadf, buildMetaRow(f, w, fmThickness, facies_prev, top, base, temp))\n",
    "\n",
    "                    # reset values\n",
    "                    facies_prev <- facies_cur\n",
    "                    top <- df_fw$Depth[i] - ((df_fw$Depth[i] - df_fw$Depth[i-1])/2)\n",
    "                } \n",
    "                \n",
    "                # look for end of data frame\n",
    "                if (i == nrow(df_fw)) {\n",
    "                    base <- df_fw$Depth[i] + .25\n",
    "                    \n",
    "                    temp <- df_fw[df_fw$Depth >= top & df_fw$Depth < base,]\n",
    "                    metadf <- rbind(metadf, buildMetaRow(f, w, fmThickness, facies_prev, top, base, temp))                \n",
    "                }\n",
    "            }\n",
    "        }\n",
    "    }\n",
    "    \n",
    "    metadf\n",
    "}"
   ]
  },
  {
   "cell_type": "markdown",
   "metadata": {},
   "source": [
    "### Feature engineering"
   ]
  },
  {
   "cell_type": "code",
   "execution_count": 4,
   "metadata": {
    "collapsed": false
   },
   "outputs": [
    {
     "name": "stderr",
     "output_type": "stream",
     "text": [
      "\n",
      "Attaching package: 'dplyr'\n",
      "\n",
      "The following objects are masked from 'package:stats':\n",
      "\n",
      "    filter, lag\n",
      "\n",
      "The following objects are masked from 'package:base':\n",
      "\n",
      "    intersect, setdiff, setequal, union\n",
      "\n"
     ]
    },
    {
     "data": {
      "text/html": [
       "<table>\n",
       "<thead><tr><th scope=col>Facies</th><th scope=col>Formation</th><th scope=col>Well.Name</th><th scope=col>Depth</th><th scope=col>GR</th><th scope=col>ILD_log10</th><th scope=col>DeltaPHI</th><th scope=col>PHIND</th><th scope=col>PE</th><th scope=col>isMarine</th><th scope=col>RELPOS</th><th scope=col>FmThickness</th><th scope=col>FmRelDepth</th></tr></thead>\n",
       "<tbody>\n",
       "\t<tr><td>FSiS     </td><td>A1 SH    </td><td>SHRIMPLIN</td><td>2793     </td><td>0.216    </td><td> 0.01855 </td><td>0.512    </td><td>-0.0487  </td><td> 0.421   </td><td>FALSE    </td><td>1.000    </td><td>21.5     </td><td>0.000    </td></tr>\n",
       "\t<tr><td>FSiS     </td><td>A1 SH    </td><td>SHRIMPLIN</td><td>2794     </td><td>0.237    </td><td> 0.00567 </td><td>1.517    </td><td> 0.0736  </td><td>-0.133   </td><td>FALSE    </td><td>0.979    </td><td>21.5     </td><td>0.021    </td></tr>\n",
       "\t<tr><td>FSiS     </td><td>A1 SH    </td><td>SHRIMPLIN</td><td>2794     </td><td>0.258    </td><td>-0.00721 </td><td>1.657    </td><td> 0.1648  </td><td>-0.687   </td><td>FALSE    </td><td>0.957    </td><td>21.5     </td><td>0.043    </td></tr>\n",
       "\t<tr><td>FSiS     </td><td>A1 SH    </td><td>SHRIMPLIN</td><td>2794     </td><td>0.447    </td><td>-0.02009 </td><td>1.447    </td><td> 0.1770  </td><td>-0.797   </td><td>FALSE    </td><td>0.936    </td><td>21.5     </td><td>0.064    </td></tr>\n",
       "\t<tr><td>FSiS     </td><td>A1 SH    </td><td>SHRIMPLIN</td><td>2795     </td><td>0.139    </td><td>-0.05444 </td><td>1.353    </td><td> 0.2118  </td><td>-0.908   </td><td>FALSE    </td><td>0.915    </td><td>21.5     </td><td>0.085    </td></tr>\n",
       "\t<tr><td>FSiS     </td><td>A1 SH    </td><td>SHRIMPLIN</td><td>2796     </td><td>0.122    </td><td>-0.10167 </td><td>1.470    </td><td> 0.2278  </td><td>-0.687   </td><td>FALSE    </td><td>0.894    </td><td>21.5     </td><td>0.106    </td></tr>\n",
       "</tbody>\n",
       "</table>\n"
      ],
      "text/latex": [
       "\\begin{tabular}{r|lllllllllllll}\n",
       " Facies & Formation & Well.Name & Depth & GR & ILD\\_log10 & DeltaPHI & PHIND & PE & isMarine & RELPOS & FmThickness & FmRelDepth\\\\\n",
       "\\hline\n",
       "\t FSiS      & A1 SH     & SHRIMPLIN & 2793      & 0.216     &  0.01855  & 0.512     & -0.0487   &  0.421    & FALSE     & 1.000     & 21.5      & 0.000    \\\\\n",
       "\t FSiS      & A1 SH     & SHRIMPLIN & 2794      & 0.237     &  0.00567  & 1.517     &  0.0736   & -0.133    & FALSE     & 0.979     & 21.5      & 0.021    \\\\\n",
       "\t FSiS      & A1 SH     & SHRIMPLIN & 2794      & 0.258     & -0.00721  & 1.657     &  0.1648   & -0.687    & FALSE     & 0.957     & 21.5      & 0.043    \\\\\n",
       "\t FSiS      & A1 SH     & SHRIMPLIN & 2794      & 0.447     & -0.02009  & 1.447     &  0.1770   & -0.797    & FALSE     & 0.936     & 21.5      & 0.064    \\\\\n",
       "\t FSiS      & A1 SH     & SHRIMPLIN & 2795      & 0.139     & -0.05444  & 1.353     &  0.2118   & -0.908    & FALSE     & 0.915     & 21.5      & 0.085    \\\\\n",
       "\t FSiS      & A1 SH     & SHRIMPLIN & 2796      & 0.122     & -0.10167  & 1.470     &  0.2278   & -0.687    & FALSE     & 0.894     & 21.5      & 0.106    \\\\\n",
       "\\end{tabular}\n"
      ],
      "text/plain": [
       "  Facies Formation Well.Name Depth GR    ILD_log10 DeltaPHI PHIND   PE    \n",
       "1 FSiS   A1 SH     SHRIMPLIN 2793  0.216  0.01855  0.512    -0.0487  0.421\n",
       "2 FSiS   A1 SH     SHRIMPLIN 2794  0.237  0.00567  1.517     0.0736 -0.133\n",
       "3 FSiS   A1 SH     SHRIMPLIN 2794  0.258 -0.00721  1.657     0.1648 -0.687\n",
       "4 FSiS   A1 SH     SHRIMPLIN 2794  0.447 -0.02009  1.447     0.1770 -0.797\n",
       "5 FSiS   A1 SH     SHRIMPLIN 2795  0.139 -0.05444  1.353     0.2118 -0.908\n",
       "6 FSiS   A1 SH     SHRIMPLIN 2796  0.122 -0.10167  1.470     0.2278 -0.687\n",
       "  isMarine RELPOS FmThickness FmRelDepth\n",
       "1 FALSE    1.000  21.5        0.000     \n",
       "2 FALSE    0.979  21.5        0.021     \n",
       "3 FALSE    0.957  21.5        0.043     \n",
       "4 FALSE    0.936  21.5        0.064     \n",
       "5 FALSE    0.915  21.5        0.085     \n",
       "6 FALSE    0.894  21.5        0.106     "
      ]
     },
     "metadata": {},
     "output_type": "display_data"
    }
   ],
   "source": [
    "library(dplyr)\n",
    "\n",
    "# formation depth\n",
    "wells <- unique(df$Well.Name)\n",
    "\n",
    "df <- mutate(group_by(df, Formation, Well.Name), FmThickness=max(Depth)-min(Depth)+.5)\n",
    "df$FmRelDepth <- 1 - df$RELPOS\n",
    "\n",
    "format(head(df), digits=3)"
   ]
  },
  {
   "cell_type": "markdown",
   "metadata": {},
   "source": [
    "### Trial training"
   ]
  },
  {
   "cell_type": "code",
   "execution_count": 29,
   "metadata": {
    "collapsed": false
   },
   "outputs": [
    {
     "data": {
      "text/html": [
       "<table>\n",
       "<thead><tr><th scope=col>Facies</th><th scope=col>Formation</th><th scope=col>Well.Name</th><th scope=col>Depth</th><th scope=col>GR</th><th scope=col>ILD_log10</th><th scope=col>DeltaPHI</th><th scope=col>PHIND</th><th scope=col>PE</th><th scope=col>isMarine</th><th scope=col>...</th><th scope=col>Facies LUKE G U</th><th scope=col>Dist LUKE G U</th><th scope=col>Facies KIMZEY A</th><th scope=col>Dist KIMZEY A</th><th scope=col>Facies CROSS H CATTLE</th><th scope=col>Dist CROSS H CATTLE</th><th scope=col>Facies NOLAN</th><th scope=col>Dist NOLAN</th><th scope=col>Facies NEWBY</th><th scope=col>Dist NEWBY</th></tr></thead>\n",
       "<tbody>\n",
       "\t<tr><td>FSiS     </td><td>A1 SH    </td><td>SHRIMPLIN</td><td>2793     </td><td>0.216    </td><td> 0.01855 </td><td>0.512    </td><td>-0.0487  </td><td> 0.421   </td><td>FALSE    </td><td>...      </td><td>FSiS     </td><td>1.310    </td><td>SS       </td><td>1.17     </td><td>CSiS     </td><td>1.184    </td><td>CSiS     </td><td>2.510    </td><td>FSiS     </td><td>1.255    </td></tr>\n",
       "\t<tr><td>FSiS     </td><td>A1 SH    </td><td>SHRIMPLIN</td><td>2794     </td><td>0.237    </td><td> 0.00567 </td><td>1.517    </td><td> 0.0736  </td><td>-0.133   </td><td>FALSE    </td><td>...      </td><td>FSiS     </td><td>0.559    </td><td>SS       </td><td>1.86     </td><td>CSiS     </td><td>0.606    </td><td>CSiS     </td><td>1.548    </td><td>FSiS     </td><td>0.816    </td></tr>\n",
       "\t<tr><td>FSiS     </td><td>A1 SH    </td><td>SHRIMPLIN</td><td>2794     </td><td>0.258    </td><td>-0.00721 </td><td>1.657    </td><td> 0.1648  </td><td>-0.687   </td><td>FALSE    </td><td>...      </td><td>FSiS     </td><td>0.803    </td><td>SS       </td><td>1.97     </td><td>CSiS     </td><td>0.811    </td><td>FSiS     </td><td>0.746    </td><td>FSiS     </td><td>0.719    </td></tr>\n",
       "\t<tr><td>FSiS     </td><td>A1 SH    </td><td>SHRIMPLIN</td><td>2794     </td><td>0.447    </td><td>-0.02009 </td><td>1.447    </td><td> 0.1770  </td><td>-0.797   </td><td>FALSE    </td><td>...      </td><td>FSiS     </td><td>0.846    </td><td>SS       </td><td>1.72     </td><td>CSiS     </td><td>0.737    </td><td>FSiS     </td><td>0.527    </td><td>FSiS     </td><td>0.543    </td></tr>\n",
       "\t<tr><td>FSiS     </td><td>A1 SH    </td><td>SHRIMPLIN</td><td>2795     </td><td>0.139    </td><td>-0.05444 </td><td>1.353    </td><td> 0.2118  </td><td>-0.908   </td><td>FALSE    </td><td>...      </td><td>FSiS     </td><td>1.061    </td><td>CSiS     </td><td>2.82     </td><td>CSiS     </td><td>0.984    </td><td>FSiS     </td><td>0.528    </td><td>FSiS     </td><td>0.565    </td></tr>\n",
       "\t<tr><td>FSiS     </td><td>A1 SH    </td><td>SHRIMPLIN</td><td>2796     </td><td>0.122    </td><td>-0.10167 </td><td>1.470    </td><td> 0.2278  </td><td>-0.687   </td><td>FALSE    </td><td>...      </td><td>FSiS     </td><td>0.936    </td><td>CSiS     </td><td>2.92     </td><td>CSiS     </td><td>0.892    </td><td>FSiS     </td><td>0.613    </td><td>FSiS     </td><td>0.645    </td></tr>\n",
       "</tbody>\n",
       "</table>\n"
      ],
      "text/latex": [
       "\\begin{tabular}{r|lllllllllllllllllllllllllll}\n",
       " Facies & Formation & Well.Name & Depth & GR & ILD\\_log10 & DeltaPHI & PHIND & PE & isMarine & ... & Facies LUKE G U & Dist LUKE G U & Facies KIMZEY A & Dist KIMZEY A & Facies CROSS H CATTLE & Dist CROSS H CATTLE & Facies NOLAN & Dist NOLAN & Facies NEWBY & Dist NEWBY\\\\\n",
       "\\hline\n",
       "\t FSiS      & A1 SH     & SHRIMPLIN & 2793      & 0.216     &  0.01855  & 0.512     & -0.0487   &  0.421    & FALSE     & ...       & FSiS      & 1.310     & SS        & 1.17      & CSiS      & 1.184     & CSiS      & 2.510     & FSiS      & 1.255    \\\\\n",
       "\t FSiS      & A1 SH     & SHRIMPLIN & 2794      & 0.237     &  0.00567  & 1.517     &  0.0736   & -0.133    & FALSE     & ...       & FSiS      & 0.559     & SS        & 1.86      & CSiS      & 0.606     & CSiS      & 1.548     & FSiS      & 0.816    \\\\\n",
       "\t FSiS      & A1 SH     & SHRIMPLIN & 2794      & 0.258     & -0.00721  & 1.657     &  0.1648   & -0.687    & FALSE     & ...       & FSiS      & 0.803     & SS        & 1.97      & CSiS      & 0.811     & FSiS      & 0.746     & FSiS      & 0.719    \\\\\n",
       "\t FSiS      & A1 SH     & SHRIMPLIN & 2794      & 0.447     & -0.02009  & 1.447     &  0.1770   & -0.797    & FALSE     & ...       & FSiS      & 0.846     & SS        & 1.72      & CSiS      & 0.737     & FSiS      & 0.527     & FSiS      & 0.543    \\\\\n",
       "\t FSiS      & A1 SH     & SHRIMPLIN & 2795      & 0.139     & -0.05444  & 1.353     &  0.2118   & -0.908    & FALSE     & ...       & FSiS      & 1.061     & CSiS      & 2.82      & CSiS      & 0.984     & FSiS      & 0.528     & FSiS      & 0.565    \\\\\n",
       "\t FSiS      & A1 SH     & SHRIMPLIN & 2796      & 0.122     & -0.10167  & 1.470     &  0.2278   & -0.687    & FALSE     & ...       & FSiS      & 0.936     & CSiS      & 2.92      & CSiS      & 0.892     & FSiS      & 0.613     & FSiS      & 0.645    \\\\\n",
       "\\end{tabular}\n"
      ],
      "text/plain": [
       "  Facies Formation Well.Name Depth GR    ILD_log10 DeltaPHI PHIND   PE    \n",
       "1 FSiS   A1 SH     SHRIMPLIN 2793  0.216  0.01855  0.512    -0.0487  0.421\n",
       "2 FSiS   A1 SH     SHRIMPLIN 2794  0.237  0.00567  1.517     0.0736 -0.133\n",
       "3 FSiS   A1 SH     SHRIMPLIN 2794  0.258 -0.00721  1.657     0.1648 -0.687\n",
       "4 FSiS   A1 SH     SHRIMPLIN 2794  0.447 -0.02009  1.447     0.1770 -0.797\n",
       "5 FSiS   A1 SH     SHRIMPLIN 2795  0.139 -0.05444  1.353     0.2118 -0.908\n",
       "6 FSiS   A1 SH     SHRIMPLIN 2796  0.122 -0.10167  1.470     0.2278 -0.687\n",
       "  isMarine ... Facies LUKE G U Dist LUKE G U Facies KIMZEY A Dist KIMZEY A\n",
       "1 FALSE    ... FSiS            1.310         SS              1.17         \n",
       "2 FALSE    ... FSiS            0.559         SS              1.86         \n",
       "3 FALSE    ... FSiS            0.803         SS              1.97         \n",
       "4 FALSE    ... FSiS            0.846         SS              1.72         \n",
       "5 FALSE    ... FSiS            1.061         CSiS            2.82         \n",
       "6 FALSE    ... FSiS            0.936         CSiS            2.92         \n",
       "  Facies CROSS H CATTLE Dist CROSS H CATTLE Facies NOLAN Dist NOLAN\n",
       "1 CSiS                  1.184               CSiS         2.510     \n",
       "2 CSiS                  0.606               CSiS         1.548     \n",
       "3 CSiS                  0.811               FSiS         0.746     \n",
       "4 CSiS                  0.737               FSiS         0.527     \n",
       "5 CSiS                  0.984               FSiS         0.528     \n",
       "6 CSiS                  0.892               FSiS         0.613     \n",
       "  Facies NEWBY Dist NEWBY\n",
       "1 FSiS         1.255     \n",
       "2 FSiS         0.816     \n",
       "3 FSiS         0.719     \n",
       "4 FSiS         0.543     \n",
       "5 FSiS         0.565     \n",
       "6 FSiS         0.645     "
      ]
     },
     "metadata": {},
     "output_type": "display_data"
    }
   ],
   "source": [
    "library(dplyr)\n",
    "\n",
    "# use SHRIMPLIN & CHURCHMAN BIBLE as test wells\n",
    "train <- df[df$Well.Name != \"SHRIMPLIN\" & df$Well.Name != \"CHURCHMAN BIBLE\",]\n",
    "test <- df[df$Well.Name == \"SHRIMPLIN\" | df$Well.Name == \"CHURCHMAN BIBLE\",]\n",
    "\n",
    "meta <- faciesSequencing(train)\n",
    "meta <- mutate(group_by(meta, Formation, Well.Name), FmCumThickness=cumsum(FmRelThickness))\n",
    "\n",
    "metawells <- unique(meta$Well.Name)\n",
    "metawells <- metawells[!metawells %in% c(\"Recruit F9\")]\n",
    "testwells <- unique(test$Well.Name)\n",
    "testPrime <- data.frame()\n",
    "\n",
    "for (w in testwells) {\n",
    "    test_w <- test[test$Well.Name == w,]\n",
    "    \n",
    "    for (i in 1:nrow(test_w)) {\n",
    "        for (mw in metawells) {\n",
    "            meta_mw <- meta[meta$Well.Name == mw & \n",
    "                            meta$Formation == test_w$Formation[i] &\n",
    "                            test_w$FmRelDepth[i] < meta$FmCumThickness,\n",
    "                           ]\n",
    "            \n",
    "            test_w[i, paste(\"Facies\", mw)] <- meta_mw$Facies[1]\n",
    "            \n",
    "            # calculate distance\n",
    "            GR_dist <- test_w[i, \"GR\"] - meta_mw$GR_mean[1]\n",
    "            ILD_log10_dist <- test_w[i, \"ILD_log10\"] - meta_mw$ILD_log10_mean[1]\n",
    "            dPhi_dist <- test_w[i, \"DeltaPHI\"] - meta_mw$dPhi_mean[1]\n",
    "            PHIND_dist <- test_w[i, \"PHIND\"] - meta_mw$PHI_mean[1]\n",
    "            PE_dist <- test_w[i, \"PE\"] - meta_mw$PE_mean[1]\n",
    "\n",
    "            if (is.na(PE_dist)) {\n",
    "                dist <- sum(GR_dist^2 + ILD_log10_dist^2 + dPhi_dist^2 + PHIND_dist^2)^0.5\n",
    "            } else {\n",
    "                dist <- sum(GR_dist^2 + ILD_log10_dist^2 + dPhi_dist^2 + PHIND_dist^2 + PE_dist^2)^0.5\n",
    "            }\n",
    "            \n",
    "            test_w[i, paste(\"Dist\", mw)] <- dist\n",
    "        }\n",
    "    }\n",
    "    \n",
    "    testPrime <- rbind(testPrime, test_w) \n",
    "}\n",
    "\n",
    "format(head(testPrime), digits=3)"
   ]
  },
  {
   "cell_type": "markdown",
   "metadata": {},
   "source": [
    "### Trial prediction"
   ]
  },
  {
   "cell_type": "code",
   "execution_count": 113,
   "metadata": {
    "collapsed": false
   },
   "outputs": [
    {
     "data": {
      "text/html": [
       "<table>\n",
       "<thead><tr><th scope=col>Formation</th><th scope=col>Well.Name</th><th scope=col>Depth</th><th scope=col>GR</th><th scope=col>ILD_log10</th><th scope=col>DeltaPHI</th><th scope=col>PHIND</th><th scope=col>PE</th><th scope=col>isMarine</th><th scope=col>RELPOS</th><th scope=col>Facies</th><th scope=col>Predicted</th></tr></thead>\n",
       "<tbody>\n",
       "\t<tr><td>A1 SH    </td><td>SHRIMPLIN</td><td>2793     </td><td>0.216    </td><td> 0.01855 </td><td>0.512    </td><td>-0.0487  </td><td> 0.421   </td><td>FALSE    </td><td>1.000    </td><td>FSiS     </td><td>FSiS     </td></tr>\n",
       "\t<tr><td>A1 SH    </td><td>SHRIMPLIN</td><td>2794     </td><td>0.237    </td><td> 0.00567 </td><td>1.517    </td><td> 0.0736  </td><td>-0.133   </td><td>FALSE    </td><td>0.979    </td><td>FSiS     </td><td>CSiS     </td></tr>\n",
       "\t<tr><td>A1 SH    </td><td>SHRIMPLIN</td><td>2794     </td><td>0.258    </td><td>-0.00721 </td><td>1.657    </td><td> 0.1648  </td><td>-0.687   </td><td>FALSE    </td><td>0.957    </td><td>FSiS     </td><td>FSiS     </td></tr>\n",
       "</tbody>\n",
       "</table>\n"
      ],
      "text/latex": [
       "\\begin{tabular}{r|llllllllllll}\n",
       " Formation & Well.Name & Depth & GR & ILD\\_log10 & DeltaPHI & PHIND & PE & isMarine & RELPOS & Facies & Predicted\\\\\n",
       "\\hline\n",
       "\t A1 SH     & SHRIMPLIN & 2793      & 0.216     &  0.01855  & 0.512     & -0.0487   &  0.421    & FALSE     & 1.000     & FSiS      & FSiS     \\\\\n",
       "\t A1 SH     & SHRIMPLIN & 2794      & 0.237     &  0.00567  & 1.517     &  0.0736   & -0.133    & FALSE     & 0.979     & FSiS      & CSiS     \\\\\n",
       "\t A1 SH     & SHRIMPLIN & 2794      & 0.258     & -0.00721  & 1.657     &  0.1648   & -0.687    & FALSE     & 0.957     & FSiS      & FSiS     \\\\\n",
       "\\end{tabular}\n"
      ],
      "text/plain": [
       "  Formation Well.Name Depth GR    ILD_log10 DeltaPHI PHIND   PE     isMarine\n",
       "1 A1 SH     SHRIMPLIN 2793  0.216  0.01855  0.512    -0.0487  0.421 FALSE   \n",
       "2 A1 SH     SHRIMPLIN 2794  0.237  0.00567  1.517     0.0736 -0.133 FALSE   \n",
       "3 A1 SH     SHRIMPLIN 2794  0.258 -0.00721  1.657     0.1648 -0.687 FALSE   \n",
       "  RELPOS Facies Predicted\n",
       "1 1.000  FSiS   FSiS     \n",
       "2 0.979  FSiS   CSiS     \n",
       "3 0.957  FSiS   FSiS     "
      ]
     },
     "metadata": {},
     "output_type": "display_data"
    }
   ],
   "source": [
    "votes <- data.frame(matrix(0, nrow=nrow(testPrime), ncol=9))\n",
    "names(votes) <- c('SS', 'CSiS', 'FSiS', 'SiSh', 'MS', 'WS', 'D', 'PS', 'BS')\n",
    "p <- 1.75\n",
    "\n",
    "# tally votes weighted by their distance (in data-space)\n",
    "for (i in 1:nrow(testPrime)) {\n",
    "    for (mw in metawells) {\n",
    "        c <- unlist(testPrime[i, paste(\"Facies\", mw)])\n",
    "        w <- 1 / (unlist(testPrime[i, paste(\"Dist\", mw)]))^p\n",
    "\n",
    "        votes[i, which(names(votes) %in% c)] <- unlist(votes[i, which(names(votes) %in% c)]) + w\n",
    "\n",
    "    }\n",
    "}\n",
    "\n",
    "# elect facies\n",
    "for (i in 1:nrow(testPrime)) {\n",
    "    testPrime$Predicted[i] <- names(votes)[which.max(votes[i,])]\n",
    "}\n",
    "\n",
    "testFinal <- subset(testPrime, select=c(Formation, Well.Name, Depth,\n",
    "                                       GR, ILD_log10, DeltaPHI, PHIND, PE, isMarine, RELPOS,\n",
    "                                       Facies, Predicted))\n",
    "\n",
    "format(head(testFinal,3), digits=3)"
   ]
  },
  {
   "cell_type": "code",
   "execution_count": 112,
   "metadata": {
    "collapsed": false
   },
   "outputs": [
    {
     "data": {
      "text/html": [
       "0.531428571428571"
      ],
      "text/latex": [
       "0.531428571428571"
      ],
      "text/markdown": [
       "0.531428571428571"
      ],
      "text/plain": [
       "[1] 0.5314286"
      ]
     },
     "metadata": {},
     "output_type": "display_data"
    }
   ],
   "source": [
    "source(\"accuracyMetrics.R\")\n",
    "\n",
    "myF1Metric(testFinal$Predicted, testFinal$Facies)"
   ]
  }
 ],
 "metadata": {
  "kernelspec": {
   "display_name": "R 3.2",
   "language": "R",
   "name": "ir32"
  },
  "language_info": {
   "codemirror_mode": "r",
   "file_extension": ".r",
   "mimetype": "text/x-r-source",
   "name": "R",
   "pygments_lexer": "r",
   "version": "3.2.4"
  }
 },
 "nbformat": 4,
 "nbformat_minor": 0
}
