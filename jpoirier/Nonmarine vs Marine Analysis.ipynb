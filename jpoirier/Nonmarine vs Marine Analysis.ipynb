{
 "cells": [
  {
   "cell_type": "markdown",
   "metadata": {},
   "source": [
    "# Nonmarine vs. Marine Analysis  \n",
    "#### Joshua Poirier, [NEOS](http://www.neosgeo.com)  \n",
    "2016 SEG Machine Learning Contest  \n",
    "\n",
    "## 1 Introduction  \n",
    "\n",
    "This notebook analyzes the relationship between the Nonmarine vs. Marine log indicator (**NM_M** in the dataset) and its impact on facies.  The idea is that different facies should have nearly all observations belonging to either the *nonmarine* class, or the *marine* class.  If this is the case, it may be prudent to develop two separate classifiers split on the Nonmarine vs. Marine indicator.  This may help reduce misclassification (observations with a *nonmarine* indicator may only be classified as a *nonmarine* facies, likewise for *marine*).  Similarly, the machine learning algorithm may have already \"learned\" this - in which case the results will be equal or worse.\n",
    "\n",
    "After loading the data, I will examine the distribution of the **NM_M** feature across each facies.  I will then determine which facies may be considered *nonmarine* origin, and which facies *marine* origin.  I will then apply the Support Vector Machine algorithm to **A - the entire dataset** (as with *jpoirier001.ipynb*), and **B - nonmarine and marine separately** to assess any improvement in predictive accuracy.  Here, accuracy will be measured by the average **F1 score** across all classes when applied to the **Newby** well - which will be considered a blind test and not included when training the model.\n",
    "\n",
    "First, let's load packages required to perform our analysis."
   ]
  },
  {
   "cell_type": "code",
   "execution_count": 2,
   "metadata": {
    "collapsed": false
   },
   "outputs": [],
   "source": [
    "# visualization packages\n",
    "library(repr)\n",
    "library(ggplot2)\n",
    "library(ggthemes)\n",
    "library(cowplot)\n",
    "\n",
    "# machine learning packages\n",
    "library(caret)\n",
    "library(e1071)"
   ]
  },
  {
   "cell_type": "markdown",
   "metadata": {},
   "source": [
    "## 2 Exploring the dataset  \n",
    "\n",
    "First let's load the data and look at the first few rows.  The data is contained in the file *facies_vectors.csv* and contains five wireline log measurements, two indicator variables, and a facies label at half-foot increments."
   ]
  },
  {
   "cell_type": "code",
   "execution_count": 3,
   "metadata": {
    "collapsed": false
   },
   "outputs": [
    {
     "data": {
      "text/html": [
       "<table>\n",
       "<thead><tr><th scope=col>Facies</th><th scope=col>Formation</th><th scope=col>Well.Name</th><th scope=col>Depth</th><th scope=col>GR</th><th scope=col>ILD_log10</th><th scope=col>DeltaPHI</th><th scope=col>PHIND</th><th scope=col>PE</th><th scope=col>NM_M</th><th scope=col>RELPOS</th></tr></thead>\n",
       "<tbody>\n",
       "\t<tr><td>3        </td><td>A1 SH    </td><td>SHRIMPLIN</td><td>2793.0   </td><td>77.45    </td><td>0.664    </td><td> 9.9     </td><td>11.915   </td><td>4.6      </td><td>1        </td><td>1.000    </td></tr>\n",
       "\t<tr><td>3        </td><td>A1 SH    </td><td>SHRIMPLIN</td><td>2793.5   </td><td>78.26    </td><td>0.661    </td><td>14.2     </td><td>12.565   </td><td>4.1      </td><td>1        </td><td>0.979    </td></tr>\n",
       "\t<tr><td>3        </td><td>A1 SH    </td><td>SHRIMPLIN</td><td>2794.0   </td><td>79.05    </td><td>0.658    </td><td>14.8     </td><td>13.050   </td><td>3.6      </td><td>1        </td><td>0.957    </td></tr>\n",
       "\t<tr><td>3        </td><td>A1 SH    </td><td>SHRIMPLIN</td><td>2794.5   </td><td>86.10    </td><td>0.655    </td><td>13.9     </td><td>13.115   </td><td>3.5      </td><td>1        </td><td>0.936    </td></tr>\n",
       "\t<tr><td>3        </td><td>A1 SH    </td><td>SHRIMPLIN</td><td>2795.0   </td><td>74.58    </td><td>0.647    </td><td>13.5     </td><td>13.300   </td><td>3.4      </td><td>1        </td><td>0.915    </td></tr>\n",
       "\t<tr><td>3        </td><td>A1 SH    </td><td>SHRIMPLIN</td><td>2795.5   </td><td>73.97    </td><td>0.636    </td><td>14.0     </td><td>13.385   </td><td>3.6      </td><td>1        </td><td>0.894    </td></tr>\n",
       "</tbody>\n",
       "</table>\n"
      ],
      "text/latex": [
       "\\begin{tabular}{r|lllllllllll}\n",
       " Facies & Formation & Well.Name & Depth & GR & ILD\\_log10 & DeltaPHI & PHIND & PE & NM\\_M & RELPOS\\\\\n",
       "\\hline\n",
       "\t 3         & A1 SH     & SHRIMPLIN & 2793.0    & 77.45     & 0.664     &  9.9      & 11.915    & 4.6       & 1         & 1.000    \\\\\n",
       "\t 3         & A1 SH     & SHRIMPLIN & 2793.5    & 78.26     & 0.661     & 14.2      & 12.565    & 4.1       & 1         & 0.979    \\\\\n",
       "\t 3         & A1 SH     & SHRIMPLIN & 2794.0    & 79.05     & 0.658     & 14.8      & 13.050    & 3.6       & 1         & 0.957    \\\\\n",
       "\t 3         & A1 SH     & SHRIMPLIN & 2794.5    & 86.10     & 0.655     & 13.9      & 13.115    & 3.5       & 1         & 0.936    \\\\\n",
       "\t 3         & A1 SH     & SHRIMPLIN & 2795.0    & 74.58     & 0.647     & 13.5      & 13.300    & 3.4       & 1         & 0.915    \\\\\n",
       "\t 3         & A1 SH     & SHRIMPLIN & 2795.5    & 73.97     & 0.636     & 14.0      & 13.385    & 3.6       & 1         & 0.894    \\\\\n",
       "\\end{tabular}\n"
      ],
      "text/plain": [
       "  Facies Formation Well.Name Depth  GR    ILD_log10 DeltaPHI PHIND  PE  NM_M\n",
       "1 3      A1 SH     SHRIMPLIN 2793.0 77.45 0.664      9.9     11.915 4.6 1   \n",
       "2 3      A1 SH     SHRIMPLIN 2793.5 78.26 0.661     14.2     12.565 4.1 1   \n",
       "3 3      A1 SH     SHRIMPLIN 2794.0 79.05 0.658     14.8     13.050 3.6 1   \n",
       "4 3      A1 SH     SHRIMPLIN 2794.5 86.10 0.655     13.9     13.115 3.5 1   \n",
       "5 3      A1 SH     SHRIMPLIN 2795.0 74.58 0.647     13.5     13.300 3.4 1   \n",
       "6 3      A1 SH     SHRIMPLIN 2795.5 73.97 0.636     14.0     13.385 3.6 1   \n",
       "  RELPOS\n",
       "1 1.000 \n",
       "2 0.979 \n",
       "3 0.957 \n",
       "4 0.936 \n",
       "5 0.915 \n",
       "6 0.894 "
      ]
     },
     "metadata": {},
     "output_type": "display_data"
    },
    {
     "data": {
      "text/html": [
       "'4149 rows x 11 columns'"
      ],
      "text/latex": [
       "'4149 rows x 11 columns'"
      ],
      "text/markdown": [
       "'4149 rows x 11 columns'"
      ],
      "text/plain": [
       "[1] \"4149 rows x 11 columns\""
      ]
     },
     "metadata": {},
     "output_type": "display_data"
    }
   ],
   "source": [
    "# load data\n",
    "fname <- \"../facies_vectors.csv\"\n",
    "data <- read.csv(fname, colClasses=c(rep(\"factor\",3), rep(\"numeric\",6), \"factor\", \"numeric\"))\n",
    "\n",
    "# display first five rows of data set and it's dimensions\n",
    "head(data)\n",
    "paste(dim(data)[1], \"rows x\", dim(data)[2], \"columns\")"
   ]
  },
  {
   "cell_type": "code",
   "execution_count": 4,
   "metadata": {
    "collapsed": true
   },
   "outputs": [],
   "source": [
    "# training and validation maybe?\n",
    "blind <- data[data$Well.Name == 'NEWBY',]\n",
    "data <- data[data$Well.Name != 'NEWBY',]"
   ]
  },
  {
   "cell_type": "markdown",
   "metadata": {},
   "source": [
    "This data is from the Panoma Council Grove Field (predominantly gas reservoir) over 2700 sq mi in SW Kansas.  The dataset is from nine wells with 4149 samples.  Each sample consists of seven predictor variables and a rock facies.  The validation (test) data have 830 samples from two wells having the same seven predictor variables.  Facies are based on examination of cores from the nine wells taken vertically at half-foot intervals.  The predictor variables include five wireline log measurements and two geologic constraining variables that are derived from geologic knowledge and are sampled at the same half-foot rate.  \n",
    "\n",
    "The seven predictor variables are:\n",
    "\n",
    "* GR - Gamma ray  \n",
    "* ILD_log10 - Resistivity logging  \n",
    "* PE - Photoelectric effect (some wells are missing this log)  \n",
    "* DeltaPhi - Neutron-density porosity difference  \n",
    "* PHIND - Average neutron-density porosity  \n",
    "\n",
    "The two geologic constraining variables are:  \n",
    "\n",
    "* NM_M - nonmarine-marine indicator  \n",
    "* RELPOS - Relative position  \n",
    "\n",
    "The nine discrete facies (classes of rock) are:  \n",
    "\n",
    "1. Nonmarine sandstone  \n",
    "2. Nonmarine coarse siltstone  \n",
    "3. Nonmarine fine siltstone  \n",
    "4. Marine siltstone and shale  \n",
    "5. Mudstone (limestone)  \n",
    "6. Wackestone (limestone)  \n",
    "7. Dolomite  \n",
    "8. Pckstone-grainstone (limestone)  \n",
    "9. Phylloid-algal bafflestone (limestone)  \n",
    "\n",
    "These facies are not discrete and can gradually blend into one another.  Some have neighboring facies that are rather close.  Mislabeling within these neighboring facies can be expected to occur.  The following table lists the facies, their abbreviated labels, and their approximate neighbors.  \n",
    "\n",
    "\n",
    "Facies |Label| Adjacent Facies\n",
    ":---: | :---: |:--:\n",
    "1 |SS| 2\n",
    "2 |CSiS| 1,3\n",
    "3 |FSiS| 2\n",
    "4 |SiSh| 5\n",
    "5 |MS| 4,6\n",
    "6 |WS| 5,7\n",
    "7 |D| 6,8\n",
    "8 |PS| 6,7,9\n",
    "9 |BS| 7,8  \n",
    "\n",
    "Now let's define a colormap for the facies such that they are represented by consistent colors in this tutorial.  We'll also take a peek at the statistical distribution of the input variables."
   ]
  },
  {
   "cell_type": "code",
   "execution_count": 5,
   "metadata": {
    "collapsed": false
   },
   "outputs": [
    {
     "data": {
      "text/plain": [
       "     Facies      Formation             Well.Name       Depth     \n",
       " 2      :842   C LM   : 594   CROSS H CATTLE:501   Min.   :2574  \n",
       " 3      :700   A1 LM  : 509   SHRIMPLIN     :471   1st Qu.:2806  \n",
       " 8      :630   A1 SH  : 379   ALEXANDER D   :466   Median :2931  \n",
       " 6      :486   C SH   : 351   LUKE G U      :461   Mean   :2903  \n",
       " 1      :268   B5 LM  : 319   SHANKLE       :449   3rd Qu.:3008  \n",
       " 5      :268   B1 SH  : 303   KIMZEY A      :439   Max.   :3138  \n",
       " (Other):492   (Other):1231   (Other)       :899                 \n",
       "       GR           ILD_log10           DeltaPHI           PHIND      \n",
       " Min.   : 10.15   Min.   :-0.02595   Min.   :-21.832   Min.   : 0.55  \n",
       " 1st Qu.: 45.57   1st Qu.: 0.48900   1st Qu.:  1.700   1st Qu.: 8.55  \n",
       " Median : 65.68   Median : 0.63500   Median :  4.369   Median :12.17  \n",
       " Mean   : 65.46   Mean   : 0.65765   Mean   :  4.519   Mean   :13.40  \n",
       " 3rd Qu.: 80.20   3rd Qu.: 0.82900   3rd Qu.:  7.600   3rd Qu.:16.24  \n",
       " Max.   :361.15   Max.   : 1.80000   Max.   : 19.312   Max.   :84.40  \n",
       "                                                                      \n",
       "       PE        NM_M         RELPOS      \n",
       " Min.   :0.200   1:1820   Min.   :0.0000  \n",
       " 1st Qu.:3.078   2:1866   1st Qu.:0.2740  \n",
       " Median :3.500            Median :0.5260  \n",
       " Mean   :3.717            Mean   :0.5211  \n",
       " 3rd Qu.:4.371            3rd Qu.:0.7678  \n",
       " Max.   :8.094            Max.   :1.0000  \n",
       " NA's   :917                              "
      ]
     },
     "metadata": {},
     "output_type": "display_data"
    }
   ],
   "source": [
    "# 1=sandstone, 2=c_siltstone, 3=f_siltstone, 4=marine_silt_shale, 5=mudstone, \n",
    "# 6=wackestone, 7=dolomite, 8=packestone, 9=bafflestone\n",
    "\n",
    "facies_colors <- c('#F4D03F', '#F5B041', '#DC7633', '#6E2C00', '#1B4F72', '#2E86C1', '#AED6F1', '#A569BD', '#196F3D')\n",
    "facies_labels <- c('SS', 'CSiS', 'FSiS', 'SiSh', 'MS', 'WS', 'D', 'PS', 'BS')\n",
    "\n",
    "summary(data)"
   ]
  },
  {
   "cell_type": "markdown",
   "metadata": {},
   "source": [
    "Looking at the statistical summary of the input variables, it can be seen that all but the **PE** (photoelectric effect) inputs have no **NA**'s listed.  For this tutorial, we will drop the feature vectors that do not have a valid **PE** entry."
   ]
  },
  {
   "cell_type": "code",
   "execution_count": 6,
   "metadata": {
    "collapsed": false
   },
   "outputs": [
    {
     "data": {
      "text/html": [
       "'2769 rows x 11 columns'"
      ],
      "text/latex": [
       "'2769 rows x 11 columns'"
      ],
      "text/markdown": [
       "'2769 rows x 11 columns'"
      ],
      "text/plain": [
       "[1] \"2769 rows x 11 columns\""
      ]
     },
     "metadata": {},
     "output_type": "display_data"
    }
   ],
   "source": [
    "PE_mask <- complete.cases(data)\n",
    "data <- data[PE_mask,]\n",
    "paste(dim(data)[1], \"rows x\", dim(data)[2], \"columns\")"
   ]
  },
  {
   "cell_type": "markdown",
   "metadata": {},
   "source": [
    "Out of the original 4149 samples, we will be training our model on 2769 samples.  Now let's build some familiar log plots!"
   ]
  },
  {
   "cell_type": "code",
   "execution_count": 7,
   "metadata": {
    "collapsed": true
   },
   "outputs": [],
   "source": [
    "logplot <- function(x, incl_fac=TRUE, incl_pred=FALSE) {\n",
    "    # GR gamma ray track\n",
    "    g1 <- ggplot(x) + theme_economist_white(gray_bg=T) + \n",
    "        scale_y_continuous(lim=c(0,400), breaks=seq(0,400,100), labels=c(\"0\"=\"0\",\"100\"=\"\",\"200\"=\"200\",\"300\"=\"\",\"400\"=\"400\")) +\n",
    "        scale_x_continuous(trans=\"reverse\") + coord_flip() + labs(title=\"\", x=\"Depth\", y=\"GR\") +\n",
    "        geom_bar(stat=\"identity\", data=x, aes(x=Depth, y=GR, fill=GR, alpha=0.5), width=0.5) +\n",
    "        geom_line(aes(x=Depth, y=GR), lwd=.5, col='black') +\n",
    "        scale_fill_continuous(limits=c(0,225), low=\"yellow\", high=\"black\") +\n",
    "        theme(panel.grid.major.x = element_line(colour=\"gray\", size=0.5), legend.position=\"none\",\n",
    "             axis.text=element_text(size=6), axis.title=element_text(size=8,face=\"bold\"))\n",
    "    g1 <- switch_axis_position(g1, 'x')\n",
    "    \n",
    "    # ILD resistivity track (transform it back to actual units)\n",
    "    g2 <- ggplot(x) + theme_economist_white(gray_bg=T) +\n",
    "        scale_y_log10(lim=c(0.1,50), breaks=c(.1,.2,.4,.6,.8,1,2,4,6,8,10,20,40), \n",
    "                      labels=c(\".1\"=\".1\",\".2\"=\"\",\".4\"=\"\",\".6\"=\"\",\".8\"=\"\",\n",
    "                               \"1\"=\"1\",\"2\"=\"\",\"4\"=\"\",\"6\"=\"\",\"8\"=\"\",\"10\"=\"10\",\n",
    "                              \"20\"=\"\",\"40\"=\"\")) + \n",
    "        scale_x_continuous(trans=\"reverse\") + \n",
    "        coord_flip() + labs(title=\"\", x=\"\", y=\"ILD\") +\n",
    "        geom_line(aes(x=Depth, y=10^ILD_log10), lwd=.5, col=\"skyblue4\") +\n",
    "        theme(panel.grid.major.x = element_line(colour=\"gray\", size=0.25), legend.position=\"none\", \n",
    "              axis.text=element_text(size=6), axis.title=element_text(size=8,face=\"bold\"), axis.text.y=element_blank())\n",
    "    g2 <- switch_axis_position(g2, 'x')\n",
    "    \n",
    "    # DeltaPhi track\n",
    "    g3 <- ggplot(x) + theme_economist_white(gray_bg=T) +\n",
    "        scale_y_continuous(lim=c(-20,20), breaks=seq(-20,20,10),labels=c(\"-20\"=\"-20\",\"-10\"=\"\",\"0\"=\"0\",\"10\"=\"\",\"20\"=\"20\")) + \n",
    "        scale_x_continuous(trans=\"reverse\") + coord_flip() + labs(title=\"\", x=\"\", y=\"DeltaPhi\") +\n",
    "        geom_line(aes(x=Depth, y=DeltaPHI), lwd=.5, col=\"seagreen4\") +\n",
    "        theme(panel.grid.major.x = element_line(colour=\"gray\", size=0.25), legend.position=\"none\", \n",
    "              axis.text=element_text(size=6), axis.title=element_text(size=8,face=\"bold\"), axis.text.y=element_blank())\n",
    "    g3 <- switch_axis_position(g3, 'x')\n",
    "    \n",
    "    # PHIND neutron porosity track\n",
    "    g4 <- ggplot(x) + theme_economist_white(gray_bg=T) +\n",
    "        scale_y_continuous(lim=c(0,50), breaks=c(0,15,30,45)) + scale_x_continuous(trans=\"reverse\") +\n",
    "        coord_flip() + labs(title=\"\", x=\"\", y=\"PHIND\") +\n",
    "        geom_line(aes(x=Depth, y=PHIND), lwd=.5, col=\"firebrick\") +\n",
    "        theme(panel.grid.major.x = element_line(colour=\"gray\", size=0.25), legend.position=\"none\", \n",
    "              axis.text=element_text(size=6), axis.title=element_text(size=8,face=\"bold\"), axis.text.y=element_blank())\n",
    "    g4 <- switch_axis_position(g4, 'x')\n",
    "    \n",
    "    # PE photoelectric effect track\n",
    "    g5 <- ggplot(x) + theme_economist_white(gray_bg=T) +\n",
    "        scale_y_continuous(lim=c(0,8), breaks=c(0,2,4,6,8)) + scale_x_continuous(trans=\"reverse\") +\n",
    "        coord_flip() + labs(title=\"\", x=\"\", y=\"PE\") +\n",
    "        geom_line(aes(x=Depth, y=PE), lwd=.5, col=\"black\") +\n",
    "        theme(panel.grid.major.x = element_line(colour=\"gray\", size=0.25), legend.position=\"none\", \n",
    "              axis.text=element_text(size=6), axis.title=element_text(size=8,face=\"bold\"), axis.text.y=element_blank())\n",
    "    g5 <- switch_axis_position(g5, 'x')\n",
    "    \n",
    "    x$ones <- rep(1, nrow(x))\n",
    "    # build a facies track if we are to include\n",
    "    if (incl_fac) {\n",
    "        g6 <- ggplot(x) + theme_economist_white(gray_bg=T) +\n",
    "            scale_y_continuous(lim=c(-0.1,1.1), breaks=c(0,1), labels=c(\"0\"=\"\", \"1\"=\"\")) + scale_x_continuous(trans=\"reverse\") +\n",
    "            coord_flip() + labs(title=\"\", x=\"\", y=\"Facies\") +\n",
    "            geom_bar(stat=\"identity\", data=x, aes(x=Depth, y=ones, fill=Facies), width=0.5) +\n",
    "            scale_fill_manual(values=facies_colors, drop=F, labels=facies_labels) +\n",
    "            theme(axis.title=element_text(size=8,face=\"bold\"), axis.text.y=element_blank(), axis.text.x=element_text(size=6))\n",
    "    }\n",
    "    \n",
    "    # build a prediction track if we are to include\n",
    "    if (incl_pred) {\n",
    "        # build Predicted Facies track\n",
    "        g7 <- ggplot(x) + theme_economist_white(gray_bg=T) +\n",
    "            scale_y_continuous(lim=c(-0.1,1.1), breaks=c(0,1), labels=c(\"0\"=\"\", \"1\"=\"\")) + scale_x_continuous(trans=\"reverse\") +\n",
    "            coord_flip() + labs(title=\"\", x=\"\", y=\"Predicted\") +\n",
    "            geom_bar(stat=\"identity\", data=x, aes(x=Depth, y=ones, fill=Predicted), width=0.5) +\n",
    "            scale_fill_manual(values=facies_colors, drop=F, labels=facies_labels) +\n",
    "            theme(legend.position=\"right\", legend.text=element_text(size=6), legend.title=element_blank()) +\n",
    "            theme(axis.title=element_text(size=8,face=\"bold\"), axis.text.y=element_blank(), axis.text.x=element_text(size=6))\n",
    "        g7 <- switch_axis_position(g7, 'x')\n",
    "        \n",
    "        # finish off Facies track with no legend if we are to include\n",
    "        if (incl_fac) {\n",
    "            g6 <- g6 + theme(legend.position=\"none\")\n",
    "            g6 <- switch_axis_position(g6, 'x')\n",
    "            \n",
    "            # bring all the tracks together as a grid\n",
    "            g <- plot_grid(g1, g2, g3, g4, g5, g6, g7, ncol=7, rel_widths=c(4,3,3,3,3,2,5))\n",
    "        }\n",
    "        else {\n",
    "            # bring all the tracks together as a grid\n",
    "            g <- plot_grid(g1, g2, g3, g4, g5, g7, ncol=6, rel_widths=c(4,3,3,3,3,5))\n",
    "        }\n",
    "        \n",
    "        ggdraw() + draw_plot(g, width=1, height=1) + draw_plot_label(x$Well.Name[1], size=10)\n",
    "    }\n",
    "    else {\n",
    "        if (incl_fac) {\n",
    "            # finish off Facies track with a legend\n",
    "            g6 <- g6 + theme(legend.position=\"right\", legend.text=element_text(size=6), legend.title=element_blank())\n",
    "            g6 <- switch_axis_position(g6, 'x')\n",
    "            \n",
    "            # bring all the tracks together as a grid\n",
    "            g <- plot_grid(g1, g2, g3, g4, g5, g6, ncol=6, rel_widths=c(4,3,3,3,3,6))\n",
    "        }\n",
    "        else {\n",
    "            # bring all the tracks together as a grid\n",
    "            g <- plot_grid(g1, g2, g3, g4, g5, ncol=5, rel_widths=c(4,3,3,3,3))\n",
    "        }\n",
    "        \n",
    "        ggdraw() + draw_plot(g, width=1, height=1) + draw_plot_label(x$Well.Name[1], size=10)    \n",
    "    }\n",
    "}"
   ]
  },
  {
   "cell_type": "code",
   "execution_count": 8,
   "metadata": {
    "collapsed": false
   },
   "outputs": [
    {
     "data": {},
     "metadata": {},
     "output_type": "display_data"
    },
    {
     "data": {},
     "metadata": {},
     "output_type": "display_data"
    },
    {
     "data": {
      "image/png": "[encoded data removed]",
      "text/plain": [
       "plot without title"
      ]
     },
     "metadata": {},
     "output_type": "display_data"
    },
    {
     "data": {
      "image/png": "[encoded data removed]",
      "text/plain": [
       "plot without title"
      ]
     },
     "metadata": {},
     "output_type": "display_data"
    }
   ],
   "source": [
    "options(repr.plot.width=8, repr.plot.height=5)\n",
    "\n",
    "# plot logs for the Shrimplin and Shankle wells\n",
    "logplot(data[data$Well.Name == \"SHRIMPLIN\",])\n",
    "logplot(data[data$Well.Name == \"SHANKLE\",])"
   ]
  },
  {
   "cell_type": "markdown",
   "metadata": {},
   "source": [
    "## 3 Too marine or not too marine?  \n",
    "\n",
    "Now let's examine the distribution of facies for both observations featuring a *nonmarine* indicator as well as a *marine* indicator.  To do this, let's build a histogram faceted on the **NM_M** variable."
   ]
  },
  {
   "cell_type": "code",
   "execution_count": 9,
   "metadata": {
    "collapsed": false
   },
   "outputs": [
    {
     "data": {},
     "metadata": {},
     "output_type": "display_data"
    },
    {
     "data": {
      "image/png": "[encoded data removed]",
      "text/plain": [
       "plot without title"
      ]
     },
     "metadata": {},
     "output_type": "display_data"
    }
   ],
   "source": [
    "options(repr.plot.width=8, repr.plot.height=4)\n",
    "\n",
    "# modify the NM_M factors to be a string - more descriptive and plots nicer\n",
    "levels(data$NM_M)[levels(data$NM_M)==\"1\"] <- \"Nonmarine\"\n",
    "levels(data$NM_M)[levels(data$NM_M)==\"2\"]   <- \"Marine\"\n",
    "\n",
    "# build histogram faceted on the NM_M (nonmarine vs marine) feature\n",
    "g <- ggplot(data, aes(x=Facies)) + theme_economist_white(gray_bg=T) + \n",
    "        facet_grid(. ~ NM_M) +\n",
    "        geom_bar(aes(x=Facies, fill=Facies)) + labs(title=\"Distribution of Facies\", x=\"\", y=\"\") +\n",
    "        scale_x_discrete(labels=facies_labels) +\n",
    "        scale_fill_manual(values=facies_colors, drop=F, labels=facies_labels) +\n",
    "        theme(legend.position=\"none\", legend.title=element_blank(), legend.text=element_text(size=6),\n",
    "             axis.text=element_text(size=6), plot.title=element_text(size=10), axis.title=element_blank(),\n",
    "             axis.ticks.x=element_blank())\n",
    "\n",
    "g"
   ]
  },
  {
   "cell_type": "markdown",
   "metadata": {},
   "source": [
    "That's a pretty interesting visual.  The **SS**, **CSiS**, and **FSiS** facies appear to be **nonmarine**; while the remaining facies appear to be **marine**.  There do seem to be a handful of cross-classifications - let's make a table to quantify the percentage of observations not following this trend."
   ]
  },
  {
   "cell_type": "code",
   "execution_count": 10,
   "metadata": {
    "collapsed": false
   },
   "outputs": [
    {
     "data": {
      "text/plain": [
       "     # Nonmarine # Marine % Nonmarine % Marine\n",
       "SS           259        0         100        0\n",
       "CSiS         634        6          99        1\n",
       "FSiS         519       16          97        3\n",
       "SiSh           5      121           4       96\n",
       "MS            11      178           6       94\n",
       "WS             2      364           1       99\n",
       "D              1       81           1       99\n",
       "PS            12      430           3       97\n",
       "BS             0      130           0      100"
      ]
     },
     "metadata": {},
     "output_type": "display_data"
    }
   ],
   "source": [
    "# modify the factor levels for facies to be more descriptive\n",
    "levels(data$Facies)[levels(data$Facies)==\"1\"] <- \"SS\"\n",
    "levels(data$Facies)[levels(data$Facies)==\"2\"]   <- \"CSiS\"\n",
    "levels(data$Facies)[levels(data$Facies)==\"3\"]   <- \"FSiS\"\n",
    "levels(data$Facies)[levels(data$Facies)==\"4\"]   <- \"SiSh\"\n",
    "levels(data$Facies)[levels(data$Facies)==\"5\"]   <- \"MS\"\n",
    "levels(data$Facies)[levels(data$Facies)==\"6\"]   <- \"WS\"\n",
    "levels(data$Facies)[levels(data$Facies)==\"7\"]   <- \"D\"\n",
    "levels(data$Facies)[levels(data$Facies)==\"8\"]   <- \"PS\"\n",
    "levels(data$Facies)[levels(data$Facies)==\"9\"]   <- \"BS\"\n",
    "\n",
    "# count observations of facies which are nonmarine or marine\n",
    "t <- table(data$Facies, data$NM_M == \"Marine\")\n",
    "\n",
    "# calculate those counts as percentages\n",
    "nm_percent <- round(100 * t[,1] / (t[,1] + t[,2]),0)\n",
    "m_percent <- round(100 * t[,2] / (t[,1] + t[,2]),0)\n",
    "t <- as.table(cbind(t[,1], t[,2], nm_percent, m_percent))\n",
    "\n",
    "# format the table and output\n",
    "dimnames(t)[[2]] <- c('# Nonmarine', '# Marine', '% Nonmarine', '% Marine')\n",
    "t"
   ]
  },
  {
   "cell_type": "markdown",
   "metadata": {},
   "source": [
    "**MS** - Mudstone is the facies with the most uncertainty here.  Of the 189 observations of the **MS** facies, 11 (6%) were considered nonmarine.  It's probably safe to call **SS**, **CSiS**, and **FSiS** all nonmarine, and the remaining facies marine.  How many of the observations overall do not fall into this ordering of the data?"
   ]
  },
  {
   "cell_type": "code",
   "execution_count": 11,
   "metadata": {
    "collapsed": false
   },
   "outputs": [
    {
     "data": {
      "text/html": [
       "'1.91 %'"
      ],
      "text/latex": [
       "'1.91 \\%'"
      ],
      "text/markdown": [
       "'1.91 %'"
      ],
      "text/plain": [
       "[1] \"1.91 %\""
      ]
     },
     "metadata": {},
     "output_type": "display_data"
    }
   ],
   "source": [
    "# sum up how many correctly/incorrectly fall under our \"rule\"\n",
    "nm_m_true <- t[1,1] + t[2,1] + t[3,1] + t[4,2] + t[5,2] + t[6,2] + t[7,2] + t[8,2] + t[9,2]\n",
    "nm_m_false <- t[1,2] + t[2,2] + t[3,2] + t[4,1] + t[5,1] + t[6,1] + t[7,1] + t[8,1] + t[9,1]\n",
    "\n",
    "# percentage of observations not falling under our \"rule*\n",
    "paste(round(100 * nm_m_false / (nm_m_true + nm_m_false),2), \"%\")"
   ]
  },
  {
   "cell_type": "markdown",
   "metadata": {},
   "source": [
    "Less than 2% of observations fail our *rule*.  Let's move forward to applying some Support Vector Machines to our data!  \n",
    "\n",
    "## 4 A support vector machine classifier  \n",
    "\n",
    "As in the previous notebook *jpoirier001.ipynb*, let's build a Support Vector Machine classifier.  First, we'll build a classifier and tune the results.  Second, we'll build two classifiers (one for **nonmarine** indicators, one for **marine**).  \n",
    "\n",
    "### 4.1 Support vector machine with all data  \n",
    "\n",
    "This workflow will be very similar to that of *jpoirier001.ipynb*.  Ultimately we expect the same results."
   ]
  },
  {
   "cell_type": "code",
   "execution_count": 47,
   "metadata": {
    "collapsed": true
   },
   "outputs": [],
   "source": [
    "## HELPER FUNCTIONS\n",
    "## ################################################################################################\n",
    "\n",
    "# list of adjacent facies\n",
    "adjacent_facies <- list(as.list(c(2)), as.list(c(1,3)), \n",
    "                        as.list(c(2)), as.list(c(5)), \n",
    "                        as.list(c(4,6)), as.list(c(5,7,8)), \n",
    "                        as.list(c(6,8)), as.list(c(6,7,9)), \n",
    "                        as.list(c(7,8)))\n",
    "\n",
    "# function to calculate the confusion matrix which includes adjacent facies as correctly classified\n",
    "adj_cm_table <- function(cm_table) {    \n",
    "    adj_cm_table <- cm_table\n",
    "    \n",
    "    # loop through facies to build adjacent facies confusion matrix\n",
    "    for (i in 1:9) {\n",
    "        cor <- cm_table[i,i]\n",
    "\n",
    "        # move adjacently correct facies into correct facies\n",
    "        for (j in 1:length(adjacent_facies[[i]])) {\n",
    "            cor <- cor + cm_table[adjacent_facies[[i]][[j]],i]\n",
    "            adj_cm_table[adjacent_facies[[i]][[j]],i] <- 0\n",
    "        }\n",
    "        adj_cm_table[i,i] <- cor\n",
    "    }\n",
    "    \n",
    "    # return adjacently corrected confusion matrix\n",
    "    adj_cm_table\n",
    "}\n",
    "\n",
    "# function to display a confusion matrix\n",
    "#   replaces the integer facies with facies shortnames first\n",
    "disp_cm <- function(cm) {\n",
    "    dimnames(cm)$Prediction <- facies_labels\n",
    "    dimnames(cm)$Reference <- facies_labels\n",
    "    print(cm)\n",
    "}\n",
    "\n",
    "# cm - confusion matrix either as a confusionMatrix object or table object\n",
    "# x - the data used, from this we calculate how many observations (support) for each facies\n",
    "accuracy_metrics <- function(cm, x) {\n",
    "    # if given confusion matrix (cm) is a confusionMatrix object\n",
    "    if (class(cm) == \"confusionMatrix\") {\n",
    "        df <- data.frame(\"Facies\" = facies_labels,\n",
    "                        \"Precision\" = cm[[\"byClass\"]][,5],\n",
    "                        \"Recall\" = cm[[\"byClass\"]][,6],\n",
    "                        \"F1\" = cm[[\"byClass\"]][,7],\n",
    "                        \"Support\" = as.matrix(table(x$Facies)))\n",
    "        df[,-1] <- round(df[,-1],2)\n",
    "        rownames(df) <- NULL\n",
    "    }\n",
    "    # if given confusion matrix is a table object\n",
    "    else if (class(cm) == \"table\") {\n",
    "       # initialize vectors for precision, recall, and f1 metrics with zeros\n",
    "        prec <- rep(0,9)\n",
    "        recall <- rep(0,9)\n",
    "        f1 <- rep(0,9)\n",
    "\n",
    "        # loop through facies to compute precision, recall, and f1 for each facies\n",
    "        beta <- 1\n",
    "        for (i in 1:9) {\n",
    "            prec[i] <- cm[i,i] / sum(cm[i,])\n",
    "            recall[i] <- cm[i,i] / sum(cm[,i])\n",
    "            f1[i] <- (1 + beta^2) * prec[i] * recall[i] / ((beta^2 * prec[i]) + recall[i])\n",
    "        }\n",
    "        \n",
    "        # calculate model metrics for precision, recall, and f1 and output\n",
    "        df <- data.frame(Facies=facies_labels, \n",
    "                         Precision=prec, \n",
    "                         Recall=recall, \n",
    "                         F1=f1, \n",
    "                         Support=as.matrix(table(x$Facies)))\n",
    "\n",
    "        # round values to two digits\n",
    "        df[,-1] <- round(df[,-1],2)\n",
    "    }\n",
    "    \n",
    "    # average F1 score across all classes\n",
    "    print(paste0(\"Overall F1-score of: \", round(mean(df$F1, na.rm=T),2)))\n",
    "    print(\"Accuracy metrics:\")\n",
    "    df\n",
    "}"
   ]
  },
  {
   "cell_type": "code",
   "execution_count": 13,
   "metadata": {
    "collapsed": false
   },
   "outputs": [
    {
     "data": {
      "text/html": [
       "'Facies classification confusion matrix:'"
      ],
      "text/latex": [
       "'Facies classification confusion matrix:'"
      ],
      "text/markdown": [
       "'Facies classification confusion matrix:'"
      ],
      "text/plain": [
       "[1] \"Facies classification confusion matrix:\""
      ]
     },
     "metadata": {},
     "output_type": "display_data"
    },
    {
     "name": "stdout",
     "output_type": "stream",
     "text": [
      "          Reference\n",
      "Prediction SS CSiS FSiS SiSh MS WS  D PS BS\n",
      "      SS   40   11    0    0  0  0  0  0  0\n",
      "      CSiS 10   95   18    0  1  1  1  0  0\n",
      "      FSiS  1   22   87    1  0  0  0  5  0\n",
      "      SiSh  0    0    2   17  1  5  0  0  0\n",
      "      MS    0    0    0    2 24  3  0  1  0\n",
      "      WS    0    0    0    2  6 59  2 10  0\n",
      "      D     0    0    0    1  0  0  9  2  0\n",
      "      PS    0    0    0    2  5  5  2 70  0\n",
      "      BS    0    0    0    0  0  0  2  0 26\n"
     ]
    },
    {
     "data": {
      "text/html": [
       "'Adjacent facies classification confusion matrix:'"
      ],
      "text/latex": [
       "'Adjacent facies classification confusion matrix:'"
      ],
      "text/markdown": [
       "'Adjacent facies classification confusion matrix:'"
      ],
      "text/plain": [
       "[1] \"Adjacent facies classification confusion matrix:\""
      ]
     },
     "metadata": {},
     "output_type": "display_data"
    },
    {
     "name": "stdout",
     "output_type": "stream",
     "text": [
      "          Reference\n",
      "Prediction  SS CSiS FSiS SiSh  MS  WS   D  PS  BS\n",
      "      SS    50    0    0    0   0   0   0   0   0\n",
      "      CSiS   0  128    0    0   1   1   1   0   0\n",
      "      FSiS   1    0  105    1   0   0   0   5   0\n",
      "      SiSh   0    0    2   19   0   5   0   0   0\n",
      "      MS     0    0    0    0  31   0   0   1   0\n",
      "      WS     0    0    0    2   0  67   0   0   0\n",
      "      D      0    0    0    1   0   0  13   0   0\n",
      "      PS     0    0    0    2   5   0   0  82   0\n",
      "      BS     0    0    0    0   0   0   2   0  26\n"
     ]
    }
   ],
   "source": [
    "set.seed(1234)\n",
    "\n",
    "# split into training and test data sets\n",
    "feature_vectors <- data[, c(\"Facies\", \"GR\", \"ILD_log10\", \"DeltaPHI\", \"PHIND\", \"PE\", \"NM_M\", \"RELPOS\")]\n",
    "trainIndex <- createDataPartition(feature_vectors$Facies, p=.8, list=F, times=1)\n",
    "x_train <- feature_vectors[trainIndex,]\n",
    "x_test <- feature_vectors[-trainIndex,]\n",
    "\n",
    "set.seed(3124)\n",
    "\n",
    "# calculates models for a variety of hyperparameters - this will take a few minutes\n",
    "tune.out <- tune(svm, Facies ~ ., data=x_train, \n",
    "                 kernel=\"radial\",\n",
    "                 ranges=list(cost=c(.01,1,5,10,20,50,100,1000,5000,10000),\n",
    "                            gamma=c(.0001,.001,.01,1,10)))\n",
    "\n",
    "# predict facies using the best model\n",
    "cv_predictions <- predict(tune.out$best.model, newdata=x_test)\n",
    "\n",
    "## PART ONE: Confusion matrix for facies classification\n",
    "\"Facies classification confusion matrix:\"\n",
    "cv_cm <- confusionMatrix(cv_predictions, x_test$Facies)\n",
    "disp_cm(as.matrix(cv_cm[[\"table\"]]))\n",
    "\n",
    "## PART TWO: Confusion matrix for adjacent facies classification\n",
    "\"Adjacent facies classification confusion matrix:\"\n",
    "cv_adj <- adj_cm_table(as.matrix(cv_cm[[\"table\"]]))\n",
    "disp_cm(cv_adj)"
   ]
  },
  {
   "cell_type": "markdown",
   "metadata": {
    "collapsed": true
   },
   "source": [
    "Now let's apply the model to our blind data set an output the confusion matrices and accuracy metrics!"
   ]
  },
  {
   "cell_type": "code",
   "execution_count": 25,
   "metadata": {
    "collapsed": false
   },
   "outputs": [
    {
     "data": {
      "text/html": [
       "'PART ONE: Facies classification'"
      ],
      "text/latex": [
       "'PART ONE: Facies classification'"
      ],
      "text/markdown": [
       "'PART ONE: Facies classification'"
      ],
      "text/plain": [
       "[1] \"PART ONE: Facies classification\""
      ]
     },
     "metadata": {},
     "output_type": "display_data"
    },
    {
     "name": "stdout",
     "output_type": "stream",
     "text": [
      "          Reference\n",
      "Prediction SS CSiS FSiS SiSh MS WS  D PS BS\n",
      "      SS    0   20    4    0  0  0  0  0  0\n",
      "      CSiS  0   49   29    0  1  1  0  1  0\n",
      "      FSiS  0   27   43    4  1  4  0  6  0\n",
      "      SiSh  0    0    0   42  4  5  0  0  2\n",
      "      MS    0    0    0    2  1 32  0  5  0\n",
      "      WS    0    0    0    5  9 10  0  4  4\n",
      "      D     0    0    0    0  0  0  0  2  0\n",
      "      PS    0    2    4    5 12 42 16 38 25\n",
      "      BS    0    0    0    0  0  2  0  0  0\n",
      "[1] \"Overall F1-score of: 0.4\"\n",
      "[1] \"Accuracy metrics:\"\n"
     ]
    },
    {
     "data": {
      "text/html": [
       "<table>\n",
       "<thead><tr><th scope=col>Facies</th><th scope=col>Precision</th><th scope=col>Recall</th><th scope=col>F1</th><th scope=col>Support</th></tr></thead>\n",
       "<tbody>\n",
       "\t<tr><td>SS  </td><td>0.00</td><td>  NA</td><td>  NA</td><td> 0  </td></tr>\n",
       "\t<tr><td>CSiS</td><td>0.60</td><td>0.50</td><td>0.55</td><td>98  </td></tr>\n",
       "\t<tr><td>FSiS</td><td>0.51</td><td>0.54</td><td>0.52</td><td>80  </td></tr>\n",
       "\t<tr><td>SiSh</td><td>0.79</td><td>0.72</td><td>0.76</td><td>58  </td></tr>\n",
       "\t<tr><td>MS  </td><td>0.02</td><td>0.04</td><td>0.03</td><td>28  </td></tr>\n",
       "\t<tr><td>WS  </td><td>0.31</td><td>0.10</td><td>0.16</td><td>96  </td></tr>\n",
       "\t<tr><td>D   </td><td>0.00</td><td>0.00</td><td> NaN</td><td>16  </td></tr>\n",
       "\t<tr><td>PS  </td><td>0.26</td><td>0.68</td><td>0.38</td><td>56  </td></tr>\n",
       "\t<tr><td>BS  </td><td>0.00</td><td>0.00</td><td> NaN</td><td>31  </td></tr>\n",
       "</tbody>\n",
       "</table>\n"
      ],
      "text/latex": [
       "\\begin{tabular}{r|lllll}\n",
       " Facies & Precision & Recall & F1 & Support\\\\\n",
       "\\hline\n",
       "\t SS   & 0.00 &   NA &   NA &  0  \\\\\n",
       "\t CSiS & 0.60 & 0.50 & 0.55 & 98  \\\\\n",
       "\t FSiS & 0.51 & 0.54 & 0.52 & 80  \\\\\n",
       "\t SiSh & 0.79 & 0.72 & 0.76 & 58  \\\\\n",
       "\t MS   & 0.02 & 0.04 & 0.03 & 28  \\\\\n",
       "\t WS   & 0.31 & 0.10 & 0.16 & 96  \\\\\n",
       "\t D    & 0.00 & 0.00 &  NaN & 16  \\\\\n",
       "\t PS   & 0.26 & 0.68 & 0.38 & 56  \\\\\n",
       "\t BS   & 0.00 & 0.00 &  NaN & 31  \\\\\n",
       "\\end{tabular}\n"
      ],
      "text/plain": [
       "  Facies Precision Recall F1   Support\n",
       "1 SS     0.00        NA     NA  0     \n",
       "2 CSiS   0.60      0.50   0.55 98     \n",
       "3 FSiS   0.51      0.54   0.52 80     \n",
       "4 SiSh   0.79      0.72   0.76 58     \n",
       "5 MS     0.02      0.04   0.03 28     \n",
       "6 WS     0.31      0.10   0.16 96     \n",
       "7 D      0.00      0.00    NaN 16     \n",
       "8 PS     0.26      0.68   0.38 56     \n",
       "9 BS     0.00      0.00    NaN 31     "
      ]
     },
     "metadata": {},
     "output_type": "display_data"
    },
    {
     "data": {
      "text/html": [
       "'PART TWO: Adjacent facies classification'"
      ],
      "text/latex": [
       "'PART TWO: Adjacent facies classification'"
      ],
      "text/markdown": [
       "'PART TWO: Adjacent facies classification'"
      ],
      "text/plain": [
       "[1] \"PART TWO: Adjacent facies classification\""
      ]
     },
     "metadata": {},
     "output_type": "display_data"
    },
    {
     "data": {
      "text/html": [
       "'Facies classification accuracy metrics'"
      ],
      "text/latex": [
       "'Facies classification accuracy metrics'"
      ],
      "text/markdown": [
       "'Facies classification accuracy metrics'"
      ],
      "text/plain": [
       "[1] \"Facies classification accuracy metrics\""
      ]
     },
     "metadata": {},
     "output_type": "display_data"
    },
    {
     "name": "stdout",
     "output_type": "stream",
     "text": [
      "          Reference\n",
      "Prediction SS CSiS FSiS SiSh MS WS  D PS BS\n",
      "      SS    0    0    4    0  0  0  0  0  0\n",
      "      CSiS  0   96    0    0  1  1  0  1  0\n",
      "      FSiS  0    0   72    4  1  4  0  6  0\n",
      "      SiSh  0    0    0   44  0  5  0  0  2\n",
      "      MS    0    0    0    0 14  0  0  5  0\n",
      "      WS    0    0    0    5  0 84  0  0  4\n",
      "      D     0    0    0    0  0  0 16  0  0\n",
      "      PS    0    2    4    5 12  0  0 44  0\n",
      "      BS    0    0    0    0  0  2  0  0 25\n",
      "[1] \"Overall F1-score of: 0.77\"\n",
      "[1] \"Accuracy metrics:\"\n"
     ]
    },
    {
     "data": {
      "text/html": [
       "<table>\n",
       "<thead><tr><th scope=col>Facies</th><th scope=col>Precision</th><th scope=col>Recall</th><th scope=col>F1</th><th scope=col>Support</th></tr></thead>\n",
       "<tbody>\n",
       "\t<tr><td>SS  </td><td>0.78</td><td>0.78</td><td>0.78</td><td> 51 </td></tr>\n",
       "\t<tr><td>CSiS</td><td>0.75</td><td>0.74</td><td>0.75</td><td>128 </td></tr>\n",
       "\t<tr><td>FSiS</td><td>0.75</td><td>0.81</td><td>0.78</td><td>107 </td></tr>\n",
       "\t<tr><td>SiSh</td><td>0.68</td><td>0.68</td><td>0.68</td><td> 25 </td></tr>\n",
       "\t<tr><td>MS  </td><td>0.80</td><td>0.65</td><td>0.72</td><td> 37 </td></tr>\n",
       "\t<tr><td>WS  </td><td>0.75</td><td>0.81</td><td>0.78</td><td> 73 </td></tr>\n",
       "\t<tr><td>D   </td><td>0.75</td><td>0.56</td><td>0.64</td><td> 16 </td></tr>\n",
       "\t<tr><td>PS  </td><td>0.83</td><td>0.80</td><td>0.81</td><td> 88 </td></tr>\n",
       "\t<tr><td>BS  </td><td>0.93</td><td>1.00</td><td>0.96</td><td> 26 </td></tr>\n",
       "</tbody>\n",
       "</table>\n"
      ],
      "text/latex": [
       "\\begin{tabular}{r|lllll}\n",
       " Facies & Precision & Recall & F1 & Support\\\\\n",
       "\\hline\n",
       "\t SS   & 0.78 & 0.78 & 0.78 &  51 \\\\\n",
       "\t CSiS & 0.75 & 0.74 & 0.75 & 128 \\\\\n",
       "\t FSiS & 0.75 & 0.81 & 0.78 & 107 \\\\\n",
       "\t SiSh & 0.68 & 0.68 & 0.68 &  25 \\\\\n",
       "\t MS   & 0.80 & 0.65 & 0.72 &  37 \\\\\n",
       "\t WS   & 0.75 & 0.81 & 0.78 &  73 \\\\\n",
       "\t D    & 0.75 & 0.56 & 0.64 &  16 \\\\\n",
       "\t PS   & 0.83 & 0.80 & 0.81 &  88 \\\\\n",
       "\t BS   & 0.93 & 1.00 & 0.96 &  26 \\\\\n",
       "\\end{tabular}\n"
      ],
      "text/plain": [
       "  Facies Precision Recall F1   Support\n",
       "1 SS     0.78      0.78   0.78  51    \n",
       "2 CSiS   0.75      0.74   0.75 128    \n",
       "3 FSiS   0.75      0.81   0.78 107    \n",
       "4 SiSh   0.68      0.68   0.68  25    \n",
       "5 MS     0.80      0.65   0.72  37    \n",
       "6 WS     0.75      0.81   0.78  73    \n",
       "7 D      0.75      0.56   0.64  16    \n",
       "8 PS     0.83      0.80   0.81  88    \n",
       "9 BS     0.93      1.00   0.96  26    "
      ]
     },
     "metadata": {},
     "output_type": "display_data"
    }
   ],
   "source": [
    "# modify the factor levels for facies to be more descriptive\n",
    "levels(blind$Facies)[levels(blind$Facies)==\"1\"] <- \"SS\"\n",
    "levels(blind$Facies)[levels(blind$Facies)==\"2\"]   <- \"CSiS\"\n",
    "levels(blind$Facies)[levels(blind$Facies)==\"3\"]   <- \"FSiS\"\n",
    "levels(blind$Facies)[levels(blind$Facies)==\"4\"]   <- \"SiSh\"\n",
    "levels(blind$Facies)[levels(blind$Facies)==\"5\"]   <- \"MS\"\n",
    "levels(blind$Facies)[levels(blind$Facies)==\"6\"]   <- \"WS\"\n",
    "levels(blind$Facies)[levels(blind$Facies)==\"7\"]   <- \"D\"\n",
    "levels(blind$Facies)[levels(blind$Facies)==\"8\"]   <- \"PS\"\n",
    "levels(blind$Facies)[levels(blind$Facies)==\"9\"]   <- \"BS\"\n",
    "\n",
    "\"PART ONE: Facies classification\"\n",
    "blind_predictions <- predict(tune.out$best.model, newdata=blind[,c(-2,-3,-4)])\n",
    "blind_cm <- confusionMatrix(blind_predictions, blind$Facies)\n",
    "disp_cm(as.matrix(blind_cm[[\"table\"]]))\n",
    "accuracy_metrics(blind_cm, blind)\n",
    "\n",
    "\"PART TWO: Adjacent facies classification\"\n",
    "\"Facies classification accuracy metrics\"\n",
    "blind_adj <- adj_cm_table(as.matrix(blind_cm[[\"table\"]]))\n",
    "disp_cm(blind_adj)\n",
    "accuracy_metrics(cv_cm, x_test)"
   ]
  },
  {
   "cell_type": "markdown",
   "metadata": {},
   "source": [
    "These results are consistent with what we observed in *jpoirier001.ipynb* - an overall F1 score of 0.4 and 0.77 for Facies and Adjacent Facies classification respectively.  \n",
    "\n",
    "### 4.2.1 Support vector machine with nonmarine data  \n",
    "\n",
    "Now let's subset the training data to only include observations with a nonmarine indicator.  From this, I will build a support vector machine model.  We will perform cross-validation again to see if the optimal model parameters are different for this subset of data.  We'll wait to do the adjacent facies classification accuracy analysis once we bring these classifications back together with the marine classifications."
   ]
  },
  {
   "cell_type": "code",
   "execution_count": 54,
   "metadata": {
    "collapsed": false
   },
   "outputs": [
    {
     "data": {
      "text/plain": [
       "\n",
       "Parameter tuning of 'svm':\n",
       "\n",
       "- sampling method: 10-fold cross validation \n",
       "\n",
       "- best parameters:\n",
       " cost gamma\n",
       "    5     1\n",
       "\n",
       "- best performance: 0.1908166 \n",
       "\n",
       "- Detailed performance results:\n",
       "    cost gamma     error dispersion\n",
       "1  1e-02 1e-04 0.5512343 0.03163411\n",
       "2  1e+00 1e-04 0.5512343 0.03163411\n",
       "3  5e+00 1e-04 0.5309036 0.02981048\n",
       "4  1e+01 1e-04 0.5017233 0.04100947\n",
       "5  2e+01 1e-04 0.4513973 0.04280660\n",
       "6  5e+01 1e-04 0.3895668 0.04841838\n",
       "7  1e+02 1e-04 0.3922683 0.04295195\n",
       "8  1e+03 1e-04 0.3453656 0.03622960\n",
       "9  5e+03 1e-04 0.3480515 0.03436988\n",
       "10 1e+04 1e-04 0.3515991 0.03959831\n",
       "11 1e-02 1e-03 0.5512343 0.03163411\n",
       "12 1e+00 1e-03 0.5026083 0.03988109\n",
       "13 5e+00 1e-03 0.3895591 0.04593555\n",
       "14 1e+01 1e-03 0.3887285 0.04055643\n",
       "15 2e+01 1e-03 0.3816410 0.04816919\n",
       "16 5e+01 1e-03 0.3533458 0.03854425\n",
       "17 1e+02 1e-03 0.3506986 0.03504697\n",
       "18 1e+03 1e-03 0.3374631 0.03777764\n",
       "19 5e+03 1e-03 0.3242121 0.03736446\n",
       "20 1e+04 1e-03 0.3250893 0.03928614\n",
       "21 1e-02 1e-02 0.5512343 0.03163411\n",
       "22 1e+00 1e-02 0.3692750 0.03898310\n",
       "23 5e+00 1e-02 0.3418724 0.03865736\n",
       "24 1e+01 1e-02 0.3445117 0.03786381\n",
       "25 2e+01 1e-02 0.3374554 0.03431208\n",
       "26 5e+01 1e-02 0.3233271 0.04113683\n",
       "27 1e+02 1e-02 0.3206645 0.03950213\n",
       "28 1e+03 1e-02 0.2870828 0.02447096\n",
       "29 5e+03 1e-02 0.2747011 0.02892338\n",
       "30 1e+04 1e-02 0.2720618 0.02460487\n",
       "31 1e-02 1e+00 0.5512343 0.03163411\n",
       "32 1e+00 1e+00 0.2084226 0.04889297\n",
       "33 5e+00 1e+00 0.1908166 0.03394943\n",
       "34 1e+01 1e+00 0.1969880 0.03812521\n",
       "35 2e+01 1e+00 0.2040677 0.04054369\n",
       "36 5e+01 1e+00 0.2084847 0.04458786\n",
       "37 1e+02 1e+00 0.2208508 0.03885730\n",
       "38 1e+03 1e+00 0.2217358 0.04092815\n",
       "39 5e+03 1e+00 0.2217358 0.04092815\n",
       "40 1e+04 1e+00 0.2217358 0.04092815\n",
       "41 1e-02 1e+01 0.5512343 0.03163411\n",
       "42 1e+00 1e+01 0.3612405 0.03704766\n",
       "43 5e+00 1e+01 0.3373544 0.04673191\n",
       "44 1e+01 1e+01 0.3373544 0.04673191\n",
       "45 2e+01 1e+01 0.3373544 0.04673191\n",
       "46 5e+01 1e+01 0.3373544 0.04673191\n",
       "47 1e+02 1e+01 0.3373544 0.04673191\n",
       "48 1e+03 1e+01 0.3373544 0.04673191\n",
       "49 5e+03 1e+01 0.3373544 0.04673191\n",
       "50 1e+04 1e+01 0.3373544 0.04673191\n"
      ]
     },
     "metadata": {},
     "output_type": "display_data"
    },
    {
     "data": {
      "text/html": [
       "'Facies classification confusion matrix:'"
      ],
      "text/latex": [
       "'Facies classification confusion matrix:'"
      ],
      "text/markdown": [
       "'Facies classification confusion matrix:'"
      ],
      "text/plain": [
       "[1] \"Facies classification confusion matrix:\""
      ]
     },
     "metadata": {},
     "output_type": "display_data"
    },
    {
     "name": "stdout",
     "output_type": "stream",
     "text": [
      "          Reference\n",
      "Prediction  SS CSiS FSiS\n",
      "      SS    35    4    0\n",
      "      CSiS  15  104   16\n",
      "      FSiS   1   18   87\n"
     ]
    }
   ],
   "source": [
    "# subset data - drop \"marine\" levels and also no longer train using NM_M channel since we only have one value\n",
    "nm_feature_vectors <- droplevels(feature_vectors[feature_vectors$NM_M == \"Nonmarine\" &\n",
    "                                      feature_vectors$Facies %in% c(\"SS\", \"CSiS\", \"FSiS\"),-7])\n",
    "\n",
    "# split into training and cross-validation\n",
    "set.seed(3124)\n",
    "nm_trainIndex <- createDataPartition(nm_feature_vectors$Facies, p=.8, list=F, times=1)\n",
    "nm_x_train <- nm_feature_vectors[nm_trainIndex,]\n",
    "nm_x_test <- nm_feature_vectors[-nm_trainIndex,]\n",
    "\n",
    "# calculates models for a variety of hyperparameters - this will take a few minutes\n",
    "nm_tune.out <- tune(svm, Facies ~ ., data=nm_x_train, \n",
    "                 kernel=\"radial\",\n",
    "                 ranges=list(cost=c(.01,1,5,10,20,50,100,1000,5000,10000),\n",
    "                            gamma=c(.0001,.001,.01,1,10)))\n",
    "summary(nm_tune.out)\n",
    "\n",
    "# predict facies using the best model\n",
    "nm_cv_predictions <- predict(nm_tune.out$best.model, newdata=nm_x_test)\n",
    "\n",
    "## PART ONE: Confusion matrix for facies classification\n",
    "\"Facies classification confusion matrix:\"\n",
    "nm_cv_cm <- confusionMatrix(nm_cv_predictions, nm_x_test$Facies)\n",
    "print(as.matrix(nm_cv_cm[[\"table\"]]))"
   ]
  },
  {
   "cell_type": "markdown",
   "metadata": {},
   "source": [
    "If we recall *jpoirier001.ipynb*, the cross-validation showed best parameters of cost 10 and gamma 1.  We observe here best parameters of cost 5 and gamma 1 (although, the error levels for each are very close).  It is noteworthy that our best performance has improved from 0.2475297 in *jpoirier001.ipynb* to 0.1908166 for nonmarine classifications.  What about marine?\n",
    "\n",
    "### 4.2.2 Support vector machine with marine data  \n",
    "\n",
    "Now let's subset the training data to only include observations with a marine indicator. From this, I will build a support vector machine model. We will perform cross-validation again to see if the optimal model parameters are different for this subset of data."
   ]
  },
  {
   "cell_type": "code",
   "execution_count": 55,
   "metadata": {
    "collapsed": false
   },
   "outputs": [
    {
     "data": {
      "text/plain": [
       "\n",
       "Parameter tuning of 'svm':\n",
       "\n",
       "- sampling method: 10-fold cross validation \n",
       "\n",
       "- best parameters:\n",
       " cost gamma\n",
       "    5     1\n",
       "\n",
       "- best performance: 0.2506868 \n",
       "\n",
       "- Detailed performance results:\n",
       "    cost gamma     error dispersion\n",
       "1  1e-02 1e-04 0.6708242 0.03281789\n",
       "2  1e+00 1e-04 0.6708242 0.03281789\n",
       "3  5e+00 1e-04 0.6708242 0.03281789\n",
       "4  1e+01 1e-04 0.6315476 0.05430612\n",
       "5  2e+01 1e-04 0.5453938 0.05752132\n",
       "6  5e+01 1e-04 0.5367582 0.06444069\n",
       "7  1e+02 1e-04 0.4898810 0.06566294\n",
       "8  1e+03 1e-04 0.4659707 0.06404152\n",
       "9  5e+03 1e-04 0.4611905 0.06686358\n",
       "10 1e+04 1e-04 0.4621520 0.06554248\n",
       "11 1e-02 1e-03 0.6708242 0.03281789\n",
       "12 1e+00 1e-03 0.6334615 0.05409037\n",
       "13 5e+00 1e-03 0.5367674 0.06357036\n",
       "14 1e+01 1e-03 0.4908333 0.06563223\n",
       "15 2e+01 1e-03 0.4755586 0.06708216\n",
       "16 5e+01 1e-03 0.4678938 0.06955061\n",
       "17 1e+02 1e-03 0.4621154 0.06885379\n",
       "18 1e+03 1e-03 0.4563645 0.05971992\n",
       "19 5e+03 1e-03 0.4458425 0.05120021\n",
       "20 1e+04 1e-03 0.4525641 0.05573591\n",
       "21 1e-02 1e-02 0.6708242 0.03281789\n",
       "22 1e+00 1e-02 0.4841392 0.06235293\n",
       "23 5e+00 1e-02 0.4602289 0.06401126\n",
       "24 1e+01 1e-02 0.4583150 0.05748891\n",
       "25 2e+01 1e-02 0.4487546 0.06197430\n",
       "26 5e+01 1e-02 0.4439469 0.05503038\n",
       "27 1e+02 1e-02 0.4372527 0.05466984\n",
       "28 1e+03 1e-02 0.3885073 0.05481514\n",
       "29 5e+03 1e-02 0.3473810 0.05054735\n",
       "30 1e+04 1e-02 0.3367949 0.04861741\n",
       "31 1e-02 1e+00 0.6708242 0.03281789\n",
       "32 1e+00 1e+00 0.2775366 0.05516705\n",
       "33 5e+00 1e+00 0.2506868 0.03271017\n",
       "34 1e+01 1e+00 0.2583059 0.03280258\n",
       "35 2e+01 1e+00 0.2602656 0.02811034\n",
       "36 5e+01 1e+00 0.2650275 0.03352356\n",
       "37 1e+02 1e+00 0.2726923 0.03482104\n",
       "38 1e+03 1e+00 0.2784432 0.03288058\n",
       "39 5e+03 1e+00 0.2784432 0.03288058\n",
       "40 1e+04 1e+00 0.2784432 0.03288058\n",
       "41 1e-02 1e+01 0.6708242 0.03281789\n",
       "42 1e+00 1e+01 0.4258425 0.02893821\n",
       "43 5e+00 1e+01 0.3837821 0.03667919\n",
       "44 1e+01 1e+01 0.3837821 0.03667919\n",
       "45 2e+01 1e+01 0.3837821 0.03667919\n",
       "46 5e+01 1e+01 0.3837821 0.03667919\n",
       "47 1e+02 1e+01 0.3837821 0.03667919\n",
       "48 1e+03 1e+01 0.3837821 0.03667919\n",
       "49 5e+03 1e+01 0.3837821 0.03667919\n",
       "50 1e+04 1e+01 0.3837821 0.03667919\n"
      ]
     },
     "metadata": {},
     "output_type": "display_data"
    },
    {
     "data": {
      "text/html": [
       "'Facies classification confusion matrix:'"
      ],
      "text/latex": [
       "'Facies classification confusion matrix:'"
      ],
      "text/markdown": [
       "'Facies classification confusion matrix:'"
      ],
      "text/plain": [
       "[1] \"Facies classification confusion matrix:\""
      ]
     },
     "metadata": {},
     "output_type": "display_data"
    },
    {
     "name": "stdout",
     "output_type": "stream",
     "text": [
      "          Reference\n",
      "Prediction SiSh MS WS  D PS BS\n",
      "      SiSh   19  5  3  0  0  0\n",
      "      MS      0 14  4  0  3  0\n",
      "      WS      0  6 48  0 12  0\n",
      "      D       0  1  1 11  2  1\n",
      "      PS      5  9 14  4 68  0\n",
      "      BS      0  0  2  1  1 25\n"
     ]
    }
   ],
   "source": [
    "# subset data - drop \"nonmarine\" levels and also no longer train using NM_M channel since we only have one value\n",
    "m_feature_vectors <- droplevels(feature_vectors[feature_vectors$NM_M == \"Marine\" &\n",
    "                                      feature_vectors$Facies %in% c(\"SiSh\", \"MS\", \"WS\", \"D\", \"PS\", \"BS\"),-7])\n",
    "\n",
    "# split into training and cross-validation\n",
    "set.seed(3124)\n",
    "m_trainIndex <- createDataPartition(m_feature_vectors$Facies, p=.8, list=F, times=1)\n",
    "m_x_train <- m_feature_vectors[m_trainIndex,]\n",
    "m_x_test <- m_feature_vectors[-m_trainIndex,]\n",
    "\n",
    "# calculates models for a variety of hyperparameters - this will take a few minutes\n",
    "m_tune.out <- tune(svm, Facies ~ ., data=m_x_train, \n",
    "                 kernel=\"radial\",\n",
    "                 ranges=list(cost=c(.01,1,5,10,20,50,100,1000,5000,10000),\n",
    "                            gamma=c(.0001,.001,.01,1,10)))\n",
    "summary(m_tune.out)\n",
    "\n",
    "# predict facies using the best model\n",
    "m_cv_predictions <- predict(m_tune.out$best.model, newdata=m_x_test)\n",
    "\n",
    "## PART ONE: Confusion matrix for facies classification\n",
    "\"Facies classification confusion matrix:\"\n",
    "m_cv_cm <- confusionMatrix(m_cv_predictions, m_x_test$Facies)\n",
    "print(as.matrix(m_cv_cm[[\"table\"]]))"
   ]
  },
  {
   "cell_type": "markdown",
   "metadata": {},
   "source": [
    "For marine facies, our error level has actually gone up to 0.2506868.  Realistically, some k-folds cross-validation here could give us a better picture of error levels.  But for now, let's see what happens when we bring it all together!\n",
    "\n",
    "### 4.2.3 Bringing nonmarine and marine classifications together  "
   ]
  }
 ],
 "metadata": {
  "kernelspec": {
   "display_name": "R 3.2",
   "language": "R",
   "name": "ir32"
  },
  "language_info": {
   "codemirror_mode": "r",
   "file_extension": ".r",
   "mimetype": "text/x-r-source",
   "name": "R",
   "pygments_lexer": "r",
   "version": "3.2.4"
  }
 },
 "nbformat": 4,
 "nbformat_minor": 0
}
