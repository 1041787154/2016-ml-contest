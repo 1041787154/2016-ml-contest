{
 "cells": [
  {
   "cell_type": "code",
   "execution_count": 22,
   "metadata": {
    "collapsed": false,
    "nbpresent": {
     "id": "2261a709-55fd-4514-ba87-28c9f7c4cc11"
    }
   },
   "outputs": [],
   "source": [
    "%matplotlib inline\n",
    "import numpy as np\n",
    "import pandas as pd\n",
    "\n",
    "from sklearn import preprocessing\n",
    "from sklearn.metrics import f1_score, accuracy_score, make_scorer\n",
    "from sklearn.model_selection import LeaveOneGroupOut"
   ]
  },
  {
   "cell_type": "markdown",
   "metadata": {},
   "source": [
    "### Loadind data"
   ]
  },
  {
   "cell_type": "code",
   "execution_count": 23,
   "metadata": {
    "collapsed": false,
    "nbpresent": {
     "id": "f6508962-290f-4de7-b066-6d22401f0a1f"
    }
   },
   "outputs": [],
   "source": [
    "training_data = pd.read_csv(\"training_data.csv\")\n",
    "training_data['Well Name'] = training_data['Well Name'].astype('category')\n",
    "training_data['Formation'] = training_data['Formation'].astype('category')\n",
    "\n",
    "blind = pd.read_csv('validation_data_nofacies.csv')\n",
    "blind['Well Name'] = blind['Well Name'].astype('category')\n",
    "blind['Formation'] = blind['Formation'].astype('category')"
   ]
  },
  {
   "cell_type": "markdown",
   "metadata": {},
   "source": [
    "### Feature engineering"
   ]
  },
  {
   "cell_type": "code",
   "execution_count": 24,
   "metadata": {
    "collapsed": false
   },
   "outputs": [],
   "source": [
    "# training data\n",
    "\n",
    "above = []\n",
    "below = []\n",
    "\n",
    "cols = ['GR', 'ILD_log10', 'DeltaPHI', 'PHIND', 'PE', 'NM_M', 'RELPOS']\n",
    "\n",
    "for i, group in training_data.groupby('Well Name'):\n",
    "    df = group.sort_values('Depth')\n",
    "    dfa = df.shift(-1).fillna(method='ffill')\n",
    "    dfb = df.shift(1).fillna(method='bfill')\n",
    "        \n",
    "    above.append(dfa[cols])\n",
    "    below.append(dfb[cols])\n",
    "\n",
    "above_df = pd.concat(above)\n",
    "below_df = pd.concat(below)\n",
    "\n",
    "above_df.columns = ['above_'+ column for column in above_df.columns]\n",
    "below_df.columns = ['below_'+ column for column in below_df.columns]\n",
    "\n",
    "training_data = pd.concat((training_data, above_df, below_df), axis=1)\n",
    "    \n",
    "y = training_data['Facies'].values\n",
    "X = training_data.drop(['Formation', 'Well Name','Facies'], axis=1)\n",
    "scaler = preprocessing.StandardScaler().fit(X)\n",
    "X = scaler.transform(X)\n"
   ]
  },
  {
   "cell_type": "code",
   "execution_count": 25,
   "metadata": {
    "collapsed": false
   },
   "outputs": [],
   "source": [
    "# validation data\n",
    "\n",
    "above = []\n",
    "below = []\n",
    "\n",
    "cols = ['GR', 'ILD_log10', 'DeltaPHI', 'PHIND', 'PE', 'NM_M', 'RELPOS']\n",
    "\n",
    "for i, group in blind.groupby('Well Name'):\n",
    "    df = group.sort_values('Depth')\n",
    "    dfa = df.shift(-1).fillna(method='ffill')\n",
    "    dfb = df.shift(1).fillna(method='bfill')\n",
    "        \n",
    "    above.append(dfa[cols])\n",
    "    below.append(dfb[cols])\n",
    "\n",
    "above_df = pd.concat(above)\n",
    "below_df = pd.concat(below)\n",
    "\n",
    "above_df.columns = ['above_'+ column for column in above_df.columns]\n",
    "below_df.columns = ['below_'+ column for column in below_df.columns]\n",
    "\n",
    "blind = pd.concat((blind, above_df, below_df), axis=1)\n",
    "\n",
    "X_blind = np.array(blind.drop(['Formation', 'Well Name'], axis=1)) \n",
    "X_blind = scaler.transform(X_blind) "
   ]
  },
  {
   "cell_type": "markdown",
   "metadata": {
    "collapsed": true
   },
   "source": [
    "### Support Vector Machine"
   ]
  },
  {
   "cell_type": "code",
   "execution_count": 26,
   "metadata": {
    "collapsed": false
   },
   "outputs": [],
   "source": [
    "from sklearn import svm\n",
    "SV_classifier = svm.SVC(C = 100, cache_size=2400, class_weight=None, coef0=0.0,\n",
    "  decision_function_shape=None, degree=3, gamma=0.01, kernel='rbf',\n",
    "  max_iter=-1, probability=True, random_state=49, shrinking=True,\n",
    "  tol=0.001, verbose=False)"
   ]
  },
  {
   "cell_type": "markdown",
   "metadata": {},
   "source": [
    "### Random Forest"
   ]
  },
  {
   "cell_type": "code",
   "execution_count": 27,
   "metadata": {
    "collapsed": true
   },
   "outputs": [],
   "source": [
    "from sklearn.ensemble import RandomForestClassifier as rfc\n",
    "RF_classifier = rfc(n_estimators = 200, max_depth=None, min_samples_split=2, random_state=10)"
   ]
  },
  {
   "cell_type": "markdown",
   "metadata": {},
   "source": [
    "### AdaBoost"
   ]
  },
  {
   "cell_type": "code",
   "execution_count": 28,
   "metadata": {
    "collapsed": false
   },
   "outputs": [],
   "source": [
    "from sklearn.ensemble import AdaBoostClassifier as abc\n",
    "AB_classifier = abc(rfc(), n_estimators=200, learning_rate=0.01, \n",
    "                    random_state=0, algorithm='SAMME.R')"
   ]
  },
  {
   "cell_type": "markdown",
   "metadata": {},
   "source": [
    "### Naive-Bayes"
   ]
  },
  {
   "cell_type": "code",
   "execution_count": 29,
   "metadata": {
    "collapsed": true
   },
   "outputs": [],
   "source": [
    "from sklearn.naive_bayes import GaussianNB as nbc\n",
    "NB_classifier = nbc()"
   ]
  },
  {
   "cell_type": "markdown",
   "metadata": {},
   "source": [
    "### Ensemble of SVM, RF, NB and AB classifiers"
   ]
  },
  {
   "cell_type": "code",
   "execution_count": 30,
   "metadata": {
    "collapsed": false
   },
   "outputs": [],
   "source": [
    "from sklearn.ensemble import VotingClassifier\n",
    "V_classifier = VotingClassifier(estimators=[('SVC', SV_classifier), ('RFC', RF_classifier), \n",
    "                                            ('NBC', NB_classifier), ('ABC', AB_classifier)], \n",
    "                                voting='soft', weights=[0.20,0.35,0.05,0.4])\n"
   ]
  },
  {
   "cell_type": "code",
   "execution_count": 31,
   "metadata": {
    "collapsed": false
   },
   "outputs": [
    {
     "name": "stdout",
     "output_type": "stream",
     "text": [
      "     CHURCHMAN BIBLE  0.579\n",
      "      CROSS H CATTLE  0.377\n",
      "            LUKE G U  0.516\n",
      "               NEWBY  0.441\n",
      "               NOLAN  0.508\n",
      "          Recruit F9  0.882\n",
      "             SHANKLE  0.512\n",
      "           SHRIMPLIN  0.620\n",
      "-Average leave-one-well-out F1 Score: 0.554540\n",
      " *** methodogy and code borrowed from MandMs *** \n"
     ]
    }
   ],
   "source": [
    "f1_vc = []\n",
    "\n",
    "wells = training_data[\"Well Name\"].values\n",
    "logo = LeaveOneGroupOut()\n",
    "\n",
    "for train, test in logo.split(X, y, groups=wells):\n",
    "    well_name = wells[test[0]]\n",
    "    V_classifier.fit(X[train], y[train])\n",
    "    pred_vc = V_classifier.predict(X[test])\n",
    "    sc = f1_score(y[test], pred_vc, labels = np.arange(10), average = 'micro')\n",
    "    print(\"{:>20s}  {:.3f}\".format(well_name, sc))\n",
    "    f1_vc.append(sc)\n",
    "    \n",
    "print \"-Average leave-one-well-out F1 Score: %6f\" % (sum(f1_vc)/(1.0*(len(f1_vc))))\n",
    "print \" *** methodogy and code borrowed from MandMs *** \""
   ]
  },
  {
   "cell_type": "markdown",
   "metadata": {},
   "source": [
    "### Predicting"
   ]
  },
  {
   "cell_type": "code",
   "execution_count": null,
   "metadata": {
    "collapsed": true
   },
   "outputs": [],
   "source": [
    "y_blind = V_classifier.fit(X, y).predict(X_blind) \n",
    "blind['Facies'] = y_blind\n",
    "blind.to_csv('Predicted_Facies.csv')"
   ]
  },
  {
   "cell_type": "code",
   "execution_count": null,
   "metadata": {
    "collapsed": true
   },
   "outputs": [],
   "source": []
  }
 ],
 "metadata": {
  "anaconda-cloud": {},
  "kernelspec": {
   "display_name": "Python [default]",
   "language": "python",
   "name": "python2"
  },
  "language_info": {
   "codemirror_mode": {
    "name": "ipython",
    "version": 2
   },
   "file_extension": ".py",
   "mimetype": "text/x-python",
   "name": "python",
   "nbconvert_exporter": "python",
   "pygments_lexer": "ipython2",
   "version": "2.7.12"
  },
  "nbpresent": {
   "slides": {
    "0b129bc3-41f8-4c61-9f35-866115fa021c": {
     "id": "0b129bc3-41f8-4c61-9f35-866115fa021c",
     "prev": "d9d33253-1e34-4066-a6ac-fa5f3d2c92ab",
     "regions": {
      "a26d917b-eee5-4525-bd49-6f85e17c0215": {
       "attrs": {
        "height": 0.8,
        "width": 0.8,
        "x": 0.1,
        "y": 0.1
       },
       "content": {
        "cell": "2a442e85-669f-4565-900e-d22f4f799363",
        "part": "whole"
       },
       "id": "a26d917b-eee5-4525-bd49-6f85e17c0215"
      }
     }
    },
    "238411a8-be42-463f-a71b-5ffdda1665c4": {
     "id": "238411a8-be42-463f-a71b-5ffdda1665c4",
     "prev": "0b129bc3-41f8-4c61-9f35-866115fa021c",
     "regions": {
      "035186ea-1233-4dd9-b621-55bae6b481ad": {
       "attrs": {
        "height": 0.8,
        "width": 0.8,
        "x": 0.1,
        "y": 0.1
       },
       "content": {
        "cell": "1b97916a-fdd3-4093-8096-8f157aae2e74",
        "part": "whole"
       },
       "id": "035186ea-1233-4dd9-b621-55bae6b481ad"
      }
     }
    },
    "3bb14079-43f7-4644-a8b9-656a87ea3c6d": {
     "id": "3bb14079-43f7-4644-a8b9-656a87ea3c6d",
     "prev": "4d5043a9-33c6-49e8-a160-e3ef20ea13c0",
     "regions": {
      "f7283079-3f9e-4240-9099-4dee54df5841": {
       "attrs": {
        "height": 0.8,
        "width": 0.8,
        "x": 0.1,
        "y": 0.1
       },
       "content": {
        "cell": "34876b7e-ceb7-4544-b483-cb3718124f3f",
        "part": "whole"
       },
       "id": "f7283079-3f9e-4240-9099-4dee54df5841"
      }
     }
    },
    "431dae09-2587-4e4a-833e-3cb07c2eb382": {
     "id": "431dae09-2587-4e4a-833e-3cb07c2eb382",
     "prev": "79e9a6e6-fc14-4285-b545-9e9b373067a9",
     "regions": {
      "624c0bc4-d54e-4594-9d0f-40f4d5a10f98": {
       "attrs": {
        "height": 0.8,
        "width": 0.8,
        "x": 0.1,
        "y": 0.1
       },
       "content": {
        "cell": "545fb4f8-9a72-452c-9c1e-9f9432ce8dce",
        "part": "whole"
       },
       "id": "624c0bc4-d54e-4594-9d0f-40f4d5a10f98"
      }
     }
    },
    "4d5043a9-33c6-49e8-a160-e3ef20ea13c0": {
     "id": "4d5043a9-33c6-49e8-a160-e3ef20ea13c0",
     "prev": "565fc77e-fa2f-448d-a08b-585e0f0d58dd",
     "regions": {
      "ddfece19-b442-4607-b0e7-1819b0afa959": {
       "attrs": {
        "height": 0.8,
        "width": 0.8,
        "x": 0.1,
        "y": 0.1
       },
       "content": {
        "cell": "6dfe156a-100e-40de-9213-734efc33735d",
        "part": "whole"
       },
       "id": "ddfece19-b442-4607-b0e7-1819b0afa959"
      }
     }
    },
    "565fc77e-fa2f-448d-a08b-585e0f0d58dd": {
     "id": "565fc77e-fa2f-448d-a08b-585e0f0d58dd",
     "prev": "85f87143-1168-45e8-9a44-76d6b4b29d4e",
     "regions": {
      "f09ca608-8803-499e-a7db-fe8c34ecdbf7": {
       "attrs": {
        "height": 0.8,
        "width": 0.8,
        "x": 0.1,
        "y": 0.1
       },
       "content": {
        "cell": "f6508962-290f-4de7-b066-6d22401f0a1f",
        "part": "whole"
       },
       "id": "f09ca608-8803-499e-a7db-fe8c34ecdbf7"
      }
     }
    },
    "79e9a6e6-fc14-4285-b545-9e9b373067a9": {
     "id": "79e9a6e6-fc14-4285-b545-9e9b373067a9",
     "prev": "238411a8-be42-463f-a71b-5ffdda1665c4",
     "regions": {
      "d4704e45-4fc8-4480-929e-e7486e9de8c3": {
       "attrs": {
        "height": 0.8,
        "width": 0.8,
        "x": 0.1,
        "y": 0.1
       },
       "content": {
        "cell": "868079dd-6741-47f2-8863-698726e8c814",
        "part": "whole"
       },
       "id": "d4704e45-4fc8-4480-929e-e7486e9de8c3"
      }
     }
    },
    "85f87143-1168-45e8-9a44-76d6b4b29d4e": {
     "id": "85f87143-1168-45e8-9a44-76d6b4b29d4e",
     "prev": null,
     "regions": {
      "9171ee26-2d3b-4591-8832-085373a96e92": {
       "attrs": {
        "height": 0.8,
        "width": 0.8,
        "x": 0.1,
        "y": 0.1
       },
       "content": {
        "cell": "2261a709-55fd-4514-ba87-28c9f7c4cc11",
        "part": "whole"
       },
       "id": "9171ee26-2d3b-4591-8832-085373a96e92"
      }
     }
    },
    "a9964e59-52fa-43fe-bfa7-9eca8c29001d": {
     "id": "a9964e59-52fa-43fe-bfa7-9eca8c29001d",
     "prev": "ed233362-dc45-4c0d-b9ce-ae84b2885bd9",
     "regions": {
      "d5c29455-ce86-44b3-86c3-66f498ac39d5": {
       "attrs": {
        "height": 0.8,
        "width": 0.8,
        "x": 0.1,
        "y": 0.1
       },
       "content": {
        "cell": "7ab7e331-13d9-4369-805d-f97d1aeed5f8",
        "part": "whole"
       },
       "id": "d5c29455-ce86-44b3-86c3-66f498ac39d5"
      }
     }
    },
    "d9d33253-1e34-4066-a6ac-fa5f3d2c92ab": {
     "id": "d9d33253-1e34-4066-a6ac-fa5f3d2c92ab",
     "prev": "a9964e59-52fa-43fe-bfa7-9eca8c29001d",
     "regions": {
      "33ab9fd1-0bd6-42c7-af2e-b83c5fcc6201": {
       "attrs": {
        "height": 0.8,
        "width": 0.8,
        "x": 0.1,
        "y": 0.1
       },
       "content": {
        "cell": "aa00059c-10a7-47e9-ab6b-5c3ca15c43ed",
        "part": "whole"
       },
       "id": "33ab9fd1-0bd6-42c7-af2e-b83c5fcc6201"
      }
     }
    },
    "ed233362-dc45-4c0d-b9ce-ae84b2885bd9": {
     "id": "ed233362-dc45-4c0d-b9ce-ae84b2885bd9",
     "prev": "3bb14079-43f7-4644-a8b9-656a87ea3c6d",
     "regions": {
      "9fb1eef7-94f9-4b18-aa41-447cff48f0b0": {
       "attrs": {
        "height": 0.8,
        "width": 0.8,
        "x": 0.1,
        "y": 0.1
       },
       "content": {
        "cell": "7aef66ec-317e-4205-aff4-f0757d1b970e",
        "part": "whole"
       },
       "id": "9fb1eef7-94f9-4b18-aa41-447cff48f0b0"
      }
     }
    }
   },
   "themes": {}
  }
 },
 "nbformat": 4,
 "nbformat_minor": 0
}
